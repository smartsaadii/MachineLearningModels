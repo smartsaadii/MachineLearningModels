{
 "cells": [
  {
   "cell_type": "markdown",
   "metadata": {
    "id": "9eHdWyMjLgr5"
   },
   "source": [
    "# **MACHINE LEARNING PROJECT IMPLEMENTATION**"
   ]
  },
  {
   "cell_type": "markdown",
   "metadata": {
    "id": "WhmS6Wp9GmrI"
   },
   "source": [
    "## **INTERNET FIREWALL DATA**"
   ]
  },
  {
   "cell_type": "markdown",
   "metadata": {
    "id": "90b0zMZNLzlR"
   },
   "source": [
    "## **Presented By: Engr. Saad**\n",
    "## **Roll Number:**  **-----**\n"
   ]
  },
  {
   "cell_type": "markdown",
   "metadata": {
    "id": "hLRXJwMbL72B"
   },
   "source": [
    "## **IMPORTING LIBRARIES**"
   ]
  },
  {
   "cell_type": "code",
   "execution_count": 1,
   "metadata": {},
   "outputs": [
    {
     "name": "stdout",
     "output_type": "stream",
     "text": [
      "Requirement already satisfied: pandas-profiling in c:\\users\\engrs\\anaconda3\\lib\\site-packages (3.6.6)\n",
      "Requirement already satisfied: ydata-profiling in c:\\users\\engrs\\anaconda3\\lib\\site-packages (from pandas-profiling) (4.1.0)\n",
      "Requirement already satisfied: imagehash==4.3.1 in c:\\users\\engrs\\anaconda3\\lib\\site-packages (from ydata-profiling->pandas-profiling) (4.3.1)\n",
      "Requirement already satisfied: matplotlib<3.7,>=3.2 in c:\\users\\engrs\\anaconda3\\lib\\site-packages (from ydata-profiling->pandas-profiling) (3.5.2)\n",
      "Requirement already satisfied: multimethod<1.10,>=1.4 in c:\\users\\engrs\\anaconda3\\lib\\site-packages (from ydata-profiling->pandas-profiling) (1.9.1)\n",
      "Requirement already satisfied: visions[type_image_path]==0.7.5 in c:\\users\\engrs\\anaconda3\\lib\\site-packages (from ydata-profiling->pandas-profiling) (0.7.5)\n",
      "Requirement already satisfied: statsmodels<0.14,>=0.13.2 in c:\\users\\engrs\\anaconda3\\lib\\site-packages (from ydata-profiling->pandas-profiling) (0.13.2)\n",
      "Requirement already satisfied: scipy<1.10,>=1.4.1 in c:\\users\\engrs\\anaconda3\\lib\\site-packages (from ydata-profiling->pandas-profiling) (1.9.1)\n",
      "Requirement already satisfied: typeguard<2.14,>=2.13.2 in c:\\users\\engrs\\anaconda3\\lib\\site-packages (from ydata-profiling->pandas-profiling) (2.13.3)\n",
      "Requirement already satisfied: htmlmin==0.1.12 in c:\\users\\engrs\\anaconda3\\lib\\site-packages (from ydata-profiling->pandas-profiling) (0.1.12)\n",
      "Requirement already satisfied: pandas!=1.4.0,<1.6,>1.1 in c:\\users\\engrs\\anaconda3\\lib\\site-packages (from ydata-profiling->pandas-profiling) (1.4.4)\n",
      "Requirement already satisfied: phik<0.13,>=0.11.1 in c:\\users\\engrs\\anaconda3\\lib\\site-packages (from ydata-profiling->pandas-profiling) (0.12.3)\n",
      "Requirement already satisfied: PyYAML<6.1,>=5.0.0 in c:\\users\\engrs\\anaconda3\\lib\\site-packages (from ydata-profiling->pandas-profiling) (6.0)\n",
      "Requirement already satisfied: jinja2<3.2,>=2.11.1 in c:\\users\\engrs\\anaconda3\\lib\\site-packages (from ydata-profiling->pandas-profiling) (2.11.3)\n",
      "Requirement already satisfied: seaborn<0.13,>=0.10.1 in c:\\users\\engrs\\anaconda3\\lib\\site-packages (from ydata-profiling->pandas-profiling) (0.11.2)\n",
      "Requirement already satisfied: requests<2.29,>=2.24.0 in c:\\users\\engrs\\anaconda3\\lib\\site-packages (from ydata-profiling->pandas-profiling) (2.28.1)\n",
      "Requirement already satisfied: pydantic<1.11,>=1.8.1 in c:\\users\\engrs\\anaconda3\\lib\\site-packages (from ydata-profiling->pandas-profiling) (1.10.6)\n",
      "Requirement already satisfied: numpy<1.24,>=1.16.0 in c:\\users\\engrs\\anaconda3\\lib\\site-packages (from ydata-profiling->pandas-profiling) (1.21.5)\n",
      "Requirement already satisfied: tqdm<4.65,>=4.48.2 in c:\\users\\engrs\\anaconda3\\lib\\site-packages (from ydata-profiling->pandas-profiling) (4.64.1)\n",
      "Requirement already satisfied: pillow in c:\\users\\engrs\\anaconda3\\lib\\site-packages (from imagehash==4.3.1->ydata-profiling->pandas-profiling) (9.2.0)\n",
      "Requirement already satisfied: PyWavelets in c:\\users\\engrs\\anaconda3\\lib\\site-packages (from imagehash==4.3.1->ydata-profiling->pandas-profiling) (1.3.0)\n",
      "Requirement already satisfied: networkx>=2.4 in c:\\users\\engrs\\anaconda3\\lib\\site-packages (from visions[type_image_path]==0.7.5->ydata-profiling->pandas-profiling) (2.8.4)\n",
      "Requirement already satisfied: tangled-up-in-unicode>=0.0.4 in c:\\users\\engrs\\anaconda3\\lib\\site-packages (from visions[type_image_path]==0.7.5->ydata-profiling->pandas-profiling) (0.2.0)\n",
      "Requirement already satisfied: attrs>=19.3.0 in c:\\users\\engrs\\anaconda3\\lib\\site-packages (from visions[type_image_path]==0.7.5->ydata-profiling->pandas-profiling) (21.4.0)\n",
      "Requirement already satisfied: MarkupSafe>=0.23 in c:\\users\\engrs\\anaconda3\\lib\\site-packages (from jinja2<3.2,>=2.11.1->ydata-profiling->pandas-profiling) (2.0.1)\n",
      "Requirement already satisfied: fonttools>=4.22.0 in c:\\users\\engrs\\anaconda3\\lib\\site-packages (from matplotlib<3.7,>=3.2->ydata-profiling->pandas-profiling) (4.25.0)\n",
      "Requirement already satisfied: packaging>=20.0 in c:\\users\\engrs\\anaconda3\\lib\\site-packages (from matplotlib<3.7,>=3.2->ydata-profiling->pandas-profiling) (21.3)\n",
      "Requirement already satisfied: python-dateutil>=2.7 in c:\\users\\engrs\\anaconda3\\lib\\site-packages (from matplotlib<3.7,>=3.2->ydata-profiling->pandas-profiling) (2.8.2)\n",
      "Requirement already satisfied: cycler>=0.10 in c:\\users\\engrs\\anaconda3\\lib\\site-packages (from matplotlib<3.7,>=3.2->ydata-profiling->pandas-profiling) (0.11.0)\n",
      "Requirement already satisfied: kiwisolver>=1.0.1 in c:\\users\\engrs\\anaconda3\\lib\\site-packages (from matplotlib<3.7,>=3.2->ydata-profiling->pandas-profiling) (1.4.2)\n",
      "Requirement already satisfied: pyparsing>=2.2.1 in c:\\users\\engrs\\anaconda3\\lib\\site-packages (from matplotlib<3.7,>=3.2->ydata-profiling->pandas-profiling) (3.0.9)\n",
      "Requirement already satisfied: pytz>=2020.1 in c:\\users\\engrs\\anaconda3\\lib\\site-packages (from pandas!=1.4.0,<1.6,>1.1->ydata-profiling->pandas-profiling) (2022.1)\n",
      "Requirement already satisfied: joblib>=0.14.1 in c:\\users\\engrs\\anaconda3\\lib\\site-packages (from phik<0.13,>=0.11.1->ydata-profiling->pandas-profiling) (1.2.0)\n",
      "Requirement already satisfied: typing-extensions>=4.2.0 in c:\\users\\engrs\\anaconda3\\lib\\site-packages (from pydantic<1.11,>=1.8.1->ydata-profiling->pandas-profiling) (4.3.0)\n",
      "Requirement already satisfied: certifi>=2017.4.17 in c:\\users\\engrs\\anaconda3\\lib\\site-packages (from requests<2.29,>=2.24.0->ydata-profiling->pandas-profiling) (2022.9.14)\n",
      "Requirement already satisfied: charset-normalizer<3,>=2 in c:\\users\\engrs\\anaconda3\\lib\\site-packages (from requests<2.29,>=2.24.0->ydata-profiling->pandas-profiling) (2.0.4)\n",
      "Requirement already satisfied: idna<4,>=2.5 in c:\\users\\engrs\\anaconda3\\lib\\site-packages (from requests<2.29,>=2.24.0->ydata-profiling->pandas-profiling) (3.3)\n",
      "Requirement already satisfied: urllib3<1.27,>=1.21.1 in c:\\users\\engrs\\anaconda3\\lib\\site-packages (from requests<2.29,>=2.24.0->ydata-profiling->pandas-profiling) (1.26.11)\n",
      "Requirement already satisfied: patsy>=0.5.2 in c:\\users\\engrs\\anaconda3\\lib\\site-packages (from statsmodels<0.14,>=0.13.2->ydata-profiling->pandas-profiling) (0.5.2)\n",
      "Requirement already satisfied: colorama in c:\\users\\engrs\\anaconda3\\lib\\site-packages (from tqdm<4.65,>=4.48.2->ydata-profiling->pandas-profiling) (0.4.5)\n",
      "Requirement already satisfied: six in c:\\users\\engrs\\anaconda3\\lib\\site-packages (from patsy>=0.5.2->statsmodels<0.14,>=0.13.2->ydata-profiling->pandas-profiling) (1.16.0)\n",
      "Note: you may need to restart the kernel to use updated packages.\n"
     ]
    }
   ],
   "source": [
    "pip install pandas-profiling"
   ]
  },
  {
   "cell_type": "code",
   "execution_count": 2,
   "metadata": {},
   "outputs": [
    {
     "name": "stdout",
     "output_type": "stream",
     "text": [
      "Requirement already satisfied: imblearn in c:\\users\\engrs\\anaconda3\\lib\\site-packages (0.0)\n",
      "Requirement already satisfied: imbalanced-learn in c:\\users\\engrs\\anaconda3\\lib\\site-packages (from imblearn) (0.10.1)\n",
      "Requirement already satisfied: threadpoolctl>=2.0.0 in c:\\users\\engrs\\anaconda3\\lib\\site-packages (from imbalanced-learn->imblearn) (2.2.0)\n",
      "Requirement already satisfied: scikit-learn>=1.0.2 in c:\\users\\engrs\\anaconda3\\lib\\site-packages (from imbalanced-learn->imblearn) (1.0.2)\n",
      "Requirement already satisfied: scipy>=1.3.2 in c:\\users\\engrs\\anaconda3\\lib\\site-packages (from imbalanced-learn->imblearn) (1.9.1)\n",
      "Requirement already satisfied: numpy>=1.17.3 in c:\\users\\engrs\\anaconda3\\lib\\site-packages (from imbalanced-learn->imblearn) (1.21.5)\n",
      "Requirement already satisfied: joblib>=1.1.1 in c:\\users\\engrs\\anaconda3\\lib\\site-packages (from imbalanced-learn->imblearn) (1.2.0)\n",
      "Note: you may need to restart the kernel to use updated packages.\n"
     ]
    }
   ],
   "source": [
    "pip install imblearn"
   ]
  },
  {
   "cell_type": "code",
   "execution_count": 3,
   "metadata": {
    "id": "X7cPMA4iLetG"
   },
   "outputs": [
    {
     "name": "stderr",
     "output_type": "stream",
     "text": [
      "C:\\Users\\engrs\\AppData\\Local\\Temp\\ipykernel_5148\\579034917.py:5: DeprecationWarning: `import pandas_profiling` is going to be deprecated by April 1st. Please use `import ydata_profiling` instead.\n",
      "  from pandas_profiling import ProfileReport\n"
     ]
    }
   ],
   "source": [
    "import numpy as np\n",
    "import pandas as pd\n",
    "import seaborn as sns\n",
    "import matplotlib.pyplot as plt\n",
    "from pandas_profiling import ProfileReport\n",
    "import imblearn\n",
    "from collections import Counter\n",
    "from imblearn.over_sampling import SMOTE\n",
    "from imblearn.under_sampling import RandomUnderSampler\n",
    "from imblearn.pipeline import Pipeline"
   ]
  },
  {
   "cell_type": "markdown",
   "metadata": {
    "id": "YzmAml6Bp18V"
   },
   "source": [
    "## **DATA ACQUISITON**"
   ]
  },
  {
   "cell_type": "markdown",
   "metadata": {
    "id": "Mnzn4DfJsZVv"
   },
   "source": [
    "Data acquiring is the process to fetch or find dataset from available resource. Here we use UCI site, UCI allows users to find and publish data sets, We downloaded Internet Firewall data dataset on this site (http://archive.ics.uci.edu/ml//datasets/Internet+Firewall+Data). Then i uploaded it on my google drive. "
   ]
  },
  {
   "cell_type": "markdown",
   "metadata": {
    "id": "m95DRRpHsqt5"
   },
   "source": [
    "### **Loading Dataset**"
   ]
  },
  {
   "cell_type": "code",
   "execution_count": null,
   "metadata": {
    "colab": {
     "base_uri": "https://localhost:8080/"
    },
    "id": "DwPO-DTSK95C",
    "outputId": "29d4ce2b-1578-4116-b615-526ca2fd4dda"
   },
   "outputs": [],
   "source": [
    "from google.colab import drive\n",
    "drive.mount('/content/drive')"
   ]
  },
  {
   "cell_type": "code",
   "execution_count": 4,
   "metadata": {
    "id": "TX1QhcXOp-v2"
   },
   "outputs": [],
   "source": [
    "df=pd.read_csv(\"log2.csv\")  #Original Dataset\n",
    "df2=pd.read_csv(\"log2.csv\") #Output Converted into Numerical\n",
    "df3=pd.read_csv(\"log2.csv\") #If Original Data is needed anywhere\n",
    "df4=pd.read_csv(\"log2.csv\") #If Original Data is needed anywhere"
   ]
  },
  {
   "cell_type": "markdown",
   "metadata": {
    "id": "l71gkaJWG9Xv"
   },
   "source": [
    "df1 will be original data.\n",
    "df2 will be labeling output from categorical to numerical\n",
    "df3 will be used for smote purpose."
   ]
  },
  {
   "cell_type": "code",
   "execution_count": 5,
   "metadata": {
    "id": "R_MRFx2RPr3f"
   },
   "outputs": [],
   "source": [
    "dataMapping={\"allow\":3,\n",
    "            \"deny\":2,\n",
    "            \"drop\":1,\n",
    "            \"reset-both\":0}\n",
    "df2[\"Action\"]=df2[\"Action\"].map(dataMapping) # Action Column was catergorical but is converted into Numberical"
   ]
  },
  {
   "cell_type": "markdown",
   "metadata": {
    "id": "pWAlJfh7s3-L"
   },
   "source": [
    "## **Data Exploration and Analysis**"
   ]
  },
  {
   "cell_type": "markdown",
   "metadata": {
    "id": "RqWVxkHts9JZ"
   },
   "source": [
    "### **Displaying Dataframe**"
   ]
  },
  {
   "cell_type": "code",
   "execution_count": 6,
   "metadata": {
    "colab": {
     "base_uri": "https://localhost:8080/",
     "height": 268
    },
    "id": "jeGQtjrItCNP",
    "outputId": "221f7c4e-8bf3-482e-b52f-f56e20088c99"
   },
   "outputs": [
    {
     "data": {
      "text/html": [
       "<div>\n",
       "<style scoped>\n",
       "    .dataframe tbody tr th:only-of-type {\n",
       "        vertical-align: middle;\n",
       "    }\n",
       "\n",
       "    .dataframe tbody tr th {\n",
       "        vertical-align: top;\n",
       "    }\n",
       "\n",
       "    .dataframe thead th {\n",
       "        text-align: right;\n",
       "    }\n",
       "</style>\n",
       "<table border=\"1\" class=\"dataframe\">\n",
       "  <thead>\n",
       "    <tr style=\"text-align: right;\">\n",
       "      <th></th>\n",
       "      <th>Source Port</th>\n",
       "      <th>Destination Port</th>\n",
       "      <th>NAT Source Port</th>\n",
       "      <th>NAT Destination Port</th>\n",
       "      <th>Action</th>\n",
       "      <th>Bytes</th>\n",
       "      <th>Bytes Sent</th>\n",
       "      <th>Bytes Received</th>\n",
       "      <th>Packets</th>\n",
       "      <th>Elapsed Time (sec)</th>\n",
       "      <th>pkts_sent</th>\n",
       "      <th>pkts_received</th>\n",
       "    </tr>\n",
       "  </thead>\n",
       "  <tbody>\n",
       "    <tr>\n",
       "      <th>0</th>\n",
       "      <td>57222</td>\n",
       "      <td>53</td>\n",
       "      <td>54587</td>\n",
       "      <td>53</td>\n",
       "      <td>allow</td>\n",
       "      <td>177</td>\n",
       "      <td>94</td>\n",
       "      <td>83</td>\n",
       "      <td>2</td>\n",
       "      <td>30</td>\n",
       "      <td>1</td>\n",
       "      <td>1</td>\n",
       "    </tr>\n",
       "    <tr>\n",
       "      <th>1</th>\n",
       "      <td>56258</td>\n",
       "      <td>3389</td>\n",
       "      <td>56258</td>\n",
       "      <td>3389</td>\n",
       "      <td>allow</td>\n",
       "      <td>4768</td>\n",
       "      <td>1600</td>\n",
       "      <td>3168</td>\n",
       "      <td>19</td>\n",
       "      <td>17</td>\n",
       "      <td>10</td>\n",
       "      <td>9</td>\n",
       "    </tr>\n",
       "    <tr>\n",
       "      <th>2</th>\n",
       "      <td>6881</td>\n",
       "      <td>50321</td>\n",
       "      <td>43265</td>\n",
       "      <td>50321</td>\n",
       "      <td>allow</td>\n",
       "      <td>238</td>\n",
       "      <td>118</td>\n",
       "      <td>120</td>\n",
       "      <td>2</td>\n",
       "      <td>1199</td>\n",
       "      <td>1</td>\n",
       "      <td>1</td>\n",
       "    </tr>\n",
       "    <tr>\n",
       "      <th>3</th>\n",
       "      <td>50553</td>\n",
       "      <td>3389</td>\n",
       "      <td>50553</td>\n",
       "      <td>3389</td>\n",
       "      <td>allow</td>\n",
       "      <td>3327</td>\n",
       "      <td>1438</td>\n",
       "      <td>1889</td>\n",
       "      <td>15</td>\n",
       "      <td>17</td>\n",
       "      <td>8</td>\n",
       "      <td>7</td>\n",
       "    </tr>\n",
       "    <tr>\n",
       "      <th>4</th>\n",
       "      <td>50002</td>\n",
       "      <td>443</td>\n",
       "      <td>45848</td>\n",
       "      <td>443</td>\n",
       "      <td>allow</td>\n",
       "      <td>25358</td>\n",
       "      <td>6778</td>\n",
       "      <td>18580</td>\n",
       "      <td>31</td>\n",
       "      <td>16</td>\n",
       "      <td>13</td>\n",
       "      <td>18</td>\n",
       "    </tr>\n",
       "  </tbody>\n",
       "</table>\n",
       "</div>"
      ],
      "text/plain": [
       "   Source Port  Destination Port  NAT Source Port  NAT Destination Port  \\\n",
       "0        57222                53            54587                    53   \n",
       "1        56258              3389            56258                  3389   \n",
       "2         6881             50321            43265                 50321   \n",
       "3        50553              3389            50553                  3389   \n",
       "4        50002               443            45848                   443   \n",
       "\n",
       "  Action  Bytes  Bytes Sent  Bytes Received  Packets  Elapsed Time (sec)  \\\n",
       "0  allow    177          94              83        2                  30   \n",
       "1  allow   4768        1600            3168       19                  17   \n",
       "2  allow    238         118             120        2                1199   \n",
       "3  allow   3327        1438            1889       15                  17   \n",
       "4  allow  25358        6778           18580       31                  16   \n",
       "\n",
       "   pkts_sent  pkts_received  \n",
       "0          1              1  \n",
       "1         10              9  \n",
       "2          1              1  \n",
       "3          8              7  \n",
       "4         13             18  "
      ]
     },
     "execution_count": 6,
     "metadata": {},
     "output_type": "execute_result"
    }
   ],
   "source": [
    "df.head()"
   ]
  },
  {
   "cell_type": "code",
   "execution_count": 7,
   "metadata": {
    "colab": {
     "base_uri": "https://localhost:8080/",
     "height": 268
    },
    "id": "dAiyxvZ7PwvD",
    "outputId": "074600f2-1092-47c4-e1cb-0bed2c28aa74"
   },
   "outputs": [
    {
     "data": {
      "text/html": [
       "<div>\n",
       "<style scoped>\n",
       "    .dataframe tbody tr th:only-of-type {\n",
       "        vertical-align: middle;\n",
       "    }\n",
       "\n",
       "    .dataframe tbody tr th {\n",
       "        vertical-align: top;\n",
       "    }\n",
       "\n",
       "    .dataframe thead th {\n",
       "        text-align: right;\n",
       "    }\n",
       "</style>\n",
       "<table border=\"1\" class=\"dataframe\">\n",
       "  <thead>\n",
       "    <tr style=\"text-align: right;\">\n",
       "      <th></th>\n",
       "      <th>Source Port</th>\n",
       "      <th>Destination Port</th>\n",
       "      <th>NAT Source Port</th>\n",
       "      <th>NAT Destination Port</th>\n",
       "      <th>Action</th>\n",
       "      <th>Bytes</th>\n",
       "      <th>Bytes Sent</th>\n",
       "      <th>Bytes Received</th>\n",
       "      <th>Packets</th>\n",
       "      <th>Elapsed Time (sec)</th>\n",
       "      <th>pkts_sent</th>\n",
       "      <th>pkts_received</th>\n",
       "    </tr>\n",
       "  </thead>\n",
       "  <tbody>\n",
       "    <tr>\n",
       "      <th>0</th>\n",
       "      <td>57222</td>\n",
       "      <td>53</td>\n",
       "      <td>54587</td>\n",
       "      <td>53</td>\n",
       "      <td>3</td>\n",
       "      <td>177</td>\n",
       "      <td>94</td>\n",
       "      <td>83</td>\n",
       "      <td>2</td>\n",
       "      <td>30</td>\n",
       "      <td>1</td>\n",
       "      <td>1</td>\n",
       "    </tr>\n",
       "    <tr>\n",
       "      <th>1</th>\n",
       "      <td>56258</td>\n",
       "      <td>3389</td>\n",
       "      <td>56258</td>\n",
       "      <td>3389</td>\n",
       "      <td>3</td>\n",
       "      <td>4768</td>\n",
       "      <td>1600</td>\n",
       "      <td>3168</td>\n",
       "      <td>19</td>\n",
       "      <td>17</td>\n",
       "      <td>10</td>\n",
       "      <td>9</td>\n",
       "    </tr>\n",
       "    <tr>\n",
       "      <th>2</th>\n",
       "      <td>6881</td>\n",
       "      <td>50321</td>\n",
       "      <td>43265</td>\n",
       "      <td>50321</td>\n",
       "      <td>3</td>\n",
       "      <td>238</td>\n",
       "      <td>118</td>\n",
       "      <td>120</td>\n",
       "      <td>2</td>\n",
       "      <td>1199</td>\n",
       "      <td>1</td>\n",
       "      <td>1</td>\n",
       "    </tr>\n",
       "    <tr>\n",
       "      <th>3</th>\n",
       "      <td>50553</td>\n",
       "      <td>3389</td>\n",
       "      <td>50553</td>\n",
       "      <td>3389</td>\n",
       "      <td>3</td>\n",
       "      <td>3327</td>\n",
       "      <td>1438</td>\n",
       "      <td>1889</td>\n",
       "      <td>15</td>\n",
       "      <td>17</td>\n",
       "      <td>8</td>\n",
       "      <td>7</td>\n",
       "    </tr>\n",
       "    <tr>\n",
       "      <th>4</th>\n",
       "      <td>50002</td>\n",
       "      <td>443</td>\n",
       "      <td>45848</td>\n",
       "      <td>443</td>\n",
       "      <td>3</td>\n",
       "      <td>25358</td>\n",
       "      <td>6778</td>\n",
       "      <td>18580</td>\n",
       "      <td>31</td>\n",
       "      <td>16</td>\n",
       "      <td>13</td>\n",
       "      <td>18</td>\n",
       "    </tr>\n",
       "  </tbody>\n",
       "</table>\n",
       "</div>"
      ],
      "text/plain": [
       "   Source Port  Destination Port  NAT Source Port  NAT Destination Port  \\\n",
       "0        57222                53            54587                    53   \n",
       "1        56258              3389            56258                  3389   \n",
       "2         6881             50321            43265                 50321   \n",
       "3        50553              3389            50553                  3389   \n",
       "4        50002               443            45848                   443   \n",
       "\n",
       "   Action  Bytes  Bytes Sent  Bytes Received  Packets  Elapsed Time (sec)  \\\n",
       "0       3    177          94              83        2                  30   \n",
       "1       3   4768        1600            3168       19                  17   \n",
       "2       3    238         118             120        2                1199   \n",
       "3       3   3327        1438            1889       15                  17   \n",
       "4       3  25358        6778           18580       31                  16   \n",
       "\n",
       "   pkts_sent  pkts_received  \n",
       "0          1              1  \n",
       "1         10              9  \n",
       "2          1              1  \n",
       "3          8              7  \n",
       "4         13             18  "
      ]
     },
     "execution_count": 7,
     "metadata": {},
     "output_type": "execute_result"
    }
   ],
   "source": [
    "df2.head(5)"
   ]
  },
  {
   "cell_type": "markdown",
   "metadata": {
    "id": "hm-dXoMmtcIW"
   },
   "source": [
    "**Dataset Dimension**"
   ]
  },
  {
   "cell_type": "code",
   "execution_count": 8,
   "metadata": {
    "colab": {
     "base_uri": "https://localhost:8080/"
    },
    "id": "k23KDk7ntfjn",
    "outputId": "403e43d5-ae0c-4141-aa22-51ff4f2a4525"
   },
   "outputs": [
    {
     "data": {
      "text/plain": [
       "(65532, 12)"
      ]
     },
     "execution_count": 8,
     "metadata": {},
     "output_type": "execute_result"
    }
   ],
   "source": [
    "df.shape"
   ]
  },
  {
   "cell_type": "code",
   "execution_count": 9,
   "metadata": {
    "colab": {
     "base_uri": "https://localhost:8080/"
    },
    "id": "p6YMRK2mQLNx",
    "outputId": "04b17ded-c284-4653-e6f2-43c3ced0e567"
   },
   "outputs": [
    {
     "data": {
      "text/plain": [
       "(65532, 12)"
      ]
     },
     "execution_count": 9,
     "metadata": {},
     "output_type": "execute_result"
    }
   ],
   "source": [
    "df2.shape"
   ]
  },
  {
   "cell_type": "markdown",
   "metadata": {
    "id": "1Gq27vp8wLCZ"
   },
   "source": [
    "**Dataset Information**"
   ]
  },
  {
   "cell_type": "code",
   "execution_count": 10,
   "metadata": {
    "colab": {
     "base_uri": "https://localhost:8080/"
    },
    "id": "m8ylxS27tgXH",
    "outputId": "1da5c623-2326-4985-98d0-99175f2a31e9"
   },
   "outputs": [
    {
     "name": "stdout",
     "output_type": "stream",
     "text": [
      "<class 'pandas.core.frame.DataFrame'>\n",
      "RangeIndex: 65532 entries, 0 to 65531\n",
      "Data columns (total 12 columns):\n",
      " #   Column                Non-Null Count  Dtype \n",
      "---  ------                --------------  ----- \n",
      " 0   Source Port           65532 non-null  int64 \n",
      " 1   Destination Port      65532 non-null  int64 \n",
      " 2   NAT Source Port       65532 non-null  int64 \n",
      " 3   NAT Destination Port  65532 non-null  int64 \n",
      " 4   Action                65532 non-null  object\n",
      " 5   Bytes                 65532 non-null  int64 \n",
      " 6   Bytes Sent            65532 non-null  int64 \n",
      " 7   Bytes Received        65532 non-null  int64 \n",
      " 8   Packets               65532 non-null  int64 \n",
      " 9   Elapsed Time (sec)    65532 non-null  int64 \n",
      " 10  pkts_sent             65532 non-null  int64 \n",
      " 11  pkts_received         65532 non-null  int64 \n",
      "dtypes: int64(11), object(1)\n",
      "memory usage: 6.0+ MB\n"
     ]
    }
   ],
   "source": [
    "df.info()"
   ]
  },
  {
   "cell_type": "markdown",
   "metadata": {
    "id": "gGVpccJG1J5Q"
   },
   "source": [
    "As per this command, we came to know that there is no missing values as 65532 entries are filled. If we had any missing value, we would had taken care of these values by\n",
    "1) Getting Rid of missing values. (Deleting the whole row. But if these missing values are too much or we have small dataset, then this won't be appropriable. \n",
    "2) We can delete the whole attribute (Feature/column). But only if the value is not affecting output. Let's say it has high co-linearity/relation with output, then this will also be not a good option.\n",
    "3) We can fill missing values by some other value. It can be 0 or mean or mode to make it perform better."
   ]
  },
  {
   "cell_type": "markdown",
   "metadata": {
    "id": "AiMVuhB9Yac7"
   },
   "source": [
    "**Dataset Co-relation Matrix:**"
   ]
  },
  {
   "cell_type": "code",
   "execution_count": 11,
   "metadata": {
    "colab": {
     "base_uri": "https://localhost:8080/"
    },
    "id": "RlBCUlxUYgfR",
    "outputId": "39919af2-1851-4d9c-9850-e7f8285e8517"
   },
   "outputs": [
    {
     "name": "stdout",
     "output_type": "stream",
     "text": [
      "Correlation Between Different Features\n",
      "                      Source Port  Destination Port  NAT Source Port  \\\n",
      "Source Port              1.000000         -0.332246         0.145391   \n",
      "Destination Port        -0.332246          1.000000        -0.281676   \n",
      "NAT Source Port          0.145391         -0.281676         1.000000   \n",
      "NAT Destination Port    -0.024843          0.410042         0.178435   \n",
      "Bytes                    0.000221         -0.005297         0.010659   \n",
      "Bytes Sent              -0.000931          0.001675         0.002242   \n",
      "Bytes Received           0.001950         -0.014684         0.020827   \n",
      "Packets                 -0.001742         -0.006063         0.012633   \n",
      "Elapsed Time (sec)      -0.046515          0.023537         0.141485   \n",
      "pkts_sent               -0.001422         -0.002134         0.007180   \n",
      "pkts_received           -0.001962         -0.010909         0.018772   \n",
      "\n",
      "                      NAT Destination Port     Bytes  Bytes Sent  \\\n",
      "Source Port                      -0.024843  0.000221   -0.000931   \n",
      "Destination Port                  0.410042 -0.005297    0.001675   \n",
      "NAT Source Port                   0.178435  0.010659    0.002242   \n",
      "NAT Destination Port              1.000000  0.003975    0.007904   \n",
      "Bytes                             0.003975  1.000000    0.933462   \n",
      "Bytes Sent                        0.007904  0.933462    1.000000   \n",
      "Bytes Received                   -0.003216  0.830225    0.575047   \n",
      "Packets                           0.004605  0.974379    0.887596   \n",
      "Elapsed Time (sec)                0.219776  0.148834    0.126039   \n",
      "pkts_sent                         0.006136  0.966548    0.973976   \n",
      "pkts_received                     0.001747  0.850209    0.639098   \n",
      "\n",
      "                      Bytes Received   Packets  Elapsed Time (sec)  pkts_sent  \\\n",
      "Source Port                 0.001950 -0.001742           -0.046515  -0.001422   \n",
      "Destination Port           -0.014684 -0.006063            0.023537  -0.002134   \n",
      "NAT Source Port             0.020827  0.012633            0.141485   0.007180   \n",
      "NAT Destination Port       -0.003216  0.004605            0.219776   0.006136   \n",
      "Bytes                       0.830225  0.974379            0.148834   0.966548   \n",
      "Bytes Sent                  0.575047  0.887596            0.126039   0.973976   \n",
      "Bytes Received              1.000000  0.843067            0.143601   0.690959   \n",
      "Packets                     0.843067  1.000000            0.147074   0.961286   \n",
      "Elapsed Time (sec)          0.143601  0.147074            1.000000   0.135101   \n",
      "pkts_sent                   0.690959  0.961286            0.135101   1.000000   \n",
      "pkts_received               0.946039  0.916978            0.143954   0.771550   \n",
      "\n",
      "                      pkts_received  \n",
      "Source Port               -0.001962  \n",
      "Destination Port          -0.010909  \n",
      "NAT Source Port            0.018772  \n",
      "NAT Destination Port       0.001747  \n",
      "Bytes                      0.850209  \n",
      "Bytes Sent                 0.639098  \n",
      "Bytes Received             0.946039  \n",
      "Packets                    0.916978  \n",
      "Elapsed Time (sec)         0.143954  \n",
      "pkts_sent                  0.771550  \n",
      "pkts_received              1.000000  \n",
      "Correlation Between Different Features when output is also numerical\n",
      "                      Source Port  Destination Port  NAT Source Port  \\\n",
      "Source Port              1.000000         -0.332246         0.145391   \n",
      "Destination Port        -0.332246          1.000000        -0.281676   \n",
      "NAT Source Port          0.145391         -0.281676         1.000000   \n",
      "NAT Destination Port    -0.024843          0.410042         0.178435   \n",
      "Action                  -0.038343         -0.095110         0.686893   \n",
      "Bytes                    0.000221         -0.005297         0.010659   \n",
      "Bytes Sent              -0.000931          0.001675         0.002242   \n",
      "Bytes Received           0.001950         -0.014684         0.020827   \n",
      "Packets                 -0.001742         -0.006063         0.012633   \n",
      "Elapsed Time (sec)      -0.046515          0.023537         0.141485   \n",
      "pkts_sent               -0.001422         -0.002134         0.007180   \n",
      "pkts_received           -0.001962         -0.010909         0.018772   \n",
      "\n",
      "                      NAT Destination Port    Action     Bytes  Bytes Sent  \\\n",
      "Source Port                      -0.024843 -0.038343  0.000221   -0.000931   \n",
      "Destination Port                  0.410042 -0.095110 -0.005297    0.001675   \n",
      "NAT Source Port                   0.178435  0.686893  0.010659    0.002242   \n",
      "NAT Destination Port              1.000000  0.214765  0.003975    0.007904   \n",
      "Action                            0.214765  1.000000  0.013546    0.004570   \n",
      "Bytes                             0.003975  0.013546  1.000000    0.933462   \n",
      "Bytes Sent                        0.007904  0.004570  0.933462    1.000000   \n",
      "Bytes Received                   -0.003216  0.023794  0.830225    0.575047   \n",
      "Packets                           0.004605  0.015562  0.974379    0.887596   \n",
      "Elapsed Time (sec)                0.219776  0.170684  0.148834    0.126039   \n",
      "pkts_sent                         0.006136  0.009842  0.966548    0.973976   \n",
      "pkts_received                     0.001747  0.021679  0.850209    0.639098   \n",
      "\n",
      "                      Bytes Received   Packets  Elapsed Time (sec)  pkts_sent  \\\n",
      "Source Port                 0.001950 -0.001742           -0.046515  -0.001422   \n",
      "Destination Port           -0.014684 -0.006063            0.023537  -0.002134   \n",
      "NAT Source Port             0.020827  0.012633            0.141485   0.007180   \n",
      "NAT Destination Port       -0.003216  0.004605            0.219776   0.006136   \n",
      "Action                      0.023794  0.015562            0.170684   0.009842   \n",
      "Bytes                       0.830225  0.974379            0.148834   0.966548   \n",
      "Bytes Sent                  0.575047  0.887596            0.126039   0.973976   \n",
      "Bytes Received              1.000000  0.843067            0.143601   0.690959   \n",
      "Packets                     0.843067  1.000000            0.147074   0.961286   \n",
      "Elapsed Time (sec)          0.143601  0.147074            1.000000   0.135101   \n",
      "pkts_sent                   0.690959  0.961286            0.135101   1.000000   \n",
      "pkts_received               0.946039  0.916978            0.143954   0.771550   \n",
      "\n",
      "                      pkts_received  \n",
      "Source Port               -0.001962  \n",
      "Destination Port          -0.010909  \n",
      "NAT Source Port            0.018772  \n",
      "NAT Destination Port       0.001747  \n",
      "Action                     0.021679  \n",
      "Bytes                      0.850209  \n",
      "Bytes Sent                 0.639098  \n",
      "Bytes Received             0.946039  \n",
      "Packets                    0.916978  \n",
      "Elapsed Time (sec)         0.143954  \n",
      "pkts_sent                  0.771550  \n",
      "pkts_received              1.000000  \n"
     ]
    }
   ],
   "source": [
    "cor1=df.corr()\n",
    "print(\"Correlation Between Different Features\")\n",
    "print(cor1)\n",
    "cor2=df2.corr()\n",
    "print(\"Correlation Between Different Features when output is also numerical\")\n",
    "print(cor2)"
   ]
  },
  {
   "cell_type": "markdown",
   "metadata": {
    "id": "5WvHzxW4wpl6"
   },
   "source": [
    "**Describing Dataset**"
   ]
  },
  {
   "cell_type": "code",
   "execution_count": 12,
   "metadata": {
    "colab": {
     "base_uri": "https://localhost:8080/",
     "height": 379
    },
    "id": "qNf3i9CXwUZ6",
    "outputId": "32938611-73ef-4924-ee8f-d4e2cb4165b8"
   },
   "outputs": [
    {
     "data": {
      "text/html": [
       "<div>\n",
       "<style scoped>\n",
       "    .dataframe tbody tr th:only-of-type {\n",
       "        vertical-align: middle;\n",
       "    }\n",
       "\n",
       "    .dataframe tbody tr th {\n",
       "        vertical-align: top;\n",
       "    }\n",
       "\n",
       "    .dataframe thead th {\n",
       "        text-align: right;\n",
       "    }\n",
       "</style>\n",
       "<table border=\"1\" class=\"dataframe\">\n",
       "  <thead>\n",
       "    <tr style=\"text-align: right;\">\n",
       "      <th></th>\n",
       "      <th>Source Port</th>\n",
       "      <th>Destination Port</th>\n",
       "      <th>NAT Source Port</th>\n",
       "      <th>NAT Destination Port</th>\n",
       "      <th>Bytes</th>\n",
       "      <th>Bytes Sent</th>\n",
       "      <th>Bytes Received</th>\n",
       "      <th>Packets</th>\n",
       "      <th>Elapsed Time (sec)</th>\n",
       "      <th>pkts_sent</th>\n",
       "      <th>pkts_received</th>\n",
       "    </tr>\n",
       "  </thead>\n",
       "  <tbody>\n",
       "    <tr>\n",
       "      <th>count</th>\n",
       "      <td>65532.000000</td>\n",
       "      <td>65532.000000</td>\n",
       "      <td>65532.000000</td>\n",
       "      <td>65532.000000</td>\n",
       "      <td>6.553200e+04</td>\n",
       "      <td>6.553200e+04</td>\n",
       "      <td>6.553200e+04</td>\n",
       "      <td>6.553200e+04</td>\n",
       "      <td>65532.000000</td>\n",
       "      <td>65532.000000</td>\n",
       "      <td>65532.000000</td>\n",
       "    </tr>\n",
       "    <tr>\n",
       "      <th>mean</th>\n",
       "      <td>49391.969343</td>\n",
       "      <td>10577.385812</td>\n",
       "      <td>19282.972761</td>\n",
       "      <td>2671.049930</td>\n",
       "      <td>9.712395e+04</td>\n",
       "      <td>2.238580e+04</td>\n",
       "      <td>7.473815e+04</td>\n",
       "      <td>1.028660e+02</td>\n",
       "      <td>65.833577</td>\n",
       "      <td>41.399530</td>\n",
       "      <td>61.466505</td>\n",
       "    </tr>\n",
       "    <tr>\n",
       "      <th>std</th>\n",
       "      <td>15255.712537</td>\n",
       "      <td>18466.027039</td>\n",
       "      <td>21970.689669</td>\n",
       "      <td>9739.162278</td>\n",
       "      <td>5.618439e+06</td>\n",
       "      <td>3.828139e+06</td>\n",
       "      <td>2.463208e+06</td>\n",
       "      <td>5.133002e+03</td>\n",
       "      <td>302.461762</td>\n",
       "      <td>3218.871288</td>\n",
       "      <td>2223.332271</td>\n",
       "    </tr>\n",
       "    <tr>\n",
       "      <th>min</th>\n",
       "      <td>0.000000</td>\n",
       "      <td>0.000000</td>\n",
       "      <td>0.000000</td>\n",
       "      <td>0.000000</td>\n",
       "      <td>6.000000e+01</td>\n",
       "      <td>6.000000e+01</td>\n",
       "      <td>0.000000e+00</td>\n",
       "      <td>1.000000e+00</td>\n",
       "      <td>0.000000</td>\n",
       "      <td>1.000000</td>\n",
       "      <td>0.000000</td>\n",
       "    </tr>\n",
       "    <tr>\n",
       "      <th>25%</th>\n",
       "      <td>49183.000000</td>\n",
       "      <td>80.000000</td>\n",
       "      <td>0.000000</td>\n",
       "      <td>0.000000</td>\n",
       "      <td>6.600000e+01</td>\n",
       "      <td>6.600000e+01</td>\n",
       "      <td>0.000000e+00</td>\n",
       "      <td>1.000000e+00</td>\n",
       "      <td>0.000000</td>\n",
       "      <td>1.000000</td>\n",
       "      <td>0.000000</td>\n",
       "    </tr>\n",
       "    <tr>\n",
       "      <th>50%</th>\n",
       "      <td>53776.500000</td>\n",
       "      <td>445.000000</td>\n",
       "      <td>8820.500000</td>\n",
       "      <td>53.000000</td>\n",
       "      <td>1.680000e+02</td>\n",
       "      <td>9.000000e+01</td>\n",
       "      <td>7.900000e+01</td>\n",
       "      <td>2.000000e+00</td>\n",
       "      <td>15.000000</td>\n",
       "      <td>1.000000</td>\n",
       "      <td>1.000000</td>\n",
       "    </tr>\n",
       "    <tr>\n",
       "      <th>75%</th>\n",
       "      <td>58638.000000</td>\n",
       "      <td>15000.000000</td>\n",
       "      <td>38366.250000</td>\n",
       "      <td>443.000000</td>\n",
       "      <td>7.522500e+02</td>\n",
       "      <td>2.100000e+02</td>\n",
       "      <td>4.490000e+02</td>\n",
       "      <td>6.000000e+00</td>\n",
       "      <td>30.000000</td>\n",
       "      <td>3.000000</td>\n",
       "      <td>2.000000</td>\n",
       "    </tr>\n",
       "    <tr>\n",
       "      <th>max</th>\n",
       "      <td>65534.000000</td>\n",
       "      <td>65535.000000</td>\n",
       "      <td>65535.000000</td>\n",
       "      <td>65535.000000</td>\n",
       "      <td>1.269359e+09</td>\n",
       "      <td>9.484772e+08</td>\n",
       "      <td>3.208818e+08</td>\n",
       "      <td>1.036116e+06</td>\n",
       "      <td>10824.000000</td>\n",
       "      <td>747520.000000</td>\n",
       "      <td>327208.000000</td>\n",
       "    </tr>\n",
       "  </tbody>\n",
       "</table>\n",
       "</div>"
      ],
      "text/plain": [
       "        Source Port  Destination Port  NAT Source Port  NAT Destination Port  \\\n",
       "count  65532.000000      65532.000000     65532.000000          65532.000000   \n",
       "mean   49391.969343      10577.385812     19282.972761           2671.049930   \n",
       "std    15255.712537      18466.027039     21970.689669           9739.162278   \n",
       "min        0.000000          0.000000         0.000000              0.000000   \n",
       "25%    49183.000000         80.000000         0.000000              0.000000   \n",
       "50%    53776.500000        445.000000      8820.500000             53.000000   \n",
       "75%    58638.000000      15000.000000     38366.250000            443.000000   \n",
       "max    65534.000000      65535.000000     65535.000000          65535.000000   \n",
       "\n",
       "              Bytes    Bytes Sent  Bytes Received       Packets  \\\n",
       "count  6.553200e+04  6.553200e+04    6.553200e+04  6.553200e+04   \n",
       "mean   9.712395e+04  2.238580e+04    7.473815e+04  1.028660e+02   \n",
       "std    5.618439e+06  3.828139e+06    2.463208e+06  5.133002e+03   \n",
       "min    6.000000e+01  6.000000e+01    0.000000e+00  1.000000e+00   \n",
       "25%    6.600000e+01  6.600000e+01    0.000000e+00  1.000000e+00   \n",
       "50%    1.680000e+02  9.000000e+01    7.900000e+01  2.000000e+00   \n",
       "75%    7.522500e+02  2.100000e+02    4.490000e+02  6.000000e+00   \n",
       "max    1.269359e+09  9.484772e+08    3.208818e+08  1.036116e+06   \n",
       "\n",
       "       Elapsed Time (sec)      pkts_sent  pkts_received  \n",
       "count        65532.000000   65532.000000   65532.000000  \n",
       "mean            65.833577      41.399530      61.466505  \n",
       "std            302.461762    3218.871288    2223.332271  \n",
       "min              0.000000       1.000000       0.000000  \n",
       "25%              0.000000       1.000000       0.000000  \n",
       "50%             15.000000       1.000000       1.000000  \n",
       "75%             30.000000       3.000000       2.000000  \n",
       "max          10824.000000  747520.000000  327208.000000  "
      ]
     },
     "execution_count": 12,
     "metadata": {},
     "output_type": "execute_result"
    }
   ],
   "source": [
    "df.describe()"
   ]
  },
  {
   "cell_type": "code",
   "execution_count": 13,
   "metadata": {
    "colab": {
     "base_uri": "https://localhost:8080/",
     "height": 399
    },
    "id": "WNv7v1TvQiVv",
    "outputId": "c79447c3-2d96-4397-d0ce-2dfe60180df4"
   },
   "outputs": [
    {
     "data": {
      "text/html": [
       "<div>\n",
       "<style scoped>\n",
       "    .dataframe tbody tr th:only-of-type {\n",
       "        vertical-align: middle;\n",
       "    }\n",
       "\n",
       "    .dataframe tbody tr th {\n",
       "        vertical-align: top;\n",
       "    }\n",
       "\n",
       "    .dataframe thead th {\n",
       "        text-align: right;\n",
       "    }\n",
       "</style>\n",
       "<table border=\"1\" class=\"dataframe\">\n",
       "  <thead>\n",
       "    <tr style=\"text-align: right;\">\n",
       "      <th></th>\n",
       "      <th>Source Port</th>\n",
       "      <th>Destination Port</th>\n",
       "      <th>NAT Source Port</th>\n",
       "      <th>NAT Destination Port</th>\n",
       "      <th>Action</th>\n",
       "      <th>Bytes</th>\n",
       "      <th>Bytes Sent</th>\n",
       "      <th>Bytes Received</th>\n",
       "      <th>Packets</th>\n",
       "      <th>Elapsed Time (sec)</th>\n",
       "      <th>pkts_sent</th>\n",
       "      <th>pkts_received</th>\n",
       "    </tr>\n",
       "  </thead>\n",
       "  <tbody>\n",
       "    <tr>\n",
       "      <th>count</th>\n",
       "      <td>65532.000000</td>\n",
       "      <td>65532.000000</td>\n",
       "      <td>65532.000000</td>\n",
       "      <td>65532.000000</td>\n",
       "      <td>65532.000000</td>\n",
       "      <td>6.553200e+04</td>\n",
       "      <td>6.553200e+04</td>\n",
       "      <td>6.553200e+04</td>\n",
       "      <td>6.553200e+04</td>\n",
       "      <td>65532.000000</td>\n",
       "      <td>65532.000000</td>\n",
       "      <td>65532.000000</td>\n",
       "    </tr>\n",
       "    <tr>\n",
       "      <th>mean</th>\n",
       "      <td>49391.969343</td>\n",
       "      <td>10577.385812</td>\n",
       "      <td>19282.972761</td>\n",
       "      <td>2671.049930</td>\n",
       "      <td>2.376625</td>\n",
       "      <td>9.712395e+04</td>\n",
       "      <td>2.238580e+04</td>\n",
       "      <td>7.473815e+04</td>\n",
       "      <td>1.028660e+02</td>\n",
       "      <td>65.833577</td>\n",
       "      <td>41.399530</td>\n",
       "      <td>61.466505</td>\n",
       "    </tr>\n",
       "    <tr>\n",
       "      <th>std</th>\n",
       "      <td>15255.712537</td>\n",
       "      <td>18466.027039</td>\n",
       "      <td>21970.689669</td>\n",
       "      <td>9739.162278</td>\n",
       "      <td>0.794945</td>\n",
       "      <td>5.618439e+06</td>\n",
       "      <td>3.828139e+06</td>\n",
       "      <td>2.463208e+06</td>\n",
       "      <td>5.133002e+03</td>\n",
       "      <td>302.461762</td>\n",
       "      <td>3218.871288</td>\n",
       "      <td>2223.332271</td>\n",
       "    </tr>\n",
       "    <tr>\n",
       "      <th>min</th>\n",
       "      <td>0.000000</td>\n",
       "      <td>0.000000</td>\n",
       "      <td>0.000000</td>\n",
       "      <td>0.000000</td>\n",
       "      <td>0.000000</td>\n",
       "      <td>6.000000e+01</td>\n",
       "      <td>6.000000e+01</td>\n",
       "      <td>0.000000e+00</td>\n",
       "      <td>1.000000e+00</td>\n",
       "      <td>0.000000</td>\n",
       "      <td>1.000000</td>\n",
       "      <td>0.000000</td>\n",
       "    </tr>\n",
       "    <tr>\n",
       "      <th>25%</th>\n",
       "      <td>49183.000000</td>\n",
       "      <td>80.000000</td>\n",
       "      <td>0.000000</td>\n",
       "      <td>0.000000</td>\n",
       "      <td>2.000000</td>\n",
       "      <td>6.600000e+01</td>\n",
       "      <td>6.600000e+01</td>\n",
       "      <td>0.000000e+00</td>\n",
       "      <td>1.000000e+00</td>\n",
       "      <td>0.000000</td>\n",
       "      <td>1.000000</td>\n",
       "      <td>0.000000</td>\n",
       "    </tr>\n",
       "    <tr>\n",
       "      <th>50%</th>\n",
       "      <td>53776.500000</td>\n",
       "      <td>445.000000</td>\n",
       "      <td>8820.500000</td>\n",
       "      <td>53.000000</td>\n",
       "      <td>3.000000</td>\n",
       "      <td>1.680000e+02</td>\n",
       "      <td>9.000000e+01</td>\n",
       "      <td>7.900000e+01</td>\n",
       "      <td>2.000000e+00</td>\n",
       "      <td>15.000000</td>\n",
       "      <td>1.000000</td>\n",
       "      <td>1.000000</td>\n",
       "    </tr>\n",
       "    <tr>\n",
       "      <th>75%</th>\n",
       "      <td>58638.000000</td>\n",
       "      <td>15000.000000</td>\n",
       "      <td>38366.250000</td>\n",
       "      <td>443.000000</td>\n",
       "      <td>3.000000</td>\n",
       "      <td>7.522500e+02</td>\n",
       "      <td>2.100000e+02</td>\n",
       "      <td>4.490000e+02</td>\n",
       "      <td>6.000000e+00</td>\n",
       "      <td>30.000000</td>\n",
       "      <td>3.000000</td>\n",
       "      <td>2.000000</td>\n",
       "    </tr>\n",
       "    <tr>\n",
       "      <th>max</th>\n",
       "      <td>65534.000000</td>\n",
       "      <td>65535.000000</td>\n",
       "      <td>65535.000000</td>\n",
       "      <td>65535.000000</td>\n",
       "      <td>3.000000</td>\n",
       "      <td>1.269359e+09</td>\n",
       "      <td>9.484772e+08</td>\n",
       "      <td>3.208818e+08</td>\n",
       "      <td>1.036116e+06</td>\n",
       "      <td>10824.000000</td>\n",
       "      <td>747520.000000</td>\n",
       "      <td>327208.000000</td>\n",
       "    </tr>\n",
       "  </tbody>\n",
       "</table>\n",
       "</div>"
      ],
      "text/plain": [
       "        Source Port  Destination Port  NAT Source Port  NAT Destination Port  \\\n",
       "count  65532.000000      65532.000000     65532.000000          65532.000000   \n",
       "mean   49391.969343      10577.385812     19282.972761           2671.049930   \n",
       "std    15255.712537      18466.027039     21970.689669           9739.162278   \n",
       "min        0.000000          0.000000         0.000000              0.000000   \n",
       "25%    49183.000000         80.000000         0.000000              0.000000   \n",
       "50%    53776.500000        445.000000      8820.500000             53.000000   \n",
       "75%    58638.000000      15000.000000     38366.250000            443.000000   \n",
       "max    65534.000000      65535.000000     65535.000000          65535.000000   \n",
       "\n",
       "             Action         Bytes    Bytes Sent  Bytes Received       Packets  \\\n",
       "count  65532.000000  6.553200e+04  6.553200e+04    6.553200e+04  6.553200e+04   \n",
       "mean       2.376625  9.712395e+04  2.238580e+04    7.473815e+04  1.028660e+02   \n",
       "std        0.794945  5.618439e+06  3.828139e+06    2.463208e+06  5.133002e+03   \n",
       "min        0.000000  6.000000e+01  6.000000e+01    0.000000e+00  1.000000e+00   \n",
       "25%        2.000000  6.600000e+01  6.600000e+01    0.000000e+00  1.000000e+00   \n",
       "50%        3.000000  1.680000e+02  9.000000e+01    7.900000e+01  2.000000e+00   \n",
       "75%        3.000000  7.522500e+02  2.100000e+02    4.490000e+02  6.000000e+00   \n",
       "max        3.000000  1.269359e+09  9.484772e+08    3.208818e+08  1.036116e+06   \n",
       "\n",
       "       Elapsed Time (sec)      pkts_sent  pkts_received  \n",
       "count        65532.000000   65532.000000   65532.000000  \n",
       "mean            65.833577      41.399530      61.466505  \n",
       "std            302.461762    3218.871288    2223.332271  \n",
       "min              0.000000       1.000000       0.000000  \n",
       "25%              0.000000       1.000000       0.000000  \n",
       "50%             15.000000       1.000000       1.000000  \n",
       "75%             30.000000       3.000000       2.000000  \n",
       "max          10824.000000  747520.000000  327208.000000  "
      ]
     },
     "execution_count": 13,
     "metadata": {},
     "output_type": "execute_result"
    }
   ],
   "source": [
    "df2.describe()"
   ]
  },
  {
   "cell_type": "markdown",
   "metadata": {
    "id": "Xt9MrBkw3Aah"
   },
   "source": [
    "From above command, we came to know that the data is scattered and not normalized. So, we will normalize it to get all features into same range."
   ]
  },
  {
   "cell_type": "markdown",
   "metadata": {
    "id": "Z3-lel_Y11oi"
   },
   "source": [
    "### **Segregating Dependent & Independant Variable**"
   ]
  },
  {
   "cell_type": "code",
   "execution_count": 14,
   "metadata": {
    "colab": {
     "base_uri": "https://localhost:8080/"
    },
    "id": "SII7abmnwwBB",
    "outputId": "8ecf0b5e-5119-422f-9659-d8ce8e5b8e24"
   },
   "outputs": [
    {
     "name": "stdout",
     "output_type": "stream",
     "text": [
      "(65532, 11)\n",
      "(65532,)\n"
     ]
    }
   ],
   "source": [
    "x=df.drop([\"Action\"], axis=1)\n",
    "print(x.shape)\n",
    "y=df[\"Action\"]\n",
    "print(y.shape)"
   ]
  },
  {
   "cell_type": "code",
   "execution_count": 15,
   "metadata": {
    "colab": {
     "base_uri": "https://localhost:8080/"
    },
    "id": "f_LCoG4Y2QYG",
    "outputId": "f155c613-3f02-43e6-de18-a03be4d9979e"
   },
   "outputs": [
    {
     "name": "stdout",
     "output_type": "stream",
     "text": [
      "(65532, 11)\n",
      "(65532,)\n"
     ]
    }
   ],
   "source": [
    "x2=df.drop([\"Action\"], axis=1)\n",
    "print(x2.shape)\n",
    "y2=df[\"Action\"]\n",
    "print(y2.shape)"
   ]
  },
  {
   "cell_type": "code",
   "execution_count": 16,
   "metadata": {
    "colab": {
     "base_uri": "https://localhost:8080/"
    },
    "id": "lvF8o2oeUpuJ",
    "outputId": "eed33d5b-2a59-4083-a2bb-fb936a8d9729"
   },
   "outputs": [
    {
     "name": "stdout",
     "output_type": "stream",
     "text": [
      "(65532, 11)\n",
      "(65532,)\n"
     ]
    }
   ],
   "source": [
    "x3=df.drop([\"Action\"], axis=1)\n",
    "print(x3.shape)\n",
    "y3=df[\"Action\"]\n",
    "print(y3.shape)"
   ]
  },
  {
   "cell_type": "code",
   "execution_count": 17,
   "metadata": {
    "colab": {
     "base_uri": "https://localhost:8080/"
    },
    "id": "m5bA_V_-Am-R",
    "outputId": "48d3fbf6-8e52-4f18-8db6-6f1035f867b5"
   },
   "outputs": [
    {
     "name": "stdout",
     "output_type": "stream",
     "text": [
      "Values of y are:\n",
      "Counter({'allow': 37640, 'deny': 14987, 'drop': 12851, 'reset-both': 54})\n",
      "Values of y2 are:\n",
      "allow         37640\n",
      "deny          14987\n",
      "drop          12851\n",
      "reset-both       54\n",
      "Name: Action, dtype: int64\n"
     ]
    }
   ],
   "source": [
    "counter = Counter(y)\n",
    "print(\"Values of y are:\")\n",
    "print(counter)\n",
    "print(\"Values of y2 are:\")\n",
    "print(y2.value_counts())"
   ]
  },
  {
   "cell_type": "code",
   "execution_count": 18,
   "metadata": {
    "id": "-MUz2K7c2Tzg"
   },
   "outputs": [],
   "source": [
    "oversample = SMOTE()\n",
    "x2, y2 = oversample.fit_resample(x2, y2)"
   ]
  },
  {
   "cell_type": "code",
   "execution_count": 19,
   "metadata": {
    "colab": {
     "base_uri": "https://localhost:8080/"
    },
    "id": "aN8Ptlfn2fPs",
    "outputId": "b46fbba4-8ba7-4506-ae3c-83cd365e9d79"
   },
   "outputs": [
    {
     "name": "stdout",
     "output_type": "stream",
     "text": [
      "Values of y2 by using Smote are:\n",
      "allow         37640\n",
      "drop          37640\n",
      "deny          37640\n",
      "reset-both    37640\n",
      "Name: Action, dtype: int64\n"
     ]
    }
   ],
   "source": [
    "print(\"Values of y2 by using Smote are:\")\n",
    "print(y2.value_counts())"
   ]
  },
  {
   "cell_type": "code",
   "execution_count": 20,
   "metadata": {
    "id": "ezunxz_4UTlT"
   },
   "outputs": [],
   "source": [
    "#over = SMOTE(sampling_strategy=0.1)\n",
    "#under = RandomUnderSampler(sampling_strategy=1)\n",
    "#steps = [('o', over), ('u', under)]\n",
    "#pipeline = Pipeline(steps=steps)\n",
    "#x3, y3 = pipeline.fit_resample(x3, y3)"
   ]
  },
  {
   "cell_type": "markdown",
   "metadata": {
    "id": "5hyhgtkO4l0J"
   },
   "source": [
    "### **Spliting Training Data and Testing Data**"
   ]
  },
  {
   "cell_type": "code",
   "execution_count": 21,
   "metadata": {
    "colab": {
     "base_uri": "https://localhost:8080/"
    },
    "id": "Sd7OCQ282fzm",
    "outputId": "34e984c9-3472-4b96-fcd9-e1d4ea32e604"
   },
   "outputs": [
    {
     "name": "stdout",
     "output_type": "stream",
     "text": [
      "Splitted Data is as: (x_train), (x_test), (y_train), (y_test):\n",
      "(52425, 11) (13107, 11) (52425,) (13107,)\n",
      "Total Number of y_train values are:\n",
      "allow         30145\n",
      "deny          11995\n",
      "drop          10244\n",
      "reset-both       41\n",
      "Name: Action, dtype: int64\n",
      "Total Number of y_train values are:\n",
      "allow         7495\n",
      "deny          2992\n",
      "drop          2607\n",
      "reset-both      13\n",
      "Name: Action, dtype: int64\n"
     ]
    }
   ],
   "source": [
    "from sklearn.model_selection import train_test_split\n",
    "x_train, x_test, y_train, y_test=train_test_split(x,y,test_size=0.2, random_state=21)\n",
    "print(\"Splitted Data is as: (x_train), (x_test), (y_train), (y_test):\")\n",
    "print(x_train.shape, x_test.shape, y_train.shape, y_test.shape)\n",
    "print(\"Total Number of y_train values are:\")\n",
    "print(y_train.value_counts())\n",
    "print(\"Total Number of y_train values are:\")\n",
    "print(y_test.value_counts())"
   ]
  },
  {
   "cell_type": "code",
   "execution_count": 22,
   "metadata": {
    "colab": {
     "base_uri": "https://localhost:8080/"
    },
    "id": "0ZoC76CnAj1r",
    "outputId": "44ea2856-7f2a-4712-d343-3577d1c75bd2"
   },
   "outputs": [
    {
     "name": "stdout",
     "output_type": "stream",
     "text": [
      "Splitted Data is as: (x2_train), (x2_test), (y2_train), (y2_test):\n",
      "(120448, 11) (30112, 11) (120448,) (30112,)\n",
      "Total Number of y2_train values are:\n",
      "drop          30147\n",
      "deny          30125\n",
      "reset-both    30110\n",
      "allow         30066\n",
      "Name: Action, dtype: int64\n",
      "Total Number of y2_train values are:\n",
      "allow         7574\n",
      "reset-both    7530\n",
      "deny          7515\n",
      "drop          7493\n",
      "Name: Action, dtype: int64\n"
     ]
    }
   ],
   "source": [
    "from sklearn.model_selection import train_test_split\n",
    "x2_train, x2_test, y2_train, y2_test=train_test_split(x2,y2,test_size=0.2, random_state=21)\n",
    "print(\"Splitted Data is as: (x2_train), (x2_test), (y2_train), (y2_test):\")\n",
    "print(x2_train.shape, x2_test.shape, y2_train.shape, y2_test.shape)\n",
    "print(\"Total Number of y2_train values are:\")\n",
    "print(y2_train.value_counts())\n",
    "print(\"Total Number of y2_train values are:\")\n",
    "print(y2_test.value_counts())"
   ]
  },
  {
   "cell_type": "code",
   "execution_count": 23,
   "metadata": {
    "colab": {
     "base_uri": "https://localhost:8080/"
    },
    "id": "QLhf51IxXDxn",
    "outputId": "8b5cd26b-c38e-4061-cac0-d9da8ab2b676"
   },
   "outputs": [
    {
     "data": {
      "text/plain": [
       "drop          30147\n",
       "deny          30125\n",
       "reset-both    30110\n",
       "allow         30066\n",
       "Name: Action, dtype: int64"
      ]
     },
     "execution_count": 23,
     "metadata": {},
     "output_type": "execute_result"
    }
   ],
   "source": [
    "y2_train.value_counts()"
   ]
  },
  {
   "cell_type": "code",
   "execution_count": 24,
   "metadata": {
    "id": "SvOqEgX05wxd"
   },
   "outputs": [],
   "source": [
    "#from sklearn.model_selection import StratifiedShuffleSplit"
   ]
  },
  {
   "cell_type": "markdown",
   "metadata": {
    "id": "54pm_BRX9MW2"
   },
   "source": [
    "We would have used from sklearn.model_selection import StratifiedShuffleSplit for splitting the data set equally. Lets say if we had only 25 entries of deny and all of these are dumped in testing data. Then, model wont be able to know that there was a deny command as well in the data. And model will be under trained. As it will be confused for deny entries.\n"
   ]
  },
  {
   "cell_type": "code",
   "execution_count": 25,
   "metadata": {
    "colab": {
     "base_uri": "https://localhost:8080/"
    },
    "id": "xDyD1_HRLV46",
    "outputId": "bcb67446-edec-4815-eb44-d37923c60424"
   },
   "outputs": [
    {
     "name": "stdout",
     "output_type": "stream",
     "text": [
      "<class 'pandas.core.frame.DataFrame'>\n",
      "RangeIndex: 65532 entries, 0 to 65531\n",
      "Data columns (total 11 columns):\n",
      " #   Column                Non-Null Count  Dtype\n",
      "---  ------                --------------  -----\n",
      " 0   Source Port           65532 non-null  int64\n",
      " 1   Destination Port      65532 non-null  int64\n",
      " 2   NAT Source Port       65532 non-null  int64\n",
      " 3   NAT Destination Port  65532 non-null  int64\n",
      " 4   Bytes                 65532 non-null  int64\n",
      " 5   Bytes Sent            65532 non-null  int64\n",
      " 6   Bytes Received        65532 non-null  int64\n",
      " 7   Packets               65532 non-null  int64\n",
      " 8   Elapsed Time (sec)    65532 non-null  int64\n",
      " 9   pkts_sent             65532 non-null  int64\n",
      " 10  pkts_received         65532 non-null  int64\n",
      "dtypes: int64(11)\n",
      "memory usage: 5.5 MB\n"
     ]
    }
   ],
   "source": [
    "x.info()"
   ]
  },
  {
   "cell_type": "markdown",
   "metadata": {
    "id": "tC6rRN0F3YvQ"
   },
   "source": [
    "## **FEATURE SCALING**"
   ]
  },
  {
   "cell_type": "markdown",
   "metadata": {
    "id": "MHoRIFW9BxSz"
   },
   "source": [
    "There are two types for feature scaling in Sklearn library.\n",
    "\n",
    "1.   MinMaxScaler (Normalization)\n",
    "Formula is basically ((Value-Min)/(Max-Min))\n",
    "\n",
    "2.   StandardScaler (Standardization) \n",
    "Formula is ((Value-Mean)/(Std))\n",
    "\n",
    "We could have scaled data before splitting as well. But in case if we need original data without scaling, then we will need to introduce new variable. So, new variables are already introduced to avoid any inconvinience.\n",
    "\n"
   ]
  },
  {
   "cell_type": "code",
   "execution_count": 26,
   "metadata": {
    "id": "gIjAk1p6oqNk"
   },
   "outputs": [],
   "source": [
    "from sklearn.preprocessing import StandardScaler\n",
    "scaler=StandardScaler()\n",
    "scaler.fit(x_train)\n",
    "x_train_sc=scaler.transform(x_train)\n",
    "x_test_sc=scaler.transform(x_test)"
   ]
  },
  {
   "cell_type": "code",
   "execution_count": 27,
   "metadata": {
    "id": "ECdHiljwLY2N"
   },
   "outputs": [],
   "source": [
    "from sklearn.preprocessing import StandardScaler\n",
    "scaler=StandardScaler()\n",
    "scaler.fit(x2_train)\n",
    "x2_train_sc=scaler.transform(x2_train)\n",
    "x2_test_sc=scaler.transform(x2_test)"
   ]
  },
  {
   "cell_type": "code",
   "execution_count": 28,
   "metadata": {
    "colab": {
     "base_uri": "https://localhost:8080/"
    },
    "id": "byZkv6Q--R3R",
    "outputId": "b0807fad-898e-4be0-f6b4-d0d81a47369f"
   },
   "outputs": [
    {
     "data": {
      "text/plain": [
       "array([[ 0.92143407, -0.5492364 , -0.87816149, ..., -0.22065615,\n",
       "        -0.01987704, -0.02876705],\n",
       "       [-2.42006536,  0.04407232, -0.87816149, ..., -0.22065615,\n",
       "        -0.01987704, -0.02876705],\n",
       "       [ 0.00383689,  0.89314278,  0.82179396, ..., -0.1209097 ,\n",
       "        -0.01987704, -0.02824988],\n",
       "       ...,\n",
       "       [ 0.56086279, -0.56901877,  0.27465411, ..., -0.14085899,\n",
       "        -0.01506342, -0.02566404],\n",
       "       [ 0.04234068, -0.56901877,  1.09575108, ...,  0.06528368,\n",
       "        -0.01643874, -0.02669838],\n",
       "       [ 0.08123804, -0.56901877,  1.42674085, ..., -0.13088434,\n",
       "        -0.00681151, -0.02049237]])"
      ]
     },
     "execution_count": 28,
     "metadata": {},
     "output_type": "execute_result"
    }
   ],
   "source": [
    "x_train_sc"
   ]
  },
  {
   "cell_type": "code",
   "execution_count": 29,
   "metadata": {
    "colab": {
     "base_uri": "https://localhost:8080/"
    },
    "id": "TPRb08GfH_75",
    "outputId": "7a84972a-a34e-4a12-fc72-7ce0af86e35d"
   },
   "outputs": [
    {
     "data": {
      "text/plain": [
       "array([[ 0.95943008,  0.70862213, -0.54661575, ..., -0.14192365,\n",
       "        -0.00777168, -0.02073216],\n",
       "       [ 0.76899846, -0.79445698,  0.38429048, ..., -0.05780969,\n",
       "        -0.00458793, -0.01557773],\n",
       "       [-2.05134148,  0.48409331, -0.54661575, ..., -0.14192365,\n",
       "        -0.00777168, -0.02073216],\n",
       "       ...,\n",
       "       [ 0.47291573,  0.88149737, -0.54661575, ..., -0.14192365,\n",
       "        -0.00777168, -0.02073216],\n",
       "       [ 0.62591517, -0.43208578, -0.54661575, ..., -0.14192365,\n",
       "        -0.00777168, -0.02073216],\n",
       "       [ 0.40729262, -0.77629363, -0.54661575, ..., -0.14192365,\n",
       "        -0.00777168, -0.02073216]])"
      ]
     },
     "execution_count": 29,
     "metadata": {},
     "output_type": "execute_result"
    }
   ],
   "source": [
    "x2_train_sc"
   ]
  },
  {
   "cell_type": "markdown",
   "metadata": {
    "id": "RjZh4w0UPLyT"
   },
   "source": [
    "## **IMPLEMENTING MODELS:**"
   ]
  },
  {
   "cell_type": "markdown",
   "metadata": {
    "id": "_ZHmexPG0eSK"
   },
   "source": [
    "## **K-Nearest Neighbors Model**"
   ]
  },
  {
   "cell_type": "markdown",
   "metadata": {
    "id": "6YcVVU9s0jdW"
   },
   "source": [
    "The model is implemented with original data, original data modified by smote, scaled data and scaled data modified by smote. \n",
    "Hypetuning was done by iterating K values only. \n",
    "We can also choose diferent distance formulas option as well to calculate the distance. Like Eculadian distance or hamming distance or manhattan distance."
   ]
  },
  {
   "cell_type": "markdown",
   "metadata": {
    "id": "g0WR6_NbLByb"
   },
   "source": [
    "### ***KNN Model using Original Data***"
   ]
  },
  {
   "cell_type": "code",
   "execution_count": 30,
   "metadata": {
    "colab": {
     "base_uri": "https://localhost:8080/"
    },
    "id": "W3WDGj05-fFs",
    "outputId": "b6a45c05-3e4b-414a-8e2e-057aaae52b01"
   },
   "outputs": [
    {
     "name": "stderr",
     "output_type": "stream",
     "text": [
      "C:\\Users\\engrs\\anaconda3\\lib\\site-packages\\sklearn\\neighbors\\_classification.py:228: FutureWarning: Unlike other reduction functions (e.g. `skew`, `kurtosis`), the default behavior of `mode` typically preserves the axis it acts along. In SciPy 1.11.0, this behavior will change: the default value of `keepdims` will become False, the `axis` over which the statistic is taken will be eliminated, and the value None will no longer be accepted. Set `keepdims` to True or False to avoid this warning.\n",
      "  mode, _ = stats.mode(_y[neigh_ind, k], axis=1)\n"
     ]
    },
    {
     "name": "stdout",
     "output_type": "stream",
     "text": [
      "Prediction Shape when, k= 1\n",
      "(13107,)\n",
      "Classification Report when, k= 1\n",
      "              precision    recall  f1-score   support\n",
      "\n",
      "       allow       1.00      1.00      1.00      7495\n",
      "        deny       0.98      0.99      0.99      2992\n",
      "        drop       1.00      1.00      1.00      2607\n",
      "  reset-both       1.00      0.23      0.38        13\n",
      "\n",
      "    accuracy                           0.99     13107\n",
      "   macro avg       0.99      0.80      0.84     13107\n",
      "weighted avg       0.99      0.99      0.99     13107\n",
      "\n",
      "Classifier Score when, k= 1\n"
     ]
    },
    {
     "name": "stderr",
     "output_type": "stream",
     "text": [
      "C:\\Users\\engrs\\anaconda3\\lib\\site-packages\\sklearn\\neighbors\\_classification.py:228: FutureWarning: Unlike other reduction functions (e.g. `skew`, `kurtosis`), the default behavior of `mode` typically preserves the axis it acts along. In SciPy 1.11.0, this behavior will change: the default value of `keepdims` will become False, the `axis` over which the statistic is taken will be eliminated, and the value None will no longer be accepted. Set `keepdims` to True or False to avoid this warning.\n",
      "  mode, _ = stats.mode(_y[neigh_ind, k], axis=1)\n"
     ]
    },
    {
     "name": "stdout",
     "output_type": "stream",
     "text": [
      "0.9997329518359561\n",
      "Classifier Score with Predictions, when k= 1\n"
     ]
    },
    {
     "name": "stderr",
     "output_type": "stream",
     "text": [
      "C:\\Users\\engrs\\anaconda3\\lib\\site-packages\\sklearn\\neighbors\\_classification.py:228: FutureWarning: Unlike other reduction functions (e.g. `skew`, `kurtosis`), the default behavior of `mode` typically preserves the axis it acts along. In SciPy 1.11.0, this behavior will change: the default value of `keepdims` will become False, the `axis` over which the statistic is taken will be eliminated, and the value None will no longer be accepted. Set `keepdims` to True or False to avoid this warning.\n",
      "  mode, _ = stats.mode(_y[neigh_ind, k], axis=1)\n"
     ]
    },
    {
     "name": "stdout",
     "output_type": "stream",
     "text": [
      "1.0\n"
     ]
    },
    {
     "name": "stderr",
     "output_type": "stream",
     "text": [
      "C:\\Users\\engrs\\anaconda3\\lib\\site-packages\\sklearn\\neighbors\\_classification.py:228: FutureWarning: Unlike other reduction functions (e.g. `skew`, `kurtosis`), the default behavior of `mode` typically preserves the axis it acts along. In SciPy 1.11.0, this behavior will change: the default value of `keepdims` will become False, the `axis` over which the statistic is taken will be eliminated, and the value None will no longer be accepted. Set `keepdims` to True or False to avoid this warning.\n",
      "  mode, _ = stats.mode(_y[neigh_ind, k], axis=1)\n"
     ]
    },
    {
     "name": "stdout",
     "output_type": "stream",
     "text": [
      "Prediction Shape when, k= 2\n",
      "(13107,)\n",
      "Classification Report when, k= 2\n"
     ]
    },
    {
     "name": "stderr",
     "output_type": "stream",
     "text": [
      "C:\\Users\\engrs\\anaconda3\\lib\\site-packages\\sklearn\\metrics\\_classification.py:1318: UndefinedMetricWarning: Precision and F-score are ill-defined and being set to 0.0 in labels with no predicted samples. Use `zero_division` parameter to control this behavior.\n",
      "  _warn_prf(average, modifier, msg_start, len(result))\n",
      "C:\\Users\\engrs\\anaconda3\\lib\\site-packages\\sklearn\\metrics\\_classification.py:1318: UndefinedMetricWarning: Precision and F-score are ill-defined and being set to 0.0 in labels with no predicted samples. Use `zero_division` parameter to control this behavior.\n",
      "  _warn_prf(average, modifier, msg_start, len(result))\n",
      "C:\\Users\\engrs\\anaconda3\\lib\\site-packages\\sklearn\\metrics\\_classification.py:1318: UndefinedMetricWarning: Precision and F-score are ill-defined and being set to 0.0 in labels with no predicted samples. Use `zero_division` parameter to control this behavior.\n",
      "  _warn_prf(average, modifier, msg_start, len(result))\n"
     ]
    },
    {
     "name": "stdout",
     "output_type": "stream",
     "text": [
      "              precision    recall  f1-score   support\n",
      "\n",
      "       allow       1.00      1.00      1.00      7495\n",
      "        deny       0.98      0.99      0.98      2992\n",
      "        drop       1.00      0.99      0.99      2607\n",
      "  reset-both       0.00      0.00      0.00        13\n",
      "\n",
      "    accuracy                           0.99     13107\n",
      "   macro avg       0.74      0.74      0.74     13107\n",
      "weighted avg       0.99      0.99      0.99     13107\n",
      "\n",
      "Classifier Score when, k= 2\n"
     ]
    },
    {
     "name": "stderr",
     "output_type": "stream",
     "text": [
      "C:\\Users\\engrs\\anaconda3\\lib\\site-packages\\sklearn\\neighbors\\_classification.py:228: FutureWarning: Unlike other reduction functions (e.g. `skew`, `kurtosis`), the default behavior of `mode` typically preserves the axis it acts along. In SciPy 1.11.0, this behavior will change: the default value of `keepdims` will become False, the `axis` over which the statistic is taken will be eliminated, and the value None will no longer be accepted. Set `keepdims` to True or False to avoid this warning.\n",
      "  mode, _ = stats.mode(_y[neigh_ind, k], axis=1)\n"
     ]
    },
    {
     "name": "stdout",
     "output_type": "stream",
     "text": [
      "0.996967095851216\n",
      "Classifier Score with Predictions, when k= 2\n"
     ]
    },
    {
     "name": "stderr",
     "output_type": "stream",
     "text": [
      "C:\\Users\\engrs\\anaconda3\\lib\\site-packages\\sklearn\\neighbors\\_classification.py:228: FutureWarning: Unlike other reduction functions (e.g. `skew`, `kurtosis`), the default behavior of `mode` typically preserves the axis it acts along. In SciPy 1.11.0, this behavior will change: the default value of `keepdims` will become False, the `axis` over which the statistic is taken will be eliminated, and the value None will no longer be accepted. Set `keepdims` to True or False to avoid this warning.\n",
      "  mode, _ = stats.mode(_y[neigh_ind, k], axis=1)\n"
     ]
    },
    {
     "name": "stdout",
     "output_type": "stream",
     "text": [
      "1.0\n"
     ]
    },
    {
     "name": "stderr",
     "output_type": "stream",
     "text": [
      "C:\\Users\\engrs\\anaconda3\\lib\\site-packages\\sklearn\\neighbors\\_classification.py:228: FutureWarning: Unlike other reduction functions (e.g. `skew`, `kurtosis`), the default behavior of `mode` typically preserves the axis it acts along. In SciPy 1.11.0, this behavior will change: the default value of `keepdims` will become False, the `axis` over which the statistic is taken will be eliminated, and the value None will no longer be accepted. Set `keepdims` to True or False to avoid this warning.\n",
      "  mode, _ = stats.mode(_y[neigh_ind, k], axis=1)\n"
     ]
    },
    {
     "name": "stdout",
     "output_type": "stream",
     "text": [
      "Prediction Shape when, k= 3\n",
      "(13107,)\n",
      "Classification Report when, k= 3\n"
     ]
    },
    {
     "name": "stderr",
     "output_type": "stream",
     "text": [
      "C:\\Users\\engrs\\anaconda3\\lib\\site-packages\\sklearn\\metrics\\_classification.py:1318: UndefinedMetricWarning: Precision and F-score are ill-defined and being set to 0.0 in labels with no predicted samples. Use `zero_division` parameter to control this behavior.\n",
      "  _warn_prf(average, modifier, msg_start, len(result))\n",
      "C:\\Users\\engrs\\anaconda3\\lib\\site-packages\\sklearn\\metrics\\_classification.py:1318: UndefinedMetricWarning: Precision and F-score are ill-defined and being set to 0.0 in labels with no predicted samples. Use `zero_division` parameter to control this behavior.\n",
      "  _warn_prf(average, modifier, msg_start, len(result))\n",
      "C:\\Users\\engrs\\anaconda3\\lib\\site-packages\\sklearn\\metrics\\_classification.py:1318: UndefinedMetricWarning: Precision and F-score are ill-defined and being set to 0.0 in labels with no predicted samples. Use `zero_division` parameter to control this behavior.\n",
      "  _warn_prf(average, modifier, msg_start, len(result))\n"
     ]
    },
    {
     "name": "stdout",
     "output_type": "stream",
     "text": [
      "              precision    recall  f1-score   support\n",
      "\n",
      "       allow       1.00      1.00      1.00      7495\n",
      "        deny       0.98      0.99      0.99      2992\n",
      "        drop       1.00      1.00      1.00      2607\n",
      "  reset-both       0.00      0.00      0.00        13\n",
      "\n",
      "    accuracy                           0.99     13107\n",
      "   macro avg       0.74      0.75      0.75     13107\n",
      "weighted avg       0.99      0.99      0.99     13107\n",
      "\n",
      "Classifier Score when, k= 3\n"
     ]
    },
    {
     "name": "stderr",
     "output_type": "stream",
     "text": [
      "C:\\Users\\engrs\\anaconda3\\lib\\site-packages\\sklearn\\neighbors\\_classification.py:228: FutureWarning: Unlike other reduction functions (e.g. `skew`, `kurtosis`), the default behavior of `mode` typically preserves the axis it acts along. In SciPy 1.11.0, this behavior will change: the default value of `keepdims` will become False, the `axis` over which the statistic is taken will be eliminated, and the value None will no longer be accepted. Set `keepdims` to True or False to avoid this warning.\n",
      "  mode, _ = stats.mode(_y[neigh_ind, k], axis=1)\n"
     ]
    },
    {
     "name": "stdout",
     "output_type": "stream",
     "text": [
      "0.9957463042441583\n",
      "Classifier Score with Predictions, when k= 3\n"
     ]
    },
    {
     "name": "stderr",
     "output_type": "stream",
     "text": [
      "C:\\Users\\engrs\\anaconda3\\lib\\site-packages\\sklearn\\neighbors\\_classification.py:228: FutureWarning: Unlike other reduction functions (e.g. `skew`, `kurtosis`), the default behavior of `mode` typically preserves the axis it acts along. In SciPy 1.11.0, this behavior will change: the default value of `keepdims` will become False, the `axis` over which the statistic is taken will be eliminated, and the value None will no longer be accepted. Set `keepdims` to True or False to avoid this warning.\n",
      "  mode, _ = stats.mode(_y[neigh_ind, k], axis=1)\n"
     ]
    },
    {
     "name": "stdout",
     "output_type": "stream",
     "text": [
      "1.0\n"
     ]
    },
    {
     "name": "stderr",
     "output_type": "stream",
     "text": [
      "C:\\Users\\engrs\\anaconda3\\lib\\site-packages\\sklearn\\neighbors\\_classification.py:228: FutureWarning: Unlike other reduction functions (e.g. `skew`, `kurtosis`), the default behavior of `mode` typically preserves the axis it acts along. In SciPy 1.11.0, this behavior will change: the default value of `keepdims` will become False, the `axis` over which the statistic is taken will be eliminated, and the value None will no longer be accepted. Set `keepdims` to True or False to avoid this warning.\n",
      "  mode, _ = stats.mode(_y[neigh_ind, k], axis=1)\n"
     ]
    },
    {
     "name": "stdout",
     "output_type": "stream",
     "text": [
      "Prediction Shape when, k= 4\n",
      "(13107,)\n",
      "Classification Report when, k= 4\n"
     ]
    },
    {
     "name": "stderr",
     "output_type": "stream",
     "text": [
      "C:\\Users\\engrs\\anaconda3\\lib\\site-packages\\sklearn\\metrics\\_classification.py:1318: UndefinedMetricWarning: Precision and F-score are ill-defined and being set to 0.0 in labels with no predicted samples. Use `zero_division` parameter to control this behavior.\n",
      "  _warn_prf(average, modifier, msg_start, len(result))\n",
      "C:\\Users\\engrs\\anaconda3\\lib\\site-packages\\sklearn\\metrics\\_classification.py:1318: UndefinedMetricWarning: Precision and F-score are ill-defined and being set to 0.0 in labels with no predicted samples. Use `zero_division` parameter to control this behavior.\n",
      "  _warn_prf(average, modifier, msg_start, len(result))\n",
      "C:\\Users\\engrs\\anaconda3\\lib\\site-packages\\sklearn\\metrics\\_classification.py:1318: UndefinedMetricWarning: Precision and F-score are ill-defined and being set to 0.0 in labels with no predicted samples. Use `zero_division` parameter to control this behavior.\n",
      "  _warn_prf(average, modifier, msg_start, len(result))\n"
     ]
    },
    {
     "name": "stdout",
     "output_type": "stream",
     "text": [
      "              precision    recall  f1-score   support\n",
      "\n",
      "       allow       1.00      1.00      1.00      7495\n",
      "        deny       0.98      0.99      0.99      2992\n",
      "        drop       1.00      1.00      1.00      2607\n",
      "  reset-both       0.00      0.00      0.00        13\n",
      "\n",
      "    accuracy                           0.99     13107\n",
      "   macro avg       0.74      0.75      0.74     13107\n",
      "weighted avg       0.99      0.99      0.99     13107\n",
      "\n",
      "Classifier Score when, k= 4\n"
     ]
    },
    {
     "name": "stderr",
     "output_type": "stream",
     "text": [
      "C:\\Users\\engrs\\anaconda3\\lib\\site-packages\\sklearn\\neighbors\\_classification.py:228: FutureWarning: Unlike other reduction functions (e.g. `skew`, `kurtosis`), the default behavior of `mode` typically preserves the axis it acts along. In SciPy 1.11.0, this behavior will change: the default value of `keepdims` will become False, the `axis` over which the statistic is taken will be eliminated, and the value None will no longer be accepted. Set `keepdims` to True or False to avoid this warning.\n",
      "  mode, _ = stats.mode(_y[neigh_ind, k], axis=1)\n"
     ]
    },
    {
     "name": "stdout",
     "output_type": "stream",
     "text": [
      "0.9952122079160706\n",
      "Classifier Score with Predictions, when k= 4\n"
     ]
    },
    {
     "name": "stderr",
     "output_type": "stream",
     "text": [
      "C:\\Users\\engrs\\anaconda3\\lib\\site-packages\\sklearn\\neighbors\\_classification.py:228: FutureWarning: Unlike other reduction functions (e.g. `skew`, `kurtosis`), the default behavior of `mode` typically preserves the axis it acts along. In SciPy 1.11.0, this behavior will change: the default value of `keepdims` will become False, the `axis` over which the statistic is taken will be eliminated, and the value None will no longer be accepted. Set `keepdims` to True or False to avoid this warning.\n",
      "  mode, _ = stats.mode(_y[neigh_ind, k], axis=1)\n"
     ]
    },
    {
     "name": "stdout",
     "output_type": "stream",
     "text": [
      "1.0\n"
     ]
    },
    {
     "name": "stderr",
     "output_type": "stream",
     "text": [
      "C:\\Users\\engrs\\anaconda3\\lib\\site-packages\\sklearn\\neighbors\\_classification.py:228: FutureWarning: Unlike other reduction functions (e.g. `skew`, `kurtosis`), the default behavior of `mode` typically preserves the axis it acts along. In SciPy 1.11.0, this behavior will change: the default value of `keepdims` will become False, the `axis` over which the statistic is taken will be eliminated, and the value None will no longer be accepted. Set `keepdims` to True or False to avoid this warning.\n",
      "  mode, _ = stats.mode(_y[neigh_ind, k], axis=1)\n"
     ]
    },
    {
     "name": "stdout",
     "output_type": "stream",
     "text": [
      "Prediction Shape when, k= 5\n",
      "(13107,)\n",
      "Classification Report when, k= 5\n"
     ]
    },
    {
     "name": "stderr",
     "output_type": "stream",
     "text": [
      "C:\\Users\\engrs\\anaconda3\\lib\\site-packages\\sklearn\\metrics\\_classification.py:1318: UndefinedMetricWarning: Precision and F-score are ill-defined and being set to 0.0 in labels with no predicted samples. Use `zero_division` parameter to control this behavior.\n",
      "  _warn_prf(average, modifier, msg_start, len(result))\n",
      "C:\\Users\\engrs\\anaconda3\\lib\\site-packages\\sklearn\\metrics\\_classification.py:1318: UndefinedMetricWarning: Precision and F-score are ill-defined and being set to 0.0 in labels with no predicted samples. Use `zero_division` parameter to control this behavior.\n",
      "  _warn_prf(average, modifier, msg_start, len(result))\n",
      "C:\\Users\\engrs\\anaconda3\\lib\\site-packages\\sklearn\\metrics\\_classification.py:1318: UndefinedMetricWarning: Precision and F-score are ill-defined and being set to 0.0 in labels with no predicted samples. Use `zero_division` parameter to control this behavior.\n",
      "  _warn_prf(average, modifier, msg_start, len(result))\n"
     ]
    },
    {
     "name": "stdout",
     "output_type": "stream",
     "text": [
      "              precision    recall  f1-score   support\n",
      "\n",
      "       allow       1.00      0.99      1.00      7495\n",
      "        deny       0.98      0.99      0.99      2992\n",
      "        drop       1.00      1.00      1.00      2607\n",
      "  reset-both       0.00      0.00      0.00        13\n",
      "\n",
      "    accuracy                           0.99     13107\n",
      "   macro avg       0.74      0.75      0.74     13107\n",
      "weighted avg       0.99      0.99      0.99     13107\n",
      "\n",
      "Classifier Score when, k= 5\n"
     ]
    },
    {
     "name": "stderr",
     "output_type": "stream",
     "text": [
      "C:\\Users\\engrs\\anaconda3\\lib\\site-packages\\sklearn\\neighbors\\_classification.py:228: FutureWarning: Unlike other reduction functions (e.g. `skew`, `kurtosis`), the default behavior of `mode` typically preserves the axis it acts along. In SciPy 1.11.0, this behavior will change: the default value of `keepdims` will become False, the `axis` over which the statistic is taken will be eliminated, and the value None will no longer be accepted. Set `keepdims` to True or False to avoid this warning.\n",
      "  mode, _ = stats.mode(_y[neigh_ind, k], axis=1)\n"
     ]
    },
    {
     "name": "stdout",
     "output_type": "stream",
     "text": [
      "0.9949451597520267\n",
      "Classifier Score with Predictions, when k= 5\n"
     ]
    },
    {
     "name": "stderr",
     "output_type": "stream",
     "text": [
      "C:\\Users\\engrs\\anaconda3\\lib\\site-packages\\sklearn\\neighbors\\_classification.py:228: FutureWarning: Unlike other reduction functions (e.g. `skew`, `kurtosis`), the default behavior of `mode` typically preserves the axis it acts along. In SciPy 1.11.0, this behavior will change: the default value of `keepdims` will become False, the `axis` over which the statistic is taken will be eliminated, and the value None will no longer be accepted. Set `keepdims` to True or False to avoid this warning.\n",
      "  mode, _ = stats.mode(_y[neigh_ind, k], axis=1)\n"
     ]
    },
    {
     "name": "stdout",
     "output_type": "stream",
     "text": [
      "1.0\n"
     ]
    },
    {
     "name": "stderr",
     "output_type": "stream",
     "text": [
      "C:\\Users\\engrs\\anaconda3\\lib\\site-packages\\sklearn\\neighbors\\_classification.py:228: FutureWarning: Unlike other reduction functions (e.g. `skew`, `kurtosis`), the default behavior of `mode` typically preserves the axis it acts along. In SciPy 1.11.0, this behavior will change: the default value of `keepdims` will become False, the `axis` over which the statistic is taken will be eliminated, and the value None will no longer be accepted. Set `keepdims` to True or False to avoid this warning.\n",
      "  mode, _ = stats.mode(_y[neigh_ind, k], axis=1)\n"
     ]
    },
    {
     "name": "stdout",
     "output_type": "stream",
     "text": [
      "Prediction Shape when, k= 6\n",
      "(13107,)\n",
      "Classification Report when, k= 6\n"
     ]
    },
    {
     "name": "stderr",
     "output_type": "stream",
     "text": [
      "C:\\Users\\engrs\\anaconda3\\lib\\site-packages\\sklearn\\metrics\\_classification.py:1318: UndefinedMetricWarning: Precision and F-score are ill-defined and being set to 0.0 in labels with no predicted samples. Use `zero_division` parameter to control this behavior.\n",
      "  _warn_prf(average, modifier, msg_start, len(result))\n",
      "C:\\Users\\engrs\\anaconda3\\lib\\site-packages\\sklearn\\metrics\\_classification.py:1318: UndefinedMetricWarning: Precision and F-score are ill-defined and being set to 0.0 in labels with no predicted samples. Use `zero_division` parameter to control this behavior.\n",
      "  _warn_prf(average, modifier, msg_start, len(result))\n",
      "C:\\Users\\engrs\\anaconda3\\lib\\site-packages\\sklearn\\metrics\\_classification.py:1318: UndefinedMetricWarning: Precision and F-score are ill-defined and being set to 0.0 in labels with no predicted samples. Use `zero_division` parameter to control this behavior.\n",
      "  _warn_prf(average, modifier, msg_start, len(result))\n"
     ]
    },
    {
     "name": "stdout",
     "output_type": "stream",
     "text": [
      "              precision    recall  f1-score   support\n",
      "\n",
      "       allow       1.00      0.99      1.00      7495\n",
      "        deny       0.98      0.99      0.99      2992\n",
      "        drop       1.00      1.00      1.00      2607\n",
      "  reset-both       0.00      0.00      0.00        13\n",
      "\n",
      "    accuracy                           0.99     13107\n",
      "   macro avg       0.74      0.75      0.74     13107\n",
      "weighted avg       0.99      0.99      0.99     13107\n",
      "\n",
      "Classifier Score when, k= 6\n"
     ]
    },
    {
     "name": "stderr",
     "output_type": "stream",
     "text": [
      "C:\\Users\\engrs\\anaconda3\\lib\\site-packages\\sklearn\\neighbors\\_classification.py:228: FutureWarning: Unlike other reduction functions (e.g. `skew`, `kurtosis`), the default behavior of `mode` typically preserves the axis it acts along. In SciPy 1.11.0, this behavior will change: the default value of `keepdims` will become False, the `axis` over which the statistic is taken will be eliminated, and the value None will no longer be accepted. Set `keepdims` to True or False to avoid this warning.\n",
      "  mode, _ = stats.mode(_y[neigh_ind, k], axis=1)\n"
     ]
    },
    {
     "name": "stdout",
     "output_type": "stream",
     "text": [
      "0.9947162613257033\n",
      "Classifier Score with Predictions, when k= 6\n"
     ]
    },
    {
     "name": "stderr",
     "output_type": "stream",
     "text": [
      "C:\\Users\\engrs\\anaconda3\\lib\\site-packages\\sklearn\\neighbors\\_classification.py:228: FutureWarning: Unlike other reduction functions (e.g. `skew`, `kurtosis`), the default behavior of `mode` typically preserves the axis it acts along. In SciPy 1.11.0, this behavior will change: the default value of `keepdims` will become False, the `axis` over which the statistic is taken will be eliminated, and the value None will no longer be accepted. Set `keepdims` to True or False to avoid this warning.\n",
      "  mode, _ = stats.mode(_y[neigh_ind, k], axis=1)\n"
     ]
    },
    {
     "name": "stdout",
     "output_type": "stream",
     "text": [
      "1.0\n"
     ]
    },
    {
     "name": "stderr",
     "output_type": "stream",
     "text": [
      "C:\\Users\\engrs\\anaconda3\\lib\\site-packages\\sklearn\\neighbors\\_classification.py:228: FutureWarning: Unlike other reduction functions (e.g. `skew`, `kurtosis`), the default behavior of `mode` typically preserves the axis it acts along. In SciPy 1.11.0, this behavior will change: the default value of `keepdims` will become False, the `axis` over which the statistic is taken will be eliminated, and the value None will no longer be accepted. Set `keepdims` to True or False to avoid this warning.\n",
      "  mode, _ = stats.mode(_y[neigh_ind, k], axis=1)\n"
     ]
    },
    {
     "name": "stdout",
     "output_type": "stream",
     "text": [
      "Prediction Shape when, k= 7\n",
      "(13107,)\n",
      "Classification Report when, k= 7\n"
     ]
    },
    {
     "name": "stderr",
     "output_type": "stream",
     "text": [
      "C:\\Users\\engrs\\anaconda3\\lib\\site-packages\\sklearn\\metrics\\_classification.py:1318: UndefinedMetricWarning: Precision and F-score are ill-defined and being set to 0.0 in labels with no predicted samples. Use `zero_division` parameter to control this behavior.\n",
      "  _warn_prf(average, modifier, msg_start, len(result))\n",
      "C:\\Users\\engrs\\anaconda3\\lib\\site-packages\\sklearn\\metrics\\_classification.py:1318: UndefinedMetricWarning: Precision and F-score are ill-defined and being set to 0.0 in labels with no predicted samples. Use `zero_division` parameter to control this behavior.\n",
      "  _warn_prf(average, modifier, msg_start, len(result))\n",
      "C:\\Users\\engrs\\anaconda3\\lib\\site-packages\\sklearn\\metrics\\_classification.py:1318: UndefinedMetricWarning: Precision and F-score are ill-defined and being set to 0.0 in labels with no predicted samples. Use `zero_division` parameter to control this behavior.\n",
      "  _warn_prf(average, modifier, msg_start, len(result))\n"
     ]
    },
    {
     "name": "stdout",
     "output_type": "stream",
     "text": [
      "              precision    recall  f1-score   support\n",
      "\n",
      "       allow       1.00      0.99      1.00      7495\n",
      "        deny       0.98      0.99      0.99      2992\n",
      "        drop       1.00      1.00      1.00      2607\n",
      "  reset-both       0.00      0.00      0.00        13\n",
      "\n",
      "    accuracy                           0.99     13107\n",
      "   macro avg       0.74      0.75      0.74     13107\n",
      "weighted avg       0.99      0.99      0.99     13107\n",
      "\n",
      "Classifier Score when, k= 7\n"
     ]
    },
    {
     "name": "stderr",
     "output_type": "stream",
     "text": [
      "C:\\Users\\engrs\\anaconda3\\lib\\site-packages\\sklearn\\neighbors\\_classification.py:228: FutureWarning: Unlike other reduction functions (e.g. `skew`, `kurtosis`), the default behavior of `mode` typically preserves the axis it acts along. In SciPy 1.11.0, this behavior will change: the default value of `keepdims` will become False, the `axis` over which the statistic is taken will be eliminated, and the value None will no longer be accepted. Set `keepdims` to True or False to avoid this warning.\n",
      "  mode, _ = stats.mode(_y[neigh_ind, k], axis=1)\n"
     ]
    },
    {
     "name": "stdout",
     "output_type": "stream",
     "text": [
      "0.9942393896041964\n",
      "Classifier Score with Predictions, when k= 7\n"
     ]
    },
    {
     "name": "stderr",
     "output_type": "stream",
     "text": [
      "C:\\Users\\engrs\\anaconda3\\lib\\site-packages\\sklearn\\neighbors\\_classification.py:228: FutureWarning: Unlike other reduction functions (e.g. `skew`, `kurtosis`), the default behavior of `mode` typically preserves the axis it acts along. In SciPy 1.11.0, this behavior will change: the default value of `keepdims` will become False, the `axis` over which the statistic is taken will be eliminated, and the value None will no longer be accepted. Set `keepdims` to True or False to avoid this warning.\n",
      "  mode, _ = stats.mode(_y[neigh_ind, k], axis=1)\n"
     ]
    },
    {
     "name": "stdout",
     "output_type": "stream",
     "text": [
      "1.0\n"
     ]
    },
    {
     "name": "stderr",
     "output_type": "stream",
     "text": [
      "C:\\Users\\engrs\\anaconda3\\lib\\site-packages\\sklearn\\neighbors\\_classification.py:228: FutureWarning: Unlike other reduction functions (e.g. `skew`, `kurtosis`), the default behavior of `mode` typically preserves the axis it acts along. In SciPy 1.11.0, this behavior will change: the default value of `keepdims` will become False, the `axis` over which the statistic is taken will be eliminated, and the value None will no longer be accepted. Set `keepdims` to True or False to avoid this warning.\n",
      "  mode, _ = stats.mode(_y[neigh_ind, k], axis=1)\n"
     ]
    },
    {
     "name": "stdout",
     "output_type": "stream",
     "text": [
      "Prediction Shape when, k= 8\n",
      "(13107,)\n",
      "Classification Report when, k= 8\n"
     ]
    },
    {
     "name": "stderr",
     "output_type": "stream",
     "text": [
      "C:\\Users\\engrs\\anaconda3\\lib\\site-packages\\sklearn\\metrics\\_classification.py:1318: UndefinedMetricWarning: Precision and F-score are ill-defined and being set to 0.0 in labels with no predicted samples. Use `zero_division` parameter to control this behavior.\n",
      "  _warn_prf(average, modifier, msg_start, len(result))\n",
      "C:\\Users\\engrs\\anaconda3\\lib\\site-packages\\sklearn\\metrics\\_classification.py:1318: UndefinedMetricWarning: Precision and F-score are ill-defined and being set to 0.0 in labels with no predicted samples. Use `zero_division` parameter to control this behavior.\n",
      "  _warn_prf(average, modifier, msg_start, len(result))\n",
      "C:\\Users\\engrs\\anaconda3\\lib\\site-packages\\sklearn\\metrics\\_classification.py:1318: UndefinedMetricWarning: Precision and F-score are ill-defined and being set to 0.0 in labels with no predicted samples. Use `zero_division` parameter to control this behavior.\n",
      "  _warn_prf(average, modifier, msg_start, len(result))\n"
     ]
    },
    {
     "name": "stdout",
     "output_type": "stream",
     "text": [
      "              precision    recall  f1-score   support\n",
      "\n",
      "       allow       1.00      0.99      1.00      7495\n",
      "        deny       0.98      0.99      0.98      2992\n",
      "        drop       1.00      1.00      1.00      2607\n",
      "  reset-both       0.00      0.00      0.00        13\n",
      "\n",
      "    accuracy                           0.99     13107\n",
      "   macro avg       0.74      0.75      0.74     13107\n",
      "weighted avg       0.99      0.99      0.99     13107\n",
      "\n",
      "Classifier Score when, k= 8\n"
     ]
    },
    {
     "name": "stderr",
     "output_type": "stream",
     "text": [
      "C:\\Users\\engrs\\anaconda3\\lib\\site-packages\\sklearn\\neighbors\\_classification.py:228: FutureWarning: Unlike other reduction functions (e.g. `skew`, `kurtosis`), the default behavior of `mode` typically preserves the axis it acts along. In SciPy 1.11.0, this behavior will change: the default value of `keepdims` will become False, the `axis` over which the statistic is taken will be eliminated, and the value None will no longer be accepted. Set `keepdims` to True or False to avoid this warning.\n",
      "  mode, _ = stats.mode(_y[neigh_ind, k], axis=1)\n"
     ]
    },
    {
     "name": "stdout",
     "output_type": "stream",
     "text": [
      "0.9939151168335718\n",
      "Classifier Score with Predictions, when k= 8\n"
     ]
    },
    {
     "name": "stderr",
     "output_type": "stream",
     "text": [
      "C:\\Users\\engrs\\anaconda3\\lib\\site-packages\\sklearn\\neighbors\\_classification.py:228: FutureWarning: Unlike other reduction functions (e.g. `skew`, `kurtosis`), the default behavior of `mode` typically preserves the axis it acts along. In SciPy 1.11.0, this behavior will change: the default value of `keepdims` will become False, the `axis` over which the statistic is taken will be eliminated, and the value None will no longer be accepted. Set `keepdims` to True or False to avoid this warning.\n",
      "  mode, _ = stats.mode(_y[neigh_ind, k], axis=1)\n"
     ]
    },
    {
     "name": "stdout",
     "output_type": "stream",
     "text": [
      "1.0\n"
     ]
    },
    {
     "name": "stderr",
     "output_type": "stream",
     "text": [
      "C:\\Users\\engrs\\anaconda3\\lib\\site-packages\\sklearn\\neighbors\\_classification.py:228: FutureWarning: Unlike other reduction functions (e.g. `skew`, `kurtosis`), the default behavior of `mode` typically preserves the axis it acts along. In SciPy 1.11.0, this behavior will change: the default value of `keepdims` will become False, the `axis` over which the statistic is taken will be eliminated, and the value None will no longer be accepted. Set `keepdims` to True or False to avoid this warning.\n",
      "  mode, _ = stats.mode(_y[neigh_ind, k], axis=1)\n"
     ]
    },
    {
     "name": "stdout",
     "output_type": "stream",
     "text": [
      "Prediction Shape when, k= 9\n",
      "(13107,)\n",
      "Classification Report when, k= 9\n"
     ]
    },
    {
     "name": "stderr",
     "output_type": "stream",
     "text": [
      "C:\\Users\\engrs\\anaconda3\\lib\\site-packages\\sklearn\\metrics\\_classification.py:1318: UndefinedMetricWarning: Precision and F-score are ill-defined and being set to 0.0 in labels with no predicted samples. Use `zero_division` parameter to control this behavior.\n",
      "  _warn_prf(average, modifier, msg_start, len(result))\n",
      "C:\\Users\\engrs\\anaconda3\\lib\\site-packages\\sklearn\\metrics\\_classification.py:1318: UndefinedMetricWarning: Precision and F-score are ill-defined and being set to 0.0 in labels with no predicted samples. Use `zero_division` parameter to control this behavior.\n",
      "  _warn_prf(average, modifier, msg_start, len(result))\n",
      "C:\\Users\\engrs\\anaconda3\\lib\\site-packages\\sklearn\\metrics\\_classification.py:1318: UndefinedMetricWarning: Precision and F-score are ill-defined and being set to 0.0 in labels with no predicted samples. Use `zero_division` parameter to control this behavior.\n",
      "  _warn_prf(average, modifier, msg_start, len(result))\n"
     ]
    },
    {
     "name": "stdout",
     "output_type": "stream",
     "text": [
      "              precision    recall  f1-score   support\n",
      "\n",
      "       allow       1.00      0.99      1.00      7495\n",
      "        deny       0.98      0.99      0.98      2992\n",
      "        drop       0.99      1.00      1.00      2607\n",
      "  reset-both       0.00      0.00      0.00        13\n",
      "\n",
      "    accuracy                           0.99     13107\n",
      "   macro avg       0.74      0.75      0.74     13107\n",
      "weighted avg       0.99      0.99      0.99     13107\n",
      "\n",
      "Classifier Score when, k= 9\n"
     ]
    },
    {
     "name": "stderr",
     "output_type": "stream",
     "text": [
      "C:\\Users\\engrs\\anaconda3\\lib\\site-packages\\sklearn\\neighbors\\_classification.py:228: FutureWarning: Unlike other reduction functions (e.g. `skew`, `kurtosis`), the default behavior of `mode` typically preserves the axis it acts along. In SciPy 1.11.0, this behavior will change: the default value of `keepdims` will become False, the `axis` over which the statistic is taken will be eliminated, and the value None will no longer be accepted. Set `keepdims` to True or False to avoid this warning.\n",
      "  mode, _ = stats.mode(_y[neigh_ind, k], axis=1)\n"
     ]
    },
    {
     "name": "stdout",
     "output_type": "stream",
     "text": [
      "0.9937434430138293\n",
      "Classifier Score with Predictions, when k= 9\n"
     ]
    },
    {
     "name": "stderr",
     "output_type": "stream",
     "text": [
      "C:\\Users\\engrs\\anaconda3\\lib\\site-packages\\sklearn\\neighbors\\_classification.py:228: FutureWarning: Unlike other reduction functions (e.g. `skew`, `kurtosis`), the default behavior of `mode` typically preserves the axis it acts along. In SciPy 1.11.0, this behavior will change: the default value of `keepdims` will become False, the `axis` over which the statistic is taken will be eliminated, and the value None will no longer be accepted. Set `keepdims` to True or False to avoid this warning.\n",
      "  mode, _ = stats.mode(_y[neigh_ind, k], axis=1)\n"
     ]
    },
    {
     "name": "stdout",
     "output_type": "stream",
     "text": [
      "1.0\n"
     ]
    },
    {
     "name": "stderr",
     "output_type": "stream",
     "text": [
      "C:\\Users\\engrs\\anaconda3\\lib\\site-packages\\sklearn\\neighbors\\_classification.py:228: FutureWarning: Unlike other reduction functions (e.g. `skew`, `kurtosis`), the default behavior of `mode` typically preserves the axis it acts along. In SciPy 1.11.0, this behavior will change: the default value of `keepdims` will become False, the `axis` over which the statistic is taken will be eliminated, and the value None will no longer be accepted. Set `keepdims` to True or False to avoid this warning.\n",
      "  mode, _ = stats.mode(_y[neigh_ind, k], axis=1)\n"
     ]
    },
    {
     "name": "stdout",
     "output_type": "stream",
     "text": [
      "Prediction Shape when, k= 10\n",
      "(13107,)\n",
      "Classification Report when, k= 10\n"
     ]
    },
    {
     "name": "stderr",
     "output_type": "stream",
     "text": [
      "C:\\Users\\engrs\\anaconda3\\lib\\site-packages\\sklearn\\metrics\\_classification.py:1318: UndefinedMetricWarning: Precision and F-score are ill-defined and being set to 0.0 in labels with no predicted samples. Use `zero_division` parameter to control this behavior.\n",
      "  _warn_prf(average, modifier, msg_start, len(result))\n",
      "C:\\Users\\engrs\\anaconda3\\lib\\site-packages\\sklearn\\metrics\\_classification.py:1318: UndefinedMetricWarning: Precision and F-score are ill-defined and being set to 0.0 in labels with no predicted samples. Use `zero_division` parameter to control this behavior.\n",
      "  _warn_prf(average, modifier, msg_start, len(result))\n",
      "C:\\Users\\engrs\\anaconda3\\lib\\site-packages\\sklearn\\metrics\\_classification.py:1318: UndefinedMetricWarning: Precision and F-score are ill-defined and being set to 0.0 in labels with no predicted samples. Use `zero_division` parameter to control this behavior.\n",
      "  _warn_prf(average, modifier, msg_start, len(result))\n"
     ]
    },
    {
     "name": "stdout",
     "output_type": "stream",
     "text": [
      "              precision    recall  f1-score   support\n",
      "\n",
      "       allow       1.00      0.99      0.99      7495\n",
      "        deny       0.98      0.99      0.98      2992\n",
      "        drop       0.99      1.00      1.00      2607\n",
      "  reset-both       0.00      0.00      0.00        13\n",
      "\n",
      "    accuracy                           0.99     13107\n",
      "   macro avg       0.74      0.75      0.74     13107\n",
      "weighted avg       0.99      0.99      0.99     13107\n",
      "\n",
      "Classifier Score when, k= 10\n"
     ]
    },
    {
     "name": "stderr",
     "output_type": "stream",
     "text": [
      "C:\\Users\\engrs\\anaconda3\\lib\\site-packages\\sklearn\\neighbors\\_classification.py:228: FutureWarning: Unlike other reduction functions (e.g. `skew`, `kurtosis`), the default behavior of `mode` typically preserves the axis it acts along. In SciPy 1.11.0, this behavior will change: the default value of `keepdims` will become False, the `axis` over which the statistic is taken will be eliminated, and the value None will no longer be accepted. Set `keepdims` to True or False to avoid this warning.\n",
      "  mode, _ = stats.mode(_y[neigh_ind, k], axis=1)\n"
     ]
    },
    {
     "name": "stdout",
     "output_type": "stream",
     "text": [
      "0.9936289938006676\n",
      "Classifier Score with Predictions, when k= 10\n"
     ]
    },
    {
     "name": "stderr",
     "output_type": "stream",
     "text": [
      "C:\\Users\\engrs\\anaconda3\\lib\\site-packages\\sklearn\\neighbors\\_classification.py:228: FutureWarning: Unlike other reduction functions (e.g. `skew`, `kurtosis`), the default behavior of `mode` typically preserves the axis it acts along. In SciPy 1.11.0, this behavior will change: the default value of `keepdims` will become False, the `axis` over which the statistic is taken will be eliminated, and the value None will no longer be accepted. Set `keepdims` to True or False to avoid this warning.\n",
      "  mode, _ = stats.mode(_y[neigh_ind, k], axis=1)\n"
     ]
    },
    {
     "name": "stdout",
     "output_type": "stream",
     "text": [
      "1.0\n"
     ]
    }
   ],
   "source": [
    "from sklearn.neighbors import KNeighborsClassifier\n",
    "from sklearn.metrics import classification_report\n",
    "i=1\n",
    "while i<=10:\n",
    "  classifier1=KNeighborsClassifier(n_neighbors=i)\n",
    "  classifier1.fit(x_train, y_train)\n",
    "  prediction1=classifier1.predict(x_test)\n",
    "  print(\"Prediction Shape when, k=\",i)\n",
    "  print(prediction1.shape)\n",
    "  print(\"Classification Report when, k=\",i)\n",
    "  print(classification_report(y_test, prediction1))\n",
    "  print(\"Classifier Score when, k=\",i)\n",
    "  print(classifier1.score(x_train,y_train))\n",
    "  print(\"Classifier Score with Predictions, when k=\",i)\n",
    "  print(classifier1.score(x_test, prediction1))\n",
    "  i=i+1\n"
   ]
  },
  {
   "cell_type": "markdown",
   "metadata": {
    "id": "kEM2yUCXLVHm"
   },
   "source": [
    "### **KNN Model When Smote is used on Original Data**"
   ]
  },
  {
   "cell_type": "code",
   "execution_count": 31,
   "metadata": {
    "colab": {
     "base_uri": "https://localhost:8080/"
    },
    "id": "e7F9nBG3Kp5W",
    "outputId": "413b71d8-ef7c-4382-a81b-abe4909a89b8"
   },
   "outputs": [
    {
     "name": "stderr",
     "output_type": "stream",
     "text": [
      "C:\\Users\\engrs\\anaconda3\\lib\\site-packages\\sklearn\\neighbors\\_classification.py:228: FutureWarning: Unlike other reduction functions (e.g. `skew`, `kurtosis`), the default behavior of `mode` typically preserves the axis it acts along. In SciPy 1.11.0, this behavior will change: the default value of `keepdims` will become False, the `axis` over which the statistic is taken will be eliminated, and the value None will no longer be accepted. Set `keepdims` to True or False to avoid this warning.\n",
      "  mode, _ = stats.mode(_y[neigh_ind, k], axis=1)\n"
     ]
    },
    {
     "name": "stdout",
     "output_type": "stream",
     "text": [
      "Prediction Shape when, k= 1\n",
      "(30112,)\n",
      "Classification Report when, k= 1\n",
      "              precision    recall  f1-score   support\n",
      "\n",
      "       allow       1.00      0.99      1.00      7574\n",
      "        deny       0.99      0.99      0.99      7515\n",
      "        drop       1.00      1.00      1.00      7493\n",
      "  reset-both       0.99      1.00      1.00      7530\n",
      "\n",
      "    accuracy                           1.00     30112\n",
      "   macro avg       1.00      1.00      1.00     30112\n",
      "weighted avg       1.00      1.00      1.00     30112\n",
      "\n",
      "Classifier Score when, k= 1\n"
     ]
    },
    {
     "name": "stderr",
     "output_type": "stream",
     "text": [
      "C:\\Users\\engrs\\anaconda3\\lib\\site-packages\\sklearn\\neighbors\\_classification.py:228: FutureWarning: Unlike other reduction functions (e.g. `skew`, `kurtosis`), the default behavior of `mode` typically preserves the axis it acts along. In SciPy 1.11.0, this behavior will change: the default value of `keepdims` will become False, the `axis` over which the statistic is taken will be eliminated, and the value None will no longer be accepted. Set `keepdims` to True or False to avoid this warning.\n",
      "  mode, _ = stats.mode(_y[neigh_ind, k], axis=1)\n"
     ]
    },
    {
     "name": "stdout",
     "output_type": "stream",
     "text": [
      "0.9996928134962806\n",
      "Classifier Score with Predictions, when k= 1\n"
     ]
    },
    {
     "name": "stderr",
     "output_type": "stream",
     "text": [
      "C:\\Users\\engrs\\anaconda3\\lib\\site-packages\\sklearn\\neighbors\\_classification.py:228: FutureWarning: Unlike other reduction functions (e.g. `skew`, `kurtosis`), the default behavior of `mode` typically preserves the axis it acts along. In SciPy 1.11.0, this behavior will change: the default value of `keepdims` will become False, the `axis` over which the statistic is taken will be eliminated, and the value None will no longer be accepted. Set `keepdims` to True or False to avoid this warning.\n",
      "  mode, _ = stats.mode(_y[neigh_ind, k], axis=1)\n"
     ]
    },
    {
     "name": "stdout",
     "output_type": "stream",
     "text": [
      "1.0\n"
     ]
    },
    {
     "name": "stderr",
     "output_type": "stream",
     "text": [
      "C:\\Users\\engrs\\anaconda3\\lib\\site-packages\\sklearn\\neighbors\\_classification.py:228: FutureWarning: Unlike other reduction functions (e.g. `skew`, `kurtosis`), the default behavior of `mode` typically preserves the axis it acts along. In SciPy 1.11.0, this behavior will change: the default value of `keepdims` will become False, the `axis` over which the statistic is taken will be eliminated, and the value None will no longer be accepted. Set `keepdims` to True or False to avoid this warning.\n",
      "  mode, _ = stats.mode(_y[neigh_ind, k], axis=1)\n"
     ]
    },
    {
     "name": "stdout",
     "output_type": "stream",
     "text": [
      "Prediction Shape when, k= 2\n",
      "(30112,)\n",
      "Classification Report when, k= 2\n",
      "              precision    recall  f1-score   support\n",
      "\n",
      "       allow       1.00      1.00      1.00      7574\n",
      "        deny       0.98      0.99      0.99      7515\n",
      "        drop       1.00      1.00      1.00      7493\n",
      "  reset-both       0.99      0.99      0.99      7530\n",
      "\n",
      "    accuracy                           0.99     30112\n",
      "   macro avg       0.99      0.99      0.99     30112\n",
      "weighted avg       0.99      0.99      0.99     30112\n",
      "\n",
      "Classifier Score when, k= 2\n"
     ]
    },
    {
     "name": "stderr",
     "output_type": "stream",
     "text": [
      "C:\\Users\\engrs\\anaconda3\\lib\\site-packages\\sklearn\\neighbors\\_classification.py:228: FutureWarning: Unlike other reduction functions (e.g. `skew`, `kurtosis`), the default behavior of `mode` typically preserves the axis it acts along. In SciPy 1.11.0, this behavior will change: the default value of `keepdims` will become False, the `axis` over which the statistic is taken will be eliminated, and the value None will no longer be accepted. Set `keepdims` to True or False to avoid this warning.\n",
      "  mode, _ = stats.mode(_y[neigh_ind, k], axis=1)\n"
     ]
    },
    {
     "name": "stdout",
     "output_type": "stream",
     "text": [
      "0.9973515541976621\n",
      "Classifier Score with Predictions, when k= 2\n"
     ]
    },
    {
     "name": "stderr",
     "output_type": "stream",
     "text": [
      "C:\\Users\\engrs\\anaconda3\\lib\\site-packages\\sklearn\\neighbors\\_classification.py:228: FutureWarning: Unlike other reduction functions (e.g. `skew`, `kurtosis`), the default behavior of `mode` typically preserves the axis it acts along. In SciPy 1.11.0, this behavior will change: the default value of `keepdims` will become False, the `axis` over which the statistic is taken will be eliminated, and the value None will no longer be accepted. Set `keepdims` to True or False to avoid this warning.\n",
      "  mode, _ = stats.mode(_y[neigh_ind, k], axis=1)\n"
     ]
    },
    {
     "name": "stdout",
     "output_type": "stream",
     "text": [
      "1.0\n"
     ]
    },
    {
     "name": "stderr",
     "output_type": "stream",
     "text": [
      "C:\\Users\\engrs\\anaconda3\\lib\\site-packages\\sklearn\\neighbors\\_classification.py:228: FutureWarning: Unlike other reduction functions (e.g. `skew`, `kurtosis`), the default behavior of `mode` typically preserves the axis it acts along. In SciPy 1.11.0, this behavior will change: the default value of `keepdims` will become False, the `axis` over which the statistic is taken will be eliminated, and the value None will no longer be accepted. Set `keepdims` to True or False to avoid this warning.\n",
      "  mode, _ = stats.mode(_y[neigh_ind, k], axis=1)\n"
     ]
    },
    {
     "name": "stdout",
     "output_type": "stream",
     "text": [
      "Prediction Shape when, k= 3\n",
      "(30112,)\n",
      "Classification Report when, k= 3\n",
      "              precision    recall  f1-score   support\n",
      "\n",
      "       allow       1.00      0.99      1.00      7574\n",
      "        deny       0.99      0.98      0.98      7515\n",
      "        drop       1.00      1.00      1.00      7493\n",
      "  reset-both       0.99      0.99      0.99      7530\n",
      "\n",
      "    accuracy                           0.99     30112\n",
      "   macro avg       0.99      0.99      0.99     30112\n",
      "weighted avg       0.99      0.99      0.99     30112\n",
      "\n",
      "Classifier Score when, k= 3\n"
     ]
    },
    {
     "name": "stderr",
     "output_type": "stream",
     "text": [
      "C:\\Users\\engrs\\anaconda3\\lib\\site-packages\\sklearn\\neighbors\\_classification.py:228: FutureWarning: Unlike other reduction functions (e.g. `skew`, `kurtosis`), the default behavior of `mode` typically preserves the axis it acts along. In SciPy 1.11.0, this behavior will change: the default value of `keepdims` will become False, the `axis` over which the statistic is taken will be eliminated, and the value None will no longer be accepted. Set `keepdims` to True or False to avoid this warning.\n",
      "  mode, _ = stats.mode(_y[neigh_ind, k], axis=1)\n"
     ]
    },
    {
     "name": "stdout",
     "output_type": "stream",
     "text": [
      "0.9953091790648246\n",
      "Classifier Score with Predictions, when k= 3\n"
     ]
    },
    {
     "name": "stderr",
     "output_type": "stream",
     "text": [
      "C:\\Users\\engrs\\anaconda3\\lib\\site-packages\\sklearn\\neighbors\\_classification.py:228: FutureWarning: Unlike other reduction functions (e.g. `skew`, `kurtosis`), the default behavior of `mode` typically preserves the axis it acts along. In SciPy 1.11.0, this behavior will change: the default value of `keepdims` will become False, the `axis` over which the statistic is taken will be eliminated, and the value None will no longer be accepted. Set `keepdims` to True or False to avoid this warning.\n",
      "  mode, _ = stats.mode(_y[neigh_ind, k], axis=1)\n"
     ]
    },
    {
     "name": "stdout",
     "output_type": "stream",
     "text": [
      "1.0\n"
     ]
    },
    {
     "name": "stderr",
     "output_type": "stream",
     "text": [
      "C:\\Users\\engrs\\anaconda3\\lib\\site-packages\\sklearn\\neighbors\\_classification.py:228: FutureWarning: Unlike other reduction functions (e.g. `skew`, `kurtosis`), the default behavior of `mode` typically preserves the axis it acts along. In SciPy 1.11.0, this behavior will change: the default value of `keepdims` will become False, the `axis` over which the statistic is taken will be eliminated, and the value None will no longer be accepted. Set `keepdims` to True or False to avoid this warning.\n",
      "  mode, _ = stats.mode(_y[neigh_ind, k], axis=1)\n"
     ]
    },
    {
     "name": "stdout",
     "output_type": "stream",
     "text": [
      "Prediction Shape when, k= 4\n",
      "(30112,)\n",
      "Classification Report when, k= 4\n",
      "              precision    recall  f1-score   support\n",
      "\n",
      "       allow       1.00      0.99      1.00      7574\n",
      "        deny       0.98      0.98      0.98      7515\n",
      "        drop       1.00      1.00      1.00      7493\n",
      "  reset-both       0.99      0.98      0.99      7530\n",
      "\n",
      "    accuracy                           0.99     30112\n",
      "   macro avg       0.99      0.99      0.99     30112\n",
      "weighted avg       0.99      0.99      0.99     30112\n",
      "\n",
      "Classifier Score when, k= 4\n"
     ]
    },
    {
     "name": "stderr",
     "output_type": "stream",
     "text": [
      "C:\\Users\\engrs\\anaconda3\\lib\\site-packages\\sklearn\\neighbors\\_classification.py:228: FutureWarning: Unlike other reduction functions (e.g. `skew`, `kurtosis`), the default behavior of `mode` typically preserves the axis it acts along. In SciPy 1.11.0, this behavior will change: the default value of `keepdims` will become False, the `axis` over which the statistic is taken will be eliminated, and the value None will no longer be accepted. Set `keepdims` to True or False to avoid this warning.\n",
      "  mode, _ = stats.mode(_y[neigh_ind, k], axis=1)\n"
     ]
    },
    {
     "name": "stdout",
     "output_type": "stream",
     "text": [
      "0.9938894792773645\n",
      "Classifier Score with Predictions, when k= 4\n"
     ]
    },
    {
     "name": "stderr",
     "output_type": "stream",
     "text": [
      "C:\\Users\\engrs\\anaconda3\\lib\\site-packages\\sklearn\\neighbors\\_classification.py:228: FutureWarning: Unlike other reduction functions (e.g. `skew`, `kurtosis`), the default behavior of `mode` typically preserves the axis it acts along. In SciPy 1.11.0, this behavior will change: the default value of `keepdims` will become False, the `axis` over which the statistic is taken will be eliminated, and the value None will no longer be accepted. Set `keepdims` to True or False to avoid this warning.\n",
      "  mode, _ = stats.mode(_y[neigh_ind, k], axis=1)\n"
     ]
    },
    {
     "name": "stdout",
     "output_type": "stream",
     "text": [
      "1.0\n"
     ]
    },
    {
     "name": "stderr",
     "output_type": "stream",
     "text": [
      "C:\\Users\\engrs\\anaconda3\\lib\\site-packages\\sklearn\\neighbors\\_classification.py:228: FutureWarning: Unlike other reduction functions (e.g. `skew`, `kurtosis`), the default behavior of `mode` typically preserves the axis it acts along. In SciPy 1.11.0, this behavior will change: the default value of `keepdims` will become False, the `axis` over which the statistic is taken will be eliminated, and the value None will no longer be accepted. Set `keepdims` to True or False to avoid this warning.\n",
      "  mode, _ = stats.mode(_y[neigh_ind, k], axis=1)\n"
     ]
    },
    {
     "name": "stdout",
     "output_type": "stream",
     "text": [
      "Prediction Shape when, k= 5\n",
      "(30112,)\n",
      "Classification Report when, k= 5\n",
      "              precision    recall  f1-score   support\n",
      "\n",
      "       allow       1.00      0.99      1.00      7574\n",
      "        deny       0.98      0.98      0.98      7515\n",
      "        drop       1.00      1.00      1.00      7493\n",
      "  reset-both       0.98      0.99      0.98      7530\n",
      "\n",
      "    accuracy                           0.99     30112\n",
      "   macro avg       0.99      0.99      0.99     30112\n",
      "weighted avg       0.99      0.99      0.99     30112\n",
      "\n",
      "Classifier Score when, k= 5\n"
     ]
    },
    {
     "name": "stderr",
     "output_type": "stream",
     "text": [
      "C:\\Users\\engrs\\anaconda3\\lib\\site-packages\\sklearn\\neighbors\\_classification.py:228: FutureWarning: Unlike other reduction functions (e.g. `skew`, `kurtosis`), the default behavior of `mode` typically preserves the axis it acts along. In SciPy 1.11.0, this behavior will change: the default value of `keepdims` will become False, the `axis` over which the statistic is taken will be eliminated, and the value None will no longer be accepted. Set `keepdims` to True or False to avoid this warning.\n",
      "  mode, _ = stats.mode(_y[neigh_ind, k], axis=1)\n"
     ]
    },
    {
     "name": "stdout",
     "output_type": "stream",
     "text": [
      "0.992760361317747\n",
      "Classifier Score with Predictions, when k= 5\n"
     ]
    },
    {
     "name": "stderr",
     "output_type": "stream",
     "text": [
      "C:\\Users\\engrs\\anaconda3\\lib\\site-packages\\sklearn\\neighbors\\_classification.py:228: FutureWarning: Unlike other reduction functions (e.g. `skew`, `kurtosis`), the default behavior of `mode` typically preserves the axis it acts along. In SciPy 1.11.0, this behavior will change: the default value of `keepdims` will become False, the `axis` over which the statistic is taken will be eliminated, and the value None will no longer be accepted. Set `keepdims` to True or False to avoid this warning.\n",
      "  mode, _ = stats.mode(_y[neigh_ind, k], axis=1)\n"
     ]
    },
    {
     "name": "stdout",
     "output_type": "stream",
     "text": [
      "1.0\n"
     ]
    },
    {
     "name": "stderr",
     "output_type": "stream",
     "text": [
      "C:\\Users\\engrs\\anaconda3\\lib\\site-packages\\sklearn\\neighbors\\_classification.py:228: FutureWarning: Unlike other reduction functions (e.g. `skew`, `kurtosis`), the default behavior of `mode` typically preserves the axis it acts along. In SciPy 1.11.0, this behavior will change: the default value of `keepdims` will become False, the `axis` over which the statistic is taken will be eliminated, and the value None will no longer be accepted. Set `keepdims` to True or False to avoid this warning.\n",
      "  mode, _ = stats.mode(_y[neigh_ind, k], axis=1)\n"
     ]
    },
    {
     "name": "stdout",
     "output_type": "stream",
     "text": [
      "Prediction Shape when, k= 6\n",
      "(30112,)\n",
      "Classification Report when, k= 6\n",
      "              precision    recall  f1-score   support\n",
      "\n",
      "       allow       1.00      0.99      1.00      7574\n",
      "        deny       0.97      0.98      0.98      7515\n",
      "        drop       1.00      1.00      1.00      7493\n",
      "  reset-both       0.99      0.98      0.98      7530\n",
      "\n",
      "    accuracy                           0.99     30112\n",
      "   macro avg       0.99      0.99      0.99     30112\n",
      "weighted avg       0.99      0.99      0.99     30112\n",
      "\n",
      "Classifier Score when, k= 6\n"
     ]
    },
    {
     "name": "stderr",
     "output_type": "stream",
     "text": [
      "C:\\Users\\engrs\\anaconda3\\lib\\site-packages\\sklearn\\neighbors\\_classification.py:228: FutureWarning: Unlike other reduction functions (e.g. `skew`, `kurtosis`), the default behavior of `mode` typically preserves the axis it acts along. In SciPy 1.11.0, this behavior will change: the default value of `keepdims` will become False, the `axis` over which the statistic is taken will be eliminated, and the value None will no longer be accepted. Set `keepdims` to True or False to avoid this warning.\n",
      "  mode, _ = stats.mode(_y[neigh_ind, k], axis=1)\n"
     ]
    },
    {
     "name": "stdout",
     "output_type": "stream",
     "text": [
      "0.9913987778958555\n",
      "Classifier Score with Predictions, when k= 6\n"
     ]
    },
    {
     "name": "stderr",
     "output_type": "stream",
     "text": [
      "C:\\Users\\engrs\\anaconda3\\lib\\site-packages\\sklearn\\neighbors\\_classification.py:228: FutureWarning: Unlike other reduction functions (e.g. `skew`, `kurtosis`), the default behavior of `mode` typically preserves the axis it acts along. In SciPy 1.11.0, this behavior will change: the default value of `keepdims` will become False, the `axis` over which the statistic is taken will be eliminated, and the value None will no longer be accepted. Set `keepdims` to True or False to avoid this warning.\n",
      "  mode, _ = stats.mode(_y[neigh_ind, k], axis=1)\n"
     ]
    },
    {
     "name": "stdout",
     "output_type": "stream",
     "text": [
      "1.0\n"
     ]
    },
    {
     "name": "stderr",
     "output_type": "stream",
     "text": [
      "C:\\Users\\engrs\\anaconda3\\lib\\site-packages\\sklearn\\neighbors\\_classification.py:228: FutureWarning: Unlike other reduction functions (e.g. `skew`, `kurtosis`), the default behavior of `mode` typically preserves the axis it acts along. In SciPy 1.11.0, this behavior will change: the default value of `keepdims` will become False, the `axis` over which the statistic is taken will be eliminated, and the value None will no longer be accepted. Set `keepdims` to True or False to avoid this warning.\n",
      "  mode, _ = stats.mode(_y[neigh_ind, k], axis=1)\n"
     ]
    },
    {
     "name": "stdout",
     "output_type": "stream",
     "text": [
      "Prediction Shape when, k= 7\n",
      "(30112,)\n",
      "Classification Report when, k= 7\n",
      "              precision    recall  f1-score   support\n",
      "\n",
      "       allow       1.00      0.99      1.00      7574\n",
      "        deny       0.97      0.98      0.98      7515\n",
      "        drop       1.00      1.00      1.00      7493\n",
      "  reset-both       0.98      0.98      0.98      7530\n",
      "\n",
      "    accuracy                           0.99     30112\n",
      "   macro avg       0.99      0.99      0.99     30112\n",
      "weighted avg       0.99      0.99      0.99     30112\n",
      "\n",
      "Classifier Score when, k= 7\n"
     ]
    },
    {
     "name": "stderr",
     "output_type": "stream",
     "text": [
      "C:\\Users\\engrs\\anaconda3\\lib\\site-packages\\sklearn\\neighbors\\_classification.py:228: FutureWarning: Unlike other reduction functions (e.g. `skew`, `kurtosis`), the default behavior of `mode` typically preserves the axis it acts along. In SciPy 1.11.0, this behavior will change: the default value of `keepdims` will become False, the `axis` over which the statistic is taken will be eliminated, and the value None will no longer be accepted. Set `keepdims` to True or False to avoid this warning.\n",
      "  mode, _ = stats.mode(_y[neigh_ind, k], axis=1)\n"
     ]
    },
    {
     "name": "stdout",
     "output_type": "stream",
     "text": [
      "0.9903277763018066\n",
      "Classifier Score with Predictions, when k= 7\n"
     ]
    },
    {
     "name": "stderr",
     "output_type": "stream",
     "text": [
      "C:\\Users\\engrs\\anaconda3\\lib\\site-packages\\sklearn\\neighbors\\_classification.py:228: FutureWarning: Unlike other reduction functions (e.g. `skew`, `kurtosis`), the default behavior of `mode` typically preserves the axis it acts along. In SciPy 1.11.0, this behavior will change: the default value of `keepdims` will become False, the `axis` over which the statistic is taken will be eliminated, and the value None will no longer be accepted. Set `keepdims` to True or False to avoid this warning.\n",
      "  mode, _ = stats.mode(_y[neigh_ind, k], axis=1)\n"
     ]
    },
    {
     "name": "stdout",
     "output_type": "stream",
     "text": [
      "1.0\n"
     ]
    },
    {
     "name": "stderr",
     "output_type": "stream",
     "text": [
      "C:\\Users\\engrs\\anaconda3\\lib\\site-packages\\sklearn\\neighbors\\_classification.py:228: FutureWarning: Unlike other reduction functions (e.g. `skew`, `kurtosis`), the default behavior of `mode` typically preserves the axis it acts along. In SciPy 1.11.0, this behavior will change: the default value of `keepdims` will become False, the `axis` over which the statistic is taken will be eliminated, and the value None will no longer be accepted. Set `keepdims` to True or False to avoid this warning.\n",
      "  mode, _ = stats.mode(_y[neigh_ind, k], axis=1)\n"
     ]
    },
    {
     "name": "stdout",
     "output_type": "stream",
     "text": [
      "Prediction Shape when, k= 8\n",
      "(30112,)\n",
      "Classification Report when, k= 8\n",
      "              precision    recall  f1-score   support\n",
      "\n",
      "       allow       1.00      0.99      0.99      7574\n",
      "        deny       0.97      0.98      0.97      7515\n",
      "        drop       1.00      1.00      1.00      7493\n",
      "  reset-both       0.98      0.98      0.98      7530\n",
      "\n",
      "    accuracy                           0.99     30112\n",
      "   macro avg       0.99      0.99      0.99     30112\n",
      "weighted avg       0.99      0.99      0.99     30112\n",
      "\n",
      "Classifier Score when, k= 8\n"
     ]
    },
    {
     "name": "stderr",
     "output_type": "stream",
     "text": [
      "C:\\Users\\engrs\\anaconda3\\lib\\site-packages\\sklearn\\neighbors\\_classification.py:228: FutureWarning: Unlike other reduction functions (e.g. `skew`, `kurtosis`), the default behavior of `mode` typically preserves the axis it acts along. In SciPy 1.11.0, this behavior will change: the default value of `keepdims` will become False, the `axis` over which the statistic is taken will be eliminated, and the value None will no longer be accepted. Set `keepdims` to True or False to avoid this warning.\n",
      "  mode, _ = stats.mode(_y[neigh_ind, k], axis=1)\n"
     ]
    },
    {
     "name": "stdout",
     "output_type": "stream",
     "text": [
      "0.9890326115834219\n",
      "Classifier Score with Predictions, when k= 8\n"
     ]
    },
    {
     "name": "stderr",
     "output_type": "stream",
     "text": [
      "C:\\Users\\engrs\\anaconda3\\lib\\site-packages\\sklearn\\neighbors\\_classification.py:228: FutureWarning: Unlike other reduction functions (e.g. `skew`, `kurtosis`), the default behavior of `mode` typically preserves the axis it acts along. In SciPy 1.11.0, this behavior will change: the default value of `keepdims` will become False, the `axis` over which the statistic is taken will be eliminated, and the value None will no longer be accepted. Set `keepdims` to True or False to avoid this warning.\n",
      "  mode, _ = stats.mode(_y[neigh_ind, k], axis=1)\n"
     ]
    },
    {
     "name": "stdout",
     "output_type": "stream",
     "text": [
      "1.0\n"
     ]
    },
    {
     "name": "stderr",
     "output_type": "stream",
     "text": [
      "C:\\Users\\engrs\\anaconda3\\lib\\site-packages\\sklearn\\neighbors\\_classification.py:228: FutureWarning: Unlike other reduction functions (e.g. `skew`, `kurtosis`), the default behavior of `mode` typically preserves the axis it acts along. In SciPy 1.11.0, this behavior will change: the default value of `keepdims` will become False, the `axis` over which the statistic is taken will be eliminated, and the value None will no longer be accepted. Set `keepdims` to True or False to avoid this warning.\n",
      "  mode, _ = stats.mode(_y[neigh_ind, k], axis=1)\n"
     ]
    },
    {
     "name": "stdout",
     "output_type": "stream",
     "text": [
      "Prediction Shape when, k= 9\n",
      "(30112,)\n",
      "Classification Report when, k= 9\n",
      "              precision    recall  f1-score   support\n",
      "\n",
      "       allow       1.00      0.99      0.99      7574\n",
      "        deny       0.97      0.97      0.97      7515\n",
      "        drop       1.00      1.00      1.00      7493\n",
      "  reset-both       0.97      0.98      0.98      7530\n",
      "\n",
      "    accuracy                           0.99     30112\n",
      "   macro avg       0.99      0.99      0.99     30112\n",
      "weighted avg       0.99      0.99      0.99     30112\n",
      "\n",
      "Classifier Score when, k= 9\n"
     ]
    },
    {
     "name": "stderr",
     "output_type": "stream",
     "text": [
      "C:\\Users\\engrs\\anaconda3\\lib\\site-packages\\sklearn\\neighbors\\_classification.py:228: FutureWarning: Unlike other reduction functions (e.g. `skew`, `kurtosis`), the default behavior of `mode` typically preserves the axis it acts along. In SciPy 1.11.0, this behavior will change: the default value of `keepdims` will become False, the `axis` over which the statistic is taken will be eliminated, and the value None will no longer be accepted. Set `keepdims` to True or False to avoid this warning.\n",
      "  mode, _ = stats.mode(_y[neigh_ind, k], axis=1)\n"
     ]
    },
    {
     "name": "stdout",
     "output_type": "stream",
     "text": [
      "0.9881027497343252\n",
      "Classifier Score with Predictions, when k= 9\n"
     ]
    },
    {
     "name": "stderr",
     "output_type": "stream",
     "text": [
      "C:\\Users\\engrs\\anaconda3\\lib\\site-packages\\sklearn\\neighbors\\_classification.py:228: FutureWarning: Unlike other reduction functions (e.g. `skew`, `kurtosis`), the default behavior of `mode` typically preserves the axis it acts along. In SciPy 1.11.0, this behavior will change: the default value of `keepdims` will become False, the `axis` over which the statistic is taken will be eliminated, and the value None will no longer be accepted. Set `keepdims` to True or False to avoid this warning.\n",
      "  mode, _ = stats.mode(_y[neigh_ind, k], axis=1)\n"
     ]
    },
    {
     "name": "stdout",
     "output_type": "stream",
     "text": [
      "1.0\n"
     ]
    },
    {
     "name": "stderr",
     "output_type": "stream",
     "text": [
      "C:\\Users\\engrs\\anaconda3\\lib\\site-packages\\sklearn\\neighbors\\_classification.py:228: FutureWarning: Unlike other reduction functions (e.g. `skew`, `kurtosis`), the default behavior of `mode` typically preserves the axis it acts along. In SciPy 1.11.0, this behavior will change: the default value of `keepdims` will become False, the `axis` over which the statistic is taken will be eliminated, and the value None will no longer be accepted. Set `keepdims` to True or False to avoid this warning.\n",
      "  mode, _ = stats.mode(_y[neigh_ind, k], axis=1)\n"
     ]
    },
    {
     "name": "stdout",
     "output_type": "stream",
     "text": [
      "Prediction Shape when, k= 10\n",
      "(30112,)\n",
      "Classification Report when, k= 10\n",
      "              precision    recall  f1-score   support\n",
      "\n",
      "       allow       1.00      0.99      0.99      7574\n",
      "        deny       0.96      0.97      0.97      7515\n",
      "        drop       1.00      1.00      1.00      7493\n",
      "  reset-both       0.98      0.97      0.97      7530\n",
      "\n",
      "    accuracy                           0.98     30112\n",
      "   macro avg       0.98      0.98      0.98     30112\n",
      "weighted avg       0.98      0.98      0.98     30112\n",
      "\n",
      "Classifier Score when, k= 10\n"
     ]
    },
    {
     "name": "stderr",
     "output_type": "stream",
     "text": [
      "C:\\Users\\engrs\\anaconda3\\lib\\site-packages\\sklearn\\neighbors\\_classification.py:228: FutureWarning: Unlike other reduction functions (e.g. `skew`, `kurtosis`), the default behavior of `mode` typically preserves the axis it acts along. In SciPy 1.11.0, this behavior will change: the default value of `keepdims` will become False, the `axis` over which the statistic is taken will be eliminated, and the value None will no longer be accepted. Set `keepdims` to True or False to avoid this warning.\n",
      "  mode, _ = stats.mode(_y[neigh_ind, k], axis=1)\n"
     ]
    },
    {
     "name": "stdout",
     "output_type": "stream",
     "text": [
      "0.9867909803400637\n",
      "Classifier Score with Predictions, when k= 10\n"
     ]
    },
    {
     "name": "stderr",
     "output_type": "stream",
     "text": [
      "C:\\Users\\engrs\\anaconda3\\lib\\site-packages\\sklearn\\neighbors\\_classification.py:228: FutureWarning: Unlike other reduction functions (e.g. `skew`, `kurtosis`), the default behavior of `mode` typically preserves the axis it acts along. In SciPy 1.11.0, this behavior will change: the default value of `keepdims` will become False, the `axis` over which the statistic is taken will be eliminated, and the value None will no longer be accepted. Set `keepdims` to True or False to avoid this warning.\n",
      "  mode, _ = stats.mode(_y[neigh_ind, k], axis=1)\n"
     ]
    },
    {
     "name": "stdout",
     "output_type": "stream",
     "text": [
      "1.0\n"
     ]
    }
   ],
   "source": [
    "from sklearn.neighbors import KNeighborsClassifier\n",
    "from sklearn.metrics import classification_report\n",
    "i=1\n",
    "while i<=10:\n",
    "  classifier2=KNeighborsClassifier(n_neighbors=i)\n",
    "  classifier2.fit(x2_train, y2_train)\n",
    "  prediction2=classifier2.predict(x2_test)\n",
    "  print(\"Prediction Shape when, k=\",i)\n",
    "  print(prediction2.shape)\n",
    "  print(\"Classification Report when, k=\",i)\n",
    "  print(classification_report(y2_test, prediction2))\n",
    "  print(\"Classifier Score when, k=\",i)\n",
    "  print(classifier2.score(x2_train,y2_train))\n",
    "  print(\"Classifier Score with Predictions, when k=\",i)\n",
    "  print(classifier2.score(x2_test, prediction2))\n",
    "  i=i+1"
   ]
  },
  {
   "cell_type": "markdown",
   "metadata": {
    "id": "E-B6JSm-LgUl"
   },
   "source": [
    "### **KNN Model When Original Data but Normalized Data.**"
   ]
  },
  {
   "cell_type": "code",
   "execution_count": 32,
   "metadata": {
    "colab": {
     "base_uri": "https://localhost:8080/"
    },
    "id": "pokahnbsLzlD",
    "outputId": "deff97b5-c75f-4680-8615-4434e24560bd"
   },
   "outputs": [
    {
     "name": "stderr",
     "output_type": "stream",
     "text": [
      "C:\\Users\\engrs\\anaconda3\\lib\\site-packages\\sklearn\\neighbors\\_classification.py:228: FutureWarning: Unlike other reduction functions (e.g. `skew`, `kurtosis`), the default behavior of `mode` typically preserves the axis it acts along. In SciPy 1.11.0, this behavior will change: the default value of `keepdims` will become False, the `axis` over which the statistic is taken will be eliminated, and the value None will no longer be accepted. Set `keepdims` to True or False to avoid this warning.\n",
      "  mode, _ = stats.mode(_y[neigh_ind, k], axis=1)\n"
     ]
    },
    {
     "name": "stdout",
     "output_type": "stream",
     "text": [
      "Prediction Shape when, k= 1\n",
      "(13107,)\n",
      "Classification Report when, k= 1\n",
      "              precision    recall  f1-score   support\n",
      "\n",
      "       allow       1.00      1.00      1.00      7495\n",
      "        deny       0.99      1.00      0.99      2992\n",
      "        drop       1.00      1.00      1.00      2607\n",
      "  reset-both       1.00      0.23      0.38        13\n",
      "\n",
      "    accuracy                           1.00     13107\n",
      "   macro avg       1.00      0.81      0.84     13107\n",
      "weighted avg       1.00      1.00      1.00     13107\n",
      "\n",
      "Classifier Score when, k= 1\n"
     ]
    },
    {
     "name": "stderr",
     "output_type": "stream",
     "text": [
      "C:\\Users\\engrs\\anaconda3\\lib\\site-packages\\sklearn\\neighbors\\_classification.py:228: FutureWarning: Unlike other reduction functions (e.g. `skew`, `kurtosis`), the default behavior of `mode` typically preserves the axis it acts along. In SciPy 1.11.0, this behavior will change: the default value of `keepdims` will become False, the `axis` over which the statistic is taken will be eliminated, and the value None will no longer be accepted. Set `keepdims` to True or False to avoid this warning.\n",
      "  mode, _ = stats.mode(_y[neigh_ind, k], axis=1)\n"
     ]
    },
    {
     "name": "stdout",
     "output_type": "stream",
     "text": [
      "0.9997329518359561\n",
      "Classifier3 Score with Predictions3, when k= 1\n"
     ]
    },
    {
     "name": "stderr",
     "output_type": "stream",
     "text": [
      "C:\\Users\\engrs\\anaconda3\\lib\\site-packages\\sklearn\\neighbors\\_classification.py:228: FutureWarning: Unlike other reduction functions (e.g. `skew`, `kurtosis`), the default behavior of `mode` typically preserves the axis it acts along. In SciPy 1.11.0, this behavior will change: the default value of `keepdims` will become False, the `axis` over which the statistic is taken will be eliminated, and the value None will no longer be accepted. Set `keepdims` to True or False to avoid this warning.\n",
      "  mode, _ = stats.mode(_y[neigh_ind, k], axis=1)\n"
     ]
    },
    {
     "name": "stdout",
     "output_type": "stream",
     "text": [
      "1.0\n"
     ]
    },
    {
     "name": "stderr",
     "output_type": "stream",
     "text": [
      "C:\\Users\\engrs\\anaconda3\\lib\\site-packages\\sklearn\\neighbors\\_classification.py:228: FutureWarning: Unlike other reduction functions (e.g. `skew`, `kurtosis`), the default behavior of `mode` typically preserves the axis it acts along. In SciPy 1.11.0, this behavior will change: the default value of `keepdims` will become False, the `axis` over which the statistic is taken will be eliminated, and the value None will no longer be accepted. Set `keepdims` to True or False to avoid this warning.\n",
      "  mode, _ = stats.mode(_y[neigh_ind, k], axis=1)\n"
     ]
    },
    {
     "name": "stdout",
     "output_type": "stream",
     "text": [
      "Prediction Shape when, k= 2\n",
      "(13107,)\n",
      "Classification Report when, k= 2\n"
     ]
    },
    {
     "name": "stderr",
     "output_type": "stream",
     "text": [
      "C:\\Users\\engrs\\anaconda3\\lib\\site-packages\\sklearn\\metrics\\_classification.py:1318: UndefinedMetricWarning: Precision and F-score are ill-defined and being set to 0.0 in labels with no predicted samples. Use `zero_division` parameter to control this behavior.\n",
      "  _warn_prf(average, modifier, msg_start, len(result))\n",
      "C:\\Users\\engrs\\anaconda3\\lib\\site-packages\\sklearn\\metrics\\_classification.py:1318: UndefinedMetricWarning: Precision and F-score are ill-defined and being set to 0.0 in labels with no predicted samples. Use `zero_division` parameter to control this behavior.\n",
      "  _warn_prf(average, modifier, msg_start, len(result))\n",
      "C:\\Users\\engrs\\anaconda3\\lib\\site-packages\\sklearn\\metrics\\_classification.py:1318: UndefinedMetricWarning: Precision and F-score are ill-defined and being set to 0.0 in labels with no predicted samples. Use `zero_division` parameter to control this behavior.\n",
      "  _warn_prf(average, modifier, msg_start, len(result))\n"
     ]
    },
    {
     "name": "stdout",
     "output_type": "stream",
     "text": [
      "              precision    recall  f1-score   support\n",
      "\n",
      "       allow       1.00      1.00      1.00      7495\n",
      "        deny       0.99      1.00      0.99      2992\n",
      "        drop       1.00      0.99      0.99      2607\n",
      "  reset-both       0.00      0.00      0.00        13\n",
      "\n",
      "    accuracy                           1.00     13107\n",
      "   macro avg       0.75      0.75      0.75     13107\n",
      "weighted avg       0.99      1.00      1.00     13107\n",
      "\n",
      "Classifier Score when, k= 2\n"
     ]
    },
    {
     "name": "stderr",
     "output_type": "stream",
     "text": [
      "C:\\Users\\engrs\\anaconda3\\lib\\site-packages\\sklearn\\neighbors\\_classification.py:228: FutureWarning: Unlike other reduction functions (e.g. `skew`, `kurtosis`), the default behavior of `mode` typically preserves the axis it acts along. In SciPy 1.11.0, this behavior will change: the default value of `keepdims` will become False, the `axis` over which the statistic is taken will be eliminated, and the value None will no longer be accepted. Set `keepdims` to True or False to avoid this warning.\n",
      "  mode, _ = stats.mode(_y[neigh_ind, k], axis=1)\n"
     ]
    },
    {
     "name": "stdout",
     "output_type": "stream",
     "text": [
      "0.9981688125894135\n",
      "Classifier3 Score with Predictions3, when k= 2\n"
     ]
    },
    {
     "name": "stderr",
     "output_type": "stream",
     "text": [
      "C:\\Users\\engrs\\anaconda3\\lib\\site-packages\\sklearn\\neighbors\\_classification.py:228: FutureWarning: Unlike other reduction functions (e.g. `skew`, `kurtosis`), the default behavior of `mode` typically preserves the axis it acts along. In SciPy 1.11.0, this behavior will change: the default value of `keepdims` will become False, the `axis` over which the statistic is taken will be eliminated, and the value None will no longer be accepted. Set `keepdims` to True or False to avoid this warning.\n",
      "  mode, _ = stats.mode(_y[neigh_ind, k], axis=1)\n"
     ]
    },
    {
     "name": "stdout",
     "output_type": "stream",
     "text": [
      "1.0\n"
     ]
    },
    {
     "name": "stderr",
     "output_type": "stream",
     "text": [
      "C:\\Users\\engrs\\anaconda3\\lib\\site-packages\\sklearn\\neighbors\\_classification.py:228: FutureWarning: Unlike other reduction functions (e.g. `skew`, `kurtosis`), the default behavior of `mode` typically preserves the axis it acts along. In SciPy 1.11.0, this behavior will change: the default value of `keepdims` will become False, the `axis` over which the statistic is taken will be eliminated, and the value None will no longer be accepted. Set `keepdims` to True or False to avoid this warning.\n",
      "  mode, _ = stats.mode(_y[neigh_ind, k], axis=1)\n"
     ]
    },
    {
     "name": "stdout",
     "output_type": "stream",
     "text": [
      "Prediction Shape when, k= 3\n",
      "(13107,)\n",
      "Classification Report when, k= 3\n"
     ]
    },
    {
     "name": "stderr",
     "output_type": "stream",
     "text": [
      "C:\\Users\\engrs\\anaconda3\\lib\\site-packages\\sklearn\\metrics\\_classification.py:1318: UndefinedMetricWarning: Precision and F-score are ill-defined and being set to 0.0 in labels with no predicted samples. Use `zero_division` parameter to control this behavior.\n",
      "  _warn_prf(average, modifier, msg_start, len(result))\n",
      "C:\\Users\\engrs\\anaconda3\\lib\\site-packages\\sklearn\\metrics\\_classification.py:1318: UndefinedMetricWarning: Precision and F-score are ill-defined and being set to 0.0 in labels with no predicted samples. Use `zero_division` parameter to control this behavior.\n",
      "  _warn_prf(average, modifier, msg_start, len(result))\n",
      "C:\\Users\\engrs\\anaconda3\\lib\\site-packages\\sklearn\\metrics\\_classification.py:1318: UndefinedMetricWarning: Precision and F-score are ill-defined and being set to 0.0 in labels with no predicted samples. Use `zero_division` parameter to control this behavior.\n",
      "  _warn_prf(average, modifier, msg_start, len(result))\n"
     ]
    },
    {
     "name": "stdout",
     "output_type": "stream",
     "text": [
      "              precision    recall  f1-score   support\n",
      "\n",
      "       allow       1.00      1.00      1.00      7495\n",
      "        deny       0.99      1.00      0.99      2992\n",
      "        drop       1.00      1.00      1.00      2607\n",
      "  reset-both       0.00      0.00      0.00        13\n",
      "\n",
      "    accuracy                           1.00     13107\n",
      "   macro avg       0.75      0.75      0.75     13107\n",
      "weighted avg       1.00      1.00      1.00     13107\n",
      "\n",
      "Classifier Score when, k= 3\n"
     ]
    },
    {
     "name": "stderr",
     "output_type": "stream",
     "text": [
      "C:\\Users\\engrs\\anaconda3\\lib\\site-packages\\sklearn\\neighbors\\_classification.py:228: FutureWarning: Unlike other reduction functions (e.g. `skew`, `kurtosis`), the default behavior of `mode` typically preserves the axis it acts along. In SciPy 1.11.0, this behavior will change: the default value of `keepdims` will become False, the `axis` over which the statistic is taken will be eliminated, and the value None will no longer be accepted. Set `keepdims` to True or False to avoid this warning.\n",
      "  mode, _ = stats.mode(_y[neigh_ind, k], axis=1)\n"
     ]
    },
    {
     "name": "stdout",
     "output_type": "stream",
     "text": [
      "0.9979017644253696\n",
      "Classifier3 Score with Predictions3, when k= 3\n"
     ]
    },
    {
     "name": "stderr",
     "output_type": "stream",
     "text": [
      "C:\\Users\\engrs\\anaconda3\\lib\\site-packages\\sklearn\\neighbors\\_classification.py:228: FutureWarning: Unlike other reduction functions (e.g. `skew`, `kurtosis`), the default behavior of `mode` typically preserves the axis it acts along. In SciPy 1.11.0, this behavior will change: the default value of `keepdims` will become False, the `axis` over which the statistic is taken will be eliminated, and the value None will no longer be accepted. Set `keepdims` to True or False to avoid this warning.\n",
      "  mode, _ = stats.mode(_y[neigh_ind, k], axis=1)\n"
     ]
    },
    {
     "name": "stdout",
     "output_type": "stream",
     "text": [
      "1.0\n"
     ]
    },
    {
     "name": "stderr",
     "output_type": "stream",
     "text": [
      "C:\\Users\\engrs\\anaconda3\\lib\\site-packages\\sklearn\\neighbors\\_classification.py:228: FutureWarning: Unlike other reduction functions (e.g. `skew`, `kurtosis`), the default behavior of `mode` typically preserves the axis it acts along. In SciPy 1.11.0, this behavior will change: the default value of `keepdims` will become False, the `axis` over which the statistic is taken will be eliminated, and the value None will no longer be accepted. Set `keepdims` to True or False to avoid this warning.\n",
      "  mode, _ = stats.mode(_y[neigh_ind, k], axis=1)\n"
     ]
    },
    {
     "name": "stdout",
     "output_type": "stream",
     "text": [
      "Prediction Shape when, k= 4\n",
      "(13107,)\n",
      "Classification Report when, k= 4\n"
     ]
    },
    {
     "name": "stderr",
     "output_type": "stream",
     "text": [
      "C:\\Users\\engrs\\anaconda3\\lib\\site-packages\\sklearn\\metrics\\_classification.py:1318: UndefinedMetricWarning: Precision and F-score are ill-defined and being set to 0.0 in labels with no predicted samples. Use `zero_division` parameter to control this behavior.\n",
      "  _warn_prf(average, modifier, msg_start, len(result))\n",
      "C:\\Users\\engrs\\anaconda3\\lib\\site-packages\\sklearn\\metrics\\_classification.py:1318: UndefinedMetricWarning: Precision and F-score are ill-defined and being set to 0.0 in labels with no predicted samples. Use `zero_division` parameter to control this behavior.\n",
      "  _warn_prf(average, modifier, msg_start, len(result))\n",
      "C:\\Users\\engrs\\anaconda3\\lib\\site-packages\\sklearn\\metrics\\_classification.py:1318: UndefinedMetricWarning: Precision and F-score are ill-defined and being set to 0.0 in labels with no predicted samples. Use `zero_division` parameter to control this behavior.\n",
      "  _warn_prf(average, modifier, msg_start, len(result))\n"
     ]
    },
    {
     "name": "stdout",
     "output_type": "stream",
     "text": [
      "              precision    recall  f1-score   support\n",
      "\n",
      "       allow       1.00      1.00      1.00      7495\n",
      "        deny       0.99      1.00      0.99      2992\n",
      "        drop       1.00      1.00      1.00      2607\n",
      "  reset-both       0.00      0.00      0.00        13\n",
      "\n",
      "    accuracy                           1.00     13107\n",
      "   macro avg       0.75      0.75      0.75     13107\n",
      "weighted avg       1.00      1.00      1.00     13107\n",
      "\n",
      "Classifier Score when, k= 4\n"
     ]
    },
    {
     "name": "stderr",
     "output_type": "stream",
     "text": [
      "C:\\Users\\engrs\\anaconda3\\lib\\site-packages\\sklearn\\neighbors\\_classification.py:228: FutureWarning: Unlike other reduction functions (e.g. `skew`, `kurtosis`), the default behavior of `mode` typically preserves the axis it acts along. In SciPy 1.11.0, this behavior will change: the default value of `keepdims` will become False, the `axis` over which the statistic is taken will be eliminated, and the value None will no longer be accepted. Set `keepdims` to True or False to avoid this warning.\n",
      "  mode, _ = stats.mode(_y[neigh_ind, k], axis=1)\n"
     ]
    },
    {
     "name": "stdout",
     "output_type": "stream",
     "text": [
      "0.9978063900810682\n",
      "Classifier3 Score with Predictions3, when k= 4\n"
     ]
    },
    {
     "name": "stderr",
     "output_type": "stream",
     "text": [
      "C:\\Users\\engrs\\anaconda3\\lib\\site-packages\\sklearn\\neighbors\\_classification.py:228: FutureWarning: Unlike other reduction functions (e.g. `skew`, `kurtosis`), the default behavior of `mode` typically preserves the axis it acts along. In SciPy 1.11.0, this behavior will change: the default value of `keepdims` will become False, the `axis` over which the statistic is taken will be eliminated, and the value None will no longer be accepted. Set `keepdims` to True or False to avoid this warning.\n",
      "  mode, _ = stats.mode(_y[neigh_ind, k], axis=1)\n"
     ]
    },
    {
     "name": "stdout",
     "output_type": "stream",
     "text": [
      "1.0\n"
     ]
    },
    {
     "name": "stderr",
     "output_type": "stream",
     "text": [
      "C:\\Users\\engrs\\anaconda3\\lib\\site-packages\\sklearn\\neighbors\\_classification.py:228: FutureWarning: Unlike other reduction functions (e.g. `skew`, `kurtosis`), the default behavior of `mode` typically preserves the axis it acts along. In SciPy 1.11.0, this behavior will change: the default value of `keepdims` will become False, the `axis` over which the statistic is taken will be eliminated, and the value None will no longer be accepted. Set `keepdims` to True or False to avoid this warning.\n",
      "  mode, _ = stats.mode(_y[neigh_ind, k], axis=1)\n"
     ]
    },
    {
     "name": "stdout",
     "output_type": "stream",
     "text": [
      "Prediction Shape when, k= 5\n",
      "(13107,)\n",
      "Classification Report when, k= 5\n"
     ]
    },
    {
     "name": "stderr",
     "output_type": "stream",
     "text": [
      "C:\\Users\\engrs\\anaconda3\\lib\\site-packages\\sklearn\\metrics\\_classification.py:1318: UndefinedMetricWarning: Precision and F-score are ill-defined and being set to 0.0 in labels with no predicted samples. Use `zero_division` parameter to control this behavior.\n",
      "  _warn_prf(average, modifier, msg_start, len(result))\n",
      "C:\\Users\\engrs\\anaconda3\\lib\\site-packages\\sklearn\\metrics\\_classification.py:1318: UndefinedMetricWarning: Precision and F-score are ill-defined and being set to 0.0 in labels with no predicted samples. Use `zero_division` parameter to control this behavior.\n",
      "  _warn_prf(average, modifier, msg_start, len(result))\n",
      "C:\\Users\\engrs\\anaconda3\\lib\\site-packages\\sklearn\\metrics\\_classification.py:1318: UndefinedMetricWarning: Precision and F-score are ill-defined and being set to 0.0 in labels with no predicted samples. Use `zero_division` parameter to control this behavior.\n",
      "  _warn_prf(average, modifier, msg_start, len(result))\n"
     ]
    },
    {
     "name": "stdout",
     "output_type": "stream",
     "text": [
      "              precision    recall  f1-score   support\n",
      "\n",
      "       allow       1.00      1.00      1.00      7495\n",
      "        deny       0.99      0.99      0.99      2992\n",
      "        drop       1.00      1.00      1.00      2607\n",
      "  reset-both       0.00      0.00      0.00        13\n",
      "\n",
      "    accuracy                           1.00     13107\n",
      "   macro avg       0.75      0.75      0.75     13107\n",
      "weighted avg       1.00      1.00      1.00     13107\n",
      "\n",
      "Classifier Score when, k= 5\n"
     ]
    },
    {
     "name": "stderr",
     "output_type": "stream",
     "text": [
      "C:\\Users\\engrs\\anaconda3\\lib\\site-packages\\sklearn\\neighbors\\_classification.py:228: FutureWarning: Unlike other reduction functions (e.g. `skew`, `kurtosis`), the default behavior of `mode` typically preserves the axis it acts along. In SciPy 1.11.0, this behavior will change: the default value of `keepdims` will become False, the `axis` over which the statistic is taken will be eliminated, and the value None will no longer be accepted. Set `keepdims` to True or False to avoid this warning.\n",
      "  mode, _ = stats.mode(_y[neigh_ind, k], axis=1)\n"
     ]
    },
    {
     "name": "stdout",
     "output_type": "stream",
     "text": [
      "0.9974821173104435\n",
      "Classifier3 Score with Predictions3, when k= 5\n"
     ]
    },
    {
     "name": "stderr",
     "output_type": "stream",
     "text": [
      "C:\\Users\\engrs\\anaconda3\\lib\\site-packages\\sklearn\\neighbors\\_classification.py:228: FutureWarning: Unlike other reduction functions (e.g. `skew`, `kurtosis`), the default behavior of `mode` typically preserves the axis it acts along. In SciPy 1.11.0, this behavior will change: the default value of `keepdims` will become False, the `axis` over which the statistic is taken will be eliminated, and the value None will no longer be accepted. Set `keepdims` to True or False to avoid this warning.\n",
      "  mode, _ = stats.mode(_y[neigh_ind, k], axis=1)\n"
     ]
    },
    {
     "name": "stdout",
     "output_type": "stream",
     "text": [
      "1.0\n"
     ]
    },
    {
     "name": "stderr",
     "output_type": "stream",
     "text": [
      "C:\\Users\\engrs\\anaconda3\\lib\\site-packages\\sklearn\\neighbors\\_classification.py:228: FutureWarning: Unlike other reduction functions (e.g. `skew`, `kurtosis`), the default behavior of `mode` typically preserves the axis it acts along. In SciPy 1.11.0, this behavior will change: the default value of `keepdims` will become False, the `axis` over which the statistic is taken will be eliminated, and the value None will no longer be accepted. Set `keepdims` to True or False to avoid this warning.\n",
      "  mode, _ = stats.mode(_y[neigh_ind, k], axis=1)\n"
     ]
    },
    {
     "name": "stdout",
     "output_type": "stream",
     "text": [
      "Prediction Shape when, k= 6\n",
      "(13107,)\n",
      "Classification Report when, k= 6\n"
     ]
    },
    {
     "name": "stderr",
     "output_type": "stream",
     "text": [
      "C:\\Users\\engrs\\anaconda3\\lib\\site-packages\\sklearn\\metrics\\_classification.py:1318: UndefinedMetricWarning: Precision and F-score are ill-defined and being set to 0.0 in labels with no predicted samples. Use `zero_division` parameter to control this behavior.\n",
      "  _warn_prf(average, modifier, msg_start, len(result))\n",
      "C:\\Users\\engrs\\anaconda3\\lib\\site-packages\\sklearn\\metrics\\_classification.py:1318: UndefinedMetricWarning: Precision and F-score are ill-defined and being set to 0.0 in labels with no predicted samples. Use `zero_division` parameter to control this behavior.\n",
      "  _warn_prf(average, modifier, msg_start, len(result))\n",
      "C:\\Users\\engrs\\anaconda3\\lib\\site-packages\\sklearn\\metrics\\_classification.py:1318: UndefinedMetricWarning: Precision and F-score are ill-defined and being set to 0.0 in labels with no predicted samples. Use `zero_division` parameter to control this behavior.\n",
      "  _warn_prf(average, modifier, msg_start, len(result))\n"
     ]
    },
    {
     "name": "stdout",
     "output_type": "stream",
     "text": [
      "              precision    recall  f1-score   support\n",
      "\n",
      "       allow       1.00      1.00      1.00      7495\n",
      "        deny       0.99      0.99      0.99      2992\n",
      "        drop       1.00      1.00      1.00      2607\n",
      "  reset-both       0.00      0.00      0.00        13\n",
      "\n",
      "    accuracy                           1.00     13107\n",
      "   macro avg       0.75      0.75      0.75     13107\n",
      "weighted avg       1.00      1.00      1.00     13107\n",
      "\n",
      "Classifier Score when, k= 6\n"
     ]
    },
    {
     "name": "stderr",
     "output_type": "stream",
     "text": [
      "C:\\Users\\engrs\\anaconda3\\lib\\site-packages\\sklearn\\neighbors\\_classification.py:228: FutureWarning: Unlike other reduction functions (e.g. `skew`, `kurtosis`), the default behavior of `mode` typically preserves the axis it acts along. In SciPy 1.11.0, this behavior will change: the default value of `keepdims` will become False, the `axis` over which the statistic is taken will be eliminated, and the value None will no longer be accepted. Set `keepdims` to True or False to avoid this warning.\n",
      "  mode, _ = stats.mode(_y[neigh_ind, k], axis=1)\n"
     ]
    },
    {
     "name": "stdout",
     "output_type": "stream",
     "text": [
      "0.9972722937529804\n",
      "Classifier3 Score with Predictions3, when k= 6\n"
     ]
    },
    {
     "name": "stderr",
     "output_type": "stream",
     "text": [
      "C:\\Users\\engrs\\anaconda3\\lib\\site-packages\\sklearn\\neighbors\\_classification.py:228: FutureWarning: Unlike other reduction functions (e.g. `skew`, `kurtosis`), the default behavior of `mode` typically preserves the axis it acts along. In SciPy 1.11.0, this behavior will change: the default value of `keepdims` will become False, the `axis` over which the statistic is taken will be eliminated, and the value None will no longer be accepted. Set `keepdims` to True or False to avoid this warning.\n",
      "  mode, _ = stats.mode(_y[neigh_ind, k], axis=1)\n"
     ]
    },
    {
     "name": "stdout",
     "output_type": "stream",
     "text": [
      "1.0\n"
     ]
    },
    {
     "name": "stderr",
     "output_type": "stream",
     "text": [
      "C:\\Users\\engrs\\anaconda3\\lib\\site-packages\\sklearn\\neighbors\\_classification.py:228: FutureWarning: Unlike other reduction functions (e.g. `skew`, `kurtosis`), the default behavior of `mode` typically preserves the axis it acts along. In SciPy 1.11.0, this behavior will change: the default value of `keepdims` will become False, the `axis` over which the statistic is taken will be eliminated, and the value None will no longer be accepted. Set `keepdims` to True or False to avoid this warning.\n",
      "  mode, _ = stats.mode(_y[neigh_ind, k], axis=1)\n"
     ]
    },
    {
     "name": "stdout",
     "output_type": "stream",
     "text": [
      "Prediction Shape when, k= 7\n",
      "(13107,)\n",
      "Classification Report when, k= 7\n"
     ]
    },
    {
     "name": "stderr",
     "output_type": "stream",
     "text": [
      "C:\\Users\\engrs\\anaconda3\\lib\\site-packages\\sklearn\\metrics\\_classification.py:1318: UndefinedMetricWarning: Precision and F-score are ill-defined and being set to 0.0 in labels with no predicted samples. Use `zero_division` parameter to control this behavior.\n",
      "  _warn_prf(average, modifier, msg_start, len(result))\n",
      "C:\\Users\\engrs\\anaconda3\\lib\\site-packages\\sklearn\\metrics\\_classification.py:1318: UndefinedMetricWarning: Precision and F-score are ill-defined and being set to 0.0 in labels with no predicted samples. Use `zero_division` parameter to control this behavior.\n",
      "  _warn_prf(average, modifier, msg_start, len(result))\n",
      "C:\\Users\\engrs\\anaconda3\\lib\\site-packages\\sklearn\\metrics\\_classification.py:1318: UndefinedMetricWarning: Precision and F-score are ill-defined and being set to 0.0 in labels with no predicted samples. Use `zero_division` parameter to control this behavior.\n",
      "  _warn_prf(average, modifier, msg_start, len(result))\n"
     ]
    },
    {
     "name": "stdout",
     "output_type": "stream",
     "text": [
      "              precision    recall  f1-score   support\n",
      "\n",
      "       allow       1.00      1.00      1.00      7495\n",
      "        deny       0.99      0.99      0.99      2992\n",
      "        drop       0.99      1.00      1.00      2607\n",
      "  reset-both       0.00      0.00      0.00        13\n",
      "\n",
      "    accuracy                           1.00     13107\n",
      "   macro avg       0.75      0.75      0.75     13107\n",
      "weighted avg       1.00      1.00      1.00     13107\n",
      "\n",
      "Classifier Score when, k= 7\n"
     ]
    },
    {
     "name": "stderr",
     "output_type": "stream",
     "text": [
      "C:\\Users\\engrs\\anaconda3\\lib\\site-packages\\sklearn\\neighbors\\_classification.py:228: FutureWarning: Unlike other reduction functions (e.g. `skew`, `kurtosis`), the default behavior of `mode` typically preserves the axis it acts along. In SciPy 1.11.0, this behavior will change: the default value of `keepdims` will become False, the `axis` over which the statistic is taken will be eliminated, and the value None will no longer be accepted. Set `keepdims` to True or False to avoid this warning.\n",
      "  mode, _ = stats.mode(_y[neigh_ind, k], axis=1)\n"
     ]
    },
    {
     "name": "stdout",
     "output_type": "stream",
     "text": [
      "0.9968144969003339\n",
      "Classifier3 Score with Predictions3, when k= 7\n"
     ]
    },
    {
     "name": "stderr",
     "output_type": "stream",
     "text": [
      "C:\\Users\\engrs\\anaconda3\\lib\\site-packages\\sklearn\\neighbors\\_classification.py:228: FutureWarning: Unlike other reduction functions (e.g. `skew`, `kurtosis`), the default behavior of `mode` typically preserves the axis it acts along. In SciPy 1.11.0, this behavior will change: the default value of `keepdims` will become False, the `axis` over which the statistic is taken will be eliminated, and the value None will no longer be accepted. Set `keepdims` to True or False to avoid this warning.\n",
      "  mode, _ = stats.mode(_y[neigh_ind, k], axis=1)\n"
     ]
    },
    {
     "name": "stdout",
     "output_type": "stream",
     "text": [
      "1.0\n"
     ]
    },
    {
     "name": "stderr",
     "output_type": "stream",
     "text": [
      "C:\\Users\\engrs\\anaconda3\\lib\\site-packages\\sklearn\\neighbors\\_classification.py:228: FutureWarning: Unlike other reduction functions (e.g. `skew`, `kurtosis`), the default behavior of `mode` typically preserves the axis it acts along. In SciPy 1.11.0, this behavior will change: the default value of `keepdims` will become False, the `axis` over which the statistic is taken will be eliminated, and the value None will no longer be accepted. Set `keepdims` to True or False to avoid this warning.\n",
      "  mode, _ = stats.mode(_y[neigh_ind, k], axis=1)\n"
     ]
    },
    {
     "name": "stdout",
     "output_type": "stream",
     "text": [
      "Prediction Shape when, k= 8\n",
      "(13107,)\n",
      "Classification Report when, k= 8\n"
     ]
    },
    {
     "name": "stderr",
     "output_type": "stream",
     "text": [
      "C:\\Users\\engrs\\anaconda3\\lib\\site-packages\\sklearn\\metrics\\_classification.py:1318: UndefinedMetricWarning: Precision and F-score are ill-defined and being set to 0.0 in labels with no predicted samples. Use `zero_division` parameter to control this behavior.\n",
      "  _warn_prf(average, modifier, msg_start, len(result))\n",
      "C:\\Users\\engrs\\anaconda3\\lib\\site-packages\\sklearn\\metrics\\_classification.py:1318: UndefinedMetricWarning: Precision and F-score are ill-defined and being set to 0.0 in labels with no predicted samples. Use `zero_division` parameter to control this behavior.\n",
      "  _warn_prf(average, modifier, msg_start, len(result))\n",
      "C:\\Users\\engrs\\anaconda3\\lib\\site-packages\\sklearn\\metrics\\_classification.py:1318: UndefinedMetricWarning: Precision and F-score are ill-defined and being set to 0.0 in labels with no predicted samples. Use `zero_division` parameter to control this behavior.\n",
      "  _warn_prf(average, modifier, msg_start, len(result))\n"
     ]
    },
    {
     "name": "stdout",
     "output_type": "stream",
     "text": [
      "              precision    recall  f1-score   support\n",
      "\n",
      "       allow       1.00      1.00      1.00      7495\n",
      "        deny       0.99      0.99      0.99      2992\n",
      "        drop       0.99      1.00      1.00      2607\n",
      "  reset-both       0.00      0.00      0.00        13\n",
      "\n",
      "    accuracy                           1.00     13107\n",
      "   macro avg       0.75      0.75      0.75     13107\n",
      "weighted avg       1.00      1.00      1.00     13107\n",
      "\n",
      "Classifier Score when, k= 8\n"
     ]
    },
    {
     "name": "stderr",
     "output_type": "stream",
     "text": [
      "C:\\Users\\engrs\\anaconda3\\lib\\site-packages\\sklearn\\neighbors\\_classification.py:228: FutureWarning: Unlike other reduction functions (e.g. `skew`, `kurtosis`), the default behavior of `mode` typically preserves the axis it acts along. In SciPy 1.11.0, this behavior will change: the default value of `keepdims` will become False, the `axis` over which the statistic is taken will be eliminated, and the value None will no longer be accepted. Set `keepdims` to True or False to avoid this warning.\n",
      "  mode, _ = stats.mode(_y[neigh_ind, k], axis=1)\n"
     ]
    },
    {
     "name": "stdout",
     "output_type": "stream",
     "text": [
      "0.9967763471626132\n",
      "Classifier3 Score with Predictions3, when k= 8\n"
     ]
    },
    {
     "name": "stderr",
     "output_type": "stream",
     "text": [
      "C:\\Users\\engrs\\anaconda3\\lib\\site-packages\\sklearn\\neighbors\\_classification.py:228: FutureWarning: Unlike other reduction functions (e.g. `skew`, `kurtosis`), the default behavior of `mode` typically preserves the axis it acts along. In SciPy 1.11.0, this behavior will change: the default value of `keepdims` will become False, the `axis` over which the statistic is taken will be eliminated, and the value None will no longer be accepted. Set `keepdims` to True or False to avoid this warning.\n",
      "  mode, _ = stats.mode(_y[neigh_ind, k], axis=1)\n"
     ]
    },
    {
     "name": "stdout",
     "output_type": "stream",
     "text": [
      "1.0\n"
     ]
    },
    {
     "name": "stderr",
     "output_type": "stream",
     "text": [
      "C:\\Users\\engrs\\anaconda3\\lib\\site-packages\\sklearn\\neighbors\\_classification.py:228: FutureWarning: Unlike other reduction functions (e.g. `skew`, `kurtosis`), the default behavior of `mode` typically preserves the axis it acts along. In SciPy 1.11.0, this behavior will change: the default value of `keepdims` will become False, the `axis` over which the statistic is taken will be eliminated, and the value None will no longer be accepted. Set `keepdims` to True or False to avoid this warning.\n",
      "  mode, _ = stats.mode(_y[neigh_ind, k], axis=1)\n"
     ]
    },
    {
     "name": "stdout",
     "output_type": "stream",
     "text": [
      "Prediction Shape when, k= 9\n",
      "(13107,)\n",
      "Classification Report when, k= 9\n"
     ]
    },
    {
     "name": "stderr",
     "output_type": "stream",
     "text": [
      "C:\\Users\\engrs\\anaconda3\\lib\\site-packages\\sklearn\\metrics\\_classification.py:1318: UndefinedMetricWarning: Precision and F-score are ill-defined and being set to 0.0 in labels with no predicted samples. Use `zero_division` parameter to control this behavior.\n",
      "  _warn_prf(average, modifier, msg_start, len(result))\n",
      "C:\\Users\\engrs\\anaconda3\\lib\\site-packages\\sklearn\\metrics\\_classification.py:1318: UndefinedMetricWarning: Precision and F-score are ill-defined and being set to 0.0 in labels with no predicted samples. Use `zero_division` parameter to control this behavior.\n",
      "  _warn_prf(average, modifier, msg_start, len(result))\n",
      "C:\\Users\\engrs\\anaconda3\\lib\\site-packages\\sklearn\\metrics\\_classification.py:1318: UndefinedMetricWarning: Precision and F-score are ill-defined and being set to 0.0 in labels with no predicted samples. Use `zero_division` parameter to control this behavior.\n",
      "  _warn_prf(average, modifier, msg_start, len(result))\n"
     ]
    },
    {
     "name": "stdout",
     "output_type": "stream",
     "text": [
      "              precision    recall  f1-score   support\n",
      "\n",
      "       allow       1.00      1.00      1.00      7495\n",
      "        deny       0.99      0.99      0.99      2992\n",
      "        drop       0.99      1.00      1.00      2607\n",
      "  reset-both       0.00      0.00      0.00        13\n",
      "\n",
      "    accuracy                           1.00     13107\n",
      "   macro avg       0.75      0.75      0.75     13107\n",
      "weighted avg       1.00      1.00      1.00     13107\n",
      "\n",
      "Classifier Score when, k= 9\n"
     ]
    },
    {
     "name": "stderr",
     "output_type": "stream",
     "text": [
      "C:\\Users\\engrs\\anaconda3\\lib\\site-packages\\sklearn\\neighbors\\_classification.py:228: FutureWarning: Unlike other reduction functions (e.g. `skew`, `kurtosis`), the default behavior of `mode` typically preserves the axis it acts along. In SciPy 1.11.0, this behavior will change: the default value of `keepdims` will become False, the `axis` over which the statistic is taken will be eliminated, and the value None will no longer be accepted. Set `keepdims` to True or False to avoid this warning.\n",
      "  mode, _ = stats.mode(_y[neigh_ind, k], axis=1)\n"
     ]
    },
    {
     "name": "stdout",
     "output_type": "stream",
     "text": [
      "0.9963567000476872\n",
      "Classifier3 Score with Predictions3, when k= 9\n"
     ]
    },
    {
     "name": "stderr",
     "output_type": "stream",
     "text": [
      "C:\\Users\\engrs\\anaconda3\\lib\\site-packages\\sklearn\\neighbors\\_classification.py:228: FutureWarning: Unlike other reduction functions (e.g. `skew`, `kurtosis`), the default behavior of `mode` typically preserves the axis it acts along. In SciPy 1.11.0, this behavior will change: the default value of `keepdims` will become False, the `axis` over which the statistic is taken will be eliminated, and the value None will no longer be accepted. Set `keepdims` to True or False to avoid this warning.\n",
      "  mode, _ = stats.mode(_y[neigh_ind, k], axis=1)\n"
     ]
    },
    {
     "name": "stdout",
     "output_type": "stream",
     "text": [
      "1.0\n"
     ]
    },
    {
     "name": "stderr",
     "output_type": "stream",
     "text": [
      "C:\\Users\\engrs\\anaconda3\\lib\\site-packages\\sklearn\\neighbors\\_classification.py:228: FutureWarning: Unlike other reduction functions (e.g. `skew`, `kurtosis`), the default behavior of `mode` typically preserves the axis it acts along. In SciPy 1.11.0, this behavior will change: the default value of `keepdims` will become False, the `axis` over which the statistic is taken will be eliminated, and the value None will no longer be accepted. Set `keepdims` to True or False to avoid this warning.\n",
      "  mode, _ = stats.mode(_y[neigh_ind, k], axis=1)\n"
     ]
    },
    {
     "name": "stdout",
     "output_type": "stream",
     "text": [
      "Prediction Shape when, k= 10\n",
      "(13107,)\n",
      "Classification Report when, k= 10\n"
     ]
    },
    {
     "name": "stderr",
     "output_type": "stream",
     "text": [
      "C:\\Users\\engrs\\anaconda3\\lib\\site-packages\\sklearn\\metrics\\_classification.py:1318: UndefinedMetricWarning: Precision and F-score are ill-defined and being set to 0.0 in labels with no predicted samples. Use `zero_division` parameter to control this behavior.\n",
      "  _warn_prf(average, modifier, msg_start, len(result))\n",
      "C:\\Users\\engrs\\anaconda3\\lib\\site-packages\\sklearn\\metrics\\_classification.py:1318: UndefinedMetricWarning: Precision and F-score are ill-defined and being set to 0.0 in labels with no predicted samples. Use `zero_division` parameter to control this behavior.\n",
      "  _warn_prf(average, modifier, msg_start, len(result))\n",
      "C:\\Users\\engrs\\anaconda3\\lib\\site-packages\\sklearn\\metrics\\_classification.py:1318: UndefinedMetricWarning: Precision and F-score are ill-defined and being set to 0.0 in labels with no predicted samples. Use `zero_division` parameter to control this behavior.\n",
      "  _warn_prf(average, modifier, msg_start, len(result))\n"
     ]
    },
    {
     "name": "stdout",
     "output_type": "stream",
     "text": [
      "              precision    recall  f1-score   support\n",
      "\n",
      "       allow       1.00      1.00      1.00      7495\n",
      "        deny       0.99      0.99      0.99      2992\n",
      "        drop       0.99      1.00      1.00      2607\n",
      "  reset-both       0.00      0.00      0.00        13\n",
      "\n",
      "    accuracy                           1.00     13107\n",
      "   macro avg       0.75      0.75      0.75     13107\n",
      "weighted avg       1.00      1.00      1.00     13107\n",
      "\n",
      "Classifier Score when, k= 10\n"
     ]
    },
    {
     "name": "stderr",
     "output_type": "stream",
     "text": [
      "C:\\Users\\engrs\\anaconda3\\lib\\site-packages\\sklearn\\neighbors\\_classification.py:228: FutureWarning: Unlike other reduction functions (e.g. `skew`, `kurtosis`), the default behavior of `mode` typically preserves the axis it acts along. In SciPy 1.11.0, this behavior will change: the default value of `keepdims` will become False, the `axis` over which the statistic is taken will be eliminated, and the value None will no longer be accepted. Set `keepdims` to True or False to avoid this warning.\n",
      "  mode, _ = stats.mode(_y[neigh_ind, k], axis=1)\n"
     ]
    },
    {
     "name": "stdout",
     "output_type": "stream",
     "text": [
      "0.9963567000476872\n",
      "Classifier3 Score with Predictions3, when k= 10\n"
     ]
    },
    {
     "name": "stderr",
     "output_type": "stream",
     "text": [
      "C:\\Users\\engrs\\anaconda3\\lib\\site-packages\\sklearn\\neighbors\\_classification.py:228: FutureWarning: Unlike other reduction functions (e.g. `skew`, `kurtosis`), the default behavior of `mode` typically preserves the axis it acts along. In SciPy 1.11.0, this behavior will change: the default value of `keepdims` will become False, the `axis` over which the statistic is taken will be eliminated, and the value None will no longer be accepted. Set `keepdims` to True or False to avoid this warning.\n",
      "  mode, _ = stats.mode(_y[neigh_ind, k], axis=1)\n"
     ]
    },
    {
     "name": "stdout",
     "output_type": "stream",
     "text": [
      "1.0\n"
     ]
    }
   ],
   "source": [
    "from sklearn.neighbors import KNeighborsClassifier\n",
    "from sklearn.metrics import classification_report\n",
    "i=1\n",
    "while i<=10:\n",
    "  classifier3=KNeighborsClassifier(n_neighbors=i)\n",
    "  classifier3.fit(x_train_sc, y_train)\n",
    "  prediction3=classifier3.predict(x_test_sc)\n",
    "  print(\"Prediction Shape when, k=\",i)\n",
    "  print(prediction3.shape)\n",
    "  print(\"Classification Report when, k=\",i)\n",
    "  print(classification_report(y_test, prediction3))\n",
    "  print(\"Classifier Score when, k=\",i)\n",
    "  print(classifier3.score(x_train_sc,y_train))\n",
    "  print(\"Classifier3 Score with Predictions3, when k=\",i)\n",
    "  print(classifier3.score(x_test_sc, prediction3))\n",
    "  i=i+1"
   ]
  },
  {
   "cell_type": "markdown",
   "metadata": {
    "id": "TFjGlNaPLmh2"
   },
   "source": [
    "### **KNN Model when Data Balanced with Smote and Also Normalized.**"
   ]
  },
  {
   "cell_type": "code",
   "execution_count": 33,
   "metadata": {
    "colab": {
     "base_uri": "https://localhost:8080/"
    },
    "id": "kBStnYI1p0co",
    "outputId": "5eef647f-8a9d-452b-8728-1e51e502eb0c"
   },
   "outputs": [
    {
     "name": "stderr",
     "output_type": "stream",
     "text": [
      "C:\\Users\\engrs\\anaconda3\\lib\\site-packages\\sklearn\\neighbors\\_classification.py:228: FutureWarning: Unlike other reduction functions (e.g. `skew`, `kurtosis`), the default behavior of `mode` typically preserves the axis it acts along. In SciPy 1.11.0, this behavior will change: the default value of `keepdims` will become False, the `axis` over which the statistic is taken will be eliminated, and the value None will no longer be accepted. Set `keepdims` to True or False to avoid this warning.\n",
      "  mode, _ = stats.mode(_y[neigh_ind, k], axis=1)\n"
     ]
    },
    {
     "name": "stdout",
     "output_type": "stream",
     "text": [
      "Prediction Shape when, k= 1\n",
      "(30112,)\n",
      "Classification Report when, k= 1\n",
      "              precision    recall  f1-score   support\n",
      "\n",
      "       allow       1.00      1.00      1.00      7574\n",
      "        deny       0.99      0.99      0.99      7515\n",
      "        drop       1.00      1.00      1.00      7493\n",
      "  reset-both       0.99      0.99      0.99      7530\n",
      "\n",
      "    accuracy                           1.00     30112\n",
      "   macro avg       1.00      1.00      1.00     30112\n",
      "weighted avg       1.00      1.00      1.00     30112\n",
      "\n",
      "Classifier Score when, k= 1\n"
     ]
    },
    {
     "name": "stderr",
     "output_type": "stream",
     "text": [
      "C:\\Users\\engrs\\anaconda3\\lib\\site-packages\\sklearn\\neighbors\\_classification.py:228: FutureWarning: Unlike other reduction functions (e.g. `skew`, `kurtosis`), the default behavior of `mode` typically preserves the axis it acts along. In SciPy 1.11.0, this behavior will change: the default value of `keepdims` will become False, the `axis` over which the statistic is taken will be eliminated, and the value None will no longer be accepted. Set `keepdims` to True or False to avoid this warning.\n",
      "  mode, _ = stats.mode(_y[neigh_ind, k], axis=1)\n"
     ]
    },
    {
     "name": "stdout",
     "output_type": "stream",
     "text": [
      "0.9996097901168969\n",
      "Classifier Score with Predictions, when k= 1\n"
     ]
    },
    {
     "name": "stderr",
     "output_type": "stream",
     "text": [
      "C:\\Users\\engrs\\anaconda3\\lib\\site-packages\\sklearn\\neighbors\\_classification.py:228: FutureWarning: Unlike other reduction functions (e.g. `skew`, `kurtosis`), the default behavior of `mode` typically preserves the axis it acts along. In SciPy 1.11.0, this behavior will change: the default value of `keepdims` will become False, the `axis` over which the statistic is taken will be eliminated, and the value None will no longer be accepted. Set `keepdims` to True or False to avoid this warning.\n",
      "  mode, _ = stats.mode(_y[neigh_ind, k], axis=1)\n"
     ]
    },
    {
     "name": "stdout",
     "output_type": "stream",
     "text": [
      "1.0\n"
     ]
    },
    {
     "name": "stderr",
     "output_type": "stream",
     "text": [
      "C:\\Users\\engrs\\anaconda3\\lib\\site-packages\\sklearn\\neighbors\\_classification.py:228: FutureWarning: Unlike other reduction functions (e.g. `skew`, `kurtosis`), the default behavior of `mode` typically preserves the axis it acts along. In SciPy 1.11.0, this behavior will change: the default value of `keepdims` will become False, the `axis` over which the statistic is taken will be eliminated, and the value None will no longer be accepted. Set `keepdims` to True or False to avoid this warning.\n",
      "  mode, _ = stats.mode(_y[neigh_ind, k], axis=1)\n"
     ]
    },
    {
     "name": "stdout",
     "output_type": "stream",
     "text": [
      "Prediction Shape when, k= 2\n",
      "(30112,)\n",
      "Classification Report when, k= 2\n",
      "              precision    recall  f1-score   support\n",
      "\n",
      "       allow       1.00      1.00      1.00      7574\n",
      "        deny       0.98      0.99      0.99      7515\n",
      "        drop       1.00      1.00      1.00      7493\n",
      "  reset-both       0.99      0.98      0.99      7530\n",
      "\n",
      "    accuracy                           0.99     30112\n",
      "   macro avg       0.99      0.99      0.99     30112\n",
      "weighted avg       0.99      0.99      0.99     30112\n",
      "\n",
      "Classifier Score when, k= 2\n"
     ]
    },
    {
     "name": "stderr",
     "output_type": "stream",
     "text": [
      "C:\\Users\\engrs\\anaconda3\\lib\\site-packages\\sklearn\\neighbors\\_classification.py:228: FutureWarning: Unlike other reduction functions (e.g. `skew`, `kurtosis`), the default behavior of `mode` typically preserves the axis it acts along. In SciPy 1.11.0, this behavior will change: the default value of `keepdims` will become False, the `axis` over which the statistic is taken will be eliminated, and the value None will no longer be accepted. Set `keepdims` to True or False to avoid this warning.\n",
      "  mode, _ = stats.mode(_y[neigh_ind, k], axis=1)\n"
     ]
    },
    {
     "name": "stdout",
     "output_type": "stream",
     "text": [
      "0.9975176009564294\n",
      "Classifier Score with Predictions, when k= 2\n"
     ]
    },
    {
     "name": "stderr",
     "output_type": "stream",
     "text": [
      "C:\\Users\\engrs\\anaconda3\\lib\\site-packages\\sklearn\\neighbors\\_classification.py:228: FutureWarning: Unlike other reduction functions (e.g. `skew`, `kurtosis`), the default behavior of `mode` typically preserves the axis it acts along. In SciPy 1.11.0, this behavior will change: the default value of `keepdims` will become False, the `axis` over which the statistic is taken will be eliminated, and the value None will no longer be accepted. Set `keepdims` to True or False to avoid this warning.\n",
      "  mode, _ = stats.mode(_y[neigh_ind, k], axis=1)\n"
     ]
    },
    {
     "name": "stdout",
     "output_type": "stream",
     "text": [
      "1.0\n"
     ]
    },
    {
     "name": "stderr",
     "output_type": "stream",
     "text": [
      "C:\\Users\\engrs\\anaconda3\\lib\\site-packages\\sklearn\\neighbors\\_classification.py:228: FutureWarning: Unlike other reduction functions (e.g. `skew`, `kurtosis`), the default behavior of `mode` typically preserves the axis it acts along. In SciPy 1.11.0, this behavior will change: the default value of `keepdims` will become False, the `axis` over which the statistic is taken will be eliminated, and the value None will no longer be accepted. Set `keepdims` to True or False to avoid this warning.\n",
      "  mode, _ = stats.mode(_y[neigh_ind, k], axis=1)\n"
     ]
    },
    {
     "name": "stdout",
     "output_type": "stream",
     "text": [
      "Prediction Shape when, k= 3\n",
      "(30112,)\n",
      "Classification Report when, k= 3\n",
      "              precision    recall  f1-score   support\n",
      "\n",
      "       allow       1.00      1.00      1.00      7574\n",
      "        deny       0.99      0.98      0.99      7515\n",
      "        drop       1.00      1.00      1.00      7493\n",
      "  reset-both       0.99      0.99      0.99      7530\n",
      "\n",
      "    accuracy                           0.99     30112\n",
      "   macro avg       0.99      0.99      0.99     30112\n",
      "weighted avg       0.99      0.99      0.99     30112\n",
      "\n",
      "Classifier Score when, k= 3\n"
     ]
    },
    {
     "name": "stderr",
     "output_type": "stream",
     "text": [
      "C:\\Users\\engrs\\anaconda3\\lib\\site-packages\\sklearn\\neighbors\\_classification.py:228: FutureWarning: Unlike other reduction functions (e.g. `skew`, `kurtosis`), the default behavior of `mode` typically preserves the axis it acts along. In SciPy 1.11.0, this behavior will change: the default value of `keepdims` will become False, the `axis` over which the statistic is taken will be eliminated, and the value None will no longer be accepted. Set `keepdims` to True or False to avoid this warning.\n",
      "  mode, _ = stats.mode(_y[neigh_ind, k], axis=1)\n"
     ]
    },
    {
     "name": "stdout",
     "output_type": "stream",
     "text": [
      "0.9962888549415515\n",
      "Classifier Score with Predictions, when k= 3\n"
     ]
    },
    {
     "name": "stderr",
     "output_type": "stream",
     "text": [
      "C:\\Users\\engrs\\anaconda3\\lib\\site-packages\\sklearn\\neighbors\\_classification.py:228: FutureWarning: Unlike other reduction functions (e.g. `skew`, `kurtosis`), the default behavior of `mode` typically preserves the axis it acts along. In SciPy 1.11.0, this behavior will change: the default value of `keepdims` will become False, the `axis` over which the statistic is taken will be eliminated, and the value None will no longer be accepted. Set `keepdims` to True or False to avoid this warning.\n",
      "  mode, _ = stats.mode(_y[neigh_ind, k], axis=1)\n"
     ]
    },
    {
     "name": "stdout",
     "output_type": "stream",
     "text": [
      "1.0\n"
     ]
    },
    {
     "name": "stderr",
     "output_type": "stream",
     "text": [
      "C:\\Users\\engrs\\anaconda3\\lib\\site-packages\\sklearn\\neighbors\\_classification.py:228: FutureWarning: Unlike other reduction functions (e.g. `skew`, `kurtosis`), the default behavior of `mode` typically preserves the axis it acts along. In SciPy 1.11.0, this behavior will change: the default value of `keepdims` will become False, the `axis` over which the statistic is taken will be eliminated, and the value None will no longer be accepted. Set `keepdims` to True or False to avoid this warning.\n",
      "  mode, _ = stats.mode(_y[neigh_ind, k], axis=1)\n"
     ]
    },
    {
     "name": "stdout",
     "output_type": "stream",
     "text": [
      "Prediction Shape when, k= 4\n",
      "(30112,)\n",
      "Classification Report when, k= 4\n",
      "              precision    recall  f1-score   support\n",
      "\n",
      "       allow       1.00      1.00      1.00      7574\n",
      "        deny       0.98      0.99      0.98      7515\n",
      "        drop       1.00      1.00      1.00      7493\n",
      "  reset-both       0.99      0.98      0.98      7530\n",
      "\n",
      "    accuracy                           0.99     30112\n",
      "   macro avg       0.99      0.99      0.99     30112\n",
      "weighted avg       0.99      0.99      0.99     30112\n",
      "\n",
      "Classifier Score when, k= 4\n"
     ]
    },
    {
     "name": "stderr",
     "output_type": "stream",
     "text": [
      "C:\\Users\\engrs\\anaconda3\\lib\\site-packages\\sklearn\\neighbors\\_classification.py:228: FutureWarning: Unlike other reduction functions (e.g. `skew`, `kurtosis`), the default behavior of `mode` typically preserves the axis it acts along. In SciPy 1.11.0, this behavior will change: the default value of `keepdims` will become False, the `axis` over which the statistic is taken will be eliminated, and the value None will no longer be accepted. Set `keepdims` to True or False to avoid this warning.\n",
      "  mode, _ = stats.mode(_y[neigh_ind, k], axis=1)\n"
     ]
    },
    {
     "name": "stdout",
     "output_type": "stream",
     "text": [
      "0.9947861317747078\n",
      "Classifier Score with Predictions, when k= 4\n"
     ]
    },
    {
     "name": "stderr",
     "output_type": "stream",
     "text": [
      "C:\\Users\\engrs\\anaconda3\\lib\\site-packages\\sklearn\\neighbors\\_classification.py:228: FutureWarning: Unlike other reduction functions (e.g. `skew`, `kurtosis`), the default behavior of `mode` typically preserves the axis it acts along. In SciPy 1.11.0, this behavior will change: the default value of `keepdims` will become False, the `axis` over which the statistic is taken will be eliminated, and the value None will no longer be accepted. Set `keepdims` to True or False to avoid this warning.\n",
      "  mode, _ = stats.mode(_y[neigh_ind, k], axis=1)\n"
     ]
    },
    {
     "name": "stdout",
     "output_type": "stream",
     "text": [
      "1.0\n"
     ]
    },
    {
     "name": "stderr",
     "output_type": "stream",
     "text": [
      "C:\\Users\\engrs\\anaconda3\\lib\\site-packages\\sklearn\\neighbors\\_classification.py:228: FutureWarning: Unlike other reduction functions (e.g. `skew`, `kurtosis`), the default behavior of `mode` typically preserves the axis it acts along. In SciPy 1.11.0, this behavior will change: the default value of `keepdims` will become False, the `axis` over which the statistic is taken will be eliminated, and the value None will no longer be accepted. Set `keepdims` to True or False to avoid this warning.\n",
      "  mode, _ = stats.mode(_y[neigh_ind, k], axis=1)\n"
     ]
    },
    {
     "name": "stdout",
     "output_type": "stream",
     "text": [
      "Prediction Shape when, k= 5\n",
      "(30112,)\n",
      "Classification Report when, k= 5\n",
      "              precision    recall  f1-score   support\n",
      "\n",
      "       allow       1.00      1.00      1.00      7574\n",
      "        deny       0.98      0.98      0.98      7515\n",
      "        drop       1.00      1.00      1.00      7493\n",
      "  reset-both       0.98      0.98      0.98      7530\n",
      "\n",
      "    accuracy                           0.99     30112\n",
      "   macro avg       0.99      0.99      0.99     30112\n",
      "weighted avg       0.99      0.99      0.99     30112\n",
      "\n",
      "Classifier Score when, k= 5\n"
     ]
    },
    {
     "name": "stderr",
     "output_type": "stream",
     "text": [
      "C:\\Users\\engrs\\anaconda3\\lib\\site-packages\\sklearn\\neighbors\\_classification.py:228: FutureWarning: Unlike other reduction functions (e.g. `skew`, `kurtosis`), the default behavior of `mode` typically preserves the axis it acts along. In SciPy 1.11.0, this behavior will change: the default value of `keepdims` will become False, the `axis` over which the statistic is taken will be eliminated, and the value None will no longer be accepted. Set `keepdims` to True or False to avoid this warning.\n",
      "  mode, _ = stats.mode(_y[neigh_ind, k], axis=1)\n"
     ]
    },
    {
     "name": "stdout",
     "output_type": "stream",
     "text": [
      "0.9934743623804463\n",
      "Classifier Score with Predictions, when k= 5\n"
     ]
    },
    {
     "name": "stderr",
     "output_type": "stream",
     "text": [
      "C:\\Users\\engrs\\anaconda3\\lib\\site-packages\\sklearn\\neighbors\\_classification.py:228: FutureWarning: Unlike other reduction functions (e.g. `skew`, `kurtosis`), the default behavior of `mode` typically preserves the axis it acts along. In SciPy 1.11.0, this behavior will change: the default value of `keepdims` will become False, the `axis` over which the statistic is taken will be eliminated, and the value None will no longer be accepted. Set `keepdims` to True or False to avoid this warning.\n",
      "  mode, _ = stats.mode(_y[neigh_ind, k], axis=1)\n"
     ]
    },
    {
     "name": "stdout",
     "output_type": "stream",
     "text": [
      "1.0\n"
     ]
    },
    {
     "name": "stderr",
     "output_type": "stream",
     "text": [
      "C:\\Users\\engrs\\anaconda3\\lib\\site-packages\\sklearn\\neighbors\\_classification.py:228: FutureWarning: Unlike other reduction functions (e.g. `skew`, `kurtosis`), the default behavior of `mode` typically preserves the axis it acts along. In SciPy 1.11.0, this behavior will change: the default value of `keepdims` will become False, the `axis` over which the statistic is taken will be eliminated, and the value None will no longer be accepted. Set `keepdims` to True or False to avoid this warning.\n",
      "  mode, _ = stats.mode(_y[neigh_ind, k], axis=1)\n"
     ]
    },
    {
     "name": "stdout",
     "output_type": "stream",
     "text": [
      "Prediction Shape when, k= 6\n",
      "(30112,)\n",
      "Classification Report when, k= 6\n",
      "              precision    recall  f1-score   support\n",
      "\n",
      "       allow       1.00      1.00      1.00      7574\n",
      "        deny       0.98      0.98      0.98      7515\n",
      "        drop       1.00      1.00      1.00      7493\n",
      "  reset-both       0.98      0.98      0.98      7530\n",
      "\n",
      "    accuracy                           0.99     30112\n",
      "   macro avg       0.99      0.99      0.99     30112\n",
      "weighted avg       0.99      0.99      0.99     30112\n",
      "\n",
      "Classifier Score when, k= 6\n"
     ]
    },
    {
     "name": "stderr",
     "output_type": "stream",
     "text": [
      "C:\\Users\\engrs\\anaconda3\\lib\\site-packages\\sklearn\\neighbors\\_classification.py:228: FutureWarning: Unlike other reduction functions (e.g. `skew`, `kurtosis`), the default behavior of `mode` typically preserves the axis it acts along. In SciPy 1.11.0, this behavior will change: the default value of `keepdims` will become False, the `axis` over which the statistic is taken will be eliminated, and the value None will no longer be accepted. Set `keepdims` to True or False to avoid this warning.\n",
      "  mode, _ = stats.mode(_y[neigh_ind, k], axis=1)\n"
     ]
    },
    {
     "name": "stdout",
     "output_type": "stream",
     "text": [
      "0.9922124070138151\n",
      "Classifier Score with Predictions, when k= 6\n"
     ]
    },
    {
     "name": "stderr",
     "output_type": "stream",
     "text": [
      "C:\\Users\\engrs\\anaconda3\\lib\\site-packages\\sklearn\\neighbors\\_classification.py:228: FutureWarning: Unlike other reduction functions (e.g. `skew`, `kurtosis`), the default behavior of `mode` typically preserves the axis it acts along. In SciPy 1.11.0, this behavior will change: the default value of `keepdims` will become False, the `axis` over which the statistic is taken will be eliminated, and the value None will no longer be accepted. Set `keepdims` to True or False to avoid this warning.\n",
      "  mode, _ = stats.mode(_y[neigh_ind, k], axis=1)\n"
     ]
    },
    {
     "name": "stdout",
     "output_type": "stream",
     "text": [
      "1.0\n"
     ]
    },
    {
     "name": "stderr",
     "output_type": "stream",
     "text": [
      "C:\\Users\\engrs\\anaconda3\\lib\\site-packages\\sklearn\\neighbors\\_classification.py:228: FutureWarning: Unlike other reduction functions (e.g. `skew`, `kurtosis`), the default behavior of `mode` typically preserves the axis it acts along. In SciPy 1.11.0, this behavior will change: the default value of `keepdims` will become False, the `axis` over which the statistic is taken will be eliminated, and the value None will no longer be accepted. Set `keepdims` to True or False to avoid this warning.\n",
      "  mode, _ = stats.mode(_y[neigh_ind, k], axis=1)\n"
     ]
    },
    {
     "name": "stdout",
     "output_type": "stream",
     "text": [
      "Prediction Shape when, k= 7\n",
      "(30112,)\n",
      "Classification Report when, k= 7\n",
      "              precision    recall  f1-score   support\n",
      "\n",
      "       allow       1.00      1.00      1.00      7574\n",
      "        deny       0.98      0.98      0.98      7515\n",
      "        drop       1.00      1.00      1.00      7493\n",
      "  reset-both       0.98      0.98      0.98      7530\n",
      "\n",
      "    accuracy                           0.99     30112\n",
      "   macro avg       0.99      0.99      0.99     30112\n",
      "weighted avg       0.99      0.99      0.99     30112\n",
      "\n",
      "Classifier Score when, k= 7\n"
     ]
    },
    {
     "name": "stderr",
     "output_type": "stream",
     "text": [
      "C:\\Users\\engrs\\anaconda3\\lib\\site-packages\\sklearn\\neighbors\\_classification.py:228: FutureWarning: Unlike other reduction functions (e.g. `skew`, `kurtosis`), the default behavior of `mode` typically preserves the axis it acts along. In SciPy 1.11.0, this behavior will change: the default value of `keepdims` will become False, the `axis` over which the statistic is taken will be eliminated, and the value None will no longer be accepted. Set `keepdims` to True or False to avoid this warning.\n",
      "  mode, _ = stats.mode(_y[neigh_ind, k], axis=1)\n"
     ]
    },
    {
     "name": "stdout",
     "output_type": "stream",
     "text": [
      "0.9912078241232731\n",
      "Classifier Score with Predictions, when k= 7\n"
     ]
    },
    {
     "name": "stderr",
     "output_type": "stream",
     "text": [
      "C:\\Users\\engrs\\anaconda3\\lib\\site-packages\\sklearn\\neighbors\\_classification.py:228: FutureWarning: Unlike other reduction functions (e.g. `skew`, `kurtosis`), the default behavior of `mode` typically preserves the axis it acts along. In SciPy 1.11.0, this behavior will change: the default value of `keepdims` will become False, the `axis` over which the statistic is taken will be eliminated, and the value None will no longer be accepted. Set `keepdims` to True or False to avoid this warning.\n",
      "  mode, _ = stats.mode(_y[neigh_ind, k], axis=1)\n"
     ]
    },
    {
     "name": "stdout",
     "output_type": "stream",
     "text": [
      "1.0\n"
     ]
    },
    {
     "name": "stderr",
     "output_type": "stream",
     "text": [
      "C:\\Users\\engrs\\anaconda3\\lib\\site-packages\\sklearn\\neighbors\\_classification.py:228: FutureWarning: Unlike other reduction functions (e.g. `skew`, `kurtosis`), the default behavior of `mode` typically preserves the axis it acts along. In SciPy 1.11.0, this behavior will change: the default value of `keepdims` will become False, the `axis` over which the statistic is taken will be eliminated, and the value None will no longer be accepted. Set `keepdims` to True or False to avoid this warning.\n",
      "  mode, _ = stats.mode(_y[neigh_ind, k], axis=1)\n"
     ]
    },
    {
     "name": "stdout",
     "output_type": "stream",
     "text": [
      "Prediction Shape when, k= 8\n",
      "(30112,)\n",
      "Classification Report when, k= 8\n",
      "              precision    recall  f1-score   support\n",
      "\n",
      "       allow       1.00      1.00      1.00      7574\n",
      "        deny       0.97      0.98      0.98      7515\n",
      "        drop       1.00      1.00      1.00      7493\n",
      "  reset-both       0.98      0.97      0.98      7530\n",
      "\n",
      "    accuracy                           0.99     30112\n",
      "   macro avg       0.99      0.99      0.99     30112\n",
      "weighted avg       0.99      0.99      0.99     30112\n",
      "\n",
      "Classifier Score when, k= 8\n"
     ]
    },
    {
     "name": "stderr",
     "output_type": "stream",
     "text": [
      "C:\\Users\\engrs\\anaconda3\\lib\\site-packages\\sklearn\\neighbors\\_classification.py:228: FutureWarning: Unlike other reduction functions (e.g. `skew`, `kurtosis`), the default behavior of `mode` typically preserves the axis it acts along. In SciPy 1.11.0, this behavior will change: the default value of `keepdims` will become False, the `axis` over which the statistic is taken will be eliminated, and the value None will no longer be accepted. Set `keepdims` to True or False to avoid this warning.\n",
      "  mode, _ = stats.mode(_y[neigh_ind, k], axis=1)\n"
     ]
    },
    {
     "name": "stdout",
     "output_type": "stream",
     "text": [
      "0.9899292640807651\n",
      "Classifier Score with Predictions, when k= 8\n"
     ]
    },
    {
     "name": "stderr",
     "output_type": "stream",
     "text": [
      "C:\\Users\\engrs\\anaconda3\\lib\\site-packages\\sklearn\\neighbors\\_classification.py:228: FutureWarning: Unlike other reduction functions (e.g. `skew`, `kurtosis`), the default behavior of `mode` typically preserves the axis it acts along. In SciPy 1.11.0, this behavior will change: the default value of `keepdims` will become False, the `axis` over which the statistic is taken will be eliminated, and the value None will no longer be accepted. Set `keepdims` to True or False to avoid this warning.\n",
      "  mode, _ = stats.mode(_y[neigh_ind, k], axis=1)\n"
     ]
    },
    {
     "name": "stdout",
     "output_type": "stream",
     "text": [
      "1.0\n"
     ]
    },
    {
     "name": "stderr",
     "output_type": "stream",
     "text": [
      "C:\\Users\\engrs\\anaconda3\\lib\\site-packages\\sklearn\\neighbors\\_classification.py:228: FutureWarning: Unlike other reduction functions (e.g. `skew`, `kurtosis`), the default behavior of `mode` typically preserves the axis it acts along. In SciPy 1.11.0, this behavior will change: the default value of `keepdims` will become False, the `axis` over which the statistic is taken will be eliminated, and the value None will no longer be accepted. Set `keepdims` to True or False to avoid this warning.\n",
      "  mode, _ = stats.mode(_y[neigh_ind, k], axis=1)\n"
     ]
    },
    {
     "name": "stdout",
     "output_type": "stream",
     "text": [
      "Prediction Shape when, k= 9\n",
      "(30112,)\n",
      "Classification Report when, k= 9\n",
      "              precision    recall  f1-score   support\n",
      "\n",
      "       allow       1.00      1.00      1.00      7574\n",
      "        deny       0.98      0.97      0.97      7515\n",
      "        drop       1.00      1.00      1.00      7493\n",
      "  reset-both       0.97      0.98      0.98      7530\n",
      "\n",
      "    accuracy                           0.99     30112\n",
      "   macro avg       0.99      0.99      0.99     30112\n",
      "weighted avg       0.99      0.99      0.99     30112\n",
      "\n",
      "Classifier Score when, k= 9\n"
     ]
    },
    {
     "name": "stderr",
     "output_type": "stream",
     "text": [
      "C:\\Users\\engrs\\anaconda3\\lib\\site-packages\\sklearn\\neighbors\\_classification.py:228: FutureWarning: Unlike other reduction functions (e.g. `skew`, `kurtosis`), the default behavior of `mode` typically preserves the axis it acts along. In SciPy 1.11.0, this behavior will change: the default value of `keepdims` will become False, the `axis` over which the statistic is taken will be eliminated, and the value None will no longer be accepted. Set `keepdims` to True or False to avoid this warning.\n",
      "  mode, _ = stats.mode(_y[neigh_ind, k], axis=1)\n"
     ]
    },
    {
     "name": "stdout",
     "output_type": "stream",
     "text": [
      "0.9887669367693943\n",
      "Classifier Score with Predictions, when k= 9\n"
     ]
    },
    {
     "name": "stderr",
     "output_type": "stream",
     "text": [
      "C:\\Users\\engrs\\anaconda3\\lib\\site-packages\\sklearn\\neighbors\\_classification.py:228: FutureWarning: Unlike other reduction functions (e.g. `skew`, `kurtosis`), the default behavior of `mode` typically preserves the axis it acts along. In SciPy 1.11.0, this behavior will change: the default value of `keepdims` will become False, the `axis` over which the statistic is taken will be eliminated, and the value None will no longer be accepted. Set `keepdims` to True or False to avoid this warning.\n",
      "  mode, _ = stats.mode(_y[neigh_ind, k], axis=1)\n"
     ]
    },
    {
     "name": "stdout",
     "output_type": "stream",
     "text": [
      "1.0\n"
     ]
    },
    {
     "name": "stderr",
     "output_type": "stream",
     "text": [
      "C:\\Users\\engrs\\anaconda3\\lib\\site-packages\\sklearn\\neighbors\\_classification.py:228: FutureWarning: Unlike other reduction functions (e.g. `skew`, `kurtosis`), the default behavior of `mode` typically preserves the axis it acts along. In SciPy 1.11.0, this behavior will change: the default value of `keepdims` will become False, the `axis` over which the statistic is taken will be eliminated, and the value None will no longer be accepted. Set `keepdims` to True or False to avoid this warning.\n",
      "  mode, _ = stats.mode(_y[neigh_ind, k], axis=1)\n"
     ]
    },
    {
     "name": "stdout",
     "output_type": "stream",
     "text": [
      "Prediction Shape when, k= 10\n",
      "(30112,)\n",
      "Classification Report when, k= 10\n",
      "              precision    recall  f1-score   support\n",
      "\n",
      "       allow       1.00      1.00      1.00      7574\n",
      "        deny       0.97      0.97      0.97      7515\n",
      "        drop       1.00      1.00      1.00      7493\n",
      "  reset-both       0.98      0.97      0.97      7530\n",
      "\n",
      "    accuracy                           0.99     30112\n",
      "   macro avg       0.99      0.99      0.99     30112\n",
      "weighted avg       0.99      0.99      0.99     30112\n",
      "\n",
      "Classifier Score when, k= 10\n"
     ]
    },
    {
     "name": "stderr",
     "output_type": "stream",
     "text": [
      "C:\\Users\\engrs\\anaconda3\\lib\\site-packages\\sklearn\\neighbors\\_classification.py:228: FutureWarning: Unlike other reduction functions (e.g. `skew`, `kurtosis`), the default behavior of `mode` typically preserves the axis it acts along. In SciPy 1.11.0, this behavior will change: the default value of `keepdims` will become False, the `axis` over which the statistic is taken will be eliminated, and the value None will no longer be accepted. Set `keepdims` to True or False to avoid this warning.\n",
      "  mode, _ = stats.mode(_y[neigh_ind, k], axis=1)\n"
     ]
    },
    {
     "name": "stdout",
     "output_type": "stream",
     "text": [
      "0.9873970510095643\n",
      "Classifier Score with Predictions, when k= 10\n"
     ]
    },
    {
     "name": "stderr",
     "output_type": "stream",
     "text": [
      "C:\\Users\\engrs\\anaconda3\\lib\\site-packages\\sklearn\\neighbors\\_classification.py:228: FutureWarning: Unlike other reduction functions (e.g. `skew`, `kurtosis`), the default behavior of `mode` typically preserves the axis it acts along. In SciPy 1.11.0, this behavior will change: the default value of `keepdims` will become False, the `axis` over which the statistic is taken will be eliminated, and the value None will no longer be accepted. Set `keepdims` to True or False to avoid this warning.\n",
      "  mode, _ = stats.mode(_y[neigh_ind, k], axis=1)\n"
     ]
    },
    {
     "name": "stdout",
     "output_type": "stream",
     "text": [
      "1.0\n"
     ]
    }
   ],
   "source": [
    "from sklearn.neighbors import KNeighborsClassifier\n",
    "from sklearn.metrics import classification_report\n",
    "i=1\n",
    "while i<=10:\n",
    "  classifier4=KNeighborsClassifier(n_neighbors=i)\n",
    "  classifier4.fit(x2_train_sc, y2_train)\n",
    "  prediction4=classifier4.predict(x2_test_sc)\n",
    "  print(\"Prediction Shape when, k=\",i)\n",
    "  print(prediction4.shape)\n",
    "  print(\"Classification Report when, k=\",i)\n",
    "  print(classification_report(y2_test, prediction4))\n",
    "  print(\"Classifier Score when, k=\",i)\n",
    "  print(classifier4.score(x2_train_sc,y2_train))\n",
    "  print(\"Classifier Score with Predictions, when k=\",i)\n",
    "  print(classifier4.score(x2_test_sc, prediction4))\n",
    "  i=i+1"
   ]
  },
  {
   "cell_type": "markdown",
   "metadata": {
    "id": "PRaSW3Rss3qp"
   },
   "source": [
    "## **Logistic Regression Model**"
   ]
  },
  {
   "cell_type": "markdown",
   "metadata": {
    "id": "R5fJ-K3p1srK"
   },
   "source": [
    "The model is implemented with original data, original data modified by smote, scaled data and scaled data modified by smote. Hypetuning was done by adding penality and solver. I have used Penality as l2 and solver as newton-cg. There are other penalities like l1, none, elasticity, and solver like saga, sag, liblinear etc. But we used only l2 and newton-cg to see if result gets better or not."
   ]
  },
  {
   "cell_type": "markdown",
   "metadata": {
    "id": "HpkaZiOvs-XT"
   },
   "source": [
    "### **Logistic Regression Model on Original Data Without Penality**"
   ]
  },
  {
   "cell_type": "code",
   "execution_count": 34,
   "metadata": {
    "colab": {
     "base_uri": "https://localhost:8080/"
    },
    "id": "T6HLR8CntSTB",
    "outputId": "fead95ef-6167-48a8-cdbf-0b2de69832de"
   },
   "outputs": [
    {
     "name": "stdout",
     "output_type": "stream",
     "text": [
      "(52425, 11) (52425,)\n"
     ]
    },
    {
     "name": "stderr",
     "output_type": "stream",
     "text": [
      "C:\\Users\\engrs\\anaconda3\\lib\\site-packages\\sklearn\\linear_model\\_logistic.py:814: ConvergenceWarning: lbfgs failed to converge (status=1):\n",
      "STOP: TOTAL NO. of ITERATIONS REACHED LIMIT.\n",
      "\n",
      "Increase the number of iterations (max_iter) or scale the data as shown in:\n",
      "    https://scikit-learn.org/stable/modules/preprocessing.html\n",
      "Please also refer to the documentation for alternative solver options:\n",
      "    https://scikit-learn.org/stable/modules/linear_model.html#logistic-regression\n",
      "  n_iter_i = _check_optimize_result(\n",
      "C:\\Users\\engrs\\anaconda3\\lib\\site-packages\\sklearn\\metrics\\_classification.py:1318: UndefinedMetricWarning: Precision and F-score are ill-defined and being set to 0.0 in labels with no predicted samples. Use `zero_division` parameter to control this behavior.\n",
      "  _warn_prf(average, modifier, msg_start, len(result))\n",
      "C:\\Users\\engrs\\anaconda3\\lib\\site-packages\\sklearn\\metrics\\_classification.py:1318: UndefinedMetricWarning: Precision and F-score are ill-defined and being set to 0.0 in labels with no predicted samples. Use `zero_division` parameter to control this behavior.\n",
      "  _warn_prf(average, modifier, msg_start, len(result))\n"
     ]
    },
    {
     "name": "stdout",
     "output_type": "stream",
     "text": [
      "(13107,)\n",
      "Classification Report when Penality is not applied\n",
      "              precision    recall  f1-score   support\n",
      "\n",
      "       allow       0.99      0.99      0.99      7495\n",
      "        deny       0.99      0.94      0.97      2992\n",
      "        drop       0.93      1.00      0.96      2607\n",
      "  reset-both       0.00      0.00      0.00        13\n",
      "\n",
      "    accuracy                           0.98     13107\n",
      "   macro avg       0.73      0.73      0.73     13107\n",
      "weighted avg       0.98      0.98      0.98     13107\n",
      "\n",
      "Classifier Score when when Penality is not Applied\n",
      "0.9792274678111588\n",
      "Classifier Score with Predictions when Penlity is not applied\n",
      "1.0\n"
     ]
    },
    {
     "name": "stderr",
     "output_type": "stream",
     "text": [
      "C:\\Users\\engrs\\anaconda3\\lib\\site-packages\\sklearn\\metrics\\_classification.py:1318: UndefinedMetricWarning: Precision and F-score are ill-defined and being set to 0.0 in labels with no predicted samples. Use `zero_division` parameter to control this behavior.\n",
      "  _warn_prf(average, modifier, msg_start, len(result))\n"
     ]
    }
   ],
   "source": [
    "from sklearn.linear_model import LogisticRegression\n",
    "model5=LogisticRegression()\n",
    "print(x_train.shape, y_train.shape)\n",
    "model5.fit(x_train, y_train)\n",
    "prediction5=model5.predict(x_test)\n",
    "print(prediction5.shape)\n",
    "print(\"Classification Report when Penality is not applied\")\n",
    "print(classification_report(y_test,prediction5))\n",
    "print(\"Classifier Score when when Penality is not Applied\")\n",
    "print(model5.score(x_train,y_train))\n",
    "print(\"Classifier Score with Predictions when Penlity is not applied\")\n",
    "print(model5.score(x_test, prediction5))"
   ]
  },
  {
   "cell_type": "markdown",
   "metadata": {
    "id": "RYtE4Wl3vDa4"
   },
   "source": [
    "### **Logistic Regression Model on Original Data With Penality**"
   ]
  },
  {
   "cell_type": "code",
   "execution_count": 35,
   "metadata": {
    "colab": {
     "base_uri": "https://localhost:8080/"
    },
    "id": "dGFfHRO1uzTB",
    "outputId": "21b6b6b0-a02b-45d8-d242-8e6c3d7b27e9"
   },
   "outputs": [
    {
     "name": "stderr",
     "output_type": "stream",
     "text": [
      "C:\\Users\\engrs\\anaconda3\\lib\\site-packages\\sklearn\\utils\\optimize.py:210: ConvergenceWarning: newton-cg failed to converge. Increase the number of iterations.\n",
      "  warnings.warn(\n",
      "C:\\Users\\engrs\\anaconda3\\lib\\site-packages\\sklearn\\metrics\\_classification.py:1318: UndefinedMetricWarning: Precision and F-score are ill-defined and being set to 0.0 in labels with no predicted samples. Use `zero_division` parameter to control this behavior.\n",
      "  _warn_prf(average, modifier, msg_start, len(result))\n"
     ]
    },
    {
     "name": "stdout",
     "output_type": "stream",
     "text": [
      "(13107,)\n",
      "Classification Report when Penality is applied\n",
      "              precision    recall  f1-score   support\n",
      "\n",
      "       allow       1.00      1.00      1.00      7495\n",
      "        deny       0.99      0.96      0.98      2992\n",
      "        drop       0.96      1.00      0.98      2607\n",
      "  reset-both       0.00      0.00      0.00        13\n",
      "\n",
      "    accuracy                           0.99     13107\n",
      "   macro avg       0.74      0.74      0.74     13107\n",
      "weighted avg       0.99      0.99      0.99     13107\n",
      "\n",
      "Classifier Score when when Penality is Applied\n",
      "0.9900047687172151\n",
      "Classifier Score with Predictions when Penlity is applied\n",
      "1.0\n"
     ]
    },
    {
     "name": "stderr",
     "output_type": "stream",
     "text": [
      "C:\\Users\\engrs\\anaconda3\\lib\\site-packages\\sklearn\\metrics\\_classification.py:1318: UndefinedMetricWarning: Precision and F-score are ill-defined and being set to 0.0 in labels with no predicted samples. Use `zero_division` parameter to control this behavior.\n",
      "  _warn_prf(average, modifier, msg_start, len(result))\n",
      "C:\\Users\\engrs\\anaconda3\\lib\\site-packages\\sklearn\\metrics\\_classification.py:1318: UndefinedMetricWarning: Precision and F-score are ill-defined and being set to 0.0 in labels with no predicted samples. Use `zero_division` parameter to control this behavior.\n",
      "  _warn_prf(average, modifier, msg_start, len(result))\n"
     ]
    }
   ],
   "source": [
    "from sklearn.linear_model import LogisticRegression\n",
    "model6_pen=LogisticRegression(penalty='l2', solver='newton-cg', multi_class='multinomial')\n",
    "model6_pen.fit(x_train, y_train)\n",
    "prediction6=model6_pen.predict(x_test)\n",
    "print(prediction6.shape)\n",
    "print(\"Classification Report when Penality is applied\")\n",
    "print(classification_report(y_test,prediction6))\n",
    "print(\"Classifier Score when when Penality is Applied\")\n",
    "print(model6_pen.score(x_train,y_train))\n",
    "print(\"Classifier Score with Predictions when Penlity is applied\")\n",
    "print(model6_pen.score(x_test, prediction6))"
   ]
  },
  {
   "cell_type": "markdown",
   "metadata": {
    "id": "IuRBPyej3qqI"
   },
   "source": [
    "### **Logistic Regression Model on Smote Data Without Penality**"
   ]
  },
  {
   "cell_type": "code",
   "execution_count": 36,
   "metadata": {
    "colab": {
     "base_uri": "https://localhost:8080/"
    },
    "id": "1tEq3VjY3rEk",
    "outputId": "be1b89c6-b846-4d89-c5b4-78182b6aba2e"
   },
   "outputs": [
    {
     "name": "stdout",
     "output_type": "stream",
     "text": [
      "(120448, 11) (120448,)\n"
     ]
    },
    {
     "name": "stderr",
     "output_type": "stream",
     "text": [
      "C:\\Users\\engrs\\anaconda3\\lib\\site-packages\\sklearn\\linear_model\\_logistic.py:814: ConvergenceWarning: lbfgs failed to converge (status=1):\n",
      "STOP: TOTAL NO. of ITERATIONS REACHED LIMIT.\n",
      "\n",
      "Increase the number of iterations (max_iter) or scale the data as shown in:\n",
      "    https://scikit-learn.org/stable/modules/preprocessing.html\n",
      "Please also refer to the documentation for alternative solver options:\n",
      "    https://scikit-learn.org/stable/modules/linear_model.html#logistic-regression\n",
      "  n_iter_i = _check_optimize_result(\n"
     ]
    },
    {
     "name": "stdout",
     "output_type": "stream",
     "text": [
      "(30112,)\n",
      "Classification Report when Penality is not applied\n",
      "              precision    recall  f1-score   support\n",
      "\n",
      "       allow       0.82      0.99      0.89      7574\n",
      "        deny       0.66      0.75      0.70      7515\n",
      "        drop       0.95      1.00      0.97      7493\n",
      "  reset-both       0.66      0.40      0.50      7530\n",
      "\n",
      "    accuracy                           0.78     30112\n",
      "   macro avg       0.77      0.78      0.77     30112\n",
      "weighted avg       0.77      0.78      0.77     30112\n",
      "\n",
      "Classifier Score when when Penality is not Applied\n",
      "0.7847950982996812\n",
      "Classifier Score with Predictions when Penlity is not applied\n",
      "1.0\n"
     ]
    }
   ],
   "source": [
    "from sklearn.linear_model import LogisticRegression\n",
    "model7=LogisticRegression()\n",
    "print(x2_train.shape, y2_train.shape)\n",
    "model7.fit(x2_train, y2_train)\n",
    "prediction7=model7.predict(x2_test)\n",
    "print(prediction7.shape)\n",
    "print(\"Classification Report when Penality is not applied\")\n",
    "print(classification_report(y2_test,prediction7))\n",
    "print(\"Classifier Score when when Penality is not Applied\")\n",
    "print(model7.score(x2_train,y2_train))\n",
    "print(\"Classifier Score with Predictions when Penlity is not applied\")\n",
    "print(model7.score(x2_test, prediction7))"
   ]
  },
  {
   "cell_type": "markdown",
   "metadata": {
    "id": "KmG2Z3nr32_H"
   },
   "source": [
    "### **Logistic Regression Model on SMOTE Data With Penality**"
   ]
  },
  {
   "cell_type": "code",
   "execution_count": 37,
   "metadata": {
    "colab": {
     "base_uri": "https://localhost:8080/"
    },
    "id": "wVmEX_7f4E0T",
    "outputId": "6db3586b-5c5a-415f-8768-ca08b17fb02a"
   },
   "outputs": [
    {
     "name": "stderr",
     "output_type": "stream",
     "text": [
      "C:\\Users\\engrs\\anaconda3\\lib\\site-packages\\sklearn\\utils\\optimize.py:210: ConvergenceWarning: newton-cg failed to converge. Increase the number of iterations.\n",
      "  warnings.warn(\n"
     ]
    },
    {
     "name": "stdout",
     "output_type": "stream",
     "text": [
      "(30112,)\n",
      "Classification Report when Penality is applied\n"
     ]
    },
    {
     "name": "stderr",
     "output_type": "stream",
     "text": [
      "C:\\Users\\engrs\\anaconda3\\lib\\site-packages\\sklearn\\metrics\\_classification.py:1318: UndefinedMetricWarning: Precision and F-score are ill-defined and being set to 0.0 in labels with no predicted samples. Use `zero_division` parameter to control this behavior.\n",
      "  _warn_prf(average, modifier, msg_start, len(result))\n",
      "C:\\Users\\engrs\\anaconda3\\lib\\site-packages\\sklearn\\metrics\\_classification.py:1318: UndefinedMetricWarning: Precision and F-score are ill-defined and being set to 0.0 in labels with no predicted samples. Use `zero_division` parameter to control this behavior.\n",
      "  _warn_prf(average, modifier, msg_start, len(result))\n",
      "C:\\Users\\engrs\\anaconda3\\lib\\site-packages\\sklearn\\metrics\\_classification.py:1318: UndefinedMetricWarning: Precision and F-score are ill-defined and being set to 0.0 in labels with no predicted samples. Use `zero_division` parameter to control this behavior.\n",
      "  _warn_prf(average, modifier, msg_start, len(result))\n"
     ]
    },
    {
     "name": "stdout",
     "output_type": "stream",
     "text": [
      "              precision    recall  f1-score   support\n",
      "\n",
      "       allow       0.82      1.00      0.90      7574\n",
      "        deny       0.55      0.96      0.70      7515\n",
      "        drop       0.97      1.00      0.98      7493\n",
      "  reset-both       0.00      0.00      0.00      7530\n",
      "\n",
      "    accuracy                           0.74     30112\n",
      "   macro avg       0.58      0.74      0.65     30112\n",
      "weighted avg       0.58      0.74      0.65     30112\n",
      "\n",
      "Classifier Score when when Penality is Applied\n",
      "0.862803865568544\n",
      "Classifier Score with Predictions when Penlity is applied\n",
      "0.7605273645058448\n"
     ]
    }
   ],
   "source": [
    "from sklearn.linear_model import LogisticRegression\n",
    "model8_pen=LogisticRegression(penalty='l2', solver='newton-cg', multi_class='multinomial')\n",
    "model8_pen.fit(x2_train, y2_train)\n",
    "prediction8=model6_pen.predict(x2_test)\n",
    "print(prediction8.shape)\n",
    "print(\"Classification Report when Penality is applied\")\n",
    "print(classification_report(y2_test,prediction8))\n",
    "print(\"Classifier Score when when Penality is Applied\")\n",
    "print(model8_pen.score(x2_train,y2_train))\n",
    "print(\"Classifier Score with Predictions when Penlity is applied\")\n",
    "print(model8_pen.score(x2_test, prediction8))"
   ]
  },
  {
   "cell_type": "markdown",
   "metadata": {
    "id": "B9jiiMYK6GWm"
   },
   "source": [
    "### **Logistic Regression Model on Scaled Original Data Without Penality**"
   ]
  },
  {
   "cell_type": "code",
   "execution_count": 38,
   "metadata": {
    "colab": {
     "base_uri": "https://localhost:8080/"
    },
    "id": "5pr0If6w6Ghg",
    "outputId": "cf28c260-9637-4c90-92ee-4c4d335c4f8e"
   },
   "outputs": [
    {
     "name": "stdout",
     "output_type": "stream",
     "text": [
      "(52425, 11) (52425,)\n"
     ]
    },
    {
     "name": "stderr",
     "output_type": "stream",
     "text": [
      "C:\\Users\\engrs\\anaconda3\\lib\\site-packages\\sklearn\\linear_model\\_logistic.py:814: ConvergenceWarning: lbfgs failed to converge (status=1):\n",
      "STOP: TOTAL NO. of ITERATIONS REACHED LIMIT.\n",
      "\n",
      "Increase the number of iterations (max_iter) or scale the data as shown in:\n",
      "    https://scikit-learn.org/stable/modules/preprocessing.html\n",
      "Please also refer to the documentation for alternative solver options:\n",
      "    https://scikit-learn.org/stable/modules/linear_model.html#logistic-regression\n",
      "  n_iter_i = _check_optimize_result(\n",
      "C:\\Users\\engrs\\anaconda3\\lib\\site-packages\\sklearn\\metrics\\_classification.py:1318: UndefinedMetricWarning: Precision and F-score are ill-defined and being set to 0.0 in labels with no predicted samples. Use `zero_division` parameter to control this behavior.\n",
      "  _warn_prf(average, modifier, msg_start, len(result))\n"
     ]
    },
    {
     "name": "stdout",
     "output_type": "stream",
     "text": [
      "(13107,)\n",
      "Classification Report when Penality is not applied\n",
      "              precision    recall  f1-score   support\n",
      "\n",
      "       allow       1.00      0.99      1.00      7495\n",
      "        deny       0.99      0.96      0.98      2992\n",
      "        drop       0.95      1.00      0.98      2607\n",
      "  reset-both       0.00      0.00      0.00        13\n",
      "\n",
      "    accuracy                           0.99     13107\n",
      "   macro avg       0.74      0.74      0.74     13107\n",
      "weighted avg       0.99      0.99      0.99     13107\n",
      "\n",
      "Classifier Score when when Penality is not Applied\n",
      "0.9862660944206009\n",
      "Classifier Score with Predictions when Penlity is not applied\n",
      "1.0\n"
     ]
    },
    {
     "name": "stderr",
     "output_type": "stream",
     "text": [
      "C:\\Users\\engrs\\anaconda3\\lib\\site-packages\\sklearn\\metrics\\_classification.py:1318: UndefinedMetricWarning: Precision and F-score are ill-defined and being set to 0.0 in labels with no predicted samples. Use `zero_division` parameter to control this behavior.\n",
      "  _warn_prf(average, modifier, msg_start, len(result))\n",
      "C:\\Users\\engrs\\anaconda3\\lib\\site-packages\\sklearn\\metrics\\_classification.py:1318: UndefinedMetricWarning: Precision and F-score are ill-defined and being set to 0.0 in labels with no predicted samples. Use `zero_division` parameter to control this behavior.\n",
      "  _warn_prf(average, modifier, msg_start, len(result))\n"
     ]
    }
   ],
   "source": [
    "from sklearn.linear_model import LogisticRegression\n",
    "model9=LogisticRegression()\n",
    "print(x_train.shape, y_train.shape)\n",
    "model9.fit(x_train_sc, y_train)\n",
    "prediction9=model9.predict(x_test_sc)\n",
    "print(prediction9.shape)\n",
    "print(\"Classification Report when Penality is not applied\")\n",
    "print(classification_report(y_test,prediction9))\n",
    "print(\"Classifier Score when when Penality is not Applied\")\n",
    "print(model9.score(x_train_sc,y_train))\n",
    "print(\"Classifier Score with Predictions when Penlity is not applied\")\n",
    "print(model9.score(x_test_sc, prediction9))"
   ]
  },
  {
   "cell_type": "markdown",
   "metadata": {
    "id": "pOxUxH-Y6G0d"
   },
   "source": [
    "### **Logistic Regression Model on Scaled Original Data With Penality**"
   ]
  },
  {
   "cell_type": "code",
   "execution_count": 39,
   "metadata": {
    "colab": {
     "base_uri": "https://localhost:8080/"
    },
    "id": "Mx4fuSDd6G-s",
    "outputId": "afd078f2-284f-4520-a7d4-465889361cfb"
   },
   "outputs": [
    {
     "name": "stderr",
     "output_type": "stream",
     "text": [
      "C:\\Users\\engrs\\anaconda3\\lib\\site-packages\\sklearn\\base.py:450: UserWarning: X does not have valid feature names, but LogisticRegression was fitted with feature names\n",
      "  warnings.warn(\n"
     ]
    },
    {
     "name": "stdout",
     "output_type": "stream",
     "text": [
      "(30112,)\n",
      "Classification Report when Penality is applied\n"
     ]
    },
    {
     "name": "stderr",
     "output_type": "stream",
     "text": [
      "C:\\Users\\engrs\\anaconda3\\lib\\site-packages\\sklearn\\metrics\\_classification.py:1318: UndefinedMetricWarning: Precision and F-score are ill-defined and being set to 0.0 in labels with no predicted samples. Use `zero_division` parameter to control this behavior.\n",
      "  _warn_prf(average, modifier, msg_start, len(result))\n",
      "C:\\Users\\engrs\\anaconda3\\lib\\site-packages\\sklearn\\metrics\\_classification.py:1318: UndefinedMetricWarning: Precision and F-score are ill-defined and being set to 0.0 in labels with no predicted samples. Use `zero_division` parameter to control this behavior.\n",
      "  _warn_prf(average, modifier, msg_start, len(result))\n",
      "C:\\Users\\engrs\\anaconda3\\lib\\site-packages\\sklearn\\metrics\\_classification.py:1318: UndefinedMetricWarning: Precision and F-score are ill-defined and being set to 0.0 in labels with no predicted samples. Use `zero_division` parameter to control this behavior.\n",
      "  _warn_prf(average, modifier, msg_start, len(result))\n"
     ]
    },
    {
     "name": "stdout",
     "output_type": "stream",
     "text": [
      "              precision    recall  f1-score   support\n",
      "\n",
      "       allow       1.00      0.19      0.32      7574\n",
      "        deny       0.26      1.00      0.42      7515\n",
      "        drop       0.00      0.00      0.00      7493\n",
      "  reset-both       0.00      0.00      0.00      7530\n",
      "\n",
      "    accuracy                           0.30     30112\n",
      "   macro avg       0.32      0.30      0.18     30112\n",
      "weighted avg       0.32      0.30      0.18     30112\n",
      "\n",
      "Classifier Score when when Penality is Applied\n",
      "0.8284653958554729\n",
      "Classifier Score with Predictions when Penlity is applied\n",
      "0.4423817747077577\n"
     ]
    },
    {
     "name": "stderr",
     "output_type": "stream",
     "text": [
      "C:\\Users\\engrs\\anaconda3\\lib\\site-packages\\sklearn\\base.py:443: UserWarning: X has feature names, but LogisticRegression was fitted without feature names\n",
      "  warnings.warn(\n"
     ]
    }
   ],
   "source": [
    "from sklearn.linear_model import LogisticRegression\n",
    "model10_pen=LogisticRegression(penalty='l2', solver='newton-cg', multi_class='multinomial')\n",
    "model10_pen.fit(x2_train_sc, y2_train)\n",
    "prediction10=model6_pen.predict(x2_test_sc)\n",
    "print(prediction10.shape)\n",
    "print(\"Classification Report when Penality is applied\")\n",
    "print(classification_report(y2_test,prediction10))\n",
    "print(\"Classifier Score when when Penality is Applied\")\n",
    "print(model10_pen.score(x2_train_sc,y2_train))\n",
    "print(\"Classifier Score with Predictions when Penlity is applied\")\n",
    "print(model10_pen.score(x2_test, prediction10))"
   ]
  },
  {
   "cell_type": "markdown",
   "metadata": {
    "id": "2eegDbCV6HWD"
   },
   "source": [
    "### **Logistic Regression Model on Scaled SMOTE Data Without Penality**"
   ]
  },
  {
   "cell_type": "code",
   "execution_count": 40,
   "metadata": {
    "colab": {
     "base_uri": "https://localhost:8080/"
    },
    "id": "l8RtYHjM6Heg",
    "outputId": "e0cfaa66-d02f-423a-886d-e5370b4a49af"
   },
   "outputs": [
    {
     "name": "stdout",
     "output_type": "stream",
     "text": [
      "(120448, 11) (120448,)\n"
     ]
    },
    {
     "name": "stderr",
     "output_type": "stream",
     "text": [
      "C:\\Users\\engrs\\anaconda3\\lib\\site-packages\\sklearn\\linear_model\\_logistic.py:814: ConvergenceWarning: lbfgs failed to converge (status=1):\n",
      "STOP: TOTAL NO. of ITERATIONS REACHED LIMIT.\n",
      "\n",
      "Increase the number of iterations (max_iter) or scale the data as shown in:\n",
      "    https://scikit-learn.org/stable/modules/preprocessing.html\n",
      "Please also refer to the documentation for alternative solver options:\n",
      "    https://scikit-learn.org/stable/modules/linear_model.html#logistic-regression\n",
      "  n_iter_i = _check_optimize_result(\n"
     ]
    },
    {
     "name": "stdout",
     "output_type": "stream",
     "text": [
      "(30112,)\n",
      "Classification Report when Penality is not applied\n",
      "              precision    recall  f1-score   support\n",
      "\n",
      "       allow       0.82      0.99      0.89      7574\n",
      "        deny       0.66      0.75      0.70      7515\n",
      "        drop       0.95      1.00      0.97      7493\n",
      "  reset-both       0.66      0.40      0.50      7530\n",
      "\n",
      "    accuracy                           0.78     30112\n",
      "   macro avg       0.77      0.78      0.77     30112\n",
      "weighted avg       0.77      0.78      0.77     30112\n",
      "\n",
      "Classifier Score when when Penality is not Applied\n",
      "0.7847950982996812\n",
      "Classifier Score with Predictions when Penlity is not applied\n",
      "1.0\n"
     ]
    }
   ],
   "source": [
    "from sklearn.linear_model import LogisticRegression\n",
    "model11=LogisticRegression()\n",
    "print(x2_train.shape, y2_train.shape)\n",
    "model11.fit(x2_train, y2_train)\n",
    "prediction11=model7.predict(x2_test)\n",
    "print(prediction11.shape)\n",
    "print(\"Classification Report when Penality is not applied\")\n",
    "print(classification_report(y2_test,prediction11))\n",
    "print(\"Classifier Score when when Penality is not Applied\")\n",
    "print(model11.score(x2_train,y2_train))\n",
    "print(\"Classifier Score with Predictions when Penlity is not applied\")\n",
    "print(model11.score(x2_test, prediction11))"
   ]
  },
  {
   "cell_type": "markdown",
   "metadata": {
    "id": "iuqBsn1n6HtZ"
   },
   "source": [
    "### **Logistic Regression Model on Scaled SMOTE Data With Penality**"
   ]
  },
  {
   "cell_type": "code",
   "execution_count": 41,
   "metadata": {
    "colab": {
     "base_uri": "https://localhost:8080/"
    },
    "id": "5EfCC_Ms6H2z",
    "outputId": "73e9c9a6-ed79-4c7d-c6af-3554310cc19d"
   },
   "outputs": [
    {
     "name": "stdout",
     "output_type": "stream",
     "text": [
      "(120448, 11) (120448,)\n"
     ]
    },
    {
     "name": "stderr",
     "output_type": "stream",
     "text": [
      "C:\\Users\\engrs\\anaconda3\\lib\\site-packages\\sklearn\\linear_model\\_logistic.py:814: ConvergenceWarning: lbfgs failed to converge (status=1):\n",
      "STOP: TOTAL NO. of ITERATIONS REACHED LIMIT.\n",
      "\n",
      "Increase the number of iterations (max_iter) or scale the data as shown in:\n",
      "    https://scikit-learn.org/stable/modules/preprocessing.html\n",
      "Please also refer to the documentation for alternative solver options:\n",
      "    https://scikit-learn.org/stable/modules/linear_model.html#logistic-regression\n",
      "  n_iter_i = _check_optimize_result(\n"
     ]
    },
    {
     "name": "stdout",
     "output_type": "stream",
     "text": [
      "(30112,)\n",
      "Classification Report when Penality is not applied\n",
      "              precision    recall  f1-score   support\n",
      "\n",
      "       allow       1.00      0.98      0.99      7574\n",
      "        deny       0.66      0.68      0.67      7515\n",
      "        drop       0.96      1.00      0.98      7493\n",
      "  reset-both       0.68      0.65      0.66      7530\n",
      "\n",
      "    accuracy                           0.83     30112\n",
      "   macro avg       0.83      0.83      0.83     30112\n",
      "weighted avg       0.83      0.83      0.83     30112\n",
      "\n",
      "Classifier Score when when Penality is not Applied\n",
      "0.827759697130712\n",
      "Classifier Score with Predictions when Penlity is not applied\n",
      "1.0\n"
     ]
    }
   ],
   "source": [
    "from sklearn.linear_model import LogisticRegression\n",
    "model12=LogisticRegression()\n",
    "print(x2_train_sc.shape, y2_train.shape)\n",
    "model12.fit(x2_train_sc, y2_train)\n",
    "prediction12=model12.predict(x2_test_sc)\n",
    "print(prediction12.shape)\n",
    "print(\"Classification Report when Penality is not applied\")\n",
    "print(classification_report(y2_test,prediction12))\n",
    "print(\"Classifier Score when when Penality is not Applied\")\n",
    "print(model12.score(x2_train_sc,y2_train))\n",
    "print(\"Classifier Score with Predictions when Penlity is not applied\")\n",
    "print(model12.score(x2_test_sc, prediction12))"
   ]
  },
  {
   "cell_type": "markdown",
   "metadata": {
    "id": "hftcPXLT5fXG"
   },
   "source": [
    "## **Linear Regression Model**"
   ]
  },
  {
   "cell_type": "markdown",
   "metadata": {
    "id": "dRxLl9Jd5s_m"
   },
   "source": [
    "We can use SGDRegressor for tuning hyperparameters for Linear Models. For Hyperparams tune Linear Regressions, we should use Lasso, Ridge or ElasticNet."
   ]
  },
  {
   "cell_type": "markdown",
   "metadata": {
    "id": "2LxaGtqL0H8u"
   },
   "source": [
    "### **LABELING DATA FOR CATERGORICAL DATA TO NUMERICAL DATA**"
   ]
  },
  {
   "cell_type": "code",
   "execution_count": 42,
   "metadata": {
    "colab": {
     "base_uri": "https://localhost:8080/"
    },
    "id": "BHgorRoWE1RE",
    "outputId": "5fc069dc-546b-4d3c-9e60-c2ee50fb2e18"
   },
   "outputs": [
    {
     "name": "stdout",
     "output_type": "stream",
     "text": [
      "Values of encoded_y2 by using Smote are:\n",
      "Counter({'allow': 37640, 'drop': 37640, 'deny': 37640, 'reset-both': 37640})\n"
     ]
    }
   ],
   "source": [
    "from sklearn import preprocessing\n",
    "from sklearn import utils\n",
    "lab_enc=preprocessing.LabelEncoder()\n",
    "encoded_y_df=lab_enc.fit_transform(y)\n",
    "encoded_y=lab_enc.fit_transform(y_train)\n",
    "encoded_yt=lab_enc.fit_transform(y_test)\n",
    "oversample2 = SMOTE()\n",
    "x5, y5 = oversample.fit_resample(x, encoded_y_df)\n",
    "print(\"Values of encoded_y2 by using Smote are:\")\n",
    "x5_train, x5_test, y5_train, y5_test=train_test_split(x5,y5, test_size=0.2, random_state=21)\n",
    "counter2=Counter(y2)\n",
    "print(counter2)"
   ]
  },
  {
   "cell_type": "markdown",
   "metadata": {
    "id": "AZ1pYKkp5mm0"
   },
   "source": [
    "### **Linear Regression Model on Original Data**"
   ]
  },
  {
   "cell_type": "code",
   "execution_count": 43,
   "metadata": {
    "colab": {
     "base_uri": "https://localhost:8080/"
    },
    "id": "3r2Y1vaC5tU0",
    "outputId": "991b810c-4054-482b-de3c-1bc6db60152d"
   },
   "outputs": [
    {
     "name": "stdout",
     "output_type": "stream",
     "text": [
      "LR1 Intercept is\n",
      "0.8219826398784909\n",
      "(13107,)\n",
      "(13107,)\n",
      "(13107, 11)\n",
      "[  2.98038686         -inf          inf ... -22.28573744 -38.53530119\n",
      "   9.8129947 ]\n",
      "Model Score when on Original Data\n",
      "0.5015327841646251\n",
      "Model Score on Original Data with Prediction\n",
      "1.0\n"
     ]
    },
    {
     "name": "stderr",
     "output_type": "stream",
     "text": [
      "C:\\Users\\engrs\\AppData\\Local\\Temp\\ipykernel_5148\\3054176196.py:16: RuntimeWarning: divide by zero encountered in true_divide\n",
      "  Accuracy1=(((predictionx1-encoded_yt)/encoded_yt)*100)\n"
     ]
    }
   ],
   "source": [
    "from sklearn.linear_model import LinearRegression\n",
    "from sklearn.metrics import classification_report\n",
    "import seaborn as sns\n",
    "from sklearn.metrics import r2_score\n",
    "#sns.pairplot(df)\n",
    "#sns.heatmap(df.corr())\n",
    "#sns.heatmap(df2, annot=True)\n",
    "LR1=LinearRegression()\n",
    "LR1.fit(x_train, encoded_y)\n",
    "print(\"LR1 Intercept is\")\n",
    "print(LR1.intercept_)\n",
    "predictionx1=LR1.predict(x_test)\n",
    "print(predictionx1.shape)\n",
    "print(encoded_yt.shape)\n",
    "print(x_test.shape)\n",
    "Accuracy1=(((predictionx1-encoded_yt)/encoded_yt)*100)\n",
    "print(Accuracy1)\n",
    "np.seterr(divide='ignore', invalid='ignore')\n",
    "print(\"Model Score when on Original Data\")\n",
    "print(LR1.score(x_train,encoded_y))\n",
    "print(\"Model Score on Original Data with Prediction\")\n",
    "print(LR1.score(x_test, predictionx1))"
   ]
  },
  {
   "cell_type": "markdown",
   "metadata": {
    "id": "qK5cy_9__dxR"
   },
   "source": [
    "### **Linear Regression Model on SMOTE Data**"
   ]
  },
  {
   "cell_type": "code",
   "execution_count": 44,
   "metadata": {
    "colab": {
     "base_uri": "https://localhost:8080/"
    },
    "id": "KzjFjQxE_eEc",
    "outputId": "a3d41f4e-b819-493d-acb2-499aa0bf3305"
   },
   "outputs": [
    {
     "name": "stdout",
     "output_type": "stream",
     "text": [
      "LR2 Intercept is\n",
      "2.608221756313263\n",
      "(30112,)\n",
      "(30112,)\n",
      "(30112, 11)\n",
      "R2 Score When Smote is applied\n",
      "<function r2_score at 0x00000254D1E1F4C0>\n",
      "LR2 Score when when X5_train and y5_train\n",
      "0.3454887120477229\n",
      "LR2 Score when when X5_test and Y5_test\n",
      "0.3542452077846219\n",
      "LR2 Score when when X5_test and prediction\n",
      "0.6055989006200403\n"
     ]
    }
   ],
   "source": [
    "from sklearn.linear_model import LinearRegression\n",
    "from sklearn.metrics import classification_report\n",
    "import seaborn as sns\n",
    "from sklearn.metrics import r2_score\n",
    "#sns.pairplot(df)\n",
    "#sns.heatmap(df.corr())\n",
    "#sns.heatmap(df2, annot=True)\n",
    "LR2=LinearRegression()\n",
    "LR2.fit(x5_train, y5_train)\n",
    "print(\"LR2 Intercept is\")\n",
    "print(LR2.intercept_)\n",
    "predictionx2=LR2.predict(x2_test)\n",
    "print(predictionx2.shape)\n",
    "print(y5_test.shape)\n",
    "print(x5_test.shape)\n",
    "Accuracy2=(((predictionx2-y5_test)/y5_test)*100)\n",
    "#print(Accuracy2)\n",
    "np.seterr(divide='ignore', invalid='ignore')\n",
    "r2_score1=r2_score(y5_test, predictionx2)\n",
    "print(\"R2 Score When Smote is applied\")\n",
    "print(r2_score)\n",
    "#print(\"Classification Report \")\n",
    "#print(classification_report(y5_test,predictionx2))\n",
    "print(\"LR2 Score when when X5_train and y5_train\")\n",
    "print(LR2.score(x5_train,y5_train))\n",
    "print(\"LR2 Score when when X5_test and Y5_test\")\n",
    "print(LR2.score(x5_test, y5_test))\n",
    "print(\"LR2 Score when when X5_test and prediction\")\n",
    "print(LR2.score(x5_test, predictionx2))"
   ]
  },
  {
   "cell_type": "markdown",
   "metadata": {
    "id": "vmAqSc25CX6f"
   },
   "source": [
    "## **DECISION TREE CLASSIFICATION MODEL**"
   ]
  },
  {
   "cell_type": "markdown",
   "metadata": {
    "id": "MpE93g74Cfz9"
   },
   "source": [
    "### **Decision Tree Classification Model on Original Data**"
   ]
  },
  {
   "cell_type": "code",
   "execution_count": 45,
   "metadata": {
    "colab": {
     "base_uri": "https://localhost:8080/"
    },
    "id": "BwRm8VxqColC",
    "outputId": "b79f9aa2-b6c3-4f50-9cb8-29a124a6be34"
   },
   "outputs": [
    {
     "name": "stdout",
     "output_type": "stream",
     "text": [
      "Prediction Shape is:\n",
      "(13107,)\n",
      "F1 Score is\n",
      "              precision    recall  f1-score   support\n",
      "\n",
      "       allow       1.00      1.00      1.00      7495\n",
      "        deny       0.99      1.00      0.99      2992\n",
      "        drop       1.00      1.00      1.00      2607\n",
      "  reset-both       0.50      0.23      0.32        13\n",
      "\n",
      "    accuracy                           1.00     13107\n",
      "   macro avg       0.87      0.81      0.83     13107\n",
      "weighted avg       1.00      1.00      1.00     13107\n",
      "\n",
      "Claasifier Score of xtrain and ytrain is\n",
      "0.9997329518359561\n",
      "Claasifier Score of xtest and ytest is\n",
      "0.9976348516060121\n",
      "Claasifier Score of xtest and prediction is\n",
      "1.0\n"
     ]
    },
    {
     "data": {
      "image/png": "[encoded data removed]",
      "text/plain": [
       "<Figure size 8000x2000 with 1 Axes>"
      ]
     },
     "metadata": {},
     "output_type": "display_data"
    }
   ],
   "source": [
    "from sklearn import tree\n",
    "from sklearn.metrics import classification_report\n",
    "classifier_tr1=tree.DecisionTreeClassifier()\n",
    "classifier_tr1.fit(x_train, y_train)\n",
    "prediction_tr1=classifier_tr1.predict(x_test)\n",
    "print(\"Prediction Shape is:\")\n",
    "print(prediction_tr1.shape)\n",
    "print(\"F1 Score is\")\n",
    "print(classification_report(y_test, prediction_tr1))\n",
    "print(\"Claasifier Score of xtrain and ytrain is\")\n",
    "print(classifier_tr1.score(x_train,y_train))\n",
    "print(\"Claasifier Score of xtest and ytest is\")\n",
    "print(classifier_tr1.score(x_test,y_test))\n",
    "print(\"Claasifier Score of xtest and prediction is\")\n",
    "print(classifier_tr1.score(x_test, prediction_tr1))\n",
    "\n",
    "from sklearn.tree import plot_tree, export_text\n",
    "plt.figure(figsize =(80,20))\n",
    "plot_tree(classifier_tr1, feature_names=x_train.columns, max_depth=2, filled=True);\n"
   ]
  },
  {
   "cell_type": "markdown",
   "metadata": {
    "id": "LH2t_vTTJbJr"
   },
   "source": [
    "### **Decision Tree Classification Model on Smote Data**"
   ]
  },
  {
   "cell_type": "code",
   "execution_count": 46,
   "metadata": {
    "colab": {
     "base_uri": "https://localhost:8080/"
    },
    "id": "Vhn4Bz1DJbYD",
    "outputId": "2d17979e-e936-4a9f-afdf-a9866873c64e"
   },
   "outputs": [
    {
     "name": "stdout",
     "output_type": "stream",
     "text": [
      "Prediction Shape is:\n",
      "(30112,)\n",
      "F1 Score is\n",
      "              precision    recall  f1-score   support\n",
      "\n",
      "       allow       1.00      1.00      1.00      7574\n",
      "        deny       0.99      0.99      0.99      7515\n",
      "        drop       1.00      1.00      1.00      7493\n",
      "  reset-both       0.99      1.00      0.99      7530\n",
      "\n",
      "    accuracy                           1.00     30112\n",
      "   macro avg       1.00      1.00      1.00     30112\n",
      "weighted avg       1.00      1.00      1.00     30112\n",
      "\n",
      "Claasifier Score of x2train and y2train is\n",
      "0.9997094181721573\n",
      "Claasifier Score of xtest and ytest is\n",
      "0.9963801806588736\n",
      "Claasifier Score of xtest and prediction is\n",
      "1.0\n"
     ]
    }
   ],
   "source": [
    "from sklearn import tree\n",
    "from sklearn.metrics import classification_report\n",
    "classifier_tr1=tree.DecisionTreeClassifier()\n",
    "classifier_tr1.fit(x2_train, y2_train)\n",
    "prediction_tr1=classifier_tr1.predict(x2_test)\n",
    "print(\"Prediction Shape is:\")\n",
    "print(prediction_tr1.shape)\n",
    "print(\"F1 Score is\")\n",
    "print(classification_report(y2_test, prediction_tr1))\n",
    "print(\"Claasifier Score of x2train and y2train is\")\n",
    "print(classifier_tr1.score(x2_train,y2_train))\n",
    "print(\"Claasifier Score of xtest and ytest is\")\n",
    "print(classifier_tr1.score(x2_test,y2_test))\n",
    "print(\"Claasifier Score of xtest and prediction is\")\n",
    "print(classifier_tr1.score(x2_test, prediction_tr1))"
   ]
  },
  {
   "cell_type": "markdown",
   "metadata": {
    "id": "lrsrRVuLKLq8"
   },
   "source": [
    "### **Decision Tree Classification Model on Original Scaled Data**"
   ]
  },
  {
   "cell_type": "code",
   "execution_count": 47,
   "metadata": {
    "colab": {
     "base_uri": "https://localhost:8080/"
    },
    "id": "gOQd0Ui5KL1-",
    "outputId": "f99388b9-f2b5-493c-887c-1a999a821e9a"
   },
   "outputs": [
    {
     "name": "stdout",
     "output_type": "stream",
     "text": [
      "Prediction Shape is:\n",
      "(13107,)\n",
      "F1 Score is\n",
      "              precision    recall  f1-score   support\n",
      "\n",
      "       allow       1.00      1.00      1.00      7495\n",
      "        deny       0.99      1.00      0.99      2992\n",
      "        drop       1.00      1.00      1.00      2607\n",
      "  reset-both       0.50      0.31      0.38        13\n",
      "\n",
      "    accuracy                           1.00     13107\n",
      "   macro avg       0.87      0.83      0.84     13107\n",
      "weighted avg       1.00      1.00      1.00     13107\n",
      "\n",
      "Claasifier Score of xtrain and ytrain is\n",
      "0.9997329518359561\n",
      "Claasifier Score of xtest and ytest is\n",
      "0.9976348516060121\n",
      "Claasifier Score of xtest and prediction is\n",
      "1.0\n"
     ]
    }
   ],
   "source": [
    "from sklearn import tree\n",
    "from sklearn.metrics import classification_report\n",
    "classifier_tr1=tree.DecisionTreeClassifier()\n",
    "classifier_tr1.fit(x_train_sc, y_train)\n",
    "prediction_tr1=classifier_tr1.predict(x_test_sc)\n",
    "print(\"Prediction Shape is:\")\n",
    "print(prediction_tr1.shape)\n",
    "print(\"F1 Score is\")\n",
    "print(classification_report(y_test, prediction_tr1))\n",
    "print(\"Claasifier Score of xtrain and ytrain is\")\n",
    "print(classifier_tr1.score(x_train_sc,y_train))\n",
    "print(\"Claasifier Score of xtest and ytest is\")\n",
    "print(classifier_tr1.score(x_test_sc,y_test))\n",
    "print(\"Claasifier Score of xtest and prediction is\")\n",
    "print(classifier_tr1.score(x_test_sc, prediction_tr1))"
   ]
  },
  {
   "cell_type": "markdown",
   "metadata": {
    "id": "sGJ9nQwRKMBC"
   },
   "source": [
    "### **Decision Tree Classification Model on SMOTE Scaled Data**"
   ]
  },
  {
   "cell_type": "code",
   "execution_count": 48,
   "metadata": {
    "colab": {
     "base_uri": "https://localhost:8080/"
    },
    "id": "j_AkhOhEKMOD",
    "outputId": "623f5aa6-3606-427c-b68a-986b61539f75"
   },
   "outputs": [
    {
     "name": "stdout",
     "output_type": "stream",
     "text": [
      "Prediction Shape is:\n",
      "(30112,)\n",
      "F1 Score is\n",
      "              precision    recall  f1-score   support\n",
      "\n",
      "       allow       1.00      1.00      1.00      7574\n",
      "        deny       0.99      0.99      0.99      7515\n",
      "        drop       1.00      1.00      1.00      7493\n",
      "  reset-both       0.99      1.00      0.99      7530\n",
      "\n",
      "    accuracy                           1.00     30112\n",
      "   macro avg       1.00      1.00      1.00     30112\n",
      "weighted avg       1.00      1.00      1.00     30112\n",
      "\n",
      "Claasifier Score of x2train and y2train is\n",
      "0.9997094181721573\n",
      "Claasifier Score of xtest and ytest is\n",
      "0.9963801806588736\n",
      "Claasifier Score of xtest and prediction is\n",
      "1.0\n"
     ]
    }
   ],
   "source": [
    "from sklearn import tree\n",
    "from sklearn.metrics import classification_report\n",
    "classifier_tr1=tree.DecisionTreeClassifier()\n",
    "classifier_tr1.fit(x2_train_sc, y2_train)\n",
    "prediction_tr1=classifier_tr1.predict(x2_test_sc)\n",
    "print(\"Prediction Shape is:\")\n",
    "print(prediction_tr1.shape)\n",
    "print(\"F1 Score is\")\n",
    "print(classification_report(y2_test, prediction_tr1))\n",
    "print(\"Claasifier Score of x2train and y2train is\")\n",
    "print(classifier_tr1.score(x2_train_sc,y2_train))\n",
    "print(\"Claasifier Score of xtest and ytest is\")\n",
    "print(classifier_tr1.score(x2_test_sc,y2_test))\n",
    "print(\"Claasifier Score of xtest and prediction is\")\n",
    "print(classifier_tr1.score(x2_test_sc, prediction_tr1))"
   ]
  },
  {
   "cell_type": "markdown",
   "metadata": {
    "id": "9mrBCCmrM_bh"
   },
   "source": [
    "### **Decision Tree Classification Model (Hyperparameter Tuning, Setting Max_Depth)**"
   ]
  },
  {
   "cell_type": "markdown",
   "metadata": {
    "id": "7MXNeKJRNsS5"
   },
   "source": [
    "I have set max_depth of decision tree to show the change in result. Tested on 20,40,60,80,90, the result gets better at more depth. Random_State can also be changed as per requirements."
   ]
  },
  {
   "cell_type": "code",
   "execution_count": 49,
   "metadata": {
    "colab": {
     "base_uri": "https://localhost:8080/"
    },
    "id": "g1iRts-vM_7G",
    "outputId": "d96bac4d-671c-4477-9955-60d8c09f655d"
   },
   "outputs": [
    {
     "name": "stdout",
     "output_type": "stream",
     "text": [
      "Prediction Shape is:\n",
      "(30112,)\n",
      "F1 Score is\n",
      "              precision    recall  f1-score   support\n",
      "\n",
      "       allow       1.00      0.99      1.00      7574\n",
      "        deny       0.85      0.79      0.82      7515\n",
      "        drop       1.00      1.00      1.00      7493\n",
      "  reset-both       0.81      0.88      0.84      7530\n",
      "\n",
      "    accuracy                           0.91     30112\n",
      "   macro avg       0.91      0.91      0.91     30112\n",
      "weighted avg       0.91      0.91      0.91     30112\n",
      "\n",
      "Claasifier Score of x2train and y2train is\n",
      "0.9109823326248672\n",
      "Claasifier Score of xtest and ytest is\n",
      "0.9131575451647184\n",
      "Claasifier Score of xtest and prediction is\n",
      "1.0\n"
     ]
    }
   ],
   "source": [
    "from sklearn import tree\n",
    "from sklearn.metrics import classification_report\n",
    "classifier_tr1=tree.DecisionTreeClassifier(max_depth=3, random_state=25)\n",
    "classifier_tr1.fit(x2_train_sc, y2_train)\n",
    "prediction_tr1=classifier_tr1.predict(x2_test_sc)\n",
    "print(\"Prediction Shape is:\")\n",
    "print(prediction_tr1.shape)\n",
    "print(\"F1 Score is\")\n",
    "print(classification_report(y2_test, prediction_tr1))\n",
    "print(\"Claasifier Score of x2train and y2train is\")\n",
    "print(classifier_tr1.score(x2_train_sc,y2_train))\n",
    "print(\"Claasifier Score of xtest and ytest is\")\n",
    "print(classifier_tr1.score(x2_test_sc,y2_test))\n",
    "print(\"Claasifier Score of xtest and prediction is\")\n",
    "print(classifier_tr1.score(x2_test_sc, prediction_tr1))"
   ]
  },
  {
   "cell_type": "markdown",
   "metadata": {
    "id": "m1m_u11pOGEX"
   },
   "source": [
    "### **Decision Tree Classification Model (Hyperparameter Tuning, Setting Max_Lead Nodes)**"
   ]
  },
  {
   "cell_type": "markdown",
   "metadata": {
    "id": "N91D3BwvOg9f"
   },
   "source": [
    "I have set low max_kead_nodes of decision tree to show the change in result. Tested on different values, the result gets better at more leaf nodes. Random_State can also be changed as per requirements."
   ]
  },
  {
   "cell_type": "code",
   "execution_count": 50,
   "metadata": {
    "colab": {
     "base_uri": "https://localhost:8080/"
    },
    "id": "NGVAwKstOGn-",
    "outputId": "1ce7ab5f-8874-4357-d665-d21c4d023d23"
   },
   "outputs": [
    {
     "name": "stdout",
     "output_type": "stream",
     "text": [
      "Prediction Shape is:\n",
      "(30112,)\n",
      "F1 Score is\n"
     ]
    },
    {
     "name": "stderr",
     "output_type": "stream",
     "text": [
      "C:\\Users\\engrs\\anaconda3\\lib\\site-packages\\sklearn\\metrics\\_classification.py:1318: UndefinedMetricWarning: Precision and F-score are ill-defined and being set to 0.0 in labels with no predicted samples. Use `zero_division` parameter to control this behavior.\n",
      "  _warn_prf(average, modifier, msg_start, len(result))\n",
      "C:\\Users\\engrs\\anaconda3\\lib\\site-packages\\sklearn\\metrics\\_classification.py:1318: UndefinedMetricWarning: Precision and F-score are ill-defined and being set to 0.0 in labels with no predicted samples. Use `zero_division` parameter to control this behavior.\n",
      "  _warn_prf(average, modifier, msg_start, len(result))\n",
      "C:\\Users\\engrs\\anaconda3\\lib\\site-packages\\sklearn\\metrics\\_classification.py:1318: UndefinedMetricWarning: Precision and F-score are ill-defined and being set to 0.0 in labels with no predicted samples. Use `zero_division` parameter to control this behavior.\n",
      "  _warn_prf(average, modifier, msg_start, len(result))\n"
     ]
    },
    {
     "name": "stdout",
     "output_type": "stream",
     "text": [
      "              precision    recall  f1-score   support\n",
      "\n",
      "       allow       1.00      0.99      1.00      7574\n",
      "        deny       0.00      0.00      0.00      7515\n",
      "        drop       0.94      1.00      0.97      7493\n",
      "  reset-both       0.51      1.00      0.68      7530\n",
      "\n",
      "    accuracy                           0.75     30112\n",
      "   macro avg       0.61      0.75      0.66     30112\n",
      "weighted avg       0.61      0.75      0.66     30112\n",
      "\n",
      "Claasifier Score of x2train and y2train is\n",
      "0.7465877391073327\n",
      "Claasifier Score of xtest and ytest is\n",
      "0.747442879914984\n",
      "Claasifier Score of xtest and prediction is\n",
      "1.0\n"
     ]
    }
   ],
   "source": [
    "from sklearn import tree\n",
    "from sklearn.metrics import classification_report\n",
    "classifier_tr1=tree.DecisionTreeClassifier(max_leaf_nodes=3, random_state=5)\n",
    "classifier_tr1.fit(x2_train_sc, y2_train)\n",
    "prediction_tr1=classifier_tr1.predict(x2_test_sc)\n",
    "print(\"Prediction Shape is:\")\n",
    "print(prediction_tr1.shape)\n",
    "print(\"F1 Score is\")\n",
    "print(classification_report(y2_test, prediction_tr1))\n",
    "print(\"Claasifier Score of x2train and y2train is\")\n",
    "print(classifier_tr1.score(x2_train_sc,y2_train))\n",
    "print(\"Claasifier Score of xtest and ytest is\")\n",
    "print(classifier_tr1.score(x2_test_sc,y2_test))\n",
    "print(\"Claasifier Score of xtest and prediction is\")\n",
    "print(classifier_tr1.score(x2_test_sc, prediction_tr1))"
   ]
  },
  {
   "cell_type": "markdown",
   "metadata": {
    "id": "c3ONJJwRGiVI"
   },
   "source": [
    "## **RANDOM FOREST MODEL**"
   ]
  },
  {
   "cell_type": "markdown",
   "metadata": {
    "id": "SxeXvfb6QSTO"
   },
   "source": [
    "Hyperparameter Tuning in Random Forest Involves Estimator to be set different. 100 is usually by default value. setting maximum features, Minimum samples split, minimum sample leaf, min impurity decrease. I will be using few of these. "
   ]
  },
  {
   "cell_type": "markdown",
   "metadata": {
    "id": "UdFbPMTEGmoz"
   },
   "source": [
    "### **Random Forest Model on Original Data**"
   ]
  },
  {
   "cell_type": "code",
   "execution_count": 51,
   "metadata": {
    "colab": {
     "base_uri": "https://localhost:8080/"
    },
    "id": "Vc4h6HXSGsMb",
    "outputId": "eb8688c0-6222-4934-9684-6bf8c085a6db"
   },
   "outputs": [
    {
     "name": "stdout",
     "output_type": "stream",
     "text": [
      "R Squared Error: 0.9951172450960898\n",
      "0.9951172450960898\n",
      "F1 Score is\n",
      "<function r2_score at 0x00000254D1E1F4C0>\n",
      "Claasifier Score of xtrain and ytrain is\n",
      "0.999137155457271\n",
      "Claasifier Score of xtest and ytest is\n",
      "0.9951172450960898\n",
      "Claasifier Score of xtest and prediction is\n",
      "1.0\n"
     ]
    }
   ],
   "source": [
    "from sklearn.ensemble import RandomForestRegressor\n",
    "RF_model=RandomForestRegressor(n_estimators=100)\n",
    "RF_model.fit(x_train, encoded_y)\n",
    "from sklearn import metrics\n",
    "from sklearn.metrics import accuracy_score\n",
    "from sklearn.metrics import classification_report\n",
    "predictions1=RF_model.predict(x_test)\n",
    "error=metrics.r2_score(encoded_yt, predictions1)\n",
    "print(\"R Squared Error:\" , error)\n",
    "encoded_yt.shape\n",
    "predictions1.shape\n",
    "#y3=np.encoded_yt\n",
    "from sklearn.metrics import r2_score\n",
    "print(r2_score(encoded_yt, predictions1))\n",
    "print(\"F1 Score is\")\n",
    "#print(classification_report(encoded_yt, predictions1))\n",
    "r2_score1=r2_score(encoded_yt, predictions1)\n",
    "print(r2_score)\n",
    "print(\"Claasifier Score of xtrain and ytrain is\")\n",
    "print(RF_model.score(x_train,encoded_y))\n",
    "print(\"Claasifier Score of xtest and ytest is\")\n",
    "print(RF_model.score(x_test,encoded_yt))\n",
    "print(\"Claasifier Score of xtest and prediction is\")\n",
    "print(RF_model.score(x_test, predictions1))"
   ]
  },
  {
   "cell_type": "markdown",
   "metadata": {
    "id": "5MmrVmxvRBap"
   },
   "source": [
    "### **Random Forest Model on Original Data (Setting N_Estimators=10)**"
   ]
  },
  {
   "cell_type": "code",
   "execution_count": 52,
   "metadata": {
    "colab": {
     "base_uri": "https://localhost:8080/"
    },
    "id": "Lch7HvIvRBn9",
    "outputId": "8ccb40b6-53b0-4f29-ff15-5ff61be1b4f7"
   },
   "outputs": [
    {
     "name": "stdout",
     "output_type": "stream",
     "text": [
      "R Squared Error: 0.9946065801252242\n",
      "0.9946065801252242\n",
      "F1 Score is\n",
      "<function r2_score at 0x00000254D1E1F4C0>\n",
      "Claasifier Score of xtrain and ytrain is\n",
      "0.9989964793028573\n",
      "Claasifier Score of xtest and ytest is\n",
      "0.9946065801252242\n",
      "Claasifier Score of xtest and prediction is\n",
      "1.0\n"
     ]
    }
   ],
   "source": [
    "from sklearn.ensemble import RandomForestRegressor\n",
    "RF_model=RandomForestRegressor(n_estimators=10)\n",
    "RF_model.fit(x_train, encoded_y)\n",
    "from sklearn import metrics\n",
    "from sklearn.metrics import accuracy_score\n",
    "from sklearn.metrics import classification_report\n",
    "predictions1=RF_model.predict(x_test)\n",
    "error=metrics.r2_score(encoded_yt, predictions1)\n",
    "print(\"R Squared Error:\" , error)\n",
    "encoded_yt.shape\n",
    "predictions1.shape\n",
    "#y3=np.encoded_yt\n",
    "from sklearn.metrics import r2_score\n",
    "print(r2_score(encoded_yt, predictions1))\n",
    "print(\"F1 Score is\")\n",
    "#print(classification_report(encoded_yt, predictions1))\n",
    "r2_score1=r2_score(encoded_yt, predictions1)\n",
    "print(r2_score)\n",
    "print(\"Claasifier Score of xtrain and ytrain is\")\n",
    "print(RF_model.score(x_train,encoded_y))\n",
    "print(\"Claasifier Score of xtest and ytest is\")\n",
    "print(RF_model.score(x_test,encoded_yt))\n",
    "print(\"Claasifier Score of xtest and prediction is\")\n",
    "print(RF_model.score(x_test, predictions1))"
   ]
  },
  {
   "cell_type": "markdown",
   "metadata": {
    "id": "1TY9dRZgRR_B"
   },
   "source": [
    "### **Random Forest Model on Original Data (Setting N_Estimators=1000)**"
   ]
  },
  {
   "cell_type": "code",
   "execution_count": 53,
   "metadata": {
    "colab": {
     "base_uri": "https://localhost:8080/"
    },
    "id": "6M_ACgDQRSTc",
    "outputId": "bd08c5b8-e99d-4ee5-f2da-27c508908e4a"
   },
   "outputs": [
    {
     "name": "stdout",
     "output_type": "stream",
     "text": [
      "R Squared Error: 0.9952580846747084\n",
      "0.9952580846747084\n",
      "F1 Score is\n",
      "<function r2_score at 0x00000254D1E1F4C0>\n",
      "Claasifier Score of xtrain and ytrain is\n",
      "0.9991572954334236\n",
      "Claasifier Score of xtest and ytest is\n",
      "0.9952580846747084\n",
      "Claasifier Score of xtest and prediction is\n",
      "1.0\n"
     ]
    }
   ],
   "source": [
    "from sklearn.ensemble import RandomForestRegressor\n",
    "RF_model=RandomForestRegressor(n_estimators=1000)\n",
    "RF_model.fit(x_train, encoded_y)\n",
    "from sklearn import metrics\n",
    "from sklearn.metrics import accuracy_score\n",
    "from sklearn.metrics import classification_report\n",
    "predictions1=RF_model.predict(x_test)\n",
    "error=metrics.r2_score(encoded_yt, predictions1)\n",
    "print(\"R Squared Error:\" , error)\n",
    "encoded_yt.shape\n",
    "predictions1.shape\n",
    "#y3=np.encoded_yt\n",
    "from sklearn.metrics import r2_score\n",
    "print(r2_score(encoded_yt, predictions1))\n",
    "print(\"F1 Score is\")\n",
    "#print(classification_report(encoded_yt, predictions1))\n",
    "r2_score1=r2_score(encoded_yt, predictions1)\n",
    "print(r2_score)\n",
    "print(\"Claasifier Score of xtrain and ytrain is\")\n",
    "print(RF_model.score(x_train,encoded_y))\n",
    "print(\"Claasifier Score of xtest and ytest is\")\n",
    "print(RF_model.score(x_test,encoded_yt))\n",
    "print(\"Claasifier Score of xtest and prediction is\")\n",
    "print(RF_model.score(x_test, predictions1))"
   ]
  },
  {
   "cell_type": "markdown",
   "metadata": {
    "id": "sq_ZobSsR51X"
   },
   "source": [
    "### **Random Forest Model on Original Scaled Data (Setting N_Estimators=10)**"
   ]
  },
  {
   "cell_type": "code",
   "execution_count": 54,
   "metadata": {
    "colab": {
     "base_uri": "https://localhost:8080/"
    },
    "id": "gMq4skuGR6Am",
    "outputId": "7e9f03e0-be17-460d-a32d-f8f335688484"
   },
   "outputs": [
    {
     "name": "stdout",
     "output_type": "stream",
     "text": [
      "R Squared Error: 0.9948880093873472\n",
      "0.9948880093873472\n",
      "F1 Score is\n",
      "<function r2_score at 0x00000254D1E1F4C0>\n",
      "Claasifier Score of xtrain and ytrain is\n",
      "0.9989650673198648\n",
      "Claasifier Score of xtest and ytest is\n",
      "0.9948880093873472\n",
      "Claasifier Score of xtest and prediction is\n",
      "1.0\n"
     ]
    }
   ],
   "source": [
    "from sklearn.ensemble import RandomForestRegressor\n",
    "RF_model=RandomForestRegressor(n_estimators=10)\n",
    "RF_model.fit(x_train_sc, encoded_y)\n",
    "from sklearn import metrics\n",
    "from sklearn.metrics import accuracy_score\n",
    "from sklearn.metrics import classification_report\n",
    "predictions1=RF_model.predict(x_test_sc)\n",
    "error=metrics.r2_score(encoded_yt, predictions1)\n",
    "print(\"R Squared Error:\" , error)\n",
    "encoded_yt.shape\n",
    "predictions1.shape\n",
    "#y3=np.encoded_yt\n",
    "from sklearn.metrics import r2_score\n",
    "print(r2_score(encoded_yt, predictions1))\n",
    "print(\"F1 Score is\")\n",
    "#print(classification_report(encoded_yt, predictions1))\n",
    "r2_score1=r2_score(encoded_yt, predictions1)\n",
    "print(r2_score)\n",
    "print(\"Claasifier Score of xtrain and ytrain is\")\n",
    "print(RF_model.score(x_train_sc,encoded_y))\n",
    "print(\"Claasifier Score of xtest and ytest is\")\n",
    "print(RF_model.score(x_test_sc,encoded_yt))\n",
    "print(\"Claasifier Score of xtest and prediction is\")\n",
    "print(RF_model.score(x_test_sc, predictions1))"
   ]
  },
  {
   "cell_type": "markdown",
   "metadata": {
    "id": "oHANRtmATDGI"
   },
   "source": [
    "## **SUPPORT VECTOR MACHINE MODEL**"
   ]
  },
  {
   "cell_type": "markdown",
   "metadata": {
    "id": "Eg8aTmcwShUb"
   },
   "source": [
    "Hyperparameter Tuning of SVM involve change of Kernel or C value or gamma value etc. Kernal can be set as linear or poly or rbf or sigmoid. Similary C value can be set as C as float number, by default it is 0. and gamma value is by default scale, it can be set as auto or float number. "
   ]
  },
  {
   "cell_type": "markdown",
   "metadata": {
    "id": "TTuIRAZPTHoo"
   },
   "source": [
    "### **SVM Model on Original Data**"
   ]
  },
  {
   "cell_type": "code",
   "execution_count": 55,
   "metadata": {
    "colab": {
     "base_uri": "https://localhost:8080/",
     "height": 75
    },
    "id": "6gxRk9EkTK-B",
    "outputId": "80948102-20b6-4b5e-abaa-27e73f00f53b"
   },
   "outputs": [
    {
     "data": {
      "text/plain": [
       "SVC(kernel='linear')"
      ]
     },
     "execution_count": 55,
     "metadata": {},
     "output_type": "execute_result"
    }
   ],
   "source": [
    "from sklearn import svm\n",
    "classifier_sv=svm.SVC(kernel='linear')\n",
    "classifier_sv.fit(x_train, y_train\n",
    "                  )"
   ]
  },
  {
   "cell_type": "code",
   "execution_count": 56,
   "metadata": {
    "id": "P8nIz5MTcBWN"
   },
   "outputs": [
    {
     "name": "stdout",
     "output_type": "stream",
     "text": [
      "F1 Score is\n",
      "              precision    recall  f1-score   support\n",
      "\n",
      "       allow       1.00      1.00      1.00      7495\n",
      "        deny       1.00      0.97      0.98      2992\n",
      "        drop       0.97      1.00      0.99      2607\n",
      "  reset-both       0.00      0.00      0.00        13\n",
      "\n",
      "    accuracy                           0.99     13107\n",
      "   macro avg       0.74      0.74      0.74     13107\n",
      "weighted avg       0.99      0.99      0.99     13107\n",
      "\n",
      "Claasifier Score of xtrain and ytrain is\n"
     ]
    },
    {
     "name": "stderr",
     "output_type": "stream",
     "text": [
      "C:\\Users\\engrs\\anaconda3\\lib\\site-packages\\sklearn\\metrics\\_classification.py:1318: UndefinedMetricWarning: Precision and F-score are ill-defined and being set to 0.0 in labels with no predicted samples. Use `zero_division` parameter to control this behavior.\n",
      "  _warn_prf(average, modifier, msg_start, len(result))\n",
      "C:\\Users\\engrs\\anaconda3\\lib\\site-packages\\sklearn\\metrics\\_classification.py:1318: UndefinedMetricWarning: Precision and F-score are ill-defined and being set to 0.0 in labels with no predicted samples. Use `zero_division` parameter to control this behavior.\n",
      "  _warn_prf(average, modifier, msg_start, len(result))\n",
      "C:\\Users\\engrs\\anaconda3\\lib\\site-packages\\sklearn\\metrics\\_classification.py:1318: UndefinedMetricWarning: Precision and F-score are ill-defined and being set to 0.0 in labels with no predicted samples. Use `zero_division` parameter to control this behavior.\n",
      "  _warn_prf(average, modifier, msg_start, len(result))\n"
     ]
    },
    {
     "name": "stdout",
     "output_type": "stream",
     "text": [
      "0.9915498330948975\n",
      "Claasifier Score of xtest and ytest is\n",
      "0.9920653086137179\n",
      "Claasifier Score of xtest and prediction is\n",
      "1.0\n"
     ]
    }
   ],
   "source": [
    "prediction_sv1=classifier_sv.predict(x_test)\n",
    "y_test.shape\n",
    "prediction_sv1.shape\n",
    "print(\"F1 Score is\")\n",
    "print(classification_report(y_test, prediction_sv1))\n",
    "print(\"Claasifier Score of xtrain and ytrain is\")\n",
    "print(classifier_sv.score(x_train,y_train))\n",
    "print(\"Claasifier Score of xtest and ytest is\")\n",
    "print(classifier_sv.score(x_test,y_test))\n",
    "print(\"Claasifier Score of xtest and prediction is\")\n",
    "print(classifier_sv.score(x_test, prediction_sv1))"
   ]
  },
  {
   "cell_type": "markdown",
   "metadata": {
    "id": "uV8Y9NmeUshx"
   },
   "source": [
    "### **SVM Model on SMOTE Data**"
   ]
  },
  {
   "cell_type": "code",
   "execution_count": null,
   "metadata": {
    "id": "is2xc-3uVEp-"
   },
   "outputs": [],
   "source": [
    "from sklearn import svm\n",
    "classifier_sv=svm.SVC(kernel='linear')\n",
    "classifier_sv.fit(x2_train, y2_train)"
   ]
  },
  {
   "cell_type": "code",
   "execution_count": null,
   "metadata": {
    "id": "DQlZZ7JRUpR8"
   },
   "outputs": [],
   "source": [
    "prediction_sv1=classifier_sv.predict(x2_test)\n",
    "y2_test.shape\n",
    "prediction_sv1.shape\n",
    "print(\"F1 Score is\")\n",
    "print(classification_report(y2_test, prediction_sv1))\n",
    "print(\"Claasifier Score of xtrain and ytrain is\")\n",
    "print(classifier_sv.score(x2_train,y2_train))\n",
    "print(\"Claasifier Score of xtest and ytest is\")\n",
    "print(classifier_sv.score(x2_test,y2_test))\n",
    "print(\"Claasifier Score of xtest and prediction is\")\n",
    "print(classifier_sv.score(x2_test, prediction_sv1))"
   ]
  },
  {
   "cell_type": "markdown",
   "metadata": {
    "id": "9cxxPoFSUqU0"
   },
   "source": [
    "### **SVM Model on Original Scaled Data**"
   ]
  },
  {
   "cell_type": "code",
   "execution_count": 57,
   "metadata": {
    "id": "Zh9surYfUqfH"
   },
   "outputs": [
    {
     "data": {
      "text/plain": [
       "SVC(kernel='linear')"
      ]
     },
     "execution_count": 57,
     "metadata": {},
     "output_type": "execute_result"
    }
   ],
   "source": [
    "from sklearn import svm\n",
    "classifier_sv=svm.SVC(kernel='linear')\n",
    "classifier_sv.fit(x_train_sc, y_train)"
   ]
  },
  {
   "cell_type": "code",
   "execution_count": 58,
   "metadata": {
    "id": "SC7rqRNXVmNT"
   },
   "outputs": [
    {
     "name": "stdout",
     "output_type": "stream",
     "text": [
      "F1 Score is\n",
      "              precision    recall  f1-score   support\n",
      "\n",
      "       allow       1.00      1.00      1.00      7495\n",
      "        deny       0.99      0.97      0.98      2992\n",
      "        drop       0.97      1.00      0.98      2607\n",
      "  reset-both       0.00      0.00      0.00        13\n",
      "\n",
      "    accuracy                           0.99     13107\n",
      "   macro avg       0.74      0.74      0.74     13107\n",
      "weighted avg       0.99      0.99      0.99     13107\n",
      "\n",
      "Claasifier Score of xtrain and ytrain is\n"
     ]
    },
    {
     "name": "stderr",
     "output_type": "stream",
     "text": [
      "C:\\Users\\engrs\\anaconda3\\lib\\site-packages\\sklearn\\metrics\\_classification.py:1318: UndefinedMetricWarning: Precision and F-score are ill-defined and being set to 0.0 in labels with no predicted samples. Use `zero_division` parameter to control this behavior.\n",
      "  _warn_prf(average, modifier, msg_start, len(result))\n",
      "C:\\Users\\engrs\\anaconda3\\lib\\site-packages\\sklearn\\metrics\\_classification.py:1318: UndefinedMetricWarning: Precision and F-score are ill-defined and being set to 0.0 in labels with no predicted samples. Use `zero_division` parameter to control this behavior.\n",
      "  _warn_prf(average, modifier, msg_start, len(result))\n",
      "C:\\Users\\engrs\\anaconda3\\lib\\site-packages\\sklearn\\metrics\\_classification.py:1318: UndefinedMetricWarning: Precision and F-score are ill-defined and being set to 0.0 in labels with no predicted samples. Use `zero_division` parameter to control this behavior.\n",
      "  _warn_prf(average, modifier, msg_start, len(result))\n"
     ]
    },
    {
     "name": "stdout",
     "output_type": "stream",
     "text": [
      "0.989585121602289\n",
      "Claasifier Score of xtest and ytest is\n",
      "0.9906919966430152\n",
      "Claasifier Score of xtest and prediction is\n",
      "1.0\n"
     ]
    }
   ],
   "source": [
    "prediction_sv1=classifier_sv.predict(x_test_sc)\n",
    "y_test.shape\n",
    "prediction_sv1.shape\n",
    "print(\"F1 Score is\")\n",
    "print(classification_report(y_test, prediction_sv1))\n",
    "print(\"Claasifier Score of xtrain and ytrain is\")\n",
    "print(classifier_sv.score(x_train_sc,y_train))\n",
    "print(\"Claasifier Score of xtest and ytest is\")\n",
    "print(classifier_sv.score(x_test_sc,y_test))\n",
    "print(\"Claasifier Score of xtest and prediction is\")\n",
    "print(classifier_sv.score(x_test_sc, prediction_sv1))"
   ]
  },
  {
   "cell_type": "markdown",
   "metadata": {
    "id": "Fk-uLkBwUqs-"
   },
   "source": [
    "### **SVM Model on SMOTE Data and setting Kernal=sigmoid**"
   ]
  },
  {
   "cell_type": "code",
   "execution_count": 59,
   "metadata": {
    "id": "mkldlmRZUq0w"
   },
   "outputs": [
    {
     "data": {
      "text/plain": [
       "SVC(kernel='sigmoid')"
      ]
     },
     "execution_count": 59,
     "metadata": {},
     "output_type": "execute_result"
    }
   ],
   "source": [
    "from sklearn import svm\n",
    "classifier_sv=svm.SVC(kernel='sigmoid')\n",
    "classifier_sv.fit(x_train, y_train)"
   ]
  },
  {
   "cell_type": "code",
   "execution_count": 60,
   "metadata": {
    "id": "hoP2DG1eWRan"
   },
   "outputs": [
    {
     "name": "stdout",
     "output_type": "stream",
     "text": [
      "F1 Score is\n",
      "              precision    recall  f1-score   support\n",
      "\n",
      "       allow       0.67      1.00      0.80      7495\n",
      "        deny       0.98      0.66      0.79      2992\n",
      "        drop       0.00      0.00      0.00      2607\n",
      "  reset-both       0.00      0.00      0.00        13\n",
      "\n",
      "    accuracy                           0.72     13107\n",
      "   macro avg       0.41      0.41      0.40     13107\n",
      "weighted avg       0.61      0.72      0.64     13107\n",
      "\n",
      "Claasifier Score of xtrain and ytrain is\n"
     ]
    },
    {
     "name": "stderr",
     "output_type": "stream",
     "text": [
      "C:\\Users\\engrs\\anaconda3\\lib\\site-packages\\sklearn\\metrics\\_classification.py:1318: UndefinedMetricWarning: Precision and F-score are ill-defined and being set to 0.0 in labels with no predicted samples. Use `zero_division` parameter to control this behavior.\n",
      "  _warn_prf(average, modifier, msg_start, len(result))\n",
      "C:\\Users\\engrs\\anaconda3\\lib\\site-packages\\sklearn\\metrics\\_classification.py:1318: UndefinedMetricWarning: Precision and F-score are ill-defined and being set to 0.0 in labels with no predicted samples. Use `zero_division` parameter to control this behavior.\n",
      "  _warn_prf(average, modifier, msg_start, len(result))\n",
      "C:\\Users\\engrs\\anaconda3\\lib\\site-packages\\sklearn\\metrics\\_classification.py:1318: UndefinedMetricWarning: Precision and F-score are ill-defined and being set to 0.0 in labels with no predicted samples. Use `zero_division` parameter to control this behavior.\n",
      "  _warn_prf(average, modifier, msg_start, len(result))\n"
     ]
    },
    {
     "name": "stdout",
     "output_type": "stream",
     "text": [
      "0.7245970433953267\n",
      "Claasifier Score of xtest and ytest is\n",
      "0.7210650797283894\n",
      "Claasifier Score of xtest and prediction is\n",
      "1.0\n"
     ]
    }
   ],
   "source": [
    "prediction_sv1=classifier_sv.predict(x_test)\n",
    "y_test.shape\n",
    "prediction_sv1.shape\n",
    "print(\"F1 Score is\")\n",
    "print(classification_report(y_test, prediction_sv1))\n",
    "print(\"Claasifier Score of xtrain and ytrain is\")\n",
    "print(classifier_sv.score(x_train,y_train))\n",
    "print(\"Claasifier Score of xtest and ytest is\")\n",
    "print(classifier_sv.score(x_test,y_test))\n",
    "print(\"Claasifier Score of xtest and prediction is\")\n",
    "print(classifier_sv.score(x_test, prediction_sv1))"
   ]
  },
  {
   "cell_type": "markdown",
   "metadata": {
    "id": "6g9YNLtrWWIM"
   },
   "source": [
    "### **SVM Model on SMOTE Data and setting Kernal=poly**"
   ]
  },
  {
   "cell_type": "code",
   "execution_count": 61,
   "metadata": {
    "id": "OfbRLVukWWWp"
   },
   "outputs": [
    {
     "data": {
      "text/plain": [
       "SVC(kernel='poly')"
      ]
     },
     "execution_count": 61,
     "metadata": {},
     "output_type": "execute_result"
    }
   ],
   "source": [
    "from sklearn import svm\n",
    "classifier_sv=svm.SVC(kernel='poly')\n",
    "classifier_sv.fit(x_train, y_train)"
   ]
  },
  {
   "cell_type": "code",
   "execution_count": 62,
   "metadata": {
    "id": "JG92yY3zWWZ4"
   },
   "outputs": [
    {
     "name": "stdout",
     "output_type": "stream",
     "text": [
      "F1 Score is\n",
      "              precision    recall  f1-score   support\n",
      "\n",
      "       allow       0.57      1.00      0.73      7495\n",
      "        deny       0.00      0.00      0.00      2992\n",
      "        drop       0.00      0.00      0.00      2607\n",
      "  reset-both       0.00      0.00      0.00        13\n",
      "\n",
      "    accuracy                           0.57     13107\n",
      "   macro avg       0.14      0.25      0.18     13107\n",
      "weighted avg       0.33      0.57      0.42     13107\n",
      "\n",
      "Claasifier Score of xtrain and ytrain is\n"
     ]
    },
    {
     "name": "stderr",
     "output_type": "stream",
     "text": [
      "C:\\Users\\engrs\\anaconda3\\lib\\site-packages\\sklearn\\metrics\\_classification.py:1318: UndefinedMetricWarning: Precision and F-score are ill-defined and being set to 0.0 in labels with no predicted samples. Use `zero_division` parameter to control this behavior.\n",
      "  _warn_prf(average, modifier, msg_start, len(result))\n",
      "C:\\Users\\engrs\\anaconda3\\lib\\site-packages\\sklearn\\metrics\\_classification.py:1318: UndefinedMetricWarning: Precision and F-score are ill-defined and being set to 0.0 in labels with no predicted samples. Use `zero_division` parameter to control this behavior.\n",
      "  _warn_prf(average, modifier, msg_start, len(result))\n",
      "C:\\Users\\engrs\\anaconda3\\lib\\site-packages\\sklearn\\metrics\\_classification.py:1318: UndefinedMetricWarning: Precision and F-score are ill-defined and being set to 0.0 in labels with no predicted samples. Use `zero_division` parameter to control this behavior.\n",
      "  _warn_prf(average, modifier, msg_start, len(result))\n"
     ]
    },
    {
     "name": "stdout",
     "output_type": "stream",
     "text": [
      "0.5750119217930377\n",
      "Claasifier Score of xtest and ytest is\n",
      "0.5718318455786984\n",
      "Claasifier Score of xtest and prediction is\n",
      "1.0\n"
     ]
    }
   ],
   "source": [
    "prediction_sv1=classifier_sv.predict(x_test)\n",
    "y_test.shape\n",
    "prediction_sv1.shape\n",
    "print(\"F1 Score is\")\n",
    "print(classification_report(y_test, prediction_sv1))\n",
    "print(\"Claasifier Score of xtrain and ytrain is\")\n",
    "print(classifier_sv.score(x_train,y_train))\n",
    "print(\"Claasifier Score of xtest and ytest is\")\n",
    "print(classifier_sv.score(x_test,y_test))\n",
    "print(\"Claasifier Score of xtest and prediction is\")\n",
    "print(classifier_sv.score(x_test, prediction_sv1))"
   ]
  },
  {
   "cell_type": "markdown",
   "metadata": {
    "id": "J2XQ2cuoX3JI"
   },
   "source": [
    "### **EXAMPLE FOR ALLOW DATA**"
   ]
  },
  {
   "cell_type": "code",
   "execution_count": 63,
   "metadata": {
    "id": "8lYkccvUX-Et"
   },
   "outputs": [
    {
     "name": "stdout",
     "output_type": "stream",
     "text": [
      "Prediction by KNN Model:\n",
      "allow\n",
      "Prediction by Logistic Regression Model:\n",
      "allow\n",
      "Prediction by Linear Regression Model:\n",
      "-0.23654150416377462\n",
      "Prediction by Decision Tree Model:\n",
      "allow\n",
      "Prediction by Random Forest Model:\n",
      "0.0\n",
      "Prediction by SVM Model:\n",
      "allow\n"
     ]
    },
    {
     "name": "stderr",
     "output_type": "stream",
     "text": [
      "C:\\Users\\engrs\\anaconda3\\lib\\site-packages\\sklearn\\base.py:450: UserWarning: X does not have valid feature names, but StandardScaler was fitted with feature names\n",
      "  warnings.warn(\n",
      "C:\\Users\\engrs\\anaconda3\\lib\\site-packages\\sklearn\\neighbors\\_classification.py:228: FutureWarning: Unlike other reduction functions (e.g. `skew`, `kurtosis`), the default behavior of `mode` typically preserves the axis it acts along. In SciPy 1.11.0, this behavior will change: the default value of `keepdims` will become False, the `axis` over which the statistic is taken will be eliminated, and the value None will no longer be accepted. Set `keepdims` to True or False to avoid this warning.\n",
      "  mode, _ = stats.mode(_y[neigh_ind, k], axis=1)\n",
      "C:\\Users\\engrs\\anaconda3\\lib\\site-packages\\sklearn\\base.py:450: UserWarning: X does not have valid feature names, but LogisticRegression was fitted with feature names\n",
      "  warnings.warn(\n",
      "C:\\Users\\engrs\\anaconda3\\lib\\site-packages\\sklearn\\base.py:450: UserWarning: X does not have valid feature names, but LinearRegression was fitted with feature names\n",
      "  warnings.warn(\n",
      "C:\\Users\\engrs\\anaconda3\\lib\\site-packages\\sklearn\\base.py:450: UserWarning: X does not have valid feature names, but SVC was fitted with feature names\n",
      "  warnings.warn(\n"
     ]
    }
   ],
   "source": [
    "example=[[60513, 47094, 45469, 47094, 320, 140, 180, 6, 7,3,3]]\n",
    "scaled_example=scaler.transform(example)\n",
    "print(\"Prediction by KNN Model:\")\n",
    "print(classifier3.predict(example)[0])\n",
    "print(\"Prediction by Logistic Regression Model:\")\n",
    "print(model7.predict(example)[0])\n",
    "print(\"Prediction by Linear Regression Model:\")\n",
    "print(LR2.predict(example)[0])\n",
    "print(\"Prediction by Decision Tree Model:\")\n",
    "print(classifier_tr1.predict(example)[0])\n",
    "print(\"Prediction by Random Forest Model:\")\n",
    "print(RF_model.predict(example)[0])\n",
    "print(\"Prediction by SVM Model:\")\n",
    "print(classifier_sv.predict(example)[0])"
   ]
  },
  {
   "cell_type": "code",
   "execution_count": 64,
   "metadata": {
    "id": "Jk0vpU0P8TBd"
   },
   "outputs": [
    {
     "name": "stdout",
     "output_type": "stream",
     "text": [
      "Prediction by KNN Model:\n",
      "allow\n",
      "Prediction by Logistic Regression Model:\n",
      "allow\n",
      "Prediction by Linear Regression Model:\n",
      "-0.23654150416377462\n",
      "Prediction by Decision Tree Model:\n",
      "allow\n",
      "Prediction by Random Forest Model:\n",
      "0.0\n",
      "Prediction by SVM Model:\n",
      "allow\n"
     ]
    },
    {
     "name": "stderr",
     "output_type": "stream",
     "text": [
      "C:\\Users\\engrs\\anaconda3\\lib\\site-packages\\sklearn\\base.py:450: UserWarning: X does not have valid feature names, but StandardScaler was fitted with feature names\n",
      "  warnings.warn(\n",
      "C:\\Users\\engrs\\anaconda3\\lib\\site-packages\\sklearn\\neighbors\\_classification.py:228: FutureWarning: Unlike other reduction functions (e.g. `skew`, `kurtosis`), the default behavior of `mode` typically preserves the axis it acts along. In SciPy 1.11.0, this behavior will change: the default value of `keepdims` will become False, the `axis` over which the statistic is taken will be eliminated, and the value None will no longer be accepted. Set `keepdims` to True or False to avoid this warning.\n",
      "  mode, _ = stats.mode(_y[neigh_ind, k], axis=1)\n",
      "C:\\Users\\engrs\\anaconda3\\lib\\site-packages\\sklearn\\base.py:450: UserWarning: X does not have valid feature names, but LogisticRegression was fitted with feature names\n",
      "  warnings.warn(\n",
      "C:\\Users\\engrs\\anaconda3\\lib\\site-packages\\sklearn\\base.py:450: UserWarning: X does not have valid feature names, but LinearRegression was fitted with feature names\n",
      "  warnings.warn(\n",
      "C:\\Users\\engrs\\anaconda3\\lib\\site-packages\\sklearn\\base.py:450: UserWarning: X does not have valid feature names, but SVC was fitted with feature names\n",
      "  warnings.warn(\n"
     ]
    }
   ],
   "source": [
    "example=[[60513, 47094, 45469, 47094, 320, 140, 180, 6, 7,3,3]]\n",
    "scaled_example=scaler.transform(example)\n",
    "print(\"Prediction by KNN Model:\")\n",
    "print(classifier3.predict(example)[0])\n",
    "print(\"Prediction by Logistic Regression Model:\")\n",
    "print(model7.predict(example)[0])\n",
    "print(\"Prediction by Linear Regression Model:\")\n",
    "print(LR2.predict(example)[0])\n",
    "print(\"Prediction by Decision Tree Model:\")\n",
    "print(classifier_tr1.predict(example)[0])\n",
    "print(\"Prediction by Random Forest Model:\")\n",
    "print(RF_model.predict(example)[0])\n",
    "print(\"Prediction by SVM Model:\")\n",
    "print(classifier_sv.predict(example)[0])"
   ]
  },
  {
   "cell_type": "code",
   "execution_count": 65,
   "metadata": {
    "id": "GpJUlSoK1MXa"
   },
   "outputs": [
    {
     "name": "stdout",
     "output_type": "stream",
     "text": [
      "Prediction by KNN Model:\n",
      "deny\n",
      "Prediction by Logistic Regression Model:\n",
      "drop\n",
      "Prediction by Linear Regression Model:\n",
      "83.3374633070938\n",
      "Prediction by Decision Tree Model:\n",
      "allow\n",
      "Prediction by Random Forest Model:\n",
      "0.0\n",
      "Prediction by SVM Model:\n",
      "allow\n"
     ]
    },
    {
     "name": "stderr",
     "output_type": "stream",
     "text": [
      "C:\\Users\\engrs\\anaconda3\\lib\\site-packages\\sklearn\\base.py:450: UserWarning: X does not have valid feature names, but StandardScaler was fitted with feature names\n",
      "  warnings.warn(\n",
      "C:\\Users\\engrs\\anaconda3\\lib\\site-packages\\sklearn\\neighbors\\_classification.py:228: FutureWarning: Unlike other reduction functions (e.g. `skew`, `kurtosis`), the default behavior of `mode` typically preserves the axis it acts along. In SciPy 1.11.0, this behavior will change: the default value of `keepdims` will become False, the `axis` over which the statistic is taken will be eliminated, and the value None will no longer be accepted. Set `keepdims` to True or False to avoid this warning.\n",
      "  mode, _ = stats.mode(_y[neigh_ind, k], axis=1)\n",
      "C:\\Users\\engrs\\anaconda3\\lib\\site-packages\\sklearn\\base.py:450: UserWarning: X does not have valid feature names, but LogisticRegression was fitted with feature names\n",
      "  warnings.warn(\n",
      "C:\\Users\\engrs\\anaconda3\\lib\\site-packages\\sklearn\\base.py:450: UserWarning: X does not have valid feature names, but LinearRegression was fitted with feature names\n",
      "  warnings.warn(\n",
      "C:\\Users\\engrs\\anaconda3\\lib\\site-packages\\sklearn\\base.py:450: UserWarning: X does not have valid feature names, but SVC was fitted with feature names\n",
      "  warnings.warn(\n"
     ]
    }
   ],
   "source": [
    "example2=[[60513, 47, 0, 0, 320, 140, 1, 0, 1,3,1]]\n",
    "scaled_example2=scaler.transform(example2)\n",
    "print(\"Prediction by KNN Model:\")\n",
    "print(classifier3.predict(example2)[0])\n",
    "print(\"Prediction by Logistic Regression Model:\")\n",
    "print(model7.predict(example2)[0])\n",
    "print(\"Prediction by Linear Regression Model:\")\n",
    "print(LR2.predict(example2)[0])\n",
    "print(\"Prediction by Decision Tree Model:\")\n",
    "print(classifier_tr1.predict(example2)[0])\n",
    "print(\"Prediction by Random Forest Model:\")\n",
    "print(RF_model.predict(example2)[0])\n",
    "print(\"Prediction by SVM Model:\")\n",
    "print(classifier_sv.predict(example2)[0])"
   ]
  },
  {
   "cell_type": "markdown",
   "metadata": {
    "id": "6wcS_ONUZ255"
   },
   "source": [
    "# **IMPLEMENTING PIPELINE:**"
   ]
  },
  {
   "cell_type": "markdown",
   "metadata": {
    "id": "Y516Gi3GeHC8"
   },
   "source": [
    "## **WARNING FILTER**"
   ]
  },
  {
   "cell_type": "code",
   "execution_count": 66,
   "metadata": {
    "id": "YspVN-29Z3Kh"
   },
   "outputs": [],
   "source": [
    "#Warning Filter,\n",
    "import warnings\n",
    "warnings.filterwarnings(\"ignore\")"
   ]
  },
  {
   "cell_type": "markdown",
   "metadata": {
    "id": "StNqwquSeMu5"
   },
   "source": [
    "## **IMPORTING LIBRARIES**"
   ]
  },
  {
   "cell_type": "code",
   "execution_count": 68,
   "metadata": {
    "id": "YLFmw7XAZ_fS"
   },
   "outputs": [],
   "source": [
    "import numpy as np\n",
    "import pandas as pd\n",
    "import seaborn as sns\n",
    "import matplotlib.pyplot as plt\n",
    "from pandas_profiling import ProfileReport\n",
    "from sklearn.pipeline import Pipeline\n",
    "from sklearn.model_selection import train_test_split\n",
    "from sklearn.preprocessing import StandardScaler\n",
    "import imblearn\n",
    "from collections import Counter\n",
    "from imblearn.over_sampling import SMOTE\n",
    "from imblearn.under_sampling import RandomUnderSampler\n",
    "from imblearn.pipeline import Pipeline\n",
    "from sklearn.linear_model import LinearRegression\n",
    "from sklearn.linear_model import LogisticRegression\n",
    "from sklearn import svm\n",
    "from sklearn.svm import SVC\n",
    "from sklearn import tree\n",
    "from sklearn.tree import DecisionTreeClassifier\n",
    "from sklearn.ensemble import RandomForestRegressor\n",
    "from sklearn.neighbors import KNeighborsClassifier\n",
    "from sklearn.metrics import classification_report\n",
    "from sklearn import preprocessing\n",
    "from sklearn import utils"
   ]
  },
  {
   "cell_type": "markdown",
   "metadata": {
    "id": "qh_EmHmUeS2W"
   },
   "source": [
    "## **SEGREGATING INPUT & OUTPUT (LABELS)**"
   ]
  },
  {
   "cell_type": "code",
   "execution_count": 69,
   "metadata": {
    "id": "shf9CXOgcvgL"
   },
   "outputs": [],
   "source": [
    "x9=df.drop([\"Action\"], axis=1)"
   ]
  },
  {
   "cell_type": "code",
   "execution_count": 70,
   "metadata": {
    "id": "WKaCqfYsc42C"
   },
   "outputs": [],
   "source": [
    "y9=df[\"Action\"]"
   ]
  },
  {
   "cell_type": "markdown",
   "metadata": {
    "id": "ciPmv0pueffX"
   },
   "source": [
    "## **SPLITTING DATA INTO TRAIN AND TEST PART**"
   ]
  },
  {
   "cell_type": "code",
   "execution_count": 71,
   "metadata": {
    "id": "a378adbEc5a7"
   },
   "outputs": [],
   "source": [
    "x9_train,x9_test, y9_train, y9_test=train_test_split(x9,y9,test_size=0.2, random_state=21)"
   ]
  },
  {
   "cell_type": "markdown",
   "metadata": {
    "id": "eE83Ig9Xeoiu"
   },
   "source": [
    "## **LABELING CATEGORICAL DATA INTO NUMERICAL**"
   ]
  },
  {
   "cell_type": "code",
   "execution_count": 72,
   "metadata": {
    "colab": {
     "base_uri": "https://localhost:8080/"
    },
    "id": "8aRaudJzc-_2",
    "outputId": "24b38cde-7158-44fa-a24a-ae13d8a0e019"
   },
   "outputs": [
    {
     "name": "stdout",
     "output_type": "stream",
     "text": [
      "[2 1 0 0 0 2 1 0 1 2 0 1 0 0 0 1 2 0 0 0 1 0 1 1 1 1 1 0 0 1 1 0 2 0 0 0 2\n",
      " 0 0 0 0 0 0 1 2 2 0 2 0 0 0 2 2 2 0 2 1 1 2 2 2 0 1 2 0 0 0 2 0 2 0 2 0 0\n",
      " 0 0 2 0 2 2 0 1 1 1 0 0 1 0 1 1 0 0 2 0 2 2 2 2 0 0 0 0 2 1 0 0 1 0 0 2 0\n",
      " 0 1 0 0 0 0 2 0 2 0 0 2 0 2 1 0 2 0 1 0 0 0 1 1 0 0 0 0 1 1 0 0 0 0 2 0 0\n",
      " 0 1 0 0 0 2 0 1 2 0 0 0 1 0 1 1 0 1 0 0 1 0 0 1 1 0 2 1 0 1 0 2 0 1 0 0 2\n",
      " 2 1 0 0 2 1 0 0 0 0 0 0 2 2 2 0 2 0 2 0 0 0 1 0 1 2 0 0 0 0 0 1 1 0 0 2 0\n",
      " 0 1 0 2 0 0 2 1 2 0 0 0 2 2 2 1 0 0 0 0 1 1 0 1 1 1 0 0 0 0 0 0 0 0 1 0 0\n",
      " 0 0 0 1 2 0 0 2 0 0 0 2 0 0 0 0 0 2 0 0 0 0 0 1 0 0 0 0 1 1 0 1 1 1 0 2 0\n",
      " 1 0 1 0 0 0 0 2 1 0 1 0 2 1 1 1 0 0 1 1 1 2 1 0 0 1 0 0 1 0 0 2 1 0 0 2 0\n",
      " 1 0 2 0 1 0 2 0 1 0 1 0 0 1 1 2 2 0 1 2 0 0 2 0 0 0 1 1 0 0 2 1 1 0 1 0 0\n",
      " 0 2 0 2 1 2 0 0 0 1 0 2 0 0 1 0 2 2 2 0 1 0 0 0 1 1 1 1 0 0 0 1 0 1 1 0 1\n",
      " 0 1 1 0 1 2 2 0 0 2 0 0 0 1 2 0 2 2 0 2 0 2 0 2 0 0 1 0 2 1 0 1 0 0 0 0 0\n",
      " 0 2 0 0 0 0 0 1 1 0 0 0 0 0 0 2 1 0 0 1 2 2 0 0 0 0 2 0 1 2 2 0 0 0 0 2 0\n",
      " 0 2 1 1 0 2 2 0 1 1 2 1 1 1 2 2 2 0 2 2 2 0 0 2 1 0 1 2 0 0 0 0 0 2 0 1 0\n",
      " 0 0 2 2 2 0 0 0 2 0 0 2 2 0 0 1 2 0 0 2 0 1 1 0 0 1 0 0 1 2 2 1 1 1 2 0 0\n",
      " 2 0 0 2 1 1 1 1 2 0 1 1 0 0 1 1 0 0 0 0 0 2 1 2 0 0 0 0 1 0 2 1 1 0 0 0 0\n",
      " 2 0 2 1 0 0 0 0 1 1 0 2 2 2 1 0 1 0 0 0 0 0 2 0 1 2 1 0 0 0 0 0 0 0 2 0 0\n",
      " 2 0 0 2 0 1 1 0 1 0 0 0 2 1 0 0 0 0 2 2 2 1 0 0 1 0 2 2 2 1 0 2 0 0 0 0 0\n",
      " 0 0 0 2 0 1 1 0 0 0 0 0 0 2 0 0 1 2 0 2 1 0 2 0 0 0 1 1 2 0 0 2 0 0 0 0 1\n",
      " 0 0 2 1 0 0 0 0 0 0 1 0 0 0 1 2 2 1 0 0 0 0 0 1 1 0 0 0 1 1 0 0 0 0 0 0 2\n",
      " 0 0 1 2 0 0 0 0 2 0 0 0 1 0 0 0 0 0 1 1 1 0 1 1 0 0 0 0 0 2 0 1 2 0 0 2 1\n",
      " 0 1 2 2 0 0 0 0 0 1 1 0 0 0 1 1 2 1 0 0 0 1 0 0 0 0 2 0 0 2 2 0 1 0 2 0 2\n",
      " 2 0 2 0 0 0 1 2 0 0 0 0 0 0 1 0 0 0 0 1 0 0 0 1 0 0 2 1 0 1 1 2 0 0 1 0 0\n",
      " 1 0 1 0 2 1 0 0 1 0 2 0 2 2 0 0 0 2 0 0 0 1 1 0 1 0 2 2 1 0 0 0 1 1 0 0 0\n",
      " 1 0 0 0 0 1 0 0 1 1 0 1 2 1 0 0 1 0 0 0 2 2 0 2 1 2 1 0 1 0 1 1 2 2 2 0 0\n",
      " 0 0 0 2 0 0 1 1 2 0 0 0 0 1 0 1 0 1 0 0 1 0 0 0 0 1 1 2 2 0 0 1 1 0 0 2 0\n",
      " 2 0 0 2 2 0 0 0 0 1 2 1 1 0 1 0 2 1 0 0 0 2 1 2 0 2 1 1 0 0 0 0 1 0 0 0 0\n",
      " 2 0 0 0 0 0 2 2 0 0 2 0 0 0 0 1 1 0 2 1 0 0 0 0 0 0 0 0 1 0 0 2 2 1 0 0 1\n",
      " 2 0 1 0 1 0 1 0 2 0 0 0 0 0 0 0 0 0 2 2 0 2 1 1 0 0 1 0 0 2 2 0 0 0 2 0 1\n",
      " 0 1 0 0 1 0 1 1 2 0 0 0 1 0 0 2 1 1 2 0 0 0 0 0 1 1 0 0 0 0 0 2 2 1 0 2 0\n",
      " 0 0 2 0 2 1 0 0 0 2 1 0 0 1 2 2 2 1 2 2 0 0 2 1 1 1 0 0 0 0 1 0 2 0 2 0 0\n",
      " 0 0 2 0 1 0 0 2 0 1 2 0 1 0 0 0 1 0 0 1 0 0 0 0 0 0 1 0 0 0 0 0 0 1 2 2 0\n",
      " 2 0 0 1 0 0 0 0 1 0 0 2 0 2 0 2 0 0 0 0 0 2 2 0 0 2 0 2 0 1 2 0 0 0 0 0 0\n",
      " 0 0 2 1 1 0 0 2 0 0 1 0 0 0 1 2 2 2 0 2 1 2 1 0 0 1 0 0 0 0 1 0 0 1 0 0 0\n",
      " 0 0 2 0 0 1 0 1 0 1 0 0 1 0 1 1 1 0 0 0 0 0 1 0 0 0 2 2 2 2 1 1 0 0 0 0 2\n",
      " 0 0 0 0 0 2 0 2 0 2 0 0 0 0 1 1 0 0 0 0 1 1 0 0 1 0 0 0 0 0 2 0 0 1 0 0 0\n",
      " 1 0 2 0 1 0 0 0 1 0 2 0 0 1 0 0 1 0 2 1 1 0 2 0 0 2 0 1 2 1 0 1 1 0 1 2 0\n",
      " 2 2 0 0 0 1 1 2 2 1 0 0 0 1 1 1 0 0 2 0 2 0 0 1 0 0 2 2 0 0 2 0 2 0 2 0 0\n",
      " 0 2 1 0 2 0 0 0 1 0 2 2 0 0 1 0 1 0 2 2 0 2 0 0 0 0 1 0 1 2 0 2 0 0 0 1 1\n",
      " 0 2 2 1 0 2 0 0 0 1 1 0 2 0 0 1 2 2 1 0 1 2 0 0 1 0 2 1 0 1 2 0 0 0 2 0 0\n",
      " 0 1 0 2 1 2 1 0 1 0 0 0 0 1 2 0 1 0 1 1 2 1 2 1 1 2 1 0 2 2 0 0 0 1 1 2 0\n",
      " 0 1 0 0 0 1 0 0 1 2 0 2 0 0 0 0 0 0 2 1 1 1 0 1 0 0 0 2 0 0 1 1 2 0 0 1 0\n",
      " 2 0 0 0 0 1 1 1 0 0 0 0 0 0 0 0 1 0 1 1 0 1 0 0 2 0 0 0 2 0 1 0 1 0 1 0 1\n",
      " 1 1 2 0 0 1 1 0 1 0 0 1 1 0 2 2 2 0 2 0 0 1 0 2 0 0 1 0 0 1 1 0 0 0 0 0 2\n",
      " 0 0 0 1 1 2 0 2 2 0 2 0 1 0 0 1 2 1 2 2 0 0 0 1 2 0 0 0 0 1 0 1 0 2 0 2 0\n",
      " 0 0 0 2 1 0 0 0 1 0 0 0 0 0 2 0 1 0 0 0 0 0 1 0 0 0 0 1 0 0 0 0 0 0 0 1 0\n",
      " 0 0 1 0 2 2 0 2 2 2 2 2 0 0 0 2 0 0 0 0 0 0 0 0 0 1 2 0 1 0 1 2 0 2 0 2 0\n",
      " 1 2 0 0 0 0 0 0 1 1 2 0 2 0 0 0 0 0 0 0 0 2 0 1 0 1 0 1 0 0 1 0 0 0 0 0 0\n",
      " 0 0 0 0 1 1 0 1 2 0 2 2 2 0 0 1 2 0 0 1 1 0 1 1 0 0 2 2 0 2 0 2 0 0 2 2 0\n",
      " 0 0 2 1 1 0 0 1 0 1 0 1 0 2 2 1 0 0 0 0 0 2 2 0 0 1 2 0 0 0 0 0 0 0 0 2 0\n",
      " 0 0 0 0 0 0 0 0 0 1 1 0 0 0 0 0 0 2 0 2 0 2 1 0 0 0 2 0 0 1 0 1 1 1 0 2 0\n",
      " 2 0 0 0 2 0 0 0 0 0 2 0 0 0 2 0 2 1 0 2 0 1 2 2 0 0 0 0 0 2 0 0 0 0 1 0 0\n",
      " 0 1 2 0 2 0 0 1 2 2 0 1 0 2 1 0 0 2 0 1 2 2 0 1 0 1 0 0 0 0 0 0 1 0 1 0 1\n",
      " 1 2 0 2 2 0 0 2 0 0 2 0 0 0 0 0 0 0 1 1 0 2 0 0 0 0 2 0 0 0 0 0 2 2 1 1 0\n",
      " 0 0 0 0 1 0 0 1 2 1 0 0 1 1 0 2 0 0 0 0 0 1 1 0 0 1 0 0 1 2 1 0 0 2 0 1 0\n",
      " 0 0 0 0 0 0 0 0 2 0 0 0 0 1 2 0 0 1 1 0 0 2 1 0 0 1 0 0 2 0 0 1 0 0 0 1 0\n",
      " 0 1 0 2 2 2 0 2 1 0 1 0 0 2 0 0 0 0 0 1 0 0 0 0 0 0 1 0 0 0 1 2 0 0 1 0 0\n",
      " 2 1 1 2 0 2 0 1 0 1 1 2 0 0 2 2 0 2 0 0 0 0 0 2 2 0 0 0 0 0 0 2 0 2 0 2 0\n",
      " 0 0 0 1 1 0 1 1 1 0 0 1 2 2 0 0 2 1 0 1 1 2 2 1 1 2 1 1 0 2 0 1 0 0 2 1 0\n",
      " 0 1 0 0 2 2 0 0 1 0 1 1 0 1 0 0 0 2 0 2 0 2 0 1 1 0 0 0 1 0 0 2 0 0 1 0 1\n",
      " 0 0 0 1 0 2 1 2 2 0 2 1 1 0 0 0 0 0 2 0 0 2 1 0 2 0 2 0 0 0 2 0 2 0 0 2 1\n",
      " 0 0 1 0 2 2 0 1 2 0 2 2 0 0 0 0 2 2 1 1 0 1 0 0 0 0 2 1 0 0 0 0 0 0 1 0 0\n",
      " 0 1 1 0 1 1 0 0 0 0 0 1 0 1 1 0 2 2 2 0 1 1 0 0 0 0 0 0 0 1 0 2 2 0 2 0 0\n",
      " 2 1 2 1 1 0 1 0 0 0 0 0 1 0 0 0 0 0 0 1 0 0 0 1 0 0 1 0 1 2 1 2 1 0 1 0 2\n",
      " 0 2 0 0 1 0 0 0 1 0 1 2 0 0 2 0 0 1 0 0 0 1 0 0 0 0 1 2 2 2 0 0 1 1 0 0 1\n",
      " 1 2 2 0 0 2 0 2 0 0 1 0 2 2 2 0 1 2 2 1 2 0 2 1 1 2 2 2 0 0 0 0 0 0 0 1 0\n",
      " 1 0 0 0 0 0 1 0 1 0 1 0 1 1 0 0 0 2 0 0 0 2 2 2 0 0 0 0 1 0 0 2 1 2 0 2 0\n",
      " 0 0 1 0 0 2 0 0 0 0 2 0 0 0 0 0 0 1 0 0 0 0 2 0 0 1 2 2 0 0 1 2 2 0 0 0 0\n",
      " 0 0 2 0 0 0 0 0 0 0 0 0 1 1 2 1 0 1 2 0 1 0 0 0 0 0 0 1 0 0 0 1 1 1 1 0 2\n",
      " 0 0 0 2 0 1 0 0 0 0 0 1 2 1 2 0 2 0 1 0 0 2 0 0 0 1 2 1 0 0 1 0 1 2 0 0 2\n",
      " 0 2 2 1 2 0 1 1 1 0 0 0 2 1 0 0 0 0 0 0 0 2 0 1 2 0 0 0 0 2 0 0 1 0 1 2 0\n",
      " 0 1 2 0 2 2 2 0 1 1 2 1 2 0 0 1 0 1 1 0 0 1 0 1 0 0 2 0 2 0 0 0 0 0 0 2 0\n",
      " 0 2 0 1 0 2 0 0 1 1 0 1 1 0 0 0 0 2 2 0 1 1 0 0 0 0 1 0 0 0 2 0 0 1 0 0 0\n",
      " 0 1 2 2 0 0 0 0 0 0 1 0 1 0 0 0 0 0 0 1 0 0 0 0 0 0 0 1 0 0 0 0 1 0 0 0 2\n",
      " 0 0 0 0 2 1 1 0 2 0 1 0 0 1 0 1 2 0 0 0 0 0 0 0 0 0 2 1 0 2 0 1 1 1 2 2 0\n",
      " 1 0 0 0 1 1 0 0 0 0 0 2 0 1 0 0 0 2 1 0 1 2 1 1 0 0 0 2 0 1 0 0 0 0 0 0 1\n",
      " 0 0 0 2 2 0 2 1 2 1 1 0 1 2 0 0 0 0 0 0 0 1 0 2 0 0 2 2 0 2 0 0 0 0 0 2 0\n",
      " 2 1 0 0 0 0 0 0 1 0 0 1 1 1 1 0 0 0 0 1 1 0 0 0 0 1 1 0 2 0 1 0 0 0 0 0 1\n",
      " 2 0 0 0 0 0 0 0 1 2 2 0 0 0 1 0 1 1 0 0 0 0 0 0 2 0 1 1 2 0 0 0 0 0 0 1 0\n",
      " 0 2 1 2 0 0 2 0 0 2 0 1 0 1 0 0 0 2 1 2 2 2 0 0 0 2 1 0 2 2 0 0 2 2 0 0 1\n",
      " 1 0 0 0 1 0 0 1 2 0 1 1 2 0 1 0 0 1 0 0 2 0 0 0 1 0 0 2 0 0 1 1 0 0 2 1 1\n",
      " 2 0 1 0 0 0 0 0 0 0 2 0 0 0 2 1 2 2 2 0 0 2 0 0 1 0 0 1 0 2 0 0 1 0 1 1 0\n",
      " 0 0 1 1 2 0 0 2 0 0 0 2 0 0 0 0 0 2 1 0 0 2 0 0 2 0 1 1 1 2 0 2 0 2 0 0 0\n",
      " 1 0 1 2 0 0 1 0 0 0 0 0 0 0 0 1 0 2 2 1 0 1 0 2 0 0 2 0 2 0 0 2 2 2 0 0 0\n",
      " 2 1 0 0 0 0 0 0 1 1 2 0 0 1 0 2 2 0 0 0 0 0 0 0 0 0 0 0 0 2 0 1 2 2 1 0 0\n",
      " 1 0 1 0 0 0 0 0 2 1 1 2 1 0 1 2 2 0 0 2 1 0 0 0 0 0 1 0 0 1 0 0 2 0 1 2 0\n",
      " 0 1 2 1 2 0 0 0 2 0 0 2 2 2 2 0 2 1 1 1 0 0 0 2 0 2 1 0 0 2 0 0 0 0 2 2 2\n",
      " 0 0 2 2 2 1 0 0 0 0 0 0 1 0 1 1 1 2 0 0 1 0 2 0 0 0 2 1 0 1 0 0 0 1 2 1 0\n",
      " 1 1 0 0 0 0 1 2 2 1 1 0 0 0 0 0 2 1 0 2 0 0 2 1 2 0 2 0 2 0 0 1 2 0 1 0 0\n",
      " 2 0 1 0 0 0 0 0 0 0 2 0 0 2 1 0 0 1 1 2 2 1 2 0 0 0 0 1 0 0 0 0 1 2 1 0 0\n",
      " 0 0 1 1 0 2 1 0 0 1 0 0 0 1 0 0 0 2 1 2 2 2 0 0 1 0 0 0 0 0 2 0 2 0 0 0 0\n",
      " 0 2 0 0 1 0 2 2 0 0 0 0 0 2 0 1 1 0 0 0 1 0 1 0 2 2 1 0 0 0 0 2 0 0 2 2 0\n",
      " 0 0 2 1 0 1 0 0 0 2 2 0 0 2 0 0 0 2 0 0 1 1 1 0 0 0 0 2 0 0 0 2 0 1 2 0 0\n",
      " 1 1 2 2 1 0 0 0 1 0 2 0 0 0 1 1 0 1 2 1 2 0 1 0 0 0 2 0 2 0 1 0 0 1 1 0 1\n",
      " 0 1 0 1 0 2 1 0 1 2 0 0 0 0 1 0 0 1 0 1 0 0 1 0 1 0 1 0 0 1 2 1 0 0 0 0 0\n",
      " 0 0 2 0 0 2 0 2 2 1 0 0 0 0 0 1 0 0 1 0 1 0 0 0 0 2 0 0 0 0 0 0 1 0 1 0 0\n",
      " 0 2 0 1 0 0 0 2 1 1 1 0 0 0 1 1 0 2 2 0 0 1 2 0 0 0 0 0 1 1 2 0 0 0 2 2 0\n",
      " 1 0 0 1 2 2 1 2 0 0 0 0 0 0 0 0 0 0 2 0 2 0 2 2 1 0 2 1 0 1 0 2 1 0 0 1 1\n",
      " 2 0 1 2 1 2 2 0 0 0 0 0 1 0 0 0 1 0 0 0 0 0 0 0 0 0 0 2 1 1 2 2 1 2 0 1 0\n",
      " 1 1 0 1 1 1 2 0 1 0 1 0 2 1 0 0 0 1 0 0 0 2 1 0 1 0 1 0 2 1 0 0 0 0 0 2 0\n",
      " 1 0 0 0 0 0 2 0 0 1 2 2 0 0 0 0 2 1 0 0 1 1 1 2 0 1 1 0 1 0 0 0 0 2 0 0 0\n",
      " 1 0 2 0 2 2 0 1 0 2 0 0 0 2 0 0 0 2 0 0 0 0 2 2 2 1 0 1 0 0 0 1 0 0 2 0 0\n",
      " 2 0 0 0 0 2 2 1 1 0 1 2 0 0 0 1 0 2 1 0 0 2 2 0 0 1 0 2 0 0 2 0 1 1 0 1 0\n",
      " 0 2 0 2 0 2 0 0 0 1 1 0 1 2 0 0 0 1 0 0 0 0 2 1 0 2 1 2 0 1 0 0 0 0 0 0 0\n",
      " 0 2 0 0 0 2 0 2 0 2 0 0 0 1 1 0 0 1 2 0 0 0 1 0 1 0 1 2 0 0 0 1 0 0 0 2 0\n",
      " 1 1 0 2 1 2 2 0 2 0 2 0 0 0 2 0 0 0 0 0 0 0 0 1 0 0 1 0 0 0 0 1 0 1 2 2 1\n",
      " 2 2 0 0 0 2 1 0 1 0 1 1 1 0 2 0 0 1 0 0 0 0 1 0 0 0 0 2 2 0 0 0 0 0 0 2 2\n",
      " 1 0 0 2 0 0 0 1 2 2 1 2 2 0 1 1 1 2 2 2 0 2 1 0 0 1 1 2 0 2 0 0 1 2 0 1 0\n",
      " 1 2 0 1 0 0 0 1 2 0 0 0 0 2 0 0 2 1 2 2 0 1 2 0 1 1 2 0 0 0 0 0 2 0 2 0 2\n",
      " 0 0 0 0 0 0 0 1 0 2 2 0 0 2 0 0 0 0 1 2 0 1 1 2 0 1 0 1 1 0 0 0 0 0 2 0 2\n",
      " 0 0 0 1 0 2 0 2 0 1 2 0 0 2 0 0 1 2 1 1 1 0 0 2 0 2 1 0 0 0 0 0 0 1 0 1 0\n",
      " 1 0 0 2 0 2 0 2 0 1 2 0 0 0 0 0 0 0 1 1 0 0 0 0 0 0 0 0 1 0 2 0 2 0 1 0 1\n",
      " 2 0 0 0 1 0 0 2 0 0 0 1 1 1 0 2 1 0 0 2 0 0 1 2 1 1 0 1 0 2 0 1 1 1 0 1 2\n",
      " 0 2 0 2 0 2 1 0 0 0 2 2 0 0 2 0 0 1 2 1 2 0 0 0 2 2 0 0 0 0 0 1 1 0 2 2 0\n",
      " 0 0 0 0 1 0 0 0 2 0 2 2 2 0 0 0 0 0 0 2 0 0 1 0 0 2 1 2 0 2 0 2 2 0 1 0 0\n",
      " 0 0 1 0 2 0 0 0 0 1 1 2 0 0 0 1 0 0 0 2 1 0 0 2 0 2 0 2 1 0 1 0 0 2 0 1 0\n",
      " 2 2 0 0 1 0 0 0 0 2 0 0 0 0 2 0 0 1 0 1 0 1 2 0 2 0 0 1 0 0 0 0 0 0 0 0 0\n",
      " 1 0 1 0 1 1 0 0 0 2 0 2 2 0 0 1 1 0 2 0 0 2 1 0 2 1 1 0 0 1 2 0 2 0 0 0 0\n",
      " 0 0 0 2 0 0 0 0 1 1 0 1 1 0 0 0 0 2 0 0 0 1 0 2 1 1 2 0 1 0 1 0 0 2 1 2 0\n",
      " 0 1 0 1 0 1 0 1 0 0 1 2 0 2 0 0 0 0 0 1 0 0 0 2 0 0 1 0 2 0 0 1 2 1 2 0 1\n",
      " 2 0 2 0 0 2 1 0 0 2 0 0 0 2 0 0 0 0 2 2 1 0 0 0 0 0 0 0 0 0 0 0 0 1 0 0 0\n",
      " 0 0 1 0 2 2 2 2 2 0 0 0 0 0 0 0 0 1 0 2 1 0 0 2 2 0 0 1 0 0 1 0 2 0 0 0 0\n",
      " 2 0 1 1 0 0 0 2 1 0 0 1 2 1 1 0 1 2 0 0 0 2 0 0 0 2 0 0 2 0 2 2 1 0 0 0 0\n",
      " 1 0 0 0 0 0 2 0 1 2 1 2 0 1 2 0 1 0 2 0 0 0 1 1 0 1 0 1 0 2 1 1 0 0 0 0 1\n",
      " 0 2 0 0 1 2 1 0 0 1 1 1 0 0 0 0 0 0 0 1 0 0 2 0 0 0 1 2 1 0 0 0 0 1 0 2 0\n",
      " 2 1 1 0 1 0 1 1 2 0 0 0 1 0 0 0 2 2 1 1 0 0 0 1 0 0 1 1 0 2 2 0 0 2 0 1 0\n",
      " 1 1 1 2 1 0 1 0 0 2 0 0 1 2 0 1 0 2 0 0 0 0 0 1 0 0 1 1 0 0 0 0 0 2 1 0 1\n",
      " 1 0 0 1 0 0 1 2 2 0 1 0 0 2 0 0 0 0 0 0 2 0 1 0 2 1 0 0 0 2 1 0 0 0 1 0 0\n",
      " 0 0 0 0 0 1 0 0 2 0 2 0 0 0 1 2 0 0 2 0 0 2 2 0 2 1 0 0 0 2 0 0 1 2 2 2 0\n",
      " 1 0 0 0 0 0 0 0 0 1 1 0 0 0 0 0 2 0 0 0 0 2 2 0 0 0 0 0 0 1 0 0 2 1 0 0 0\n",
      " 0 0 1 0 1 0 2 1 1 0 0 0 1 0 0 1 0 1 0 0 1 2 0 0 2 2 0 2 1 0 0 0 0 2 0 0 0\n",
      " 0 0 2 0 1 2 1 0 0 1 0 0 2 0 2 1 0 0 0 0 1 1 0 1 0 0 0 0 1 0 0 2 0 0 2 0 0\n",
      " 0 1 0 0 2 1 0 1 0 0 0 2 0 1 2 0 2 0 0 0 1 2 1 0 1 1 0 1 0 0 0 1 1 0 0 0 0\n",
      " 2 0 0 1 2 2 0 1 1 0 0 0 2 1 0 2 0 0 0 2 1 2 2 0 0 1 1 0 1 2 0 1 0 2 0 1 1\n",
      " 2 0 2 2 1 1 2 2 2 1 0 0 1 0 0 0 0 2 1 0 0 1 2 1 1 0 0 0 0 0 2 0 0 0 0 0 2\n",
      " 1 2 1 1 2 0 0 0 0 0 1 0 0 1 0 1 0 2 2 0 1 0 0 1 1 2 0 0 0 1 0 0 2 0 1 1 1\n",
      " 2 0 0 0 1 0 0 1 1 0 2 0 0 2 1 1 0 1 2 0 0 1 2 2 1 0 0 0 1 0 2 0 0 0 0 2 0\n",
      " 0 1 2 0 0 0 0 0 1 2 1 0 0 1 0 2 0 0 2 1 2 2 2 0 1 0 0 2 0 1 0 1 0 0 2 0 1\n",
      " 2 0 0 1 1 0 0 0 1 0 0 2 0 0 0 0 0 2 1 2 0 0 0 2 1 2 0 0 2 0 0 2 0 0 0 1 0\n",
      " 0 1 0 0 1 1 0 1 0 0 0 1 0 0 1 0 0 1 0 2 1 0 0 0 0 1 0 1 0 0 1 1 2 0 0 2 2\n",
      " 0 0 2 2 1 1 1 0 0 0 0 0 2 2 0 0 1 1 2 0 0 0 0 1 0 1 0 1 0 1 0 2 2 1 1 1 0\n",
      " 0 0 1 2 1 1 0 0 1 1 0 0 2 2 0 0 1 0 2 0 0 1 0 1 0 1 0 0 2 1 0 0 0 0 0 0 0\n",
      " 0 2 0 0 1 2 0 0 2 1 2 0 1 0 0 0 0 2 0 0 1 0 1 2 1 0 0 2 1 1 2 0 2 0 0 0 1\n",
      " 0 0 0 0 0 0 0 0 1 0 0 0 2 2 2 1 1 0 0 0 0 2 0 0 0 0 2 2 0 0 0 1 2 1 0 1 0\n",
      " 0 2 0 2 0 2 1 0 0 2 0 1 2 1 1 0 1 2 1 1 2 0 0 1 0 0 2 1 0 1 1 0 0 1 0 0 2\n",
      " 0 0 1 1 0 2 0 2 2 1 2 2 0 0 0 0 2 0 0 0 1 0 1 2 2 0 2 0 0 0 0 2 1 1 1 2 0\n",
      " 0 0 0 0 1 0 0 2 1 0 1 2 0 0 1 2 2 1 2 0 0 0 0 0 0 1 0 0 2 1 0 0 1 0 0 0 0\n",
      " 0 0 1 1 0 0 1 2 2 1 0 0 0 0 1 0 1 0 0 0 0 1 2 0 1 1 0 0 0 2 0 1 1 0 0 0 0\n",
      " 0 2 1 0 1 1 0 0 2 2 0 2 1 0 1 0 0 0 0 2 1 0 1 2 2 2 2 2 2 1 0 0 2 0 0 0 0\n",
      " 0 2 1 1 0 2 0 0 1 1 0 1 0 0 0 2 0 2 0 2 0 0 2 0 0 2 0 0 2 0 0 1 0 0 0 0 2\n",
      " 0 0 0 0 2 2 1 0 2 2 0 1 2 1 0 2 0 1 0 2 0 0 0 0 1 0 2 2 0 0 1 0 2 1 0 0 1\n",
      " 0 0 2 0 0 1 0 1 2 0 0 0 0 0 0 1 1 0 0 0 0 1 0 0 0 0 0 0 1 1 2 0 2 2 0 1 0\n",
      " 2 2 1 1 0 1 0 1 0 1 0 0 0 0 1 0 0 0 0 0 2 1 0 0 1 0 0 0 0 2 1 1 0 0 1 0 1\n",
      " 0 0 2 0 0 0 1 0 0 1 2 0 0 2 2 1 1 0 2 0 0 1 0 0 1 2 0 2 2 0 0 0 1 0 0 1 1\n",
      " 2 1 0 2 0 2 1 2 0 1 0 0 0 0 1 0 2 1 2 0 2 0 2 0 0 0 0 0 0 0 0 1 0 0 2 0 0\n",
      " 2 1 0 0 2 0 1 0 0 0 0 0 0 1 0 0 0 0 0 2 0 0 2 0 0 0 0 0 1 0 0 0 2 0 0 2 2\n",
      " 2 0 0 1 0 0 0 0 1 1 0 0 0 0 0 0 2 0 0 0 0 0 2 0 0 0 0 0 0 0 0 0 1 0 0 1 0\n",
      " 1 2 0 2 1 0 0 1 1 0 0 0 1 2 0 0 0 0 0 0 0 0 0 0 0 1 2 1 1 1 0 0 0 0 0 2 0\n",
      " 0 1 0 2 1 1 0 0 0 1 1 0 2 0 0 2 0 1 1 0 2 0 1 1 2 0 0 0 0 1 2 0 0 0 2 0 1\n",
      " 0 0 2 1 2 1 1 0 2 1 0 0 1 0 1 2 1 1 0 1 1 2 0 1 0 0 1 2 2 1 1 2 0 2 0 0 0\n",
      " 2 0 0 2 2 1 2 0 0 0 1 0 0 0 2 2 1 1 2 0 2 0 1 0 1 1 0 0 0 1 0 1 0 0 0 2 0\n",
      " 1 2 0 1 1 2 1 2 2 0 1 1 0 1 0 0 1 0 0 2 2 2 1 0 0 2 0 1 0 0 2 0 0 0 0 0 0\n",
      " 1 0 1 1 0 2 0 1 0 2 0 1 0 0 0 0 0 0 2 0 2 2 0 0 0 0 0 2 0 0 2 0 0 0 0 0 0\n",
      " 1 0 0 2 0 1 1 0 2 1 2 0 0 0 0 0 2 0 2 1 0 0 0 1 0 0 2 2 0 0 2 2 2 0 1 0 0\n",
      " 2 0 0 1 2 0 2 2 2 1 0 1 0 0 0 0 0 1 0 0 0 0 0 2 0 1 2 1 0 2 2 2 0 2 0 1 1\n",
      " 0 0 2 1 0 2 2 0 1 0 0 0 0 0 2 1 2 1 0 2 0 1 1 0 2 2 2 0 0 0 2 0 2 0 1 2 2\n",
      " 0 0 1 2 0 0 0 1 0 0 0 2 1 0 0 1 2 0 0 0 0 0 2 1 1 0 0 0 0 0 1 1 1 0 0 0 1\n",
      " 1 0 0 0 0 0 0 0 0 0 1 0 0 0 1 2 0 1 0 0 1 0 2 0 0 0 1 0 2 1 2 1 2 0 2 0 0\n",
      " 0 1 0 1 1 0 0 2 2 2 2 0 0 2 1 2 0 0 0 0 0 1 0 2 1 2 1 0 0 0 0 2 1 0 2 1 2\n",
      " 0 0 0 2 0 0 0 1 0 2 2 0 2 0 0 0 0 0 2 1 0 0 0 0 2 2 1 0 1 1 0 0 0 0 0 1 1\n",
      " 0 2 2 1 2 2 0 0 0 0 0 0 0 2 0 0 0 1 0 2 2 2 0 1 0 0 1 0 1 2 1 1 0 2 1 2 1\n",
      " 1 1 0 0 0 0 0 0 0 0 1 1 1 0 1 0 1 1 1 0 0 0 0 0 0 0 0 1 0 0 1 1 1 0 2 1 0\n",
      " 0 0 0 2 0 0 0 1 0 0 0 1 1 2 2 0 0 0 1 0 2 1 0 2 2 0 0 0 0 0 0 0 2 0 2 0 0\n",
      " 1 1 2 0 0 0 0 0 2 0 2 0 0 0 0 0 0 1 0 0 0 2 2 0 0 0 0 1 0 0 1 2 0 0 0 1 0\n",
      " 0 1 0 2 0 1 0 0 0 0 0 2 1 0 0 2 2 0 1 1 2 1 0 0 0 1 0 0 0 0 1 0 2 0 0 0 2\n",
      " 0 1 2 0 0 0 0 0 0 1 0 0 0 0 0 0 0 0 2 0 0 2 1 0 0 0 1 1 1 0 0 1 0 1 0 0 1\n",
      " 1 0 0 0 0 0 0 2 1 0 2 0 2 2 0 1 1 2 1 2 2 0 0 0 0 0 2 2 2 0 0 2 0 1 1 0 0\n",
      " 1 0 0 0 0 1 2 0 2 2 0 1 1 0 0 1 0 1 0 2 0 1 2 0 0 0 1 0 1 0 0 2 1 0 0 0 0\n",
      " 1 1 0 0 2 2 0 2 0 0 0 1 0 0 2 0 0 0 2 2 2 1 0 1 0 1 1 2 0 2 0 1 0 0 1 0 0\n",
      " 0 0 2 2 0 0 1 0 0 2 2 1 0 1 2 0 0 1 0 1 0 2 0 0 0 2 0 2 1 0 0 2 0 0 2 0 0\n",
      " 1 0 2 0 2 0 2 2 0 0 2 2 0 1 0 1 0 0 1 0 0 0 1 0 1 0 0 1 1 0 1 0 0 0 2 0 1\n",
      " 0 1 0 0 1 0 2 0 0 1 2 2 2 2 2 0 0 0 0 2 0 0 1 1 1 1 0 2 1 2 0 0 2 0 0 1 0\n",
      " 0 0 0 2 1 0 2 1 1 2 0 1 0 0 1 0 0 2 2 0 1 2 0 0 2 0 1 1 0 2 2 0 0 0 2 0 0\n",
      " 1 2 1 0 0 0 1 2 0 0 1 1 0 0 0 0 0 1 1 0 2 2 0 0 0 0 0 0 2 1 0 1 0 0 1 0 2\n",
      " 0 2 2 0 0 0 0 1 1 2 1 2 1 0 0 0 0 0 1 2 0 1 0 2 2 0 0 1 0 0 0 0 1 0 1 1 0\n",
      " 1 0 2 2 0 1 0 1 1 2 0 0 2 2 2 0 2 0 0 0 2 0 1 0 0 0 2 1 2 0 0 0 0 0 0 2 2\n",
      " 0 1 2 2 0 0 0 1 0 2 0 0 1 0 0 0 1 2 0 0 0 0 0 2 0 1 0 0 0 0 2 0 0 1 1 2 2\n",
      " 2 0 0 0 1 2 1 0 0 2 0 1 1 0 0 0 2 2 0 0 0 0 2 0 2 1 2 0 1 0 0 0 0 0 2 2 1\n",
      " 0 0 0 0 0 1 2 1 0 0 0 0 2 0 2 0 1 1 0 0 0 0 0 1 2 0 2 1 2 0 1 0 0 0 0 0 0\n",
      " 0 1 0 2 0 1 1 0 0 2 2 0 2 0 2 0 0 0 1 0 0 2 0 0 2 0 1 0 0 1 0 0 2 0 0 0 0\n",
      " 1 2 0 2 0 0 0 0 1 0 0 0 0 0 0 2 0 0 0 0 0 2 2 1 2 1 1 1 0 1 1 2 0 1 0 0 1\n",
      " 2 1 1 2 0 1 0 2 1 0 0 1 0 0 0 0 1 2 0 1 0 1 0 0 2 1 2 1 1 1 1 0 0 0 0 2 0\n",
      " 2 1 0 0 0 0 1 0 0 0 0 2 0 0 0 0 0 0 0 2 1 0 0 0 1 0 0 0 0 0 0 0 0 1 0 1 2\n",
      " 0 2 0 0 1 2 0 0 2 0 0 1 2 0 0 0 0 0 2 0 0 1 2 0 1 2 1 0 0 2 0 0 0 0 0 0 1\n",
      " 0 2 1 0 0 0 1 0 2 2 2 0 0 0 1 0 0 1 0 0 0 2 0 1 0 1 1 0 0 2 0 2 0 2 1 2 2\n",
      " 0 0 2 1 0 1 2 2 0 0 0 2 0 2 0 2 0 2 0 1 2 2 0 1 0 1 0 0 2 2 0 2 0 1 0 0 1\n",
      " 0 1 2 0 1 2 2 1 2 2 1 0 2 1 0 1 0 0 0 0 0 2 1 0 0 1 1 0 0 1 1 1 0 0 0 1 0\n",
      " 0 0 2 2 1 0 2 1 0 2 1 0 0 2 2 0 0 0 0 0 0 2 0 0 0 1 0 1 0 2 0 1 0 1 0 0 0\n",
      " 1 1 0 0 0 0 0 2 0 1 2 2 2 0 2 0 2 2 0 2 2 0 0 1 0 1 2 1 0 2 0 0 2 0 1 2 1\n",
      " 0 0 0 1 2 0 0 0 1 2 2 0 0 0 1 0 1 1 1 0 0 0 1 0 0 2 2 0 2 0 2 0 1 0 0 0 1\n",
      " 0 2 0 1 1 0 2 2 1 0 0 1 1 0 1 0 1 0 0 0 0 1 0 0 0 0 0 0 0 0 1 0 0 0 0 2 2\n",
      " 2 0 0 0 1 0 2 1 0 1 1 2 0 0 1 2 0 0 0 1 2 0 2 1 0 0 1 0 1 0 0 2 0 2 1 2 0\n",
      " 1 0 0 0 2 1 0 1 0 2 0 0 0 1 0 2 2 1 0 0 0 0 0 2 1 0 2 1 0 0 0 0 0 0 0 0 0\n",
      " 0 1 0 2 0 2 0 0 0 0 2 1 1 2 0 0 2 0 0 1 0 2 1 0 0 2 0 0 0 0 0 0 0 1 0 2 1\n",
      " 1 0 1 1 2 2 0 2 0 0 1 0 0 0 1 1 0 0 1 2 0 0 0 0 0 0 0 0 2 0 0 1 0 0 2 0 0\n",
      " 2 2 1 0 0 1 0 2 1 0 2 2 0 0 2 1 1 2 0 0 0 2 0 0 0 0 2 0 0 2 1 1 0 1 2 0 0\n",
      " 1 2 0 0 0 0 0 2 1 0 0 0 0 2 1 0 0 1 1 0 0 1 0 0 0 1 1 0 0 0 1 2 2 0 1 0 0\n",
      " 1 1 1 0 2 0 0 2 0 1 0 2 1 0 1 0 0 2 2 0 0 0 0 0 0 0 1 0 0 0 0 0 0 0 0 1 0\n",
      " 1 2 0 0 0 0 0 1 2 0 0 2 1 0 0 0 1 1 1 2 0 0 1 0 0 1 1 2 1 0 0 0 2 0 2 2 0\n",
      " 0 0 0 0 0 0 2 0 1 0 0 0 1 0 0 0 1 0 0 0 2 0 0 1 0 1 0 0 2 1 2 2 0 0 0 2 1\n",
      " 0 0 2 2 0 2 1 2 0 0 0 0 0 2 2 0 0 2 0 1 0 2 0 0 0 0 1 1 0 0 0 0 1 0 0 0 0\n",
      " 0 1 1 0 2 2 2 0 0 1 0 0 0 1 0 2 0 1 2 2 0 0 0 0 0 0 0 0 1 2 0 2 0 0 1 0 0\n",
      " 2 0 2 0 1 2 1 1 0 1 0 0 2 1 0 0 0 0 0 2 0 2 0 0 1 0 1 0 1 0 1 2 1 2 1 1 1\n",
      " 2 1 1 1 1 0 2 0 0 0 1 0 1 0 2 0 0 0 2 0 0 0 2 0 0 0 0 0 0 0 0 2 0 1 0 0 0\n",
      " 0 0 2 2 0 0 0 0 0 0 2 0 0 1 2 2 0 2 0 0 1 0 0 1 2 0 0 1 2 0 0 1 0 2 0 0 3\n",
      " 0 1 0 2 0 0 0 2 2 0 2 0 2 2 2 0 1 2 0 1 0 0 1 0 1 0 1 0 0 2 0 0 1 0 2 0 0\n",
      " 0 0 1 1 0 2 0 0 0 1 0 0 1 0 0 0 2 1 0 2 1 1 2 2 1 1 1 0 0 0 1 0 0 0 0 0 0\n",
      " 2 0 2 0 1 0 1 2 0 0 1 1 1 0 1 0 2 1 0 2 2 0 2 0 0 0 2 1 0 1 2 1 1 2 0 0 0\n",
      " 2 0 0 0 2 1 0 0 0 1 0 0 0 0 0 2 1 0 0 1 2 1 2 0 1 0 0 0 0 0 0 0 0 0 0 2 0\n",
      " 0 0 1 0 2 2 0 0 2 1 0 1 2 1 1 2 1 0 0 0 2 1 2 2 1 0 0 0 0 2 0 2 0 0 0 1 2\n",
      " 0 0 0 0 0 1 0 0 2 2 0 0 0 0 0 0 2 0 0 0 1 2 0 0 0 0 0 0 1 0 0 0 0 2 1 2 1\n",
      " 0 0 0 0 0 0 0 0 0 2 0 1 0 2 2 0 0 1 0 1 0 0 0 0 2 0 0 1 0 1 0 0 2 0 2 0 1\n",
      " 2 0 0 2 2 0 0 0 0 0 2 0 0 0 1 2 0 0 0 0 2 2 2 2 0 0 1 0 1 1 0 2 0 0 0 1 0\n",
      " 0 2 0 1 0 0 1 1 0 1 2 0 2 0 1 2 2 2 0 0 0 0 1 2 0 0 0 0 0 1 0 0 0 1 0 2 0\n",
      " 0 2 1 1 1 0 1 2 0 0 0 0 1 0 0 0 0 2 1 1 0 0 2 2 0 2 0 0 0 0 0 1 0 2 0 1 0\n",
      " 2 0 0 0 0 0 2 1 0 0 0 0 1 0 1 0 0 0 0 2 0 2 0 0 1 0 1 0 2 0 1 0 2 0 0 1 1\n",
      " 1 0 0 0 0 0 1 0 1 1 0 2 2 0 0 0 2 0 0 2 1 0 0 0 1 0 1 1 0 0 0 0 1 0 0 0 0\n",
      " 1 0 0 0 0 0 2 1 0 0 0 1 0 1 2 2 2 0 1 0 0 0 0 0 0 0 0 0 2 2 0 0 0 0 0 0 0\n",
      " 2 0 2 0 0 0 1 2 1 0 0 1 0 0 0 0 0 1 2 0 1 0 0 0 0 1 0 0 1 1 2 2 2 1 2 0 0\n",
      " 0 0 1 1 0 2 2 0 0 2 2 1 2 2 0 1 0 0 0 1 1 0 2 0 0 1 0 0 0 0 0 0 2 0 1 0 0\n",
      " 0 2 0 0 0 0 0 1 0 0 0 2 0 0 2 2 0 0 0 2 0 2 2 1 0 0 0 0 0 0 1 0 2 0 0 1 0\n",
      " 0 0 0 0 0 1 0 0 0 1 0 1 0 0 1 2 0 1 0 0 0 0 0 1 0 0 0 0 0 1 1 2 0 0 0 0 1\n",
      " 0 0 0 2 0 0 1 2 0 0 2 0 0 0 2 0 2 1 2 2 0 0 1 0 0 1 0 2 0 0 2 0 0 0 1 0 1\n",
      " 1 2 0 0 0 0 2 1 0 0 2 2 0 0 0 0 0 0 0 0 1 2 2 0 1 1 2 0 0 0 0 1 2 0 0 2 0\n",
      " 1 0 0 1 1 0 0 0 0 0 0 1 0 0 2 2 0 0 0 0 0 1 0 1 1 1 0 1 1 0 0 1 0 0 1 0 1\n",
      " 0 0 1 0 1 2 0 0 0 1 0 0 2 2 2 1 0 0 1 0 0 1 0 0 0 2 2 2 2 1 0 0 0 0 0 0 0\n",
      " 2 0 0 1 2 2 0 1 0 0 0 0 0 2 1 0 0 0 1 1 2 1 0 2 1 1 1 0 0 2 2 1 0 0 0 2 0\n",
      " 1 0 0 0 2 2 1 0 0 0 1 1 1 0 0 0 0 0 0 1 1 0 0 1 0 0 0 0 2 1 0 0 0 0 1 2 0\n",
      " 1 2 2 0 1 2 0 1 0 0 1 0 0 1 0 0 1 1 1 0 2 1 1 0 1 0 2 0 0 0 1 0 0 0 1 1 1\n",
      " 0 2 1 0 1 1 2 1 0 0 0 0 2 0 0 1 0 0 2 1 0 1 0 0 0 0 1 2 0 0 0 0 0 0 1 0 0\n",
      " 2 0 2 2 0 1 1 2 1 0 1 2 0 0 1 0 0 0 0 0 0 2 2 0 2 0 0 2 0 0 2 0 0 2 0 1 2\n",
      " 0 1 1 2 2 0 0 0 0 2 2 2 0 0 2 0 2 0 2 1 1 0 0 0 0 0 0 0 1 1 2 1 0 0 0 2 0\n",
      " 1 1 1 0 0 1 0 0 0 2 0 2 2 0 0 0 0 0 0 0 0 0 0 0 2 1 0 1 2 0 1 1 0 0 0 0 0\n",
      " 0 0 2 1 2 0 2 2 0 2 0 0 0 1 0 0 0 2 0 2 1 1 1 0 1 0 0 2 0 0 0 1 0 1 0 0 2\n",
      " 0 1 1 0 1 0 0 2 2 0 0 1 0 1 0 1 0 2 1 2 0 0 0 0 0 1 2 1 0 0 0 0 0 0 1 0 0\n",
      " 1 2 0 2 1 0 0 0 0 0 2 0 0 0 1 0 2 0 0 0 0 1 2 0 2 0 2 0 0 0 0 1 1 1 0 0 0\n",
      " 0 1 0 1 0 0 0 2 1 0 0 0 0 0 0 0 0 0 1 0 0 1 2 0 2 0 0 2 0 1 0 0 2 0 0 2 2\n",
      " 1 0 0 0 0 2 0 0 0 2 0 1 0 0 2 2 0 0 0 0 0 1 0 0 0 0 0 2 1 0 0 0 0 0 0 1 0\n",
      " 1 2 1 1 0 0 0 0 0 1 1 0 1 1 0 0 0 2 0 0 1 0 0 2 1 1 1 0 0 1 0 0 0 1 0 2 0\n",
      " 0 1 1 0 0 1 0 0 0 0 0 2 0 0 1 2 0 0 0 0 1 0 0 0 0 2 0 0 1 2 2 1 1 0 0 1 0\n",
      " 2 0 2 0 1 2 0 0 2 0 1 1 0 1 0 0 0 0 0 0 2 0 2 1 2 0 1 2 0 1 2 0 1 0 0 0 0\n",
      " 2 0 1 0 0 0 0 2 0 0 0 0 2 1 2 0 2 0 2 1 0 0 0 2 1 0 0 0 0 0 1 0 0 1 2 1 0\n",
      " 1 0 1 0 1 0 1 0 0 2 2 2 2 0 1 1 1 2 0 2 0 0 0 1 1 1 0 2 0 0 0 1 1 2 0 0 0\n",
      " 0 0 0 0 0 0 0 0 2 1 0 1 2 0 0 0 1 0 0 2 0 0 2 0 1 1 1 0 0 0 0 0 1 1 1 2 0\n",
      " 0 2 0 2 0 0 0 1 0 2 0 1 0 0 0 0 2 2 0 2 1 1 0 1 0 0 0 0 0 0 0 2 0 0 1 0 0\n",
      " 1 2 0 2 0 0 0 0 1 0 0 0 0 0 0 0 0 0 0 0 1 0 0 0 0 0 0 2 0 0 0 0 1 1 0 0 1\n",
      " 0 0 2 0 2 0 2 1 2 1 2 0 0 1 1 2 0 1 0 0 0 0 0 2 0 1 0 1 2 0 2 0 1 2 2 0 0\n",
      " 2 2 1 1 1 2 2 2 0 0 0 2 1 2 0 0 2 2 1 0 2 0 2 2 0 0 1 2 0 1 2 0 2 0 0 0 0\n",
      " 0 1 0 0 0 1 1 0 2 0 2 1 2 0 0 2 0 1 0 2 0 0 0 0 0 0 2 0 0 1 0 0 0 0 0 2 1\n",
      " 1 0 0 0 0 0 2 2 1 1 2 1 1 1 0 1 0 1 0 2 0 0 0 0 1 0 1 0 0 0 0 0 0 1 0 1 1\n",
      " 0 0 0 1 0 1 0 1 0 0 2 2 1 1 0 2 0 0 0 2 1 2 0 1 0 2 0 1 0 2 0 2 0 2 0 2 0\n",
      " 2 0 0 0 2 0 2 0 1 0 0 2 2 1 1 1 1 0 0 1 2 1 2 0 0 1 0 0 0 0 0 2 0 0 2 1 2\n",
      " 0 0 0 1 2 0 0 0 2 1 2 2 1 0 0 2 2 1 0 1 0 1 2 0 1 0 0 0 2 2 0 1 2 2 1 1 0\n",
      " 1 1 0 1 2 0 0 0 0 2 0 0 0 1 0 2 2 2 1 1 1 0 0 0 0 1 1 0 1 2 2 2 1 0 0 0 1\n",
      " 0 0 0 0 1 1 0 0 0 1 0 1 0 1 0 0 1 2 1 0 0 1 0 0 0 0 2 0 0 0 0 1 2 0 0 0 0\n",
      " 2 0 0 1 2 0 0 0 0 0 1 0 2 0 0 0 1 2 0 0 2 1 0 1 0 1 0 0 0 1 1 1 2 0 2 1 1\n",
      " 1 0 0 0 0 0 1 2 2 2 0 0 0 0 0 0 0 1 1 0 2 1 1 0 0 2 2 2 0 0 1 1 0 2 2 2 1\n",
      " 0 0 1 0 2 0 0 2 0 0 2 2 1 1 1 0 2 0 1 0 2 0 0 2 0 2 1 2 1 1 1 0 0 2 0 0 2\n",
      " 1 0 0 0 0 0 0 1 2 0 0 1 0 0 2 2 0 0 2 2 3 1 2 0 0 0 0 1 0 2 1 1 0 0 0 2 0\n",
      " 2 1 1 0 0 0 2 0 0 2 2 0 0 0 2 2 0 0 0 0 0 2 0 1 2 0 1 1 0 0 0 2 0 1 1 1 0\n",
      " 2 0 0 0 1 0 0 0 0 0 0 0 0 2 1 0 0 0 0 2 0 0 0 2 0 1 1 0 1 0 0 1 0 0 0 1 1\n",
      " 1 2 2 0 0 0 0 1 0 0 0 0 1 2 0 0 0 0 1 0 0 0 0 2 1 0 1 1 0 0 0 1 0 0 0 0 0\n",
      " 0 2 2 1 0 0 1 0 0 0 2 1 0 0 0 0 1 2 0 0 0 1 2 2 0 0 1 1 0 3 0 0 2 2 0 1 0\n",
      " 0 0 1 2 0 0 0 0 0 0 0 0 1 2 1 0 0 2 2 0 0 2 1 2 1 1 0 1 1 0 1 2 0 0 2 0 0\n",
      " 0 2 2 1 1 0 2 2 1 0 0 0 1 0 2 1 0 0 0 1 0 0 0 0 0 0 0 0 2 0 0 1 2 0 1 0 1\n",
      " 0 1 1 0 0 0 0 2 0 0 2 0 0 0 0 0 2 1 1 0 0 1 0 0 0 1 0 1 2 1 1 0 0 0 0 0 2\n",
      " 1 1 0 2 0 2 1 0 0 2 1 0 0 0 2 0 1 0 1 0 2 0 0 2 0 0 0 1 0 0 2 0 0 1 0 0 0\n",
      " 0 2 2 0 0 0 2 0 0 0 0 0 0 1 0 1 1 0 0 0 1 1 0 1 0 1 0 2 0 1 1 1 0 0 2 0 2\n",
      " 1 0 2 0 2 0 0 1 0 0 0 1 0 0 2 1 2 0 0 0 0 1 1 0 1 2 1 1 0 2 0 1 0 1 0 2 1\n",
      " 2 2 0 0 0 0 1 2 0 0 0 0 1 1 0 0 0 0 0 0 1 2 2 0 0 0 0 2 0 2 2 1 0 0 0 0 0\n",
      " 0 0 0 2 2 0 0 0 0 0 0 0 0 0 2 0 0 1 0 0 2 0 0 2 2 0 0 0 0 1 0 1 0 0 0 0 1\n",
      " 1 0 1 2 1 0 0 0 1 0 0 0 1 0 0 1 2 1 0 2 0 1 2 1 1 0 2 0 0 1 0 0 0 0 2 0 0\n",
      " 0 0 0 1 1 0 0 0 1 2 2 0 1 2 0 0 1 0 0 0 0 0 0 0 2 0 0 2 0 0 0 2 1 1 0 1 0\n",
      " 0 0 1 2 0 2 0 0 2 0 0 2 1 0 0 0 0 2 0 2 0 0 2 1 0 2 2 0 0 1 2 0 1 0 2 2 2\n",
      " 0 0 1 0 1 2 0 2 1 1 0 0 1 2 0 1 1 0 0 1 0 1 0 0 2 0 2 0 1 1 1 0 1 0 0 2 0\n",
      " 1 0 0 2 0 0 0 0 1 2 0 0 0 1 2 0 0 0 1 2 0 1 0 2 1 0 2 1 0 0 2 0 0 2 2 2 1\n",
      " 0 1 0 0 0 1 0 2 0 0 1 0 0 0 1 0 2 1 0 1 0 1 0 0 0 2 0 1 0 1 0 0 2 1 2 1 0\n",
      " 2 0 0 0 2 1 1 2 0 1 0 0 2 0 2 1 0 2 0 0 0 1 1 0 1 1 0 0 0 1 1 1 0 0 0 0 0\n",
      " 0 0 0 2 2 1 0 0 2 0 0 0 0 0 2 1 0 0 0 0 0 0 0 2 0 0 1 0 1 2 0 0 1 0 0 0 2\n",
      " 0 2 0 0 0 2 0 0 0 2 1 0 0 0 1 0 0 0 0 1 0 0 0 1 0 0 0 0 1 2 0 1 2 0 0 1 1\n",
      " 0 2 2 0 0 2 0 1 1 1 0 2 0 0 0 0 0 2 0 0 0 0 0 1 0 1 0 0 2 2 0 2 1 1 0 0 0\n",
      " 0 0 0 1 0 0 1 0 0 0 2 0 2 1 0 1 1 1 0 0 0 2 1 0 1 0 2 2 2 0 0 0 0 0 2 2 1\n",
      " 0 1 2 0 0 0 0 0 1 0 0 1 0 0 1 0 2 0 0 0 1 2 0 1 2 1 0 2 0 0 2 2 0 2 2 0 0\n",
      " 1 2 2 2 1 0 1 0 0 2 1 0 2 2 1 0 0 0 1 0 1 0 0 2 1 0 0 0 2 1 0 0 2 0 2 0 0\n",
      " 0 0 0 1 0 0 1 0 0 0 0 0 1 1 0 0 1 1 0 0 0 0 1 0 0 1 2 0 2 0 0 2 0 1 1 0 2\n",
      " 0 0 1 0 2 0 0 1 0 1 0 1 0 0 2 2 2 2 1 0 1 1 0 1 0 0 0 0 0 2 2 1 2 2 0 2 0\n",
      " 1 1 0 0 0 1 2 1 1 2 0 1 0 2 0 0 0 0 0 0 0 1 0 0 0 1 0 1 1 0 2 1 0 1 0 0 2\n",
      " 0 2 0 1 0 1 0 0 0 0 0 0 0 0 2 0 0 0 1 1 1 0 1 2 0 2 0 0 0 0 2 1 0 0 0 0 0\n",
      " 0 2 0 0 0 2 0 0 0 1 0 0 2 0 0 2 0 0 1 0 1 0 0 0 2 1 0 0 2 0 0 1 2 2 1 1 0\n",
      " 0 0 0 0 0 2 0 0 0 1 0 2 1 1 0 0 2 0 0 0 1 1 1 2 1 0 0 0 0 1 2 1 0 2 0 0 0\n",
      " 0 1 0 0 0 0 2 0 2 1 0 0 0 0 0 1 0 0 1 2 0 1 0 0 0 1 0 0 0 2 0 0 1 0 2 0 1\n",
      " 0 0 0 0 0 0 0 0 1 0 0 0 0 0 2 0 2 0 0 2 1 1 0 1 2 1 1 2 2 1 1 0 0 1 0 0 0\n",
      " 0 2 0 0 0 2 0 2 1 0 2 2 0 1 0 1 0 0 2 0 1 2 1 1 0 0 0 0 0 0 0 0 0 2 1 0 1\n",
      " 0 0 0 1 2 0 0 0 2 0 1 0 0 2 0 1 1 1 0 1 0 2 1 2 2 0 2 2 0 0 0 1 0 0 0 0 0\n",
      " 0 0 0 0 2 2 1 1 0 1 0 0 2 0 0 0 0 0 2 0 0 2 0 0 0 1 1 0 0 0 0 0 1 0 1 2 0\n",
      " 0 1 2 0 0 0 1 1 2 0 0 1 0 0 0 0 2 0 0 1 0 1 0 0 0 0 1 1 0 0 2 0 0 1 1 0 2\n",
      " 0 0 1 1 0 1 0 0 2 0 2 2 1 2 2 0 0 2 0 0 1 0 0 0 1 0 2 0 1 2 2 1 2 0 0 0 0\n",
      " 0 1 0 0 0 2 0 1 1 0 0 2 1 2 0 0 0 1 0 0 0 0 0 0 0 0 2 0 1 2 1 0 2 2 0 1 0\n",
      " 1 0 0 1 0 1 0 2 0 0 0 0 0 0 0 0 0 1 0 0 0 0 0 2 0 0 0 0 0 0 0 0 0 0 0 0 1\n",
      " 1 0 2 0 0 1 1 1 1 0 1 0 1 0 0 0 0 2 0 0 0 1 2 0 0 1 0 1 0 0 0 0 1 2 0 0 0\n",
      " 0 1 2 0 1 0 0 0 2 1 0 0 0 1 0 1 1 0 0 1 2 1 0 2 2 2 0 2 0 0 0 1 0 0 0 0 2\n",
      " 0 2 0 1 0 2 1 0 0 1 0 0 0 0 1 0 1 0 1 0 0 0 2 1 1 0 0 0 1 2 0 2 2 1 0 0 0\n",
      " 0 0 1 0 1 2 0 1 2 0 0 1 2 1 0 1 1 0 0 0 0 0 2 0 0 0 0 0 1 0 2 0 0 0 0 0 0\n",
      " 1 2 0 1 1 2 0 1 1 0 0 1 0 0 0 1 1 0 2 2 0 2 0 1 0 2 2 0 0 1 0 0 0 2 0 2 1\n",
      " 2 0 0 0 0 1 0 2 2 1 0 2 0 0 0 0 2 0 1 1 0 0 0 0 1 2 0 0 0 0 0 0 0 1 0 0 0\n",
      " 2 0 0 0 0 0 0 0 0 2 1 1 0 1 1 0 1 1 1 2 0 0 1 1 2 0 2 1 0 1 0 0 1 0 2 0 1\n",
      " 0 0 1 0 0 0 1 0 0 1 0 1 1 1 0 0 0 0 0 1 2 2 2 1 0 0 0 0 1 1 0 0 1 1 0 2 0\n",
      " 0 2 0 0 2 0 0 0 0 0 0 1 1 0 0 2 0 1 1 2 1 0 2 0 2 1 2 0 0 2 0 1 1 1 0 0 0\n",
      " 2 1 1 0 1 0 0 2 1 0 2 2 1 2 0 0 0 0 0 0 1 1 0 1 0 2 0 0 0 0 1 0 0 0 2 2 2\n",
      " 0 2 0 2 2 0 1 1 0 0 2 0 1 2 1 1 0 2 2 0 1 0 2 2 0 2 1 0 2 1 0 1 0 1 0 1 0\n",
      " 0 0 0 0 2 0 2 1 0 1 1 0 0 1 0 0 0 0 0 0 1 0 0 0 0 0 0 2 0 0 0 0 0 2 0 0 0\n",
      " 0 0 2 0 2 2 0 0 0 0 2 0 2 2 0 0 0 0 0 2 1 2 0 0 1 1 0 1 0 2 1 0 2 0 0 2 0\n",
      " 2 2 0 0 2 0 2 1 1 1 2 0 0 2 2 0 2 0 0 0 1 0 0 0 0 0 0 0 0 0 0 0 0 0 0 1 2\n",
      " 1 2 0 2 0 0 1 2 0 1 0 2 0 0 0 2 0 0 2 0 1 0 2 2 0 0 0 0 1 1 0 2 0 0 0 2 0\n",
      " 0 1 1 0 0 1 0 1 0 0 0 1 0 0 1 0 1 0 0 2 2 0 1 1 1 0 0 0 0 0 2 0 1 1 0 0 0\n",
      " 1 0 2 1 2 0 0 0 1 1 0 1 2 2 1 2 0 1 2 2 2 0 1 0 0 0 0 1 1 0 2 1 0 0 1 1 0\n",
      " 0 0 0 0 1 0 2 0 0 0 0 0 0 0 0 0 2 0 0 1 2 0 0 0 1 2 0 1 2 1 2 0 0 1 1 1 1\n",
      " 0 0 2 0 2 1 0 1 0 2 1 0 0 0 1 0 1 2 1 0 0 0 2 0 1 0 2 2 0 2 0 0 0 0 2 0 0\n",
      " 0 0 2 0 0 2 0 0 0 1 0 0 0 0 0 1 0 2 0 0 2 1 0 2 2 1 0 1 2 0 0 0 1 2 0 2 0\n",
      " 0 2 0 0 0 0 0 0 2 0 0 1 1 0 0 1 0 0 2 1 1 1 0 1 1 1 0 0 0 0 2 0 0 2 0 0 2\n",
      " 0 1 0 0 2 0 2 0 0 2 0 1 2 2 0 1 1 0 0 2 0 0 1 2 1 1 0 0 0 0 1 0 0 1 2 2 1\n",
      " 0 0 1 0 1 0 0 1 0 1 0 2 2 0 1 0 1 0 0 0 0 1 0 2 2 0 0 2 0 0 1 1 1 0 1 0 0\n",
      " 0 0 0 0 2 2 0 0 0 0 1 1 0 0 0 2 0 2 0 1 1 0 0 0 2 1 0 0 0 0 0 0 1 0 2 0 2\n",
      " 2 0 2 1 0 1 1 0 0 0 2 0 0 0 2 1 1 1 0 1 0 0 1 0 0 0 2 1 0 0 1 0 2 0 2 1 0\n",
      " 0 0 2 1 0 1 0 0 0 0 0 0 1 0 1 2 2 0 2 0 0 1 2 0 1 2 1 1 0 1 2 0 1 0 0 1 0\n",
      " 2 0 1 2 0 0 0 2 0 0 2 1 0 0 0 0 1 1 0 0 0 0 2 0 0 0 0 0 0 1 1 2 1 0 0 0 0\n",
      " 1 0 0 0 0 2 2 0 0 1 2 0 2 1 0 0 0 0 0 2 1 0 1 1 1 1 0 0 2 1 0 0 0 1 0 2 1\n",
      " 0 0 1 0 1 1 1 0 0 0 2 1 0 2 2 0 0 2 0 0 2 0 0 1 2 0 0 0 1 2 0 0 0 0 0 0 0\n",
      " 1 0 1 0 0 1 1 2 2 0 0 0 0 0 1 0 0 0 1 0 2 0 1 1 0 0 2 0 0 1 1 1 0 2 0 0 0\n",
      " 2 0 1 0 1 1 0 0 2 0 0 0 0 2 0 1 2 0 2 0 1 0 0 0 2 2 0 0 2 1 1 1 0 0 0 0 0\n",
      " 0 0 0 0 0 0 0 0 1 1 0 1 0 0 1 1 2 2 1 0 2 1 0 0 0 0 0 0 0 2 0 0 0 0 0 0 2\n",
      " 2 0 2 1 2 0 0 1 0 0 2 0 1 0 0 0 0 2 0 2 0 1 0 0 0 2 0 1 0 0 0 0 0 2 0 0 2\n",
      " 2 0 0 2 1 0 2 1 1 1 0 0 2 0 0 0 1 0 0 0 0 1 1 0 0 0 2 0 0 0 0 2 1 1 2 0 1\n",
      " 1 1 1 1 0 2 2 2 0 0 2 0 0 1 0 1 1 0 1 0 0 0 0 0 2 0 1 1 0 0 2 2 1 0 0 0 0\n",
      " 2 0 0 0 0 2 2 1 2 0 1 1 1 0 0 0 2 0 0 0 1 0 1 0 0 0 0 0 2 1 0 0 2 1 1 1 0\n",
      " 1 0 1 0 2 0 1 2 0 1 0 0 2 0 1 0 0 0 0 0 0 0 0 1 1 1 2 2 0 0 2 0 1 0 2 0 2\n",
      " 2 2 0 0 0 0 2 1 0 0 0 0 0 0 1 0 0 0 1 2 0 1 1 1 1 1 0 0 1 0 2 2 0 1 0 2 0\n",
      " 1 0 0 0 1 1 0 0 2 1 1 0 1 1 0 0 0 0 0 2 1 0 0 1 0 0 0 0 0 0 1 1 0 0 1 2 0\n",
      " 0 0 0 0 0 0 0 2 2 0 2 0 0 1 1 0 1 0 0 1 0 0 2 0 0 0 0 0 0 0 2 0 0 2 2 0 2\n",
      " 2 1 0 1 2 0 1 0 2 0 1 1 0 0 0 0 2 0 2 0 0 0 2 1 0 1 1 2 1 2 1 0 2 0 0 0 1\n",
      " 0 0 1 0 0 0 0 1 0 1 1 0 0 0 0 0 0 0 1 0 2 0 0 2 0 2 0 2 1 2 0 2 1 2 0 0 2\n",
      " 2 2 2 0 0 0 0 0 1 1 2 0 1 1 0 0 0 0 0 2 1 0 0 0 1 1 0 0 0 0 2 1 1 0 1 0 1\n",
      " 2 0 0 0 1 0 0 1 0 2 0 0 2 0 1 0 0 0 1 1 0 1 0 0 0 0 0 0 0 2 1 0 1 1 0 0 2\n",
      " 0 2 0 2 0 0 0 2 0 1 1 1 1 1 1 1 0 2 0 0 2 0 2 1 0 0 0 0 1 1 0 2 1 0 2 0 0\n",
      " 0 2 0 0 1 0 2 2 0 2 0 1 0 2 1 1 1 1 0 2 0 1 1 1 2 0 0 0 0 1 1 1 0 0 0 0 0\n",
      " 0 0 1 1 2 0 0 1 2 0 0 0 0 0 0 2 2 0 0 2 2 1 0 0 0 1 0 0 0 0 0 0 1 0 0 0 0\n",
      " 0 0 1 0 0 0 0 2 0 2 0 0 2 2 1 0 2 1 2 0 1 1 0 0 0 0 1 1 0 1 0 0 0 0 2 0 0\n",
      " 0 2 2 0 0 0 0 0 1 0 0 0 0 0 1 1 1 2 1 0 2 2 1 0 0 0 0 0 2 0 0 0 2 0 0 1 0\n",
      " 0 0 2 0 0 1 0 0 0 2 1 1 1 0 2 0 1 2 0 0 0 1 0 0 0 0 2 2 2 0 1 2 1 0 0 1 0\n",
      " 2 0 0 0 1 2 0 1 1 0 1 0 0 0 0 0 0 2 2 0 0 0 1 0 0 0 0 2 1 0 0 0 0 1 2 0 0\n",
      " 0 0 2 0 1 0 1 0 0 0 0 0 0 0 0 0 1 0 0 0 1 2 2 0 1 1 2 0 0 1 0 0 2 0 0 0 0\n",
      " 2 1 0 2 2 2 2 0 0 0 2 1 0 0 0 1 0 0 0 2 0 1 0 0 2 1 0 1 2 0 1 1 0 1 0 0 2\n",
      " 0 0 0 1 1 2 0 0 0 0 0 1 0 1 0 0 0 0 1 0 0 1 0 2 0 2 0 2 2 2 1 2 0 1 0 2 1\n",
      " 2 0 0 0 0 2 0 2 1 0 0 0 0 0 0 2 0 2 0 0 0 0 0 0 0 0 0 2 2 2 0 0 2 2 0 2 0\n",
      " 1 1 0 0 1 0 2 0 2 0 0 0 0 0 0 2 0 0 0 2 1 0 0 0 0 2 2 0 1 0 0 0 0 0 2 2 0\n",
      " 0 1 0 1 0 2 0 0 0 0 1 0 0 2 0 0 0 0 0 0 1 0 0 2 0 0 0 1 0 0 0 0 0 0 0 2 0\n",
      " 1 1 0 1 0 0 0 0 0 0 0 0 0 2 1 0 2 0 1 1 0 0 2 1 0 0 0 1 2 1 1 2 2 2 0 0 1\n",
      " 2 0 0 0 0 1 0 2 0 2 2 0 0 2 0 0 0 0 2 0 0 0 0 0 2 0 0 2 0 0 0 0 0 1 0 0 2\n",
      " 0 0 0 1 0 0 1 2 2 1 2 1 0 1 0 1 1 0 0 0 0 2 0 1 0 2 0 2 0 0 0 2 0 0 0 1 2\n",
      " 1 0 0 0 2 0 2 2 0 0 2 1 1 0 1 0 0 0 2 2 0 2 0 1 2 0 1 0 0 0 0 1 0 0 2 2 0\n",
      " 0 0 0 0 0 2 0 0 2 1 2 1 1 0 2 0 0 1 1 0 0 1 0 0 0 1 2 1 0 1 2 0 2 0 2 2 0\n",
      " 0 0 0 0 2 2 1 0 0 0 2 0 0 0 0 1 0 2 0 2 2 2 1 0 0 0 2 1 0 0 2 2 1 0 0 1 1\n",
      " 0 0 0 0 1 1 0 0 1 1 0 1 0 0 0 0 1 1 1 0 0 0 2 1 1 0 0 0 0 2 2 2 0 2 0 0 0\n",
      " 1 0 0 1 1 0 0 0 1 0 2 1 0 1 1 2 0 0 0 0 0 0 0 0 0 0 0 1 0 0 0 0 0 0 0 1 2\n",
      " 1 2 2 0 1 0 1 2 0 1 0 0 0 0 1 0 0 0 1 1 1 1 0 1 1 1 0 0 0 0 1 1 2 0 1 0 0\n",
      " 1 0 2 2 0 1 1 0 1 2 0 2 0 0 0 0 0 0 1 0 0 0 0 2 2 0 0 0 0 0 2 2 1 0 2 2 2\n",
      " 0 0 1 2 0 0 2 0 0 0 0 2 0 1 2 2 0 0 0 0 2 0 0 0 1 0 0 0 0 1 0 0 2 2 0 1 0\n",
      " 1 0 0 1 0 0 3 1 2 2 1 1 0 0 1 2 1 2 0 0 2 0 2 0 1 0 0 1 3 0 0 2 0 1 2 0 0\n",
      " 0 2 1 0 0 0 0 0 2 2 0 1 0 0 0 0 0 1 2 0 1 2 0 0 0 2 0 1 2 1 1 0 0 2 1 1 0\n",
      " 1 0 0 0 2 0 2 0 1 0 0 0 0 0 1 1 0 2 2 0 0 0 0 0 0 0 1 0 0 2 1 2 0 0 0 1 0\n",
      " 0 0 1 0 1 2 0 2 0 1 0 0 1 0 1 0 1 1 2 1 0 0 1 2 1 0 0 0 0 1 2 0 2 0 0 0 2\n",
      " 1 0 0 2 0 0 2 0 0 0 0 0 0 1 0 2 0 2 0 1 0 0 2 0 2 0 0 0 0 0 0 0 0 2 1 1 2\n",
      " 0 0 0 0 1 0 0 1 0 0 1 1 2 0 0 0 0 1 0 0 0 0 0 0 0 2 0 0 2 0 2 0 0 0 0 0 2\n",
      " 2 1 0 0 1 0 2 0 0 1 0 0 2 0 0 0 2 1 2 1 0 0 2 2 0 0 2 0 0 2 1 1 0 1 0 0 0\n",
      " 2 1 1 2 1 0 0 0 0 0 0 1 0 2 1 0 0 0 1 2 0 1 2 0 0 0 0 1 2 0 1 0 2 1 1 2 0\n",
      " 2 1 0 0 2 0 1 1 1 2 0 0 0 0 0 1 0 0 0 0 0 1 1 1 0 0 0 0 0 0 1 1 2 0 2 1 0\n",
      " 2 2 1 2 0 2 0 0 1 0 0 1 0 1 0 1 0 0 1 2 1 0 1 0 2 0 0 0 0 2 2 0 0 0 1 1 1\n",
      " 0 2 0 0 0 0 0 0 0 1 1 0 0 0 0 0 2 0 1 0 1 0 0 0 0 0 1 2 0 0 0 0 0 1 2 0 1\n",
      " 2 2 0 2 0 0 2 2 0 0 0 2 0 0 2 2 0 2 0 2 0 0 0 0 1 0 2 0 0 2 1 0 0 0 0 2 0\n",
      " 1 1 2 0 0 0 1 0 0 0 0 2 2 0 2 0 0 0 2 0 1 2 2 0 0 0 1 0 2 0 2 2 0 2 1 2 0\n",
      " 0 0 0 2 0 1 0 1 0 0 0 2 0 0 0 0 1 0 0 0 0 0 0 1 1 2 0 0 1 1 1 0 1 1 0 1 2\n",
      " 0 0 0 0 0 1 1 0 0 1 0 0 2 0 0 0 2 1 1 0 1 1 1 0 0 0 0 0 0 0 1 1 2 0 2 0 1\n",
      " 0 1 0 0 0 0 0 1 0 0 0 0 0 0 0 0 1 0 0 1 1 0 1 0 0 0 1 0 2 2 0 0 1 2 0 2 0\n",
      " 0 0 2 0 1 0 1 0 0 1 1 0 0 2 0 0 0 0 0 0 2 0 1 0 2 2 0 1 1 2 1 0 0 0 2 0 0\n",
      " 0 1 0 0 2 1 2 0 1 0 2 0 0 2 0 2 0 1 0 0 0 1 0 0 0 1 2 0 0 0 0 0 0 0 1 0 2\n",
      " 0 0 0 2 0 2 1 1 0 0 0 0 0 0 0 1 0 0 0 0 0 0 0 2 1 0 1 0 0 0 2 0 0 2 0 0 0\n",
      " 0 0 0 0 0 1 1 0 0 0 0 0 2 0 1 1 2 2 0 0 0 0 0 0 0 1 0 0 2 1 0 2 0 1 0 0 1\n",
      " 2 0 0 0 2 0 0 0 1 0 0 1 1 2 0 0 0 0 0 0 0 2 0 0 0 2 1 0 2 0 1 0 0 0 2 1 0\n",
      " 2 0 0 0 2 0 1 0 2 2 1 0 0 0 0 0 0 1 0 1 0 0 0 1 0 0 0 0 0 1 1 2 0 0 0 0 1\n",
      " 2 0 0 2 1 0 0 0 1 0 0 1 2 0 1 1 1 1 1 1 0 2 2 0 1 1 2 0 0 0 1 0 0 0 1 0 0\n",
      " 0 1 2 0 0 2 0 0 2 1 2 0 0 1 2 0 0 1 0 1 0 0 1 0 0 0 0 1 0 2 2 1 0 1 2 0 0\n",
      " 1 0 1 0 0 2 0 0 0 0 2 2 2 1 0 1 2 1 2 1 2 1 0 0 0 1 0 0 2 1 0 0 0 0 0 1 0\n",
      " 2 2 1 0 1 2 0 1 2 2 2 1 0 0 2 0 1 0 0 1 1 0 1 0 1 0 0 0 1 1 0 0 0 0 0 1 0\n",
      " 1 2 0 0 0 1 0 1 1 2 2 0 0 1 1 2 2 2 1 2 0 0 0 2 0 0 2 0 2 0 0 2 2 1 0 0 2\n",
      " 1 0 0 0 0 0 0 2 0 0 0 2 1 2 1 2 1 0 0 1 1 0 0 1 1 0 0 0 0 0 1 2 0 0 0 0 2\n",
      " 0 2 0 0 0 0 0 0 0 0 0 0 0 1 2 2 0 0 2 0 0 2 0 2 0 0 1 0 1 0 0 0 0 2 0 0 0\n",
      " 0 0 0 0 0 0 0 1 1 1 1 2 0 0 0 1 0 0 1 0 0 2 0 0 1 2 1 0 0 0 0 1 2 0 2 0 0\n",
      " 1 0 2 0 0 1 0 0 0 1 1 1 0 0 0 0 0 0 2 0 0 1 2 0 0 2 2 0 0 0 0 2 0 0 0 0 1\n",
      " 0 1 0 0 1 0 0 0 1 0 2 0 2 0 0 2 1 1 0 0 2 0 1 0 0 1 0 2 0 1 2 0 2 0 2 2 0\n",
      " 0 0 1 1 0 0 1 2 2 0 0 0 0 1 1 1 1 1 0 2 0 0 1 1 0 1 0 1 0 2 2 1 0 0 0 1 0\n",
      " 0 0 0 0 0 0 0 0 0 0 0 2 0 1 1 1 0 1 0 1 1 0 0 0 0 0 1 1 1 0 0 0 2 2 2 0 0\n",
      " 0 0 0 0 1 2 2 0 0 2 2 0 0 2 0 0 0 1 1 1 0 1 0 0 0 0 1 2 2 2 0 0 0 2 0 1 0\n",
      " 0 1 0 2 0 0 0 0 1 0 1 0 1 1 2 0 0 0 1 0 2 0 0 0 0 0 0 0 2 1 1 1 0 0 1 0 0\n",
      " 0 0 1 1 1 1 1 0 1 0 0 0 0 0 1 1 0 2 2 2 1 0 0 0 0 1 1 0 1 2 0 0 1 0 2 0 1\n",
      " 0 2 0 1 0 2 1 2 2 2 1 0 2 2 0 1 0 1 2 0 1 2 0 0 0 0 0 0 0 0 0 1 2 0 0 0 2\n",
      " 2 1 0 0 1 2 0 0 0 0 0 0 0 0 0 2 0 0 2 1 1 1 0 0 2 0 0 1 0 0 2 0 1 0 0 2 0\n",
      " 0 0 2 2 0 0 1 1 0 0 0 1 1 0 2 2 0 1 2 0 1 2 2 2 0 0 1 0 0 0 0 0 0 0 2 1 2\n",
      " 1 0 0 0 1 0 0 0 0 0 1 0 0 0 0 2 1 0 2 0 1 0 0 1 0 0 1 2 2 0 0 2 2 0 0 0 0\n",
      " 0 0 0 1 0 0 2 2 0 1 0 0 0 0 0 1 0 0 0 0 0 0 1 1 0 0 0 1 1 0 1 0 0 0 0 0 2\n",
      " 1 1 0 0 0 0 2 0 0 1 2 0 1 0 2 2 0 0 1 0 2 1 1 1 1 0 0 1 0 1 0 0 0 0 0 0 0\n",
      " 0 1 2 0 0 2 0 1 2 0 2 0 0 0 0 1 2 2 0 1 0 1 0 0 0 0 2 2 0 2 0 0 1 2 2 0 0\n",
      " 2 1 0 1 0 0 2 2 0 0 0 0 0 2 0 0 0 1 0 0 0 0 1 0 2 0 1 1 0 1 0 0 0 0 0 1 0\n",
      " 0 2 1 1 0 0 2 0 1 1 2 0 2 0 0 0 0 0 0 0 2 0 1 1 2 0 0 0 2 2 0 0 0 0 2 0 0\n",
      " 0 1 1 0 1 1 0 2 0 1 1 0 0 0 2 0 0 2 2 1 0 0 1 2 0 2 0 2 0 0 2 2 2 0 0 0 1\n",
      " 2 0 0 0 1 0 1 0 0 0 1 1 1 1 2 1 1 1 1 1 0 0 0 0 0 1 0 1 0 0 2 0 0 1 0 2 0\n",
      " 1 1 1 2 0 1 1 0 0 2 2 0 0 0 2 0 0 0 0 2 0 0 1 1 2 0 0 1 0 0 1 2 0 2 0 0 0\n",
      " 0 0 2 0 0 0 1 1 0 0 2 0 1 2 1 0 0 0 1 0 2 0 0 0 1 0 2 0 2 0 0 0 0 0 0 0 0\n",
      " 2 2 1 2 0 0 0 0 2 0 1 2 0 2 0 0 2 1 0 0 0 1 0 0 2 2 0 1 0 0 1 1 0 2 2 0 0\n",
      " 0 0 0 0 1 0 0 2 0 0 1 1 1 1 0 2 1 2 0 1 1 0 2 0 0 0 1 1 2 0 0 0 2 0 0 0 0\n",
      " 2 1 0 0 1 1 2 1 2 1 0 1 0 0 1 0 1 0 0 0 2 0 2 0 0 0 0 0 0 0 0 0 0 1 2 0 1\n",
      " 0 2 0 0 0 0 1 0 2 0 1 0 1 0 0 0 0 0 1 2 0 2 0 2 2 1 2 0 2 0 0 0 0 0 0 0 0\n",
      " 0 0 1 1 0 1 0 2 0 0 2 2 0 1 0 2 2 0 1 0 1 1 0 2 0 0 0 1 1 2 1 0 0 1 1 0 0\n",
      " 2 0 0 1 0 0 1 0 2 2 1 0 1 0 0 2 2 0 1 1 1 1 0 1 0 0 0 2 1 2 0 1 1 2 1 0 1\n",
      " 1 0 0 2 0 2 0 0 0 1 0 0 1 0 1 0 0 0 0 1 0 1 0 0 1 1 0 0 1 1 2 1 1 0 0 1 0\n",
      " 2 0 2 0 0 0 0 0 0 2 1 1 0 0 1 1 1 1 1 2 0 0 1 0 2 0 1 1 2 2 0 0 0 0 0 1 0\n",
      " 0 0 0 2 0 1 0 1 1 0 2 0 0 0 0 0 0 2 1 2 0 0 0 0 0 0 0 1 0 0 0 0 2 0 1 0 0\n",
      " 2 0 0 1 1 0 1 0 1 2 0 2 0 0 0 0 0 0 2 0 0 2 0 1 0 1 0 2 1 2 2 0 0 0 0 2 2\n",
      " 0 1 0 0 2 0 1 0 0 1 0 0 1 2 0 0 0 2 0 2 1 2 0 0 2 0 0 0 0 1 0 0 0 0 0 0 0\n",
      " 0 0 1 0 1 0 0 0 1 0 0 1 1 1 0 0 2 1 0 1 0 0 0 0 0 1 2 0 1 0 1 1 0 2 0 2 2\n",
      " 1 1 0 0 1 0 2 0 0 2 2 0 2 2 1 1 0 0 0 0 1 2 1 1 0 2 0 0 0 0 0 0 1 0 0 1 2\n",
      " 1 0 0 0 0 0 1 0 0 0 0 0 2 0 0 2 2 2 1 2 0 2 0 0 0 1 0 1 1 0 2 0 1 1 2 0 0\n",
      " 1 1 0 1 1 0 2 1 1 0 0 0 0 0 1 0 2 0 0 2 0 0 2 1 1 2 0 0 0 2 0 0 0 0 1 0 0\n",
      " 0 1 0 2 1 0 0 0 1 0 2 1 2 2 0 2 0 2 2 0 0 0 0 1 2 0 0 0 0 0 2 0 0 0 0 1 2\n",
      " 0 0 2 0 1 0 0 0 0 0 2 1 0 0 1 2 2 0 1 0 0 2 0 0 0 2 1 0 0 0 0 0 0 1 0 0 0\n",
      " 1 0 2 1 1 0 0 1 0 2 0 1 1 0 2 0 0 0 0 1 2 2 0 0 2 2 0 0 0 2 0 2 0 0 0 0 0\n",
      " 0 0 0 0 0 0 0 0 0 1 2 0 1 0 0 1 0 0 0 0 0 0 0 0 2 0 0 0 0 0 0 0 2 0 0 2 0\n",
      " 1 0 0 1 0 0 0 0 2 0 0 0 0 0 0 0 2 0 0 1 0 0 0 0 0 0 0 0 0 0 0 0 0 1 0 2 1\n",
      " 2 1 1 2 1 2 0 0 0 0 0 2 1 0 0 2 0 0 0 0 2 0 2 0 0 0 0 0 0 1 0 0 1 0 0 2 2\n",
      " 0 0 0 1 1 1 1 0 0 0 2 0 2 2 0 1 2 1 2 1 1 0 0 2 1 0 1 0 2 2 0 1 1 2 0 0 0\n",
      " 0 1 0 0 0 0 0 1 0 0 0 1 1 0 0 0 0 0 0 2 0 1 1 0 0 0 0 0 0 0 2 1 0 1 0 0 0\n",
      " 1 1 2 0 0 0 0 0 0 0 1 0 2 0 1 1 2 2 0 1 0 1 1 1 1 1 0 1 0 0 2 0 2 2 1 1 1\n",
      " 0 2 0 2 2 0 1 1 0 0 0 0 0 0 2 0 2 0 0 0 1 0 0 2 0 2 0 0 0 0 1 0 0 2 0 0 0\n",
      " 0 0 1 2 0 0 1 0 0 0 0 0 0 0 0 0 2 2 0 1 0 0 0 0 2 1 1 1 2 2 2 1 0 0 0 0 0\n",
      " 0 0 1 0 2 0 0 0 2 0 2 0 0 0 0 1 0 0 0 1 2 1 0 0 0 1 0 1 2 2 1 1 0 1 0 0 1\n",
      " 0 1 0 0 0 0 0 0 0 1 1 1 1 1 1 0 0 0 0 1 1 0 0 0 2 0 0 1 2 2 0 1 0 1 0 1 2\n",
      " 0 0 0 0 1 0 0 1 2 0 0 0 1 1 0 0 0 0 1 0 0 1 0 0 1 0 0 1 2 2 2 0 0 0 1 0 2\n",
      " 0 1 0 0 1 0 0 2 2 0 0 1 0 0 0 0 0 0 2 0 0 2 0 1 0 2 0 2 2 1 0 1 2 0 1 0 2\n",
      " 1 0 0 1 1 0 2 1 2 2 0 0 0 0 1 0 2 1 1 1 0 0 0 0 2 0 0 0 2 2 0 0 1 1 2 0 1\n",
      " 1 1 1 0 1 0 1 2 1 2 1 0 0 0 0 0 2 0 0 0 1 0 2 2 2 0 0 0 0 1 2 2 2 1 0 0 0\n",
      " 0 1 1 0 0 2 0 0 0 1 1 0 0 0 0 0 2 1 0 2 0 0 0 0 0 2 2 0 1 1 0 0 0 1 0 0 0\n",
      " 1 2 0 0 0 2 0 0 0 2 1 1 2 0 1 0 0 0 0 0 0 2 0 0 1 1 0 0 0 0 0 0 0 0 2 2 1\n",
      " 2 3 2 0 1 0 0 2 0 1 0 0 1 0 2 0 1 0 0 1 2 2 0 0 1 0 0 0 2 1 2 0 2 2 0 0 0\n",
      " 1 1 0 0 1 1 1 0 0 1 0 2 0 0 0 0 0 0 0 1 0 0 2 1 1 0 1 0 0 2 2 1 2 0 0 0 0\n",
      " 2 0 2 1 0 0 0 0 0 1 2 1 2 1 0 1 1 0 0 0 1 0 1 1 0 0 0 1 1 2 0 0 2 0 0 0 2\n",
      " 1 2 0 1 2 1 2 0 1 2 0 0 0 0 0 0 2 0 0 0 0 0 2 0 0 2 1 0 2 0 0 1 1 1 1 2 0\n",
      " 0 1 0 1 0 0 0 0 1 2 1 1 1 1 2 0 2 0 0 2 2 0 0 2 0 1 2 1 0 0 0 1 2 1 0 1 0\n",
      " 1 0 0 2 1 1 0 1 0 0 0 0 1 0 2 1 1 1 1 1 2 1 1 1 1 0 0 2 0 1 0 0 0 1 0 0 1\n",
      " 1 2 2 0 2 1 0 0 0 0 0 1 0 1 0 0 0 0 1 0 2 2 0 0 0 2 1 0 1 1 0 0 2 0 2 0 1\n",
      " 0 1 1 0 2 0 0 0 1 1 0 0 0 0 2 2 0 2 0 0 1 0 0 0 1 1 0 0 1 2 2 0 1 0 0 1 0\n",
      " 0 2 0 0 2 1 0 0 1 2 2 0 0 1 1 0 0 1 1 0 0 0 0 1 2 1 0 0 1 2 2 0 0 1 0 0 0\n",
      " 1 1 0 0 1 2 1 1 2 2 0 1 2 0 0 2 0 2 0 0 2 1 0 0 0 2 2 0 0 0 0 0 1 1 0 0 1\n",
      " 2 2 0 0 0 1 0 2 1 0 1 0 0 0 1 0 0 0 0 2 0 1 2 0 2 0 0 2 0 0 0 1 0 0 0 1 0\n",
      " 0 0 0 0 0 0 0 0 0 0 0 0 0 0 1 1 0 2 0 1 0 2 0 0 0 0 0 0 0 0 0 0 0 2 0 0 1\n",
      " 0 1 1 0 0 0 1 0 0 1 0 0 0 0 0 1 1 0 2 0 0 1 2 2 2 0 0 1 2 0 0 2 0 1 0 0 0\n",
      " 0 1 0 2 0 1 2 0 0 1 1 0 0 0 0 0 1 0 1 1 0 0 2 0 1 0 2 2 0 0 2 1 1 2 2 0 2\n",
      " 0 2 0 0 2 0 1 1 0 2 0 0 0 0 1 0 0 0 2 0 2 0 0 0 1 0 0 1 1 0 1 1 0 2 0 2 0\n",
      " 0 0 0 0 0 1 1 1 0 0 0 1 2 0 2 0 0 2 0 0 2 0 2 0 2 2 0 0 0 0 2 2 1 2 1 0 1\n",
      " 2 0 0 0 0 0 0 0 0 0 0 2 0 2 1 0 2 1 0 0 1 1 1 2 0 1 0 0 2 1 0 1 1 0 0 0 0\n",
      " 0 2 0 2 0 1 0 1 0 0 2 0 2 2 2 0 2 1 0 2 0 2 2 0 1 0 0 0 0 0 2 0 1 0 1 0 0\n",
      " 0 3 1 0 0 0 0 0 0 2 1 0 0 2 0 2 2 0 0 1 0 0 0 0 1 0 0 2 0 0 1 0 0 0 1 2 0\n",
      " 0 1 0 0 0 0 0 0 2 0 0 0 1 1 1 1 0 0 1 0 0 2 0 0 0 0 0 1 2 0 1 1 0 2 1 0 0\n",
      " 0 2 0 0 0 0 0 0 0 0 2 0 0 0 2 0 2 2 0 0 0 2 1 1 1 2 0 0 1 0 0 1 1 1 0 0 1\n",
      " 0 0 0 0 0 0 0 0 0 2 2 0 0 1 2 0 1 1 0 1 2 0 1 0 2 0 0 1 0 0 0 2 0 0 0 0 1\n",
      " 0 0 0 2 2 1 1 0 2 0 0 0 2 1 2 0 0 0 2 0 0 0 1 0 0 0 0 0 0 1 1 1 0 2 0 0 0\n",
      " 0 0 2 2 0 0 0 0 0 0 0 0 0 1 0 1 2 0 0 0 0 1 2 1 1 2 0 0 0 0 1 0 2 1 0 1 0\n",
      " 2 1 0 0 0 1 0 0 0 1 0 0 1 0 0 1 1 0 1 0 0 0 0 0 0 0 0 1 1 1 0 2 2 2 1 0 1\n",
      " 1 0 0 0 0 2 0 1 2 0 0 0 0 0 0 0 3 0 1 1 0 2 1 0 0 0 0 1 1 0 0 1 0 0 0 2 2\n",
      " 1 1 2 2 0 0 0 0 0 1 1 2 1 0 0 1 2 2 0 2 0 0 2 1 2 0 1 0 0 0 2 0 0 2 1 2 0\n",
      " 1 0 0 1 2 2 0 0 0 1 1 0 0 1 0 0 0 0 1 2 2 1 0 1 0 1 1 0 0 1 0 0 0 1 2 0 0\n",
      " 2 0 1 0 0 0 0 2 1 0 2 0 1 0 0 0 0 0 0 0 0 2 1 1 0 2 2 1 2 2 0 0 0 0 0 1 0\n",
      " 0 0 1 0 1 1 1 2 0 1 0 1 1 0 1 2 2 0 1 0 0 0 2 0 2 2 2 0 1 1 1 0 0 0 2 0 0\n",
      " 1 0 1 1 0 0 0 0 0 1 0 1 0 2 1 2 0 1 0 0 2 2 2 0 2 0 1 1 2 0 2 0 1 0 0 2 2\n",
      " 0 0 0 1 0 2 0 1 2 0 1 0 0 0 1 0 0 0 2 0 0 2 1 0 2 0 2 0 2 0 2 0 0 0 1 0 0\n",
      " 2 0 1 0 1 1 0 0 0 1 1 0 0 1 2 0 1 1 0 1 2 0 1 0 1 0 2 2 0 1 1 2 0 0 1 0 0\n",
      " 2 1 0 0 0 0 0 0 0 2 0 0 1 0 2 2 0 0 1 0 1 0 2 0 0 0 2 0 0 0 1 0 0 2 0 1 1\n",
      " 0 0 0 0 0 2 0 1 1 1 0 0 0 0 0 0 0 0 0 1 0 2 0 1 1 0 0 0 0 1 0 0 0 0 0 1 0\n",
      " 2 2 1 0 0 0 2 0 2 0 2 0 2 1 0 1 0 1 0 0 1 0 0 1 0 1 2 2 1 0 0 0 0 2 0 0 0\n",
      " 0 0 1 1 0 0 0 0 0 0 2 0 1 2 1 2 0 1 2 0 1 0 2 0 0 1 1 1 0 1 0 0 2 1 2 0 0\n",
      " 0 0 1 0 0 0 0 0 1 0 0 1 0 1 2 0 0 1 0 0 1 2 0 0 2 0 1 1 2 0 0 1 2 1 0 0 0\n",
      " 2 0 1 0 2 1 0 0 1 0 2 1 0 2 2 1 0 2 1 1 2 1 2 0 0 1 0 0 0 0 0 0 2 0 2 1 1\n",
      " 0 1 2 0 1 0 2 0 0 0 2 0 0 1 0 0 2 1 2 2 0 0 0 0 0 1 2 1 0 0 0 0 0 2 0 0 0\n",
      " 0 0 0 1 1 1 1 1 2 1 0 1 0 0 1 0 0 0 0 2 0 1 2 0 0 1 1 0 0 0 0 2 1 2 0 0 1\n",
      " 1 0 2 0 1 2 0 0 2 0 1 2 0 1 0 0 2 1 0 0 2 0 2 0 0 1 1 1 0 1 0 0 0 0 2 0 0\n",
      " 0 1 0 1 0 0 1 0 0 1 0 0 1 0 0 0 2 2 0 1 2 2 1 2 1 0 0 2 1 1 0 0 2 0 1 0 2\n",
      " 0 0 0 0 0 0 0 0 0 0 0 0 0 1 0 1 1 0 1 0 0 1 0 0 1 1 1 2 2 0 0 0 1 1 2 1 1\n",
      " 0 0 1 0 0 0 2 0 1 1 0 1 2 0 0 0 0 0 0 0 1 0 0 0 2 0 0 0 2 0 1 1 0 0 1 1 2\n",
      " 0 0 0 0 2 0 1 2 1 0 0 0 2 0 0 0 2 0 0 0 0 0 1 2 2 0 0 0 1 0 1 1 2 2 0 2 0\n",
      " 0 2 2 2 0 1 0 0 0 0 0 0 2 2 2 0 0 2 1 2 0 0 0 1 0 0 1 0 1 0 0 1 0 0 0 1 0\n",
      " 1 1 0 0 0 2 0 1 0 0 0 0 0 1 0 2 0 1 0 0 0 1 2 0 0 0 0 0 0 0 1 1 2 0 0 0 0\n",
      " 0 0 0 1 2 1 0 0 2 2 0 0 0 1 0 0 0 1 0 0 0 0 2 0 1 0 0 0 2 0 0 0 2 1 2 1 1\n",
      " 0 0 2 2 0 1 0 1 0 0 0 1 0 0 0 0 1 1 1 0 0 0 0 1 0 0 1 0 0 1 2 1 1 0 0 0 2\n",
      " 0 0 0 2 2 0 1 1 0 2 0 1 0 0 0 0 0 1 0 0 0 0 1 0 2 0 0 0 0 0 0 1 0 2 1 2 0\n",
      " 0 0 2 0 1 0 0 2 1 2 0 1 0 2 0 1 0 0 2 1 0 2 0 0 1 0 2 0 0 1 0 2 0 2 2 0 1\n",
      " 0 0 0 0 0 1 0 0 0 1 0 0 0 0 1 0 1 0 0 1 0 0 1 0 0 1 0 0 0 1 1 0 0 1 0 1 2\n",
      " 1 2 1 0 1 0 2 1 0 1 2 1 1 2 1 0 1 0 0 1 1 0 0 2 0 0 2 0 0 0 1 0 0 2 0 0 0\n",
      " 0 0 2 2 2 0 1 0 1 0 1 0 0 2 0 0 2 0 2 0 0 0 0 1 1 2 0 0 2 0 1 0 0 0 0 0 0\n",
      " 2 0 1 0 1 0 0 0 0 1 0 2 0 0 1 2 0 2 0 2 1 2 0 0 0 0 2 1 1 1 0 1 2 0 2 0 0\n",
      " 1 0 2 1 2 1 2 0 2 2 1 1 3 0 1 0 0 0 0 2 0 2 0 1 2 2 0 1 0 1 0 0 0 0 0 0 2\n",
      " 1 1 0 0 0 1 0 0 1 2 0 0 0 0 2 2 0 2 0 0 0 2 0 0 0 0 2 0 0 2 0 0 2 0 0 0 2\n",
      " 0 1 0 2 1 0 0 2 0 0 0 2 0 0 0 0 0 0 0 0 0 2 0 2 1 2 1 2 2 0 0 0 0 0 0 2 1\n",
      " 0 0 0 0 0 1 0 0 0 0 2 0 1 1 0 1 2 1 0 0 2 0 2 0 0 0 1 0 2 0 0 0 0 1 1 0 0\n",
      " 0 0 0 0 2 0 0 0 0 1 0 0 0 1 1 2 1 2 0 0 1 0 0 2 0 0 1 0 0 1 0 2 0 0 0 0 0\n",
      " 1 2 0 0 1 1 0 0 0 1 1 0 2 1 0 2 0 2 0 1 1 0 2 1 0 1 2 2 0 0 0 1 1 0 0 2 1\n",
      " 0 2 1 0 0 0 0 0 1 2 0 1 0 0 2 1 2 0 0 1 2 0 0 0 0 1 0 0 0 0 1 0 0 1 0 0 2\n",
      " 0 0 0 1 0 2 0 0 2 0 0 0 0 1 0 0 0 0 2 0 2 0 1 0 1 0 0 1 2 1 0 2 0 0 1 2 2\n",
      " 0 0 2 0 0 2 2 0 0 2 0 0 0 0 1 1 0 0 0 0 1 2 0 0 1 0 0 2 1 2 0 1 1 1 2 0 0\n",
      " 1 0 1 2 1 1 2 0 0 0 1 1 1 0 0 2 0 0 1 1 2 0 0 2 0 0 2 2 0 0 0 0 2 0 0 1 1\n",
      " 0 1 1 0 2 0 0 2 0 0 2 1 0 0 2 0 0 0 2 2 0 1 0 0 0 0 0 0 2 0 1 1 1 1 2 0 0\n",
      " 0 2 2 0 0 2 1 0 0 1 0 0 0 0 1 1 0 0 0 0 0 1 0 2 0 0 0 0 1 0 0 2 1 2 1 0 0\n",
      " 2 1 1 1 0 2 1 0 1 1 0 0 0 2 2 0 2 2 0 1 2 1 2 0 0 0 0 1 0 0 2 0 1 2 0 2 0\n",
      " 0 1 1 0 0 0 0 0 0 0 1 0 0 0 0 0 1 0 0 2 0 0 2 0 1 2 0 1 1 2 0 1 0 2 0 2 0\n",
      " 2 0 0 1 0 0 2 0 0 0 0 0 1 0 0 0 1 0 0 2 2 0 0 1 0 0 0 0 0 0 0 0 0 2 0 1 0\n",
      " 2 0 2 1 0 1 2 0 1 0 0 0 0 0 0 0 0 1 0 0 0 0 2 0 0 1 0 0 0 1 1 2 1 0 0 0 0\n",
      " 0 1 0 0 0 1 0 0 0 1 0 2 0 2 2 2 1 1 1 1 0 1 0 2 0 1 0 0 0 0 0 2 0 0 0 0 0\n",
      " 2 1 0 0 0 0 0 0 0 0 0 0 0 2 2 0 2 0 0 0 0 0 1 0 1 0 1 0 0 2 0 0 0 0 2 0 0\n",
      " 1 1 0 0 0 2 0 0 0 1 0 0 2 1 2 0 2 2 0 0 0 0 2 0 0 0 2 0 0 0 2 0 2 1 2 0 0\n",
      " 0 0 2 0 0 0 2 0 2 1 1 2 0 0 0 0 0 0 0 0 0 0 0 2 2 0 0 0 1 0 0 0 0 1 0 0 0\n",
      " 1 0 2 1 1 1 0 0 0 2 0 0 2 0 0 0 0 0 0 0 0 1 0 0 2 0 1 0 0 1 2 0 0 0 0 2 0\n",
      " 0 0 2 2 1 1 0 1 0 0 0 1 0 1 2 0 0 0 0 0 2 0 1 0 0 0 0 0 0 2 1 0 0 0 1 0 0\n",
      " 0 0 0 0 1 2 0 1 2 0 0 0 0 0 1 2 0 0 0 2 0 1 2 0 0 0 0 0 2 0 0 0 0 1 0 2 1\n",
      " 1 0 0 0 1 2 1 2 0 1 0 0 1 2 0 0 0 0 0 2 0 0 1 2 2 0 0 0 0 0 0 0 0 0 0 0 1\n",
      " 0 2 0 0 0 1 1 1 0 0 2 0 0 2 2 0 1 0 0 0 2 0 0 0 1 0 2 2 0 0 2 2 2 0 0 0 0\n",
      " 3 0 0 2 1 0 2 0 0 0 2 0 0 1 0 0 0 0 0 1 0 1 0 0 2 0 2 1 0 0 0 0 0 2 1 2 0\n",
      " 0 2 0 0 1 0 0 0 2 0 0 0 0 0 0 0 0 1 0 0 0 0 2 0 1 2 0 0 2 0 2 0 0 2 0 0 0\n",
      " 1 1 0 0 2 2 0 0 0 0 0 2 2 0 0 2 0 0 2 0 0 1 0 2 2 0 1 2 2 1 2 0 0 1 0 1 1\n",
      " 0 0 0 0 0 2 0 1 0 1 0 1 1 1 1 0 2 1 2 0 0 0 0 0 0 2 0 2 2 0 0 2 0 2 2 2 2\n",
      " 1 0 1 0 1 0 2 0 0 0 0 1 0 0 1 0 0 2 0 1 2 1 0 0 2 0 0 0 0 1 2 2 0 2 0 2 0\n",
      " 2 0 0 0 2 0 1 0 0 0 0 1 1 1 0 0 0 0 1 1 0 2 2 2 0 0 1 0 0 2 0 1 2 0 2 0 0\n",
      " 2 2 0 0 0 1 0 1 0 2 0 0 0 2 2 0 0 1 0 0 0 0 0 1 0 0 0 0 0 0 2 1 0 2 0 0 0\n",
      " 0 0 0 0 1 0 0 2 0 1 0 0 1 0 1 0 0 0 0 1 2 0 0 1 1 2 0 0 2 2 0 1 1 2 1 0 0\n",
      " 0 1 2 2 0 2 0 0 0 0 1 1 0 0 1 1 0 2 2 0 0 2 1 2 1 0 0 1 0 1 0 0 1 2 1 0 2\n",
      " 0 1 2 0 0 0 0 0 0 2 0 0 0 0 0 0 0 1 0 0 0 2 2 0 0 0 2 2 0 0 1 0 0 0 1 0 0\n",
      " 1 0 0 0 0 1 0 2 0 1 1 2 0 0 2 1 0 0 0 0 0 0 0 1 2 1 1 2 2 2 0 1 0 0 0 2 1\n",
      " 1 2 1 0 2 0 1 0 1 0 2 0 0 0 0 0 0 1 0 0 0 2 0 0 0 1 1 1 0 1 0 2 1 0 0 0 0\n",
      " 0 1 0 2 0 0 0 0 0 1 0 0 2 0 0 1 2 0 0 0 1 0 1 0 0 0 2 2 0 0 1 2 1 2 0 1 0\n",
      " 0 2 1 0 0 0 0 2 0 1 1 0 0 0 0 0 0 0 0 1 0 0 0 1 0 0 2 0 2 0 0 0 0 1 0 2 0\n",
      " 0 2 1 2 0 0 1 0 1 0 1 1 0 0 1 0 0 0 2 1 0 1 0 0 1 0 0 1 0 1 0 2 0 0 1 0 2\n",
      " 0 0 0 0 2 0 0 0 1 1 0 0 0 0 1 2 0 0 2 0 0 0 2 0 0 2 0 0 2 0 0 0 0 2 1 0 0\n",
      " 0 0 0 0 0 2 0 1 1 1 0 1 2 1 1 1 0 2 0 0 0 2 2 1 0 0 1 0 1 1 0 0 0 0 2 1 1\n",
      " 0 0 1 0 1 2 2 1 2 2 0 0 1 0 2 0 1 0 0 1 0 0 2 0 2 2 0 2 1 2 0 2 0 0 0 0 0\n",
      " 0 2 2 0 0 0 2 0 2 1 0 2 1 0 0 0 2 0 0 2 0 1 1 0 0 2 2 1 2 0 0 0 0 0 0 1 0\n",
      " 0 0 1 1 0 0 2 1 2 2 1 0 0 0 0 0 0 2 0 1 2 0 2 0 0 2 2 2 2 0 1 0 2 0 0 1 2\n",
      " 1 0 1 0 2 0 0 1 1 2 0 2 1 0 1 0 1 0 0 0 0 0 0 2 2 1 0 2 1 1 0 0 1 0 0 1 2\n",
      " 0 0 0 1 2 0 2 0 0 0 0 0 2 2 2 0 2 2 2 1 0 0 0 1 0 1 2 1 2 2 1 0 1 0 1 0 0\n",
      " 0 0 2 1 2 1 0 1 0 0 0 0 0 0 0 0 2 0 1 0 1 0 0 2 0 0 1 0 2 2 0 0 0 2 0 0 0\n",
      " 0 0 0 1 0 0 1 0 0 2 0 2 1 0 1 0 0 0 0 0 0 0 0 0 0 0 0 0 2 1 1 0 1 2 0 0 1\n",
      " 2 2 0 0 0 0 0 1 1 0 0 1 2 1 0 0 1 0 0 2 0 0 0 0 2 0 2 1 0 0 0 0 0 0 0 0 2\n",
      " 2 1 2 0 2 2 0 1 2 0 0 0 1 0 2 0 0 0 0 1 0 2 1 0 0 0 0 0 0 0 2 0 2 2 2 0 0\n",
      " 1 2 1 0 0 2 0 0 0 0 1 2 0 0 0 1 0 1 0 1 0 0 0 0 0 0 0 1 0 0 0 0 0 2 2 0 2\n",
      " 0 0 0 0 0 0 2 0 0 1 2 0 0 1 0 0 0 1 0 0 1 0 0 1 0 2 0 0 0 0 0 0 0 2 0 0 1\n",
      " 2 0 0 1 2 0 0 0 0 2 0 0 0 0 0 0 0 2 0 1 0 0 0 1 2 0 1 1 0 0 1 0 0 2 2 0 1\n",
      " 1 2 0 1 0 2 0 1 1 0 0 0 0 0 0 0 0 0 0 0 0 1 0 0 0 2 0 1 1 1 2 0 0 1 2 1 0\n",
      " 0 0 2 0 2 0 0 0 2 0 0 2 2 0 0 0 1 2 1 0 0 0 1 1 1 1 2 1 0 0 0 1 2 0 0 0 1\n",
      " 0 0 0 1 2 1 0 0 1 2 2 0 1 2 2 0 0 0 1 0 0 0 1 2 0 0 1 0 0 1 2 2 0 2 2 0 0\n",
      " 2 0 1 0 0 1 2 1 0 0 0 0 0 1 0 0 0 2 2 2 0 2 1 2 2 1 2 1 1 0 1 2 0 0 0 0 0\n",
      " 0 1 1 1 0 0 1 2 1 2 1 2 0 0 0 1 2 0 0 1 0 0 0 0 2 0 0 0 0 0 1 0 2 0 1 0 0\n",
      " 1 0 0 1 0 0 0 0 0 0 0 0 0 2 0 0 0 0 2 0 2 1 1 0 0 0 2 0 1 0 1 0 2 0 0 2 0\n",
      " 1 2 2 1 0 0 0 0 0 1 0 0 1 1 1 2 1 0 2 0 1 2 1 0 0 0 1 0 0 0 0 0 1 0 0 1 1\n",
      " 1 2 2 1 0 0 0 2 0 0 1 0 0 0 0 1 0 0 2 0 1 0 0 1 1 0 2 0 1 2 1 1 0 0 2 1 0\n",
      " 0 0 2 0 0 2 2 0 0 0 0 0 2 1 0 2 1 0 2 0 0 0 0 1 2 0 0 0 0 0 0 0 0 2 2 1 0\n",
      " 2 0 1 0 2 0 2 1 1 0 1 0 0 0 0 0 2 0 2 1 0 0 0 0 1 0 0 2 0 1 0 0 2 1 2 2 1\n",
      " 1 0 0 2 0 2 1 0 2 0 2 2 1 2 0 0 1 0 1 2 0 2 0 1 0 0 0 2 0 1 0 2 0 0 0 2 1\n",
      " 0 1 1 0 0 0 1 0 0 0 1 0 0 0 0 0 1 1 0 0 0 2 2 0 1 1 0 0 1 2 1 0 0 0 1 2 0\n",
      " 0 0 0 0 0 0 0 2 1 2 1 0 1 0 1 0 0 1 0 2 0 0 2 1 1 0 2 0 0 0 0 0 0 1 1 1 2\n",
      " 0 0 1 2 0 0 1 0 1 1 0 0 1 0 0 2 1 0 1 0 1 1 1 2 2 1 0 0 1 0 1 0 0 0 0 2 0\n",
      " 0 1 2 0 0 2 0 0 2 0 0 0 1 0 2 2 1 0 0 1 0 0 0 1 0 2 0 0 0 0 0 2 0 1 0 0 0\n",
      " 0 0 1 2 2 0 1 0 0 0 1 0 0 1 1 1 0 2 0 2 0 1 0 1 0 0 0 2 2 2 1 0 0 0 0 0 1\n",
      " 1 0 0 0 2 1 0 2 0 0 1 1 0 0 0 0 2 0 0 2 0 1 1 2 2 0 1 0 1 1 2 0 0 2 0 2 0\n",
      " 0 0 2 0 0 2 0 1 0 1 1 0 0 2 2 1 1 0 0 2 2 1 0 0 2 0 1 0 0 2 0 1 0 1 2 0 2\n",
      " 2 2 2 2 0 1 0 2 1 0 2 0 1 0 0 1 0 0 0 0 0 1 2 1 2 0 1 1 0 2 0 0 1 1 0 0 0\n",
      " 2 2 0 0 0 1 2 1 2 2 1 0 1 2 0 1 0 1 0 0 0 0 0 1 2 0 0 1 1 0 0 0 0 2 0 0 0\n",
      " 2 0 1 2 2 1 0 0 0 0 0 0 0 0 0 0 0 0 0 0 1 0 0 1 0 2 0 2 1 2 0 2 0 0 0 0 2\n",
      " 1 0 0 0 2 2 1 1 1 0 0 2 2 1 2 2 1 2 0 1 1 1 0 0 2 0 1 2 0 0 0 2 0 2 0 2 0\n",
      " 0 2 0 2 0 1 0 0 0 1 0 2 0 0 2 0 0 0 0 1 0 0 1 2 0 0 0 0 0 1 0 0 0 1 2 1 0\n",
      " 0 0 0 0 0 2 2 0 0 0 0 0 1 0 1 0 0 0 0 0 2 1 0 1 0 1 1 0 0 0 1 2 0 1 2 0 0\n",
      " 0 2 0 0 0 0 0 2 0 0 0 0 0 0 2 0 0 2 0 0 0 0 1 0 0 0 0 0 0 2 1 2 1 0 0 2 0\n",
      " 2 0 2 1 0 2 0 0 0 0 0 1 0 1 1 2 0 0 0 1 2 0 0 1 0 2 0 0 1 0 1 0 2 0 0 1 2\n",
      " 0 0 2 0 0 1 2 0 0 0 0 1 1 0 0 1 0 0 2 0 0 1 2 0 0 0 0 0 0 0 0 1 1 0 0 0 0\n",
      " 0 0 2 0 1 0 1 0 1 2 1 0 0 1 1 0 2 0 0 1 1 0 0 0 0 1 0 0 1 0 0 2 2 1 1 2 0\n",
      " 0 0 1 2 0 0 0 2 2 1 2 0 0 0 0 1 0 2 1 0 1 2 0 1 0 1 0 1 0 2 0 1 1 0 2 1 2\n",
      " 0 0 2 1 2 0 1 0 0 2 0 0 0 0 2 0 0 0 0 0 1 0 1 1 0 0 0 0 0 1 1 2 1 0 0 0 0\n",
      " 0 0 1 1 0 1 1 0 0 2 1 2 1 0 0 0 0 1 0 0 0 0 2 0 0 0 0 1 1 1 2 0 0 0 0 1 0\n",
      " 0 0 1 0 2 2 0 2 2 2 2 0 0 0 0 2 1 2 2 0 0 0 1 0 1 2 0 1 0 2 1 0 0 1 0 2 0\n",
      " 1 1 2 1 0 2 3 0 2 0 0 2 0 0 0 0 2 1 0 2 2 0 0 0 1 0 0 0 0 2 0 0 0 0 1 2 1\n",
      " 0 2 2 0 0 1 0 0 0 0 1 0 1 2 0 1 0 1 2 1 0 2 0 0 0 1 2 0 0 1 0 0 1 0 0 0 0\n",
      " 0 0 0 0 0 0 1 0 0 0 0 1 0 0 0 1 0 2 2 0 1 0 1 1 0 0 2 0 2 0 0 0 2 2 2 2 1\n",
      " 0 0 0 2 0 0 0 0 0 2 0 2 0 0 1 0 0 0 2 0 0 1 0 2 2 0 0 0 0 1 0 1 0 0 0 0 0\n",
      " 2 0 0 0 0 0 0 0 0 0 2 0 0 0 0 1 1 0 0 0 1 0 0 0 2 0 0 0 0 0 0 0 1 0 1 0 0\n",
      " 2 0 2 2 0 0 1 0 1 0 2 0 0 1 0 0 0 0 1 0 0 0 0 2 1 2 1 1 1 0 0 1 0 0 1 0 0\n",
      " 0 0 0 0 2 2 0 0 1 1 0 0 0 2 0 0 1 0 0 1 0 2 0 0 2 2 1 1 0 2 0 1 0 0 0 0 0\n",
      " 2 0 1 0 2 1 0 1 0 0 0 1 1 0 0 0 0 2 0 1 0 2 0 1 0 0 1 0 0 0 0 2 0 1 0 2 1\n",
      " 0 1 0 0 0 0 0 0 0 0 0 2 1 0 2 1 0 2 0 0 0 2 0 0 0 0 0 1 0 1 0 2 0 2 1 0 0\n",
      " 0 1 2 0 0 0 0 1 0 0 0 1 2 1 0 0 0 1 0 1 1 2 2 0 0 1 0 0 0 0 0 0 0 0 2 0 0\n",
      " 0 2 1 0 1 0 0 2 0 0 0 0 2 1 0 2 0 0 0 1 1 0 2 0 0 1 0 2 0 2 2 0 0 0 0 1 2\n",
      " 0 1 1 0 0 0 2 1 0 0 1 0 0 2 1 1 0 2 0 2 0 2 0 2 0 1 0 0 1 0 0 0 2 1 2 0 1\n",
      " 0 1 0 0 0 0 0 0 0 2 2 0 0 0 0 0 1 0 2 0 1 0 0 0 0 1 2 0 0 1 1 0 2 2 2 1 0\n",
      " 2 0 0 0 0 2 0 0 1 0 0 0 0 0 0 1 1 0 1 0 0 2 0 2 0 1 0 1 0 0 0 0 0 2 2 0 2\n",
      " 2 0 0 0 1 0 0 0 0 0 2 1 0 1 0 2 0 0 1 2 2 0 0 0 0 0 0 1 2 1 0 0 0 1 0 0 1\n",
      " 2 0 1 2 0 1 1 1 2 0 0 0 0 0 1 2 2 2 0 2 1 0 0 0 1 2 0 1 2 2 1 1 0 2 0 0 0\n",
      " 1 1 0 0 0 0 0 0 2 0 1 1 2 2 0 0 0 1 0 0 2 0 2 0 2 0 0 0 0 0 2 0 0 0 0 0 2\n",
      " 2 0 0 1 0 1 0 1 1 0 0 0 1 2 0 2 2 1 1 0 0 0 0 0 2 1 0 0 2 0 1 2 2 0 1 2 2\n",
      " 1 0 0 1 1 2 1 1 0 2 2 0 0 0 2 0 0 2 1 1 2 0 0 0 0 0 0 0 0 0 0 1 1 0 0 2 0\n",
      " 0 2 2 1 0 1 0 0 0 1 2 2 0 0 0 1 0 0 2 0 1 2 1 0 1 0 0 1 0 0 1 0 0 1 0 1 2\n",
      " 2 2 1 0 1 2 0 1 1 1 0 2 0 1 1 2 1 0 2 0 1 0 0 1 2 0 1 1 0 2 1 0 2 2 0 0 1\n",
      " 0 0 1 0 0 0 1 0 0 1 1 1 0 2 1 1 0 0 2 1 2 2 0 1 1 0 0 2 0 2 0 0 0 0 0 0 1\n",
      " 0 2 1 0 0 1 0 1 2 0 0 0 1 0 1 0 1 0 0 0 0 1 0 1 2 2 0 0 0 0 1 0 0 0 0 1 0\n",
      " 2 0 0 0 1 2 0 0 0 2 0 0 1 0 0 0 0 0 1 0 0 0 1 2 2 0 2 0 0 0 0 2 0 2 0 0 1\n",
      " 0 0 2 0 0 2 2 0 2 0 0 0 2 1 0 1 2 0 0 0 0 0 0 0 2 2 2 0 1 0 1 0 1 2 0 2 2\n",
      " 0 2 0 1 0 1 1 2 0 1 0 2 0 0 0 0 0 1 0 1 2 1 2 0 0 2 0 0 0 2 0 2 0 0 0 0 1\n",
      " 2 2 0 0 1 1 0 1 2 0 0 2 1 0 2 1 0 0 2 0 0 2 1 0 0 1 2 0 0 2 1 0 1 0 2 0 1\n",
      " 1 0 0 0 0 0 0 2 0 0 0 0 2 0 1 1 0 2 0 1 2 1 0 1 0 2 0 2 0 1 0 2 0 1 2 1 0\n",
      " 0 2 1 2 1 1 1 0 1 0 2 0 0 0 0 2 0 0 0 0 0 0 0 0 0 0 1 0 0 0 0 0 1 2 0 0 0\n",
      " 1 0 2 1 0 0 0 1 2 0 0 0 0 1 1 0 0 1 0 2 0 0 1 0 1 1 0 2 2 0 0 0 0 0 0 0 1\n",
      " 0 0 2 0 2 0 0 0 2 0 2 0 0 0 1 0 1 0 0 0 0 0 2 2 0 0 1 1 0 0 0 0 1 0 0 1 1\n",
      " 1 1 0 0 1 2 0 1 1 2 0 0 0 0 0 0 1 2 1 0 0 0 0 0 0 2 0 0 0 0 0 1 2 1 0 1 1\n",
      " 1 0 0 2 2 0 0 2 0 0 2 0 0 0 2 1 0 1 0 2 0 0 0 0 0 1 2 2 0 3 2 0 2 0 2 0 0\n",
      " 1 0 0 1 0 0 0 0 2 0 2 0 0 0 0 0 1 0 0 0 2 0 2 1 2 2 0 1 1 1 0 1 0 0 0 2 0\n",
      " 0 0 1 0 0 2 2 1 0 0 0 1 1 0 1 0 0 0 0 3 1 1 1 0 1 0 0 0 0 2 0 0 0 0 2 2 0\n",
      " 0 0 0 2 0 0 0 2 2 0 1 0 2 0 1 0 1 1 0 2 0 0 0 0 0 2 0 0 1 2 2 1 0 1 2 2 0\n",
      " 0 0 0 1 0 2 1 0 1 1 2 1 0 2 0 0 1 0 0 0 0 0 2 0 0 0 0 1 0 0 0 2 0 1 2 0 0\n",
      " 1 2 0 1 0 0 0 0 0 2 0 1 1 2 0 0 1 0 2 0 0 0 2 0 0 2 1 0 0 0 0 0 0 0 1 0 0\n",
      " 1 2 2 0 1 1 1 0 1 0 2 2 0 0 1 1 2 0 1 0 1 1 2 0 0 1 1 0 0 0 2 0 1 1 0 1 0\n",
      " 0 2 1 0 2 1 1 0 0 0 0 1 0 0 1 1 1 0 1 1 1 1 1 2 0 1 0 0 1 0 0 2 2 1 0 1 0\n",
      " 0 0 1 0 2 0 1 1 0 2 2 1 2 0 1 0 0 0 1 0 2 2 0 0 1 2 0 1 2 1 0 2 1 0 1 0 0\n",
      " 2 0 1 0 1 0 2 2 0 1 1 1 0 0 0 1 0 1 1 2 2 2 2 0 0 1 0 1 0 2 0 0 0 0 0 0 2\n",
      " 2 0 3 0 2 2 2 0 0 0 0 0 0 0 2 2 2 0 0 2 0 0 2 1 2 0 1 1 1 1 2 2 0 0 0 0 1\n",
      " 2 0 0 0 0 1 0 2 2 2 0 2 2 0 0 0 2 1 0 0 0 0 0 1 0 2 1 0 2 1 1 2 0 0 2 1 0\n",
      " 0 0 0 0 1 1 1 0 0 1 0 0 1 0 2 0 1 0 0 1 0 0 0 0 0 1 2 0 1 0 0 0 0 0 0 1 0\n",
      " 0 1 0 0 0 0 1 0 0 0 1 0 0 0 1 2 0 0 0 0 1 2 0 0 0 0 0 1 0 0 0 1 0 2 0 1 0\n",
      " 0 2 0 0 1 0 0 2 2 0 1 0 0 0 2 0 1 2 0 2 1 1 0 1 2 0 0 0 1 0 1 1 0 0 2 0 0\n",
      " 2 0 0 2 0 2 0 0 1 0 2 0 0 2 0 0 2 1 2 1 0 0 0 0 0 0 1 0 2 2 0 1 0 0 2 2 1\n",
      " 0 0 0 0 0 0 0 1 1 0 0 1 1 0 2 0 1 0 0 0 0 0 0 2 2 0 0 1 2 0 2 0 0 0 1 0 0\n",
      " 0 0 0 0 0 0 0 2 1 0 1 0 0 2 1 0 2 2 0 0 0 0 1 2 2 0 0 0 0 1 0 0 1 0 0 1 0\n",
      " 0 2 0 0 1 0 1 0 1 0 2 1 0 0 1 2 0 0 1 0 0 1 0 0 0 2 2 0 0 0 0 0 1 0 2 0 1\n",
      " 0 0 0 0 1 0 2 0 0 0 2 1 1 0 0 0 2 0 0 1 2 0 0 0 0 0 1 1 2 0 0 1 0 0 1 0 0\n",
      " 2 1 0 0 0 0 0 0 0 0 2 1 0 2 2 1 0 0 0 0 0 0 1 0 2 0 1 0 2 0 0 0 0 0 0 0 0\n",
      " 1 0 0 0 0 0 0 0 1 1 0 0 1 0 0 2 1 1 1 0 2 1 1 2 2 0 2 0 2 0 0 0 0 0 0 1 1\n",
      " 0 1 0 1 0 0 2 0 0 0 2 1 0 1 0 2 0 1 0 0 1 0 0 0 0 0 0 0 0 1 0 0 0 0 0 0 0\n",
      " 2 1 2 0 1 0 0 2 0 1 0 0 2 2 1 0 0 2 0 0 0 0 0 0 0 1 2 0 2 0 0 2 0 0 2 2 2\n",
      " 0 2 2 0 0 2 0 0 1 1 2 0 0 1 1 1 1 0 0 1 1 0 1 2 0 2 0 1 0 0 0 0 1 0 0 2 0\n",
      " 2 0 0 0 0 2 0 1 1 0 0 1 2 1 0 1 1 2 0 0 1 0 0 0 2 0 2 1 0 0 2 0 2 1 1 0 0\n",
      " 0 0 0 0 1 1 2 2 0 1 2 2 0 2 0 0 0 0 0 1 1 0 1 2 1 0 1 0 0 1 0 1 2 0 0 1 2\n",
      " 2 0 1 1 2 1 2 0 1 2 0 0 0 1 1 1 0 0 0 2 0 0 0 2 0 0 0 0 0 0 2 2 1 0 0 0 0\n",
      " 0 0 0 0 1 3 0 0 0 0 1 2 0 0 2 0 0 0 0 0 1 0 0 0 0 0 1 0 0 0 1 0 0 1 0 1 0\n",
      " 0 0 1 0 0 0 0 0 1 1 0 0 0 0 0 1 0 0 1 1 0 2 0 0 0 1 1 0 0 0 0 2 0 0 0 0 2\n",
      " 2 0 1 1 1 0 2 2 0 2 1 2 2 0 1 2 0 2 1 1 0 0 2 0 2 0 1 0 2 2 0 2 0 1 0 0 1\n",
      " 0 0 0 0 0 1 2 1 2 0 0 0 0 0 1 1 0 1 2 2 2 0 0 2 1 1 1 0 2 0 0 0 0 0 1 1 2\n",
      " 2 0 2 2 0 0 0 1 0 1 2 0 0 2 0 0 1 0 0 0 1 2 0 1 1 0 2 0 2 0 1 1 1 0 2 1 1\n",
      " 0 0 1 0 0 0 0 0 1 0 1 2 2 0 2 0 1 0 0 0 0 0 1 2 0 2 0 1 1 2 0 0 1 0 0 0 0\n",
      " 2 1 0 0 2 0 0 2 1 0 1 0 0 1 0 0 2 2 0 0 0 1 0 2 0 2 2 1 1 0 2 0 0 0 2 0 2\n",
      " 1 2 1 1 0 0 1 0 2 2 2 0 0 0 0 0 1 0 0 2 1 2 0 0 1 1 0 0 0 0 0 2 0 0 2 1 2\n",
      " 0 0 2 0 0 2 0 1 0 0 0 1 1 0 0 0 2 0 1 1 0 0 0 1 0 0 1 0 1 0 0 0 1 0 0 0 0\n",
      " 1 2 0 0 0 1 1 0 0 0 0 0 1 0 0 1 0 0 0 2 0 1 0 0 0 2 0 0 2 1 2 2 0 0 0 0 0\n",
      " 2 1 2 0 0 0 0 0 0 0 1 0 0 1 1 0 0 0 1 0 0 0 0 0 2 1 2 0 0 0 0 0 0 0 2 0 2\n",
      " 2 0 2 1 0 2 1 0 0 0 0 0 2 0 0 2 0 0 2 1 0 0 0 1 1 1 0 2 2 0 0 0 0 0 2 0 0\n",
      " 2 0 0 2 0 0 1 1 0 0 0 2 2 0 0 0 1 1 0 0 0 0 1 0 0 0 0 2 2 0 0 0 2 0 1 1 0\n",
      " 0 0 2 0 0 0 2 0 0 0 2 0 0 2 0 2 0 1 1 0 1 0 0 0 0 0 2 0 1 0 0 0 0 0 1 2 0\n",
      " 1 0 1 1 0 0 2 0 1 0 0 1 0 0 1 1 1 2 0 2 1 2 0 1 2 1 1 0 2 1 0 2 0 0 0 0 0\n",
      " 0 0 1 0 0 0 0 0 0 0 0 2 0 1 1 2 2 0 0 0 1 2 2 0 0 0 0 0 0 0 1 1 0 0 2 0 2\n",
      " 0 1 1 1 2 0 1 2 0 0 0 1 0 1 0 0 0 0 0 0 0 1 0 0 2 0 0 0 0 2 0 2 2 0 1 0 2\n",
      " 2 0 2 0 0 0 1 1 0 2 0 0 2 0 0 0 0 1 0 0 0 0 0 2 0 0 0 0 1 0 1 0 0 2 2 1 0\n",
      " 0 0 0 1 1 0 0 0 2 1 1 0 1 1 0 2 0 1 0 2 2 1 1 2 1 2 1 0 0 1 0 2 0 0 1 0 0\n",
      " 2 0 1 1 2 1 0 0 0 0 2 0 0 0 1 2 1 1 0 2 0 0 0 1 0 0 0 0 0 0 2 0 0 0 0 0 0\n",
      " 1 0 0 2 0 0 0 1 1 0 1 0 2 0 2 1 0 2 0 1 0 2 1 1 0 0 2 2 0 1 1 0 0 0 2 1 0\n",
      " 1 1 0 2 2 0 0 2 2 2 1 2 0 0 3 0 0 2 1 0 2 0 1 1 1 2 1 2 0 0 1 2 0 2 0 2 1\n",
      " 1 2 2 1 1 0 0 0 0 0 0 1 0 0 0 1 1 0 1 1 1 0 2 0 0 0 0 0 0 2 2 1 0 2 0 1 0\n",
      " 0 0 0 2 0 2 0 1 2 0 2 2 0 0 0 2 0 0 0 0 0 0 0 0 1 1 0 0 0 1 0 2 2 0 0 1 0\n",
      " 2 0 1 0 0 0 2 0 0 0 0 0 0 0 0 0 1 2 0 1 0 1 0 0 0 0 2 0 1 2 0 0 0 2 1 0 0\n",
      " 0 0 0 2 2 0 0 0 0 2 0 0 0 0 2 0 0 0 1 2 0 0 0 1 2 0 2 1 0 0 1 0 0 1 0 0 0\n",
      " 0 1 1 0 0 1 0 0 2 2 0 2 0 2 2 0 2 1 2 0 0 1 0 0 2 0 0 1 2 0 0 1 1 0 0 2 0\n",
      " 1 0 2 0 0 1 0 2 0 0 0 0 2 0 0 0 2 0 0 0 0 0 0 2 2 0 0 2 1 0 1 0 0 0 1 0 1\n",
      " 2 2 1 0 0 0 2 0 0 2 0 0 1 0 1 2 2 0 2 0 1 0 1 0 0 0 0 0 0 0 0 0 0 1 0 2 2\n",
      " 0 0 0 0 0 1 1 0 0 1 2 0 0 1 0 0 0 0 1 0 0 1 0 0 0 0 0 0 1 0 0 2 0 2 0 2 1\n",
      " 1 0 2 0 0 1 0 2 1 0 1 0 2 0 0 2 1 2 0 0 0 0 0 0 1 2 0 0 0 0 0 0 0 0 2 0 2\n",
      " 0 0 0 1 1 2 0 1 2 0 0 2 0 0 0 2 0 0 0 0 0 0 0 1 1 1 0 0 0 1 1 0 1 0 1 0 0\n",
      " 0 2 1 0 0 0 2 1 2 0 0 0 1 1 2 1 2 0 0 2 0 0 0 2 0 0 1 2 2 0 0 2 0 0 1 0 0\n",
      " 0 0 0 0 0 0 2 0 1 0 2 1 1 0 0 0 0 2 0 2 0 0 0 2 0 0 0 0 0 1 0 1 2 0 0 1 1\n",
      " 1 2 2 0 0 0 1 2 1 1 0 2 0 0 1 0 1 1 0 2 1 0 2 2 0 0 0 1 1 1 0 1 0 2 1 0 1\n",
      " 2 0 0 0 0 0 1 2 0 1 2 2 0 0 2 1 2 0 2 0 1 2 2 0 0 2 0 0 0 1 1 0 1 1 0 0 2\n",
      " 0 0 0 1 2 0 0 2 0 0 2 0 0 2 0 1 1 0 0 1 2 2 0 0 0 1 0 0 0 0 0 0 1 2 2 2 0\n",
      " 1 2 0 2 1 0 0 2 0 2 2 0 0 1 0 0 0 0 0 0 0 0 0 0 1 0 2 0 0 2 0 2 0 2 0 0 2\n",
      " 0 0 2 2 2 0 0 1 2 2 0 0 0 2 0 0 0 0 1 0 0 1 1 1 2 0 0 0 0 0 0 1 0 1 0 2 0\n",
      " 1 0 1 0 0 0 1 1 0 0 0 2 0 1 0 0 2 0 0 0 0 1 0 1 2 0 0 1 2 0 0 0 0 0 1 0 2\n",
      " 0 0 2 1 1 2 0 0 0 2 0 0 2 0 0 2 0 0 0 0 0 0 2 1 0 0 0 0 1 1 0 0 0 0 0 0 0\n",
      " 0 0 0 1 1 0 1 0 1 1 0 0 0 0 0 1 0 2 0 1 1 0 1 2 0 0 1 1 1 0 0 1 0 0 0 1 0\n",
      " 2 0 2 0 0 0 2 0 2 2 2 0 1 1 2 2 0 1 1 0 0 1 2 0 0 0 1 0 0 0 0 0 0 0 0 0 0\n",
      " 1 2 2 1 0 1 2 1 0 0 0 0 1 0 2 1 1 2 0 0 1 0 0 0 0 2 2 1 0 1 1 2 0 0 2 2 1\n",
      " 0 0 1 0 2 2 0 0 0 0 1 0 0 0 2 0 1 2 0 0 0 1 0 0 1 0 0 1 0 0 0 0 1 0 0 2 0\n",
      " 0 1 2 0 0 0 0 0 1 1 2 0 0 1 0 1 0 0 0 0 1 1 1 2 1 0 0 0 2 0 0 2 2 2 1 1 1\n",
      " 0 0 0 0 0 0 1 0 0 2 2 0 0 1 2 0 2 0 0 1 0 0 0 0 2 1 2 1 0 0 0 1 0 0 1 0 0\n",
      " 2 0 2 2 0 0 2 0 0 1 0 1 1 1 0 1 0 0 1 0 1 1 0 0 0 0 0 0 0 2 2 0 0 0 0 0 0\n",
      " 1 0 1 0 0 2 0 0 0 0 2 1 0 1 2 2 1 0 2 1 2 0 0 2 0 0 2 0 1 1 0 0 1 0 0 0 0\n",
      " 0 1 0 0 0 0 1 1 1 0 0 2 1 0 0 0 0 0 0 0 0 0 1 0 1 1 0 1 2 0 2 0 0 1 0 2 0\n",
      " 0 2 0 0 0 0 0 0 1 0 0 0 0 0 2 0 0 0 1 0 0 0 0 0 0 0 0 1 0 2 1 0 0 0 0 2 0\n",
      " 2 0 1 1 0 1 0 0 1 2 2 1 0 1 0 0 1 0 0 0 0 1 2 0 2 1 2 0 0 0 0 0 0 0 0 0 0\n",
      " 0 2 0 2 2 2 0 0 0 0 1 0 1 0 0 1 0 2 1 0 1 0 1 1 0 1 0 0 2 0 1 0 2 0 0 2 0\n",
      " 2 2 1 1 0 0 0 0 2 0 0 0 2 1 0 2 2 0 0 1 1 2 0 0 0 1 0 1 0 0 1 2 0 2 0 2 0\n",
      " 0 0 0 0 1 2 0 0 2 0 0 0 0 0 2 1 2 2 2 0 0 0 0 0 2 2 0 2 2 0 0 0 0 0 0 0 1\n",
      " 0 0 0 1 2 0 0 0 0 2 2 1 2 1 0 2 2 1 0 0 1 2 0 0 2 0 0 0 0 0 0 0 0 1 0 0 0\n",
      " 0 0 2 2 0 1 1 0 1 0 0 1 0 1 1 2 2 1 1 2 2 0 1 0 1 2 1 0 1 0 0 2 2 1 0 1 0\n",
      " 1 1 0 0 1 0 0 2 0 0 0 2 1 0 1 0 2 0 0 0 2 2 0 2 0 0 0 2 0 1 0 0 0 0 0 0 0\n",
      " 1 1 0 0 0 2 2 0 0 2 2 0 0 2 0 0 2 1 0 1 0 0 0 0 0 0 0 0 1 0 0 1 2 0 2 0 2\n",
      " 0 1 0 0 1 0 0 0 1 0 0 2 0 2 2 1 1 0 2 0 0 2 2 0 2 2 0 1 1 2 0 0 0 2 0 2 0\n",
      " 1 1 1 0 0 0 0 0 1 2 0 0 0 0 1 2 0 0 1 0 2 0 0 1 0 0 2 1 1 1 0 0 1 0 0 1 0\n",
      " 0 2 0 0 0 0 0 1 0 2 0 0 0 0 1 0 0 1 0 1 0 0 2 2 0 0 2 0 0 2 1 1 1 0 2 2 0\n",
      " 2 1 2 0 1 0 0 0 0 1 1 0 0 0 1 0 1 0 1 0 0 2 0 0 1 0 0 0 0 0 2 0 0 2 2 0 0\n",
      " 0 0 0 0 1 0 1 1 0 1 0 2 1 1 2 2 0 0 0 0 1 0 0 2 0 0 2 0 0 0 0 1 1 0 1 1 0\n",
      " 1 0 2 2 0 0 0 1 0 1 0 0 0 1 1 1 0 1 0 1 0 2 0 1 2 0 0 2 0 0 0 0 0 0 0 0 0\n",
      " 0 0 0 0 0 2 1 0 2 0 0 0 0 0 0 0 0 0 0 0 2 0 0 0 2 1 0 2 1 1 0 0 2 0 2 0 2\n",
      " 1 0 0 1 0 0 0 0 0 0 0 0 0 0 0 1 0 0 2 1 1 2 1 0 0 0 0 2 1 0 1 0 0 1 1 0 0\n",
      " 1 0 0 0 1 2 2 1 0 0 1 0 0 2 0 1 0 0 2 0 0 0 0 1 2 0 0 0 0 2 2 0 0 0 2 0 2\n",
      " 0 0 0 0 0 1 1 0 0 1 1 0 0 0 2 0 1 1 2 0 0 0 1 1 0 0 0 1 0 1 2 2 0 1 2 0 0\n",
      " 0 0 0 1 0 0 0 0 0 1 2 1 0 1 1 0 1 0 2 0 0 0 0 0 1 1 1 2 0 0 0 0 1 0 2 0 2\n",
      " 2 0 0 0 0 0 0 2 0 0 1 1 1 0 0 2 0 2 2 0 0 2 0 0 2 0 0 2 0 1 0 0 0 1 2 1 0\n",
      " 0 2 2 0 2 1 0 0 0 0 2 1 1 2 0 0 0 1 0 0 0 1 1 0 1 0 0 0 2 0 1 0 0 2 1 0 0\n",
      " 0 0 0 1 0 0 0 2 0 0 0 0 1 0 0 1 1 1 0 0 0 2 0 0 2 1 0 1 0 0 0 1 0 0 0 0 0\n",
      " 0 0 0 0 1 0 0 0 2 0 0 1 0 0 2 0 0 2 0 1 0 0 1 0 1 2 0 1 0 1 1 1 0 0 0 1 2\n",
      " 0 2 0 1 0 0 1 1 0 0 0 1 0 0 0 0 0 0 1 0 0 2 0 2 0 0 2 0 0 0 0 0 1 0 0 0 0\n",
      " 0 0 0 1 2 0 2 1 2 1 0 0 1 0 0 0 0 2 0 0 2 2 2 0 0 2 1 1 0 0 0 0 1 0 1 0 0\n",
      " 1 0 0 1 1 0 0 0 0 1 2 0 1 1 0 0 0 1 0 0 0 1 2 2 1 0 0 2 1 0 0 2 1 0 1 0 2\n",
      " 2 0 0 1 0 0 0 0 2 0 2 0 0 0 0 0 2 0 0 0 0 1 0 0 0 1 0 2 0 0 2 0 2 2 0 2 0\n",
      " 2 1 1 0 2 0 1 2 1 2 2 0 1 1 0 1 1 2 1 0 0 0 1 0 0 0 1 2 1 0 0 2 2 0 2 2 2\n",
      " 2 0 0 0 0 0 1 1 2 2 1 1 2 0 1 0 0 0 0 1 2 0 0 2 0 0 1 2 0 0 1 0 0 2 1 1 0\n",
      " 0 0 0 0 0 0 0 0 2 2 1 0 0 0 1 0 0 0 0 1 0 1 0 2 2 2 2 1 1 0 1 0 0 0 2 0 0\n",
      " 0 0 0 1 1 0 0 1 0 0 0 0 1 0 1 2 0 0 0 2 2 0 2 2 0 2 1 0 0 0 2 1 0 2 0 1 0\n",
      " 2 2 2 0 0 2 1 2 0 1 0 1 0 1 0 0 1 0 2 0 0 0 0 1 2 0 2 0 1 2 2 2 1 1 0 1 1\n",
      " 0 2 2 0 1 1 0 1 2 0 0 1 1 0 1 0 0 0 2 0 0 1 1 2 1 1 0 2 1 1 1 0 2 0 2 1 1\n",
      " 1 0 0 2 2 0 2 0 0 2 2 1 0 0 1 0 0 0 1 1 0 2 0 2 0 0 0 0 0 0 1 0 0 0 1 1 1\n",
      " 2 0 0 2 0 0 1 0 0 2 2 1 2 0 0 1 0 0 0 0 0 0 0 0 0 1 2 2 1 0 2 0 1 2 0 0 1\n",
      " 0 2 1 1 2 2 1 0 2 1 0 2 1 2 0 1 0 1 0 2 1 2 0 1 0 0 0 0 0 0 0 0 1 0 0 0 2\n",
      " 1 1 0 1 0 1 0 0 0 1 2 2 2 2 0 0 1 0 2 1 0 0 0 2 0 0 0 0 2 0 1 2 0 2 0 0 0\n",
      " 2 0 0 0 1 0 2 0 0 0 2 2 1 2 0 1 0 1 0 0 1 1 2 1 0 1 1 0 0 2 1 1 1 0 0 0 1\n",
      " 0 0 1 0 0 1 2 0 0 2 2 1 0 1 1 0 0 0 0 0 1 0 2 0 0 1 1 2 2 0 2 2 0 0 0 2 0\n",
      " 2 1 1 2 1 1 1 1 1 0 2 1 0 0 0 0 0 0 2 0 0 0 1 1 0 0 0 1 0 2 0 1 0 0 0 2 0\n",
      " 0 0 0 0 1 0 2 0 2 2 1 0 0 1 0 0 0 2 2 0 0 0 1 0 0 1 0 1 1 0 2 0 2 0 0 0 3\n",
      " 0 2 1 1 1 1 2 1 2 0 0 1 0 0 0 1 2 0 0 0 2 0 0 0 0 0 0 2 1 0 2 0 0 0 0 0 2\n",
      " 0 2 0 0 1 2 2 0 0 2 0 0 0 1 2 1 0 1 1 0 1 0 0 0 2 0 0 0 0 1 2 2 1 0 0 0 1\n",
      " 0 0 0 1 0 0 0 0 0 0 0 1 0 1 0 0 0 0 1 2 0 0 0 2 1 2 0 0 0 1 0 0 2 0 0 0 0\n",
      " 0 0 0 0 0 1 0 0 1 0 0 1 0 0 0 0 2 0 2 0 0 0 1 2 0 2 0 1 0 1 1 1 0 0 0 2 0\n",
      " 1 1 2 0 2 2 2 0 2 2 0 0 1 0 2 0 1 0 2 0 1 1 0 1 1 2 0 2 0 0 0 0 0 0 0 0 0\n",
      " 0 0 1 0 1 0 0 0 1 0 0 1 2 2 0 0 0 0 1 1 0 0 1 2 0 2 0 2 2 2 0 0 0 1 0 0 0\n",
      " 0 0 0 1 0 0 0 0 0 2 2 0 2 1 1 2 0 2 2 0 0 0 1 0 0 0 0 0 0 0 0 0 0 0 1 0 0\n",
      " 1 1 0 0 0 0 0 0 1 1 0 2 0 2 0 0 0 0 0 0 2 0 0 2 0 2 0 0 1 2 1 0 1 0 0 0 0\n",
      " 0 1 2 1 0 0 1 0 1 0 0 1 2 0 0 1 0 0 0 0 0 2 2 0 0 2 0 0 0 2 0 1 2 0 2 0 0\n",
      " 1 2 0 0 0 2 0 1 2 0 0 1 0 0 2 2 0 2 0 2 0 1 0 2 1 1 0 0 1 1 2 0 0 2 2 1 2\n",
      " 2 0 1 2 0 0 1 1 0 1 2 0 2 0 2 0 1 1 0 1 2 0 2 1 2 2 0 0 2 0 0 0 0 2 1 0 2\n",
      " 0 0 0 0 0 0 0 1 1 0 0 0 0 0 1 0 1 0 2 0 1 1 1 0 0 0 1 1 0 0 0 0 0 0 0 1 0\n",
      " 0 0 0 0 0 0 2 0 0 1 0 0 0 0 0 0 0 2 2 0 1 1 0 0 0 1 2 0 1 0 0 0 0 0 0 1 0\n",
      " 0 0 0 0 2 1 1 0 0 0 0 1 0 0 0 0 0 0 2 2 0 2 0 0 1 2 1 0 0 2 2 2 0 0 2 1 2\n",
      " 0 0 0 0 0 0 0 0 1 0 1 1 0 2 1 1 0 2 1 0 2 1 0 2 2 0 0 0 0 1 0 0 2 0 0 2 0\n",
      " 1 1 0 0 1 1 0 0 0 1 0 2 0 0 0 2 0 0 0 1 0 1 2 0 0 1 1 2 2 0 2 0 0 0 0 1 0\n",
      " 0 2 2 0 2 0 0 0 2 0 0 0 1 0 0 0 1 0 0 0 0 0 0 2 0 1 0 2 0 0 2 0 0 0 0 0 0\n",
      " 0 0 0 0 2 1 2 0 1 2 1 2 0 0 0 1 0 0 0 0 0 1 1 2 0 0 0 0 2 0 0 1 1 1 0 0 0\n",
      " 0 0 0 2 0 0 2 0 2 2 0 1 1 1 0 2 1 0 0 0 1 2 1 0 2 0 0 0 2 0 0 0 0 2 0 2 2\n",
      " 0 0 0 2 0 1 1 0 2 1 1 2 2 1 1 2 0 0 2 0 1 1 2 0 0 0 0 0 1 0 2 2 1 1 1 0 0\n",
      " 0 0 1 2 0 2 1 2 0 1 0 0 0 1 2 0 1 0 0 0 2 0 0 1 0 0 0 2 0 0 0 0 1 0 2 0 0\n",
      " 1 0 0 2 0 0 1 1 2 2 0 1 0 0 0 0 2 0 2 0 0 1 2 0 2 0 2 0 0 1 0 0 0 0 2 2 0\n",
      " 0 2 0 0 0 0 2 1 2 1 0 0 2 2 0 1 2 0 0 2 0 0 2 1 2 2 0 0 2 2 1 0 0 0 0 2 1\n",
      " 0 0 1 0 2 0 0 0 0 2 1 0 0 1 0 0 0 2 1 0 0 0 2 2 1 2 1 0 0 2 2 0 0 0 0 1 0\n",
      " 2 1 1 0 0 2 2 1 1 0 1 0 2 1 0 2 2 2 2 1 0 0 0 0 0 1 0 1 2 0 0 2 2 1 1 1 0\n",
      " 2 0 0 0 1 0 1 1 0 0 0 1 2 0 2 1 0 1 2 0 0 0 0 0 0 0 0 0 1 0 0 0 0 2 1 0 1\n",
      " 0 3 0 1 1 2 1 1 1 0 1 1 0 1 1 0 0 0 2 1 2 2 0 0 0 0 2 0 0 0 0 1 0 0 2 0 2\n",
      " 1 0 0 1 0 1 0 0 1 0 1 0 0 0 0 0 0 2 0 0 0 1 0 0 0 2 2 2 0 0 1 1 2 2 0 1 1\n",
      " 0 2 0 0 0 2 1 0 1 2 1 0 0 1 0 0 1 0 0 0 2 2 2 0 0 1 0 0 0 0 0 2 0 2 2 1 1\n",
      " 2 2 2 0 1 0 0 1 0 0 2 0 0 1 1 2 0 0 1 0 2 2 1 1 0 0 1 2 1 0 0 0 0 0 0 0 2\n",
      " 0 0 1 0 1 1 0 0 0 0 1 1 2 0 1 0 1 1 1 1 2 1 0 0 2 0 0 2 0 0 0 0 1 0 2 2 0\n",
      " 0 0 0 0 1 2 0 0 2 0 0 1 2 0 2 0 0 1 0 2 0 1 1 1 0 0 0 2 1 0 0 1 1 1 0 2 1\n",
      " 0 0 0 0 0 0 0 0 0 0 1 1 0 2 0 1 2 1 0 0 0 0 1 1 1 1 0 0 0 1 0 1 0 1 2 2 2\n",
      " 1 0 0 0 0 1 0 0 0 2 1 1 0 2 2 1 0 0 0 0 1 1 1 1 0 2 1 1 1 0 0 2 0 0 0 0 0\n",
      " 0 2 1 0 1 1 0 1 0 0 0 0 1 0 0 0 2 2 1 0 0 0 0 0 1 0 0 0 0 0 1 0 0 2 2 0 0\n",
      " 2 1 2 0 0 2 1 0 0 0 2 0 2 0 0 1 0 0 1 0 0 0 0 2 0 1 0 2 0 0 0 0 1 0 0 1 2\n",
      " 1 2 0 1 0 1 0 1 1 0 1 0 1 1 0 0 0 0 0 0 2 0 0 0 1 0 2 0 1 1 1 2 1 0 0 0 1\n",
      " 0 1 0 1 1 2 1 0 0 0 2 1 0 0 1 1 2 0 2 0 1 0 0 0 0 2 0 1 1 0 1 1 2 0 1 1 0\n",
      " 0 2 0 2 2 1 0 0 1 0 2 0 0 0 0 0 2 2 0 1 1 0 0 0 1 0 0 0 0 0 0 1 1 0 2 1 0\n",
      " 0 0 0 0 0 0 0 0 0 0 0 0 2 1 0 1 1 2 0 0 1 0 2 0 1 2 1 0 0 0 1 2 2 0 0 1 0\n",
      " 0 0 0 2 0 0 0 0 0 0 0 0 0 1 1 0 2 0 2 0 2 0 0 2 1 0 0 0 2 0 0 1 2 0 2 2 2\n",
      " 0 1 0 0 0 0 1 0 0 1 2 2 0 1 2 0 2 0 2 1 2 0 0 0 2 1 2 0 0 2 2 0 0 0 0 0 0\n",
      " 1 0 2 2 1 1 0 1 0 2 2 1 2 0 0 1 1 0 0 2 0 0 0 0 1 0 2 0 0 2 0 0 0 2 1 0 0\n",
      " 0 1 2 2 0 2 0 0 0 2 0 1 0 0 1 2 0 0 0 2 2 2 0 0 0 0 0 2 0 0 1 0 1 0 2 1 1\n",
      " 0 2 1 0 0 0 1 0 0 0 1 0 1 0 0 0 0 0 1 0 0 0 1 0 0 2 0 2 1 0 0 0 0 0 0 1 1\n",
      " 2 0 0 0 1 1 2 2 0 0 1 0 0 0 0 0 1 1 2 0 0 0 0 1 0 2 1 0 0 0 0 0 0 1 0 0 1\n",
      " 1 1 0 1 2 0 2 2 0 0 1 0 0 2 2 0 0 0 2 2 1 1 1 0 0 1 0 0 2 0 1 2 0 0 0 1 1\n",
      " 0 1 1 0 1 0 0 0 0 0 1 1 0 1 2 2 0 0 0 0 2 0 1 1 1 1 0 0 2 1 1 0 0 0 1 2 0\n",
      " 0 0 2 0 2 1 0 0 0 0 0 0 0 0 0 1 1 1 1 0 1 2 2 0 0 0 0 0 0 0 0 0 0 0 2 2 0\n",
      " 2 0 2 0 0 0 0 2 0 0 2 0 0 1 0 0 1 0 0 0 2 0 0 2 1 0 0 0 0 0 2 0 0 2 1 0 1\n",
      " 0 0 2 0 0 0 0 1 0 0 1 1 1 1 2 0 0 0 2 0 2 0 2 0 0 2 0 0 0 0 0 0 1 0 0 0 0\n",
      " 0 1 1 0 1 0 2 0 0 1 1 0 0 0 1 0 1 0 0 0 1 1 2 2 2 0 1 0 0 0 0 0 2 1 1 2 1\n",
      " 1 0 0 0 1 2 1 0 0 2 2 2 0 0 1 0 0 1 0 1 0 0 2 1 2 1 1 0 2 0 0 2 0 0 2 0 0\n",
      " 0 0 1 0 0 0 1 0 1 0 0 2 0 1 1 0 0 0 2 0 2 1 1 1 2 0 1 0 0 0 0 1 0 0 2 0 0\n",
      " 0 0 0 0 0 0 2 1 1 1 2 1 0 0 1 0 2 0 2 0 2 0 0 1 0 0 0 1 0 1 0 1 1 0 0 0 2\n",
      " 2 0 0 2 1 0 1 0 1 1 0 2 0 0 1 0 0 0 0 2 2 1 0 0 2 0 2 2 0 2 1 2 2 1 0 1 0\n",
      " 0 1 0 2 0 2 0 2 2 0 2 0 0 2 0 0 0 2 0 2 1 2 0 0 1 0 2 1 1 0 0 0 0 0 0 2 0\n",
      " 0 0 0 0 1 0 0 0 1 0 1 2 1 1 1 2 0 1 0 0 0 0 0 1 0 0 0 2 0 1 1 2 2 0 2 0 0\n",
      " 0 0 0 0 0 2 0 2 0 0 2 0 0 0 0 2 0 2 0 0 3 2 1 0 0 0 0 0 2 1 0 0 0 0 0 0 0\n",
      " 0 0 0 2 1 2 1 0 1 0 0 1 1 0 0 2 0 1 0 0 2 0 0 2 0 0 0 0 0 0 0 1 1 1 0 0 0\n",
      " 0 0 0 0 0 0 0 0 0 0 0 2 1 3 0 1 0 0 0 1 2 0 0 0 2 0 0 0 0 0 1 0 0 0 1 0 1\n",
      " 2 1 2 0 0 2 1 1 2 0 1 0 1 1 1 2 0 0 2 1 1 0 2 1 2 0 1 1 1 0 0 2 0 1 0 0 1\n",
      " 0 2 0 2 0 0 0 0 0 2 2 0 0 1 0 1 0 2 0 2 1 0 0 0 0 0 2 0 1 2 0 1 2 2 1 0 1\n",
      " 0 0 0 1 1 0 1 1 0 2 0 0 0 0 0 0 0 0 0 0 1 0 0 0 0 0 0 0 0 1 1 1 2 1 2 1 1\n",
      " 1 1 2 1 0 0 0 0 2 0 2 0 0 0 0 0 1 0 0 0 0 1 1 1 0 0 0 0 0 0 1 0 0 0 0 0 0\n",
      " 2 2 1 2 1 1 1 0 0 0 0 0 0 0 0 0 0 0 0 0 2 2 0 0 0 0 1 1 0 2 2 1 2 0 0 1 0\n",
      " 0 0 0 0 0 0 0 0 2 1 0 0 0 0 2 0 2 1 1 0 2 0 2 0 0 0 0 0 0 0 0 0 0 0 0 2 0\n",
      " 2 1 0 1 0 0 0 0 1 2 3 0 2 0 1 0 0 0 0 2 0 0 1 0 0 1 1 0 0 0 2 0 2 0 0 2 0\n",
      " 0 1 0 0 1 0 1 0 1 0 2 1 0 1 0 2 2 1 0 2 0 1 0 2 0 0 1 1 0 0 1 0 1 2 0 0 0\n",
      " 0 2 0 0 0 0 2 0 0 2 0 0 0 2 0 2 1 0 1 1 2 2 1 0 0 2 0 0 2 0 0 0 0 0 2 2 1\n",
      " 0 0 1 1 0 0 0 1 2 0 0 0 0 0 1 0 1 0 0 0 2 1 0 0 0 0 0 2 1 0 2 0 1 0 1 0 2\n",
      " 0 1 0 0 1 0 2 2 0 2 0 0 0 0 1 1 1 0 0 1 1 0 0 2 1 1 0 2 0 0 1 0 2 0 0 0 0\n",
      " 1 2 0 2 0 1 0 0 0 1 1 0 0 2 1 1 2 0 1 0 1 0 0 2 0 2 0 0 0 0 0 0 0 2 0 1 0\n",
      " 2 0 0 0 0 0 1 2 0 2 0 0 1 0 1 2 1 2 2 1 0 2 0 1 2 0 0 0 1 2 0 1 0 1 0 0 2\n",
      " 2 1 0 2 1 0 0 0 0 0 1 2 2 0 0 0 1 0 1 0 1 2 0 2 0 1 1 0 0 2 0 1 0 2 0 1 0\n",
      " 1 0 0 2 0 0 0 0 0 2 0 0 0 2 0 2 0 0 1 0 1 0 1 0 0 0 2 0 0 1 2 2 1 0 2 0 2\n",
      " 1 0 0 2 0 2 1 0 0 0 0 1 0 0 0 1 1 0 1 0 0 0 2 0 1 0 1 0 0 2 0 0 1 0 0 0 0\n",
      " 0 2 2 2 0 1 0 0 2 0 2 1 2 0 1 0 1 1 0 0 0 0 0 1 0 0 0 0 0 0 1 1 1 0 1 1 2\n",
      " 0 0 0 2 0 1 2 2 2 1 2 2 0 1 0 2 0 1 1 1 2 0 1 2 0 0 2 0 0 0 0 0 2 0 0 1 0\n",
      " 0 1 0 0 0 0 1 1 2 1 1 0 2 2 0 0 0 2 1 0 1 0 2 2 0 0 0 2 0 2 1 2 1 0 0 1 1\n",
      " 1 0 2 0 0 2 0 0 1 0 0 1 1 1 0 0 0 0 1 1 0 0 0 0 0 0 0 0 1 1 1 1 2 0 0 1 0\n",
      " 1 0 0 2 1 0 1 0 0 0 2 0 2 2 0 1 1 2 0 0 1 0 0 0 2 0 0 0 0 0 0 1 0 1 0 0 1\n",
      " 2 2 2 0 0 2 0 1 0 0 1 1 2 0 2 0 1 0 0 1 1 0 0 1 1 2 0 1 0 2 0 0 0 1 0 0 2\n",
      " 0 1 0 0 0 0 1 0 1 0 2 2 0 0 0 0 0 0 0 0 0 0 1 0 0 0 0 2 0 0 1 0 0 0 0 2 1\n",
      " 0 2 0 1 2 0 1 2 0 1 1 0 0 0 0 1 2 0 0 1 1 2 0 0 0 0 0 1 2 2 0 1 0 0 1 2 0\n",
      " 1 0 0 0 2 1 0 0 1 1 0 2 2 0 0 1 1 0 0 0 0 1 2 0 2 0 0 1 2 0 0 0 1 1 2 0 0\n",
      " 1 0 2 2 0 0 2 0 0 0 1 0 1 0 0 0 2 0 0 0 1 0 1 0 1 0 0 2 1 2 2 0 0 0 0 0 0\n",
      " 1 0 0 0 0 2 2 1 0 0 1 0 0 0 0 2 0 1 1 0 2 0 0 2 0 1 0 2 1 0 0 1 0 2 2 0 0\n",
      " 0 0 0 0 1 0 0 1 0 2 0 2 0 0 2 0 0 0 0 0 1 0 1 0 0 2 1 2 0 0 0 1 1 1 1 0 2\n",
      " 0 0 0 2 0 1 2 2 0 0 0 0 0 1 0 1 1 1 1 1 2 1 0 1 0 2 0 0 0 1 0 2 1 0 2 0 0\n",
      " 0 0 0 0 0 2 2 1 1 0 1 2 0 1 0 1 0 2 0 0 0 1 0 0 2 2 1 0 2 0 2 0 0 2 0 0 0\n",
      " 1 1 1 2 1 0 0 2 2 1 0 0 1 0 1 0 2 0 0 0 2 0 2 0 0 0 1 2 0 1 1 1 0 0 1 2 1\n",
      " 0 1 2 0 2 0 2 0 2 2 1 1 0 1 2 1 2 0 2 0 0 0 0 0 2 0 1 0 2 0 2 0 1 2 0 0 1\n",
      " 1 1 1 0 0 0 2 1 1 1 1 0 2 2 1 1 2 1 0 0 0 0 0 0 0 1 1 2 1 0 2 0 0 2 0 0 2\n",
      " 0 1 0 0 0 0 1 0 1 2 2 0 0 0 0 0 0 0 0 1 0 0 0 0 2 0 1 0 1 2 0 2 1 0 2 0 2\n",
      " 0 2 2 2 0 0 1 0 2 0 0 1 0 0 1 1 0 0 0 1 1 2 0 0 0 0 2 0 0 0 1 0 1 1 1 1 0\n",
      " 2 0 0 2 2 0 0 2 0 1 2 1 2 0 0 1 0 0 2 1 1 1 1 0 0 0 0 1 2 0 2 1 1 2 0 0 1\n",
      " 1 0 1 1 1 2 2 1 1 1 1 0 0 0 0 0 0 0 0 0 0 0 2 2 0 0 0 0 0 0 0 1 0 1 1 2 0\n",
      " 1 2 1 0 0 1 0 1 0 0 0 0 1 2 2 0 2 1 2 0 1 1 2 0 0 0 0 0 0 1 0 0 0 1 0 1 0\n",
      " 2 0 0 0 1 1 1 2 0 0 0 0 0 2 1 0 0 1 0 0 2 0 2 1 1 0 1 2 0 0 0 0 0 0 0 0 0\n",
      " 2 0 0 1 0 0 2 1 2 1 1 0 0 0 0 2 1 2 0 0 1 0 0 1 0 0 0 0 1 0 0 1 2 0 0 0 1\n",
      " 0 2 1 1 2 1 0 0 2 0 0 2 3 0 1 0 1 0 0 1 0 1 2 1 2 0 1 1 0 2 0 0 0 0 0 0 1\n",
      " 0 1 2 1 0 1 0 0 0 1 0 0 2 0 0 0 0 0 0 0 1 1 0 2 0 1 1 0 0 0 0 0 0 0 1 1 0\n",
      " 0 1 1 1 0 0 1 2 2 2 0 0 1 0 1 0 2 1 1 0 0 2 0 0 0 2 0 0 0 2 0 2 1 0 2 0 2\n",
      " 2 0 0 0 1 0 0 0 2 0 2 1 1 1 0 1 0 1 0 0 1 2 2 0 0 1 2 1 0 0 0 1 1 1 0 1 0\n",
      " 2 2 2 2 1 0 2 0 1 0 2 0 1 0 0 0 2 2 1 1 0 0 1 2 0 0 0 2 0 2 2 0 2 0 0 0 0\n",
      " 0 0 0 2 1 2 0 0 2 0 2 0 0 0 0 0 1 0 2 1 0 1 0 0 1 1 2 0 1 1 0 2 0 0 0 0 0\n",
      " 1 0 2 1 0 0 0 0 0 0 2 1 1 0 0 0 0 0 0 1 2 1 1 0 2 0 0 0 2 2 0 0 2 2 0 2 1\n",
      " 0 0 1 0 0 2 0 1 0 0 2 0 0 2 0 2 0 2 0 0 0 0 0 0 1 0 1 2 0 0 2 2 1 0 2 0 0\n",
      " 0 0 0 0 0 0 0 0 1 0 2 2 0 0 0 1 0 0 2 1 0 1 1 2 0 0 1 2 1 0 0 0 0 0 1 0 0\n",
      " 0 1 1 1 0 0 0 1 2 2 0 1 0 0 2 0 1 0 0 0 1 1 1 0 1 0 1 1 0 0 1 0 2 0 1 1 0\n",
      " 0 1 0 0 0 0 2 2 0 0 0 0 1 0 2 2 1 0 2 1 2 1 0 0 0 0 0 0 1 2 1 1 2 0 2 0 0\n",
      " 0 1 1 0 0 0 0 2 0 0 0 1 0 2 0 1 1 0 1 1 0 0 2 2 1 1 0 0 1 0 1 0 1 0 2 0 0\n",
      " 1 2 2 1 2 0 2 0 0 1 0 0 0 0 0 0 1 1 0 0 0 0 0 0 1 0 0 0 0 0 0 0 1 1 0 1 1\n",
      " 1 0 1 2 0 0 2 2 2 0 2 0 1 0 2 1 2 0 2 1 2 0 0 0 0 0 1 0 1 0 0 2 1 0 0 0 1\n",
      " 0 2 0 0 0 2 2 0 1 0 2 1 1 1 2 2 2 1 0 0 0 0 0 2 0 0 0 0 2 0 1 0 2 0 0 0 0\n",
      " 1 0 1 2 0 1 0 0 2 2 2 0 0 0 0 2 0 2 0 2 1 2 1 0 1 0 0 0 0 0 0 2 0 0 0 2 0\n",
      " 0 0 1 2 2 2 0 0 0 0 0 2 1 0 0 0 1 2 0 0 2 0 0 1 2 2 0 0 0 1 1 1 0 1 1 0 0\n",
      " 0 0 0 0 1 0 0 0 0 0 0 0 0 2 0 0 0 2 1 0 0 0 2 2 0 0 0 0 0 0 2 0 1 1 0 1 0\n",
      " 0 1 0 0 0 2 0 0 2 0 0 2 0 0 1 2 1 0 0 1 0 0 0 2 2 0 0 1 1 0 2 0 1 0 2 1 0\n",
      " 0 1 0 1 0 1 2 2 0 0 0 1 0 1 2 2 1 1 0 0 2 0 0 0 0 1 0 0 0 2 1 0 2 1 0 2 0\n",
      " 0 0 0 1 0 0 2 0 0 0 2 0 0 1 2 0 1 0 1 1 2 2 1 1 0 1 0 0 2 0 0 2 0 0 0 2 2\n",
      " 0 0 0 0 0 0 2 0 1 0 2 1 1 2 0 2 0 0 0 1 0 0 2 2 1 0 2 1 0 1 0 2 2 2 2 0 1\n",
      " 2 0 0 0 1 0 0 0 1 0 2 0 1 0 0 0 0 0 0 1 0 0 0 0 0 0 2 0 0 0 0 0 1 0 0 1 0\n",
      " 1 0 2 2 2 0 0 0 1 1 2 0 1 0 0 0 0 0 0 0 1 1 0 0 1 0 0 0 0 0 0 0 2 0 2 0 0\n",
      " 0 0 0 2 1 0 0 0 0 0 1 1 0 1 0 0 1 1 0 2 0 2 0 0 2 0 0 1 0 2 0 0 0 2 2 1 0\n",
      " 1 0 0 0 0 0 0 0 1 0 1 1 1 0 0 1 2 0 0 1 2 0 0 0 1 0 0 0 0 1 2 0 0 0 0 0 0\n",
      " 1 1 0 2 0 0 1 1 1 2 1 0 0 0 0 0 0 0 0 0 1 0 2 2 2 0 0 1 0 2 2 0 0 0 0 1 0\n",
      " 0 0 2 0 0 0 0 1 1 0 0 1 0 0 0 0 0 0 0 0 0 0 2 1 0 0 0 1 2 0 0 0 0 1 1 0 2\n",
      " 0 0 1 2 0 1 0 0 2 0 2 1 2 0 0 0 0 2 1 2 0 1 0 2 2 0 0 0 0 2 1 2 0 2 0 2 0\n",
      " 2 0 1 2 0 0 1 0 0 0 1 0 0 0 0 0 1 0 0 0 1 0 0 1 0 0 0 0 0 0 0 1 2 0 1 1 0\n",
      " 1 0 2 0 1 0 0 0 0 2 2 0 2 0 1 0 0 0 1 0 1 1 0 1 1 0 0 0 2 0 0 0 1 0 0 0 1\n",
      " 0 0 0 0 0 2 0 0 2 1 0 1 2 2 0 2 2 2 1 1 0 1 0 0 1 0 1 0 2 0 0 0 2 0 0 0 0\n",
      " 1 0 2 0 0 0 0 1 2 2 2 0 0 1 1 1 2 2 0 0 2 2 0 0 0 0 0 1 0 0 1 1 0 2 0 0 0\n",
      " 0 0 0 0 1 0 2 1 1 0 0 0 0 0 0 1 1 1 1 0 1 1 2 1 2 0 1 1 0 0 0 1 0 2 2 0 0\n",
      " 1 2 0 2 1 0 0 0 0 0 0 0 0 2 0 0 0 1 0 0 2 0 1 2 0 0 0 0 0 0 0 0 1 0 0 1 0\n",
      " 0 0 0 2 0 2 0 1 2 0 0 0 1 0 0 2 0 0 1 0 0 0 1 0 1 0 2 0 2 2 0 0 2 0 2 0 2\n",
      " 1 0 1 0 2 0 0 2 0 0 2 0 2 1 0 0 1 2 1 2 2 2 2 0 2 0 0 0 0 0 0 1 0 0 1 0 0\n",
      " 1 0 1 1 0 0 1 0 1 0 1 0 2 0 1 0 0 1 0 1 0 2 2 0 0 0 0 0 2 0 2 2 0 0 0 2 0\n",
      " 2 2 2 0 1 2 0 0 1 0 0 0 1 0 0 1 1 0 1 2 1 0 0 1 1 1 0 1 0 2 0 0 0 2 0 2 1\n",
      " 1 0 0 1 0 0 2 0 1 1 0 0 0 0 0 0 2 1 1 1 0 0 0 0 0 2 0 0 0 0 0 1 0 0 0 0 0\n",
      " 1 0 0 0 0 0 0 1 1 0 1 1 0 0 0 0 0 0 2 0 0 0 1 0 0 0 0 0 0 1 0 2 1 2 0 0 1\n",
      " 0 0 0 1 1 0 2 0 1 2 0 0 1 0 0 0 0 2 1 0 1 0 2 2 0 0 0 0 0 2 1 0 0 0 0 0 0\n",
      " 0 0 0 0 2 1 0 2 0 1 0 2 0 1 1 1 2 0 2 1 0 2 0 0 0 0 0 1 1 2 0 0 2 0 0 0 0\n",
      " 0 1 2 2 0 0 0 0 0 1 0 0 2 0 1 2 2 0 0 1 0 0 0 0 0 0 1 2 0 1 0 0 0 0 2 0 2\n",
      " 0 2 0 0 2 1 1 0 0 0 2 0 0 1 2 0 0 0 0 0 0 0 1 2 1 0 1 0 2 2 0 0 0 0 0 0 0\n",
      " 0 2 0 0 0 0 0 2 0 0 0 0 0 0 0 2 1 0 2 1 0 0 2 1 1 1 2 0 1 0 0 0 1 2 1 0 0\n",
      " 0 0 2 0 0 0 0 0 0 0 0 0 2 2 0 1 0 0 0 1 0 0 2 1 2 0 0 1 0 0 0 0 0 1 0 0 1\n",
      " 0 1 2 0 1 1 0 0 0 0 0 0 0 0 2 0 0 0 0 1 2 1 0 1 0 0 1 2 2 0 0 1 2 1 0 1 0\n",
      " 1 0 2 2 0 2 1 0 1 0 1 0 0 1 2 0 0 2 1 0 2 1 0 0 0 0 0 1 0 2 0 3 0 0 1 0 0\n",
      " 0 0 2 1 0 0 0 0 0 0 2 1 1 1 1 1 0 0 0 0 2 0 0 0 1 1 0 0 0 0 0 1 2 2 2 0 0\n",
      " 2 0 0 0 1 2 1 0 0 1 0 0 2 2 0 1 1 1 0 1 0 2 0 2 2 0 2 0 0 1 0 1 1 1 0 0 0\n",
      " 0 0 0 0 0 0 1 0 2 0 2 2 0 0 0 2 2 1 0 1 0 1 0 1 0 0 0 0 0 0 2 0 0 1 0 0 0\n",
      " 0 0 0 0 0 2 2 0 0 0 0 1 0 0 0 0 0 0 1 0 0 0 0 2 0 0 0 2 0 0 0 1 0 0 1 0 2\n",
      " 0 0 0 0 2 0 1 2 0 2 1 0 0 0 0 0 2 1 0 0 0 0 0 2 2 0 0 0 0 0 0 0 0 0 2 1 2\n",
      " 0 0 1 1 2 0 0 1 1 1 0 1 1 0 0 2 0 0 1 1 1 0 1 2 2 1 0 0 1 1 0 0 2 0 1 1 1\n",
      " 0 0 0 1 2 0 0 0 0 0 1 1 0 1 0 0 0 0 2 0 0 0 1 0 0 2 0 2 1 1 2 1 2 2 2 1 0\n",
      " 2 0 2 2 0 1 2 1 0 2 2 0 0 0 0 1 0 0 1 0 0 0 0 0 0 1 1 0 0 0 0 1 1 1 1 0 0\n",
      " 1 0 2 0 0 0 2 0 2 1 0 1 0 2 1 0 0 0 0 0 0 2 0 0 1 0 0 0 2 0 0 0 0 0 1 0 0\n",
      " 0 1 0 1 0 0 0 0 0 0 0 0 0 0 2 1 2 2 0 1 0 0 0 0 2 0 0 0 2 1 1 0 0 0 1 1 0\n",
      " 2 0 1 1 1 2 0 0 0 0 0 1 0 1 1 1 1 0 0 2 0 0 0 2 0 0 2 0 2 0 1 2 0 0 0 0 2\n",
      " 0 2 2 2 0 0 0 0 0 1 0 2 1 0 2 1 0 0 0 0 0 2 2 0 0 0 2 0 0 0 2 2 2 0 2 2 0\n",
      " 0 0 0 0 2 0 2 0 0 0 0 0 0 0 0 0 1 0 2 0 0 0 0 1 0 0 2 0 1 2 0 1 0 2 0 0 2\n",
      " 0 2 1 0 2 0 0 2 0 2 0 1 0 1 0 1 0 0 2 1 0 0 0 1 1 0 2 2 1 1 2 1 0 1 0 1 0\n",
      " 0 0 0 0 0 1 0 1 0 0 0 2 1 2 1 0 0 0 0 0 0 2 0 1 0 1 1 0 2 1 1 2 0 0 0 0 0\n",
      " 0 0 0 0 1 2 1 0 0 1 0 0 2 0 2 0 1 0 1 1 1 0 0 0 2 0 2 0 0 0 0 2 1 0 0 0 0\n",
      " 1 0 0 2 1 2 2 0 0 1 0 0 1 2 0 0 0 0 0 0 0 0 2 0 0 0 0 1 0 0 0 0 1 2 0 0 0\n",
      " 1 0 0 0 0 2 0 0 0 0 0 0 2 0 2 0 0 0 2 2 2 1 1 0 2 1 0 0 1 0 0 1 0 0 1 0 0\n",
      " 2 1 0 2 0 1 1 2 2 2 0 0 0 1 0 1 0 0 0 0 0 1 0 1 0 0 0 1 0 1 1 0 1 0 1 2 2\n",
      " 2 2 0 1 0 0 0 0 0 0 2 0 0 0 1 0 0 0 1 0 1 0 0 0 0 0 0 0 0 1 0 0 0 0 1 0 0\n",
      " 0 0 0 0 2 1 1 1 0 0 2 2 2 0 0 1 0 0 0 1 0 0 0 2 2 1 1 1 2 0 0 0 2 1 0 0 2\n",
      " 0 0 2 0 1 0 0 0 0 0 0 0 1 0 1 0 2 2 0 2 2 1 2 2 1 1 0 1 0 0 0 1 1 1 0 0 0\n",
      " 0 2 1 2 0 1 0 0 0 0 1 2 1 0 1 0 0 0 1 2 0 0 2 0 1 0 0 1 0 0 2 0 0 0 0 2 1\n",
      " 1 1 1 0 0 0 2 1 0 1 1 0 1 0 1 0 0 0 0 0 0 0 0 0 2 1 1 1 0 0 1 0 2 0 0 0 0\n",
      " 1 1 0 1 0 1 0 0 1 2 1 0 0 2 2 0 0 2 0 0 0 0 0 0 1 0 0 2 1 0 1 0 0 1 0 0 0\n",
      " 0 1 0 0 0 0 0 0 1 0 0 0 2 2 0 2 2 0 1 0 1 1 2 0 0 0 0 0 1 1 0 2 0 0 0 2 1\n",
      " 1 0 2 0 0 0 0 1 0 0 0 2 1 1 0 0 0 0 0 2 2 2 1 1 0 0 1 1 2 0 0 0 0 0 0 2 0\n",
      " 1 2 0 0 2 2 0 1 1 0 0 0 1 2 0 0 0 2 0 2 2 0 0 2 0 1 0 0 0 2 1 0 0 1 0 2 2\n",
      " 0 0 0 0 0 0 1 2 1 0 0 2 1 0 0 0 1 1 3 1 2 0 0 1 0 2 2 0 0 1 0 0 0 1 2 1 1\n",
      " 0 0 1 0 0 0 0 0 0 1 0 0 0 0 0 0 0 0 0 0 1 0 1 2 0 0 0 0 2 0 0 0 0 0 1 0 2\n",
      " 0 0 1 2 2 0 0 2 1 0 2 0 0 1 1 0 2 1 2 0 1 2 2 0 0 0 2 0 2 0 0 1 2 0 0 0 1\n",
      " 2 1 0 1 0 0 0 0 0 1 0 1 2 1 0 0 1 0 0 2 0 0 0 2 0 0 0 2 0 0 2 0 0 1 0 0 1\n",
      " 2 0 0 0 0 1 0 0 0 0 0 1 0 0 0 2 2 0 0 0 0 0 0 1 1 0 1 1 2 0 0 1 0 0 0 0 0\n",
      " 0 0 0 2 2 0 0 0 0 2 1 2 1 0 1 0 0 1 2 1 1 0 0 0 0 0 0 2 0 0 1 0 1 0 2 2 0\n",
      " 0 0 1 1 1 1 0 0 2 0 0 0 1 1 2 0 0 0 0 1 0 0 0 2 0 0 0 1 0 0 1 0 0 0 2 0 0\n",
      " 0 0 1 1 2 0 1 0 0 2 0 2 1 2 2 1 0 0 0 2 0 1 0 0 0 0 0 1 1 0 0 1 0 0 0 0 1\n",
      " 0 2 0 1 1 2 0 2 1 0 0 0 0 0 0 0 1 0 0 0 2 2 2 1 0 0 0 0 0 0 0 1 0 2 1 1 1\n",
      " 0 1 0 0 0 0 0 2 1 0 0 0 0 2 1 0 0 1 0 2 0 1 2 2 1 0 1 1 1 0 1 0 0 2 2 1 1\n",
      " 0 1 0 1 1 0 0 1 0 1 0 0 0 0 1 0 0 0 0 1 0 0 0 0 0 0 0 0 0 2 0 1 1 2 0 0 0\n",
      " 1 0 2 1 2 0 1 1 1 0 0 0 0 0 0 0 0 0 0 1 0 1 0 2 2 0 0 0 2 0 2 0 0 0 0 0 0\n",
      " 2 2 2 2 0 0 0 0 0 2 2 0 1 0 1 1 0 0 0 1 0 0 2 0 1 0 2 1 0 0 2 1 0 1 0 1 1\n",
      " 0 1 0 0 1 2 2 0 0 1 0 0 2 2 0 1 2 0 2 0 1 0 1 2 0 0 2 1 1 0 2 0 1 0 0 1 1\n",
      " 0 0 1 0 1 2 0 0 0 1 2 0 0 0 1 0 2 0 1 2 0 0 0 2 0 2 0 1 0 0 0 1 0 2 0 1 0\n",
      " 1 0 0 0 0 2 0 2 0 2 0 0 0 0 1 1 0 0 0 0 2 1 1 1 1 0 0 0 2 2 0 0 1 2 0 2 0\n",
      " 0 1 0 2 0 0 0 2 2 0 2 0 0 1 1 2 0 0 1 1 1 0 0 0 0 1 0 0 1 1 1 0 0 0 0 0 0\n",
      " 1 0 2 0 0 1 0 1 0 0 0 1 0 0 0 0 2 2 0 2 2 0 1 0 0 0 1 0 0 2 1 0 0 2 1 1 0\n",
      " 0 0 1 0 0 0 1 2 1 0 1 0 0 1 0 0 0 1 0 0 0 0 1 1 0 2 1 0 0 1 2 2 0 0 2 2 0\n",
      " 1 0 2 2 0 0 0 0 0 1 0 1 0 0 0 0 0 0 0 1 0 0 0 1 0 0 1 1 0 0 1 0 0 1 0 1 1\n",
      " 0 0 0 0 2 0 0 2 1 0 0 0 2 0 0 2 2 1 0 1 2 0 0 1 1 0 2 0 2 1 1 0 0 1 0 0 1\n",
      " 0 0 0 1 2 0 1 0 1 0 1 1 1 0 2 0 2 0 1 0 1 0 0 0 0 0 0 0 2 2 0 2 0 1 1 0 1\n",
      " 1 0 0 0 0 1 0 0 2 0 2 0 1 0 0 1 1 2 2 0 2 1 0 0 2 1 1 0 0 1 0 0 0 0 0 1 2\n",
      " 0 0 2 1 2 0 0 2 1 1 0 1 0 0 0 0 0 1 1 2 1 0 0 2 0 1 2 1 0 0 0 0 0 2 2 0 0\n",
      " 0 1 0 2 0 0 1 0 1 2 0 0 0 1 0 2 0 2 0 0 0 2 0 0 0 0 0 2 1 2 0 1 0 2 1 0 0\n",
      " 1 0 1 0 2 1 1 1 0 1 0 0 0 0 1 2 0 2 2 0 0 0 1 0 2 1 0 1 2 1 0 0 2 2 0 2 0\n",
      " 1 0 0 1 1 1 0 0 1 0 0 0 0 0 0 0 2 1 2 0 0 0 0 0 0 0 0 0 0 0 1 0 0 1 0 2 1\n",
      " 0 0 0 0 1 2 0 0 0 1 1 1 0 0 2 0 0 1 0 2 0 2 1 2 0 2 2 0 2 1 0 1 1 0 0 2 1\n",
      " 0 0 2 2 0 2 0 1 2 0 0 2 2 0 1 0 0 0 0 1 0 1 0 0 0 0 0 1 0 2 0 0 1 0 0 1 0\n",
      " 0 1 0 0 0 0 2 0 1 0 0 0 2 0 1 1 1 0 0 1 0 0 2 1 2 1 1 2 0 2 0 1 0 0 2 2 0\n",
      " 0 1 1 1 0 0 0 1 0 1 1 2 0 0 0 2 0 2 2 0 0 2 0 0 1 0 3 1 2 0 0 2 0 0 0 1 0\n",
      " 0 0 0 0 1 0 0 0 0 1 2 0 0 0 0 0 0 1 0 0 0 1 0 0 2 2 0 0 0 1 1 1 0 0 0 2 2\n",
      " 0 0 1 1 0 0 2 0 2 0 0 2 0 2 0 0 0 0 0 0 0 0 0 0 0 1 0 1 1 0 1 0 2 0 0 1 2\n",
      " 2 2 0 1 0 2 2 2 0 0 1 0 1 0 1 1 0 0 0 0 0 2 0 1 0 1 0 0 1 0 1 0 0 1 1 0 1\n",
      " 0 0 0 0 2 0 0 0 2 0 0 0 0 0 0 0 0 0 0 0 0 0 0 0 1 2 1 1 0 0 0 2 2 2 0 0 2\n",
      " 2 1 0 1 0 2 0 2 0 0 0 0 2 2 2 1 1 0 2 0 0 2 0 0 0 0 1 0 0 1 0 0 1 0 0 1 1\n",
      " 2 0 0 1 1 1 1 1 2 0 0 2 1 0 1 0 2 0 1 0 1 0 0 1 1 0 2 0 0 0 0 1 1 0 0 0 1\n",
      " 1 1 2 0 2 0 2 1 2 1 1 2 2 1 1 1 0 0 0 2 2 0 0 0 0 1 0 2 0 0 0 0 0 2 0 0 0\n",
      " 0 0 0 0 2 0 1 0 0 0 0 0 0 0 0 2 0 0 1 0 0 1 2 0 1 2 1 2 1 0 0 1 1 0 2 0 1\n",
      " 0 2 0 2 1 0 0 1 2 0 0 1 0 0 0 2 0 2 0 1 0 1 0 0 0 0 0 2 1 1 0 1 0 0 1 1 1\n",
      " 0 1 2 2 1 1 2 1 1 0 0 0 0 2 0 1 0 0 1 0 0 1 0 2 0 0 2 0 2 0 0 0 1 2 2 0 0\n",
      " 0 0 1 2 2 0 2 0 1 1 0 0 0 0 2 1 0 1 1 0 0 0 0 1 0 1 0 1 2 2 3 0 0 1 0 0 2\n",
      " 0 0 0 0 2 1 2 0 0 2 1 0 1 1 2 2 0 0 0 0 0 0 0 0 2 0 2 0 0 0 0 0 0 0 2 2 0\n",
      " 1 1 0 0 2 0 1 0 1 0 2 2 0 1 2 1 0 0 0 0 1 0 0 1 1 0 1 1 0 1 2 1 2 0 0 1 0\n",
      " 1 0 0 2 0 1 2 0 0 0 0 2 1 0 2 0 1 2 0 0 0 0 0 0 2 2 2 1 0 0 2 0 1 1 0 0 0\n",
      " 1 2 0 0 2 0 0 0 2 0 2 2 2 0 0 0 2 0 1 0 2 0 0 0 0 1 2 2 0 0 2 0 2 0 0 2 0\n",
      " 0 0 0 1 0 0 0 0 1 0 2 1 2 0 0 0 1 0 0 2 0 0 0 0 2 0 0 1 0 0 0 1 0 0 0 1 0\n",
      " 0 2 0 2 1 1 0 2 2 0 0 0 0 2 1 0 2 1 2 1 0 2 2 0 2 2 1 1 0 0 0 0 0 0 0 1 1\n",
      " 2 1 2 1 0 1 0 1 0 0 2 2 0 2 0 0 1 1 0 0 0 0 1 0 0 0 0 0 0 2 0 1 0 0 1 1 2\n",
      " 0 1 0 0 0 0 0 1 0 2 0 1 0 0 2 0 1 1 2 2 0 0 1 2 0 0 0 2 0 0 0 1 0 0 0 0 0\n",
      " 2 2 2 0 2 1 0 2 0 0 0 0 1 1 0 0 0 0 0 0 0 1 0 2 0 0 0 1 1 0 1 2 0 2 2 0 0\n",
      " 2 0 0 0 0 0 0 0 0 1 0 0 1 2 0 0 2 0 1 0 2 2 0 2 0 2 1 1 2 0 0 0 0 0 1 0 0\n",
      " 2 0 0 1 0 1 1 1 0 0 0 1 2 0 0 0 1 0 2 1 0 0 0 1 0 0 0 0 0 2 0 0 0 2 0 0 1\n",
      " 0 0 0 0 1 0 1 0 2 0 2 2 1 0 0 1 0 0 2 0 2 1 2 1 0 2 0 0 0 0 1 0 2 2 0 0 2\n",
      " 2 0 0 0 0 0 0 1 0 0 2 0 0 0 1 0 0 2 1 0 0 2 0 0 1 0 2 0 1 1 2 0 1 2 0 1 0\n",
      " 0 2 1 0 0 0 1 0 0 0 0 1 0 0 1 2 0 1 2 0 0 0 2 2 1 1 1 0 1 0 0 2 0 1 2 0 2\n",
      " 1 0 2 0 2 0 0 0 0 1 0 0 0 0 0 0 0 1 1 1 0 0 2 0 0 0 0 0 2 0 0 0 0 2 1 0 0\n",
      " 0 0 0 0 0 1 1 0 0 2 0 1 0 0 2 0 2 0 2 1 0 0 1 1 2 2 0 2 2 0 2 1 0 1 0 0 0\n",
      " 0 1 2 1 0 2 0 0 1 0 1 1 0 2 2 0 0 1 0 0 0 2 0 0 0 1 2 0 0 1 0 2 1 0 2 0 1\n",
      " 0 0 2 1 0 0 0 0 0 1 0 0 1 0 0 0 0 2 1 2 0 1 0 1 0 0 0 0 0 0 2 0 0 0 2 0 0\n",
      " 2 1 0 0 0 1 0 0 0 0 2 0 0 0 0 2 0 1 0 1 0 2 0 0 2 1 2 2 0 0 0 0 0 0 1 1 0\n",
      " 2 2 0 0 0 2 0 0 0 0 0 1 1 0 0 1 2 1 2 0 1 0 1 2 2 0 0 2 2 0 2 0 0 0 0 0 0\n",
      " 2 1 0 0 0 0 0 2 2 2 0 0 0 1 0 1 0 0 0 0 2 0 0 0 1 1 0 0 2 1 0 0 2 0 2 2 0\n",
      " 0 0 0 2 0 0 1 0 0 0 1 1 2 0 2 0 0 1 0 2 1 0 0 0 2 2 0 2 1 0 0 2 2 1 2 2 0\n",
      " 0 0 0 0 0 2 2 0 0 1 0 0 1 0 0 0 1 0 0 0 0 0 0 1 0 2 1 0 0 0 0 2 0 1 0 0 0\n",
      " 0 0 0 0 0 2 0 0 0 1 0 1 0 0 2 2 2 0 2 0 0 2 2 0 0 0 0 0 2 2 1 0 2 0 1 1 1\n",
      " 0 1 2 0 1 0 0 0 1 0 0 0 0 0 0 2 0 0 1 2 0 2 1 0 2 0 1 0 1 0 2 1 1 0 1 1 0\n",
      " 0 0 0 1 0 0 2 0 1 0 0 0 0 0 0 0 2 0 2 1 1 2 0 0 0 0 0 2 2 0 0 1 0 2 0 1 0\n",
      " 1 0 2 2 2 0 2 0 2 1 2 2 0 2 0 0 2 1 2 1 2 2 0 0 0 2 2 1 1 2 0 1 1 2 1 0 0\n",
      " 0 0 0 1 0 0 0 2 1 0 0 2 0 0 0 0 0 0 0 1 1 0 0 0 0 1 1 1 0 1 2 1 0 1 2 0 2\n",
      " 2 0 0 0 2 2 0 0 0 2 0 2 0 1 0 2 0 1 0 0 0 0 0 0 0 0 1 0 0 2 0 0 0 0 1 0 1\n",
      " 0 0 0 1 2 1 1 0 0 0 0 0 0 1 0 0 0 1 0 0 0 0 0 2 0 2 0 2 0 2 0 1 0 0 0 2 2\n",
      " 1 1 0 0 2 2 0 1 0 0 0 0 2 2 2 2 1 0 0 0 0 0 0 0 0 0 2 2 0 0 0 0 2 2 0 2 1\n",
      " 0 0 0 0 0 2 2 0 0 1 0 2 0 0 2 0 0 1 0 0 1 0 0 0 0 0 2 0 1 2 0 0 0 2 0 0 0\n",
      " 1 0 0 2 2 0 0 1 0 2 1 1 0 1 0 0 0 0 0 1 2 0 0 0 2 0 2 0 1 0 0 2 0 1 0 0 0\n",
      " 1 2 0 1 0 0 0 0 2 2 1 2 0 0 1 1 2 2 2 1 0 1 0 0 2 0 0 2 0 0 1 1 1 1 0 1 2\n",
      " 2 0 1 0 0 0 0 1 0 0 0 2 0 0 0 1 1 1 0 0 2 1 0 2 2 2 1 2 1 0 0 1 2 0 0 0 2\n",
      " 0 0 0 2 0 0 0 0 0 1 2 2 0 0 1 0 2 1 0 0 0 1 0 1 0 1 1 0 1 2 2 0 0 0 0 0 1\n",
      " 0 2 2 1 0 1 1 2 0 0 0 0 0 1 0 0 1 0 1 1 0 0 0 0 0 0 1 0 0 0 0 2 0 2 1 1 0\n",
      " 0 2 0 0 1 0 1 0 0 0 0 0 0 1 1 2 0 2 0 0 1 0 2 2 1 0 0 0 0 1 0 0 0 0 0 0 0\n",
      " 0 0 1 0 2 0 0 1 2 0 0 2 1 1 0 1 0 0 1 0 0 0 0 0 0 1 2 0 0 0 0 0 2 1 0 2 0\n",
      " 2 2 0 1 2 0 0 0 0 2 0 1 0 0 1 1 1 1 0 0 0 0 0 1 0 2 2 2 0 0 1 0 2 2 0 0 0\n",
      " 0 0 0 0 2 2 1 2 1 0 2 0 1 0 2 0 2 1 0 0 2 2 0 1 0 2 0 0 0 0 0 0 0 1 0 2 0\n",
      " 2 1 0 1 0 1 2 1 1 2 2 0 0 1 0 1 0 0 1 2 1 2 0 0 1 0 2 2 0 0 0 2 1 2 1 0 0\n",
      " 1 0 0 0 0 1 2 1 0 0 0 1 0 0 0 2 0 1 0 0 0 0 0 0 1 0 0 0 0 0 2 0 0 0 2 2 2\n",
      " 0 0 1 2 0 0 1 0 2 1 0 1 0 0 1 0 0 2 1 0 0 0 0 1 1 2 0 2 2 2 1 2 2 2 0 0 0\n",
      " 0 0 0 0 1 0 0 0 0 0 1 2 2 0 1 0 0 2 1 1 1 2 0 2 1 2 0 0 0 0 1 0 0 0 1 0 2\n",
      " 0 1 1 1 0 0 1 0 1 0 1 0 2 2 0 2 0 0 0 0 1 0 2 1 0 2 1 0 0 1 0 0 0 0 2 0 0\n",
      " 1 0 0 0 0 1 0 0 0 0 0 2 1 2 1 2 0 0 0 1 0 0 0 1 0 0 0 1 0 0 1 1 0 0 2 0 2\n",
      " 0 0 0 1 1 0 0 0 2 2 0 2 0 0 0 0 0 1 1 0 0 0 0 1 0 2 2 1 2 2 0 0 0 1 0 1 2\n",
      " 0 0 1 0 0 0 0 0 2 0 1 2 0 2 2 1 1 1 0 0 0 0 0 0 0 0 1 1 1 1 0 0 0 1 0 1 1\n",
      " 0 2 0 0 0 0 1 1 0 0 1 0 1 1 2 2 0 0 0 2 2 0 0 1 0 1 0 0 0 2 2 1 0 1 0 1 2\n",
      " 1 0 1 0 1 0 1 0 1 0 1 0 0 0 0 1 0 0 0 1 1 0 1 2 0 0 1 0 0 1 0 0 0 0 0 1 1\n",
      " 2 0 0 0 1 0 0 2 0 1 2 0 1 0 0 0 0 2 0 2 0 0 0 0 0 1 0 0 0 1 0 1 1 0 0 2 2\n",
      " 0 0 1 0 0 0 0 0 1 0 0 0 1 0 1 2 1 0 2 2 2 0 0 1 0 0 0 2 1 0 1 1 1 2 0 1 1\n",
      " 0 1 2 0 0 1 0 0 0 0 0 0 0 0 0 0 0 0 2 0 1 0 1 0 1 0 1 0 0 0 0 0 0 0 0 0 1\n",
      " 0 2 0 0 0 0 2 0 1 0 2 1 0 1 1 0 0 0 1 0 1 2 2 0 1 0 2 0 0 0 0 2 0 0 0 1 0\n",
      " 0 0 0 0 1 0 2 2 2 0 1 0 1 2 0 1 0 0 0 2 1 1 3 2 0 1 0 2 0 0 2 0 0 0 2 0 0\n",
      " 2 2 0 0 0 0 0 1 0 2 2 1 1 2 2 0 0 1 0 1 0 0 0 1 2 0 2 0 0 2 0 0 2 0 0 2 0\n",
      " 0 1 0 0 1 0 0 0 2 1 0 0 0 0 0 2 1 2 1 0 0 0 2 0 0 0 0 1 0 1 0 0 1 0 0 0 2\n",
      " 0 2 0 1 0 1 0 0 0 2 0 2 1 1 0 0 0 1 0 1 0 0 0 0 0 1 1 0 0 2 0 0 1 2 0 0 2\n",
      " 0 1 1 2 0 1 0 0 2 0 1 0 2 0 0 1 2 2 0 1 2 0 0 0 0 2 0 0 0 0 1 1 2 1 2 0 2\n",
      " 0 2 0 2 0 0 0 1 0 0 1 0 0 0 1 2 1 2 0 0 2 1 1 0 2 0 0 0 0 1 0 0 0 0 1 0 0\n",
      " 0 0 0 0 1 2 0 0 2 1 1 0 1 0 1 0 0 0 1 2 1 1 0 1 0 2 2 0 0 0 2 2 0 1 2 0 1\n",
      " 1 2 2 2 2 2 2 0 0 2 1 2 0 0 0 0 0 0 1 0 1 0 0 0 0 0 1 0 0 2 1 0 1 0 0 0 1\n",
      " 0 0 0 2 2 0 2 0 2 0 0 2 2 0 1 0 0 1 2 1 0 0 0 0 0 0 0 0 0 0 0 2 0 0 0 0 2\n",
      " 2 0 0 2 0 0 2 0 2 0 1 0 0 0 0 0 0 2 2 0 2 0 0 0 0 1 2 2 2 0 2 0 1 1 2 0 0\n",
      " 0 1 0 2 1 2 2 1 1 0 2 1 0 0 0 0 2 1 0 1 1 2 1 2 0 2 2 0 1 0 0 0 1 0 1 0 0\n",
      " 0 0 2 0 0 0 0 1 0 0 0 0 2 0 0 0 0 0 0 0 2 2 1 0 0 0 2 2 1 0 2 0 0 0 0 2 0\n",
      " 0 0 0 2 0 0 1 1 2 0 2 1 0 2 1 0 1 1 0 2 1 1 1 2 1 0 0 0 2 0 1 0 0 2 0 0 1\n",
      " 2 0 0 0 0 1 0 2 2 2 0 0 1 2 2 2 2 0 2 0 1 1 2 0 0 0 0 0 2 0 0 1 0 0 0 0 0\n",
      " 0 2 0 2 0 0 0 0 1 2 0 1 0 0 0 0 0 0 1 1 0 1 0 0 0 0 0 0 0 2 1 0 2 0 0 0 0\n",
      " 0 2 0 0 0 0 0 2 0 0 0 0 2 1 0 0 2 0 2 1 0 1 1 2 0 0 2 2 0 0 2 2 1 0 0 0 1\n",
      " 0 0 1 2 1 0 0 0 1 1 0 1 0 2 1 1 2 0 0 1 2 1 1 1 2 2 0 0 2 1 0 0 0 0 2 1 0\n",
      " 1 2 2 0 1 0 1 0 2 1 0 1 0 1 2 2 1 0 1 0 0 1 0 0 2 1 1 0 1 0 2 0 0 1 0 2 0\n",
      " 1 0 2 0 0 1 1 0 0 2 0 1 2 0 0 2 0 1 2 0 0 0 0 1 0 0 0 0 0 0 0 0 1 1 0 0 1\n",
      " 0 1 0 0 0 1 0 2 2 0 0 2 0 0 0 0 0 0 1 1 3 0 0 1 1 1 0 2 2 0 0 0 2 1 2 1 1\n",
      " 2 1 0 0 0 0 1 0 0 1 0 0 0 2 2 2 0 0 0 0 2 2 0 0 0 1 0 2 0 2 1 0 1 0 1 0 2\n",
      " 1 2 0 1 1 2 1 0 1 0 0 0 2 1 0 1 2 2 0 2 1 0 0 0 0 1 0 0 1 1 0 1 0 0 2 0 0\n",
      " 0 1 0 0 0 2 2 1 1 0 0 0 0 0 1 0 0 1 2 2 0 2 0 0 1 2 0 0 0 1 2 1 0 2 1 0 2\n",
      " 2 1 0 1 0 1 0 0 0 1 0 1 0 0 2 0 1 0 0 1 2 0 0 0 0 2 1 0 2 1 1 1 0 2 1 1 0\n",
      " 2 2 1 1 2 0 1 0 0 1 2 0 1 0 0 1 2 1 1 0 1 2 0 0 0 1 2 2 0 0 0 1 0 1 0 2 0\n",
      " 2 1 0 0 2 1 0 2 0 0 0 0 1 1 2 1 1 0 0 1 1 2 2 0 2 0 0 0 0 0 1 1 0 2 0 2 0\n",
      " 1 0 2 1 0 0 0 2 1 2 2 1 1 0 2 0 0 0 2 0 0 0 0 2 2 0 2 1 1 0 0 0 1 0 1 0 0\n",
      " 0 0 2 1 0 0 1 1 0 0 0 0 1 0 1 1 0 0 2 0 2 1 0 0 0 0 2 0 0 0 2 0 1 0 1 0 1\n",
      " 0 0 0 0 0 2 0 1 0 0 1 0 0 1 1 0 0 0 0 0 0 2 1 1 2 2 0 1 0 0 2 2 0 1 2 0 2\n",
      " 1 1 0 2 2 0 0 2 2 0 2 2 1 0 2 0 0 0 0 1 0 0 2 1 1 1 0 1 0 1 0 1 1 0 2 2 0\n",
      " 0 0 0 1 1 2 1 2 2 0 2 2 0 2 0 0 0 1 0 0 0 0 2 2 0 2 0 0 1 1 1 2 0 0 0 2 1\n",
      " 0 2 0 2 2 0 0 1 1 0 1 0 0 1 0 0 0 0 1 0 0 1 0 1 0 1 0 1 0 2 2 0 0 0 2 0 1\n",
      " 1 0 0 2 0 1 1 0 0 0 0 0 0 1 0 0 0 2 0 0 1 1 0 2 0 0 2 0 0 2 2 1 0 0 0 0 2\n",
      " 0 0 1 1 0 1 1 0 0 1 0 0 0 1 1 2 0 1 2 1 0 1 1 0 0 1 0 1 1 0 0 0 0 0 1 0 0\n",
      " 2 0 1 0 0 2 0 0 1 0 0 2 0 0 1 0 2 0 0 1 1 0 2 2 0 0 0 0 0 0 0 0 1 0 2 2 0\n",
      " 0 1 0 0 0 0 0 2 0 0 1 0 0 0 0 0 2 0 2 2 0 2 0 1 0 2 0 0 2 2 2 0 0 0 0 2 0\n",
      " 0 1 0 0 0 1 0 0 1 1 0 1 2 2 0 2 0 2 0 2 0 0 0 0 0 2 0 0 1 0 1 1 0 0 0 1 1\n",
      " 1 1 0 0 2 0 0 0 0 2 0 0 0 0 0 2 2 0 2 0 0 2 0 1 2 0 0 0 0 2 0 0 0 2 2 1 0\n",
      " 2 0 0 2 0 0 0 2 2 0 1 0 0 0 0 0 2 0 1 0 0 0 2 2 0 0 1 0 0 1 0 0 0 1 2 1 0\n",
      " 1 0 1 0 0 0 1 0 2 1 0 0 0 2 1 0 1 0 2 1 1 0 0 0 0 2 1 1 1 2 1 0 0 0 1 0 0\n",
      " 1 0 2 2 0 0 1 1 0 2 0 0 0 0 0 0 0 2 0 1 1 0 0 2 2 1 0 0 0 0 0 0 0 2 2 1 1\n",
      " 0 0 0 0 0 0 1 1 1 1 2 0 0 0 0 0 1 2 1 1 0 2 0 0 0 0 0 2 0 0 0 0 1 1 0 2 0\n",
      " 2 0 0 2 0 0 2 0 1 0 0 0 0 0 0 2 0 2 0 0 1 0 0 0 0 0 1 2 0 2 1 1 2 1 0 1 0\n",
      " 1 0 1 0 2 0 0 0 0 0 0 1 1 0 0 0 1 1 1 0 1 2 1 0 0 2 1 1 2 1 2 0 0 0 0 0 2\n",
      " 2 0 0 1 1 2 1 0 2 1 0 1 1 0 0 0 0 1 0 1 1 1 0 0 0 0 2 0 1 0 2 1 0 0 1 2 1\n",
      " 2 1 2 0 0 1 2 0 2 0 1 0 1 0 1 0 0 0 0 0 0 1 0 0 0 1 0 0 0 0 0 0 0 0 0 0 2\n",
      " 0 1 1 0 2 1 0 1 0 1 1 1 0 1 1 1 0 0 1 0 3 1 0 0 1 0 2 1 2 1 1 2 0 0 0 0 0\n",
      " 2 0 2 2 2 0 0 0 0 1 0 2 0 0 2 1 0 2 0 0 0 0 0 2 1 0 1 0 0 0 1 0 2 1 0 1 1\n",
      " 2 1 1 2 1 2 2 0 0 2 0 0 0 2 2 2 1 2 2 1 0 1 2 1 0 0 1 2 2 1 2 2 0 0 0 1 1\n",
      " 0 0 2 2 0 0 1 2 0 1 0 2 0 0 1 0 0 0 1 2 1 0 1 0 0 2 2 1 0 0 0 1 0 0 0 0 0\n",
      " 2 0 2 1 0 0 0 2 0 1 0 0 2 0 0 1 0 2 2 0 2 0 0 0 0 0 2 0 0 0 0 1 0 2 2 1 1\n",
      " 2 0 0 0 2 1 0 0 2 0 1 1 0 1 0 1 0 2 0 0 1 0 0 0 2 0 1 1 0 1 1 0 0 0 1 2 2\n",
      " 1 2 0 1 0 2 0 0 0 1 1 2 0 2 2 0 3 0 0 2 1 0 1 0 2 0 2 2 0 0 1 0 0 0 0 2 0\n",
      " 0 0 1 1 0 1 2 0 2 0 0 1 0 0 1 0 2 2 0 0 1 1 1 0 2 0 1 0 0 1 1 1 0 1 2 2 1\n",
      " 0 0 1 2 2 0 1 2 0 1 1 1 0 1 2 0 0 0 0 2 0 0 0 1 0 1 2 1 1 2 2 0 0 0 0 0 0\n",
      " 2 1 1 0 2 0 0 0 0 0 0 0 0 0 1 2 2 0 2 1 2 2 1 0 2 0 0 1 2 0 2 2 2 1 0 0 0\n",
      " 0 0 1 0 1 0 1 0 0 0 0 0 0 0 2 2 0 1 0 0 1 0 0 0 2 0 2 2 0 0 0 1 2 1 1 0 0\n",
      " 0 2 0 0 1 0 0 2 1 1 0 0 0 1 0 0 0 0 2 0 1 0 0 0 0 0 2 0 2 2 1 0 0 2 0 1 0\n",
      " 2 2 0 0 0 0 0 1 1 0 0 0 0 2 1 0 0 0 0 0 0 0 0 0 2 2 0 2 0 1 0 0 0 0 0 0 1\n",
      " 1 0 0 0 2 1 2 1 2 0 1 1 2 2 2 0 1 1 0 1 0 0 0 2 0 2 0 2 2 0 2 0 2 0 0 1 1\n",
      " 2 0 0 0 1 0 2 1 1 0 0 0 0 0 0 0 0 1 0 1 0 1 0 0 0 0 0 0 0 0 0 2 1 1 2 2 2\n",
      " 0 1 1 0 0 0 0 0 0 0 0 0 1 1 1 0 0 1 1 1 2 0 1 2 0 0 2 1 0 1 0 0 0 2 1 0 0\n",
      " 0 1 1 0 1 0 0 2 0 0 2 0 0 1 0 0 0 1 2 0 1 0 0 0 0 0 0 0 1 2 0 0 1 0 0 2 1\n",
      " 2 0 0 1 1 0 0 2 0 0 2 1 0 0 0 1 0 1 0 0 0 1 0 1 1 0 0 0 2 1 0 0 0 0 0 0 0\n",
      " 0 0 0 2 1 1 0 0 2 0 1 0 0 0 1 0 1 0 0 0 2 0 0 0 0 2 0 0 0 2 1 0 0 0 2 1 1\n",
      " 1 2 0 0 2 0 1 0 0 2 2 2 2 0 0 0 0 0 0 1 0 0 2 1 0 2 0 2 1 0 1 0 1 2 0 1 2\n",
      " 0 0 0 0 0 0 1 2 0 0 1 1 0 2 0 0 2 1 0 2 2 1 0 1 0 0 2 0 0 0 0 1 0 1 0 0 0\n",
      " 0 0 1 0 1 0 1 2 2 0 0 0 2 0 0 2 2 0 2 0 2 1 2 0 2 0 0 0 2 1 1 0 0 1 2 2 2\n",
      " 0 0 0 0 0 2 1 0 2 1 2 2 1 0 0 1 0 2 1 1 1 1 2 1 0 1 0 0 1 0 0 0 1 0 1 0 1\n",
      " 0 2 1 2 1 0 1 0 2 0 2 0 0 0 0 1 0 2 0 2 0 1 1 0 0 0 0 2 1 1 1 1 1 2 0 0 0\n",
      " 0 1 0 0 0 0 2 0 2 2 0 0 0 2 1 2 1 1 0 0 1 2 0 0 0 1 0 1 2 2 0 1 0 2 2 2 2\n",
      " 2 0 2 0 1 1 1 2 1 0 2 0 1 1 2 0 0 0 1 1 0 2 0 1 2 1 2 0 1 2 0 2 1 2 0 0 0\n",
      " 1 0 2 1 2 0 0 1 0 0 2 1 2 0 0 1 0 0 1 0 0 0 1 2 1 0 0 1 0 1 0 1 0 1 0 2 0\n",
      " 2 2 0 0 0 0 2 2 1 0 1 2 0 0 1 0 2 2 0 0 0 0 1 1 0 0 1 1 2 1 0 1 0 0 2 2 1\n",
      " 0 2 0 1 0 0 1 0 1 0 1 1 1 2 0 1 0 0 0 2 0 0 2 0 0 1 0 0 0 0 2 1 0 0 2 1 1\n",
      " 2 1 2 2 0 0 0 0 2 2 0 0 1 2 0 0 0 0 0 0 0 0 2 1 1 1 0 2 0 0 2 1 0 0 0 0 0\n",
      " 0 0 0 0 2 0 0 2 0 2 0 0 0 0 0 2 1 1 1 1 0 0 1 0 0 0 0 0 0 1 0 1 0 2 0 0 0\n",
      " 2 1 2 0 1 0 1 1 0 0 0 0 1 0 0 0 1 0 2 1 1 2 1 0 2 0 0 0 0 1 0 0 0 1 0 0 1\n",
      " 0 2 2 1 2 0 0 1 0 0 1 0 2 1 0 2 0 1 2 1 1 0 1 1 1 0 2 0 1 1 0 0 0 2 0 0 0\n",
      " 0 0 0 0 0 0 1 0 0 0 1 1 0 1 0 0 2 0 0 0 1 0 1 2 1 0 0 0 0 0 0 0 0 1 1 0 1\n",
      " 0 0 2 0 0 2 0 0 0 0 2 0 0 0 2 0 0 0 0 0 0 1 1 2 2 0 2 0 0 2 0 0 0 2 0 2 0\n",
      " 0 0 0 0 1 0 0 0 0 0 0 0 1 0 0 2 1 0 0 0 0 0 1 1 2 2 1 1 1 0 1 2 2 1 0 0 2\n",
      " 0 0 0 0 0 0 0 0 1 1 0 0 0 0 0 1 1 1 0 1 0 0 2 2 1 2 2 0 0 0 2 2 0 0 2 2 1\n",
      " 0 0 0 1 1 0 2 2 0 0 0 0 0 0 0 2 0 0 0 0 1 0 1 2 1 1 1 1 1 1 2 2 1 1 2 2 3\n",
      " 1 1 0 0 1 2 0 0 0 2 0 1 1 2 1 0 0 0 0 2 0 0 1 0 1 0 2 1 0 0 0 2 0 0 0 1 2\n",
      " 2 1 0 2 2 0 1 2 2 0 0 0 2 2 0 2 1 2 1 0 0 0 1 0 1 0 1 0 0 0 2 2 0 0 1 1 0\n",
      " 2 0 0 2 1 1 0 1 2 2 0 0 0 0 0 1 0 0 2 0 0 0 2 2 2 1 0 0 2 0 2 0 0 0 1 0 1\n",
      " 1 0 2 0 0 1 0 0 0 0 0 0 0 0 0 0 0 1 0 0 2 0 2 2 2 1 0 1 0 0 0 0 0 2 1 0 0\n",
      " 1 0 2 0 2 1 0 1 0 0 1 0 2 0 0 0 0 1 0 0 0 0 0 0 2 0 0 1 1 0 0 0 2 0 1 0 2\n",
      " 0 0 0 1 1 2 0 0 0 0 0 0 0 0 2 0 0 2 0 0 0 2 2 2 1 0 0 1 0 2 0 0 2 1 1 0 2\n",
      " 0 1 2 2 0 0 0 0 0 0 1 0 0 0 0 0 2 0 0 0 1 2 2 2 0 0 0 2 1 0 2 1 2 0 0 2 0\n",
      " 0 0 1 0 0 2 1 1 0 1 1 1 0 0 1 1 0 0 1 1 2 0 0 0 0 0 0 0 2 0 2 2 2 0 2 0 0\n",
      " 2 0 2 0 0 1 2 2 0 0 0 0 0 1 2 2 0 0 0 0 0 0 0 1 0 0 1 0 1 0 0 1 0 0 0 1 0\n",
      " 2 1 2 1 0 1 2 1 0 0 0 0 0 2 1 1 0 0 2 2 1 0 0 0 0 0 0 0 2 0 0 0 0 0 0 2 1\n",
      " 2 2 0 0 0 2 0 2 0 2 1 0 2 1 0 0 0 0 0 0 0 0 1 2 2 2 0 2 0 0 0 2 0 2 0 0 0\n",
      " 1 0 0 1 2 0 0 0 0 0 0 0 2 0 0 0 0 1 0 1 0 1 2 0 1 0 0 0 1 0 0 1 0 0 2 2 0\n",
      " 0 0 0 0 0 1 0 2 0 1 0 0 2 2 0 1 1 0 0 0 0 2 0 0 0 0 2 0 1 1 0 2 2 0 0 0 1\n",
      " 0 0 0 1 2 2 1 0 0 2 0 1 0 1 0 2 2 0 1 0 0 0 1 0 0 0 1 1 0 2 0 0 0 0 0 0 0\n",
      " 2 2 2 2 0 0 0 2 2 0 0 2 0 2 0 2 1 0 0 0 0 0 1 2 0 1 1 0 0 1 0 2 1 0 1 1 0\n",
      " 0 0 0 0 0 2 0 1 0 0 2 1 0 2 2 1 2 0 2 1 1 0 0 2 2 0 0 0 1 1 0 0 1 0 0 0 0\n",
      " 0 2 0 0 0 0 0 0 0 0 0 2 0 0 1 0 0 0 1 0 1 0 0 1 0 1 0 0 0 0 0 0 0 1 0 0 1\n",
      " 0 0 0 0 0 0 0 0 0 0 1 1 2 0 0 2 0 0 0 0 1 1 0 0 0 0 0 0 0 1 0 0 0 1 0 1 1\n",
      " 0 2 0 2 2 1 0 2 2 1 2 1 1 0 0 0 1 0 1 0 0 0 0 0 0 0 0 0 0 0 2 0 1 2 1 0 0\n",
      " 0 0 0 0 0 1 1 0 0 0 1 0 1 1 0 0 1 0 2 0 2 2 0 1 2 0 1 0 0 0 2 0 1 0 1 0 0\n",
      " 2 2 2 0 0 0 0 2 0 0 0 1 0 1 2 0 2 1 0 1 0 0 1 0 2 1 1 2 1 1 2 0 1 2 0 0 0\n",
      " 0 0 0 0 0 2 0 2 0 0 2 0 1 2 2 2 0 0 0 0 0 0 0 0 0 0 0 0 0 0 0 0 0 1 1 0 0\n",
      " 0 1 0 2 0 0 1 0 0 0 0 0 2 0 0 2 0 0 0 0 1 1 0 0 0 0 0 1 0 1 2 1 0 1 1 0 2\n",
      " 0 1 0 0 2 0 2 2 0 2 0 0 0 0 1 1 1 2 1 2 1 0 1 0 0 0 2 0 0 0 0 0 0 0 1 2 0\n",
      " 1 1 0 0 2 0 0 0 1 0 0 1 2 2 0 1 2 1 0 0 0 0 0 2 2 2 0 0 0 2 0 0 0 1 1 0 0\n",
      " 1 1 2 1 2 0 0 0 2 2 0 0 0 2 0 0 2 1 0 0 2 2 0 0 0 2 0 1 0 0 1 1 0 0 0 0 0\n",
      " 0 0 2 1 0 2 0 2 0 1 0 0 1 0 0 1 0 0 1 0 1 1 0 1 2 0 1 0 0 1 0 0 2 1 0 2 1\n",
      " 1 0 0 0 0 1 0 0 0 1 0 0 2 1 2 1 2 0 0 1 0 0 1 0 0 0 2 0 1 1 1 2 1 0 1 0 2\n",
      " 2 2 1 1 2 0 0 1 1 0 1 0 0 0 0 1 0 0 1 2 2 1 0 0 1 0 2 0 0 0 1 0 0 1 2 2 2\n",
      " 1 0 2 0 2 0 0 1 0 1 0 0 2 0 1 0 1 1 0 0 0 0 2 1 0 2 0 1 0 2 0 1 0 0 2 2 2\n",
      " 0 0 0 1 1 1 2 0 1 0 0 1 0 0 0 0 2 2 0 1 0 0 2 0 1 0 0 1 0 1 0 0 1 2 2 1 0\n",
      " 0 1 2 0 0 0 0 2 1 2 0 0 1 0 1 2 0 2 0 1 0 1 2 1 0 2 0 0 1 1 2 2 1 1 2 2 0\n",
      " 2 0 0 1 2 2 2 2 0 0 0 0 0 0 0 0 0 0 2 0 0 0 0 2 0 2 0 0 2 0 2 0 2 0 0 1 0\n",
      " 1 1 0 0 1 1 0 0 1 1 2 2 0 1 0 0 2 2 0 0 2 0 0 1 2 0 0 1 0 0 1 1 2 1 2 1 0\n",
      " 0 1 1 0 1 2 0 0 0 1 0 2 2 0 0 1 0 2 0 0 0 0 0 1 0 0 0 1 0 0 2 0 2 0 0 0 2\n",
      " 1 2 1 2 0 2 0 2 2 2 0 0 1 0 0 1 0 1 2 0 2 1 0 0 1 0 1 1 0 2 0 2 0 2 0 1 0\n",
      " 1 1 0 0 1 0 1 1 0 0 1 1 0 1 0 0 1 0 0 1 0 0 1 0 0 0 0 0 2 2 0 1 2 1 2 0 0\n",
      " 0 0 1 0 0 1 2 1 0 0 0 2 1 1 2 0 0 2 2 0 1 1 0 1 2 1 1 2 2 0 1 0 0 2 0 0 0\n",
      " 1 2 0 0 2 0 0 0 0 0 2 2 0 0 0 0 0 0 0 0 1 2 2 0 0 0 2 2 2 2 0 0 0 1 1 0 0\n",
      " 0 0 0 1 2 2 0 0 0 0 0 0 2 1 1 0 0 2 1 2 0 0 0 1 0 1 1 0 0 0 2 0 2 0 0 1 2\n",
      " 1 1 0 0 0 0 2 1 0 0 2 0 0 0 1 0 0 0 1 0 1 0 2 1 0 0 0 2 0 0 0 2 1 0 0 3 1\n",
      " 2 1 1 0 0 0 0 1 1 2 1 2 0 2 1 1 1 0 0 0 2 0 2 2 0 1 0 1 0 1 1 0 2 2 1 0 1\n",
      " 2 1 0 0 0 0 2 1 0 2 1 2 2 2 0 0 2 0 0 1 2 0 1 0 2 1 1 0 2 1 1 2 1 0 0 0 0\n",
      " 0 0 0 1 0 2 0 0 2 0 0 1 1 0 0 0 2 0 1 1 1 1 0 2 0 1 0 0 2 0 0 2 0 2 0 0 0\n",
      " 0 0 0 1 0 0 1 2 0 0 0 2 1 0 0 2 0 2 1 0 0 2 0 0 2 0 0 0 2 0 1 0 0 0 1 1 2\n",
      " 0 0 0 0 0 1 0 0 1 0 0 2 0 2 1 1 0 0 2 0 2 2 2 0 0 2 0 2 2 2 0 2 0 1 0 0 0\n",
      " 0 0 0 0 0 0 1 0 2 1 0 0 0 2 1 2 2 2 1 1 0 1 1 1 1 0 2 0 2 0 0 0 0 0 0 1 2\n",
      " 1 1 2 0 0 0 2 2 1 1 0 0 0 0 0 2 2 0 0 1 2 0 2 0 0 1 0 2 0 0 0 0 0 0 0 0 1\n",
      " 2 1 1 0 0 0 2 2 0 1 1 0 0 2 0 0 1 1 0 0 0 0 1 0 1 0 0 0 1 0 0 0 0 2 1 0 0\n",
      " 0 2 0 0 2 0 0 0 0 2 0 2 0 0 0 2 0 2 1 0 0 0 0 0 0 0 0 2 0 0 0 0 0 1 2 0 0\n",
      " 1 0 2 0 1 0 1 1 0 0 0 0 1 0 0 0 0 0 1 0 0 2 0 0 0 2 0 0 3 0 2 0 1 0 2 1 1\n",
      " 0 0 0 0 0 1 1 2 1 1 0 1 0 2 2 0 0 1 0 1 0 0 0 0 0 0 2 0 0 0 0 0 1 0 2 0 1\n",
      " 0 2 1 0 1 2 1 2 0 2 0 0 0 0 2 0 0 0 1 0 0 0 2 2 0 1 0 2 0 2 2 1 0 0 1 0 1\n",
      " 0 0 0 1 0 0 1 1 0 2 0 1 0 2 0 0 0 1 0 2 0 1 0 0 0 1 2 0 1 0 1 1 0 0 0 0 0\n",
      " 2 1 0 0 0 0 2 0 0 2 0 0 0 0 0 0 0 0 2 0 1 0 2 2 0 1 1 2 0 0 0 0 0 0 0 0 0\n",
      " 1 1 1 0 0 0 0 1 0 2 1 2 2 0 0 0 1 0 2 2 0 0 0 0 0 1 2 0 0 0 0 0 0 1 0 0 2\n",
      " 2 0 0 0 1 1 0 0 0 0 2 2 0 2 2 0 0 0 1 2 2 0 2 2 1 0 1 0 0 2 1 0 2 1 0 1 1\n",
      " 0 1 0 0 1 0 2 0 2 2 1 1 2 0 2 2 0 1 1 2 2 1 0 0 1 0 0 2 0 0 2 0 0 0 0 0 0\n",
      " 0 2 2 0 2 0 2 1 0 0 2 0 0 2 1 0 0 0 0 2 2 0 0 0 0 0 2 0 2 0 1 1 0 0 0 0 1\n",
      " 2 0 2 0 1 0 1 2 0 1 2 0 0 1 0 2 0 0 1 0 2 0 1 0 0 1 0 2 0 2 0 1 0 0 0 2 0\n",
      " 1 0 2 1 1 1 0 0 0 0 0 0 1 2 0 0 2 1 0 0 1 0 0 1 0 1 0 2 0 0 0 0 0 1 1 1 0\n",
      " 0 2 2 0 0 1 2 2 0 1 0 0 0 0 0 0 0 0 1 0 1 2 0 0 0 0 2 0 1 1 2 2 0 0 2 2 1\n",
      " 2 1 0 1 1 0 0 0 0 0 0 0 0 0 1 0 0 2 0 0 0 1 0 2 1 0 0 0 0 0 0 2 1 0 0 0 0\n",
      " 0 1 0 1 0 0 2 0 2 0 1 0 0 1 0 0 0 2 1 0 0 0 1 1 0 0 1 0 0 0 0 0 0 0 1 2 0\n",
      " 1 0 0 2 0 2 0 0 0 0 1 0 0 0 1 2 0 2 1 0 0 1 0 0 2 1 0 1 0 1 1 2 0 2 1 0 0\n",
      " 2 2 0 0 0 0 0 0 0 1 2 0 1 0 0 0 2 1 2 0 2 2 0 1 0 0 0 0 0 0 0 0 0 1 1 0 0\n",
      " 0 1 1 0 2 0 2 0 2 0 0 0 2 0 0 0 2 2 0 2 1 0 0 1 1 0 2 2 0 1 0 0 1 1 0 2 0\n",
      " 1 1 0 1 0 0 2 0 0 0 0 2 1 2 0 2 0 0 0 1 2 1 0 0 0 0 0 0 2 0 0 0 0 2 0 0 1\n",
      " 2 0 0 1 0 0 0 0 0 0 1 2 2 0 0 0 0 2 0 2 0 2 2 1 1 0 0 0 0 0 1 0 0 0 0 2 0\n",
      " 0 0 2 0 0 2 0 1 0 0 1 0 0 2 2 0 0 0 0 0 0 1 0 1 1 0 1 0 0 1 0 1 1 2 0 1 0\n",
      " 0 1 1 0 0 0 0 0 0 2 0 2 0 0 1 1 0 2 0 2 2 1 2 1 2 0 2 0 2 0 0 0 2 0 0 1 2\n",
      " 1 0 2 0 1 1 0 0 0 2 0 1 0 0 0 0 2 1 0 2 0 2 0 1 0 2 1 2 0 0 0 0 2 0 2 2 0\n",
      " 0 0 1 0 0 0 1 0 0 0 2 0 2 0 2 0 0 0 0 1 1 2 2 0 0 0 0 0 2 0 0 0 0 2 0 0 0\n",
      " 2 0 1 0 0 2 0 0 1 2 0 2 1 2 0 2 1 1 0 2 0 0 0 2 0 2 0 2 2 0 1 0 2 0 1 1 0\n",
      " 2 2 0 0 2 1 2 1 2 0 0 1 2 0 2 1 0 0 0 0 1 1 0 1 1 1 0 0 1 0 1 0 0 2 0 0 0\n",
      " 1 0 1 0 2 0 0 0 2 0 1 1 0 0 0 0 1 0 2 2 0 0 0 0 1 0 0 2 0 0 1 1 0 1 0 2 0\n",
      " 0 0 0 2 1 1 0 2 0 0 1 0 0 2 2 0 0 2 2 1 1 0 2 2 0 1 0 2 1 1 1 0 0 0 0 2 2\n",
      " 0 1 0 0 0 0 0 0 0 0 2 1 0 1 2 0 0 2 0 1 0 0 1 0 1 0 0 0 0 2 0 2 2 0 1 0 2\n",
      " 0 0 0 0 0 0 0 0 0 0 0 0 2 2 1 0 1 2 0 0 1 0 2 0 2 1 0 2 0 0 0 0 0 0 0 1 0\n",
      " 0 0 0 1 2 2 1 1 0 0 1 2 0 2 2 0 0 2 0 0 0 0 1 0 2 2 2 0 1 0 0 2 0 2 0 2 0\n",
      " 0 0 2 1 1 0 0 0 2 2 0 0 0 2 1 0 0 2 1 2 0 0 0 0 1 0 0 0 0 2 1 0 1 1 2 1 0\n",
      " 1 0 0 1 0 1 0 2 0 0 1 0 0 2 2 0 0 2 2 0 0 2 0 0 0 1 2 2 0 1 2 2 1 0 1 0 1\n",
      " 0 2 2 2 2 1 0 0 0 1 1 0 1 1 0 0 0 0 0 2 0 0 2 2 0 1 0 2 2 0 1 1 1 2 0 0 0\n",
      " 0 1 0 1 0 2 2 2 1 0 0 1 0 2 0 0 1 1 1 1 0 2 0 0 1 0 0 2 0 0 2 1 0 0 2 0 0\n",
      " 0 0 0 2 0 0 1 0 2 1 1 0 0 1 0 0 0 0 2 1 2 0 0 2 2 0 0 2 2 2 0 2 0 1 0 0 2\n",
      " 1 0 1 2 1 1 0 0 0 2 0 0 0 1 2 2 0 2 0 2 0 0 0 0 1 0 1 1 0 0 0 0 1 2 0 0 0\n",
      " 2 0 1 0 1 0 0 0 2 1 0 0 1 0 0 0 2 0 1 0 0 2 2 0 0 0 0 2 0 0 0 0 2 0 0 2 2\n",
      " 1 1 1 1 2 0 0 0 0 0 2 1 0 1 1 0 0 2 0 2 0 1 0 0 0 0 0 2 1 2 2 1 0 0 1 2 0\n",
      " 1 2 1 0 0 1 0 0 1 1 0 1 1 0 2 0 0 1 0 1 2 1 0 1 0 2 2 0 1 0 1 1 1 2 0 0 0\n",
      " 2 0 1 0 2 0 1 0 2 0 1 1 0 1 1 2 1 1 0 0 0 1 0 1 0 0 0 0 0 0 2 0 1 0 0 1 1\n",
      " 2 0 0 0 0 1 0 1 0 2 2 0 0 2 2 0 0 0 0 0 1 1 0 0 1 0 0 1 0 0 0 0 1 0 1 1 2\n",
      " 0 0 0 0 0 0 1 2 0 0 0 0 0 1 1 1 2 0 2 2 0 0 1 0 2 0 0 1 0 0 1 1 0 0 0 0 0\n",
      " 0 0 0 0 0 2 1 2 0 0 0 0 1 0 2 0 1 1 0 0 0 1 0 0 0 2 0 2 0 0 0 0 2 0 2 0 1\n",
      " 0 1 0 1 0 0 1 0 0 0 2 0 0 0 1 1 1 1 1 0 0 0 0 0 2 2 1 0 0 0 2 0 0 0 1 0 1\n",
      " 2 0 0 0 0 0 0 2 0 1 0 0 1 0 1 0 1 0 0 2 2 0 1 0 2 0 0 0 0 0 0 0 2 2 2 0 0\n",
      " 2 1 2 0 0 0 0 2 2 0 0 1 2 0 0 1 0 1 1 0 0 0 0 0 1 0 1 0 2 0 0 0 1 2 0 0 2\n",
      " 0 0 0 0 2 1 0 1 0 0 0 0 0 0 0 1 0 0 0 0 2 0 0 1 1 0 0 0 1 1 1 1 1 0 2 0 0\n",
      " 0 2 0 1 2 0 0 1 2 0 0 0 0 0 0 0 1 2 0 1 1 0 2 0 2 0 0 1 0 1 2 1 0 0 0 1 0\n",
      " 1 1 2 1 0 0 2 0 2 0 0 1 1 0 0 0 2 2 0 0 0 0 0 0 0 0 2 0 1 0 0 0 2 0 2 1 2\n",
      " 0 1 0 1 2 2 0 1 0 2 0 0 2 1 0 2 0 0 2 0 0 0 0 0 1 1 0 0 0 0 0 0 0 0 0 0 0\n",
      " 1 1 0 2 0 3 2 0 2 1 1 0 1 0 0 1 1 1 0 2 0 0 1 0 2 0 0 0 1 2 2 0 2 2 0 0 0\n",
      " 0 0 2 0 0 2 1 1 0 0 0 1 0 1 0 0 0 0 0 1 0 0 2 1 0 0 0 0 0 1 0 1 0 0 2 1 0\n",
      " 0 1 0 1 1 1 1 0 0 2 0 1 0 0 0 0 0 1 0 1 0 0 2 0 1 1 1 0 0 0 0 0 0 0 0 0 1\n",
      " 1 1 0 0 0 0 0 0 0 1 0 2 1 0 0 0 2 0 0 1 2 1 1 0 2 0 2 0 0 0 0 0 1 0 0 0 2\n",
      " 0 1 2 0 0 0 0 0 0 2 0 0 0 0 0 0 0 0 0 0 2 2 0 0 2 1 1 0 2 1 0 2 1 1 0 2 0\n",
      " 0 2 0 0 1 0 0 0 0 0 0 0 1 1 1 0 1 0 0 0 1 1 2 0 0 1 2 0 0 2 0 0 1 2 0 1 0\n",
      " 0 0 0 0 0 0 0 1 0 2 1 0 2 0 0 0 0 0 1 0 0 2 0 2 0 0 1 0 0 0 0 0 0 0 0 0 1\n",
      " 0 1 1 0 0 0 1 0 0 1 0 1 0 0 0 0 2 1 2 1 2 2 0 2 1 2 2 0 0 1 0 1 0 0 2 0 0\n",
      " 2 0 0 1 0 0 1 0 0 0 1 2 0 0 0 0 0 0 0 0 2 0 2 0 0 1 1 0 0 0 0 1 0 2 0 0 1\n",
      " 0 0 0 1 1 2 1 0 0 0 0 2 0 0 2 0 0 0 1 1 1 2 0 0 0 0 1 0 0 0 0 0 0 0 0 0 0\n",
      " 0 2 0 0 0 0 0 2 0 0 2 1 2 1 0 0 1 0 0 2 1 0 0 1 0 0 0 2 2 2 2 1 1 2 0 1 0\n",
      " 0 0 0 2 1 2 0 0 0 0 1 0 0 0 0 1 0 1 1 1 0 2 2 0 0 1 2 2 1 0 1 3 2 0 1 0 1\n",
      " 2 0 0 2 1 1 1 1 0 0 2 1 1 2 0 0 0 0 0 1 0 1 1 0 1 1 0 2 2 0 0 2 0 0 0 1 1\n",
      " 0 0 0 0 2 0 0 0 1 0 1 1 1 2 2 2 1 1 0 0 2 1 1 0 0 0 0 0 2 0 2 0 1 0 2 0 0\n",
      " 2 0 1 0 0 0 0 0 0 0 0 2 0 0 0 2 1 0 0 1 0 0 0 1 2 1 1 0 0 0 1 0 0 2 0 0 2\n",
      " 1 0 0 0 0 1 2 0 2 0 0 0 0 1 1 0 1 0 2 1 1 1 0 1 2 0 2 0 0 0 0 0 2 2 2 0 1\n",
      " 0 0 1 0 0 0 0 1 2 1 2 0 0 0 2 1 2 0 0 2 0 1 1 0 2 2 0 2 0 0 0 0 0 0 0 0 0\n",
      " 0 1 1 0 1 0 0 0 0 0 0 0 0 0 1 2 0 0 0 1 0 0 0 1 2 2 0 1 2 0 0 0 0 2 1 0 1\n",
      " 0 1 0 0 2 0 0 0 1 1 0 0 0 1 2 0 0 0 0 1 0 0 2 1 0 2 2 2 0 1 2 0 0 0 2 2 2\n",
      " 2 0 2 0 2 0 0 0 2 0 2 0 0 0 0 0 2 0 0 2 0 1 1 0 2 0 2 2 0 0 2 2 0 1 2 0 0\n",
      " 0 1 0 1 0 2 0 0 2 1 1 2 0 0 0 0 0 1 1 0 1 0 1 1 2 0 0 0 0 0 0 2 0 0 0 0 0\n",
      " 1 0 2 0 0 0 0 0 2 1 0 0 2 0 0 0 2 0 1 0 2 1 0 0 0 0 1 2 0 2 0 0 0 0 2 0 0\n",
      " 1 0 0 2 1 1 1 0 0 2 0 2 0 1 2 2 0 0 0 2 0 0 2 0 0 0 0 0 1 0 0 1 0 0 0 0 0\n",
      " 1 1 0 0 0 1 0 1 0 0 0 1 2 0 0 0 1 0 2 0 1 0 1 0 1 1 0 0 2 0 0 0 2 1 1 1 0\n",
      " 0 1 2 1 0 0 0 2 1 2 2 0 1 0 0 1 2 2 1 0 2 0 0 0 0 1 1 0 0 0 0 2 0 2 0 0 1\n",
      " 0 0 1 0 1 1 2 1 0 0 2 0 2 0 1 1 0 0 0 0 0 0 2 0 0 2 2 2 2 0 0 0 0 1 0 0 1\n",
      " 1 0 1 1 1 1 2 0 0 0 1 0 0 2 0 1 0 2 0 0 0 0 2 0 2 0 2 0 0 0 0 0 0 2 2 2 1\n",
      " 0 0 1 2 1 0 1 0 2 0 0 1 0 0 0 0 0 1 0 0 0 0 2 1 1 2 2 1 0 0 1 1 1 0 2 0 2\n",
      " 1 0 0 2 0 2 0 2 1 2 1 1 0 2 0 2 0 0 0 0 0 0 0 0 2 1 0 2 1 0 0 2 0 0 1 0 1\n",
      " 0 1 0 0 0 0 1 0 0 3 0 1 2 0 2 1 1 1 2 1 0 1 0 1 0 0 2 0 0 1 0 0 1 0 0 0 0\n",
      " 2 0 0 0 0 0 0 1 0 0 1 0 1 0 1 0 1 1 1 0 0 1 2 0 2 0 2 0 0 0 1 1 0 0 1 0 1\n",
      " 0 0 0 0 1 0 1 0 1 2 0 0 0 1 2 0 0 2 2 2 2 0 0 1 2 2 0 2 1 1 0 1 2 0 0 0 1\n",
      " 0 2 1 0 0 0 1 0 2 0 0 2 0 1 0 2 1 0 2 0 1 0 1 1 0 1 0 0 1 0 1 0 2 0 0 0 0\n",
      " 2 0 2 0 1 0 0 0 1 0 0 0 2 1 0 2 2 2 0 1 0 2 1 0 0 1 0 0 2 1 0 0 1 0 0 0 0\n",
      " 1 1 0 0 1 0 0 0 1 0 0 0 0 1 1 0 1 1 0 0 1 1 0 0 0 2 0 1 2 0 0 0 0 0 0 0 0\n",
      " 1 1 0 0 2 0 0 0 0 0 2 0 0 0 0 0 1 1 0 2 0 2 0 0 1 0 0 0 1 0 1 0 0 1 0 0 1\n",
      " 0 1 0 1 0 0 1 2 1 2 0 0 0 1 1 0 0 0 2 0 0 0 0 1 0 0 0 1 0 0 0 2 2 0 0 0 0\n",
      " 0 0 0 0 0 0 1 0 0 1 0 0 0 0 0 1 0 0 0 0 0 0 0 1 1 0 0 0 0 0 0 1 0 0 0 0 0\n",
      " 1 2 2 2 0 0 1 0 0 1 0 2 2 0 0 1 2 0 0 0 0 2 0 0 1 0 0 0 1 1 0 0 0 2 0 2 0\n",
      " 1 1 0 0 0 1 1 2 0 2 0 2 0 2 1 0 2 2 0 1 0 0 2 0 0 0 0 2 0 0 0 0 0 0 0 0 1\n",
      " 0 0 2 1 0 0 1 0 0 0 0 0 0 0 1 2 2 1 2 2 1 0 2 1 1 2 0 2 0 1 0 0 1 0 0 2 1\n",
      " 0 1 3 0 2 1 2 0 1 2 2 2 0 2 2 0 2 1 2 0 1 0 1 1 0 1 1 2 0 0 0 0 2 2 0 0 0\n",
      " 1 0 0 1 0 0 0 2 1 0 1 0 0 2 0 0 2 2 0 0 0 2 1 1 2 2 0 1 0 0 0 1 0 1 0 0 0\n",
      " 2 1 2 0 2 0 2 2 0 2 0 2 0 0 2 0 2 2 1 0 0 2 1 0 0 2 1 0 1 1 1 0 0 0 0 1 1\n",
      " 0 0 1 0 1 2 0 1 0 1 0 2 0 0 1 0 1 0 0 1 1 1 0 1 0 0 0 0 1 2 0 1 1 1 0 0 1\n",
      " 0 2 0 2 0 0 0 0 1 1 2 0 0 2 1 1 2 0 2 0 0 0 2 0 0 0 2 1 0 0 0 0 0 0 0 0 1\n",
      " 2 0 0 0 1 0 0 0 0 0 0 0 2 0 0 2 0 0 0 2 0 0 1 0 1 2 1 1 1 0 0 0 0 0 1 0 0\n",
      " 0 0 0 0 0 2 0 0 1 0 1 1 1 0 0 1 0 0 0 0 0 0 0 0 0 1 2 0 0 2 0 0 0 0 2 1 1\n",
      " 1 1 1 1 2 0 1 0 2 0 0 2 0 0 2 0 0 0 0 0 0 2 2 1 0 0 1 0 1 1 0 0 0 0 1 0 1\n",
      " 1 1 0 0 0 2 0 0 2 0 0 0 1 0 0 0 0 0 0 0 0 1 0 1 2 0 0 2 2 2 0 2 1 1 1 0 0\n",
      " 2 1 1 1 1 0 0 0 0 1 0 1 1 0 0 0 2 0 2 0 0 0 0 2 0 0 2 2 0 0 0 2 0 0 0 2 1\n",
      " 0 0 1 0 2 0 1 2 1 0 0 0 0 0 0 1 0 2 2 1 0 1 1 0 0 1 0 0 2 1 0 0 0 0 2 1 2\n",
      " 0 1 0 0 2 0 0 2 0 0 0 1 2 0 0 2 0 0 0 0 0 1 1 1 2 0 1 1 0 2 2 2 0 2 0 0 1\n",
      " 0 0 0 0 0 2 0 0 0 0 0 0 1 0 2 0 0 0 0 0 0 0 0 1 2 1 1 2 2 0 1 0 1 1 1 2 0\n",
      " 0 1 1 0 0 1 0 0 0 1 2 2 1 2 0 0 0 2 0 2 0 0 1 0 0 0 0 0 1 1 2 0 0 0 0 0 0\n",
      " 0 0 0 2 0 0 2 2 2 0 1 1 2 2 0 0 2 2 2 0 1 1 0 2 0 0 0 2 0 0 2 0 0 0 2 0 0\n",
      " 1 1 0 0 0 0 1 0 1 0 1 0 1 0 1 0 2 0 0 0 1 0 0 2 0 0 2 0 0 0 0 0 0 0 2 2 0\n",
      " 1 2 0 0 0 2 0 1 2 0 0 0 0 1 1 0 0 0 0 0 0 2 2 1 2 0 0 0 0 0 0 0 0 1 0 0 2\n",
      " 1 0 1 0 0 0 0 2 2 1 0 0 0 2 0 1 0 1 0 1 0 1 2 0 0 2 2 1 0 2 0 0 0 0 0 0 1\n",
      " 2 0 0 0 1 1 0 0 1 2 2 2 0 1 2 0 0 0 0 2 1 1 0 0 0 0 0 1 0 2 0 0 1 0 0 0 1\n",
      " 0 0 1 0 0 2 1 0 0 1 0 0 1 0 1 2 0 2 2 2 0 1 0 0 0 2 0 0 0 0 2 0 2 0 0 1 2\n",
      " 0 0 1 1 0 0 1 0 0 0 0 0 1 0 0 2 0 0 0 1 2 0 0 0 1 0 0 0 0 0 0 0 0 0 0 0 0\n",
      " 0 0 0 1 2 0 1 0 0 0 2 1 0 2 0 0 2 0 0 0 0 0 0 1 0 0 2 1 0 0 0 0 0 1 0 0 1\n",
      " 2 1 1 0 0 0 0 0 2 0 2 0 2 2 0 0 2 1 2 0 0 0 0 0 1 2 0 0 2 0 0 1 0 0 0 0 2\n",
      " 0 0 0 1 0 0 0 2 2 0 0 0 0 0 0 2 2 2 1 0 0 0 1 2 0 2 0 2 1 1 1 1 0 1 0 1 1\n",
      " 0 1 2 1 2 0 0 0 0 0 0 2 1 2 2 2 0 0 0 0 0 0 0 0 0 2 0 0 0 0 2 1 0 0 1 0 0\n",
      " 0 0 0 0 0 0 0 0 1 1 0 0 0 1 0 2 1 0 1 1 1 2 2 2 0 0 2 0 0 2 0 1 0 2 0 1 0\n",
      " 0 0 0 0 0 0 1 2 0 0 0 1 1 1 0 1 2 2 2 0 2 0 0 0 1 1 0 0 0 0 1 1 0 0 0 0 0\n",
      " 1 0 1 0 0 1 1 0 0 0 1 0 0 1 2 0 0 2 2 0 0 0 1 2 2 0 1 0 1 1 0 0 0 0 2 2 0\n",
      " 0 0 0 0 0 0 1 2 0 0 1 0 2 0 2 1 0 0 0 2 0 1 0 0 0 2 0 2 0 0 1 0 2 0 2 0 1\n",
      " 2 0 2 2 0 2 0 2 0 2 0 0 1 2 0 2 0 2 0 0 0 0 0 0 1 0 0 0 1 2 1 0 0 1 0 0 0\n",
      " 0 0 0 1 0 2 0 0 0 1 2 0 0 0 0 0 0 0 2 0 0 0 0 0 2 0 2 0 0 0 1 2 1 0 0 0 0\n",
      " 0 0 0 0 0 0 1 0 1 0 0 0 0 2 0 0 1 0 2 0 0 0 2 0 0 0 0 0 1 0 0 2 0 0 1 0 0\n",
      " 0 0 0 0 1 1 0 2 0 0 1 1 0 0 0 0 0 1 0 1 2 0 0 0 0 1 1 2 0 0 0 2 2 1 0 0 0\n",
      " 0 0 1 0 1 0 1 0 1 1 0 2 2 1 0 1 0 2 0 0 0 0 0 0 0 2 2 0 2 0 2 1 1 1 0 0 0\n",
      " 0 1 0 0 0 0 2 0 0 0 1 0 2 0 2 2 0 2 0 0 0 1 0 0 0 0 1 0 1 2 0 0 1 2 0 0 0\n",
      " 0 0 0 0 0 0 1 0 0 1 0 0 0 0 0 0 2 0 1 0 1 2 2 0 0 1 0 1 0 0 2 1 1 1 0 2 0\n",
      " 1 0 0 0 0 2 0 2 0 1 1 0 2 0 0 0 2 0 1 2 2 0 2 0 0 2 0 0 0 1 2 0 2 1 2 0 1\n",
      " 0 2 0 2 2 0 0 2 1 0 0 2 2 0 0 0 2 0 2 0 0 2 0 0 0 0 2 2 0 0 0 2 0 0 0 1 0\n",
      " 2 2 0 1 1 0 2 1 1 0 0 1 0 0 1 0 0 2 0 0 1 0 1 0 1 2 2 2 0 0 1 1 1 0 1 2 0\n",
      " 1 2 0 0 0 2 0 2 1 0 0 0 1 1 1 2 0 1 0 0 2 0 0 0 0 2 0 0 0 0 0 1 0 2 1 1 1\n",
      " 1 2 0 0 0 0 0 1 0 1 1 0 0 1 0 0 0 1 2 2 0 2 0 0 0 0 0 1 2 1 1 0 0 1 1 0 0\n",
      " 0 0 2 1 1 0 0 0 0 0 2 1 0 2 0 2 0 0 0 0 0 1 0 2 0 0 2 2 0 2 0 1 0 1 2 2 1\n",
      " 0 0 0 0 0 2 0 0 1 0 0 0 0 1 0 0 1 0 0 0 2 0 1 1 0 2 1 0 2 2 0 2 2 2 0 0 0\n",
      " 0 1 2 0 0 0 0 0 2 2 1 2 1 0 0 0 0 2 0 1 0 2 1 0 0 2 0 0 0 0 0 0 0 2 1 1 2\n",
      " 0 1 0 0 1 0 0 0 2 1 1 0 0 2 1 0 2 2 0 1 1 0 0 2 1 1 0 0 0 0 0 2 0 0 0 1 0\n",
      " 0 0 0 0 0 2 1 1 0 2 1 0 2 2 1 0 2 2 0 0 0 1 0 0 0 0 0 1 1 0 0 0 2 1 0 2 0\n",
      " 2 0 3 1 1 0 0 0 0 0 0 0 0 0 1 0 2 1 0 1 1 1 0 0 0 1 0 0 2 0 1 0 0 2 2 0 1\n",
      " 0 0 0 1 0 0 0 0 2 2 2 0 0 0 0 1 0 2 1 1 0 0 1 2 0 1 2 0 0 0 0 0 0 2 0 2 0\n",
      " 0 2 1 0 1 0 0 0 0 1 0 0 0 2 1 0 0 1 0 2 0 0 0 1 0 2 1 2 0 2 0 2 1 1 2 0 0\n",
      " 1 1 0 0 2 2 0 0 0 0 2 1 0 1 2 0 0 0 0 1 2 2 2 0 1 0 0 1 2 2 0 0 0 0 1 0 2\n",
      " 0 0 0 0 1 2 0 1 0 0 0 2 1 0 2 0 1 0 0 1 1 0 1 0 0 0 1 1 2 0 0 2 0 1 0 0 0\n",
      " 1 0 0 1 0 2 0 0 1 0 2 0 0 0 0 0 0 1 0 2 2 1 0 0 0 0 0 2 0 1 0 2 0 0 1 0 1\n",
      " 0 1 1 0 1 0 0 0 1 0 0 0 0 0 1 1 0 0 2 1 0 0 2 1 0 1 0 2 0 1 0 2 0 2 1 0 1\n",
      " 2 0 1 0 1 0 0 1 2 0 0 2 0 2 0 1 1 0 1 0 2 0 2 1 0 0 0 0 0 0 0 0 0 1 0 0 0\n",
      " 0 2 1 1 0 1 0 2 1 2 0 0 2 2 1 2 0 2 2 0 2 2 0 0 0 0 2 1 0 0 2 0 0 0 0 2 2\n",
      " 1 0 1 2 2 1 3 1 0 2 2 0 0 0 1 1 1 1 0 1 1 0 0 0 2 1 0 2 1 1 0 1 0 0 0 2 0\n",
      " 1 0 0 0 1 1 1 2 0 0 0 1 0 0 2 0 0 2 2 0 1 0 1 0 0 0 0 0 0 0 0 2 1 0 0 1 0\n",
      " 0 1 0 0 0 1 1 0 0 0 0 0 1 0 0 2 0 0 0 1 0 0 0 0 2 1 0 1 1 2 1 2 0 0 0 0 0\n",
      " 0 2 0 2 0 2 0 1 2 0 0 1 0 2 0 0 1 1 0 0 0 0 1 0 0 1 2 0 0 0 1 1 0 2 0 0 0\n",
      " 0 0 2 0 0 2 1 0 1 2 0 0 2 1 0 1 0 0 0 1 0 0 0 0 1 0 2 1 2 0 1 1 1 1 2 2 2\n",
      " 1 1 0 0 1 0 0 0 0 2 0 2 1 1 0 0 0 0 0 1 1 0 0 2 0 0 0 1 1 2 0 0 1 0 1 0 0\n",
      " 0 0 1 0 2 2 0 0 1 0 1 0 0 0 2 0 0 0 0 1 2 0 0 0 2 0 1 0 0 0 0 1 1 2 0 0 2\n",
      " 0 0 0 0 0 0 2 0 1 2 0 0 1 0 0 0 2 2 2 2 0 1 0 0 0 0 0 0 2 0 1 1 2 1 0 2 0\n",
      " 0 0 0 2 0 0 1 0 0 2 2 1 2 0 1 0 1 1 2 2 0 2 0 1 2 2 0 1 0 1 2 0 0 2 0 2 0\n",
      " 0 0 0 0 0 0 0 0 0 0 2 1 0 0 0 0 0 2 0 0 2 1 1 0 2 0 0 0 0 0 1 2 0 1 2 2 2\n",
      " 0 1 1 0 1 1 0 2 0 2 1 2 0 2 2 0 1 0 1 1 0 2 0 2 2 0 1 0 0 0 0 1 0 1 0 2 1\n",
      " 2 0 0 2 2 1 1 1 0 0 1 1 0 0 0 0 0 0 1 0 2 2 0 2 1 0 0 0 0 1 0 1 2 0 0 2 1\n",
      " 0 1 1 0 0 2 0 0 0 0 0 3 1 0 0 1 0 0 2 0 1 0 1 0 1 0 0 0 0 0 2 0 2 1 0 0 1\n",
      " 0 1 0 0 2 2 0 0 1 0 1 2 0 2 1 1 2 0 2 1 2 0 1 0 2 0 0 0 0 1 0 0 0 0 0 2 2\n",
      " 0 0 1 1 0 1 0 2 1 0 2 0 1 0 0 0 0 1 1 1 0 0 0 1 0 0 1 1 2 2 2 2 1 0 0 0 1\n",
      " 0 2 2 0 0 0 1 0 1 0 0 0 1 2 2 0 2 1 0 0 0 0 0 2 1 0 2 0 0 1 0 1 1 0 0 0 1\n",
      " 0 0 0 0 1 2 1 0 2 0 2 0 0 1 2 0 2 0 1 0 0 0 0 2 1 0 1 0 0 0 1 0 0 0 2 1 1\n",
      " 0 0 0 0 0 2 1 2 0 0 0 2 0 0 0 0 1 2 1 0 0 1 0 0 0 0 0 0 2 0 2 0 1 0 0 0 0\n",
      " 1 1 0 1 0 0 0 0 0 0 0 1 1 0 1 1 0 0 1 0 0 0 1 0 1 0 2 0 0 0 0 1 1 2 0 1 2\n",
      " 2 1 2 0 1 0 0 0 0 0 0 1 1 2 0 1 2 0 0 0 1 0 2 0 0 0 0 2 0 0 2 2 0 0 1 2 1\n",
      " 1 0 0 2 0 0 1 1 0 0 2 1 1 0 1 1 2 0 2 2 0 0 0 0 0 0 0 2 0 1 0 1 0 2 0 1 0\n",
      " 1 0 1 0 2 0 0 2 0 0 1 1 0 0 2 0 0 0 2 0 1 2 0 1 0 1 2 2 0 0 0 0 0 0 0 2 2\n",
      " 0 0 0 2 0 2 2 0 0 2 0 2 0 0 0 1 1 0 0 1 1 0 0 0 0 0 0 2 0 0 1 2 2 0 1 0 0\n",
      " 1 1 1 0 0 0 2 0 2 2 2 0 0 1 0 1 0 0 1 0 0 0 0 0 0 1 2 1 0 0 0 0 0 2 1 0 2\n",
      " 0 1 0 0 0 1 2 2 0 0 0 1 2 1 0 0 0 0 0 0 0 0 1 1 0 0 0 0 1 2 0 0 0 0 0 1 0\n",
      " 0 0 0 0 0 0 0 2 0 0 2 0 0 1 1 0 2 0 1 1 1 1 1 1 0 0 0 0 0 2 0 1 1 0 1 2 0\n",
      " 2 0 0 0 0 1 0 1 2 2 0 0 0 0 0 1 0 1 0 0 1 2 0 0 1 1 2 2 1 0 2 0 0 0 0 0 0\n",
      " 0 1 2 0 0 0 1 0 2 0 2 1 0 1 0 1 0 1 0 0 0 0 2 2 0 0 1 0 0 0 0 1 1 2 1 0 2\n",
      " 0 0 1 0 2 0 0 0 0 0 0 0 0 1 0 1 0 0 0 1 1 2 0 1 0 0 0 0 0 0 1 0 2 0 0 0 1\n",
      " 1 0 0 1 2 0 2 2 1 1 2 0 2 2 0 1 0 0 2 0 0 0 2 0 0 0 0 0 0 0 0 0 1 0 2 0 2\n",
      " 1 0 0 0 0 0 0 0 2 0 0 0 0 0 2 1 0 0 1 0 0 0 0 0 1 2 2 1 1 0 1 0 0 0 0 0 0\n",
      " 2 0 0 1 0 0 0 0 0 1 1 1 2 0 0 0 1 0 2 0 0 0 2 2 0 2 1 2 0 1 2 0 0 0 0 0 2\n",
      " 0 0 0 2 1 1 1 1 2 0 0 2 1 2 1 0 1 2 0 0 0 0 0 0 0 0 0 0 2 1 0 0 2 0 2 2 0\n",
      " 0 0 1 0 1 0 0 0 1 1 0 0 1 0 0 1 1 0 0 0 0 1 1 0 0 0 0 1 0 0 0 1 0 0 0 2 0\n",
      " 0 0 1 2 0 2 1 2 0 1 0 2 0 0 2 0 0 0 0 1 1 1 2 2 2 0 0 0 1 0 0 0 1 0 0 1 1\n",
      " 1 0 0 0 1 0 0 2 0 0 0 2 1 0 1 1 0 1 2 0 0 2 0 0 0 1 1 0 0 1 1 0 1 2 0 0 0\n",
      " 1 0 0 2 2 0 1 2 0 2 0 0 0 1 2 0 0 0 0 2 0 1 0 1 2 2 1 1 1 0 0 0 0 2 1 0 0\n",
      " 0 0 0 1 1 1 0 1 0 1 0 2 1 2 0 2 0 0 0 0 0 2 0 0 1 0 2 2 0 0 0 0 2 2 0 0 0\n",
      " 0 2 0 0 0 0 0 2 2 0 2 2 0 0 0 2 2 0 0 0 0 0 0 1 0 1 2 1 2 2 2 0 0 0 1 1 0\n",
      " 0 2 0 1 0 2 0 1 0 0 0 0 1 0 1 2 1 0 1 1 0 0 0 0 0 2 0 0 1 0 2 0 1 0 0 0 0\n",
      " 2 0 0 0 2 0 0 0 0 2 1 0 1 0 0 0 0 1 0 0 0 0 1 0 0 2 2 1 0 2 2 0 0 0 0 0 1\n",
      " 1 1 1 0 0 1 0 0 0 2 2 0 0 0 0 0 0 0 2 0 0 0 0 2 2 0 2 0 1 2 2 0 0 1 0 0 0\n",
      " 1 0 1 0 0 0 0 1 2 0 0 2 0 0 0 0 0 2 0 0 0 0 0 1 0 0 0 1 1 1 2 2 0 0 0 0 0\n",
      " 1 2 0 0 1 0 2 0 0 1 1 2 1 2 0 0 0 0 0 0 0 0 1 0 0 1 1 0 0 2 1 2 2 0 0 0 1\n",
      " 0 1 0 0 1 0 0 0 0 2 2 1 2 0 1 1 1 2 0 0 0 2 2 0 0 0 2 2 0 0 2 0 1 0 0 0 0\n",
      " 0 1 0 0 0 2 0 1 1 1 0 1 1 0 0 0 1 1 1 0 2 0 1 0 0 1 0 2 0 0 0 2 1 1 2 0 0\n",
      " 0 0 0 0 0 0 1 0 2 0 0 0 0 1 0 0 1 1 2 1 1 2 0 1 0 0 0 2 2 2 2 0 0 2 0 1 0\n",
      " 0 0 2 0 0 0 1 0 1 0 0 0 0 0 0 2 0 0 2 2 0 0 1 1 2 0 0 2 2 0 0 1 0 1 2 0 1\n",
      " 1 0 0 2 0 0 0 0 0 1 1 0 2 0 1 0 1 0 0 1 2 0 1 0 1 0 1 1 0 2 2 1 0 0 1 1 0\n",
      " 1 1 0 0 0 1 0 2 1 0 2 0 0 0 0 1 2 1 0 1 1 2 0 2 0 1 0 0 0 0 0 1 2 1 0 1 1\n",
      " 0 1 2 0 1 0 2 0 0 2 0 0 2 0 0 0 1 0 1 0 0 0 1 0 0 2 0 2 0 0 1 1 2 0 0 1 2\n",
      " 0 0 0 0 1 0 1 1 1 0 1 0 1 1 0 0 0 1 0 2 0 0 1 0 2 2 0 0 0 0 2 0 0 1 2 1 0\n",
      " 1 2 1 0 1 0 0 0 1 1 0 1 0 0 2 0 0 2 0 2 1 0 0 0 0 0 1 1 0 0 1 0 0 0 0 0 0\n",
      " 1 2 2 0 1 1 0 2 0 0 1 0 0 2 1 1 0 2 0 2 2 0 0 1 1 1 1 0 0 1 1 0 1 0 1 0 1\n",
      " 0 2 0 2 2 0 0 0 2 0 0 0 2 1 0 0 0 1 0 2 2 0 0 1 0 2 0 2 2 0 0 1 2 0 1 0 0\n",
      " 0 0 0 2 0 2 2 0 0 0 0 0 0 1 1 1 0 2 2 0 0 0 2 0 2 0 1 2 0 2 2 0 0 0 0 0 0\n",
      " 2 0 1 0 0 0 1 1 0 2 2 1 2 2 1 1 1 0 2 0 0 0 0 2 0 0 2 0 2 0 0 1 0 0 0 0 0\n",
      " 0 0 1 1 1 0 0 0 0 1 0 0 2 2 1 1 0 0 0 2 1 0 1 0 0 1 0 1 2 0 1 0 0 2 2 0 1\n",
      " 0 2 0 2 0 0 1 0 0 0 1 0 0 2 2 0 2 0 0 0 0 1 0 0 0 1 1 0 0 1 0 1 0 1 2 0 1\n",
      " 1 2 0 0 0 0 0 1 0 0 0 1 0 0 0 0 0 0 2 0 1 0 0 0 0 0 0 0 2 2 0 1 0 1 0 0 0\n",
      " 1 0 0 0 0 0 2 1 2 0 0 1 0 1 0 2 0 0 0 1 1 1 0 0 1 0 0 1 1 0 0 0 0 1 0 0 1\n",
      " 1 0 2 2 1 2 0 0 0 2 0 1 0 0 0 0 1 1 2 1 1 0 0 0 2 2 2 0 2 0 0 0 0 0 1 0 0\n",
      " 1 1 0 0 0 2 2 0 0 0 0 2 1 0 1 0 0 0 1 1 0 0 0 0 1 0 1 0 0 0 0 1 0 1 2 0 1\n",
      " 2 2 1 0 0 1 1 1 1 0 0 0 1 0 0 0 1 0 2 2 0 1 0 0 1 0 1 1 1 2 2 1 1 2 0 0 0\n",
      " 2 0 1 0 0 0 0 0 1 1 2 0 1 0 0 0 0 0 0 2 0 0 1 0 0 0 1 0 1 1 0 0 0 0 0 1 0\n",
      " 0 0 0 1 1 0 0 2 2 0 1 0 0 1 2 0 0 2 0 0 2 1 0 0 0 2 1 2 0 2 0 0 2 0 2 2 0\n",
      " 0 0 0 0 0 0 0 0 0 0 2 2 1 0 0 0 2 0 0 0 0 2 1 2 0 2 0 0 0 1 1 2 2 0 0 1 0\n",
      " 2 1 2 1 1 0 2 0 0 1 1 0 0 0 1 2 0 2 0 0 0 1 0 0 0 2 0 0 1 1 1 0 0 0 0 2 2\n",
      " 0 1 0 1 0 0 2 0 1 0 0 0 1 1 0 0 2 2 1 0 1 0 1 0 1 2 0 0 0 0 0 0 1 0 0 0 1\n",
      " 1 0 0 1 1 0 0 0 0 0 0 0 0 2 1 1 0 0 2 2 0 0 0 1 1 0 0 0 0 0 0 1 1 0 0 2 0\n",
      " 2 0 0 0 0 1 2 2 2 1 0 0 0 0 0 2 0 1 0 0 1 0 0 1 0 0 0 0 1 1 0 1 0 1 1 0 2\n",
      " 2 0 1 1 0 0 0 0 0 0 0 0 0 1 1 1 2 1 0 0 2 0 1 1 0 0 1 0 1 1 0 0 1 0 0 1 2\n",
      " 1 1 0 2 0 0 0 0 1 0 2 0 1 0 0 1 0 0 2 0 2 0 0 0 0 0 0 0 0 1 1 2 0 2 0 1 0\n",
      " 0 1 2 2 1 0 0 0 1 0 1 0 0 0 0 2 0 0 0 0 0 2 0 0 0 2 0 0 0 2 0 0 0 1 0 2 1\n",
      " 0 2 0 0 2 0 2 2 0 1 1 0 0 1 2 0 2 2 0 0 2 0 0 1 2 0 1 1 1 1 0 0 0 0 0 0 2\n",
      " 0 2 0 0 0 0 1 0 0 2 0 1 0 0 1 2 0 1 1 0 0 2 0 0 2 0 0 0 2 2 1 0 1 0 0 0 0\n",
      " 2 0 0 1 0 2 1 0 0 0 0 2 2 0 2 0 0 0 0 0 1 0 0 0 2 0 2 0 2 0 0 0 0 0 2 0 1\n",
      " 0 2 1 0 1 1 1 0 0 0 2 0 2 0 0 0 2 2 0 0 0 0 1 0 2 2 0 0 0 0 0 0 1 1 2 1 0\n",
      " 2 1 1 2 0 0 0 1 0 2 0 1 0 0 1 2 0 0 0 0 0 1 0 0 1 0 0 0 0 0 2 2 0 0 1 2 0\n",
      " 0 0 0 1 1 1 1 0 1 2 0 1 2 2 0 0 0 1 0 0 0 0 1 0 0 1 0 0 0 0 0 1 0 1 0 1 1\n",
      " 2 0 2 2 1 1 1 0 0 0 2 0 0 0 1 2 2 1 0 0 0 0 1 1 2 2 0 2 2 1 1 0 1 0 2 2 0\n",
      " 2 2 0 2 1 1 2 0 1 1 2 2 0 2 0 0 2 0 1 0 2 0 0 0 0 0 0 2 0 0 0 0 0 0 0 0 0\n",
      " 1 0 0 0 1 0 0 1 0 0 2 0 0 1 0 2 0 0 0 2 1 0 0 2 1 0 0 0 0 1 0 0 2 2 2 1 1\n",
      " 2 1 2 0 0 0 1 2 0 0 0 0 0 0 0 0 0 2 1 0 0 0 0 0 1 0 0 2 1 1 2 0 0 2 1 0 0\n",
      " 0 0 1 1 0 0 2 2 2 0 1 0 0 1 2 2 0 2 0 0 0 1 2 2 0 1 1 2 0 0 1 0 0 2 1 0 0\n",
      " 0 0 1 0 0 0 1 0 2 0 0 0 0 0 1 0 0 2 0 1 0 0 0 1 0 0 1 2 1 1 0 2 2 0 0 0 2\n",
      " 0 2 0 2 0 1 0 0 0 1 0 2 1 0 0 0 0 0 0 0 2 2 2 0 2 0 1 0 0 1 0 2 0 1 0 2 0\n",
      " 1 0 1 0 2 1 0 0 2 1 2 1 0 0 2 2 0 2 0 1 0 0 2 0 1 0 2 0 1 0 0 2 0 1 0 1 2\n",
      " 1 1 1 1 1 2 0 0 2 1 2 0 0 0 0 0 0 0 0 0 0 0 0 0 0 0 0 2 0 2 1 0 1 0 2 0 0\n",
      " 1 0 0 0 0 0 0 0 0 0 2 1 0 2 2 1 0 0 1 0 1 0 1 1 0 2 1 0 0 1 2 0 2 0 2 1 0\n",
      " 2 0 0 1 0 0 0 1 0 0 0 1 0 1 0 0 0 0 1 1 1 0 0 0 2 0 2 0 0 0 0 0 0 2 0 2 0\n",
      " 0 2 0 0 0 3 2 0 1 2 0 1 0 0 0 0 0 2 0 1 2 0 2 0 0 1 0 0 1 0 0 0 1 0 0 2 0\n",
      " 1 0 0 2 0 1 0 0 0 0 2 0 1 2 0 0 2 1 1 0 0 1 0 2 0 0 2 0 1 1 0 0 1 0 0 1 0\n",
      " 2 0 0 1 2 0 0 0 1 2 0 1 1 2 0 0 0 0 0 2 2 2 1 0 1 0 2 1 0 1 2 2 1 1 0 1 2\n",
      " 0 2 1 0 0 0 0 1 0 0 0 1 0 0 2 2 0 1 2 0 0 0 1 1 0 1 2 0 0 0 0 1 0 2 1 0 0\n",
      " 0 2 0 2 0 0 0 2 0 0 1 0 0 1 0 1 1 0 0 0 0 0 2 0 0 0 0 2 0 0 0 1 1 0 0 0 0\n",
      " 2 0 1 0 0 1 0 0 0 0 0 1 0 2 0 0 0 0 0 2 0 0 1 0 0 2 0 2 0 0 0 1 0 1 1 0 0\n",
      " 0 0 2 2 1 1 1 2 0 0 0 2 0 2 0 0 2 0 1 0 0 0 0 1 1 1 0 2 0 2 0 2 0 2 2 0 0\n",
      " 0 2 1 0 2 1 2 0 2 0 0 1 2 0 1 1 2 0 0 0 1 0 2 1 0 0 0 2 1 1 2 2 1 1 1 0 0\n",
      " 0 1 0 0 2 0 2 0 0 0 0 0 0 0 1 0 0 0 0 0 0 0 0 2 0 0 0 1 0 1 0 0 0 1 0 0 1\n",
      " 1 0 0 1 0 0 0 1 0 1 0 1 0 2 2 2 0 1 0 2 1 2 1 0 0 0 0 0 0 0 1 0 0 1 0 2 2\n",
      " 1 0 0 0 0 2 1 0 0 2 0 0 2 0 0 0 1 1 0 0 1 1 0 1 1 2 0 2 0 0 2 1 0 2 0 0 0\n",
      " 2 0 0 1 2 1 0 1 1 1 0 2 0 0 1 1 1 0 0 0 1 0 1 0 0 0 1 2 0 0 1 0 0 2 0 0 0\n",
      " 2 1 2 0 0 0 0 0 0 2 1 0 0 1 0 1 0 0 0 0 1 0 2 0 1 0 0 0 0 1 0 0 0 0 0 0 2\n",
      " 1 0 1 1 0 1 0 0 2 0 0 1 0 0 0 0 0 0 2 0 1 0 0 0 1 0 0 0 1 1 0 1 1 0 0 2 1\n",
      " 1 0 0 0 1 0 0 0 1 0 2 0 0 1 0 0 2 0 1 0 0 1 2 0 0 2 0 1 1 1 0 0 0 0 0 0 0\n",
      " 1 1 0 0 0 2 0 0 0 0 2 0 0 0 1 0 0 0 0 2 0 2 0 0 2 0 2 1 1 2 0 0 0]\n"
     ]
    }
   ],
   "source": [
    "lab_enc=preprocessing.LabelEncoder()\n",
    "encoded_y9_df=lab_enc.fit_transform(y9)\n",
    "encoded_y9=lab_enc.fit_transform(y9_train)\n",
    "encoded_y9t=lab_enc.fit_transform(y9_test)\n",
    "np.set_printoptions(threshold=np.inf)\n",
    "print(encoded_y9)"
   ]
  },
  {
   "cell_type": "markdown",
   "metadata": {
    "id": "xyR6JKuHew9a"
   },
   "source": [
    "## **DEFINING PIPELINE FOR KNN MODEL:**"
   ]
  },
  {
   "cell_type": "code",
   "execution_count": 73,
   "metadata": {
    "id": "X9BU7OL3dSNZ"
   },
   "outputs": [],
   "source": [
    "KNNPipeline=Pipeline([(\"myscaler\", StandardScaler()),\n",
    "                    (\"mysmote\", SMOTE()),\n",
    "                    (\"myModel\", KNeighborsClassifier())])"
   ]
  },
  {
   "cell_type": "markdown",
   "metadata": {
    "id": "jh8mzlQPe5De"
   },
   "source": [
    "## **DEFINING PIPELINE FOR LOGISTIC REGRESSION MODEL:**"
   ]
  },
  {
   "cell_type": "code",
   "execution_count": 74,
   "metadata": {
    "id": "e3Mewp9ldN66"
   },
   "outputs": [],
   "source": [
    "LogisticRegressionPipeline=Pipeline([(\"myscaler\", StandardScaler()),\n",
    "                    (\"mysmote\", SMOTE()),\n",
    "                    (\"myModel\", LogisticRegression())])"
   ]
  },
  {
   "cell_type": "markdown",
   "metadata": {
    "id": "q63SvRLHfLFA"
   },
   "source": [
    "## **DEFINING PIPELINE FOR LINEAR REGRESSION MODEL:**"
   ]
  },
  {
   "cell_type": "code",
   "execution_count": 75,
   "metadata": {
    "id": "f6HNCGQrdJXu"
   },
   "outputs": [],
   "source": [
    "LinearRegressionPipeline=Pipeline([(\"myscaler\", StandardScaler()),\n",
    "                    (\"mysmote\", SMOTE()),\n",
    "                    (\"myModel\", LinearRegression())])"
   ]
  },
  {
   "cell_type": "markdown",
   "metadata": {
    "id": "fMdmUjKLfOqP"
   },
   "source": [
    "## **DEFINING PIPELINE FOR DECISION TREE MODEL:**"
   ]
  },
  {
   "cell_type": "code",
   "execution_count": 76,
   "metadata": {
    "id": "NFD1CFqjdWec"
   },
   "outputs": [],
   "source": [
    "TreePipeline=Pipeline([(\"myscaler\", StandardScaler()),\n",
    "                    (\"mysmote\", SMOTE()),\n",
    "                    (\"myModel\", DecisionTreeClassifier())])"
   ]
  },
  {
   "cell_type": "markdown",
   "metadata": {
    "id": "5eO8hW6Vfjk5"
   },
   "source": [
    "## **DEFINING PIPELINE FOR RANDOM FOREST REGRESSION MODEL:**\n"
   ]
  },
  {
   "cell_type": "code",
   "execution_count": 77,
   "metadata": {
    "id": "hYglT354dWja"
   },
   "outputs": [],
   "source": [
    "RandomForestPipeline=Pipeline([(\"myscaler\", StandardScaler()),\n",
    "                    (\"mysmote\", SMOTE()),\n",
    "                    (\"myModel\", RandomForestRegressor())])"
   ]
  },
  {
   "cell_type": "markdown",
   "metadata": {
    "id": "M3k4_pZTfo55"
   },
   "source": [
    "## **DEFINING PIPELINE FOR SVM MODEL:**\n"
   ]
  },
  {
   "cell_type": "code",
   "execution_count": 78,
   "metadata": {
    "id": "q424QpmmdWpK"
   },
   "outputs": [],
   "source": [
    "SVMPipeline=Pipeline([(\"myscaler\", StandardScaler()),\n",
    "                    (\"mysmote\", SMOTE()),\n",
    "                    (\"myModel\", SVC())])"
   ]
  },
  {
   "cell_type": "markdown",
   "metadata": {
    "id": "riu5TUIjfwpX"
   },
   "source": [
    "## **DEFINING MYPIPELINE AND ADDING ALL MODELS IN IT:**\n"
   ]
  },
  {
   "cell_type": "code",
   "execution_count": 79,
   "metadata": {
    "id": "49fVxQ_JeXPq"
   },
   "outputs": [],
   "source": [
    "mypipeline=[KNNPipeline, LogisticRegressionPipeline, LinearRegressionPipeline, TreePipeline, RandomForestPipeline, SVMPipeline]"
   ]
  },
  {
   "cell_type": "markdown",
   "metadata": {
    "id": "kehkokFtf6Gf"
   },
   "source": [
    "## **DEFINING INITIAL SCORE AS ZERO**\n"
   ]
  },
  {
   "cell_type": "code",
   "execution_count": 80,
   "metadata": {
    "id": "DD0en_47df3S"
   },
   "outputs": [],
   "source": [
    "accuracy=0.0\n",
    "classifier=0\n",
    "pipeline=\"\""
   ]
  },
  {
   "cell_type": "markdown",
   "metadata": {
    "id": "hWidgwQFf_g3"
   },
   "source": [
    "## **ASSIGNING NUMBERICAL VALUE TO EACH MODEL VARIABLE, AND USING FOR LOOP TO FIT PIPELINE TO ALL MODELS:**"
   ]
  },
  {
   "cell_type": "code",
   "execution_count": 81,
   "metadata": {
    "id": "GnRDv8Nldm_v"
   },
   "outputs": [],
   "source": [
    "PipelineDict={0: \"KNNPipeline\", 1:\"LogisticRegressionPipeline\", 2:\"LinearRegressionPipeline\", 3:\"TreePipeline\", 4: \"RandomForestPipeline\", 5: \"SVMPipeline\"}\n",
    "for mypipe in mypipeline:\n",
    "  mypipe.fit(x9_train, encoded_y9)"
   ]
  },
  {
   "cell_type": "markdown",
   "metadata": {
    "id": "8E8zmaFbgSk3"
   },
   "source": [
    "## **USING FOR LOOP TO FIND SCORE OF ALL MODELS>**"
   ]
  },
  {
   "cell_type": "code",
   "execution_count": 82,
   "metadata": {
    "colab": {
     "base_uri": "https://localhost:8080/"
    },
    "id": "uTW4vjNMdpfB",
    "outputId": "fcec4389-ac8a-4cc2-f1ea-8af88f1698da"
   },
   "outputs": [
    {
     "name": "stdout",
     "output_type": "stream",
     "text": [
      "KNNPipeline Test Accuracy: 0.987182421606775\n",
      "LogisticRegressionPipeline Test Accuracy: 0.9206530861371786\n",
      "LinearRegressionPipeline Test Accuracy: -0.3995161741798612\n",
      "TreePipeline Test Accuracy: 0.9965667200732433\n",
      "RandomForestPipeline Test Accuracy: 0.9895807012469702\n",
      "SVMPipeline Test Accuracy: 0.9473563744563973\n"
     ]
    }
   ],
   "source": [
    "for i, model in enumerate(mypipeline):\n",
    "  print(\"{} Test Accuracy: {}\".format(PipelineDict[i], model.score(x9_test, encoded_y9t)))"
   ]
  },
  {
   "cell_type": "markdown",
   "metadata": {
    "id": "uXFeDfV-gcJd"
   },
   "source": [
    "## **DISPLAYING SHAPE OF TRAIN AND TEST INPUT & OUTPUT**"
   ]
  },
  {
   "cell_type": "code",
   "execution_count": 83,
   "metadata": {
    "colab": {
     "base_uri": "https://localhost:8080/"
    },
    "id": "T18jhtrqdrlQ",
    "outputId": "725b130f-c144-4de9-bc7f-8f6016e15783"
   },
   "outputs": [
    {
     "data": {
      "text/plain": [
       "((52425, 11), (13107, 11), (52425,), (13107,))"
      ]
     },
     "execution_count": 83,
     "metadata": {},
     "output_type": "execute_result"
    }
   ],
   "source": [
    "x9_train.shape, x9_test.shape,encoded_y9.shape, encoded_y9t.shape"
   ]
  },
  {
   "cell_type": "markdown",
   "metadata": {
    "id": "UwyTfFM7gvXE"
   },
   "source": [
    "## **USING FOR LOOP TO SELECT BEST MODEL IN PIPELINE**"
   ]
  },
  {
   "cell_type": "code",
   "execution_count": 84,
   "metadata": {
    "colab": {
     "base_uri": "https://localhost:8080/"
    },
    "id": "iJ6_j9l_duPQ",
    "outputId": "d82afd6d-6d6a-47a2-bf9b-be3c3e000163"
   },
   "outputs": [
    {
     "name": "stdout",
     "output_type": "stream",
     "text": [
      "Best Model in Pipeline is:TreePipeline\n"
     ]
    }
   ],
   "source": [
    "for i, model in enumerate(mypipeline):\n",
    "  if (model.score(x9_test, encoded_y9t))>accuracy:\n",
    "    accuracy=model.score(x9_test, encoded_y9t)\n",
    "    pipeline=model\n",
    "    classifier=i\n",
    "print(\"Best Model in Pipeline is:{}\".format(PipelineDict[classifier]))"
   ]
  },
  {
   "cell_type": "code",
   "execution_count": null,
   "metadata": {
    "id": "MlIehEjZ_Z-h"
   },
   "outputs": [],
   "source": []
  }
 ],
 "metadata": {
  "accelerator": "GPU",
  "colab": {
   "collapsed_sections": [
    "90b0zMZNLzlR",
    "RjZh4w0UPLyT",
    "9cxxPoFSUqU0",
    "Fk-uLkBwUqs-",
    "6g9YNLtrWWIM",
    "J2XQ2cuoX3JI",
    "Y516Gi3GeHC8",
    "StNqwquSeMu5",
    "qh_EmHmUeS2W",
    "ciPmv0pueffX",
    "eE83Ig9Xeoiu",
    "xyR6JKuHew9a",
    "jh8mzlQPe5De"
   ],
   "provenance": []
  },
  "gpuClass": "standard",
  "kernelspec": {
   "display_name": "Python 3 (ipykernel)",
   "language": "python",
   "name": "python3"
  },
  "language_info": {
   "codemirror_mode": {
    "name": "ipython",
    "version": 3
   },
   "file_extension": ".py",
   "mimetype": "text/x-python",
   "name": "python",
   "nbconvert_exporter": "python",
   "pygments_lexer": "ipython3",
   "version": "3.9.13"
  }
 },
 "nbformat": 4,
 "nbformat_minor": 1
}
