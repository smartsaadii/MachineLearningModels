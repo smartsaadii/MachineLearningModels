{
  "nbformat": 4,
  "nbformat_minor": 0,
  "metadata": {
    "colab": {
      "provenance": [],
      "collapsed_sections": [
        "90b0zMZNLzlR",
        "RjZh4w0UPLyT",
        "9cxxPoFSUqU0",
        "Fk-uLkBwUqs-",
        "6g9YNLtrWWIM",
        "J2XQ2cuoX3JI",
        "Y516Gi3GeHC8",
        "StNqwquSeMu5",
        "qh_EmHmUeS2W",
        "ciPmv0pueffX",
        "eE83Ig9Xeoiu",
        "xyR6JKuHew9a",
        "jh8mzlQPe5De"
      ]
    },
    "kernelspec": {
      "name": "python3",
      "display_name": "Python 3"
    },
    "language_info": {
      "name": "python"
    },
    "accelerator": "GPU",
    "gpuClass": "standard"
  },
  "cells": [
    {
      "cell_type": "markdown",
      "source": [
        "# **MACHINE LEARNING PROJECT IMPLEMENTATION**"
      ],
      "metadata": {
        "id": "9eHdWyMjLgr5"
      }
    },
    {
      "cell_type": "markdown",
      "source": [
        "## **INTERNET FIREWALL DATA**"
      ],
      "metadata": {
        "id": "WhmS6Wp9GmrI"
      }
    },
    {
      "cell_type": "markdown",
      "source": [
        "## **Presented By: Engr. Saad**\n",
        "## **Roll Number:**  **-----**\n"
      ],
      "metadata": {
        "id": "90b0zMZNLzlR"
      }
    },
    {
      "cell_type": "markdown",
      "source": [
        "## **IMPORTING LIBRARIES**"
      ],
      "metadata": {
        "id": "hLRXJwMbL72B"
      }
    },
    {
      "cell_type": "code",
      "execution_count": 1,
      "metadata": {
        "id": "X7cPMA4iLetG"
      },
      "outputs": [],
      "source": [
        "import numpy as np\n",
        "import pandas as pd\n",
        "import seaborn as sns\n",
        "import matplotlib.pyplot as plt\n",
        "from pandas_profiling import ProfileReport\n",
        "import imblearn\n",
        "from collections import Counter\n",
        "from imblearn.over_sampling import SMOTE\n",
        "from imblearn.under_sampling import RandomUnderSampler\n",
        "from imblearn.pipeline import Pipeline\n"
      ]
    },
    {
      "cell_type": "markdown",
      "source": [
        "## **DATA ACQUISITON**"
      ],
      "metadata": {
        "id": "YzmAml6Bp18V"
      }
    },
    {
      "cell_type": "markdown",
      "source": [
        "Data acquiring is the process to fetch or find dataset from available resource. Here we use UCI site, UCI allows users to find and publish data sets, We downloaded Internet Firewall data dataset on this site (http://archive.ics.uci.edu/ml//datasets/Internet+Firewall+Data). Then i uploaded it on my google drive. "
      ],
      "metadata": {
        "id": "Mnzn4DfJsZVv"
      }
    },
    {
      "cell_type": "markdown",
      "source": [
        "### **Loading Dataset**"
      ],
      "metadata": {
        "id": "m95DRRpHsqt5"
      }
    },
    {
      "cell_type": "code",
      "source": [
        "from google.colab import drive\n",
        "drive.mount('/content/drive')"
      ],
      "metadata": {
        "colab": {
          "base_uri": "https://localhost:8080/"
        },
        "id": "DwPO-DTSK95C",
        "outputId": "29d4ce2b-1578-4116-b615-526ca2fd4dda"
      },
      "execution_count": 2,
      "outputs": [
        {
          "output_type": "stream",
          "name": "stdout",
          "text": [
            "Mounted at /content/drive\n"
          ]
        }
      ]
    },
    {
      "cell_type": "code",
      "source": [
        "df=pd.read_csv(\"/content/drive/MyDrive/Colab Projects/Colab Notebooks/Project-01/log2.csv\")  #Original Dataset\n",
        "df2=pd.read_csv(\"/content/drive/MyDrive/Colab Projects/Colab Notebooks/Project-01/log2.csv\") #Output Converted into Numerical\n",
        "df3=pd.read_csv(\"/content/drive/MyDrive/Colab Projects/Colab Notebooks/Project-01/log2.csv\") #If Original Data is needed anywhere\n",
        "df4=pd.read_csv(\"/content/drive/MyDrive/Colab Projects/Colab Notebooks/Project-01/log2.csv\") #If Original Data is needed anywhere"
      ],
      "metadata": {
        "id": "TX1QhcXOp-v2"
      },
      "execution_count": 3,
      "outputs": []
    },
    {
      "cell_type": "markdown",
      "source": [
        "df1 will be original data.\n",
        "df2 will be labeling output from categorical to numerical\n",
        "df3 will be used for smote purpose."
      ],
      "metadata": {
        "id": "l71gkaJWG9Xv"
      }
    },
    {
      "cell_type": "code",
      "source": [
        "dataMapping={\"allow\":3,\n",
        "            \"deny\":2,\n",
        "            \"drop\":1,\n",
        "            \"reset-both\":0}\n",
        "df2[\"Action\"]=df2[\"Action\"].map(dataMapping) # Action Column was catergorical but is converted into Numberical"
      ],
      "metadata": {
        "id": "R_MRFx2RPr3f"
      },
      "execution_count": 4,
      "outputs": []
    },
    {
      "cell_type": "markdown",
      "source": [
        "## **Data Exploration and Analysis**"
      ],
      "metadata": {
        "id": "pWAlJfh7s3-L"
      }
    },
    {
      "cell_type": "markdown",
      "source": [
        "### **Displaying Dataframe**"
      ],
      "metadata": {
        "id": "RqWVxkHts9JZ"
      }
    },
    {
      "cell_type": "code",
      "source": [
        "df.head()"
      ],
      "metadata": {
        "id": "jeGQtjrItCNP",
        "colab": {
          "base_uri": "https://localhost:8080/",
          "height": 268
        },
        "outputId": "221f7c4e-8bf3-482e-b52f-f56e20088c99"
      },
      "execution_count": 5,
      "outputs": [
        {
          "output_type": "execute_result",
          "data": {
            "text/plain": [
              "   Source Port  Destination Port  NAT Source Port  NAT Destination Port  \\\n",
              "0        57222                53            54587                    53   \n",
              "1        56258              3389            56258                  3389   \n",
              "2         6881             50321            43265                 50321   \n",
              "3        50553              3389            50553                  3389   \n",
              "4        50002               443            45848                   443   \n",
              "\n",
              "  Action  Bytes  Bytes Sent  Bytes Received  Packets  Elapsed Time (sec)  \\\n",
              "0  allow    177          94              83        2                  30   \n",
              "1  allow   4768        1600            3168       19                  17   \n",
              "2  allow    238         118             120        2                1199   \n",
              "3  allow   3327        1438            1889       15                  17   \n",
              "4  allow  25358        6778           18580       31                  16   \n",
              "\n",
              "   pkts_sent  pkts_received  \n",
              "0          1              1  \n",
              "1         10              9  \n",
              "2          1              1  \n",
              "3          8              7  \n",
              "4         13             18  "
            ],
            "text/html": [
              "\n",
              "  <div id=\"df-8ecd3981-71d0-4bea-9e9d-4d487014ca7a\">\n",
              "    <div class=\"colab-df-container\">\n",
              "      <div>\n",
              "<style scoped>\n",
              "    .dataframe tbody tr th:only-of-type {\n",
              "        vertical-align: middle;\n",
              "    }\n",
              "\n",
              "    .dataframe tbody tr th {\n",
              "        vertical-align: top;\n",
              "    }\n",
              "\n",
              "    .dataframe thead th {\n",
              "        text-align: right;\n",
              "    }\n",
              "</style>\n",
              "<table border=\"1\" class=\"dataframe\">\n",
              "  <thead>\n",
              "    <tr style=\"text-align: right;\">\n",
              "      <th></th>\n",
              "      <th>Source Port</th>\n",
              "      <th>Destination Port</th>\n",
              "      <th>NAT Source Port</th>\n",
              "      <th>NAT Destination Port</th>\n",
              "      <th>Action</th>\n",
              "      <th>Bytes</th>\n",
              "      <th>Bytes Sent</th>\n",
              "      <th>Bytes Received</th>\n",
              "      <th>Packets</th>\n",
              "      <th>Elapsed Time (sec)</th>\n",
              "      <th>pkts_sent</th>\n",
              "      <th>pkts_received</th>\n",
              "    </tr>\n",
              "  </thead>\n",
              "  <tbody>\n",
              "    <tr>\n",
              "      <th>0</th>\n",
              "      <td>57222</td>\n",
              "      <td>53</td>\n",
              "      <td>54587</td>\n",
              "      <td>53</td>\n",
              "      <td>allow</td>\n",
              "      <td>177</td>\n",
              "      <td>94</td>\n",
              "      <td>83</td>\n",
              "      <td>2</td>\n",
              "      <td>30</td>\n",
              "      <td>1</td>\n",
              "      <td>1</td>\n",
              "    </tr>\n",
              "    <tr>\n",
              "      <th>1</th>\n",
              "      <td>56258</td>\n",
              "      <td>3389</td>\n",
              "      <td>56258</td>\n",
              "      <td>3389</td>\n",
              "      <td>allow</td>\n",
              "      <td>4768</td>\n",
              "      <td>1600</td>\n",
              "      <td>3168</td>\n",
              "      <td>19</td>\n",
              "      <td>17</td>\n",
              "      <td>10</td>\n",
              "      <td>9</td>\n",
              "    </tr>\n",
              "    <tr>\n",
              "      <th>2</th>\n",
              "      <td>6881</td>\n",
              "      <td>50321</td>\n",
              "      <td>43265</td>\n",
              "      <td>50321</td>\n",
              "      <td>allow</td>\n",
              "      <td>238</td>\n",
              "      <td>118</td>\n",
              "      <td>120</td>\n",
              "      <td>2</td>\n",
              "      <td>1199</td>\n",
              "      <td>1</td>\n",
              "      <td>1</td>\n",
              "    </tr>\n",
              "    <tr>\n",
              "      <th>3</th>\n",
              "      <td>50553</td>\n",
              "      <td>3389</td>\n",
              "      <td>50553</td>\n",
              "      <td>3389</td>\n",
              "      <td>allow</td>\n",
              "      <td>3327</td>\n",
              "      <td>1438</td>\n",
              "      <td>1889</td>\n",
              "      <td>15</td>\n",
              "      <td>17</td>\n",
              "      <td>8</td>\n",
              "      <td>7</td>\n",
              "    </tr>\n",
              "    <tr>\n",
              "      <th>4</th>\n",
              "      <td>50002</td>\n",
              "      <td>443</td>\n",
              "      <td>45848</td>\n",
              "      <td>443</td>\n",
              "      <td>allow</td>\n",
              "      <td>25358</td>\n",
              "      <td>6778</td>\n",
              "      <td>18580</td>\n",
              "      <td>31</td>\n",
              "      <td>16</td>\n",
              "      <td>13</td>\n",
              "      <td>18</td>\n",
              "    </tr>\n",
              "  </tbody>\n",
              "</table>\n",
              "</div>\n",
              "      <button class=\"colab-df-convert\" onclick=\"convertToInteractive('df-8ecd3981-71d0-4bea-9e9d-4d487014ca7a')\"\n",
              "              title=\"Convert this dataframe to an interactive table.\"\n",
              "              style=\"display:none;\">\n",
              "        \n",
              "  <svg xmlns=\"http://www.w3.org/2000/svg\" height=\"24px\"viewBox=\"0 0 24 24\"\n",
              "       width=\"24px\">\n",
              "    <path d=\"M0 0h24v24H0V0z\" fill=\"none\"/>\n",
              "    <path d=\"M18.56 5.44l.94 2.06.94-2.06 2.06-.94-2.06-.94-.94-2.06-.94 2.06-2.06.94zm-11 1L8.5 8.5l.94-2.06 2.06-.94-2.06-.94L8.5 2.5l-.94 2.06-2.06.94zm10 10l.94 2.06.94-2.06 2.06-.94-2.06-.94-.94-2.06-.94 2.06-2.06.94z\"/><path d=\"M17.41 7.96l-1.37-1.37c-.4-.4-.92-.59-1.43-.59-.52 0-1.04.2-1.43.59L10.3 9.45l-7.72 7.72c-.78.78-.78 2.05 0 2.83L4 21.41c.39.39.9.59 1.41.59.51 0 1.02-.2 1.41-.59l7.78-7.78 2.81-2.81c.8-.78.8-2.07 0-2.86zM5.41 20L4 18.59l7.72-7.72 1.47 1.35L5.41 20z\"/>\n",
              "  </svg>\n",
              "      </button>\n",
              "      \n",
              "  <style>\n",
              "    .colab-df-container {\n",
              "      display:flex;\n",
              "      flex-wrap:wrap;\n",
              "      gap: 12px;\n",
              "    }\n",
              "\n",
              "    .colab-df-convert {\n",
              "      background-color: #E8F0FE;\n",
              "      border: none;\n",
              "      border-radius: 50%;\n",
              "      cursor: pointer;\n",
              "      display: none;\n",
              "      fill: #1967D2;\n",
              "      height: 32px;\n",
              "      padding: 0 0 0 0;\n",
              "      width: 32px;\n",
              "    }\n",
              "\n",
              "    .colab-df-convert:hover {\n",
              "      background-color: #E2EBFA;\n",
              "      box-shadow: 0px 1px 2px rgba(60, 64, 67, 0.3), 0px 1px 3px 1px rgba(60, 64, 67, 0.15);\n",
              "      fill: #174EA6;\n",
              "    }\n",
              "\n",
              "    [theme=dark] .colab-df-convert {\n",
              "      background-color: #3B4455;\n",
              "      fill: #D2E3FC;\n",
              "    }\n",
              "\n",
              "    [theme=dark] .colab-df-convert:hover {\n",
              "      background-color: #434B5C;\n",
              "      box-shadow: 0px 1px 3px 1px rgba(0, 0, 0, 0.15);\n",
              "      filter: drop-shadow(0px 1px 2px rgba(0, 0, 0, 0.3));\n",
              "      fill: #FFFFFF;\n",
              "    }\n",
              "  </style>\n",
              "\n",
              "      <script>\n",
              "        const buttonEl =\n",
              "          document.querySelector('#df-8ecd3981-71d0-4bea-9e9d-4d487014ca7a button.colab-df-convert');\n",
              "        buttonEl.style.display =\n",
              "          google.colab.kernel.accessAllowed ? 'block' : 'none';\n",
              "\n",
              "        async function convertToInteractive(key) {\n",
              "          const element = document.querySelector('#df-8ecd3981-71d0-4bea-9e9d-4d487014ca7a');\n",
              "          const dataTable =\n",
              "            await google.colab.kernel.invokeFunction('convertToInteractive',\n",
              "                                                     [key], {});\n",
              "          if (!dataTable) return;\n",
              "\n",
              "          const docLinkHtml = 'Like what you see? Visit the ' +\n",
              "            '<a target=\"_blank\" href=https://colab.research.google.com/notebooks/data_table.ipynb>data table notebook</a>'\n",
              "            + ' to learn more about interactive tables.';\n",
              "          element.innerHTML = '';\n",
              "          dataTable['output_type'] = 'display_data';\n",
              "          await google.colab.output.renderOutput(dataTable, element);\n",
              "          const docLink = document.createElement('div');\n",
              "          docLink.innerHTML = docLinkHtml;\n",
              "          element.appendChild(docLink);\n",
              "        }\n",
              "      </script>\n",
              "    </div>\n",
              "  </div>\n",
              "  "
            ]
          },
          "metadata": {},
          "execution_count": 5
        }
      ]
    },
    {
      "cell_type": "code",
      "source": [
        "df2.head(5)"
      ],
      "metadata": {
        "id": "dAiyxvZ7PwvD",
        "colab": {
          "base_uri": "https://localhost:8080/",
          "height": 268
        },
        "outputId": "074600f2-1092-47c4-e1cb-0bed2c28aa74"
      },
      "execution_count": 6,
      "outputs": [
        {
          "output_type": "execute_result",
          "data": {
            "text/plain": [
              "   Source Port  Destination Port  NAT Source Port  NAT Destination Port  \\\n",
              "0        57222                53            54587                    53   \n",
              "1        56258              3389            56258                  3389   \n",
              "2         6881             50321            43265                 50321   \n",
              "3        50553              3389            50553                  3389   \n",
              "4        50002               443            45848                   443   \n",
              "\n",
              "   Action  Bytes  Bytes Sent  Bytes Received  Packets  Elapsed Time (sec)  \\\n",
              "0       3    177          94              83        2                  30   \n",
              "1       3   4768        1600            3168       19                  17   \n",
              "2       3    238         118             120        2                1199   \n",
              "3       3   3327        1438            1889       15                  17   \n",
              "4       3  25358        6778           18580       31                  16   \n",
              "\n",
              "   pkts_sent  pkts_received  \n",
              "0          1              1  \n",
              "1         10              9  \n",
              "2          1              1  \n",
              "3          8              7  \n",
              "4         13             18  "
            ],
            "text/html": [
              "\n",
              "  <div id=\"df-253b2471-a0f8-49a5-8026-208f03693551\">\n",
              "    <div class=\"colab-df-container\">\n",
              "      <div>\n",
              "<style scoped>\n",
              "    .dataframe tbody tr th:only-of-type {\n",
              "        vertical-align: middle;\n",
              "    }\n",
              "\n",
              "    .dataframe tbody tr th {\n",
              "        vertical-align: top;\n",
              "    }\n",
              "\n",
              "    .dataframe thead th {\n",
              "        text-align: right;\n",
              "    }\n",
              "</style>\n",
              "<table border=\"1\" class=\"dataframe\">\n",
              "  <thead>\n",
              "    <tr style=\"text-align: right;\">\n",
              "      <th></th>\n",
              "      <th>Source Port</th>\n",
              "      <th>Destination Port</th>\n",
              "      <th>NAT Source Port</th>\n",
              "      <th>NAT Destination Port</th>\n",
              "      <th>Action</th>\n",
              "      <th>Bytes</th>\n",
              "      <th>Bytes Sent</th>\n",
              "      <th>Bytes Received</th>\n",
              "      <th>Packets</th>\n",
              "      <th>Elapsed Time (sec)</th>\n",
              "      <th>pkts_sent</th>\n",
              "      <th>pkts_received</th>\n",
              "    </tr>\n",
              "  </thead>\n",
              "  <tbody>\n",
              "    <tr>\n",
              "      <th>0</th>\n",
              "      <td>57222</td>\n",
              "      <td>53</td>\n",
              "      <td>54587</td>\n",
              "      <td>53</td>\n",
              "      <td>3</td>\n",
              "      <td>177</td>\n",
              "      <td>94</td>\n",
              "      <td>83</td>\n",
              "      <td>2</td>\n",
              "      <td>30</td>\n",
              "      <td>1</td>\n",
              "      <td>1</td>\n",
              "    </tr>\n",
              "    <tr>\n",
              "      <th>1</th>\n",
              "      <td>56258</td>\n",
              "      <td>3389</td>\n",
              "      <td>56258</td>\n",
              "      <td>3389</td>\n",
              "      <td>3</td>\n",
              "      <td>4768</td>\n",
              "      <td>1600</td>\n",
              "      <td>3168</td>\n",
              "      <td>19</td>\n",
              "      <td>17</td>\n",
              "      <td>10</td>\n",
              "      <td>9</td>\n",
              "    </tr>\n",
              "    <tr>\n",
              "      <th>2</th>\n",
              "      <td>6881</td>\n",
              "      <td>50321</td>\n",
              "      <td>43265</td>\n",
              "      <td>50321</td>\n",
              "      <td>3</td>\n",
              "      <td>238</td>\n",
              "      <td>118</td>\n",
              "      <td>120</td>\n",
              "      <td>2</td>\n",
              "      <td>1199</td>\n",
              "      <td>1</td>\n",
              "      <td>1</td>\n",
              "    </tr>\n",
              "    <tr>\n",
              "      <th>3</th>\n",
              "      <td>50553</td>\n",
              "      <td>3389</td>\n",
              "      <td>50553</td>\n",
              "      <td>3389</td>\n",
              "      <td>3</td>\n",
              "      <td>3327</td>\n",
              "      <td>1438</td>\n",
              "      <td>1889</td>\n",
              "      <td>15</td>\n",
              "      <td>17</td>\n",
              "      <td>8</td>\n",
              "      <td>7</td>\n",
              "    </tr>\n",
              "    <tr>\n",
              "      <th>4</th>\n",
              "      <td>50002</td>\n",
              "      <td>443</td>\n",
              "      <td>45848</td>\n",
              "      <td>443</td>\n",
              "      <td>3</td>\n",
              "      <td>25358</td>\n",
              "      <td>6778</td>\n",
              "      <td>18580</td>\n",
              "      <td>31</td>\n",
              "      <td>16</td>\n",
              "      <td>13</td>\n",
              "      <td>18</td>\n",
              "    </tr>\n",
              "  </tbody>\n",
              "</table>\n",
              "</div>\n",
              "      <button class=\"colab-df-convert\" onclick=\"convertToInteractive('df-253b2471-a0f8-49a5-8026-208f03693551')\"\n",
              "              title=\"Convert this dataframe to an interactive table.\"\n",
              "              style=\"display:none;\">\n",
              "        \n",
              "  <svg xmlns=\"http://www.w3.org/2000/svg\" height=\"24px\"viewBox=\"0 0 24 24\"\n",
              "       width=\"24px\">\n",
              "    <path d=\"M0 0h24v24H0V0z\" fill=\"none\"/>\n",
              "    <path d=\"M18.56 5.44l.94 2.06.94-2.06 2.06-.94-2.06-.94-.94-2.06-.94 2.06-2.06.94zm-11 1L8.5 8.5l.94-2.06 2.06-.94-2.06-.94L8.5 2.5l-.94 2.06-2.06.94zm10 10l.94 2.06.94-2.06 2.06-.94-2.06-.94-.94-2.06-.94 2.06-2.06.94z\"/><path d=\"M17.41 7.96l-1.37-1.37c-.4-.4-.92-.59-1.43-.59-.52 0-1.04.2-1.43.59L10.3 9.45l-7.72 7.72c-.78.78-.78 2.05 0 2.83L4 21.41c.39.39.9.59 1.41.59.51 0 1.02-.2 1.41-.59l7.78-7.78 2.81-2.81c.8-.78.8-2.07 0-2.86zM5.41 20L4 18.59l7.72-7.72 1.47 1.35L5.41 20z\"/>\n",
              "  </svg>\n",
              "      </button>\n",
              "      \n",
              "  <style>\n",
              "    .colab-df-container {\n",
              "      display:flex;\n",
              "      flex-wrap:wrap;\n",
              "      gap: 12px;\n",
              "    }\n",
              "\n",
              "    .colab-df-convert {\n",
              "      background-color: #E8F0FE;\n",
              "      border: none;\n",
              "      border-radius: 50%;\n",
              "      cursor: pointer;\n",
              "      display: none;\n",
              "      fill: #1967D2;\n",
              "      height: 32px;\n",
              "      padding: 0 0 0 0;\n",
              "      width: 32px;\n",
              "    }\n",
              "\n",
              "    .colab-df-convert:hover {\n",
              "      background-color: #E2EBFA;\n",
              "      box-shadow: 0px 1px 2px rgba(60, 64, 67, 0.3), 0px 1px 3px 1px rgba(60, 64, 67, 0.15);\n",
              "      fill: #174EA6;\n",
              "    }\n",
              "\n",
              "    [theme=dark] .colab-df-convert {\n",
              "      background-color: #3B4455;\n",
              "      fill: #D2E3FC;\n",
              "    }\n",
              "\n",
              "    [theme=dark] .colab-df-convert:hover {\n",
              "      background-color: #434B5C;\n",
              "      box-shadow: 0px 1px 3px 1px rgba(0, 0, 0, 0.15);\n",
              "      filter: drop-shadow(0px 1px 2px rgba(0, 0, 0, 0.3));\n",
              "      fill: #FFFFFF;\n",
              "    }\n",
              "  </style>\n",
              "\n",
              "      <script>\n",
              "        const buttonEl =\n",
              "          document.querySelector('#df-253b2471-a0f8-49a5-8026-208f03693551 button.colab-df-convert');\n",
              "        buttonEl.style.display =\n",
              "          google.colab.kernel.accessAllowed ? 'block' : 'none';\n",
              "\n",
              "        async function convertToInteractive(key) {\n",
              "          const element = document.querySelector('#df-253b2471-a0f8-49a5-8026-208f03693551');\n",
              "          const dataTable =\n",
              "            await google.colab.kernel.invokeFunction('convertToInteractive',\n",
              "                                                     [key], {});\n",
              "          if (!dataTable) return;\n",
              "\n",
              "          const docLinkHtml = 'Like what you see? Visit the ' +\n",
              "            '<a target=\"_blank\" href=https://colab.research.google.com/notebooks/data_table.ipynb>data table notebook</a>'\n",
              "            + ' to learn more about interactive tables.';\n",
              "          element.innerHTML = '';\n",
              "          dataTable['output_type'] = 'display_data';\n",
              "          await google.colab.output.renderOutput(dataTable, element);\n",
              "          const docLink = document.createElement('div');\n",
              "          docLink.innerHTML = docLinkHtml;\n",
              "          element.appendChild(docLink);\n",
              "        }\n",
              "      </script>\n",
              "    </div>\n",
              "  </div>\n",
              "  "
            ]
          },
          "metadata": {},
          "execution_count": 6
        }
      ]
    },
    {
      "cell_type": "markdown",
      "source": [
        "**Dataset Dimension**"
      ],
      "metadata": {
        "id": "hm-dXoMmtcIW"
      }
    },
    {
      "cell_type": "code",
      "source": [
        "df.shape"
      ],
      "metadata": {
        "id": "k23KDk7ntfjn",
        "colab": {
          "base_uri": "https://localhost:8080/"
        },
        "outputId": "403e43d5-ae0c-4141-aa22-51ff4f2a4525"
      },
      "execution_count": 7,
      "outputs": [
        {
          "output_type": "execute_result",
          "data": {
            "text/plain": [
              "(65532, 12)"
            ]
          },
          "metadata": {},
          "execution_count": 7
        }
      ]
    },
    {
      "cell_type": "code",
      "source": [
        "df2.shape"
      ],
      "metadata": {
        "id": "p6YMRK2mQLNx",
        "colab": {
          "base_uri": "https://localhost:8080/"
        },
        "outputId": "04b17ded-c284-4653-e6f2-43c3ced0e567"
      },
      "execution_count": 8,
      "outputs": [
        {
          "output_type": "execute_result",
          "data": {
            "text/plain": [
              "(65532, 12)"
            ]
          },
          "metadata": {},
          "execution_count": 8
        }
      ]
    },
    {
      "cell_type": "markdown",
      "source": [
        "**Dataset Information**"
      ],
      "metadata": {
        "id": "1Gq27vp8wLCZ"
      }
    },
    {
      "cell_type": "code",
      "source": [
        "df.info()"
      ],
      "metadata": {
        "id": "m8ylxS27tgXH",
        "colab": {
          "base_uri": "https://localhost:8080/"
        },
        "outputId": "1da5c623-2326-4985-98d0-99175f2a31e9"
      },
      "execution_count": 9,
      "outputs": [
        {
          "output_type": "stream",
          "name": "stdout",
          "text": [
            "<class 'pandas.core.frame.DataFrame'>\n",
            "RangeIndex: 65532 entries, 0 to 65531\n",
            "Data columns (total 12 columns):\n",
            " #   Column                Non-Null Count  Dtype \n",
            "---  ------                --------------  ----- \n",
            " 0   Source Port           65532 non-null  int64 \n",
            " 1   Destination Port      65532 non-null  int64 \n",
            " 2   NAT Source Port       65532 non-null  int64 \n",
            " 3   NAT Destination Port  65532 non-null  int64 \n",
            " 4   Action                65532 non-null  object\n",
            " 5   Bytes                 65532 non-null  int64 \n",
            " 6   Bytes Sent            65532 non-null  int64 \n",
            " 7   Bytes Received        65532 non-null  int64 \n",
            " 8   Packets               65532 non-null  int64 \n",
            " 9   Elapsed Time (sec)    65532 non-null  int64 \n",
            " 10  pkts_sent             65532 non-null  int64 \n",
            " 11  pkts_received         65532 non-null  int64 \n",
            "dtypes: int64(11), object(1)\n",
            "memory usage: 6.0+ MB\n"
          ]
        }
      ]
    },
    {
      "cell_type": "markdown",
      "source": [
        "As per this command, we came to know that there is no missing values as 65532 entries are filled. If we had any missing value, we would had taken care of these values by\n",
        "1) Getting Rid of missing values. (Deleting the whole row. But if these missing values are too much or we have small dataset, then this won't be appropriable. \n",
        "2) We can delete the whole attribute (Feature/column). But only if the value is not affecting output. Let's say it has high co-linearity/relation with output, then this will also be not a good option.\n",
        "3) We can fill missing values by some other value. It can be 0 or mean or mode to make it perform better."
      ],
      "metadata": {
        "id": "gGVpccJG1J5Q"
      }
    },
    {
      "cell_type": "markdown",
      "source": [
        "**Dataset Co-relation Matrix:**"
      ],
      "metadata": {
        "id": "AiMVuhB9Yac7"
      }
    },
    {
      "cell_type": "code",
      "source": [
        "cor1=df.corr()\n",
        "print(\"Correlation Between Different Features\")\n",
        "print(cor1)\n",
        "cor2=df2.corr()\n",
        "print(\"Correlation Between Different Features when output is also numerical\")\n",
        "print(cor2)"
      ],
      "metadata": {
        "id": "RlBCUlxUYgfR",
        "colab": {
          "base_uri": "https://localhost:8080/"
        },
        "outputId": "39919af2-1851-4d9c-9850-e7f8285e8517"
      },
      "execution_count": 10,
      "outputs": [
        {
          "output_type": "stream",
          "name": "stdout",
          "text": [
            "Correlation Between Different Features\n",
            "                      Source Port  Destination Port  NAT Source Port  \\\n",
            "Source Port              1.000000         -0.332246         0.145391   \n",
            "Destination Port        -0.332246          1.000000        -0.281676   \n",
            "NAT Source Port          0.145391         -0.281676         1.000000   \n",
            "NAT Destination Port    -0.024843          0.410042         0.178435   \n",
            "Bytes                    0.000221         -0.005297         0.010659   \n",
            "Bytes Sent              -0.000931          0.001675         0.002242   \n",
            "Bytes Received           0.001950         -0.014684         0.020827   \n",
            "Packets                 -0.001742         -0.006063         0.012633   \n",
            "Elapsed Time (sec)      -0.046515          0.023537         0.141485   \n",
            "pkts_sent               -0.001422         -0.002134         0.007180   \n",
            "pkts_received           -0.001962         -0.010909         0.018772   \n",
            "\n",
            "                      NAT Destination Port     Bytes  Bytes Sent  \\\n",
            "Source Port                      -0.024843  0.000221   -0.000931   \n",
            "Destination Port                  0.410042 -0.005297    0.001675   \n",
            "NAT Source Port                   0.178435  0.010659    0.002242   \n",
            "NAT Destination Port              1.000000  0.003975    0.007904   \n",
            "Bytes                             0.003975  1.000000    0.933462   \n",
            "Bytes Sent                        0.007904  0.933462    1.000000   \n",
            "Bytes Received                   -0.003216  0.830225    0.575047   \n",
            "Packets                           0.004605  0.974379    0.887596   \n",
            "Elapsed Time (sec)                0.219776  0.148834    0.126039   \n",
            "pkts_sent                         0.006136  0.966548    0.973976   \n",
            "pkts_received                     0.001747  0.850209    0.639098   \n",
            "\n",
            "                      Bytes Received   Packets  Elapsed Time (sec)  pkts_sent  \\\n",
            "Source Port                 0.001950 -0.001742           -0.046515  -0.001422   \n",
            "Destination Port           -0.014684 -0.006063            0.023537  -0.002134   \n",
            "NAT Source Port             0.020827  0.012633            0.141485   0.007180   \n",
            "NAT Destination Port       -0.003216  0.004605            0.219776   0.006136   \n",
            "Bytes                       0.830225  0.974379            0.148834   0.966548   \n",
            "Bytes Sent                  0.575047  0.887596            0.126039   0.973976   \n",
            "Bytes Received              1.000000  0.843067            0.143601   0.690959   \n",
            "Packets                     0.843067  1.000000            0.147074   0.961286   \n",
            "Elapsed Time (sec)          0.143601  0.147074            1.000000   0.135101   \n",
            "pkts_sent                   0.690959  0.961286            0.135101   1.000000   \n",
            "pkts_received               0.946039  0.916978            0.143954   0.771550   \n",
            "\n",
            "                      pkts_received  \n",
            "Source Port               -0.001962  \n",
            "Destination Port          -0.010909  \n",
            "NAT Source Port            0.018772  \n",
            "NAT Destination Port       0.001747  \n",
            "Bytes                      0.850209  \n",
            "Bytes Sent                 0.639098  \n",
            "Bytes Received             0.946039  \n",
            "Packets                    0.916978  \n",
            "Elapsed Time (sec)         0.143954  \n",
            "pkts_sent                  0.771550  \n",
            "pkts_received              1.000000  \n",
            "Correlation Between Different Features when output is also numerical\n",
            "                      Source Port  Destination Port  NAT Source Port  \\\n",
            "Source Port              1.000000         -0.332246         0.145391   \n",
            "Destination Port        -0.332246          1.000000        -0.281676   \n",
            "NAT Source Port          0.145391         -0.281676         1.000000   \n",
            "NAT Destination Port    -0.024843          0.410042         0.178435   \n",
            "Action                  -0.038343         -0.095110         0.686893   \n",
            "Bytes                    0.000221         -0.005297         0.010659   \n",
            "Bytes Sent              -0.000931          0.001675         0.002242   \n",
            "Bytes Received           0.001950         -0.014684         0.020827   \n",
            "Packets                 -0.001742         -0.006063         0.012633   \n",
            "Elapsed Time (sec)      -0.046515          0.023537         0.141485   \n",
            "pkts_sent               -0.001422         -0.002134         0.007180   \n",
            "pkts_received           -0.001962         -0.010909         0.018772   \n",
            "\n",
            "                      NAT Destination Port    Action     Bytes  Bytes Sent  \\\n",
            "Source Port                      -0.024843 -0.038343  0.000221   -0.000931   \n",
            "Destination Port                  0.410042 -0.095110 -0.005297    0.001675   \n",
            "NAT Source Port                   0.178435  0.686893  0.010659    0.002242   \n",
            "NAT Destination Port              1.000000  0.214765  0.003975    0.007904   \n",
            "Action                            0.214765  1.000000  0.013546    0.004570   \n",
            "Bytes                             0.003975  0.013546  1.000000    0.933462   \n",
            "Bytes Sent                        0.007904  0.004570  0.933462    1.000000   \n",
            "Bytes Received                   -0.003216  0.023794  0.830225    0.575047   \n",
            "Packets                           0.004605  0.015562  0.974379    0.887596   \n",
            "Elapsed Time (sec)                0.219776  0.170684  0.148834    0.126039   \n",
            "pkts_sent                         0.006136  0.009842  0.966548    0.973976   \n",
            "pkts_received                     0.001747  0.021679  0.850209    0.639098   \n",
            "\n",
            "                      Bytes Received   Packets  Elapsed Time (sec)  pkts_sent  \\\n",
            "Source Port                 0.001950 -0.001742           -0.046515  -0.001422   \n",
            "Destination Port           -0.014684 -0.006063            0.023537  -0.002134   \n",
            "NAT Source Port             0.020827  0.012633            0.141485   0.007180   \n",
            "NAT Destination Port       -0.003216  0.004605            0.219776   0.006136   \n",
            "Action                      0.023794  0.015562            0.170684   0.009842   \n",
            "Bytes                       0.830225  0.974379            0.148834   0.966548   \n",
            "Bytes Sent                  0.575047  0.887596            0.126039   0.973976   \n",
            "Bytes Received              1.000000  0.843067            0.143601   0.690959   \n",
            "Packets                     0.843067  1.000000            0.147074   0.961286   \n",
            "Elapsed Time (sec)          0.143601  0.147074            1.000000   0.135101   \n",
            "pkts_sent                   0.690959  0.961286            0.135101   1.000000   \n",
            "pkts_received               0.946039  0.916978            0.143954   0.771550   \n",
            "\n",
            "                      pkts_received  \n",
            "Source Port               -0.001962  \n",
            "Destination Port          -0.010909  \n",
            "NAT Source Port            0.018772  \n",
            "NAT Destination Port       0.001747  \n",
            "Action                     0.021679  \n",
            "Bytes                      0.850209  \n",
            "Bytes Sent                 0.639098  \n",
            "Bytes Received             0.946039  \n",
            "Packets                    0.916978  \n",
            "Elapsed Time (sec)         0.143954  \n",
            "pkts_sent                  0.771550  \n",
            "pkts_received              1.000000  \n"
          ]
        }
      ]
    },
    {
      "cell_type": "markdown",
      "source": [
        "**Describing Dataset**"
      ],
      "metadata": {
        "id": "5WvHzxW4wpl6"
      }
    },
    {
      "cell_type": "code",
      "source": [
        "df.describe()"
      ],
      "metadata": {
        "id": "qNf3i9CXwUZ6",
        "colab": {
          "base_uri": "https://localhost:8080/",
          "height": 379
        },
        "outputId": "32938611-73ef-4924-ee8f-d4e2cb4165b8"
      },
      "execution_count": 11,
      "outputs": [
        {
          "output_type": "execute_result",
          "data": {
            "text/plain": [
              "        Source Port  Destination Port  NAT Source Port  NAT Destination Port  \\\n",
              "count  65532.000000      65532.000000     65532.000000          65532.000000   \n",
              "mean   49391.969343      10577.385812     19282.972761           2671.049930   \n",
              "std    15255.712537      18466.027039     21970.689669           9739.162278   \n",
              "min        0.000000          0.000000         0.000000              0.000000   \n",
              "25%    49183.000000         80.000000         0.000000              0.000000   \n",
              "50%    53776.500000        445.000000      8820.500000             53.000000   \n",
              "75%    58638.000000      15000.000000     38366.250000            443.000000   \n",
              "max    65534.000000      65535.000000     65535.000000          65535.000000   \n",
              "\n",
              "              Bytes    Bytes Sent  Bytes Received       Packets  \\\n",
              "count  6.553200e+04  6.553200e+04    6.553200e+04  6.553200e+04   \n",
              "mean   9.712395e+04  2.238580e+04    7.473815e+04  1.028660e+02   \n",
              "std    5.618439e+06  3.828139e+06    2.463208e+06  5.133002e+03   \n",
              "min    6.000000e+01  6.000000e+01    0.000000e+00  1.000000e+00   \n",
              "25%    6.600000e+01  6.600000e+01    0.000000e+00  1.000000e+00   \n",
              "50%    1.680000e+02  9.000000e+01    7.900000e+01  2.000000e+00   \n",
              "75%    7.522500e+02  2.100000e+02    4.490000e+02  6.000000e+00   \n",
              "max    1.269359e+09  9.484772e+08    3.208818e+08  1.036116e+06   \n",
              "\n",
              "       Elapsed Time (sec)      pkts_sent  pkts_received  \n",
              "count        65532.000000   65532.000000   65532.000000  \n",
              "mean            65.833577      41.399530      61.466505  \n",
              "std            302.461762    3218.871288    2223.332271  \n",
              "min              0.000000       1.000000       0.000000  \n",
              "25%              0.000000       1.000000       0.000000  \n",
              "50%             15.000000       1.000000       1.000000  \n",
              "75%             30.000000       3.000000       2.000000  \n",
              "max          10824.000000  747520.000000  327208.000000  "
            ],
            "text/html": [
              "\n",
              "  <div id=\"df-152e222a-412b-4845-b45c-dbbbdee44e29\">\n",
              "    <div class=\"colab-df-container\">\n",
              "      <div>\n",
              "<style scoped>\n",
              "    .dataframe tbody tr th:only-of-type {\n",
              "        vertical-align: middle;\n",
              "    }\n",
              "\n",
              "    .dataframe tbody tr th {\n",
              "        vertical-align: top;\n",
              "    }\n",
              "\n",
              "    .dataframe thead th {\n",
              "        text-align: right;\n",
              "    }\n",
              "</style>\n",
              "<table border=\"1\" class=\"dataframe\">\n",
              "  <thead>\n",
              "    <tr style=\"text-align: right;\">\n",
              "      <th></th>\n",
              "      <th>Source Port</th>\n",
              "      <th>Destination Port</th>\n",
              "      <th>NAT Source Port</th>\n",
              "      <th>NAT Destination Port</th>\n",
              "      <th>Bytes</th>\n",
              "      <th>Bytes Sent</th>\n",
              "      <th>Bytes Received</th>\n",
              "      <th>Packets</th>\n",
              "      <th>Elapsed Time (sec)</th>\n",
              "      <th>pkts_sent</th>\n",
              "      <th>pkts_received</th>\n",
              "    </tr>\n",
              "  </thead>\n",
              "  <tbody>\n",
              "    <tr>\n",
              "      <th>count</th>\n",
              "      <td>65532.000000</td>\n",
              "      <td>65532.000000</td>\n",
              "      <td>65532.000000</td>\n",
              "      <td>65532.000000</td>\n",
              "      <td>6.553200e+04</td>\n",
              "      <td>6.553200e+04</td>\n",
              "      <td>6.553200e+04</td>\n",
              "      <td>6.553200e+04</td>\n",
              "      <td>65532.000000</td>\n",
              "      <td>65532.000000</td>\n",
              "      <td>65532.000000</td>\n",
              "    </tr>\n",
              "    <tr>\n",
              "      <th>mean</th>\n",
              "      <td>49391.969343</td>\n",
              "      <td>10577.385812</td>\n",
              "      <td>19282.972761</td>\n",
              "      <td>2671.049930</td>\n",
              "      <td>9.712395e+04</td>\n",
              "      <td>2.238580e+04</td>\n",
              "      <td>7.473815e+04</td>\n",
              "      <td>1.028660e+02</td>\n",
              "      <td>65.833577</td>\n",
              "      <td>41.399530</td>\n",
              "      <td>61.466505</td>\n",
              "    </tr>\n",
              "    <tr>\n",
              "      <th>std</th>\n",
              "      <td>15255.712537</td>\n",
              "      <td>18466.027039</td>\n",
              "      <td>21970.689669</td>\n",
              "      <td>9739.162278</td>\n",
              "      <td>5.618439e+06</td>\n",
              "      <td>3.828139e+06</td>\n",
              "      <td>2.463208e+06</td>\n",
              "      <td>5.133002e+03</td>\n",
              "      <td>302.461762</td>\n",
              "      <td>3218.871288</td>\n",
              "      <td>2223.332271</td>\n",
              "    </tr>\n",
              "    <tr>\n",
              "      <th>min</th>\n",
              "      <td>0.000000</td>\n",
              "      <td>0.000000</td>\n",
              "      <td>0.000000</td>\n",
              "      <td>0.000000</td>\n",
              "      <td>6.000000e+01</td>\n",
              "      <td>6.000000e+01</td>\n",
              "      <td>0.000000e+00</td>\n",
              "      <td>1.000000e+00</td>\n",
              "      <td>0.000000</td>\n",
              "      <td>1.000000</td>\n",
              "      <td>0.000000</td>\n",
              "    </tr>\n",
              "    <tr>\n",
              "      <th>25%</th>\n",
              "      <td>49183.000000</td>\n",
              "      <td>80.000000</td>\n",
              "      <td>0.000000</td>\n",
              "      <td>0.000000</td>\n",
              "      <td>6.600000e+01</td>\n",
              "      <td>6.600000e+01</td>\n",
              "      <td>0.000000e+00</td>\n",
              "      <td>1.000000e+00</td>\n",
              "      <td>0.000000</td>\n",
              "      <td>1.000000</td>\n",
              "      <td>0.000000</td>\n",
              "    </tr>\n",
              "    <tr>\n",
              "      <th>50%</th>\n",
              "      <td>53776.500000</td>\n",
              "      <td>445.000000</td>\n",
              "      <td>8820.500000</td>\n",
              "      <td>53.000000</td>\n",
              "      <td>1.680000e+02</td>\n",
              "      <td>9.000000e+01</td>\n",
              "      <td>7.900000e+01</td>\n",
              "      <td>2.000000e+00</td>\n",
              "      <td>15.000000</td>\n",
              "      <td>1.000000</td>\n",
              "      <td>1.000000</td>\n",
              "    </tr>\n",
              "    <tr>\n",
              "      <th>75%</th>\n",
              "      <td>58638.000000</td>\n",
              "      <td>15000.000000</td>\n",
              "      <td>38366.250000</td>\n",
              "      <td>443.000000</td>\n",
              "      <td>7.522500e+02</td>\n",
              "      <td>2.100000e+02</td>\n",
              "      <td>4.490000e+02</td>\n",
              "      <td>6.000000e+00</td>\n",
              "      <td>30.000000</td>\n",
              "      <td>3.000000</td>\n",
              "      <td>2.000000</td>\n",
              "    </tr>\n",
              "    <tr>\n",
              "      <th>max</th>\n",
              "      <td>65534.000000</td>\n",
              "      <td>65535.000000</td>\n",
              "      <td>65535.000000</td>\n",
              "      <td>65535.000000</td>\n",
              "      <td>1.269359e+09</td>\n",
              "      <td>9.484772e+08</td>\n",
              "      <td>3.208818e+08</td>\n",
              "      <td>1.036116e+06</td>\n",
              "      <td>10824.000000</td>\n",
              "      <td>747520.000000</td>\n",
              "      <td>327208.000000</td>\n",
              "    </tr>\n",
              "  </tbody>\n",
              "</table>\n",
              "</div>\n",
              "      <button class=\"colab-df-convert\" onclick=\"convertToInteractive('df-152e222a-412b-4845-b45c-dbbbdee44e29')\"\n",
              "              title=\"Convert this dataframe to an interactive table.\"\n",
              "              style=\"display:none;\">\n",
              "        \n",
              "  <svg xmlns=\"http://www.w3.org/2000/svg\" height=\"24px\"viewBox=\"0 0 24 24\"\n",
              "       width=\"24px\">\n",
              "    <path d=\"M0 0h24v24H0V0z\" fill=\"none\"/>\n",
              "    <path d=\"M18.56 5.44l.94 2.06.94-2.06 2.06-.94-2.06-.94-.94-2.06-.94 2.06-2.06.94zm-11 1L8.5 8.5l.94-2.06 2.06-.94-2.06-.94L8.5 2.5l-.94 2.06-2.06.94zm10 10l.94 2.06.94-2.06 2.06-.94-2.06-.94-.94-2.06-.94 2.06-2.06.94z\"/><path d=\"M17.41 7.96l-1.37-1.37c-.4-.4-.92-.59-1.43-.59-.52 0-1.04.2-1.43.59L10.3 9.45l-7.72 7.72c-.78.78-.78 2.05 0 2.83L4 21.41c.39.39.9.59 1.41.59.51 0 1.02-.2 1.41-.59l7.78-7.78 2.81-2.81c.8-.78.8-2.07 0-2.86zM5.41 20L4 18.59l7.72-7.72 1.47 1.35L5.41 20z\"/>\n",
              "  </svg>\n",
              "      </button>\n",
              "      \n",
              "  <style>\n",
              "    .colab-df-container {\n",
              "      display:flex;\n",
              "      flex-wrap:wrap;\n",
              "      gap: 12px;\n",
              "    }\n",
              "\n",
              "    .colab-df-convert {\n",
              "      background-color: #E8F0FE;\n",
              "      border: none;\n",
              "      border-radius: 50%;\n",
              "      cursor: pointer;\n",
              "      display: none;\n",
              "      fill: #1967D2;\n",
              "      height: 32px;\n",
              "      padding: 0 0 0 0;\n",
              "      width: 32px;\n",
              "    }\n",
              "\n",
              "    .colab-df-convert:hover {\n",
              "      background-color: #E2EBFA;\n",
              "      box-shadow: 0px 1px 2px rgba(60, 64, 67, 0.3), 0px 1px 3px 1px rgba(60, 64, 67, 0.15);\n",
              "      fill: #174EA6;\n",
              "    }\n",
              "\n",
              "    [theme=dark] .colab-df-convert {\n",
              "      background-color: #3B4455;\n",
              "      fill: #D2E3FC;\n",
              "    }\n",
              "\n",
              "    [theme=dark] .colab-df-convert:hover {\n",
              "      background-color: #434B5C;\n",
              "      box-shadow: 0px 1px 3px 1px rgba(0, 0, 0, 0.15);\n",
              "      filter: drop-shadow(0px 1px 2px rgba(0, 0, 0, 0.3));\n",
              "      fill: #FFFFFF;\n",
              "    }\n",
              "  </style>\n",
              "\n",
              "      <script>\n",
              "        const buttonEl =\n",
              "          document.querySelector('#df-152e222a-412b-4845-b45c-dbbbdee44e29 button.colab-df-convert');\n",
              "        buttonEl.style.display =\n",
              "          google.colab.kernel.accessAllowed ? 'block' : 'none';\n",
              "\n",
              "        async function convertToInteractive(key) {\n",
              "          const element = document.querySelector('#df-152e222a-412b-4845-b45c-dbbbdee44e29');\n",
              "          const dataTable =\n",
              "            await google.colab.kernel.invokeFunction('convertToInteractive',\n",
              "                                                     [key], {});\n",
              "          if (!dataTable) return;\n",
              "\n",
              "          const docLinkHtml = 'Like what you see? Visit the ' +\n",
              "            '<a target=\"_blank\" href=https://colab.research.google.com/notebooks/data_table.ipynb>data table notebook</a>'\n",
              "            + ' to learn more about interactive tables.';\n",
              "          element.innerHTML = '';\n",
              "          dataTable['output_type'] = 'display_data';\n",
              "          await google.colab.output.renderOutput(dataTable, element);\n",
              "          const docLink = document.createElement('div');\n",
              "          docLink.innerHTML = docLinkHtml;\n",
              "          element.appendChild(docLink);\n",
              "        }\n",
              "      </script>\n",
              "    </div>\n",
              "  </div>\n",
              "  "
            ]
          },
          "metadata": {},
          "execution_count": 11
        }
      ]
    },
    {
      "cell_type": "code",
      "source": [
        "df2.describe()"
      ],
      "metadata": {
        "id": "WNv7v1TvQiVv",
        "colab": {
          "base_uri": "https://localhost:8080/",
          "height": 399
        },
        "outputId": "c79447c3-2d96-4397-d0ce-2dfe60180df4"
      },
      "execution_count": 12,
      "outputs": [
        {
          "output_type": "execute_result",
          "data": {
            "text/plain": [
              "        Source Port  Destination Port  NAT Source Port  NAT Destination Port  \\\n",
              "count  65532.000000      65532.000000     65532.000000          65532.000000   \n",
              "mean   49391.969343      10577.385812     19282.972761           2671.049930   \n",
              "std    15255.712537      18466.027039     21970.689669           9739.162278   \n",
              "min        0.000000          0.000000         0.000000              0.000000   \n",
              "25%    49183.000000         80.000000         0.000000              0.000000   \n",
              "50%    53776.500000        445.000000      8820.500000             53.000000   \n",
              "75%    58638.000000      15000.000000     38366.250000            443.000000   \n",
              "max    65534.000000      65535.000000     65535.000000          65535.000000   \n",
              "\n",
              "             Action         Bytes    Bytes Sent  Bytes Received       Packets  \\\n",
              "count  65532.000000  6.553200e+04  6.553200e+04    6.553200e+04  6.553200e+04   \n",
              "mean       2.376625  9.712395e+04  2.238580e+04    7.473815e+04  1.028660e+02   \n",
              "std        0.794945  5.618439e+06  3.828139e+06    2.463208e+06  5.133002e+03   \n",
              "min        0.000000  6.000000e+01  6.000000e+01    0.000000e+00  1.000000e+00   \n",
              "25%        2.000000  6.600000e+01  6.600000e+01    0.000000e+00  1.000000e+00   \n",
              "50%        3.000000  1.680000e+02  9.000000e+01    7.900000e+01  2.000000e+00   \n",
              "75%        3.000000  7.522500e+02  2.100000e+02    4.490000e+02  6.000000e+00   \n",
              "max        3.000000  1.269359e+09  9.484772e+08    3.208818e+08  1.036116e+06   \n",
              "\n",
              "       Elapsed Time (sec)      pkts_sent  pkts_received  \n",
              "count        65532.000000   65532.000000   65532.000000  \n",
              "mean            65.833577      41.399530      61.466505  \n",
              "std            302.461762    3218.871288    2223.332271  \n",
              "min              0.000000       1.000000       0.000000  \n",
              "25%              0.000000       1.000000       0.000000  \n",
              "50%             15.000000       1.000000       1.000000  \n",
              "75%             30.000000       3.000000       2.000000  \n",
              "max          10824.000000  747520.000000  327208.000000  "
            ],
            "text/html": [
              "\n",
              "  <div id=\"df-eb925a92-4916-4731-97ae-2601c0792f37\">\n",
              "    <div class=\"colab-df-container\">\n",
              "      <div>\n",
              "<style scoped>\n",
              "    .dataframe tbody tr th:only-of-type {\n",
              "        vertical-align: middle;\n",
              "    }\n",
              "\n",
              "    .dataframe tbody tr th {\n",
              "        vertical-align: top;\n",
              "    }\n",
              "\n",
              "    .dataframe thead th {\n",
              "        text-align: right;\n",
              "    }\n",
              "</style>\n",
              "<table border=\"1\" class=\"dataframe\">\n",
              "  <thead>\n",
              "    <tr style=\"text-align: right;\">\n",
              "      <th></th>\n",
              "      <th>Source Port</th>\n",
              "      <th>Destination Port</th>\n",
              "      <th>NAT Source Port</th>\n",
              "      <th>NAT Destination Port</th>\n",
              "      <th>Action</th>\n",
              "      <th>Bytes</th>\n",
              "      <th>Bytes Sent</th>\n",
              "      <th>Bytes Received</th>\n",
              "      <th>Packets</th>\n",
              "      <th>Elapsed Time (sec)</th>\n",
              "      <th>pkts_sent</th>\n",
              "      <th>pkts_received</th>\n",
              "    </tr>\n",
              "  </thead>\n",
              "  <tbody>\n",
              "    <tr>\n",
              "      <th>count</th>\n",
              "      <td>65532.000000</td>\n",
              "      <td>65532.000000</td>\n",
              "      <td>65532.000000</td>\n",
              "      <td>65532.000000</td>\n",
              "      <td>65532.000000</td>\n",
              "      <td>6.553200e+04</td>\n",
              "      <td>6.553200e+04</td>\n",
              "      <td>6.553200e+04</td>\n",
              "      <td>6.553200e+04</td>\n",
              "      <td>65532.000000</td>\n",
              "      <td>65532.000000</td>\n",
              "      <td>65532.000000</td>\n",
              "    </tr>\n",
              "    <tr>\n",
              "      <th>mean</th>\n",
              "      <td>49391.969343</td>\n",
              "      <td>10577.385812</td>\n",
              "      <td>19282.972761</td>\n",
              "      <td>2671.049930</td>\n",
              "      <td>2.376625</td>\n",
              "      <td>9.712395e+04</td>\n",
              "      <td>2.238580e+04</td>\n",
              "      <td>7.473815e+04</td>\n",
              "      <td>1.028660e+02</td>\n",
              "      <td>65.833577</td>\n",
              "      <td>41.399530</td>\n",
              "      <td>61.466505</td>\n",
              "    </tr>\n",
              "    <tr>\n",
              "      <th>std</th>\n",
              "      <td>15255.712537</td>\n",
              "      <td>18466.027039</td>\n",
              "      <td>21970.689669</td>\n",
              "      <td>9739.162278</td>\n",
              "      <td>0.794945</td>\n",
              "      <td>5.618439e+06</td>\n",
              "      <td>3.828139e+06</td>\n",
              "      <td>2.463208e+06</td>\n",
              "      <td>5.133002e+03</td>\n",
              "      <td>302.461762</td>\n",
              "      <td>3218.871288</td>\n",
              "      <td>2223.332271</td>\n",
              "    </tr>\n",
              "    <tr>\n",
              "      <th>min</th>\n",
              "      <td>0.000000</td>\n",
              "      <td>0.000000</td>\n",
              "      <td>0.000000</td>\n",
              "      <td>0.000000</td>\n",
              "      <td>0.000000</td>\n",
              "      <td>6.000000e+01</td>\n",
              "      <td>6.000000e+01</td>\n",
              "      <td>0.000000e+00</td>\n",
              "      <td>1.000000e+00</td>\n",
              "      <td>0.000000</td>\n",
              "      <td>1.000000</td>\n",
              "      <td>0.000000</td>\n",
              "    </tr>\n",
              "    <tr>\n",
              "      <th>25%</th>\n",
              "      <td>49183.000000</td>\n",
              "      <td>80.000000</td>\n",
              "      <td>0.000000</td>\n",
              "      <td>0.000000</td>\n",
              "      <td>2.000000</td>\n",
              "      <td>6.600000e+01</td>\n",
              "      <td>6.600000e+01</td>\n",
              "      <td>0.000000e+00</td>\n",
              "      <td>1.000000e+00</td>\n",
              "      <td>0.000000</td>\n",
              "      <td>1.000000</td>\n",
              "      <td>0.000000</td>\n",
              "    </tr>\n",
              "    <tr>\n",
              "      <th>50%</th>\n",
              "      <td>53776.500000</td>\n",
              "      <td>445.000000</td>\n",
              "      <td>8820.500000</td>\n",
              "      <td>53.000000</td>\n",
              "      <td>3.000000</td>\n",
              "      <td>1.680000e+02</td>\n",
              "      <td>9.000000e+01</td>\n",
              "      <td>7.900000e+01</td>\n",
              "      <td>2.000000e+00</td>\n",
              "      <td>15.000000</td>\n",
              "      <td>1.000000</td>\n",
              "      <td>1.000000</td>\n",
              "    </tr>\n",
              "    <tr>\n",
              "      <th>75%</th>\n",
              "      <td>58638.000000</td>\n",
              "      <td>15000.000000</td>\n",
              "      <td>38366.250000</td>\n",
              "      <td>443.000000</td>\n",
              "      <td>3.000000</td>\n",
              "      <td>7.522500e+02</td>\n",
              "      <td>2.100000e+02</td>\n",
              "      <td>4.490000e+02</td>\n",
              "      <td>6.000000e+00</td>\n",
              "      <td>30.000000</td>\n",
              "      <td>3.000000</td>\n",
              "      <td>2.000000</td>\n",
              "    </tr>\n",
              "    <tr>\n",
              "      <th>max</th>\n",
              "      <td>65534.000000</td>\n",
              "      <td>65535.000000</td>\n",
              "      <td>65535.000000</td>\n",
              "      <td>65535.000000</td>\n",
              "      <td>3.000000</td>\n",
              "      <td>1.269359e+09</td>\n",
              "      <td>9.484772e+08</td>\n",
              "      <td>3.208818e+08</td>\n",
              "      <td>1.036116e+06</td>\n",
              "      <td>10824.000000</td>\n",
              "      <td>747520.000000</td>\n",
              "      <td>327208.000000</td>\n",
              "    </tr>\n",
              "  </tbody>\n",
              "</table>\n",
              "</div>\n",
              "      <button class=\"colab-df-convert\" onclick=\"convertToInteractive('df-eb925a92-4916-4731-97ae-2601c0792f37')\"\n",
              "              title=\"Convert this dataframe to an interactive table.\"\n",
              "              style=\"display:none;\">\n",
              "        \n",
              "  <svg xmlns=\"http://www.w3.org/2000/svg\" height=\"24px\"viewBox=\"0 0 24 24\"\n",
              "       width=\"24px\">\n",
              "    <path d=\"M0 0h24v24H0V0z\" fill=\"none\"/>\n",
              "    <path d=\"M18.56 5.44l.94 2.06.94-2.06 2.06-.94-2.06-.94-.94-2.06-.94 2.06-2.06.94zm-11 1L8.5 8.5l.94-2.06 2.06-.94-2.06-.94L8.5 2.5l-.94 2.06-2.06.94zm10 10l.94 2.06.94-2.06 2.06-.94-2.06-.94-.94-2.06-.94 2.06-2.06.94z\"/><path d=\"M17.41 7.96l-1.37-1.37c-.4-.4-.92-.59-1.43-.59-.52 0-1.04.2-1.43.59L10.3 9.45l-7.72 7.72c-.78.78-.78 2.05 0 2.83L4 21.41c.39.39.9.59 1.41.59.51 0 1.02-.2 1.41-.59l7.78-7.78 2.81-2.81c.8-.78.8-2.07 0-2.86zM5.41 20L4 18.59l7.72-7.72 1.47 1.35L5.41 20z\"/>\n",
              "  </svg>\n",
              "      </button>\n",
              "      \n",
              "  <style>\n",
              "    .colab-df-container {\n",
              "      display:flex;\n",
              "      flex-wrap:wrap;\n",
              "      gap: 12px;\n",
              "    }\n",
              "\n",
              "    .colab-df-convert {\n",
              "      background-color: #E8F0FE;\n",
              "      border: none;\n",
              "      border-radius: 50%;\n",
              "      cursor: pointer;\n",
              "      display: none;\n",
              "      fill: #1967D2;\n",
              "      height: 32px;\n",
              "      padding: 0 0 0 0;\n",
              "      width: 32px;\n",
              "    }\n",
              "\n",
              "    .colab-df-convert:hover {\n",
              "      background-color: #E2EBFA;\n",
              "      box-shadow: 0px 1px 2px rgba(60, 64, 67, 0.3), 0px 1px 3px 1px rgba(60, 64, 67, 0.15);\n",
              "      fill: #174EA6;\n",
              "    }\n",
              "\n",
              "    [theme=dark] .colab-df-convert {\n",
              "      background-color: #3B4455;\n",
              "      fill: #D2E3FC;\n",
              "    }\n",
              "\n",
              "    [theme=dark] .colab-df-convert:hover {\n",
              "      background-color: #434B5C;\n",
              "      box-shadow: 0px 1px 3px 1px rgba(0, 0, 0, 0.15);\n",
              "      filter: drop-shadow(0px 1px 2px rgba(0, 0, 0, 0.3));\n",
              "      fill: #FFFFFF;\n",
              "    }\n",
              "  </style>\n",
              "\n",
              "      <script>\n",
              "        const buttonEl =\n",
              "          document.querySelector('#df-eb925a92-4916-4731-97ae-2601c0792f37 button.colab-df-convert');\n",
              "        buttonEl.style.display =\n",
              "          google.colab.kernel.accessAllowed ? 'block' : 'none';\n",
              "\n",
              "        async function convertToInteractive(key) {\n",
              "          const element = document.querySelector('#df-eb925a92-4916-4731-97ae-2601c0792f37');\n",
              "          const dataTable =\n",
              "            await google.colab.kernel.invokeFunction('convertToInteractive',\n",
              "                                                     [key], {});\n",
              "          if (!dataTable) return;\n",
              "\n",
              "          const docLinkHtml = 'Like what you see? Visit the ' +\n",
              "            '<a target=\"_blank\" href=https://colab.research.google.com/notebooks/data_table.ipynb>data table notebook</a>'\n",
              "            + ' to learn more about interactive tables.';\n",
              "          element.innerHTML = '';\n",
              "          dataTable['output_type'] = 'display_data';\n",
              "          await google.colab.output.renderOutput(dataTable, element);\n",
              "          const docLink = document.createElement('div');\n",
              "          docLink.innerHTML = docLinkHtml;\n",
              "          element.appendChild(docLink);\n",
              "        }\n",
              "      </script>\n",
              "    </div>\n",
              "  </div>\n",
              "  "
            ]
          },
          "metadata": {},
          "execution_count": 12
        }
      ]
    },
    {
      "cell_type": "markdown",
      "source": [
        "From above command, we came to know that the data is scattered and not normalized. So, we will normalize it to get all features into same range."
      ],
      "metadata": {
        "id": "Xt9MrBkw3Aah"
      }
    },
    {
      "cell_type": "markdown",
      "source": [
        "### **Segregating Dependent & Independant Variable**"
      ],
      "metadata": {
        "id": "Z3-lel_Y11oi"
      }
    },
    {
      "cell_type": "code",
      "source": [
        "x=df.drop([\"Action\"], axis=1)\n",
        "print(x.shape)\n",
        "y=df[\"Action\"]\n",
        "print(y.shape)"
      ],
      "metadata": {
        "id": "SII7abmnwwBB",
        "colab": {
          "base_uri": "https://localhost:8080/"
        },
        "outputId": "8ecf0b5e-5119-422f-9659-d8ce8e5b8e24"
      },
      "execution_count": 13,
      "outputs": [
        {
          "output_type": "stream",
          "name": "stdout",
          "text": [
            "(65532, 11)\n",
            "(65532,)\n"
          ]
        }
      ]
    },
    {
      "cell_type": "code",
      "source": [
        "x2=df.drop([\"Action\"], axis=1)\n",
        "print(x2.shape)\n",
        "y2=df[\"Action\"]\n",
        "print(y2.shape)"
      ],
      "metadata": {
        "id": "f_LCoG4Y2QYG",
        "colab": {
          "base_uri": "https://localhost:8080/"
        },
        "outputId": "f155c613-3f02-43e6-de18-a03be4d9979e"
      },
      "execution_count": 14,
      "outputs": [
        {
          "output_type": "stream",
          "name": "stdout",
          "text": [
            "(65532, 11)\n",
            "(65532,)\n"
          ]
        }
      ]
    },
    {
      "cell_type": "code",
      "source": [
        "x3=df.drop([\"Action\"], axis=1)\n",
        "print(x3.shape)\n",
        "y3=df[\"Action\"]\n",
        "print(y3.shape)"
      ],
      "metadata": {
        "id": "lvF8o2oeUpuJ",
        "colab": {
          "base_uri": "https://localhost:8080/"
        },
        "outputId": "eed33d5b-2a59-4083-a2bb-fb936a8d9729"
      },
      "execution_count": 15,
      "outputs": [
        {
          "output_type": "stream",
          "name": "stdout",
          "text": [
            "(65532, 11)\n",
            "(65532,)\n"
          ]
        }
      ]
    },
    {
      "cell_type": "code",
      "source": [
        "counter = Counter(y)\n",
        "print(\"Values of y are:\")\n",
        "print(counter)\n",
        "print(\"Values of y2 are:\")\n",
        "print(y2.value_counts())"
      ],
      "metadata": {
        "id": "m5bA_V_-Am-R",
        "colab": {
          "base_uri": "https://localhost:8080/"
        },
        "outputId": "48d3fbf6-8e52-4f18-8db6-6f1035f867b5"
      },
      "execution_count": 16,
      "outputs": [
        {
          "output_type": "stream",
          "name": "stdout",
          "text": [
            "Values of y are:\n",
            "Counter({'allow': 37640, 'deny': 14987, 'drop': 12851, 'reset-both': 54})\n",
            "Values of y2 are:\n",
            "allow         37640\n",
            "deny          14987\n",
            "drop          12851\n",
            "reset-both       54\n",
            "Name: Action, dtype: int64\n"
          ]
        }
      ]
    },
    {
      "cell_type": "code",
      "source": [
        "oversample = SMOTE()\n",
        "x2, y2 = oversample.fit_resample(x2, y2)"
      ],
      "metadata": {
        "id": "-MUz2K7c2Tzg"
      },
      "execution_count": 17,
      "outputs": []
    },
    {
      "cell_type": "code",
      "source": [
        "print(\"Values of y2 by using Smote are:\")\n",
        "print(y2.value_counts())"
      ],
      "metadata": {
        "id": "aN8Ptlfn2fPs",
        "colab": {
          "base_uri": "https://localhost:8080/"
        },
        "outputId": "b46fbba4-8ba7-4506-ae3c-83cd365e9d79"
      },
      "execution_count": 18,
      "outputs": [
        {
          "output_type": "stream",
          "name": "stdout",
          "text": [
            "Values of y2 by using Smote are:\n",
            "allow         37640\n",
            "drop          37640\n",
            "deny          37640\n",
            "reset-both    37640\n",
            "Name: Action, dtype: int64\n"
          ]
        }
      ]
    },
    {
      "cell_type": "code",
      "source": [
        "#over = SMOTE(sampling_strategy=0.1)\n",
        "#under = RandomUnderSampler(sampling_strategy=1)\n",
        "#steps = [('o', over), ('u', under)]\n",
        "#pipeline = Pipeline(steps=steps)\n",
        "#x3, y3 = pipeline.fit_resample(x3, y3)"
      ],
      "metadata": {
        "id": "ezunxz_4UTlT"
      },
      "execution_count": 19,
      "outputs": []
    },
    {
      "cell_type": "markdown",
      "source": [
        "### **Spliting Training Data and Testing Data**"
      ],
      "metadata": {
        "id": "5hyhgtkO4l0J"
      }
    },
    {
      "cell_type": "code",
      "source": [
        "from sklearn.model_selection import train_test_split\n",
        "x_train, x_test, y_train, y_test=train_test_split(x,y,test_size=0.2, random_state=21)\n",
        "print(\"Splitted Data is as: (x_train), (x_test), (y_train), (y_test):\")\n",
        "print(x_train.shape, x_test.shape, y_train.shape, y_test.shape)\n",
        "print(\"Total Number of y_train values are:\")\n",
        "print(y_train.value_counts())\n",
        "print(\"Total Number of y_train values are:\")\n",
        "print(y_test.value_counts())"
      ],
      "metadata": {
        "id": "Sd7OCQ282fzm",
        "colab": {
          "base_uri": "https://localhost:8080/"
        },
        "outputId": "34e984c9-3472-4b96-fcd9-e1d4ea32e604"
      },
      "execution_count": 20,
      "outputs": [
        {
          "output_type": "stream",
          "name": "stdout",
          "text": [
            "Splitted Data is as: (x_train), (x_test), (y_train), (y_test):\n",
            "(52425, 11) (13107, 11) (52425,) (13107,)\n",
            "Total Number of y_train values are:\n",
            "allow         30145\n",
            "deny          11995\n",
            "drop          10244\n",
            "reset-both       41\n",
            "Name: Action, dtype: int64\n",
            "Total Number of y_train values are:\n",
            "allow         7495\n",
            "deny          2992\n",
            "drop          2607\n",
            "reset-both      13\n",
            "Name: Action, dtype: int64\n"
          ]
        }
      ]
    },
    {
      "cell_type": "code",
      "source": [
        "from sklearn.model_selection import train_test_split\n",
        "x2_train, x2_test, y2_train, y2_test=train_test_split(x2,y2,test_size=0.2, random_state=21)\n",
        "print(\"Splitted Data is as: (x2_train), (x2_test), (y2_train), (y2_test):\")\n",
        "print(x2_train.shape, x2_test.shape, y2_train.shape, y2_test.shape)\n",
        "print(\"Total Number of y2_train values are:\")\n",
        "print(y2_train.value_counts())\n",
        "print(\"Total Number of y2_train values are:\")\n",
        "print(y2_test.value_counts())"
      ],
      "metadata": {
        "id": "0ZoC76CnAj1r",
        "colab": {
          "base_uri": "https://localhost:8080/"
        },
        "outputId": "44ea2856-7f2a-4712-d343-3577d1c75bd2"
      },
      "execution_count": 21,
      "outputs": [
        {
          "output_type": "stream",
          "name": "stdout",
          "text": [
            "Splitted Data is as: (x2_train), (x2_test), (y2_train), (y2_test):\n",
            "(120448, 11) (30112, 11) (120448,) (30112,)\n",
            "Total Number of y2_train values are:\n",
            "drop          30147\n",
            "deny          30125\n",
            "reset-both    30110\n",
            "allow         30066\n",
            "Name: Action, dtype: int64\n",
            "Total Number of y2_train values are:\n",
            "allow         7574\n",
            "reset-both    7530\n",
            "deny          7515\n",
            "drop          7493\n",
            "Name: Action, dtype: int64\n"
          ]
        }
      ]
    },
    {
      "cell_type": "code",
      "source": [
        "y2_train.value_counts()"
      ],
      "metadata": {
        "id": "QLhf51IxXDxn",
        "colab": {
          "base_uri": "https://localhost:8080/"
        },
        "outputId": "8b5cd26b-c38e-4061-cac0-d9da8ab2b676"
      },
      "execution_count": 22,
      "outputs": [
        {
          "output_type": "execute_result",
          "data": {
            "text/plain": [
              "drop          30147\n",
              "deny          30125\n",
              "reset-both    30110\n",
              "allow         30066\n",
              "Name: Action, dtype: int64"
            ]
          },
          "metadata": {},
          "execution_count": 22
        }
      ]
    },
    {
      "cell_type": "code",
      "source": [
        "#from sklearn.model_selection import StratifiedShuffleSplit"
      ],
      "metadata": {
        "id": "SvOqEgX05wxd"
      },
      "execution_count": 23,
      "outputs": []
    },
    {
      "cell_type": "markdown",
      "source": [
        "We would have used from sklearn.model_selection import StratifiedShuffleSplit for splitting the data set equally. Lets say if we had only 25 entries of deny and all of these are dumped in testing data. Then, model wont be able to know that there was a deny command as well in the data. And model will be under trained. As it will be confused for deny entries.\n"
      ],
      "metadata": {
        "id": "54pm_BRX9MW2"
      }
    },
    {
      "cell_type": "code",
      "source": [
        "x.info()"
      ],
      "metadata": {
        "id": "xDyD1_HRLV46",
        "colab": {
          "base_uri": "https://localhost:8080/"
        },
        "outputId": "bcb67446-edec-4815-eb44-d37923c60424"
      },
      "execution_count": 24,
      "outputs": [
        {
          "output_type": "stream",
          "name": "stdout",
          "text": [
            "<class 'pandas.core.frame.DataFrame'>\n",
            "RangeIndex: 65532 entries, 0 to 65531\n",
            "Data columns (total 11 columns):\n",
            " #   Column                Non-Null Count  Dtype\n",
            "---  ------                --------------  -----\n",
            " 0   Source Port           65532 non-null  int64\n",
            " 1   Destination Port      65532 non-null  int64\n",
            " 2   NAT Source Port       65532 non-null  int64\n",
            " 3   NAT Destination Port  65532 non-null  int64\n",
            " 4   Bytes                 65532 non-null  int64\n",
            " 5   Bytes Sent            65532 non-null  int64\n",
            " 6   Bytes Received        65532 non-null  int64\n",
            " 7   Packets               65532 non-null  int64\n",
            " 8   Elapsed Time (sec)    65532 non-null  int64\n",
            " 9   pkts_sent             65532 non-null  int64\n",
            " 10  pkts_received         65532 non-null  int64\n",
            "dtypes: int64(11)\n",
            "memory usage: 5.5 MB\n"
          ]
        }
      ]
    },
    {
      "cell_type": "markdown",
      "source": [
        "## **FEATURE SCALING**"
      ],
      "metadata": {
        "id": "tC6rRN0F3YvQ"
      }
    },
    {
      "cell_type": "markdown",
      "source": [
        "There are two types for feature scaling in Sklearn library.\n",
        "\n",
        "1.   MinMaxScaler (Normalization)\n",
        "Formula is basically ((Value-Min)/(Max-Min))\n",
        "\n",
        "2.   StandardScaler (Standardization) \n",
        "Formula is ((Value-Mean)/(Std))\n",
        "\n",
        "We could have scaled data before splitting as well. But in case if we need original data without scaling, then we will need to introduce new variable. So, new variables are already introduced to avoid any inconvinience.\n",
        "\n"
      ],
      "metadata": {
        "id": "MHoRIFW9BxSz"
      }
    },
    {
      "cell_type": "code",
      "source": [
        "from sklearn.preprocessing import StandardScaler\n",
        "scaler=StandardScaler()\n",
        "scaler.fit(x_train)\n",
        "x_train_sc=scaler.transform(x_train)\n",
        "x_test_sc=scaler.transform(x_test)"
      ],
      "metadata": {
        "id": "gIjAk1p6oqNk"
      },
      "execution_count": 25,
      "outputs": []
    },
    {
      "cell_type": "code",
      "source": [
        "from sklearn.preprocessing import StandardScaler\n",
        "scaler=StandardScaler()\n",
        "scaler.fit(x2_train)\n",
        "x2_train_sc=scaler.transform(x2_train)\n",
        "x2_test_sc=scaler.transform(x2_test)"
      ],
      "metadata": {
        "id": "ECdHiljwLY2N"
      },
      "execution_count": 26,
      "outputs": []
    },
    {
      "cell_type": "code",
      "source": [
        "x_train_sc"
      ],
      "metadata": {
        "id": "byZkv6Q--R3R",
        "colab": {
          "base_uri": "https://localhost:8080/"
        },
        "outputId": "b0807fad-898e-4be0-f6b4-d0d81a47369f"
      },
      "execution_count": 27,
      "outputs": [
        {
          "output_type": "execute_result",
          "data": {
            "text/plain": [
              "array([[ 0.92143407, -0.5492364 , -0.87816149, ..., -0.22065615,\n",
              "        -0.01987704, -0.02876705],\n",
              "       [-2.42006536,  0.04407232, -0.87816149, ..., -0.22065615,\n",
              "        -0.01987704, -0.02876705],\n",
              "       [ 0.00383689,  0.89314278,  0.82179396, ..., -0.1209097 ,\n",
              "        -0.01987704, -0.02824988],\n",
              "       ...,\n",
              "       [ 0.56086279, -0.56901877,  0.27465411, ..., -0.14085899,\n",
              "        -0.01506342, -0.02566404],\n",
              "       [ 0.04234068, -0.56901877,  1.09575108, ...,  0.06528368,\n",
              "        -0.01643874, -0.02669838],\n",
              "       [ 0.08123804, -0.56901877,  1.42674085, ..., -0.13088434,\n",
              "        -0.00681151, -0.02049237]])"
            ]
          },
          "metadata": {},
          "execution_count": 27
        }
      ]
    },
    {
      "cell_type": "code",
      "source": [
        "x2_train_sc"
      ],
      "metadata": {
        "id": "TPRb08GfH_75",
        "colab": {
          "base_uri": "https://localhost:8080/"
        },
        "outputId": "7a84972a-a34e-4a12-fc72-7ce0af86e35d"
      },
      "execution_count": 28,
      "outputs": [
        {
          "output_type": "execute_result",
          "data": {
            "text/plain": [
              "array([[-1.75051984,  2.06169413, -0.54806817, ..., -0.14192491,\n",
              "        -0.00777264, -0.02073311],\n",
              "       [ 0.76785946, -0.79434991,  0.38284615, ..., -0.05781094,\n",
              "        -0.00458889, -0.01557868],\n",
              "       [-1.2697176 ,  0.10949173, -0.54806817, ..., -0.14192491,\n",
              "        -0.00777264, -0.02073311],\n",
              "       ...,\n",
              "       [-0.9038019 , -0.62967576,  0.87543186, ..., -0.14192491,\n",
              "        -0.006863  , -0.01987404],\n",
              "       [-0.0672454 ,  0.45446642, -0.54806817, ..., -0.14192491,\n",
              "        -0.00777264, -0.02073311],\n",
              "       [ 0.89492937,  1.09101738, -0.54806817, ..., -0.14192491,\n",
              "        -0.00777264, -0.02073311]])"
            ]
          },
          "metadata": {},
          "execution_count": 28
        }
      ]
    },
    {
      "cell_type": "markdown",
      "source": [
        "## **IMPLEMENTING MODELS:**"
      ],
      "metadata": {
        "id": "RjZh4w0UPLyT"
      }
    },
    {
      "cell_type": "markdown",
      "source": [
        "## **K-Nearest Neighbors Model**"
      ],
      "metadata": {
        "id": "_ZHmexPG0eSK"
      }
    },
    {
      "cell_type": "markdown",
      "source": [
        "The model is implemented with original data, original data modified by smote, scaled data and scaled data modified by smote. \n",
        "Hypetuning was done by iterating K values only. \n",
        "We can also choose diferent distance formulas option as well to calculate the distance. Like Eculadian distance or hamming distance or manhattan distance."
      ],
      "metadata": {
        "id": "6YcVVU9s0jdW"
      }
    },
    {
      "cell_type": "markdown",
      "source": [
        "### ***KNN Model using Original Data***"
      ],
      "metadata": {
        "id": "g0WR6_NbLByb"
      }
    },
    {
      "cell_type": "code",
      "source": [
        "from sklearn.neighbors import KNeighborsClassifier\n",
        "from sklearn.metrics import classification_report\n",
        "i=1\n",
        "while i<=10:\n",
        "  classifier1=KNeighborsClassifier(n_neighbors=i)\n",
        "  classifier1.fit(x_train, y_train)\n",
        "  prediction1=classifier1.predict(x_test)\n",
        "  print(\"Prediction Shape when, k=\",i)\n",
        "  print(prediction1.shape)\n",
        "  print(\"Classification Report when, k=\",i)\n",
        "  print(classification_report(y_test, prediction1))\n",
        "  print(\"Classifier Score when, k=\",i)\n",
        "  print(classifier1.score(x_train,y_train))\n",
        "  print(\"Classifier Score with Predictions, when k=\",i)\n",
        "  print(classifier1.score(x_test, prediction1))\n",
        "  i=i+1\n"
      ],
      "metadata": {
        "id": "W3WDGj05-fFs",
        "colab": {
          "base_uri": "https://localhost:8080/"
        },
        "outputId": "b6a45c05-3e4b-414a-8e2e-057aaae52b01"
      },
      "execution_count": 29,
      "outputs": [
        {
          "output_type": "stream",
          "name": "stdout",
          "text": [
            "Prediction Shape when, k= 1\n",
            "(13107,)\n",
            "Classification Report when, k= 1\n",
            "              precision    recall  f1-score   support\n",
            "\n",
            "       allow       1.00      1.00      1.00      7495\n",
            "        deny       0.98      0.99      0.99      2992\n",
            "        drop       1.00      1.00      1.00      2607\n",
            "  reset-both       1.00      0.23      0.38        13\n",
            "\n",
            "    accuracy                           0.99     13107\n",
            "   macro avg       0.99      0.80      0.84     13107\n",
            "weighted avg       0.99      0.99      0.99     13107\n",
            "\n",
            "Classifier Score when, k= 1\n",
            "0.9997329518359561\n",
            "Classifier Score with Predictions, when k= 1\n",
            "1.0\n",
            "Prediction Shape when, k= 2\n",
            "(13107,)\n",
            "Classification Report when, k= 2\n"
          ]
        },
        {
          "output_type": "stream",
          "name": "stderr",
          "text": [
            "/usr/local/lib/python3.9/dist-packages/sklearn/metrics/_classification.py:1344: UndefinedMetricWarning: Precision and F-score are ill-defined and being set to 0.0 in labels with no predicted samples. Use `zero_division` parameter to control this behavior.\n",
            "  _warn_prf(average, modifier, msg_start, len(result))\n",
            "/usr/local/lib/python3.9/dist-packages/sklearn/metrics/_classification.py:1344: UndefinedMetricWarning: Precision and F-score are ill-defined and being set to 0.0 in labels with no predicted samples. Use `zero_division` parameter to control this behavior.\n",
            "  _warn_prf(average, modifier, msg_start, len(result))\n",
            "/usr/local/lib/python3.9/dist-packages/sklearn/metrics/_classification.py:1344: UndefinedMetricWarning: Precision and F-score are ill-defined and being set to 0.0 in labels with no predicted samples. Use `zero_division` parameter to control this behavior.\n",
            "  _warn_prf(average, modifier, msg_start, len(result))\n"
          ]
        },
        {
          "output_type": "stream",
          "name": "stdout",
          "text": [
            "              precision    recall  f1-score   support\n",
            "\n",
            "       allow       0.99      1.00      1.00      7495\n",
            "        deny       0.98      0.98      0.98      2992\n",
            "        drop       1.00      0.99      0.99      2607\n",
            "  reset-both       0.00      0.00      0.00        13\n",
            "\n",
            "    accuracy                           0.99     13107\n",
            "   macro avg       0.74      0.74      0.74     13107\n",
            "weighted avg       0.99      0.99      0.99     13107\n",
            "\n",
            "Classifier Score when, k= 2\n",
            "0.9968717215069146\n",
            "Classifier Score with Predictions, when k= 2\n",
            "1.0\n",
            "Prediction Shape when, k= 3\n",
            "(13107,)\n",
            "Classification Report when, k= 3\n"
          ]
        },
        {
          "output_type": "stream",
          "name": "stderr",
          "text": [
            "/usr/local/lib/python3.9/dist-packages/sklearn/metrics/_classification.py:1344: UndefinedMetricWarning: Precision and F-score are ill-defined and being set to 0.0 in labels with no predicted samples. Use `zero_division` parameter to control this behavior.\n",
            "  _warn_prf(average, modifier, msg_start, len(result))\n",
            "/usr/local/lib/python3.9/dist-packages/sklearn/metrics/_classification.py:1344: UndefinedMetricWarning: Precision and F-score are ill-defined and being set to 0.0 in labels with no predicted samples. Use `zero_division` parameter to control this behavior.\n",
            "  _warn_prf(average, modifier, msg_start, len(result))\n",
            "/usr/local/lib/python3.9/dist-packages/sklearn/metrics/_classification.py:1344: UndefinedMetricWarning: Precision and F-score are ill-defined and being set to 0.0 in labels with no predicted samples. Use `zero_division` parameter to control this behavior.\n",
            "  _warn_prf(average, modifier, msg_start, len(result))\n"
          ]
        },
        {
          "output_type": "stream",
          "name": "stdout",
          "text": [
            "              precision    recall  f1-score   support\n",
            "\n",
            "       allow       1.00      1.00      1.00      7495\n",
            "        deny       0.98      0.99      0.99      2992\n",
            "        drop       1.00      1.00      1.00      2607\n",
            "  reset-both       0.00      0.00      0.00        13\n",
            "\n",
            "    accuracy                           0.99     13107\n",
            "   macro avg       0.74      0.75      0.75     13107\n",
            "weighted avg       0.99      0.99      0.99     13107\n",
            "\n",
            "Classifier Score when, k= 3\n",
            "0.9956318550309967\n",
            "Classifier Score with Predictions, when k= 3\n",
            "1.0\n",
            "Prediction Shape when, k= 4\n",
            "(13107,)\n",
            "Classification Report when, k= 4\n"
          ]
        },
        {
          "output_type": "stream",
          "name": "stderr",
          "text": [
            "/usr/local/lib/python3.9/dist-packages/sklearn/metrics/_classification.py:1344: UndefinedMetricWarning: Precision and F-score are ill-defined and being set to 0.0 in labels with no predicted samples. Use `zero_division` parameter to control this behavior.\n",
            "  _warn_prf(average, modifier, msg_start, len(result))\n",
            "/usr/local/lib/python3.9/dist-packages/sklearn/metrics/_classification.py:1344: UndefinedMetricWarning: Precision and F-score are ill-defined and being set to 0.0 in labels with no predicted samples. Use `zero_division` parameter to control this behavior.\n",
            "  _warn_prf(average, modifier, msg_start, len(result))\n",
            "/usr/local/lib/python3.9/dist-packages/sklearn/metrics/_classification.py:1344: UndefinedMetricWarning: Precision and F-score are ill-defined and being set to 0.0 in labels with no predicted samples. Use `zero_division` parameter to control this behavior.\n",
            "  _warn_prf(average, modifier, msg_start, len(result))\n"
          ]
        },
        {
          "output_type": "stream",
          "name": "stdout",
          "text": [
            "              precision    recall  f1-score   support\n",
            "\n",
            "       allow       1.00      1.00      1.00      7495\n",
            "        deny       0.98      0.99      0.99      2992\n",
            "        drop       1.00      1.00      1.00      2607\n",
            "  reset-both       0.00      0.00      0.00        13\n",
            "\n",
            "    accuracy                           0.99     13107\n",
            "   macro avg       0.74      0.75      0.74     13107\n",
            "weighted avg       0.99      0.99      0.99     13107\n",
            "\n",
            "Classifier Score when, k= 4\n",
            "0.99517405817835\n",
            "Classifier Score with Predictions, when k= 4\n",
            "1.0\n",
            "Prediction Shape when, k= 5\n",
            "(13107,)\n",
            "Classification Report when, k= 5\n"
          ]
        },
        {
          "output_type": "stream",
          "name": "stderr",
          "text": [
            "/usr/local/lib/python3.9/dist-packages/sklearn/metrics/_classification.py:1344: UndefinedMetricWarning: Precision and F-score are ill-defined and being set to 0.0 in labels with no predicted samples. Use `zero_division` parameter to control this behavior.\n",
            "  _warn_prf(average, modifier, msg_start, len(result))\n",
            "/usr/local/lib/python3.9/dist-packages/sklearn/metrics/_classification.py:1344: UndefinedMetricWarning: Precision and F-score are ill-defined and being set to 0.0 in labels with no predicted samples. Use `zero_division` parameter to control this behavior.\n",
            "  _warn_prf(average, modifier, msg_start, len(result))\n",
            "/usr/local/lib/python3.9/dist-packages/sklearn/metrics/_classification.py:1344: UndefinedMetricWarning: Precision and F-score are ill-defined and being set to 0.0 in labels with no predicted samples. Use `zero_division` parameter to control this behavior.\n",
            "  _warn_prf(average, modifier, msg_start, len(result))\n"
          ]
        },
        {
          "output_type": "stream",
          "name": "stdout",
          "text": [
            "              precision    recall  f1-score   support\n",
            "\n",
            "       allow       1.00      0.99      1.00      7495\n",
            "        deny       0.98      0.99      0.99      2992\n",
            "        drop       1.00      1.00      1.00      2607\n",
            "  reset-both       0.00      0.00      0.00        13\n",
            "\n",
            "    accuracy                           0.99     13107\n",
            "   macro avg       0.74      0.75      0.75     13107\n",
            "weighted avg       0.99      0.99      0.99     13107\n",
            "\n",
            "Classifier Score when, k= 5\n",
            "0.9950596089651884\n",
            "Classifier Score with Predictions, when k= 5\n",
            "1.0\n",
            "Prediction Shape when, k= 6\n",
            "(13107,)\n",
            "Classification Report when, k= 6\n"
          ]
        },
        {
          "output_type": "stream",
          "name": "stderr",
          "text": [
            "/usr/local/lib/python3.9/dist-packages/sklearn/metrics/_classification.py:1344: UndefinedMetricWarning: Precision and F-score are ill-defined and being set to 0.0 in labels with no predicted samples. Use `zero_division` parameter to control this behavior.\n",
            "  _warn_prf(average, modifier, msg_start, len(result))\n",
            "/usr/local/lib/python3.9/dist-packages/sklearn/metrics/_classification.py:1344: UndefinedMetricWarning: Precision and F-score are ill-defined and being set to 0.0 in labels with no predicted samples. Use `zero_division` parameter to control this behavior.\n",
            "  _warn_prf(average, modifier, msg_start, len(result))\n",
            "/usr/local/lib/python3.9/dist-packages/sklearn/metrics/_classification.py:1344: UndefinedMetricWarning: Precision and F-score are ill-defined and being set to 0.0 in labels with no predicted samples. Use `zero_division` parameter to control this behavior.\n",
            "  _warn_prf(average, modifier, msg_start, len(result))\n"
          ]
        },
        {
          "output_type": "stream",
          "name": "stdout",
          "text": [
            "              precision    recall  f1-score   support\n",
            "\n",
            "       allow       1.00      0.99      1.00      7495\n",
            "        deny       0.98      0.99      0.99      2992\n",
            "        drop       1.00      1.00      1.00      2607\n",
            "  reset-both       0.00      0.00      0.00        13\n",
            "\n",
            "    accuracy                           0.99     13107\n",
            "   macro avg       0.74      0.75      0.75     13107\n",
            "weighted avg       0.99      0.99      0.99     13107\n",
            "\n",
            "Classifier Score when, k= 6\n",
            "0.9948688602765856\n",
            "Classifier Score with Predictions, when k= 6\n",
            "1.0\n",
            "Prediction Shape when, k= 7\n",
            "(13107,)\n",
            "Classification Report when, k= 7\n"
          ]
        },
        {
          "output_type": "stream",
          "name": "stderr",
          "text": [
            "/usr/local/lib/python3.9/dist-packages/sklearn/metrics/_classification.py:1344: UndefinedMetricWarning: Precision and F-score are ill-defined and being set to 0.0 in labels with no predicted samples. Use `zero_division` parameter to control this behavior.\n",
            "  _warn_prf(average, modifier, msg_start, len(result))\n",
            "/usr/local/lib/python3.9/dist-packages/sklearn/metrics/_classification.py:1344: UndefinedMetricWarning: Precision and F-score are ill-defined and being set to 0.0 in labels with no predicted samples. Use `zero_division` parameter to control this behavior.\n",
            "  _warn_prf(average, modifier, msg_start, len(result))\n",
            "/usr/local/lib/python3.9/dist-packages/sklearn/metrics/_classification.py:1344: UndefinedMetricWarning: Precision and F-score are ill-defined and being set to 0.0 in labels with no predicted samples. Use `zero_division` parameter to control this behavior.\n",
            "  _warn_prf(average, modifier, msg_start, len(result))\n"
          ]
        },
        {
          "output_type": "stream",
          "name": "stdout",
          "text": [
            "              precision    recall  f1-score   support\n",
            "\n",
            "       allow       1.00      0.99      1.00      7495\n",
            "        deny       0.98      0.99      0.99      2992\n",
            "        drop       1.00      1.00      1.00      2607\n",
            "  reset-both       0.00      0.00      0.00        13\n",
            "\n",
            "    accuracy                           0.99     13107\n",
            "   macro avg       0.74      0.75      0.74     13107\n",
            "weighted avg       0.99      0.99      0.99     13107\n",
            "\n",
            "Classifier Score when, k= 7\n",
            "0.9943919885550787\n",
            "Classifier Score with Predictions, when k= 7\n",
            "1.0\n",
            "Prediction Shape when, k= 8\n",
            "(13107,)\n",
            "Classification Report when, k= 8\n"
          ]
        },
        {
          "output_type": "stream",
          "name": "stderr",
          "text": [
            "/usr/local/lib/python3.9/dist-packages/sklearn/metrics/_classification.py:1344: UndefinedMetricWarning: Precision and F-score are ill-defined and being set to 0.0 in labels with no predicted samples. Use `zero_division` parameter to control this behavior.\n",
            "  _warn_prf(average, modifier, msg_start, len(result))\n",
            "/usr/local/lib/python3.9/dist-packages/sklearn/metrics/_classification.py:1344: UndefinedMetricWarning: Precision and F-score are ill-defined and being set to 0.0 in labels with no predicted samples. Use `zero_division` parameter to control this behavior.\n",
            "  _warn_prf(average, modifier, msg_start, len(result))\n",
            "/usr/local/lib/python3.9/dist-packages/sklearn/metrics/_classification.py:1344: UndefinedMetricWarning: Precision and F-score are ill-defined and being set to 0.0 in labels with no predicted samples. Use `zero_division` parameter to control this behavior.\n",
            "  _warn_prf(average, modifier, msg_start, len(result))\n"
          ]
        },
        {
          "output_type": "stream",
          "name": "stdout",
          "text": [
            "              precision    recall  f1-score   support\n",
            "\n",
            "       allow       1.00      0.99      1.00      7495\n",
            "        deny       0.98      0.99      0.99      2992\n",
            "        drop       1.00      1.00      1.00      2607\n",
            "  reset-both       0.00      0.00      0.00        13\n",
            "\n",
            "    accuracy                           0.99     13107\n",
            "   macro avg       0.74      0.75      0.74     13107\n",
            "weighted avg       0.99      0.99      0.99     13107\n",
            "\n",
            "Classifier Score when, k= 8\n",
            "0.994067715784454\n",
            "Classifier Score with Predictions, when k= 8\n",
            "1.0\n",
            "Prediction Shape when, k= 9\n",
            "(13107,)\n",
            "Classification Report when, k= 9\n"
          ]
        },
        {
          "output_type": "stream",
          "name": "stderr",
          "text": [
            "/usr/local/lib/python3.9/dist-packages/sklearn/metrics/_classification.py:1344: UndefinedMetricWarning: Precision and F-score are ill-defined and being set to 0.0 in labels with no predicted samples. Use `zero_division` parameter to control this behavior.\n",
            "  _warn_prf(average, modifier, msg_start, len(result))\n",
            "/usr/local/lib/python3.9/dist-packages/sklearn/metrics/_classification.py:1344: UndefinedMetricWarning: Precision and F-score are ill-defined and being set to 0.0 in labels with no predicted samples. Use `zero_division` parameter to control this behavior.\n",
            "  _warn_prf(average, modifier, msg_start, len(result))\n",
            "/usr/local/lib/python3.9/dist-packages/sklearn/metrics/_classification.py:1344: UndefinedMetricWarning: Precision and F-score are ill-defined and being set to 0.0 in labels with no predicted samples. Use `zero_division` parameter to control this behavior.\n",
            "  _warn_prf(average, modifier, msg_start, len(result))\n"
          ]
        },
        {
          "output_type": "stream",
          "name": "stdout",
          "text": [
            "              precision    recall  f1-score   support\n",
            "\n",
            "       allow       1.00      0.99      1.00      7495\n",
            "        deny       0.98      0.99      0.99      2992\n",
            "        drop       0.99      1.00      1.00      2607\n",
            "  reset-both       0.00      0.00      0.00        13\n",
            "\n",
            "    accuracy                           0.99     13107\n",
            "   macro avg       0.74      0.75      0.74     13107\n",
            "weighted avg       0.99      0.99      0.99     13107\n",
            "\n",
            "Classifier Score when, k= 9\n",
            "0.9938960419647115\n",
            "Classifier Score with Predictions, when k= 9\n",
            "1.0\n",
            "Prediction Shape when, k= 10\n",
            "(13107,)\n",
            "Classification Report when, k= 10\n"
          ]
        },
        {
          "output_type": "stream",
          "name": "stderr",
          "text": [
            "/usr/local/lib/python3.9/dist-packages/sklearn/metrics/_classification.py:1344: UndefinedMetricWarning: Precision and F-score are ill-defined and being set to 0.0 in labels with no predicted samples. Use `zero_division` parameter to control this behavior.\n",
            "  _warn_prf(average, modifier, msg_start, len(result))\n",
            "/usr/local/lib/python3.9/dist-packages/sklearn/metrics/_classification.py:1344: UndefinedMetricWarning: Precision and F-score are ill-defined and being set to 0.0 in labels with no predicted samples. Use `zero_division` parameter to control this behavior.\n",
            "  _warn_prf(average, modifier, msg_start, len(result))\n",
            "/usr/local/lib/python3.9/dist-packages/sklearn/metrics/_classification.py:1344: UndefinedMetricWarning: Precision and F-score are ill-defined and being set to 0.0 in labels with no predicted samples. Use `zero_division` parameter to control this behavior.\n",
            "  _warn_prf(average, modifier, msg_start, len(result))\n"
          ]
        },
        {
          "output_type": "stream",
          "name": "stdout",
          "text": [
            "              precision    recall  f1-score   support\n",
            "\n",
            "       allow       1.00      0.99      1.00      7495\n",
            "        deny       0.98      0.99      0.98      2992\n",
            "        drop       0.99      1.00      1.00      2607\n",
            "  reset-both       0.00      0.00      0.00        13\n",
            "\n",
            "    accuracy                           0.99     13107\n",
            "   macro avg       0.74      0.75      0.74     13107\n",
            "weighted avg       0.99      0.99      0.99     13107\n",
            "\n",
            "Classifier Score when, k= 10\n",
            "0.9937815927515499\n",
            "Classifier Score with Predictions, when k= 10\n",
            "1.0\n"
          ]
        }
      ]
    },
    {
      "cell_type": "markdown",
      "source": [
        "### **KNN Model When Smote is used on Original Data**"
      ],
      "metadata": {
        "id": "kEM2yUCXLVHm"
      }
    },
    {
      "cell_type": "code",
      "source": [
        "from sklearn.neighbors import KNeighborsClassifier\n",
        "from sklearn.metrics import classification_report\n",
        "i=1\n",
        "while i<=10:\n",
        "  classifier2=KNeighborsClassifier(n_neighbors=i)\n",
        "  classifier2.fit(x2_train, y2_train)\n",
        "  prediction2=classifier2.predict(x2_test)\n",
        "  print(\"Prediction Shape when, k=\",i)\n",
        "  print(prediction2.shape)\n",
        "  print(\"Classification Report when, k=\",i)\n",
        "  print(classification_report(y2_test, prediction2))\n",
        "  print(\"Classifier Score when, k=\",i)\n",
        "  print(classifier2.score(x2_train,y2_train))\n",
        "  print(\"Classifier Score with Predictions, when k=\",i)\n",
        "  print(classifier2.score(x2_test, prediction2))\n",
        "  i=i+1"
      ],
      "metadata": {
        "id": "e7F9nBG3Kp5W",
        "colab": {
          "base_uri": "https://localhost:8080/"
        },
        "outputId": "413b71d8-ef7c-4382-a81b-abe4909a89b8"
      },
      "execution_count": 30,
      "outputs": [
        {
          "output_type": "stream",
          "name": "stdout",
          "text": [
            "Prediction Shape when, k= 1\n",
            "(30112,)\n",
            "Classification Report when, k= 1\n",
            "              precision    recall  f1-score   support\n",
            "\n",
            "       allow       1.00      0.99      1.00      7574\n",
            "        deny       0.99      0.99      0.99      7515\n",
            "        drop       1.00      1.00      1.00      7493\n",
            "  reset-both       0.99      1.00      0.99      7530\n",
            "\n",
            "    accuracy                           1.00     30112\n",
            "   macro avg       1.00      1.00      1.00     30112\n",
            "weighted avg       1.00      1.00      1.00     30112\n",
            "\n",
            "Classifier Score when, k= 1\n",
            "0.9996845111583422\n",
            "Classifier Score with Predictions, when k= 1\n",
            "1.0\n",
            "Prediction Shape when, k= 2\n",
            "(30112,)\n",
            "Classification Report when, k= 2\n",
            "              precision    recall  f1-score   support\n",
            "\n",
            "       allow       0.99      1.00      1.00      7574\n",
            "        deny       0.98      0.99      0.99      7515\n",
            "        drop       1.00      1.00      1.00      7493\n",
            "  reset-both       0.99      0.99      0.99      7530\n",
            "\n",
            "    accuracy                           0.99     30112\n",
            "   macro avg       0.99      0.99      0.99     30112\n",
            "weighted avg       0.99      0.99      0.99     30112\n",
            "\n",
            "Classifier Score when, k= 2\n",
            "0.9974594845908608\n",
            "Classifier Score with Predictions, when k= 2\n",
            "1.0\n",
            "Prediction Shape when, k= 3\n",
            "(30112,)\n",
            "Classification Report when, k= 3\n",
            "              precision    recall  f1-score   support\n",
            "\n",
            "       allow       1.00      0.99      1.00      7574\n",
            "        deny       0.99      0.98      0.99      7515\n",
            "        drop       1.00      1.00      1.00      7493\n",
            "  reset-both       0.99      0.99      0.99      7530\n",
            "\n",
            "    accuracy                           0.99     30112\n",
            "   macro avg       0.99      0.99      0.99     30112\n",
            "weighted avg       0.99      0.99      0.99     30112\n",
            "\n",
            "Classifier Score when, k= 3\n",
            "0.9953257837407014\n",
            "Classifier Score with Predictions, when k= 3\n",
            "1.0\n",
            "Prediction Shape when, k= 4\n",
            "(30112,)\n",
            "Classification Report when, k= 4\n",
            "              precision    recall  f1-score   support\n",
            "\n",
            "       allow       1.00      0.99      1.00      7574\n",
            "        deny       0.98      0.99      0.98      7515\n",
            "        drop       1.00      1.00      1.00      7493\n",
            "  reset-both       0.99      0.99      0.99      7530\n",
            "\n",
            "    accuracy                           0.99     30112\n",
            "   macro avg       0.99      0.99      0.99     30112\n",
            "weighted avg       0.99      0.99      0.99     30112\n",
            "\n",
            "Classifier Score when, k= 4\n",
            "0.9939558979808714\n",
            "Classifier Score with Predictions, when k= 4\n",
            "1.0\n",
            "Prediction Shape when, k= 5\n",
            "(30112,)\n",
            "Classification Report when, k= 5\n",
            "              precision    recall  f1-score   support\n",
            "\n",
            "       allow       1.00      0.99      1.00      7574\n",
            "        deny       0.98      0.98      0.98      7515\n",
            "        drop       1.00      1.00      1.00      7493\n",
            "  reset-both       0.98      0.99      0.99      7530\n",
            "\n",
            "    accuracy                           0.99     30112\n",
            "   macro avg       0.99      0.99      0.99     30112\n",
            "weighted avg       0.99      0.99      0.99     30112\n",
            "\n",
            "Classifier Score when, k= 5\n",
            "0.9926939426142402\n",
            "Classifier Score with Predictions, when k= 5\n",
            "1.0\n",
            "Prediction Shape when, k= 6\n",
            "(30112,)\n",
            "Classification Report when, k= 6\n",
            "              precision    recall  f1-score   support\n",
            "\n",
            "       allow       1.00      0.99      1.00      7574\n",
            "        deny       0.97      0.98      0.98      7515\n",
            "        drop       1.00      1.00      1.00      7493\n",
            "  reset-both       0.99      0.98      0.98      7530\n",
            "\n",
            "    accuracy                           0.99     30112\n",
            "   macro avg       0.99      0.99      0.99     30112\n",
            "weighted avg       0.99      0.99      0.99     30112\n",
            "\n",
            "Classifier Score when, k= 6\n",
            "0.9912908475026567\n",
            "Classifier Score with Predictions, when k= 6\n",
            "1.0\n",
            "Prediction Shape when, k= 7\n",
            "(30112,)\n",
            "Classification Report when, k= 7\n",
            "              precision    recall  f1-score   support\n",
            "\n",
            "       allow       1.00      0.99      1.00      7574\n",
            "        deny       0.98      0.98      0.98      7515\n",
            "        drop       1.00      1.00      1.00      7493\n",
            "  reset-both       0.98      0.98      0.98      7530\n",
            "\n",
            "    accuracy                           0.99     30112\n",
            "   macro avg       0.99      0.99      0.99     30112\n",
            "weighted avg       0.99      0.99      0.99     30112\n",
            "\n",
            "Classifier Score when, k= 7\n",
            "0.99036098565356\n",
            "Classifier Score with Predictions, when k= 7\n",
            "1.0\n",
            "Prediction Shape when, k= 8\n",
            "(30112,)\n",
            "Classification Report when, k= 8\n",
            "              precision    recall  f1-score   support\n",
            "\n",
            "       allow       1.00      0.99      0.99      7574\n",
            "        deny       0.97      0.98      0.97      7515\n",
            "        drop       1.00      1.00      1.00      7493\n",
            "  reset-both       0.98      0.98      0.98      7530\n",
            "\n",
            "    accuracy                           0.99     30112\n",
            "   macro avg       0.99      0.99      0.99     30112\n",
            "weighted avg       0.99      0.99      0.99     30112\n",
            "\n",
            "Classifier Score when, k= 8\n",
            "0.9893730074388948\n",
            "Classifier Score with Predictions, when k= 8\n",
            "1.0\n",
            "Prediction Shape when, k= 9\n",
            "(30112,)\n",
            "Classification Report when, k= 9\n",
            "              precision    recall  f1-score   support\n",
            "\n",
            "       allow       1.00      0.99      0.99      7574\n",
            "        deny       0.97      0.98      0.97      7515\n",
            "        drop       1.00      1.00      1.00      7493\n",
            "  reset-both       0.98      0.98      0.98      7530\n",
            "\n",
            "    accuracy                           0.99     30112\n",
            "   macro avg       0.99      0.99      0.99     30112\n",
            "weighted avg       0.99      0.99      0.99     30112\n",
            "\n",
            "Classifier Score when, k= 9\n",
            "0.9883518198724761\n",
            "Classifier Score with Predictions, when k= 9\n",
            "1.0\n",
            "Prediction Shape when, k= 10\n",
            "(30112,)\n",
            "Classification Report when, k= 10\n",
            "              precision    recall  f1-score   support\n",
            "\n",
            "       allow       1.00      0.99      0.99      7574\n",
            "        deny       0.96      0.98      0.97      7515\n",
            "        drop       1.00      1.00      1.00      7493\n",
            "  reset-both       0.98      0.97      0.97      7530\n",
            "\n",
            "    accuracy                           0.98     30112\n",
            "   macro avg       0.98      0.98      0.98     30112\n",
            "weighted avg       0.98      0.98      0.98     30112\n",
            "\n",
            "Classifier Score when, k= 10\n",
            "0.9871645855472901\n",
            "Classifier Score with Predictions, when k= 10\n",
            "1.0\n"
          ]
        }
      ]
    },
    {
      "cell_type": "markdown",
      "source": [
        "### **KNN Model When Original Data but Normalized Data.**"
      ],
      "metadata": {
        "id": "E-B6JSm-LgUl"
      }
    },
    {
      "cell_type": "code",
      "source": [
        "from sklearn.neighbors import KNeighborsClassifier\n",
        "from sklearn.metrics import classification_report\n",
        "i=1\n",
        "while i<=10:\n",
        "  classifier3=KNeighborsClassifier(n_neighbors=i)\n",
        "  classifier3.fit(x_train_sc, y_train)\n",
        "  prediction3=classifier3.predict(x_test_sc)\n",
        "  print(\"Prediction Shape when, k=\",i)\n",
        "  print(prediction3.shape)\n",
        "  print(\"Classification Report when, k=\",i)\n",
        "  print(classification_report(y_test, prediction3))\n",
        "  print(\"Classifier Score when, k=\",i)\n",
        "  print(classifier3.score(x_train_sc,y_train))\n",
        "  print(\"Classifier3 Score with Predictions3, when k=\",i)\n",
        "  print(classifier3.score(x_test_sc, prediction3))\n",
        "  i=i+1"
      ],
      "metadata": {
        "id": "pokahnbsLzlD",
        "colab": {
          "base_uri": "https://localhost:8080/"
        },
        "outputId": "deff97b5-c75f-4680-8615-4434e24560bd"
      },
      "execution_count": 31,
      "outputs": [
        {
          "output_type": "stream",
          "name": "stdout",
          "text": [
            "Prediction Shape when, k= 1\n",
            "(13107,)\n",
            "Classification Report when, k= 1\n",
            "              precision    recall  f1-score   support\n",
            "\n",
            "       allow       1.00      1.00      1.00      7495\n",
            "        deny       0.99      1.00      0.99      2992\n",
            "        drop       1.00      1.00      1.00      2607\n",
            "  reset-both       1.00      0.23      0.38        13\n",
            "\n",
            "    accuracy                           1.00     13107\n",
            "   macro avg       1.00      0.81      0.84     13107\n",
            "weighted avg       1.00      1.00      1.00     13107\n",
            "\n",
            "Classifier Score when, k= 1\n",
            "0.9997329518359561\n",
            "Classifier3 Score with Predictions3, when k= 1\n",
            "1.0\n",
            "Prediction Shape when, k= 2\n",
            "(13107,)\n",
            "Classification Report when, k= 2\n"
          ]
        },
        {
          "output_type": "stream",
          "name": "stderr",
          "text": [
            "/usr/local/lib/python3.9/dist-packages/sklearn/metrics/_classification.py:1344: UndefinedMetricWarning: Precision and F-score are ill-defined and being set to 0.0 in labels with no predicted samples. Use `zero_division` parameter to control this behavior.\n",
            "  _warn_prf(average, modifier, msg_start, len(result))\n",
            "/usr/local/lib/python3.9/dist-packages/sklearn/metrics/_classification.py:1344: UndefinedMetricWarning: Precision and F-score are ill-defined and being set to 0.0 in labels with no predicted samples. Use `zero_division` parameter to control this behavior.\n",
            "  _warn_prf(average, modifier, msg_start, len(result))\n",
            "/usr/local/lib/python3.9/dist-packages/sklearn/metrics/_classification.py:1344: UndefinedMetricWarning: Precision and F-score are ill-defined and being set to 0.0 in labels with no predicted samples. Use `zero_division` parameter to control this behavior.\n",
            "  _warn_prf(average, modifier, msg_start, len(result))\n"
          ]
        },
        {
          "output_type": "stream",
          "name": "stdout",
          "text": [
            "              precision    recall  f1-score   support\n",
            "\n",
            "       allow       1.00      1.00      1.00      7495\n",
            "        deny       0.99      1.00      0.99      2992\n",
            "        drop       1.00      0.99      0.99      2607\n",
            "  reset-both       0.00      0.00      0.00        13\n",
            "\n",
            "    accuracy                           1.00     13107\n",
            "   macro avg       0.75      0.75      0.75     13107\n",
            "weighted avg       0.99      1.00      1.00     13107\n",
            "\n",
            "Classifier Score when, k= 2\n",
            "0.9981688125894135\n",
            "Classifier3 Score with Predictions3, when k= 2\n",
            "1.0\n",
            "Prediction Shape when, k= 3\n",
            "(13107,)\n",
            "Classification Report when, k= 3\n"
          ]
        },
        {
          "output_type": "stream",
          "name": "stderr",
          "text": [
            "/usr/local/lib/python3.9/dist-packages/sklearn/metrics/_classification.py:1344: UndefinedMetricWarning: Precision and F-score are ill-defined and being set to 0.0 in labels with no predicted samples. Use `zero_division` parameter to control this behavior.\n",
            "  _warn_prf(average, modifier, msg_start, len(result))\n",
            "/usr/local/lib/python3.9/dist-packages/sklearn/metrics/_classification.py:1344: UndefinedMetricWarning: Precision and F-score are ill-defined and being set to 0.0 in labels with no predicted samples. Use `zero_division` parameter to control this behavior.\n",
            "  _warn_prf(average, modifier, msg_start, len(result))\n",
            "/usr/local/lib/python3.9/dist-packages/sklearn/metrics/_classification.py:1344: UndefinedMetricWarning: Precision and F-score are ill-defined and being set to 0.0 in labels with no predicted samples. Use `zero_division` parameter to control this behavior.\n",
            "  _warn_prf(average, modifier, msg_start, len(result))\n"
          ]
        },
        {
          "output_type": "stream",
          "name": "stdout",
          "text": [
            "              precision    recall  f1-score   support\n",
            "\n",
            "       allow       1.00      1.00      1.00      7495\n",
            "        deny       0.99      1.00      0.99      2992\n",
            "        drop       1.00      1.00      1.00      2607\n",
            "  reset-both       0.00      0.00      0.00        13\n",
            "\n",
            "    accuracy                           1.00     13107\n",
            "   macro avg       0.75      0.75      0.75     13107\n",
            "weighted avg       1.00      1.00      1.00     13107\n",
            "\n",
            "Classifier Score when, k= 3\n",
            "0.9979017644253696\n",
            "Classifier3 Score with Predictions3, when k= 3\n",
            "1.0\n",
            "Prediction Shape when, k= 4\n",
            "(13107,)\n",
            "Classification Report when, k= 4\n"
          ]
        },
        {
          "output_type": "stream",
          "name": "stderr",
          "text": [
            "/usr/local/lib/python3.9/dist-packages/sklearn/metrics/_classification.py:1344: UndefinedMetricWarning: Precision and F-score are ill-defined and being set to 0.0 in labels with no predicted samples. Use `zero_division` parameter to control this behavior.\n",
            "  _warn_prf(average, modifier, msg_start, len(result))\n",
            "/usr/local/lib/python3.9/dist-packages/sklearn/metrics/_classification.py:1344: UndefinedMetricWarning: Precision and F-score are ill-defined and being set to 0.0 in labels with no predicted samples. Use `zero_division` parameter to control this behavior.\n",
            "  _warn_prf(average, modifier, msg_start, len(result))\n",
            "/usr/local/lib/python3.9/dist-packages/sklearn/metrics/_classification.py:1344: UndefinedMetricWarning: Precision and F-score are ill-defined and being set to 0.0 in labels with no predicted samples. Use `zero_division` parameter to control this behavior.\n",
            "  _warn_prf(average, modifier, msg_start, len(result))\n"
          ]
        },
        {
          "output_type": "stream",
          "name": "stdout",
          "text": [
            "              precision    recall  f1-score   support\n",
            "\n",
            "       allow       1.00      1.00      1.00      7495\n",
            "        deny       0.99      1.00      0.99      2992\n",
            "        drop       1.00      1.00      1.00      2607\n",
            "  reset-both       0.00      0.00      0.00        13\n",
            "\n",
            "    accuracy                           1.00     13107\n",
            "   macro avg       0.75      0.75      0.75     13107\n",
            "weighted avg       1.00      1.00      1.00     13107\n",
            "\n",
            "Classifier Score when, k= 4\n",
            "0.9978063900810682\n",
            "Classifier3 Score with Predictions3, when k= 4\n",
            "1.0\n",
            "Prediction Shape when, k= 5\n",
            "(13107,)\n",
            "Classification Report when, k= 5\n"
          ]
        },
        {
          "output_type": "stream",
          "name": "stderr",
          "text": [
            "/usr/local/lib/python3.9/dist-packages/sklearn/metrics/_classification.py:1344: UndefinedMetricWarning: Precision and F-score are ill-defined and being set to 0.0 in labels with no predicted samples. Use `zero_division` parameter to control this behavior.\n",
            "  _warn_prf(average, modifier, msg_start, len(result))\n",
            "/usr/local/lib/python3.9/dist-packages/sklearn/metrics/_classification.py:1344: UndefinedMetricWarning: Precision and F-score are ill-defined and being set to 0.0 in labels with no predicted samples. Use `zero_division` parameter to control this behavior.\n",
            "  _warn_prf(average, modifier, msg_start, len(result))\n",
            "/usr/local/lib/python3.9/dist-packages/sklearn/metrics/_classification.py:1344: UndefinedMetricWarning: Precision and F-score are ill-defined and being set to 0.0 in labels with no predicted samples. Use `zero_division` parameter to control this behavior.\n",
            "  _warn_prf(average, modifier, msg_start, len(result))\n"
          ]
        },
        {
          "output_type": "stream",
          "name": "stdout",
          "text": [
            "              precision    recall  f1-score   support\n",
            "\n",
            "       allow       1.00      1.00      1.00      7495\n",
            "        deny       0.99      0.99      0.99      2992\n",
            "        drop       1.00      1.00      1.00      2607\n",
            "  reset-both       0.00      0.00      0.00        13\n",
            "\n",
            "    accuracy                           1.00     13107\n",
            "   macro avg       0.75      0.75      0.75     13107\n",
            "weighted avg       1.00      1.00      1.00     13107\n",
            "\n",
            "Classifier Score when, k= 5\n",
            "0.9974821173104435\n",
            "Classifier3 Score with Predictions3, when k= 5\n",
            "1.0\n",
            "Prediction Shape when, k= 6\n",
            "(13107,)\n",
            "Classification Report when, k= 6\n"
          ]
        },
        {
          "output_type": "stream",
          "name": "stderr",
          "text": [
            "/usr/local/lib/python3.9/dist-packages/sklearn/metrics/_classification.py:1344: UndefinedMetricWarning: Precision and F-score are ill-defined and being set to 0.0 in labels with no predicted samples. Use `zero_division` parameter to control this behavior.\n",
            "  _warn_prf(average, modifier, msg_start, len(result))\n",
            "/usr/local/lib/python3.9/dist-packages/sklearn/metrics/_classification.py:1344: UndefinedMetricWarning: Precision and F-score are ill-defined and being set to 0.0 in labels with no predicted samples. Use `zero_division` parameter to control this behavior.\n",
            "  _warn_prf(average, modifier, msg_start, len(result))\n",
            "/usr/local/lib/python3.9/dist-packages/sklearn/metrics/_classification.py:1344: UndefinedMetricWarning: Precision and F-score are ill-defined and being set to 0.0 in labels with no predicted samples. Use `zero_division` parameter to control this behavior.\n",
            "  _warn_prf(average, modifier, msg_start, len(result))\n"
          ]
        },
        {
          "output_type": "stream",
          "name": "stdout",
          "text": [
            "              precision    recall  f1-score   support\n",
            "\n",
            "       allow       1.00      1.00      1.00      7495\n",
            "        deny       0.99      0.99      0.99      2992\n",
            "        drop       1.00      1.00      1.00      2607\n",
            "  reset-both       0.00      0.00      0.00        13\n",
            "\n",
            "    accuracy                           1.00     13107\n",
            "   macro avg       0.75      0.75      0.75     13107\n",
            "weighted avg       1.00      1.00      1.00     13107\n",
            "\n",
            "Classifier Score when, k= 6\n",
            "0.9973867429661422\n",
            "Classifier3 Score with Predictions3, when k= 6\n",
            "1.0\n",
            "Prediction Shape when, k= 7\n",
            "(13107,)\n",
            "Classification Report when, k= 7\n"
          ]
        },
        {
          "output_type": "stream",
          "name": "stderr",
          "text": [
            "/usr/local/lib/python3.9/dist-packages/sklearn/metrics/_classification.py:1344: UndefinedMetricWarning: Precision and F-score are ill-defined and being set to 0.0 in labels with no predicted samples. Use `zero_division` parameter to control this behavior.\n",
            "  _warn_prf(average, modifier, msg_start, len(result))\n",
            "/usr/local/lib/python3.9/dist-packages/sklearn/metrics/_classification.py:1344: UndefinedMetricWarning: Precision and F-score are ill-defined and being set to 0.0 in labels with no predicted samples. Use `zero_division` parameter to control this behavior.\n",
            "  _warn_prf(average, modifier, msg_start, len(result))\n",
            "/usr/local/lib/python3.9/dist-packages/sklearn/metrics/_classification.py:1344: UndefinedMetricWarning: Precision and F-score are ill-defined and being set to 0.0 in labels with no predicted samples. Use `zero_division` parameter to control this behavior.\n",
            "  _warn_prf(average, modifier, msg_start, len(result))\n"
          ]
        },
        {
          "output_type": "stream",
          "name": "stdout",
          "text": [
            "              precision    recall  f1-score   support\n",
            "\n",
            "       allow       1.00      1.00      1.00      7495\n",
            "        deny       0.99      0.99      0.99      2992\n",
            "        drop       0.99      1.00      1.00      2607\n",
            "  reset-both       0.00      0.00      0.00        13\n",
            "\n",
            "    accuracy                           1.00     13107\n",
            "   macro avg       0.75      0.75      0.75     13107\n",
            "weighted avg       1.00      1.00      1.00     13107\n",
            "\n",
            "Classifier Score when, k= 7\n",
            "0.9969289461134955\n",
            "Classifier3 Score with Predictions3, when k= 7\n",
            "1.0\n",
            "Prediction Shape when, k= 8\n",
            "(13107,)\n",
            "Classification Report when, k= 8\n"
          ]
        },
        {
          "output_type": "stream",
          "name": "stderr",
          "text": [
            "/usr/local/lib/python3.9/dist-packages/sklearn/metrics/_classification.py:1344: UndefinedMetricWarning: Precision and F-score are ill-defined and being set to 0.0 in labels with no predicted samples. Use `zero_division` parameter to control this behavior.\n",
            "  _warn_prf(average, modifier, msg_start, len(result))\n",
            "/usr/local/lib/python3.9/dist-packages/sklearn/metrics/_classification.py:1344: UndefinedMetricWarning: Precision and F-score are ill-defined and being set to 0.0 in labels with no predicted samples. Use `zero_division` parameter to control this behavior.\n",
            "  _warn_prf(average, modifier, msg_start, len(result))\n",
            "/usr/local/lib/python3.9/dist-packages/sklearn/metrics/_classification.py:1344: UndefinedMetricWarning: Precision and F-score are ill-defined and being set to 0.0 in labels with no predicted samples. Use `zero_division` parameter to control this behavior.\n",
            "  _warn_prf(average, modifier, msg_start, len(result))\n"
          ]
        },
        {
          "output_type": "stream",
          "name": "stdout",
          "text": [
            "              precision    recall  f1-score   support\n",
            "\n",
            "       allow       1.00      1.00      1.00      7495\n",
            "        deny       0.99      0.99      0.99      2992\n",
            "        drop       0.99      1.00      1.00      2607\n",
            "  reset-both       0.00      0.00      0.00        13\n",
            "\n",
            "    accuracy                           1.00     13107\n",
            "   macro avg       0.75      0.75      0.75     13107\n",
            "weighted avg       1.00      1.00      1.00     13107\n",
            "\n",
            "Classifier Score when, k= 8\n",
            "0.9969098712446351\n",
            "Classifier3 Score with Predictions3, when k= 8\n",
            "1.0\n",
            "Prediction Shape when, k= 9\n",
            "(13107,)\n",
            "Classification Report when, k= 9\n"
          ]
        },
        {
          "output_type": "stream",
          "name": "stderr",
          "text": [
            "/usr/local/lib/python3.9/dist-packages/sklearn/metrics/_classification.py:1344: UndefinedMetricWarning: Precision and F-score are ill-defined and being set to 0.0 in labels with no predicted samples. Use `zero_division` parameter to control this behavior.\n",
            "  _warn_prf(average, modifier, msg_start, len(result))\n",
            "/usr/local/lib/python3.9/dist-packages/sklearn/metrics/_classification.py:1344: UndefinedMetricWarning: Precision and F-score are ill-defined and being set to 0.0 in labels with no predicted samples. Use `zero_division` parameter to control this behavior.\n",
            "  _warn_prf(average, modifier, msg_start, len(result))\n",
            "/usr/local/lib/python3.9/dist-packages/sklearn/metrics/_classification.py:1344: UndefinedMetricWarning: Precision and F-score are ill-defined and being set to 0.0 in labels with no predicted samples. Use `zero_division` parameter to control this behavior.\n",
            "  _warn_prf(average, modifier, msg_start, len(result))\n"
          ]
        },
        {
          "output_type": "stream",
          "name": "stdout",
          "text": [
            "              precision    recall  f1-score   support\n",
            "\n",
            "       allow       1.00      1.00      1.00      7495\n",
            "        deny       0.99      0.99      0.99      2992\n",
            "        drop       0.99      1.00      1.00      2607\n",
            "  reset-both       0.00      0.00      0.00        13\n",
            "\n",
            "    accuracy                           1.00     13107\n",
            "   macro avg       0.75      0.75      0.75     13107\n",
            "weighted avg       1.00      1.00      1.00     13107\n",
            "\n",
            "Classifier Score when, k= 9\n",
            "0.9963567000476872\n",
            "Classifier3 Score with Predictions3, when k= 9\n",
            "1.0\n",
            "Prediction Shape when, k= 10\n",
            "(13107,)\n",
            "Classification Report when, k= 10\n"
          ]
        },
        {
          "output_type": "stream",
          "name": "stderr",
          "text": [
            "/usr/local/lib/python3.9/dist-packages/sklearn/metrics/_classification.py:1344: UndefinedMetricWarning: Precision and F-score are ill-defined and being set to 0.0 in labels with no predicted samples. Use `zero_division` parameter to control this behavior.\n",
            "  _warn_prf(average, modifier, msg_start, len(result))\n",
            "/usr/local/lib/python3.9/dist-packages/sklearn/metrics/_classification.py:1344: UndefinedMetricWarning: Precision and F-score are ill-defined and being set to 0.0 in labels with no predicted samples. Use `zero_division` parameter to control this behavior.\n",
            "  _warn_prf(average, modifier, msg_start, len(result))\n",
            "/usr/local/lib/python3.9/dist-packages/sklearn/metrics/_classification.py:1344: UndefinedMetricWarning: Precision and F-score are ill-defined and being set to 0.0 in labels with no predicted samples. Use `zero_division` parameter to control this behavior.\n",
            "  _warn_prf(average, modifier, msg_start, len(result))\n"
          ]
        },
        {
          "output_type": "stream",
          "name": "stdout",
          "text": [
            "              precision    recall  f1-score   support\n",
            "\n",
            "       allow       1.00      1.00      1.00      7495\n",
            "        deny       0.99      0.99      0.99      2992\n",
            "        drop       0.99      1.00      1.00      2607\n",
            "  reset-both       0.00      0.00      0.00        13\n",
            "\n",
            "    accuracy                           1.00     13107\n",
            "   macro avg       0.75      0.75      0.75     13107\n",
            "weighted avg       1.00      1.00      1.00     13107\n",
            "\n",
            "Classifier Score when, k= 10\n",
            "0.9963376251788268\n",
            "Classifier3 Score with Predictions3, when k= 10\n",
            "1.0\n"
          ]
        }
      ]
    },
    {
      "cell_type": "markdown",
      "source": [
        "### **KNN Model when Data Balanced with Smote and Also Normalized.**"
      ],
      "metadata": {
        "id": "TFjGlNaPLmh2"
      }
    },
    {
      "cell_type": "code",
      "source": [
        "from sklearn.neighbors import KNeighborsClassifier\n",
        "from sklearn.metrics import classification_report\n",
        "i=1\n",
        "while i<=10:\n",
        "  classifier4=KNeighborsClassifier(n_neighbors=i)\n",
        "  classifier4.fit(x2_train_sc, y2_train)\n",
        "  prediction4=classifier4.predict(x2_test_sc)\n",
        "  print(\"Prediction Shape when, k=\",i)\n",
        "  print(prediction4.shape)\n",
        "  print(\"Classification Report when, k=\",i)\n",
        "  print(classification_report(y2_test, prediction4))\n",
        "  print(\"Classifier Score when, k=\",i)\n",
        "  print(classifier4.score(x2_train_sc,y2_train))\n",
        "  print(\"Classifier Score with Predictions, when k=\",i)\n",
        "  print(classifier4.score(x2_test_sc, prediction4))\n",
        "  i=i+1"
      ],
      "metadata": {
        "id": "kBStnYI1p0co",
        "colab": {
          "base_uri": "https://localhost:8080/"
        },
        "outputId": "5eef647f-8a9d-452b-8728-1e51e502eb0c"
      },
      "execution_count": 32,
      "outputs": [
        {
          "output_type": "stream",
          "name": "stdout",
          "text": [
            "Prediction Shape when, k= 1\n",
            "(30112,)\n",
            "Classification Report when, k= 1\n",
            "              precision    recall  f1-score   support\n",
            "\n",
            "       allow       1.00      1.00      1.00      7574\n",
            "        deny       0.99      0.99      0.99      7515\n",
            "        drop       1.00      1.00      1.00      7493\n",
            "  reset-both       0.99      0.99      0.99      7530\n",
            "\n",
            "    accuracy                           1.00     30112\n",
            "   macro avg       1.00      1.00      1.00     30112\n",
            "weighted avg       1.00      1.00      1.00     30112\n",
            "\n",
            "Classifier Score when, k= 1\n",
            "0.999701115834219\n",
            "Classifier Score with Predictions, when k= 1\n",
            "1.0\n",
            "Prediction Shape when, k= 2\n",
            "(30112,)\n",
            "Classification Report when, k= 2\n",
            "              precision    recall  f1-score   support\n",
            "\n",
            "       allow       1.00      1.00      1.00      7574\n",
            "        deny       0.98      0.99      0.99      7515\n",
            "        drop       1.00      1.00      1.00      7493\n",
            "  reset-both       0.99      0.99      0.99      7530\n",
            "\n",
            "    accuracy                           0.99     30112\n",
            "   macro avg       0.99      0.99      0.99     30112\n",
            "weighted avg       0.99      0.99      0.99     30112\n",
            "\n",
            "Classifier Score when, k= 2\n",
            "0.9976421360255048\n",
            "Classifier Score with Predictions, when k= 2\n",
            "1.0\n",
            "Prediction Shape when, k= 3\n",
            "(30112,)\n",
            "Classification Report when, k= 3\n",
            "              precision    recall  f1-score   support\n",
            "\n",
            "       allow       1.00      1.00      1.00      7574\n",
            "        deny       0.99      0.99      0.99      7515\n",
            "        drop       1.00      1.00      1.00      7493\n",
            "  reset-both       0.99      0.99      0.99      7530\n",
            "\n",
            "    accuracy                           0.99     30112\n",
            "   macro avg       0.99      0.99      0.99     30112\n",
            "weighted avg       0.99      0.99      0.99     30112\n",
            "\n",
            "Classifier Score when, k= 3\n",
            "0.9959899707757705\n",
            "Classifier Score with Predictions, when k= 3\n",
            "1.0\n",
            "Prediction Shape when, k= 4\n",
            "(30112,)\n",
            "Classification Report when, k= 4\n",
            "              precision    recall  f1-score   support\n",
            "\n",
            "       allow       1.00      1.00      1.00      7574\n",
            "        deny       0.98      0.99      0.98      7515\n",
            "        drop       1.00      1.00      1.00      7493\n",
            "  reset-both       0.99      0.98      0.99      7530\n",
            "\n",
            "    accuracy                           0.99     30112\n",
            "   macro avg       0.99      0.99      0.99     30112\n",
            "weighted avg       0.99      0.99      0.99     30112\n",
            "\n",
            "Classifier Score when, k= 4\n",
            "0.9945453639744952\n",
            "Classifier Score with Predictions, when k= 4\n",
            "1.0\n",
            "Prediction Shape when, k= 5\n",
            "(30112,)\n",
            "Classification Report when, k= 5\n",
            "              precision    recall  f1-score   support\n",
            "\n",
            "       allow       1.00      1.00      1.00      7574\n",
            "        deny       0.98      0.98      0.98      7515\n",
            "        drop       1.00      1.00      1.00      7493\n",
            "  reset-both       0.98      0.99      0.99      7530\n",
            "\n",
            "    accuracy                           0.99     30112\n",
            "   macro avg       0.99      0.99      0.99     30112\n",
            "weighted avg       0.99      0.99      0.99     30112\n",
            "\n",
            "Classifier Score when, k= 5\n",
            "0.9935490834218916\n",
            "Classifier Score with Predictions, when k= 5\n",
            "1.0\n",
            "Prediction Shape when, k= 6\n",
            "(30112,)\n",
            "Classification Report when, k= 6\n",
            "              precision    recall  f1-score   support\n",
            "\n",
            "       allow       1.00      1.00      1.00      7574\n",
            "        deny       0.98      0.98      0.98      7515\n",
            "        drop       1.00      1.00      1.00      7493\n",
            "  reset-both       0.99      0.98      0.98      7530\n",
            "\n",
            "    accuracy                           0.99     30112\n",
            "   macro avg       0.99      0.99      0.99     30112\n",
            "weighted avg       0.99      0.99      0.99     30112\n",
            "\n",
            "Classifier Score when, k= 6\n",
            "0.9920629649309245\n",
            "Classifier Score with Predictions, when k= 6\n",
            "1.0\n",
            "Prediction Shape when, k= 7\n",
            "(30112,)\n",
            "Classification Report when, k= 7\n",
            "              precision    recall  f1-score   support\n",
            "\n",
            "       allow       1.00      1.00      1.00      7574\n",
            "        deny       0.98      0.98      0.98      7515\n",
            "        drop       1.00      1.00      1.00      7493\n",
            "  reset-both       0.98      0.98      0.98      7530\n",
            "\n",
            "    accuracy                           0.99     30112\n",
            "   macro avg       0.99      0.99      0.99     30112\n",
            "weighted avg       0.99      0.99      0.99     30112\n",
            "\n",
            "Classifier Score when, k= 7\n",
            "0.9911164984059511\n",
            "Classifier Score with Predictions, when k= 7\n",
            "1.0\n",
            "Prediction Shape when, k= 8\n",
            "(30112,)\n",
            "Classification Report when, k= 8\n",
            "              precision    recall  f1-score   support\n",
            "\n",
            "       allow       1.00      1.00      1.00      7574\n",
            "        deny       0.97      0.98      0.98      7515\n",
            "        drop       1.00      1.00      1.00      7493\n",
            "  reset-both       0.98      0.97      0.98      7530\n",
            "\n",
            "    accuracy                           0.99     30112\n",
            "   macro avg       0.99      0.99      0.99     30112\n",
            "weighted avg       0.99      0.99      0.99     30112\n",
            "\n",
            "Classifier Score when, k= 8\n",
            "0.9900537991498406\n",
            "Classifier Score with Predictions, when k= 8\n",
            "1.0\n",
            "Prediction Shape when, k= 9\n",
            "(30112,)\n",
            "Classification Report when, k= 9\n",
            "              precision    recall  f1-score   support\n",
            "\n",
            "       allow       1.00      1.00      1.00      7574\n",
            "        deny       0.97      0.97      0.97      7515\n",
            "        drop       1.00      1.00      1.00      7493\n",
            "  reset-both       0.98      0.98      0.98      7530\n",
            "\n",
            "    accuracy                           0.99     30112\n",
            "   macro avg       0.99      0.99      0.99     30112\n",
            "weighted avg       0.99      0.99      0.99     30112\n",
            "\n",
            "Classifier Score when, k= 9\n",
            "0.9890160069075452\n",
            "Classifier Score with Predictions, when k= 9\n",
            "1.0\n",
            "Prediction Shape when, k= 10\n",
            "(30112,)\n",
            "Classification Report when, k= 10\n",
            "              precision    recall  f1-score   support\n",
            "\n",
            "       allow       1.00      1.00      1.00      7574\n",
            "        deny       0.97      0.98      0.97      7515\n",
            "        drop       1.00      1.00      1.00      7493\n",
            "  reset-both       0.98      0.97      0.97      7530\n",
            "\n",
            "    accuracy                           0.99     30112\n",
            "   macro avg       0.99      0.99      0.99     30112\n",
            "weighted avg       0.99      0.99      0.99     30112\n",
            "\n",
            "Classifier Score when, k= 10\n",
            "0.9879117959617428\n",
            "Classifier Score with Predictions, when k= 10\n",
            "1.0\n"
          ]
        }
      ]
    },
    {
      "cell_type": "markdown",
      "source": [
        "## **Logistic Regression Model**"
      ],
      "metadata": {
        "id": "PRaSW3Rss3qp"
      }
    },
    {
      "cell_type": "markdown",
      "source": [
        "The model is implemented with original data, original data modified by smote, scaled data and scaled data modified by smote. Hypetuning was done by adding penality and solver. I have used Penality as l2 and solver as newton-cg. There are other penalities like l1, none, elasticity, and solver like saga, sag, liblinear etc. But we used only l2 and newton-cg to see if result gets better or not."
      ],
      "metadata": {
        "id": "R5fJ-K3p1srK"
      }
    },
    {
      "cell_type": "markdown",
      "source": [
        "### **Logistic Regression Model on Original Data Without Penality**"
      ],
      "metadata": {
        "id": "HpkaZiOvs-XT"
      }
    },
    {
      "cell_type": "code",
      "source": [
        "from sklearn.linear_model import LogisticRegression\n",
        "model5=LogisticRegression()\n",
        "print(x_train.shape, y_train.shape)\n",
        "model5.fit(x_train, y_train)\n",
        "prediction5=model5.predict(x_test)\n",
        "print(prediction5.shape)\n",
        "print(\"Classification Report when Penality is not applied\")\n",
        "print(classification_report(y_test,prediction5))\n",
        "print(\"Classifier Score when when Penality is not Applied\")\n",
        "print(model5.score(x_train,y_train))\n",
        "print(\"Classifier Score with Predictions when Penlity is not applied\")\n",
        "print(model5.score(x_test, prediction5))"
      ],
      "metadata": {
        "id": "T6HLR8CntSTB",
        "colab": {
          "base_uri": "https://localhost:8080/"
        },
        "outputId": "fead95ef-6167-48a8-cdbf-0b2de69832de"
      },
      "execution_count": 33,
      "outputs": [
        {
          "output_type": "stream",
          "name": "stdout",
          "text": [
            "(52425, 11) (52425,)\n"
          ]
        },
        {
          "output_type": "stream",
          "name": "stderr",
          "text": [
            "/usr/local/lib/python3.9/dist-packages/sklearn/linear_model/_logistic.py:458: ConvergenceWarning: lbfgs failed to converge (status=1):\n",
            "STOP: TOTAL NO. of ITERATIONS REACHED LIMIT.\n",
            "\n",
            "Increase the number of iterations (max_iter) or scale the data as shown in:\n",
            "    https://scikit-learn.org/stable/modules/preprocessing.html\n",
            "Please also refer to the documentation for alternative solver options:\n",
            "    https://scikit-learn.org/stable/modules/linear_model.html#logistic-regression\n",
            "  n_iter_i = _check_optimize_result(\n",
            "/usr/local/lib/python3.9/dist-packages/sklearn/metrics/_classification.py:1344: UndefinedMetricWarning: Precision and F-score are ill-defined and being set to 0.0 in labels with no predicted samples. Use `zero_division` parameter to control this behavior.\n",
            "  _warn_prf(average, modifier, msg_start, len(result))\n"
          ]
        },
        {
          "output_type": "stream",
          "name": "stdout",
          "text": [
            "(13107,)\n",
            "Classification Report when Penality is not applied\n",
            "              precision    recall  f1-score   support\n",
            "\n",
            "       allow       0.99      0.99      0.99      7495\n",
            "        deny       0.99      0.94      0.97      2992\n",
            "        drop       0.93      1.00      0.96      2607\n",
            "  reset-both       0.00      0.00      0.00        13\n",
            "\n",
            "    accuracy                           0.98     13107\n",
            "   macro avg       0.73      0.73      0.73     13107\n",
            "weighted avg       0.98      0.98      0.98     13107\n",
            "\n",
            "Classifier Score when when Penality is not Applied\n",
            "0.9792274678111588\n",
            "Classifier Score with Predictions when Penlity is not applied\n",
            "1.0\n"
          ]
        },
        {
          "output_type": "stream",
          "name": "stderr",
          "text": [
            "/usr/local/lib/python3.9/dist-packages/sklearn/metrics/_classification.py:1344: UndefinedMetricWarning: Precision and F-score are ill-defined and being set to 0.0 in labels with no predicted samples. Use `zero_division` parameter to control this behavior.\n",
            "  _warn_prf(average, modifier, msg_start, len(result))\n",
            "/usr/local/lib/python3.9/dist-packages/sklearn/metrics/_classification.py:1344: UndefinedMetricWarning: Precision and F-score are ill-defined and being set to 0.0 in labels with no predicted samples. Use `zero_division` parameter to control this behavior.\n",
            "  _warn_prf(average, modifier, msg_start, len(result))\n"
          ]
        }
      ]
    },
    {
      "cell_type": "markdown",
      "source": [
        "### **Logistic Regression Model on Original Data With Penality**"
      ],
      "metadata": {
        "id": "RYtE4Wl3vDa4"
      }
    },
    {
      "cell_type": "code",
      "source": [
        "from sklearn.linear_model import LogisticRegression\n",
        "model6_pen=LogisticRegression(penalty='l2', solver='newton-cg', multi_class='multinomial')\n",
        "model6_pen.fit(x_train, y_train)\n",
        "prediction6=model6_pen.predict(x_test)\n",
        "print(prediction6.shape)\n",
        "print(\"Classification Report when Penality is applied\")\n",
        "print(classification_report(y_test,prediction6))\n",
        "print(\"Classifier Score when when Penality is Applied\")\n",
        "print(model6_pen.score(x_train,y_train))\n",
        "print(\"Classifier Score with Predictions when Penlity is applied\")\n",
        "print(model6_pen.score(x_test, prediction6))"
      ],
      "metadata": {
        "id": "dGFfHRO1uzTB",
        "colab": {
          "base_uri": "https://localhost:8080/"
        },
        "outputId": "21b6b6b0-a02b-45d8-d242-8e6c3d7b27e9"
      },
      "execution_count": 34,
      "outputs": [
        {
          "output_type": "stream",
          "name": "stderr",
          "text": [
            "/usr/local/lib/python3.9/dist-packages/sklearn/utils/optimize.py:210: ConvergenceWarning: newton-cg failed to converge. Increase the number of iterations.\n",
            "  warnings.warn(\n",
            "/usr/local/lib/python3.9/dist-packages/sklearn/metrics/_classification.py:1344: UndefinedMetricWarning: Precision and F-score are ill-defined and being set to 0.0 in labels with no predicted samples. Use `zero_division` parameter to control this behavior.\n",
            "  _warn_prf(average, modifier, msg_start, len(result))\n"
          ]
        },
        {
          "output_type": "stream",
          "name": "stdout",
          "text": [
            "(13107,)\n",
            "Classification Report when Penality is applied\n",
            "              precision    recall  f1-score   support\n",
            "\n",
            "       allow       1.00      1.00      1.00      7495\n",
            "        deny       0.99      0.97      0.98      2992\n",
            "        drop       0.96      1.00      0.98      2607\n",
            "  reset-both       0.00      0.00      0.00        13\n",
            "\n",
            "    accuracy                           0.99     13107\n",
            "   macro avg       0.74      0.74      0.74     13107\n",
            "weighted avg       0.99      0.99      0.99     13107\n",
            "\n",
            "Classifier Score when when Penality is Applied\n",
            "0.9898712446351932\n",
            "Classifier Score with Predictions when Penlity is applied\n",
            "1.0\n"
          ]
        },
        {
          "output_type": "stream",
          "name": "stderr",
          "text": [
            "/usr/local/lib/python3.9/dist-packages/sklearn/metrics/_classification.py:1344: UndefinedMetricWarning: Precision and F-score are ill-defined and being set to 0.0 in labels with no predicted samples. Use `zero_division` parameter to control this behavior.\n",
            "  _warn_prf(average, modifier, msg_start, len(result))\n",
            "/usr/local/lib/python3.9/dist-packages/sklearn/metrics/_classification.py:1344: UndefinedMetricWarning: Precision and F-score are ill-defined and being set to 0.0 in labels with no predicted samples. Use `zero_division` parameter to control this behavior.\n",
            "  _warn_prf(average, modifier, msg_start, len(result))\n"
          ]
        }
      ]
    },
    {
      "cell_type": "markdown",
      "source": [
        "### **Logistic Regression Model on Smote Data Without Penality**"
      ],
      "metadata": {
        "id": "IuRBPyej3qqI"
      }
    },
    {
      "cell_type": "code",
      "source": [
        "from sklearn.linear_model import LogisticRegression\n",
        "model7=LogisticRegression()\n",
        "print(x2_train.shape, y2_train.shape)\n",
        "model7.fit(x2_train, y2_train)\n",
        "prediction7=model7.predict(x2_test)\n",
        "print(prediction7.shape)\n",
        "print(\"Classification Report when Penality is not applied\")\n",
        "print(classification_report(y2_test,prediction7))\n",
        "print(\"Classifier Score when when Penality is not Applied\")\n",
        "print(model7.score(x2_train,y2_train))\n",
        "print(\"Classifier Score with Predictions when Penlity is not applied\")\n",
        "print(model7.score(x2_test, prediction7))"
      ],
      "metadata": {
        "id": "1tEq3VjY3rEk",
        "colab": {
          "base_uri": "https://localhost:8080/"
        },
        "outputId": "be1b89c6-b846-4d89-c5b4-78182b6aba2e"
      },
      "execution_count": 35,
      "outputs": [
        {
          "output_type": "stream",
          "name": "stdout",
          "text": [
            "(120448, 11) (120448,)\n"
          ]
        },
        {
          "output_type": "stream",
          "name": "stderr",
          "text": [
            "/usr/local/lib/python3.9/dist-packages/sklearn/linear_model/_logistic.py:458: ConvergenceWarning: lbfgs failed to converge (status=1):\n",
            "STOP: TOTAL NO. of ITERATIONS REACHED LIMIT.\n",
            "\n",
            "Increase the number of iterations (max_iter) or scale the data as shown in:\n",
            "    https://scikit-learn.org/stable/modules/preprocessing.html\n",
            "Please also refer to the documentation for alternative solver options:\n",
            "    https://scikit-learn.org/stable/modules/linear_model.html#logistic-regression\n",
            "  n_iter_i = _check_optimize_result(\n"
          ]
        },
        {
          "output_type": "stream",
          "name": "stdout",
          "text": [
            "(30112,)\n",
            "Classification Report when Penality is not applied\n",
            "              precision    recall  f1-score   support\n",
            "\n",
            "       allow       0.82      0.99      0.89      7574\n",
            "        deny       0.65      0.76      0.70      7515\n",
            "        drop       0.95      1.00      0.97      7493\n",
            "  reset-both       0.65      0.37      0.47      7530\n",
            "\n",
            "    accuracy                           0.78     30112\n",
            "   macro avg       0.77      0.78      0.76     30112\n",
            "weighted avg       0.77      0.78      0.76     30112\n",
            "\n",
            "Classifier Score when when Penality is not Applied\n",
            "0.7739024309245484\n",
            "Classifier Score with Predictions when Penlity is not applied\n",
            "1.0\n"
          ]
        }
      ]
    },
    {
      "cell_type": "markdown",
      "source": [
        "### **Logistic Regression Model on SMOTE Data With Penality**"
      ],
      "metadata": {
        "id": "KmG2Z3nr32_H"
      }
    },
    {
      "cell_type": "code",
      "source": [
        "from sklearn.linear_model import LogisticRegression\n",
        "model8_pen=LogisticRegression(penalty='l2', solver='newton-cg', multi_class='multinomial')\n",
        "model8_pen.fit(x2_train, y2_train)\n",
        "prediction8=model6_pen.predict(x2_test)\n",
        "print(prediction8.shape)\n",
        "print(\"Classification Report when Penality is applied\")\n",
        "print(classification_report(y2_test,prediction8))\n",
        "print(\"Classifier Score when when Penality is Applied\")\n",
        "print(model8_pen.score(x2_train,y2_train))\n",
        "print(\"Classifier Score with Predictions when Penlity is applied\")\n",
        "print(model8_pen.score(x2_test, prediction8))"
      ],
      "metadata": {
        "id": "wVmEX_7f4E0T",
        "colab": {
          "base_uri": "https://localhost:8080/"
        },
        "outputId": "6db3586b-5c5a-415f-8768-ca08b17fb02a"
      },
      "execution_count": 36,
      "outputs": [
        {
          "output_type": "stream",
          "name": "stderr",
          "text": [
            "/usr/local/lib/python3.9/dist-packages/sklearn/utils/optimize.py:210: ConvergenceWarning: newton-cg failed to converge. Increase the number of iterations.\n",
            "  warnings.warn(\n"
          ]
        },
        {
          "output_type": "stream",
          "name": "stdout",
          "text": [
            "(30112,)\n",
            "Classification Report when Penality is applied\n"
          ]
        },
        {
          "output_type": "stream",
          "name": "stderr",
          "text": [
            "/usr/local/lib/python3.9/dist-packages/sklearn/metrics/_classification.py:1344: UndefinedMetricWarning: Precision and F-score are ill-defined and being set to 0.0 in labels with no predicted samples. Use `zero_division` parameter to control this behavior.\n",
            "  _warn_prf(average, modifier, msg_start, len(result))\n",
            "/usr/local/lib/python3.9/dist-packages/sklearn/metrics/_classification.py:1344: UndefinedMetricWarning: Precision and F-score are ill-defined and being set to 0.0 in labels with no predicted samples. Use `zero_division` parameter to control this behavior.\n",
            "  _warn_prf(average, modifier, msg_start, len(result))\n",
            "/usr/local/lib/python3.9/dist-packages/sklearn/metrics/_classification.py:1344: UndefinedMetricWarning: Precision and F-score are ill-defined and being set to 0.0 in labels with no predicted samples. Use `zero_division` parameter to control this behavior.\n",
            "  _warn_prf(average, modifier, msg_start, len(result))\n"
          ]
        },
        {
          "output_type": "stream",
          "name": "stdout",
          "text": [
            "              precision    recall  f1-score   support\n",
            "\n",
            "       allow       0.81      1.00      0.90      7574\n",
            "        deny       0.55      0.97      0.70      7515\n",
            "        drop       0.97      1.00      0.98      7493\n",
            "  reset-both       0.00      0.00      0.00      7530\n",
            "\n",
            "    accuracy                           0.74     30112\n",
            "   macro avg       0.58      0.74      0.65     30112\n",
            "weighted avg       0.58      0.74      0.65     30112\n",
            "\n",
            "Classifier Score when when Penality is Applied\n",
            "0.8638001461211477\n",
            "Classifier Score with Predictions when Penlity is applied\n",
            "0.7596307120085016\n"
          ]
        }
      ]
    },
    {
      "cell_type": "markdown",
      "source": [
        "### **Logistic Regression Model on Scaled Original Data Without Penality**"
      ],
      "metadata": {
        "id": "B9jiiMYK6GWm"
      }
    },
    {
      "cell_type": "code",
      "source": [
        "from sklearn.linear_model import LogisticRegression\n",
        "model9=LogisticRegression()\n",
        "print(x_train.shape, y_train.shape)\n",
        "model9.fit(x_train_sc, y_train)\n",
        "prediction9=model9.predict(x_test_sc)\n",
        "print(prediction9.shape)\n",
        "print(\"Classification Report when Penality is not applied\")\n",
        "print(classification_report(y_test,prediction9))\n",
        "print(\"Classifier Score when when Penality is not Applied\")\n",
        "print(model9.score(x_train_sc,y_train))\n",
        "print(\"Classifier Score with Predictions when Penlity is not applied\")\n",
        "print(model9.score(x_test_sc, prediction9))"
      ],
      "metadata": {
        "id": "5pr0If6w6Ghg",
        "colab": {
          "base_uri": "https://localhost:8080/"
        },
        "outputId": "cf28c260-9637-4c90-92ee-4c4d335c4f8e"
      },
      "execution_count": 37,
      "outputs": [
        {
          "output_type": "stream",
          "name": "stdout",
          "text": [
            "(52425, 11) (52425,)\n"
          ]
        },
        {
          "output_type": "stream",
          "name": "stderr",
          "text": [
            "/usr/local/lib/python3.9/dist-packages/sklearn/linear_model/_logistic.py:458: ConvergenceWarning: lbfgs failed to converge (status=1):\n",
            "STOP: TOTAL NO. of ITERATIONS REACHED LIMIT.\n",
            "\n",
            "Increase the number of iterations (max_iter) or scale the data as shown in:\n",
            "    https://scikit-learn.org/stable/modules/preprocessing.html\n",
            "Please also refer to the documentation for alternative solver options:\n",
            "    https://scikit-learn.org/stable/modules/linear_model.html#logistic-regression\n",
            "  n_iter_i = _check_optimize_result(\n",
            "/usr/local/lib/python3.9/dist-packages/sklearn/metrics/_classification.py:1344: UndefinedMetricWarning: Precision and F-score are ill-defined and being set to 0.0 in labels with no predicted samples. Use `zero_division` parameter to control this behavior.\n",
            "  _warn_prf(average, modifier, msg_start, len(result))\n"
          ]
        },
        {
          "output_type": "stream",
          "name": "stdout",
          "text": [
            "(13107,)\n",
            "Classification Report when Penality is not applied\n",
            "              precision    recall  f1-score   support\n",
            "\n",
            "       allow       1.00      0.99      1.00      7495\n",
            "        deny       0.99      0.96      0.98      2992\n",
            "        drop       0.95      1.00      0.98      2607\n",
            "  reset-both       0.00      0.00      0.00        13\n",
            "\n",
            "    accuracy                           0.99     13107\n",
            "   macro avg       0.74      0.74      0.74     13107\n",
            "weighted avg       0.99      0.99      0.99     13107\n",
            "\n",
            "Classifier Score when when Penality is not Applied\n",
            "0.9862470195517405\n",
            "Classifier Score with Predictions when Penlity is not applied\n",
            "1.0\n"
          ]
        },
        {
          "output_type": "stream",
          "name": "stderr",
          "text": [
            "/usr/local/lib/python3.9/dist-packages/sklearn/metrics/_classification.py:1344: UndefinedMetricWarning: Precision and F-score are ill-defined and being set to 0.0 in labels with no predicted samples. Use `zero_division` parameter to control this behavior.\n",
            "  _warn_prf(average, modifier, msg_start, len(result))\n",
            "/usr/local/lib/python3.9/dist-packages/sklearn/metrics/_classification.py:1344: UndefinedMetricWarning: Precision and F-score are ill-defined and being set to 0.0 in labels with no predicted samples. Use `zero_division` parameter to control this behavior.\n",
            "  _warn_prf(average, modifier, msg_start, len(result))\n"
          ]
        }
      ]
    },
    {
      "cell_type": "markdown",
      "source": [
        "### **Logistic Regression Model on Scaled Original Data With Penality**"
      ],
      "metadata": {
        "id": "pOxUxH-Y6G0d"
      }
    },
    {
      "cell_type": "code",
      "source": [
        "from sklearn.linear_model import LogisticRegression\n",
        "model10_pen=LogisticRegression(penalty='l2', solver='newton-cg', multi_class='multinomial')\n",
        "model10_pen.fit(x2_train_sc, y2_train)\n",
        "prediction10=model6_pen.predict(x2_test_sc)\n",
        "print(prediction10.shape)\n",
        "print(\"Classification Report when Penality is applied\")\n",
        "print(classification_report(y2_test,prediction10))\n",
        "print(\"Classifier Score when when Penality is Applied\")\n",
        "print(model10_pen.score(x2_train_sc,y2_train))\n",
        "print(\"Classifier Score with Predictions when Penlity is applied\")\n",
        "print(model10_pen.score(x2_test, prediction10))"
      ],
      "metadata": {
        "id": "Mx4fuSDd6G-s",
        "colab": {
          "base_uri": "https://localhost:8080/"
        },
        "outputId": "afd078f2-284f-4520-a7d4-465889361cfb"
      },
      "execution_count": 38,
      "outputs": [
        {
          "output_type": "stream",
          "name": "stderr",
          "text": [
            "/usr/local/lib/python3.9/dist-packages/sklearn/base.py:420: UserWarning: X does not have valid feature names, but LogisticRegression was fitted with feature names\n",
            "  warnings.warn(\n"
          ]
        },
        {
          "output_type": "stream",
          "name": "stdout",
          "text": [
            "(30112,)\n",
            "Classification Report when Penality is applied\n"
          ]
        },
        {
          "output_type": "stream",
          "name": "stderr",
          "text": [
            "/usr/local/lib/python3.9/dist-packages/sklearn/metrics/_classification.py:1344: UndefinedMetricWarning: Precision and F-score are ill-defined and being set to 0.0 in labels with no predicted samples. Use `zero_division` parameter to control this behavior.\n",
            "  _warn_prf(average, modifier, msg_start, len(result))\n",
            "/usr/local/lib/python3.9/dist-packages/sklearn/metrics/_classification.py:1344: UndefinedMetricWarning: Precision and F-score are ill-defined and being set to 0.0 in labels with no predicted samples. Use `zero_division` parameter to control this behavior.\n",
            "  _warn_prf(average, modifier, msg_start, len(result))\n",
            "/usr/local/lib/python3.9/dist-packages/sklearn/metrics/_classification.py:1344: UndefinedMetricWarning: Precision and F-score are ill-defined and being set to 0.0 in labels with no predicted samples. Use `zero_division` parameter to control this behavior.\n",
            "  _warn_prf(average, modifier, msg_start, len(result))\n"
          ]
        },
        {
          "output_type": "stream",
          "name": "stdout",
          "text": [
            "              precision    recall  f1-score   support\n",
            "\n",
            "       allow       1.00      0.23      0.37      7574\n",
            "        deny       0.26      1.00      0.42      7515\n",
            "        drop       0.00      0.00      0.00      7493\n",
            "  reset-both       0.00      0.00      0.00      7530\n",
            "\n",
            "    accuracy                           0.31     30112\n",
            "   macro avg       0.32      0.31      0.20     30112\n",
            "weighted avg       0.32      0.31      0.20     30112\n",
            "\n",
            "Classifier Score when when Penality is Applied\n",
            "0.826663788522848\n",
            "Classifier Score with Predictions when Penlity is applied\n",
            "0.44982066950053134\n"
          ]
        },
        {
          "output_type": "stream",
          "name": "stderr",
          "text": [
            "/usr/local/lib/python3.9/dist-packages/sklearn/base.py:413: UserWarning: X has feature names, but LogisticRegression was fitted without feature names\n",
            "  warnings.warn(\n"
          ]
        }
      ]
    },
    {
      "cell_type": "markdown",
      "source": [
        "### **Logistic Regression Model on Scaled SMOTE Data Without Penality**"
      ],
      "metadata": {
        "id": "2eegDbCV6HWD"
      }
    },
    {
      "cell_type": "code",
      "source": [
        "from sklearn.linear_model import LogisticRegression\n",
        "model11=LogisticRegression()\n",
        "print(x2_train.shape, y2_train.shape)\n",
        "model11.fit(x2_train, y2_train)\n",
        "prediction11=model7.predict(x2_test)\n",
        "print(prediction11.shape)\n",
        "print(\"Classification Report when Penality is not applied\")\n",
        "print(classification_report(y2_test,prediction11))\n",
        "print(\"Classifier Score when when Penality is not Applied\")\n",
        "print(model11.score(x2_train,y2_train))\n",
        "print(\"Classifier Score with Predictions when Penlity is not applied\")\n",
        "print(model11.score(x2_test, prediction11))"
      ],
      "metadata": {
        "id": "l8RtYHjM6Heg",
        "colab": {
          "base_uri": "https://localhost:8080/"
        },
        "outputId": "e0cfaa66-d02f-423a-886d-e5370b4a49af"
      },
      "execution_count": 39,
      "outputs": [
        {
          "output_type": "stream",
          "name": "stdout",
          "text": [
            "(120448, 11) (120448,)\n"
          ]
        },
        {
          "output_type": "stream",
          "name": "stderr",
          "text": [
            "/usr/local/lib/python3.9/dist-packages/sklearn/linear_model/_logistic.py:458: ConvergenceWarning: lbfgs failed to converge (status=1):\n",
            "STOP: TOTAL NO. of ITERATIONS REACHED LIMIT.\n",
            "\n",
            "Increase the number of iterations (max_iter) or scale the data as shown in:\n",
            "    https://scikit-learn.org/stable/modules/preprocessing.html\n",
            "Please also refer to the documentation for alternative solver options:\n",
            "    https://scikit-learn.org/stable/modules/linear_model.html#logistic-regression\n",
            "  n_iter_i = _check_optimize_result(\n"
          ]
        },
        {
          "output_type": "stream",
          "name": "stdout",
          "text": [
            "(30112,)\n",
            "Classification Report when Penality is not applied\n",
            "              precision    recall  f1-score   support\n",
            "\n",
            "       allow       0.82      0.99      0.89      7574\n",
            "        deny       0.65      0.76      0.70      7515\n",
            "        drop       0.95      1.00      0.97      7493\n",
            "  reset-both       0.65      0.37      0.47      7530\n",
            "\n",
            "    accuracy                           0.78     30112\n",
            "   macro avg       0.77      0.78      0.76     30112\n",
            "weighted avg       0.77      0.78      0.76     30112\n",
            "\n",
            "Classifier Score when when Penality is not Applied\n",
            "0.7739024309245484\n",
            "Classifier Score with Predictions when Penlity is not applied\n",
            "1.0\n"
          ]
        }
      ]
    },
    {
      "cell_type": "markdown",
      "source": [
        "### **Logistic Regression Model on Scaled SMOTE Data With Penality**"
      ],
      "metadata": {
        "id": "iuqBsn1n6HtZ"
      }
    },
    {
      "cell_type": "code",
      "source": [
        "from sklearn.linear_model import LogisticRegression\n",
        "model12=LogisticRegression()\n",
        "print(x2_train_sc.shape, y2_train.shape)\n",
        "model12.fit(x2_train_sc, y2_train)\n",
        "prediction12=model12.predict(x2_test_sc)\n",
        "print(prediction12.shape)\n",
        "print(\"Classification Report when Penality is not applied\")\n",
        "print(classification_report(y2_test,prediction12))\n",
        "print(\"Classifier Score when when Penality is not Applied\")\n",
        "print(model12.score(x2_train_sc,y2_train))\n",
        "print(\"Classifier Score with Predictions when Penlity is not applied\")\n",
        "print(model12.score(x2_test_sc, prediction12))"
      ],
      "metadata": {
        "id": "5EfCC_Ms6H2z",
        "colab": {
          "base_uri": "https://localhost:8080/"
        },
        "outputId": "73e9c9a6-ed79-4c7d-c6af-3554310cc19d"
      },
      "execution_count": 40,
      "outputs": [
        {
          "output_type": "stream",
          "name": "stdout",
          "text": [
            "(120448, 11) (120448,)\n"
          ]
        },
        {
          "output_type": "stream",
          "name": "stderr",
          "text": [
            "/usr/local/lib/python3.9/dist-packages/sklearn/linear_model/_logistic.py:458: ConvergenceWarning: lbfgs failed to converge (status=1):\n",
            "STOP: TOTAL NO. of ITERATIONS REACHED LIMIT.\n",
            "\n",
            "Increase the number of iterations (max_iter) or scale the data as shown in:\n",
            "    https://scikit-learn.org/stable/modules/preprocessing.html\n",
            "Please also refer to the documentation for alternative solver options:\n",
            "    https://scikit-learn.org/stable/modules/linear_model.html#logistic-regression\n",
            "  n_iter_i = _check_optimize_result(\n"
          ]
        },
        {
          "output_type": "stream",
          "name": "stdout",
          "text": [
            "(30112,)\n",
            "Classification Report when Penality is not applied\n",
            "              precision    recall  f1-score   support\n",
            "\n",
            "       allow       1.00      0.98      0.99      7574\n",
            "        deny       0.66      0.68      0.67      7515\n",
            "        drop       0.96      1.00      0.98      7493\n",
            "  reset-both       0.69      0.65      0.67      7530\n",
            "\n",
            "    accuracy                           0.83     30112\n",
            "   macro avg       0.83      0.83      0.83     30112\n",
            "weighted avg       0.83      0.83      0.83     30112\n",
            "\n",
            "Classifier Score when when Penality is not Applied\n",
            "0.82675511424017\n",
            "Classifier Score with Predictions when Penlity is not applied\n",
            "1.0\n"
          ]
        }
      ]
    },
    {
      "cell_type": "markdown",
      "source": [
        "## **Linear Regression Model**"
      ],
      "metadata": {
        "id": "hftcPXLT5fXG"
      }
    },
    {
      "cell_type": "markdown",
      "source": [
        "We can use SGDRegressor for tuning hyperparameters for Linear Models. For Hyperparams tune Linear Regressions, we should use Lasso, Ridge or ElasticNet."
      ],
      "metadata": {
        "id": "dRxLl9Jd5s_m"
      }
    },
    {
      "cell_type": "markdown",
      "source": [
        "### **LABELING DATA FOR CATERGORICAL DATA TO NUMERICAL DATA**"
      ],
      "metadata": {
        "id": "2LxaGtqL0H8u"
      }
    },
    {
      "cell_type": "code",
      "source": [
        "from sklearn import preprocessing\n",
        "from sklearn import utils\n",
        "lab_enc=preprocessing.LabelEncoder()\n",
        "encoded_y_df=lab_enc.fit_transform(y)\n",
        "encoded_y=lab_enc.fit_transform(y_train)\n",
        "encoded_yt=lab_enc.fit_transform(y_test)\n",
        "oversample2 = SMOTE()\n",
        "x5, y5 = oversample.fit_resample(x, encoded_y_df)\n",
        "print(\"Values of encoded_y2 by using Smote are:\")\n",
        "x5_train, x5_test, y5_train, y5_test=train_test_split(x5,y5, test_size=0.2, random_state=21)\n",
        "counter2=Counter(y2)\n",
        "print(counter2)"
      ],
      "metadata": {
        "id": "BHgorRoWE1RE",
        "colab": {
          "base_uri": "https://localhost:8080/"
        },
        "outputId": "5fc069dc-546b-4d3c-9e60-c2ee50fb2e18"
      },
      "execution_count": 41,
      "outputs": [
        {
          "output_type": "stream",
          "name": "stdout",
          "text": [
            "Values of encoded_y2 by using Smote are:\n",
            "Counter({'allow': 37640, 'drop': 37640, 'deny': 37640, 'reset-both': 37640})\n"
          ]
        }
      ]
    },
    {
      "cell_type": "markdown",
      "source": [
        "### **Linear Regression Model on Original Data**"
      ],
      "metadata": {
        "id": "AZ1pYKkp5mm0"
      }
    },
    {
      "cell_type": "code",
      "source": [
        "from sklearn.linear_model import LinearRegression\n",
        "from sklearn.metrics import classification_report\n",
        "import seaborn as sns\n",
        "from sklearn.metrics import r2_score\n",
        "#sns.pairplot(df)\n",
        "#sns.heatmap(df.corr())\n",
        "#sns.heatmap(df2, annot=True)\n",
        "LR1=LinearRegression()\n",
        "LR1.fit(x_train, encoded_y)\n",
        "print(\"LR1 Intercept is\")\n",
        "print(LR1.intercept_)\n",
        "predictionx1=LR1.predict(x_test)\n",
        "print(predictionx1.shape)\n",
        "print(encoded_yt.shape)\n",
        "print(x_test.shape)\n",
        "Accuracy1=(((predictionx1-encoded_yt)/encoded_yt)*100)\n",
        "print(Accuracy1)\n",
        "np.seterr(divide='ignore', invalid='ignore')\n",
        "print(\"Model Score when on Original Data\")\n",
        "print(LR1.score(x_train,encoded_y))\n",
        "print(\"Model Score on Original Data with Prediction\")\n",
        "print(LR1.score(x_test, predictionx1))"
      ],
      "metadata": {
        "id": "3r2Y1vaC5tU0",
        "colab": {
          "base_uri": "https://localhost:8080/"
        },
        "outputId": "991b810c-4054-482b-de3c-1bc6db60152d"
      },
      "execution_count": 42,
      "outputs": [
        {
          "output_type": "stream",
          "name": "stdout",
          "text": [
            "LR1 Intercept is\n",
            "0.8223632235034649\n",
            "(13107,)\n",
            "(13107,)\n",
            "(13107, 11)\n",
            "[  2.91617975         -inf          inf ... -22.33083891 -38.53338038\n",
            "   9.74859182]\n",
            "Model Score when on Original Data\n",
            "0.5015390773410934\n",
            "Model Score on Original Data with Prediction\n",
            "1.0\n"
          ]
        },
        {
          "output_type": "stream",
          "name": "stderr",
          "text": [
            "<ipython-input-42-07db67a3ef48>:16: RuntimeWarning: divide by zero encountered in true_divide\n",
            "  Accuracy1=(((predictionx1-encoded_yt)/encoded_yt)*100)\n"
          ]
        }
      ]
    },
    {
      "cell_type": "markdown",
      "source": [
        "### **Linear Regression Model on SMOTE Data**"
      ],
      "metadata": {
        "id": "qK5cy_9__dxR"
      }
    },
    {
      "cell_type": "code",
      "source": [
        "from sklearn.linear_model import LinearRegression\n",
        "from sklearn.metrics import classification_report\n",
        "import seaborn as sns\n",
        "from sklearn.metrics import r2_score\n",
        "#sns.pairplot(df)\n",
        "#sns.heatmap(df.corr())\n",
        "#sns.heatmap(df2, annot=True)\n",
        "LR2=LinearRegression()\n",
        "LR2.fit(x5_train, y5_train)\n",
        "print(\"LR2 Intercept is\")\n",
        "print(LR2.intercept_)\n",
        "predictionx2=LR2.predict(x2_test)\n",
        "print(predictionx2.shape)\n",
        "print(y5_test.shape)\n",
        "print(x5_test.shape)\n",
        "Accuracy2=(((predictionx2-y5_test)/y5_test)*100)\n",
        "#print(Accuracy2)\n",
        "np.seterr(divide='ignore', invalid='ignore')\n",
        "r2_score1=r2_score(y5_test, predictionx2)\n",
        "print(\"R2 Score When Smote is applied\")\n",
        "print(r2_score)\n",
        "#print(\"Classification Report \")\n",
        "#print(classification_report(y5_test,predictionx2))\n",
        "print(\"LR2 Score when when X5_train and y5_train\")\n",
        "print(LR2.score(x5_train,y5_train))\n",
        "print(\"LR2 Score when when X5_test and Y5_test\")\n",
        "print(LR2.score(x5_test, y5_test))\n",
        "print(\"LR2 Score when when X5_test and prediction\")\n",
        "print(LR2.score(x5_test, predictionx2))"
      ],
      "metadata": {
        "id": "KzjFjQxE_eEc",
        "colab": {
          "base_uri": "https://localhost:8080/"
        },
        "outputId": "a3d41f4e-b819-493d-acb2-499aa0bf3305"
      },
      "execution_count": 43,
      "outputs": [
        {
          "output_type": "stream",
          "name": "stdout",
          "text": [
            "LR2 Intercept is\n",
            "2.6204671218537\n",
            "(30112,)\n",
            "(30112,)\n",
            "(30112, 11)\n",
            "R2 Score When Smote is applied\n",
            "<function r2_score at 0x7f685ced2040>\n",
            "LR2 Score when when X5_train and y5_train\n",
            "0.3460200558549067\n",
            "LR2 Score when when X5_test and Y5_test\n",
            "0.3519549008782137\n",
            "LR2 Score when when X5_test and prediction\n",
            "0.6036998767492849\n"
          ]
        }
      ]
    },
    {
      "cell_type": "markdown",
      "source": [
        "## **DECISION TREE CLASSIFICATION MODEL**"
      ],
      "metadata": {
        "id": "vmAqSc25CX6f"
      }
    },
    {
      "cell_type": "markdown",
      "source": [
        "### **Decision Tree Classification Model on Original Data**"
      ],
      "metadata": {
        "id": "MpE93g74Cfz9"
      }
    },
    {
      "cell_type": "code",
      "source": [
        "from sklearn import tree\n",
        "from sklearn.metrics import classification_report\n",
        "classifier_tr1=tree.DecisionTreeClassifier()\n",
        "classifier_tr1.fit(x_train, y_train)\n",
        "prediction_tr1=classifier_tr1.predict(x_test)\n",
        "print(\"Prediction Shape is:\")\n",
        "print(prediction_tr1.shape)\n",
        "print(\"F1 Score is\")\n",
        "print(classification_report(y_test, prediction_tr1))\n",
        "print(\"Claasifier Score of xtrain and ytrain is\")\n",
        "print(classifier_tr1.score(x_train,y_train))\n",
        "print(\"Claasifier Score of xtest and ytest is\")\n",
        "print(classifier_tr1.score(x_test,y_test))\n",
        "print(\"Claasifier Score of xtest and prediction is\")\n",
        "print(classifier_tr1.score(x_test, prediction_tr1))\n",
        "\n",
        "from sklearn.tree import plot_tree, export_text\n",
        "plt.figure(figsize =(80,20))\n",
        "plot_tree(classifier_tr1, feature_names=x_train.columns, max_depth=2, filled=True);\n"
      ],
      "metadata": {
        "id": "BwRm8VxqColC",
        "colab": {
          "base_uri": "https://localhost:8080/"
        },
        "outputId": "b79f9aa2-b6c3-4f50-9cb8-29a124a6be34"
      },
      "execution_count": 44,
      "outputs": [
        {
          "output_type": "stream",
          "name": "stdout",
          "text": [
            "Prediction Shape is:\n",
            "(13107,)\n",
            "F1 Score is\n",
            "              precision    recall  f1-score   support\n",
            "\n",
            "       allow       1.00      1.00      1.00      7495\n",
            "        deny       0.99      1.00      0.99      2992\n",
            "        drop       1.00      1.00      1.00      2607\n",
            "  reset-both       0.50      0.23      0.32        13\n",
            "\n",
            "    accuracy                           1.00     13107\n",
            "   macro avg       0.87      0.81      0.83     13107\n",
            "weighted avg       1.00      1.00      1.00     13107\n",
            "\n",
            "Claasifier Score of xtrain and ytrain is\n",
            "0.9997329518359561\n",
            "Claasifier Score of xtest and ytest is\n",
            "0.9976348516060121\n",
            "Claasifier Score of xtest and prediction is\n",
            "1.0\n"
          ]
        }
      ]
    },
    {
      "cell_type": "markdown",
      "source": [
        "### **Decision Tree Classification Model on Smote Data**"
      ],
      "metadata": {
        "id": "LH2t_vTTJbJr"
      }
    },
    {
      "cell_type": "code",
      "source": [
        "from sklearn import tree\n",
        "from sklearn.metrics import classification_report\n",
        "classifier_tr1=tree.DecisionTreeClassifier()\n",
        "classifier_tr1.fit(x2_train, y2_train)\n",
        "prediction_tr1=classifier_tr1.predict(x2_test)\n",
        "print(\"Prediction Shape is:\")\n",
        "print(prediction_tr1.shape)\n",
        "print(\"F1 Score is\")\n",
        "print(classification_report(y2_test, prediction_tr1))\n",
        "print(\"Claasifier Score of x2train and y2train is\")\n",
        "print(classifier_tr1.score(x2_train,y2_train))\n",
        "print(\"Claasifier Score of xtest and ytest is\")\n",
        "print(classifier_tr1.score(x2_test,y2_test))\n",
        "print(\"Claasifier Score of xtest and prediction is\")\n",
        "print(classifier_tr1.score(x2_test, prediction_tr1))"
      ],
      "metadata": {
        "id": "Vhn4Bz1DJbYD",
        "colab": {
          "base_uri": "https://localhost:8080/"
        },
        "outputId": "2d17979e-e936-4a9f-afdf-a9866873c64e"
      },
      "execution_count": 45,
      "outputs": [
        {
          "output_type": "stream",
          "name": "stdout",
          "text": [
            "Prediction Shape is:\n",
            "(30112,)\n",
            "F1 Score is\n",
            "              precision    recall  f1-score   support\n",
            "\n",
            "       allow       1.00      1.00      1.00      7574\n",
            "        deny       0.99      0.99      0.99      7515\n",
            "        drop       1.00      1.00      1.00      7493\n",
            "  reset-both       0.99      0.99      0.99      7530\n",
            "\n",
            "    accuracy                           1.00     30112\n",
            "   macro avg       1.00      1.00      1.00     30112\n",
            "weighted avg       1.00      1.00      1.00     30112\n",
            "\n",
            "Claasifier Score of x2train and y2train is\n",
            "0.9997177205100957\n",
            "Claasifier Score of xtest and ytest is\n",
            "0.996048087141339\n",
            "Claasifier Score of xtest and prediction is\n",
            "1.0\n"
          ]
        }
      ]
    },
    {
      "cell_type": "markdown",
      "source": [
        "### **Decision Tree Classification Model on Original Scaled Data**"
      ],
      "metadata": {
        "id": "lrsrRVuLKLq8"
      }
    },
    {
      "cell_type": "code",
      "source": [
        "from sklearn import tree\n",
        "from sklearn.metrics import classification_report\n",
        "classifier_tr1=tree.DecisionTreeClassifier()\n",
        "classifier_tr1.fit(x_train_sc, y_train)\n",
        "prediction_tr1=classifier_tr1.predict(x_test_sc)\n",
        "print(\"Prediction Shape is:\")\n",
        "print(prediction_tr1.shape)\n",
        "print(\"F1 Score is\")\n",
        "print(classification_report(y_test, prediction_tr1))\n",
        "print(\"Claasifier Score of xtrain and ytrain is\")\n",
        "print(classifier_tr1.score(x_train_sc,y_train))\n",
        "print(\"Claasifier Score of xtest and ytest is\")\n",
        "print(classifier_tr1.score(x_test_sc,y_test))\n",
        "print(\"Claasifier Score of xtest and prediction is\")\n",
        "print(classifier_tr1.score(x_test_sc, prediction_tr1))"
      ],
      "metadata": {
        "id": "gOQd0Ui5KL1-",
        "colab": {
          "base_uri": "https://localhost:8080/"
        },
        "outputId": "f99388b9-f2b5-493c-887c-1a999a821e9a"
      },
      "execution_count": 46,
      "outputs": [
        {
          "output_type": "stream",
          "name": "stdout",
          "text": [
            "Prediction Shape is:\n",
            "(13107,)\n",
            "F1 Score is\n",
            "              precision    recall  f1-score   support\n",
            "\n",
            "       allow       1.00      1.00      1.00      7495\n",
            "        deny       0.99      1.00      0.99      2992\n",
            "        drop       1.00      1.00      1.00      2607\n",
            "  reset-both       0.50      0.23      0.32        13\n",
            "\n",
            "    accuracy                           1.00     13107\n",
            "   macro avg       0.87      0.81      0.83     13107\n",
            "weighted avg       1.00      1.00      1.00     13107\n",
            "\n",
            "Claasifier Score of xtrain and ytrain is\n",
            "0.9997329518359561\n",
            "Claasifier Score of xtest and ytest is\n",
            "0.9976348516060121\n",
            "Claasifier Score of xtest and prediction is\n",
            "1.0\n"
          ]
        }
      ]
    },
    {
      "cell_type": "markdown",
      "source": [
        "### **Decision Tree Classification Model on SMOTE Scaled Data**"
      ],
      "metadata": {
        "id": "sGJ9nQwRKMBC"
      }
    },
    {
      "cell_type": "code",
      "source": [
        "from sklearn import tree\n",
        "from sklearn.metrics import classification_report\n",
        "classifier_tr1=tree.DecisionTreeClassifier()\n",
        "classifier_tr1.fit(x2_train_sc, y2_train)\n",
        "prediction_tr1=classifier_tr1.predict(x2_test_sc)\n",
        "print(\"Prediction Shape is:\")\n",
        "print(prediction_tr1.shape)\n",
        "print(\"F1 Score is\")\n",
        "print(classification_report(y2_test, prediction_tr1))\n",
        "print(\"Claasifier Score of x2train and y2train is\")\n",
        "print(classifier_tr1.score(x2_train_sc,y2_train))\n",
        "print(\"Claasifier Score of xtest and ytest is\")\n",
        "print(classifier_tr1.score(x2_test_sc,y2_test))\n",
        "print(\"Claasifier Score of xtest and prediction is\")\n",
        "print(classifier_tr1.score(x2_test_sc, prediction_tr1))"
      ],
      "metadata": {
        "id": "j_AkhOhEKMOD",
        "colab": {
          "base_uri": "https://localhost:8080/"
        },
        "outputId": "623f5aa6-3606-427c-b68a-986b61539f75"
      },
      "execution_count": 47,
      "outputs": [
        {
          "output_type": "stream",
          "name": "stdout",
          "text": [
            "Prediction Shape is:\n",
            "(30112,)\n",
            "F1 Score is\n",
            "              precision    recall  f1-score   support\n",
            "\n",
            "       allow       1.00      1.00      1.00      7574\n",
            "        deny       0.99      0.99      0.99      7515\n",
            "        drop       1.00      1.00      1.00      7493\n",
            "  reset-both       0.99      0.99      0.99      7530\n",
            "\n",
            "    accuracy                           1.00     30112\n",
            "   macro avg       1.00      1.00      1.00     30112\n",
            "weighted avg       1.00      1.00      1.00     30112\n",
            "\n",
            "Claasifier Score of x2train and y2train is\n",
            "0.9997177205100957\n",
            "Claasifier Score of xtest and ytest is\n",
            "0.9961477151965994\n",
            "Claasifier Score of xtest and prediction is\n",
            "1.0\n"
          ]
        }
      ]
    },
    {
      "cell_type": "markdown",
      "source": [
        "### **Decision Tree Classification Model (Hyperparameter Tuning, Setting Max_Depth)**"
      ],
      "metadata": {
        "id": "9mrBCCmrM_bh"
      }
    },
    {
      "cell_type": "markdown",
      "source": [
        "I have set max_depth of decision tree to show the change in result. Tested on 20,40,60,80,90, the result gets better at more depth. Random_State can also be changed as per requirements."
      ],
      "metadata": {
        "id": "7MXNeKJRNsS5"
      }
    },
    {
      "cell_type": "code",
      "source": [
        "from sklearn import tree\n",
        "from sklearn.metrics import classification_report\n",
        "classifier_tr1=tree.DecisionTreeClassifier(max_depth=3, random_state=25)\n",
        "classifier_tr1.fit(x2_train_sc, y2_train)\n",
        "prediction_tr1=classifier_tr1.predict(x2_test_sc)\n",
        "print(\"Prediction Shape is:\")\n",
        "print(prediction_tr1.shape)\n",
        "print(\"F1 Score is\")\n",
        "print(classification_report(y2_test, prediction_tr1))\n",
        "print(\"Claasifier Score of x2train and y2train is\")\n",
        "print(classifier_tr1.score(x2_train_sc,y2_train))\n",
        "print(\"Claasifier Score of xtest and ytest is\")\n",
        "print(classifier_tr1.score(x2_test_sc,y2_test))\n",
        "print(\"Claasifier Score of xtest and prediction is\")\n",
        "print(classifier_tr1.score(x2_test_sc, prediction_tr1))"
      ],
      "metadata": {
        "id": "g1iRts-vM_7G",
        "colab": {
          "base_uri": "https://localhost:8080/"
        },
        "outputId": "d96bac4d-671c-4477-9955-60d8c09f655d"
      },
      "execution_count": 48,
      "outputs": [
        {
          "output_type": "stream",
          "name": "stdout",
          "text": [
            "Prediction Shape is:\n",
            "(30112,)\n",
            "F1 Score is\n",
            "              precision    recall  f1-score   support\n",
            "\n",
            "       allow       1.00      0.99      1.00      7574\n",
            "        deny       0.82      0.84      0.83      7515\n",
            "        drop       1.00      1.00      1.00      7493\n",
            "  reset-both       0.84      0.83      0.83      7530\n",
            "\n",
            "    accuracy                           0.91     30112\n",
            "   macro avg       0.91      0.91      0.91     30112\n",
            "weighted avg       0.91      0.91      0.91     30112\n",
            "\n",
            "Claasifier Score of x2train and y2train is\n",
            "0.9107996811902231\n",
            "Claasifier Score of xtest and ytest is\n",
            "0.91451912858661\n",
            "Claasifier Score of xtest and prediction is\n",
            "1.0\n"
          ]
        }
      ]
    },
    {
      "cell_type": "markdown",
      "source": [
        "### **Decision Tree Classification Model (Hyperparameter Tuning, Setting Max_Lead Nodes)**"
      ],
      "metadata": {
        "id": "m1m_u11pOGEX"
      }
    },
    {
      "cell_type": "markdown",
      "source": [
        "I have set low max_kead_nodes of decision tree to show the change in result. Tested on different values, the result gets better at more leaf nodes. Random_State can also be changed as per requirements."
      ],
      "metadata": {
        "id": "N91D3BwvOg9f"
      }
    },
    {
      "cell_type": "code",
      "source": [
        "from sklearn import tree\n",
        "from sklearn.metrics import classification_report\n",
        "classifier_tr1=tree.DecisionTreeClassifier(max_leaf_nodes=3, random_state=5)\n",
        "classifier_tr1.fit(x2_train_sc, y2_train)\n",
        "prediction_tr1=classifier_tr1.predict(x2_test_sc)\n",
        "print(\"Prediction Shape is:\")\n",
        "print(prediction_tr1.shape)\n",
        "print(\"F1 Score is\")\n",
        "print(classification_report(y2_test, prediction_tr1))\n",
        "print(\"Claasifier Score of x2train and y2train is\")\n",
        "print(classifier_tr1.score(x2_train_sc,y2_train))\n",
        "print(\"Claasifier Score of xtest and ytest is\")\n",
        "print(classifier_tr1.score(x2_test_sc,y2_test))\n",
        "print(\"Claasifier Score of xtest and prediction is\")\n",
        "print(classifier_tr1.score(x2_test_sc, prediction_tr1))"
      ],
      "metadata": {
        "id": "NGVAwKstOGn-",
        "colab": {
          "base_uri": "https://localhost:8080/"
        },
        "outputId": "1ce7ab5f-8874-4357-d665-d21c4d023d23"
      },
      "execution_count": 49,
      "outputs": [
        {
          "output_type": "stream",
          "name": "stdout",
          "text": [
            "Prediction Shape is:\n",
            "(30112,)\n",
            "F1 Score is\n"
          ]
        },
        {
          "output_type": "stream",
          "name": "stderr",
          "text": [
            "/usr/local/lib/python3.9/dist-packages/sklearn/metrics/_classification.py:1344: UndefinedMetricWarning: Precision and F-score are ill-defined and being set to 0.0 in labels with no predicted samples. Use `zero_division` parameter to control this behavior.\n",
            "  _warn_prf(average, modifier, msg_start, len(result))\n",
            "/usr/local/lib/python3.9/dist-packages/sklearn/metrics/_classification.py:1344: UndefinedMetricWarning: Precision and F-score are ill-defined and being set to 0.0 in labels with no predicted samples. Use `zero_division` parameter to control this behavior.\n",
            "  _warn_prf(average, modifier, msg_start, len(result))\n",
            "/usr/local/lib/python3.9/dist-packages/sklearn/metrics/_classification.py:1344: UndefinedMetricWarning: Precision and F-score are ill-defined and being set to 0.0 in labels with no predicted samples. Use `zero_division` parameter to control this behavior.\n",
            "  _warn_prf(average, modifier, msg_start, len(result))\n"
          ]
        },
        {
          "output_type": "stream",
          "name": "stdout",
          "text": [
            "              precision    recall  f1-score   support\n",
            "\n",
            "       allow       1.00      0.99      1.00      7574\n",
            "        deny       0.00      0.00      0.00      7515\n",
            "        drop       0.94      1.00      0.97      7493\n",
            "  reset-both       0.51      1.00      0.68      7530\n",
            "\n",
            "    accuracy                           0.75     30112\n",
            "   macro avg       0.61      0.75      0.66     30112\n",
            "weighted avg       0.61      0.75      0.66     30112\n",
            "\n",
            "Claasifier Score of x2train and y2train is\n",
            "0.7465213204038257\n",
            "Claasifier Score of xtest and ytest is\n",
            "0.747442879914984\n",
            "Claasifier Score of xtest and prediction is\n",
            "1.0\n"
          ]
        }
      ]
    },
    {
      "cell_type": "markdown",
      "source": [
        "## **RANDOM FOREST MODEL**"
      ],
      "metadata": {
        "id": "c3ONJJwRGiVI"
      }
    },
    {
      "cell_type": "markdown",
      "source": [
        "Hyperparameter Tuning in Random Forest Involves Estimator to be set different. 100 is usually by default value. setting maximum features, Minimum samples split, minimum sample leaf, min impurity decrease. I will be using few of these. "
      ],
      "metadata": {
        "id": "SxeXvfb6QSTO"
      }
    },
    {
      "cell_type": "markdown",
      "source": [
        "### **Random Forest Model on Original Data**"
      ],
      "metadata": {
        "id": "UdFbPMTEGmoz"
      }
    },
    {
      "cell_type": "code",
      "source": [
        "from sklearn.ensemble import RandomForestRegressor\n",
        "RF_model=RandomForestRegressor(n_estimators=100)\n",
        "RF_model.fit(x_train, encoded_y)\n",
        "from sklearn import metrics\n",
        "from sklearn.metrics import accuracy_score\n",
        "from sklearn.metrics import classification_report\n",
        "predictions1=RF_model.predict(x_test)\n",
        "error=metrics.r2_score(encoded_yt, predictions1)\n",
        "print(\"R Squared Error:\" , error)\n",
        "encoded_yt.shape\n",
        "predictions1.shape\n",
        "#y3=np.encoded_yt\n",
        "from sklearn.metrics import r2_score\n",
        "print(r2_score(encoded_yt, predictions1))\n",
        "print(\"F1 Score is\")\n",
        "#print(classification_report(encoded_yt, predictions1))\n",
        "r2_score1=r2_score(encoded_yt, predictions1)\n",
        "print(r2_score)\n",
        "print(\"Claasifier Score of xtrain and ytrain is\")\n",
        "print(RF_model.score(x_train,encoded_y))\n",
        "print(\"Claasifier Score of xtest and ytest is\")\n",
        "print(RF_model.score(x_test,encoded_yt))\n",
        "print(\"Claasifier Score of xtest and prediction is\")\n",
        "print(RF_model.score(x_test, predictions1))"
      ],
      "metadata": {
        "id": "Vc4h6HXSGsMb",
        "colab": {
          "base_uri": "https://localhost:8080/"
        },
        "outputId": "eb8688c0-6222-4934-9684-6bf8c085a6db"
      },
      "execution_count": 50,
      "outputs": [
        {
          "output_type": "stream",
          "name": "stdout",
          "text": [
            "R Squared Error: 0.995275764767684\n",
            "0.995275764767684\n",
            "F1 Score is\n",
            "<function r2_score at 0x7f685ced2040>\n",
            "Claasifier Score of xtrain and ytrain is\n",
            "0.9991030272209213\n",
            "Claasifier Score of xtest and ytest is\n",
            "0.995275764767684\n",
            "Claasifier Score of xtest and prediction is\n",
            "1.0\n"
          ]
        }
      ]
    },
    {
      "cell_type": "markdown",
      "source": [
        "### **Random Forest Model on Original Data (Setting N_Estimators=10)**"
      ],
      "metadata": {
        "id": "5MmrVmxvRBap"
      }
    },
    {
      "cell_type": "code",
      "source": [
        "from sklearn.ensemble import RandomForestRegressor\n",
        "RF_model=RandomForestRegressor(n_estimators=10)\n",
        "RF_model.fit(x_train, encoded_y)\n",
        "from sklearn import metrics\n",
        "from sklearn.metrics import accuracy_score\n",
        "from sklearn.metrics import classification_report\n",
        "predictions1=RF_model.predict(x_test)\n",
        "error=metrics.r2_score(encoded_yt, predictions1)\n",
        "print(\"R Squared Error:\" , error)\n",
        "encoded_yt.shape\n",
        "predictions1.shape\n",
        "#y3=np.encoded_yt\n",
        "from sklearn.metrics import r2_score\n",
        "print(r2_score(encoded_yt, predictions1))\n",
        "print(\"F1 Score is\")\n",
        "#print(classification_report(encoded_yt, predictions1))\n",
        "r2_score1=r2_score(encoded_yt, predictions1)\n",
        "print(r2_score)\n",
        "print(\"Claasifier Score of xtrain and ytrain is\")\n",
        "print(RF_model.score(x_train,encoded_y))\n",
        "print(\"Claasifier Score of xtest and ytest is\")\n",
        "print(RF_model.score(x_test,encoded_yt))\n",
        "print(\"Claasifier Score of xtest and prediction is\")\n",
        "print(RF_model.score(x_test, predictions1))"
      ],
      "metadata": {
        "id": "Lch7HvIvRBn9",
        "colab": {
          "base_uri": "https://localhost:8080/"
        },
        "outputId": "8ccb40b6-53b0-4f29-ff15-5ff61be1b4f7"
      },
      "execution_count": 51,
      "outputs": [
        {
          "output_type": "stream",
          "name": "stdout",
          "text": [
            "R Squared Error: 0.9945512209977694\n",
            "0.9945512209977694\n",
            "F1 Score is\n",
            "<function r2_score at 0x7f685ced2040>\n",
            "Claasifier Score of xtrain and ytrain is\n",
            "0.9989566489841954\n",
            "Claasifier Score of xtest and ytest is\n",
            "0.9945512209977694\n",
            "Claasifier Score of xtest and prediction is\n",
            "1.0\n"
          ]
        }
      ]
    },
    {
      "cell_type": "markdown",
      "source": [
        "### **Random Forest Model on Original Data (Setting N_Estimators=1000)**"
      ],
      "metadata": {
        "id": "1TY9dRZgRR_B"
      }
    },
    {
      "cell_type": "code",
      "source": [
        "from sklearn.ensemble import RandomForestRegressor\n",
        "RF_model=RandomForestRegressor(n_estimators=1000)\n",
        "RF_model.fit(x_train, encoded_y)\n",
        "from sklearn import metrics\n",
        "from sklearn.metrics import accuracy_score\n",
        "from sklearn.metrics import classification_report\n",
        "predictions1=RF_model.predict(x_test)\n",
        "error=metrics.r2_score(encoded_yt, predictions1)\n",
        "print(\"R Squared Error:\" , error)\n",
        "encoded_yt.shape\n",
        "predictions1.shape\n",
        "#y3=np.encoded_yt\n",
        "from sklearn.metrics import r2_score\n",
        "print(r2_score(encoded_yt, predictions1))\n",
        "print(\"F1 Score is\")\n",
        "#print(classification_report(encoded_yt, predictions1))\n",
        "r2_score1=r2_score(encoded_yt, predictions1)\n",
        "print(r2_score)\n",
        "print(\"Claasifier Score of xtrain and ytrain is\")\n",
        "print(RF_model.score(x_train,encoded_y))\n",
        "print(\"Claasifier Score of xtest and ytest is\")\n",
        "print(RF_model.score(x_test,encoded_yt))\n",
        "print(\"Claasifier Score of xtest and prediction is\")\n",
        "print(RF_model.score(x_test, predictions1))"
      ],
      "metadata": {
        "id": "6M_ACgDQRSTc",
        "colab": {
          "base_uri": "https://localhost:8080/"
        },
        "outputId": "bd08c5b8-e99d-4ee5-f2da-27c508908e4a"
      },
      "execution_count": 52,
      "outputs": [
        {
          "output_type": "stream",
          "name": "stdout",
          "text": [
            "R Squared Error: 0.9952620681810246\n",
            "0.9952620681810246\n",
            "F1 Score is\n",
            "<function r2_score at 0x7f685ced2040>\n",
            "Claasifier Score of xtrain and ytrain is\n",
            "0.9991621087076712\n",
            "Claasifier Score of xtest and ytest is\n",
            "0.9952620681810246\n",
            "Claasifier Score of xtest and prediction is\n",
            "1.0\n"
          ]
        }
      ]
    },
    {
      "cell_type": "markdown",
      "source": [
        "### **Random Forest Model on Original Scaled Data (Setting N_Estimators=10)**"
      ],
      "metadata": {
        "id": "sq_ZobSsR51X"
      }
    },
    {
      "cell_type": "code",
      "source": [
        "from sklearn.ensemble import RandomForestRegressor\n",
        "RF_model=RandomForestRegressor(n_estimators=10)\n",
        "RF_model.fit(x_train_sc, encoded_y)\n",
        "from sklearn import metrics\n",
        "from sklearn.metrics import accuracy_score\n",
        "from sklearn.metrics import classification_report\n",
        "predictions1=RF_model.predict(x_test_sc)\n",
        "error=metrics.r2_score(encoded_yt, predictions1)\n",
        "print(\"R Squared Error:\" , error)\n",
        "encoded_yt.shape\n",
        "predictions1.shape\n",
        "#y3=np.encoded_yt\n",
        "from sklearn.metrics import r2_score\n",
        "print(r2_score(encoded_yt, predictions1))\n",
        "print(\"F1 Score is\")\n",
        "#print(classification_report(encoded_yt, predictions1))\n",
        "r2_score1=r2_score(encoded_yt, predictions1)\n",
        "print(r2_score)\n",
        "print(\"Claasifier Score of xtrain and ytrain is\")\n",
        "print(RF_model.score(x_train_sc,encoded_y))\n",
        "print(\"Claasifier Score of xtest and ytest is\")\n",
        "print(RF_model.score(x_test_sc,encoded_yt))\n",
        "print(\"Claasifier Score of xtest and prediction is\")\n",
        "print(RF_model.score(x_test_sc, predictions1))"
      ],
      "metadata": {
        "id": "gMq4skuGR6Am",
        "colab": {
          "base_uri": "https://localhost:8080/"
        },
        "outputId": "7e9f03e0-be17-460d-a32d-f8f335688484"
      },
      "execution_count": 53,
      "outputs": [
        {
          "output_type": "stream",
          "name": "stdout",
          "text": [
            "R Squared Error: 0.993774056162416\n",
            "0.993774056162416\n",
            "F1 Score is\n",
            "<function r2_score at 0x7f685ced2040>\n",
            "Claasifier Score of xtrain and ytrain is\n",
            "0.9989886675176806\n",
            "Claasifier Score of xtest and ytest is\n",
            "0.993774056162416\n",
            "Claasifier Score of xtest and prediction is\n",
            "1.0\n"
          ]
        }
      ]
    },
    {
      "cell_type": "markdown",
      "source": [
        "## **SUPPORT VECTOR MACHINE MODEL**"
      ],
      "metadata": {
        "id": "oHANRtmATDGI"
      }
    },
    {
      "cell_type": "markdown",
      "source": [
        "Hyperparameter Tuning of SVM involve change of Kernel or C value or gamma value etc. Kernal can be set as linear or poly or rbf or sigmoid. Similary C value can be set as C as float number, by default it is 0. and gamma value is by default scale, it can be set as auto or float number. "
      ],
      "metadata": {
        "id": "Eg8aTmcwShUb"
      }
    },
    {
      "cell_type": "markdown",
      "source": [
        "### **SVM Model on Original Data**"
      ],
      "metadata": {
        "id": "TTuIRAZPTHoo"
      }
    },
    {
      "cell_type": "code",
      "source": [
        "from sklearn import svm\n",
        "classifier_sv=svm.SVC(kernel='linear')\n",
        "classifier_sv.fit(x_train, y_train\n",
        "                  )"
      ],
      "metadata": {
        "id": "6gxRk9EkTK-B",
        "colab": {
          "base_uri": "https://localhost:8080/",
          "height": 75
        },
        "outputId": "80948102-20b6-4b5e-abaa-27e73f00f53b"
      },
      "execution_count": 54,
      "outputs": [
        {
          "output_type": "execute_result",
          "data": {
            "text/plain": [
              "SVC(kernel='linear')"
            ],
            "text/html": [
              "<style>#sk-container-id-1 {color: black;background-color: white;}#sk-container-id-1 pre{padding: 0;}#sk-container-id-1 div.sk-toggleable {background-color: white;}#sk-container-id-1 label.sk-toggleable__label {cursor: pointer;display: block;width: 100%;margin-bottom: 0;padding: 0.3em;box-sizing: border-box;text-align: center;}#sk-container-id-1 label.sk-toggleable__label-arrow:before {content: \"▸\";float: left;margin-right: 0.25em;color: #696969;}#sk-container-id-1 label.sk-toggleable__label-arrow:hover:before {color: black;}#sk-container-id-1 div.sk-estimator:hover label.sk-toggleable__label-arrow:before {color: black;}#sk-container-id-1 div.sk-toggleable__content {max-height: 0;max-width: 0;overflow: hidden;text-align: left;background-color: #f0f8ff;}#sk-container-id-1 div.sk-toggleable__content pre {margin: 0.2em;color: black;border-radius: 0.25em;background-color: #f0f8ff;}#sk-container-id-1 input.sk-toggleable__control:checked~div.sk-toggleable__content {max-height: 200px;max-width: 100%;overflow: auto;}#sk-container-id-1 input.sk-toggleable__control:checked~label.sk-toggleable__label-arrow:before {content: \"▾\";}#sk-container-id-1 div.sk-estimator input.sk-toggleable__control:checked~label.sk-toggleable__label {background-color: #d4ebff;}#sk-container-id-1 div.sk-label input.sk-toggleable__control:checked~label.sk-toggleable__label {background-color: #d4ebff;}#sk-container-id-1 input.sk-hidden--visually {border: 0;clip: rect(1px 1px 1px 1px);clip: rect(1px, 1px, 1px, 1px);height: 1px;margin: -1px;overflow: hidden;padding: 0;position: absolute;width: 1px;}#sk-container-id-1 div.sk-estimator {font-family: monospace;background-color: #f0f8ff;border: 1px dotted black;border-radius: 0.25em;box-sizing: border-box;margin-bottom: 0.5em;}#sk-container-id-1 div.sk-estimator:hover {background-color: #d4ebff;}#sk-container-id-1 div.sk-parallel-item::after {content: \"\";width: 100%;border-bottom: 1px solid gray;flex-grow: 1;}#sk-container-id-1 div.sk-label:hover label.sk-toggleable__label {background-color: #d4ebff;}#sk-container-id-1 div.sk-serial::before {content: \"\";position: absolute;border-left: 1px solid gray;box-sizing: border-box;top: 0;bottom: 0;left: 50%;z-index: 0;}#sk-container-id-1 div.sk-serial {display: flex;flex-direction: column;align-items: center;background-color: white;padding-right: 0.2em;padding-left: 0.2em;position: relative;}#sk-container-id-1 div.sk-item {position: relative;z-index: 1;}#sk-container-id-1 div.sk-parallel {display: flex;align-items: stretch;justify-content: center;background-color: white;position: relative;}#sk-container-id-1 div.sk-item::before, #sk-container-id-1 div.sk-parallel-item::before {content: \"\";position: absolute;border-left: 1px solid gray;box-sizing: border-box;top: 0;bottom: 0;left: 50%;z-index: -1;}#sk-container-id-1 div.sk-parallel-item {display: flex;flex-direction: column;z-index: 1;position: relative;background-color: white;}#sk-container-id-1 div.sk-parallel-item:first-child::after {align-self: flex-end;width: 50%;}#sk-container-id-1 div.sk-parallel-item:last-child::after {align-self: flex-start;width: 50%;}#sk-container-id-1 div.sk-parallel-item:only-child::after {width: 0;}#sk-container-id-1 div.sk-dashed-wrapped {border: 1px dashed gray;margin: 0 0.4em 0.5em 0.4em;box-sizing: border-box;padding-bottom: 0.4em;background-color: white;}#sk-container-id-1 div.sk-label label {font-family: monospace;font-weight: bold;display: inline-block;line-height: 1.2em;}#sk-container-id-1 div.sk-label-container {text-align: center;}#sk-container-id-1 div.sk-container {/* jupyter's `normalize.less` sets `[hidden] { display: none; }` but bootstrap.min.css set `[hidden] { display: none !important; }` so we also need the `!important` here to be able to override the default hidden behavior on the sphinx rendered scikit-learn.org. See: https://github.com/scikit-learn/scikit-learn/issues/21755 */display: inline-block !important;position: relative;}#sk-container-id-1 div.sk-text-repr-fallback {display: none;}</style><div id=\"sk-container-id-1\" class=\"sk-top-container\"><div class=\"sk-text-repr-fallback\"><pre>SVC(kernel=&#x27;linear&#x27;)</pre><b>In a Jupyter environment, please rerun this cell to show the HTML representation or trust the notebook. <br />On GitHub, the HTML representation is unable to render, please try loading this page with nbviewer.org.</b></div><div class=\"sk-container\" hidden><div class=\"sk-item\"><div class=\"sk-estimator sk-toggleable\"><input class=\"sk-toggleable__control sk-hidden--visually\" id=\"sk-estimator-id-1\" type=\"checkbox\" checked><label for=\"sk-estimator-id-1\" class=\"sk-toggleable__label sk-toggleable__label-arrow\">SVC</label><div class=\"sk-toggleable__content\"><pre>SVC(kernel=&#x27;linear&#x27;)</pre></div></div></div></div></div>"
            ]
          },
          "metadata": {},
          "execution_count": 54
        }
      ]
    },
    {
      "cell_type": "code",
      "source": [
        "prediction_sv1=classifier_sv.predict(x_test)\n",
        "y_test.shape\n",
        "prediction_sv1.shape\n",
        "print(\"F1 Score is\")\n",
        "print(classification_report(y_test, prediction_sv1))\n",
        "print(\"Claasifier Score of xtrain and ytrain is\")\n",
        "print(classifier_sv.score(x_train,y_train))\n",
        "print(\"Claasifier Score of xtest and ytest is\")\n",
        "print(classifier_sv.score(x_test,y_test))\n",
        "print(\"Claasifier Score of xtest and prediction is\")\n",
        "print(classifier_sv.score(x_test, prediction_sv1))"
      ],
      "metadata": {
        "id": "P8nIz5MTcBWN"
      },
      "execution_count": null,
      "outputs": []
    },
    {
      "cell_type": "markdown",
      "source": [
        "### **SVM Model on SMOTE Data**"
      ],
      "metadata": {
        "id": "uV8Y9NmeUshx"
      }
    },
    {
      "cell_type": "code",
      "source": [
        "from sklearn import svm\n",
        "classifier_sv=svm.SVC(kernel='linear')\n",
        "classifier_sv.fit(x2_train, y2_train)"
      ],
      "metadata": {
        "id": "is2xc-3uVEp-"
      },
      "execution_count": null,
      "outputs": []
    },
    {
      "cell_type": "code",
      "source": [
        "prediction_sv1=classifier_sv.predict(x2_test)\n",
        "y2_test.shape\n",
        "prediction_sv1.shape\n",
        "print(\"F1 Score is\")\n",
        "print(classification_report(y2_test, prediction_sv1))\n",
        "print(\"Claasifier Score of xtrain and ytrain is\")\n",
        "print(classifier_sv.score(x2_train,y2_train))\n",
        "print(\"Claasifier Score of xtest and ytest is\")\n",
        "print(classifier_sv.score(x2_test,y2_test))\n",
        "print(\"Claasifier Score of xtest and prediction is\")\n",
        "print(classifier_sv.score(x2_test, prediction_sv1))"
      ],
      "metadata": {
        "id": "DQlZZ7JRUpR8"
      },
      "execution_count": null,
      "outputs": []
    },
    {
      "cell_type": "markdown",
      "source": [
        "### **SVM Model on Original Scaled Data**"
      ],
      "metadata": {
        "id": "9cxxPoFSUqU0"
      }
    },
    {
      "cell_type": "code",
      "source": [
        "from sklearn import svm\n",
        "classifier_sv=svm.SVC(kernel='linear')\n",
        "classifier_sv.fit(x_train_sc, y_train)"
      ],
      "metadata": {
        "id": "Zh9surYfUqfH"
      },
      "execution_count": null,
      "outputs": []
    },
    {
      "cell_type": "code",
      "source": [
        "prediction_sv1=classifier_sv.predict(x_test_sc)\n",
        "y_test.shape\n",
        "prediction_sv1.shape\n",
        "print(\"F1 Score is\")\n",
        "print(classification_report(y_test, prediction_sv1))\n",
        "print(\"Claasifier Score of xtrain and ytrain is\")\n",
        "print(classifier_sv.score(x_train_sc,y_train))\n",
        "print(\"Claasifier Score of xtest and ytest is\")\n",
        "print(classifier_sv.score(x_test_sc,y_test))\n",
        "print(\"Claasifier Score of xtest and prediction is\")\n",
        "print(classifier_sv.score(x_test_sc, prediction_sv1))"
      ],
      "metadata": {
        "id": "SC7rqRNXVmNT"
      },
      "execution_count": null,
      "outputs": []
    },
    {
      "cell_type": "markdown",
      "source": [
        "### **SVM Model on SMOTE Data and setting Kernal=sigmoid**"
      ],
      "metadata": {
        "id": "Fk-uLkBwUqs-"
      }
    },
    {
      "cell_type": "code",
      "source": [
        "from sklearn import svm\n",
        "classifier_sv=svm.SVC(kernel='sigmoid')\n",
        "classifier_sv.fit(x_train, y_train)"
      ],
      "metadata": {
        "id": "mkldlmRZUq0w"
      },
      "execution_count": null,
      "outputs": []
    },
    {
      "cell_type": "code",
      "source": [
        "prediction_sv1=classifier_sv.predict(x_test)\n",
        "y_test.shape\n",
        "prediction_sv1.shape\n",
        "print(\"F1 Score is\")\n",
        "print(classification_report(y_test, prediction_sv1))\n",
        "print(\"Claasifier Score of xtrain and ytrain is\")\n",
        "print(classifier_sv.score(x_train,y_train))\n",
        "print(\"Claasifier Score of xtest and ytest is\")\n",
        "print(classifier_sv.score(x_test,y_test))\n",
        "print(\"Claasifier Score of xtest and prediction is\")\n",
        "print(classifier_sv.score(x_test, prediction_sv1))"
      ],
      "metadata": {
        "id": "hoP2DG1eWRan"
      },
      "execution_count": null,
      "outputs": []
    },
    {
      "cell_type": "markdown",
      "source": [
        "### **SVM Model on SMOTE Data and setting Kernal=poly**"
      ],
      "metadata": {
        "id": "6g9YNLtrWWIM"
      }
    },
    {
      "cell_type": "code",
      "source": [
        "from sklearn import svm\n",
        "classifier_sv=svm.SVC(kernel='poly')\n",
        "classifier_sv.fit(x_train, y_train)"
      ],
      "metadata": {
        "id": "OfbRLVukWWWp"
      },
      "execution_count": null,
      "outputs": []
    },
    {
      "cell_type": "code",
      "source": [
        "prediction_sv1=classifier_sv.predict(x_test)\n",
        "y_test.shape\n",
        "prediction_sv1.shape\n",
        "print(\"F1 Score is\")\n",
        "print(classification_report(y_test, prediction_sv1))\n",
        "print(\"Claasifier Score of xtrain and ytrain is\")\n",
        "print(classifier_sv.score(x_train,y_train))\n",
        "print(\"Claasifier Score of xtest and ytest is\")\n",
        "print(classifier_sv.score(x_test,y_test))\n",
        "print(\"Claasifier Score of xtest and prediction is\")\n",
        "print(classifier_sv.score(x_test, prediction_sv1))"
      ],
      "metadata": {
        "id": "JG92yY3zWWZ4"
      },
      "execution_count": null,
      "outputs": []
    },
    {
      "cell_type": "markdown",
      "source": [
        "### **EXAMPLE FOR ALLOW DATA**"
      ],
      "metadata": {
        "id": "J2XQ2cuoX3JI"
      }
    },
    {
      "cell_type": "code",
      "source": [
        "example=[[60513, 47094, 45469, 47094, 320, 140, 180, 6, 7,3,3]]\n",
        "scaled_example=scaler.transform(example)\n",
        "print(\"Prediction by KNN Model:\")\n",
        "print(classifier3.predict(example)[0])\n",
        "print(\"Prediction by Logistic Regression Model:\")\n",
        "print(model7.predict(example)[0])\n",
        "print(\"Prediction by Linear Regression Model:\")\n",
        "print(LR2.predict(example)[0])\n",
        "print(\"Prediction by Decision Tree Model:\")\n",
        "print(classifier_tr1.predict(example)[0])\n",
        "print(\"Prediction by Random Forest Model:\")\n",
        "print(RF_model.predict(example)[0])\n",
        "print(\"Prediction by SVM Model:\")\n",
        "print(classifier_sv.predict(example)[0])"
      ],
      "metadata": {
        "id": "8lYkccvUX-Et"
      },
      "execution_count": null,
      "outputs": []
    },
    {
      "cell_type": "code",
      "source": [
        "example=[[60513, 47094, 45469, 47094, 320, 140, 180, 6, 7,3,3]]\n",
        "scaled_example=scaler.transform(example)\n",
        "print(\"Prediction by KNN Model:\")\n",
        "print(classifier3.predict(example)[0])\n",
        "print(\"Prediction by Logistic Regression Model:\")\n",
        "print(model7.predict(example)[0])\n",
        "print(\"Prediction by Linear Regression Model:\")\n",
        "print(LR2.predict(example)[0])\n",
        "print(\"Prediction by Decision Tree Model:\")\n",
        "print(classifier_tr1.predict(example)[0])\n",
        "print(\"Prediction by Random Forest Model:\")\n",
        "print(RF_model.predict(example)[0])\n",
        "print(\"Prediction by SVM Model:\")\n",
        "print(classifier_sv.predict(example)[0])"
      ],
      "metadata": {
        "id": "Jk0vpU0P8TBd"
      },
      "execution_count": null,
      "outputs": []
    },
    {
      "cell_type": "code",
      "source": [
        "example2=[[60513, 47, 0, 0, 320, 140, 1, 0, 1,3,1]]\n",
        "scaled_example2=scaler.transform(example2)\n",
        "print(\"Prediction by KNN Model:\")\n",
        "print(classifier3.predict(example2)[0])\n",
        "print(\"Prediction by Logistic Regression Model:\")\n",
        "print(model7.predict(example2)[0])\n",
        "print(\"Prediction by Linear Regression Model:\")\n",
        "print(LR2.predict(example2)[0])\n",
        "print(\"Prediction by Decision Tree Model:\")\n",
        "print(classifier_tr1.predict(example2)[0])\n",
        "print(\"Prediction by Random Forest Model:\")\n",
        "print(RF_model.predict(example2)[0])\n",
        "print(\"Prediction by SVM Model:\")\n",
        "print(classifier_sv.predict(example2)[0])"
      ],
      "metadata": {
        "id": "GpJUlSoK1MXa"
      },
      "execution_count": null,
      "outputs": []
    },
    {
      "cell_type": "markdown",
      "source": [
        "# **IMPLEMENTING PIPELINE:**"
      ],
      "metadata": {
        "id": "6wcS_ONUZ255"
      }
    },
    {
      "cell_type": "markdown",
      "source": [
        "## **WARNING FILTER**"
      ],
      "metadata": {
        "id": "Y516Gi3GeHC8"
      }
    },
    {
      "cell_type": "code",
      "source": [
        "#Warning Filter,\n",
        "import warnings\n",
        "warnings.filterwarnings(\"ignore\")"
      ],
      "metadata": {
        "id": "YspVN-29Z3Kh"
      },
      "execution_count": null,
      "outputs": []
    },
    {
      "cell_type": "markdown",
      "source": [
        "## **IMPORTING LIBRARIES**"
      ],
      "metadata": {
        "id": "StNqwquSeMu5"
      }
    },
    {
      "cell_type": "code",
      "source": [
        "import numpy as np\n",
        "import pandas as pd\n",
        "import seaborn as sns\n",
        "import matplotlib.pyplot as plt\n",
        "from pandas_profiling import ProfileReport\n",
        "from sklearn.pipeline import Pipeline\n",
        "from sklearn.model_selection import train_test_split\n",
        "from sklearn.preprocessing import StandardScaler\n",
        "import imblearn\n",
        "from collections import Counter\n",
        "from imblearn.over_sampling import SMOTE\n",
        "from imblearn.under_sampling import RandomUnderSampler\n",
        "from imblearn.pipeline import Pipeline\n",
        "from sklearn.linear_model import LinearRegression\n",
        "from sklearn.linear_model import LogisticRegression\n",
        "from sklearn import svm\n",
        "from sklearn.svm import SVC\n",
        "from sklearn import tree\n",
        "from sklearn.tree import DecisionTreeClassifier\n",
        "from sklearn.ensemble import RandomForestRegressor\n",
        "from sklearn.neighbors import KNeighborsClassifier\n",
        "from sklearn.metrics import classification_report\n",
        "from sklearn import preprocessing\n",
        "from sklearn import utils"
      ],
      "metadata": {
        "id": "YLFmw7XAZ_fS"
      },
      "execution_count": null,
      "outputs": []
    },
    {
      "cell_type": "markdown",
      "source": [
        "## **SEGREGATING INPUT & OUTPUT (LABELS)**"
      ],
      "metadata": {
        "id": "qh_EmHmUeS2W"
      }
    },
    {
      "cell_type": "code",
      "source": [
        "x9=df.drop([\"Action\"], axis=1)"
      ],
      "metadata": {
        "id": "shf9CXOgcvgL"
      },
      "execution_count": null,
      "outputs": []
    },
    {
      "cell_type": "code",
      "source": [
        "y9=df[\"Action\"]"
      ],
      "metadata": {
        "id": "WKaCqfYsc42C"
      },
      "execution_count": null,
      "outputs": []
    },
    {
      "cell_type": "markdown",
      "source": [
        "## **SPLITTING DATA INTO TRAIN AND TEST PART**"
      ],
      "metadata": {
        "id": "ciPmv0pueffX"
      }
    },
    {
      "cell_type": "code",
      "source": [
        "x9_train,x9_test, y9_train, y9_test=train_test_split(x9,y9,test_size=0.2, random_state=21)"
      ],
      "metadata": {
        "id": "a378adbEc5a7"
      },
      "execution_count": null,
      "outputs": []
    },
    {
      "cell_type": "markdown",
      "source": [
        "## **LABELING CATEGORICAL DATA INTO NUMERICAL**"
      ],
      "metadata": {
        "id": "eE83Ig9Xeoiu"
      }
    },
    {
      "cell_type": "code",
      "source": [
        "lab_enc=preprocessing.LabelEncoder()\n",
        "encoded_y9_df=lab_enc.fit_transform(y9)\n",
        "encoded_y9=lab_enc.fit_transform(y9_train)\n",
        "encoded_y9t=lab_enc.fit_transform(y9_test)\n",
        "np.set_printoptions(threshold=np.inf)\n",
        "print(encoded_y9)"
      ],
      "metadata": {
        "colab": {
          "base_uri": "https://localhost:8080/"
        },
        "id": "8aRaudJzc-_2",
        "outputId": "24b38cde-7158-44fa-a24a-ae13d8a0e019"
      },
      "execution_count": null,
      "outputs": [
        {
          "output_type": "stream",
          "name": "stdout",
          "text": [
            "[2 1 0 0 0 2 1 0 1 2 0 1 0 0 0 1 2 0 0 0 1 0 1 1 1 1 1 0 0 1 1 0 2 0 0 0 2\n",
            " 0 0 0 0 0 0 1 2 2 0 2 0 0 0 2 2 2 0 2 1 1 2 2 2 0 1 2 0 0 0 2 0 2 0 2 0 0\n",
            " 0 0 2 0 2 2 0 1 1 1 0 0 1 0 1 1 0 0 2 0 2 2 2 2 0 0 0 0 2 1 0 0 1 0 0 2 0\n",
            " 0 1 0 0 0 0 2 0 2 0 0 2 0 2 1 0 2 0 1 0 0 0 1 1 0 0 0 0 1 1 0 0 0 0 2 0 0\n",
            " 0 1 0 0 0 2 0 1 2 0 0 0 1 0 1 1 0 1 0 0 1 0 0 1 1 0 2 1 0 1 0 2 0 1 0 0 2\n",
            " 2 1 0 0 2 1 0 0 0 0 0 0 2 2 2 0 2 0 2 0 0 0 1 0 1 2 0 0 0 0 0 1 1 0 0 2 0\n",
            " 0 1 0 2 0 0 2 1 2 0 0 0 2 2 2 1 0 0 0 0 1 1 0 1 1 1 0 0 0 0 0 0 0 0 1 0 0\n",
            " 0 0 0 1 2 0 0 2 0 0 0 2 0 0 0 0 0 2 0 0 0 0 0 1 0 0 0 0 1 1 0 1 1 1 0 2 0\n",
            " 1 0 1 0 0 0 0 2 1 0 1 0 2 1 1 1 0 0 1 1 1 2 1 0 0 1 0 0 1 0 0 2 1 0 0 2 0\n",
            " 1 0 2 0 1 0 2 0 1 0 1 0 0 1 1 2 2 0 1 2 0 0 2 0 0 0 1 1 0 0 2 1 1 0 1 0 0\n",
            " 0 2 0 2 1 2 0 0 0 1 0 2 0 0 1 0 2 2 2 0 1 0 0 0 1 1 1 1 0 0 0 1 0 1 1 0 1\n",
            " 0 1 1 0 1 2 2 0 0 2 0 0 0 1 2 0 2 2 0 2 0 2 0 2 0 0 1 0 2 1 0 1 0 0 0 0 0\n",
            " 0 2 0 0 0 0 0 1 1 0 0 0 0 0 0 2 1 0 0 1 2 2 0 0 0 0 2 0 1 2 2 0 0 0 0 2 0\n",
            " 0 2 1 1 0 2 2 0 1 1 2 1 1 1 2 2 2 0 2 2 2 0 0 2 1 0 1 2 0 0 0 0 0 2 0 1 0\n",
            " 0 0 2 2 2 0 0 0 2 0 0 2 2 0 0 1 2 0 0 2 0 1 1 0 0 1 0 0 1 2 2 1 1 1 2 0 0\n",
            " 2 0 0 2 1 1 1 1 2 0 1 1 0 0 1 1 0 0 0 0 0 2 1 2 0 0 0 0 1 0 2 1 1 0 0 0 0\n",
            " 2 0 2 1 0 0 0 0 1 1 0 2 2 2 1 0 1 0 0 0 0 0 2 0 1 2 1 0 0 0 0 0 0 0 2 0 0\n",
            " 2 0 0 2 0 1 1 0 1 0 0 0 2 1 0 0 0 0 2 2 2 1 0 0 1 0 2 2 2 1 0 2 0 0 0 0 0\n",
            " 0 0 0 2 0 1 1 0 0 0 0 0 0 2 0 0 1 2 0 2 1 0 2 0 0 0 1 1 2 0 0 2 0 0 0 0 1\n",
            " 0 0 2 1 0 0 0 0 0 0 1 0 0 0 1 2 2 1 0 0 0 0 0 1 1 0 0 0 1 1 0 0 0 0 0 0 2\n",
            " 0 0 1 2 0 0 0 0 2 0 0 0 1 0 0 0 0 0 1 1 1 0 1 1 0 0 0 0 0 2 0 1 2 0 0 2 1\n",
            " 0 1 2 2 0 0 0 0 0 1 1 0 0 0 1 1 2 1 0 0 0 1 0 0 0 0 2 0 0 2 2 0 1 0 2 0 2\n",
            " 2 0 2 0 0 0 1 2 0 0 0 0 0 0 1 0 0 0 0 1 0 0 0 1 0 0 2 1 0 1 1 2 0 0 1 0 0\n",
            " 1 0 1 0 2 1 0 0 1 0 2 0 2 2 0 0 0 2 0 0 0 1 1 0 1 0 2 2 1 0 0 0 1 1 0 0 0\n",
            " 1 0 0 0 0 1 0 0 1 1 0 1 2 1 0 0 1 0 0 0 2 2 0 2 1 2 1 0 1 0 1 1 2 2 2 0 0\n",
            " 0 0 0 2 0 0 1 1 2 0 0 0 0 1 0 1 0 1 0 0 1 0 0 0 0 1 1 2 2 0 0 1 1 0 0 2 0\n",
            " 2 0 0 2 2 0 0 0 0 1 2 1 1 0 1 0 2 1 0 0 0 2 1 2 0 2 1 1 0 0 0 0 1 0 0 0 0\n",
            " 2 0 0 0 0 0 2 2 0 0 2 0 0 0 0 1 1 0 2 1 0 0 0 0 0 0 0 0 1 0 0 2 2 1 0 0 1\n",
            " 2 0 1 0 1 0 1 0 2 0 0 0 0 0 0 0 0 0 2 2 0 2 1 1 0 0 1 0 0 2 2 0 0 0 2 0 1\n",
            " 0 1 0 0 1 0 1 1 2 0 0 0 1 0 0 2 1 1 2 0 0 0 0 0 1 1 0 0 0 0 0 2 2 1 0 2 0\n",
            " 0 0 2 0 2 1 0 0 0 2 1 0 0 1 2 2 2 1 2 2 0 0 2 1 1 1 0 0 0 0 1 0 2 0 2 0 0\n",
            " 0 0 2 0 1 0 0 2 0 1 2 0 1 0 0 0 1 0 0 1 0 0 0 0 0 0 1 0 0 0 0 0 0 1 2 2 0\n",
            " 2 0 0 1 0 0 0 0 1 0 0 2 0 2 0 2 0 0 0 0 0 2 2 0 0 2 0 2 0 1 2 0 0 0 0 0 0\n",
            " 0 0 2 1 1 0 0 2 0 0 1 0 0 0 1 2 2 2 0 2 1 2 1 0 0 1 0 0 0 0 1 0 0 1 0 0 0\n",
            " 0 0 2 0 0 1 0 1 0 1 0 0 1 0 1 1 1 0 0 0 0 0 1 0 0 0 2 2 2 2 1 1 0 0 0 0 2\n",
            " 0 0 0 0 0 2 0 2 0 2 0 0 0 0 1 1 0 0 0 0 1 1 0 0 1 0 0 0 0 0 2 0 0 1 0 0 0\n",
            " 1 0 2 0 1 0 0 0 1 0 2 0 0 1 0 0 1 0 2 1 1 0 2 0 0 2 0 1 2 1 0 1 1 0 1 2 0\n",
            " 2 2 0 0 0 1 1 2 2 1 0 0 0 1 1 1 0 0 2 0 2 0 0 1 0 0 2 2 0 0 2 0 2 0 2 0 0\n",
            " 0 2 1 0 2 0 0 0 1 0 2 2 0 0 1 0 1 0 2 2 0 2 0 0 0 0 1 0 1 2 0 2 0 0 0 1 1\n",
            " 0 2 2 1 0 2 0 0 0 1 1 0 2 0 0 1 2 2 1 0 1 2 0 0 1 0 2 1 0 1 2 0 0 0 2 0 0\n",
            " 0 1 0 2 1 2 1 0 1 0 0 0 0 1 2 0 1 0 1 1 2 1 2 1 1 2 1 0 2 2 0 0 0 1 1 2 0\n",
            " 0 1 0 0 0 1 0 0 1 2 0 2 0 0 0 0 0 0 2 1 1 1 0 1 0 0 0 2 0 0 1 1 2 0 0 1 0\n",
            " 2 0 0 0 0 1 1 1 0 0 0 0 0 0 0 0 1 0 1 1 0 1 0 0 2 0 0 0 2 0 1 0 1 0 1 0 1\n",
            " 1 1 2 0 0 1 1 0 1 0 0 1 1 0 2 2 2 0 2 0 0 1 0 2 0 0 1 0 0 1 1 0 0 0 0 0 2\n",
            " 0 0 0 1 1 2 0 2 2 0 2 0 1 0 0 1 2 1 2 2 0 0 0 1 2 0 0 0 0 1 0 1 0 2 0 2 0\n",
            " 0 0 0 2 1 0 0 0 1 0 0 0 0 0 2 0 1 0 0 0 0 0 1 0 0 0 0 1 0 0 0 0 0 0 0 1 0\n",
            " 0 0 1 0 2 2 0 2 2 2 2 2 0 0 0 2 0 0 0 0 0 0 0 0 0 1 2 0 1 0 1 2 0 2 0 2 0\n",
            " 1 2 0 0 0 0 0 0 1 1 2 0 2 0 0 0 0 0 0 0 0 2 0 1 0 1 0 1 0 0 1 0 0 0 0 0 0\n",
            " 0 0 0 0 1 1 0 1 2 0 2 2 2 0 0 1 2 0 0 1 1 0 1 1 0 0 2 2 0 2 0 2 0 0 2 2 0\n",
            " 0 0 2 1 1 0 0 1 0 1 0 1 0 2 2 1 0 0 0 0 0 2 2 0 0 1 2 0 0 0 0 0 0 0 0 2 0\n",
            " 0 0 0 0 0 0 0 0 0 1 1 0 0 0 0 0 0 2 0 2 0 2 1 0 0 0 2 0 0 1 0 1 1 1 0 2 0\n",
            " 2 0 0 0 2 0 0 0 0 0 2 0 0 0 2 0 2 1 0 2 0 1 2 2 0 0 0 0 0 2 0 0 0 0 1 0 0\n",
            " 0 1 2 0 2 0 0 1 2 2 0 1 0 2 1 0 0 2 0 1 2 2 0 1 0 1 0 0 0 0 0 0 1 0 1 0 1\n",
            " 1 2 0 2 2 0 0 2 0 0 2 0 0 0 0 0 0 0 1 1 0 2 0 0 0 0 2 0 0 0 0 0 2 2 1 1 0\n",
            " 0 0 0 0 1 0 0 1 2 1 0 0 1 1 0 2 0 0 0 0 0 1 1 0 0 1 0 0 1 2 1 0 0 2 0 1 0\n",
            " 0 0 0 0 0 0 0 0 2 0 0 0 0 1 2 0 0 1 1 0 0 2 1 0 0 1 0 0 2 0 0 1 0 0 0 1 0\n",
            " 0 1 0 2 2 2 0 2 1 0 1 0 0 2 0 0 0 0 0 1 0 0 0 0 0 0 1 0 0 0 1 2 0 0 1 0 0\n",
            " 2 1 1 2 0 2 0 1 0 1 1 2 0 0 2 2 0 2 0 0 0 0 0 2 2 0 0 0 0 0 0 2 0 2 0 2 0\n",
            " 0 0 0 1 1 0 1 1 1 0 0 1 2 2 0 0 2 1 0 1 1 2 2 1 1 2 1 1 0 2 0 1 0 0 2 1 0\n",
            " 0 1 0 0 2 2 0 0 1 0 1 1 0 1 0 0 0 2 0 2 0 2 0 1 1 0 0 0 1 0 0 2 0 0 1 0 1\n",
            " 0 0 0 1 0 2 1 2 2 0 2 1 1 0 0 0 0 0 2 0 0 2 1 0 2 0 2 0 0 0 2 0 2 0 0 2 1\n",
            " 0 0 1 0 2 2 0 1 2 0 2 2 0 0 0 0 2 2 1 1 0 1 0 0 0 0 2 1 0 0 0 0 0 0 1 0 0\n",
            " 0 1 1 0 1 1 0 0 0 0 0 1 0 1 1 0 2 2 2 0 1 1 0 0 0 0 0 0 0 1 0 2 2 0 2 0 0\n",
            " 2 1 2 1 1 0 1 0 0 0 0 0 1 0 0 0 0 0 0 1 0 0 0 1 0 0 1 0 1 2 1 2 1 0 1 0 2\n",
            " 0 2 0 0 1 0 0 0 1 0 1 2 0 0 2 0 0 1 0 0 0 1 0 0 0 0 1 2 2 2 0 0 1 1 0 0 1\n",
            " 1 2 2 0 0 2 0 2 0 0 1 0 2 2 2 0 1 2 2 1 2 0 2 1 1 2 2 2 0 0 0 0 0 0 0 1 0\n",
            " 1 0 0 0 0 0 1 0 1 0 1 0 1 1 0 0 0 2 0 0 0 2 2 2 0 0 0 0 1 0 0 2 1 2 0 2 0\n",
            " 0 0 1 0 0 2 0 0 0 0 2 0 0 0 0 0 0 1 0 0 0 0 2 0 0 1 2 2 0 0 1 2 2 0 0 0 0\n",
            " 0 0 2 0 0 0 0 0 0 0 0 0 1 1 2 1 0 1 2 0 1 0 0 0 0 0 0 1 0 0 0 1 1 1 1 0 2\n",
            " 0 0 0 2 0 1 0 0 0 0 0 1 2 1 2 0 2 0 1 0 0 2 0 0 0 1 2 1 0 0 1 0 1 2 0 0 2\n",
            " 0 2 2 1 2 0 1 1 1 0 0 0 2 1 0 0 0 0 0 0 0 2 0 1 2 0 0 0 0 2 0 0 1 0 1 2 0\n",
            " 0 1 2 0 2 2 2 0 1 1 2 1 2 0 0 1 0 1 1 0 0 1 0 1 0 0 2 0 2 0 0 0 0 0 0 2 0\n",
            " 0 2 0 1 0 2 0 0 1 1 0 1 1 0 0 0 0 2 2 0 1 1 0 0 0 0 1 0 0 0 2 0 0 1 0 0 0\n",
            " 0 1 2 2 0 0 0 0 0 0 1 0 1 0 0 0 0 0 0 1 0 0 0 0 0 0 0 1 0 0 0 0 1 0 0 0 2\n",
            " 0 0 0 0 2 1 1 0 2 0 1 0 0 1 0 1 2 0 0 0 0 0 0 0 0 0 2 1 0 2 0 1 1 1 2 2 0\n",
            " 1 0 0 0 1 1 0 0 0 0 0 2 0 1 0 0 0 2 1 0 1 2 1 1 0 0 0 2 0 1 0 0 0 0 0 0 1\n",
            " 0 0 0 2 2 0 2 1 2 1 1 0 1 2 0 0 0 0 0 0 0 1 0 2 0 0 2 2 0 2 0 0 0 0 0 2 0\n",
            " 2 1 0 0 0 0 0 0 1 0 0 1 1 1 1 0 0 0 0 1 1 0 0 0 0 1 1 0 2 0 1 0 0 0 0 0 1\n",
            " 2 0 0 0 0 0 0 0 1 2 2 0 0 0 1 0 1 1 0 0 0 0 0 0 2 0 1 1 2 0 0 0 0 0 0 1 0\n",
            " 0 2 1 2 0 0 2 0 0 2 0 1 0 1 0 0 0 2 1 2 2 2 0 0 0 2 1 0 2 2 0 0 2 2 0 0 1\n",
            " 1 0 0 0 1 0 0 1 2 0 1 1 2 0 1 0 0 1 0 0 2 0 0 0 1 0 0 2 0 0 1 1 0 0 2 1 1\n",
            " 2 0 1 0 0 0 0 0 0 0 2 0 0 0 2 1 2 2 2 0 0 2 0 0 1 0 0 1 0 2 0 0 1 0 1 1 0\n",
            " 0 0 1 1 2 0 0 2 0 0 0 2 0 0 0 0 0 2 1 0 0 2 0 0 2 0 1 1 1 2 0 2 0 2 0 0 0\n",
            " 1 0 1 2 0 0 1 0 0 0 0 0 0 0 0 1 0 2 2 1 0 1 0 2 0 0 2 0 2 0 0 2 2 2 0 0 0\n",
            " 2 1 0 0 0 0 0 0 1 1 2 0 0 1 0 2 2 0 0 0 0 0 0 0 0 0 0 0 0 2 0 1 2 2 1 0 0\n",
            " 1 0 1 0 0 0 0 0 2 1 1 2 1 0 1 2 2 0 0 2 1 0 0 0 0 0 1 0 0 1 0 0 2 0 1 2 0\n",
            " 0 1 2 1 2 0 0 0 2 0 0 2 2 2 2 0 2 1 1 1 0 0 0 2 0 2 1 0 0 2 0 0 0 0 2 2 2\n",
            " 0 0 2 2 2 1 0 0 0 0 0 0 1 0 1 1 1 2 0 0 1 0 2 0 0 0 2 1 0 1 0 0 0 1 2 1 0\n",
            " 1 1 0 0 0 0 1 2 2 1 1 0 0 0 0 0 2 1 0 2 0 0 2 1 2 0 2 0 2 0 0 1 2 0 1 0 0\n",
            " 2 0 1 0 0 0 0 0 0 0 2 0 0 2 1 0 0 1 1 2 2 1 2 0 0 0 0 1 0 0 0 0 1 2 1 0 0\n",
            " 0 0 1 1 0 2 1 0 0 1 0 0 0 1 0 0 0 2 1 2 2 2 0 0 1 0 0 0 0 0 2 0 2 0 0 0 0\n",
            " 0 2 0 0 1 0 2 2 0 0 0 0 0 2 0 1 1 0 0 0 1 0 1 0 2 2 1 0 0 0 0 2 0 0 2 2 0\n",
            " 0 0 2 1 0 1 0 0 0 2 2 0 0 2 0 0 0 2 0 0 1 1 1 0 0 0 0 2 0 0 0 2 0 1 2 0 0\n",
            " 1 1 2 2 1 0 0 0 1 0 2 0 0 0 1 1 0 1 2 1 2 0 1 0 0 0 2 0 2 0 1 0 0 1 1 0 1\n",
            " 0 1 0 1 0 2 1 0 1 2 0 0 0 0 1 0 0 1 0 1 0 0 1 0 1 0 1 0 0 1 2 1 0 0 0 0 0\n",
            " 0 0 2 0 0 2 0 2 2 1 0 0 0 0 0 1 0 0 1 0 1 0 0 0 0 2 0 0 0 0 0 0 1 0 1 0 0\n",
            " 0 2 0 1 0 0 0 2 1 1 1 0 0 0 1 1 0 2 2 0 0 1 2 0 0 0 0 0 1 1 2 0 0 0 2 2 0\n",
            " 1 0 0 1 2 2 1 2 0 0 0 0 0 0 0 0 0 0 2 0 2 0 2 2 1 0 2 1 0 1 0 2 1 0 0 1 1\n",
            " 2 0 1 2 1 2 2 0 0 0 0 0 1 0 0 0 1 0 0 0 0 0 0 0 0 0 0 2 1 1 2 2 1 2 0 1 0\n",
            " 1 1 0 1 1 1 2 0 1 0 1 0 2 1 0 0 0 1 0 0 0 2 1 0 1 0 1 0 2 1 0 0 0 0 0 2 0\n",
            " 1 0 0 0 0 0 2 0 0 1 2 2 0 0 0 0 2 1 0 0 1 1 1 2 0 1 1 0 1 0 0 0 0 2 0 0 0\n",
            " 1 0 2 0 2 2 0 1 0 2 0 0 0 2 0 0 0 2 0 0 0 0 2 2 2 1 0 1 0 0 0 1 0 0 2 0 0\n",
            " 2 0 0 0 0 2 2 1 1 0 1 2 0 0 0 1 0 2 1 0 0 2 2 0 0 1 0 2 0 0 2 0 1 1 0 1 0\n",
            " 0 2 0 2 0 2 0 0 0 1 1 0 1 2 0 0 0 1 0 0 0 0 2 1 0 2 1 2 0 1 0 0 0 0 0 0 0\n",
            " 0 2 0 0 0 2 0 2 0 2 0 0 0 1 1 0 0 1 2 0 0 0 1 0 1 0 1 2 0 0 0 1 0 0 0 2 0\n",
            " 1 1 0 2 1 2 2 0 2 0 2 0 0 0 2 0 0 0 0 0 0 0 0 1 0 0 1 0 0 0 0 1 0 1 2 2 1\n",
            " 2 2 0 0 0 2 1 0 1 0 1 1 1 0 2 0 0 1 0 0 0 0 1 0 0 0 0 2 2 0 0 0 0 0 0 2 2\n",
            " 1 0 0 2 0 0 0 1 2 2 1 2 2 0 1 1 1 2 2 2 0 2 1 0 0 1 1 2 0 2 0 0 1 2 0 1 0\n",
            " 1 2 0 1 0 0 0 1 2 0 0 0 0 2 0 0 2 1 2 2 0 1 2 0 1 1 2 0 0 0 0 0 2 0 2 0 2\n",
            " 0 0 0 0 0 0 0 1 0 2 2 0 0 2 0 0 0 0 1 2 0 1 1 2 0 1 0 1 1 0 0 0 0 0 2 0 2\n",
            " 0 0 0 1 0 2 0 2 0 1 2 0 0 2 0 0 1 2 1 1 1 0 0 2 0 2 1 0 0 0 0 0 0 1 0 1 0\n",
            " 1 0 0 2 0 2 0 2 0 1 2 0 0 0 0 0 0 0 1 1 0 0 0 0 0 0 0 0 1 0 2 0 2 0 1 0 1\n",
            " 2 0 0 0 1 0 0 2 0 0 0 1 1 1 0 2 1 0 0 2 0 0 1 2 1 1 0 1 0 2 0 1 1 1 0 1 2\n",
            " 0 2 0 2 0 2 1 0 0 0 2 2 0 0 2 0 0 1 2 1 2 0 0 0 2 2 0 0 0 0 0 1 1 0 2 2 0\n",
            " 0 0 0 0 1 0 0 0 2 0 2 2 2 0 0 0 0 0 0 2 0 0 1 0 0 2 1 2 0 2 0 2 2 0 1 0 0\n",
            " 0 0 1 0 2 0 0 0 0 1 1 2 0 0 0 1 0 0 0 2 1 0 0 2 0 2 0 2 1 0 1 0 0 2 0 1 0\n",
            " 2 2 0 0 1 0 0 0 0 2 0 0 0 0 2 0 0 1 0 1 0 1 2 0 2 0 0 1 0 0 0 0 0 0 0 0 0\n",
            " 1 0 1 0 1 1 0 0 0 2 0 2 2 0 0 1 1 0 2 0 0 2 1 0 2 1 1 0 0 1 2 0 2 0 0 0 0\n",
            " 0 0 0 2 0 0 0 0 1 1 0 1 1 0 0 0 0 2 0 0 0 1 0 2 1 1 2 0 1 0 1 0 0 2 1 2 0\n",
            " 0 1 0 1 0 1 0 1 0 0 1 2 0 2 0 0 0 0 0 1 0 0 0 2 0 0 1 0 2 0 0 1 2 1 2 0 1\n",
            " 2 0 2 0 0 2 1 0 0 2 0 0 0 2 0 0 0 0 2 2 1 0 0 0 0 0 0 0 0 0 0 0 0 1 0 0 0\n",
            " 0 0 1 0 2 2 2 2 2 0 0 0 0 0 0 0 0 1 0 2 1 0 0 2 2 0 0 1 0 0 1 0 2 0 0 0 0\n",
            " 2 0 1 1 0 0 0 2 1 0 0 1 2 1 1 0 1 2 0 0 0 2 0 0 0 2 0 0 2 0 2 2 1 0 0 0 0\n",
            " 1 0 0 0 0 0 2 0 1 2 1 2 0 1 2 0 1 0 2 0 0 0 1 1 0 1 0 1 0 2 1 1 0 0 0 0 1\n",
            " 0 2 0 0 1 2 1 0 0 1 1 1 0 0 0 0 0 0 0 1 0 0 2 0 0 0 1 2 1 0 0 0 0 1 0 2 0\n",
            " 2 1 1 0 1 0 1 1 2 0 0 0 1 0 0 0 2 2 1 1 0 0 0 1 0 0 1 1 0 2 2 0 0 2 0 1 0\n",
            " 1 1 1 2 1 0 1 0 0 2 0 0 1 2 0 1 0 2 0 0 0 0 0 1 0 0 1 1 0 0 0 0 0 2 1 0 1\n",
            " 1 0 0 1 0 0 1 2 2 0 1 0 0 2 0 0 0 0 0 0 2 0 1 0 2 1 0 0 0 2 1 0 0 0 1 0 0\n",
            " 0 0 0 0 0 1 0 0 2 0 2 0 0 0 1 2 0 0 2 0 0 2 2 0 2 1 0 0 0 2 0 0 1 2 2 2 0\n",
            " 1 0 0 0 0 0 0 0 0 1 1 0 0 0 0 0 2 0 0 0 0 2 2 0 0 0 0 0 0 1 0 0 2 1 0 0 0\n",
            " 0 0 1 0 1 0 2 1 1 0 0 0 1 0 0 1 0 1 0 0 1 2 0 0 2 2 0 2 1 0 0 0 0 2 0 0 0\n",
            " 0 0 2 0 1 2 1 0 0 1 0 0 2 0 2 1 0 0 0 0 1 1 0 1 0 0 0 0 1 0 0 2 0 0 2 0 0\n",
            " 0 1 0 0 2 1 0 1 0 0 0 2 0 1 2 0 2 0 0 0 1 2 1 0 1 1 0 1 0 0 0 1 1 0 0 0 0\n",
            " 2 0 0 1 2 2 0 1 1 0 0 0 2 1 0 2 0 0 0 2 1 2 2 0 0 1 1 0 1 2 0 1 0 2 0 1 1\n",
            " 2 0 2 2 1 1 2 2 2 1 0 0 1 0 0 0 0 2 1 0 0 1 2 1 1 0 0 0 0 0 2 0 0 0 0 0 2\n",
            " 1 2 1 1 2 0 0 0 0 0 1 0 0 1 0 1 0 2 2 0 1 0 0 1 1 2 0 0 0 1 0 0 2 0 1 1 1\n",
            " 2 0 0 0 1 0 0 1 1 0 2 0 0 2 1 1 0 1 2 0 0 1 2 2 1 0 0 0 1 0 2 0 0 0 0 2 0\n",
            " 0 1 2 0 0 0 0 0 1 2 1 0 0 1 0 2 0 0 2 1 2 2 2 0 1 0 0 2 0 1 0 1 0 0 2 0 1\n",
            " 2 0 0 1 1 0 0 0 1 0 0 2 0 0 0 0 0 2 1 2 0 0 0 2 1 2 0 0 2 0 0 2 0 0 0 1 0\n",
            " 0 1 0 0 1 1 0 1 0 0 0 1 0 0 1 0 0 1 0 2 1 0 0 0 0 1 0 1 0 0 1 1 2 0 0 2 2\n",
            " 0 0 2 2 1 1 1 0 0 0 0 0 2 2 0 0 1 1 2 0 0 0 0 1 0 1 0 1 0 1 0 2 2 1 1 1 0\n",
            " 0 0 1 2 1 1 0 0 1 1 0 0 2 2 0 0 1 0 2 0 0 1 0 1 0 1 0 0 2 1 0 0 0 0 0 0 0\n",
            " 0 2 0 0 1 2 0 0 2 1 2 0 1 0 0 0 0 2 0 0 1 0 1 2 1 0 0 2 1 1 2 0 2 0 0 0 1\n",
            " 0 0 0 0 0 0 0 0 1 0 0 0 2 2 2 1 1 0 0 0 0 2 0 0 0 0 2 2 0 0 0 1 2 1 0 1 0\n",
            " 0 2 0 2 0 2 1 0 0 2 0 1 2 1 1 0 1 2 1 1 2 0 0 1 0 0 2 1 0 1 1 0 0 1 0 0 2\n",
            " 0 0 1 1 0 2 0 2 2 1 2 2 0 0 0 0 2 0 0 0 1 0 1 2 2 0 2 0 0 0 0 2 1 1 1 2 0\n",
            " 0 0 0 0 1 0 0 2 1 0 1 2 0 0 1 2 2 1 2 0 0 0 0 0 0 1 0 0 2 1 0 0 1 0 0 0 0\n",
            " 0 0 1 1 0 0 1 2 2 1 0 0 0 0 1 0 1 0 0 0 0 1 2 0 1 1 0 0 0 2 0 1 1 0 0 0 0\n",
            " 0 2 1 0 1 1 0 0 2 2 0 2 1 0 1 0 0 0 0 2 1 0 1 2 2 2 2 2 2 1 0 0 2 0 0 0 0\n",
            " 0 2 1 1 0 2 0 0 1 1 0 1 0 0 0 2 0 2 0 2 0 0 2 0 0 2 0 0 2 0 0 1 0 0 0 0 2\n",
            " 0 0 0 0 2 2 1 0 2 2 0 1 2 1 0 2 0 1 0 2 0 0 0 0 1 0 2 2 0 0 1 0 2 1 0 0 1\n",
            " 0 0 2 0 0 1 0 1 2 0 0 0 0 0 0 1 1 0 0 0 0 1 0 0 0 0 0 0 1 1 2 0 2 2 0 1 0\n",
            " 2 2 1 1 0 1 0 1 0 1 0 0 0 0 1 0 0 0 0 0 2 1 0 0 1 0 0 0 0 2 1 1 0 0 1 0 1\n",
            " 0 0 2 0 0 0 1 0 0 1 2 0 0 2 2 1 1 0 2 0 0 1 0 0 1 2 0 2 2 0 0 0 1 0 0 1 1\n",
            " 2 1 0 2 0 2 1 2 0 1 0 0 0 0 1 0 2 1 2 0 2 0 2 0 0 0 0 0 0 0 0 1 0 0 2 0 0\n",
            " 2 1 0 0 2 0 1 0 0 0 0 0 0 1 0 0 0 0 0 2 0 0 2 0 0 0 0 0 1 0 0 0 2 0 0 2 2\n",
            " 2 0 0 1 0 0 0 0 1 1 0 0 0 0 0 0 2 0 0 0 0 0 2 0 0 0 0 0 0 0 0 0 1 0 0 1 0\n",
            " 1 2 0 2 1 0 0 1 1 0 0 0 1 2 0 0 0 0 0 0 0 0 0 0 0 1 2 1 1 1 0 0 0 0 0 2 0\n",
            " 0 1 0 2 1 1 0 0 0 1 1 0 2 0 0 2 0 1 1 0 2 0 1 1 2 0 0 0 0 1 2 0 0 0 2 0 1\n",
            " 0 0 2 1 2 1 1 0 2 1 0 0 1 0 1 2 1 1 0 1 1 2 0 1 0 0 1 2 2 1 1 2 0 2 0 0 0\n",
            " 2 0 0 2 2 1 2 0 0 0 1 0 0 0 2 2 1 1 2 0 2 0 1 0 1 1 0 0 0 1 0 1 0 0 0 2 0\n",
            " 1 2 0 1 1 2 1 2 2 0 1 1 0 1 0 0 1 0 0 2 2 2 1 0 0 2 0 1 0 0 2 0 0 0 0 0 0\n",
            " 1 0 1 1 0 2 0 1 0 2 0 1 0 0 0 0 0 0 2 0 2 2 0 0 0 0 0 2 0 0 2 0 0 0 0 0 0\n",
            " 1 0 0 2 0 1 1 0 2 1 2 0 0 0 0 0 2 0 2 1 0 0 0 1 0 0 2 2 0 0 2 2 2 0 1 0 0\n",
            " 2 0 0 1 2 0 2 2 2 1 0 1 0 0 0 0 0 1 0 0 0 0 0 2 0 1 2 1 0 2 2 2 0 2 0 1 1\n",
            " 0 0 2 1 0 2 2 0 1 0 0 0 0 0 2 1 2 1 0 2 0 1 1 0 2 2 2 0 0 0 2 0 2 0 1 2 2\n",
            " 0 0 1 2 0 0 0 1 0 0 0 2 1 0 0 1 2 0 0 0 0 0 2 1 1 0 0 0 0 0 1 1 1 0 0 0 1\n",
            " 1 0 0 0 0 0 0 0 0 0 1 0 0 0 1 2 0 1 0 0 1 0 2 0 0 0 1 0 2 1 2 1 2 0 2 0 0\n",
            " 0 1 0 1 1 0 0 2 2 2 2 0 0 2 1 2 0 0 0 0 0 1 0 2 1 2 1 0 0 0 0 2 1 0 2 1 2\n",
            " 0 0 0 2 0 0 0 1 0 2 2 0 2 0 0 0 0 0 2 1 0 0 0 0 2 2 1 0 1 1 0 0 0 0 0 1 1\n",
            " 0 2 2 1 2 2 0 0 0 0 0 0 0 2 0 0 0 1 0 2 2 2 0 1 0 0 1 0 1 2 1 1 0 2 1 2 1\n",
            " 1 1 0 0 0 0 0 0 0 0 1 1 1 0 1 0 1 1 1 0 0 0 0 0 0 0 0 1 0 0 1 1 1 0 2 1 0\n",
            " 0 0 0 2 0 0 0 1 0 0 0 1 1 2 2 0 0 0 1 0 2 1 0 2 2 0 0 0 0 0 0 0 2 0 2 0 0\n",
            " 1 1 2 0 0 0 0 0 2 0 2 0 0 0 0 0 0 1 0 0 0 2 2 0 0 0 0 1 0 0 1 2 0 0 0 1 0\n",
            " 0 1 0 2 0 1 0 0 0 0 0 2 1 0 0 2 2 0 1 1 2 1 0 0 0 1 0 0 0 0 1 0 2 0 0 0 2\n",
            " 0 1 2 0 0 0 0 0 0 1 0 0 0 0 0 0 0 0 2 0 0 2 1 0 0 0 1 1 1 0 0 1 0 1 0 0 1\n",
            " 1 0 0 0 0 0 0 2 1 0 2 0 2 2 0 1 1 2 1 2 2 0 0 0 0 0 2 2 2 0 0 2 0 1 1 0 0\n",
            " 1 0 0 0 0 1 2 0 2 2 0 1 1 0 0 1 0 1 0 2 0 1 2 0 0 0 1 0 1 0 0 2 1 0 0 0 0\n",
            " 1 1 0 0 2 2 0 2 0 0 0 1 0 0 2 0 0 0 2 2 2 1 0 1 0 1 1 2 0 2 0 1 0 0 1 0 0\n",
            " 0 0 2 2 0 0 1 0 0 2 2 1 0 1 2 0 0 1 0 1 0 2 0 0 0 2 0 2 1 0 0 2 0 0 2 0 0\n",
            " 1 0 2 0 2 0 2 2 0 0 2 2 0 1 0 1 0 0 1 0 0 0 1 0 1 0 0 1 1 0 1 0 0 0 2 0 1\n",
            " 0 1 0 0 1 0 2 0 0 1 2 2 2 2 2 0 0 0 0 2 0 0 1 1 1 1 0 2 1 2 0 0 2 0 0 1 0\n",
            " 0 0 0 2 1 0 2 1 1 2 0 1 0 0 1 0 0 2 2 0 1 2 0 0 2 0 1 1 0 2 2 0 0 0 2 0 0\n",
            " 1 2 1 0 0 0 1 2 0 0 1 1 0 0 0 0 0 1 1 0 2 2 0 0 0 0 0 0 2 1 0 1 0 0 1 0 2\n",
            " 0 2 2 0 0 0 0 1 1 2 1 2 1 0 0 0 0 0 1 2 0 1 0 2 2 0 0 1 0 0 0 0 1 0 1 1 0\n",
            " 1 0 2 2 0 1 0 1 1 2 0 0 2 2 2 0 2 0 0 0 2 0 1 0 0 0 2 1 2 0 0 0 0 0 0 2 2\n",
            " 0 1 2 2 0 0 0 1 0 2 0 0 1 0 0 0 1 2 0 0 0 0 0 2 0 1 0 0 0 0 2 0 0 1 1 2 2\n",
            " 2 0 0 0 1 2 1 0 0 2 0 1 1 0 0 0 2 2 0 0 0 0 2 0 2 1 2 0 1 0 0 0 0 0 2 2 1\n",
            " 0 0 0 0 0 1 2 1 0 0 0 0 2 0 2 0 1 1 0 0 0 0 0 1 2 0 2 1 2 0 1 0 0 0 0 0 0\n",
            " 0 1 0 2 0 1 1 0 0 2 2 0 2 0 2 0 0 0 1 0 0 2 0 0 2 0 1 0 0 1 0 0 2 0 0 0 0\n",
            " 1 2 0 2 0 0 0 0 1 0 0 0 0 0 0 2 0 0 0 0 0 2 2 1 2 1 1 1 0 1 1 2 0 1 0 0 1\n",
            " 2 1 1 2 0 1 0 2 1 0 0 1 0 0 0 0 1 2 0 1 0 1 0 0 2 1 2 1 1 1 1 0 0 0 0 2 0\n",
            " 2 1 0 0 0 0 1 0 0 0 0 2 0 0 0 0 0 0 0 2 1 0 0 0 1 0 0 0 0 0 0 0 0 1 0 1 2\n",
            " 0 2 0 0 1 2 0 0 2 0 0 1 2 0 0 0 0 0 2 0 0 1 2 0 1 2 1 0 0 2 0 0 0 0 0 0 1\n",
            " 0 2 1 0 0 0 1 0 2 2 2 0 0 0 1 0 0 1 0 0 0 2 0 1 0 1 1 0 0 2 0 2 0 2 1 2 2\n",
            " 0 0 2 1 0 1 2 2 0 0 0 2 0 2 0 2 0 2 0 1 2 2 0 1 0 1 0 0 2 2 0 2 0 1 0 0 1\n",
            " 0 1 2 0 1 2 2 1 2 2 1 0 2 1 0 1 0 0 0 0 0 2 1 0 0 1 1 0 0 1 1 1 0 0 0 1 0\n",
            " 0 0 2 2 1 0 2 1 0 2 1 0 0 2 2 0 0 0 0 0 0 2 0 0 0 1 0 1 0 2 0 1 0 1 0 0 0\n",
            " 1 1 0 0 0 0 0 2 0 1 2 2 2 0 2 0 2 2 0 2 2 0 0 1 0 1 2 1 0 2 0 0 2 0 1 2 1\n",
            " 0 0 0 1 2 0 0 0 1 2 2 0 0 0 1 0 1 1 1 0 0 0 1 0 0 2 2 0 2 0 2 0 1 0 0 0 1\n",
            " 0 2 0 1 1 0 2 2 1 0 0 1 1 0 1 0 1 0 0 0 0 1 0 0 0 0 0 0 0 0 1 0 0 0 0 2 2\n",
            " 2 0 0 0 1 0 2 1 0 1 1 2 0 0 1 2 0 0 0 1 2 0 2 1 0 0 1 0 1 0 0 2 0 2 1 2 0\n",
            " 1 0 0 0 2 1 0 1 0 2 0 0 0 1 0 2 2 1 0 0 0 0 0 2 1 0 2 1 0 0 0 0 0 0 0 0 0\n",
            " 0 1 0 2 0 2 0 0 0 0 2 1 1 2 0 0 2 0 0 1 0 2 1 0 0 2 0 0 0 0 0 0 0 1 0 2 1\n",
            " 1 0 1 1 2 2 0 2 0 0 1 0 0 0 1 1 0 0 1 2 0 0 0 0 0 0 0 0 2 0 0 1 0 0 2 0 0\n",
            " 2 2 1 0 0 1 0 2 1 0 2 2 0 0 2 1 1 2 0 0 0 2 0 0 0 0 2 0 0 2 1 1 0 1 2 0 0\n",
            " 1 2 0 0 0 0 0 2 1 0 0 0 0 2 1 0 0 1 1 0 0 1 0 0 0 1 1 0 0 0 1 2 2 0 1 0 0\n",
            " 1 1 1 0 2 0 0 2 0 1 0 2 1 0 1 0 0 2 2 0 0 0 0 0 0 0 1 0 0 0 0 0 0 0 0 1 0\n",
            " 1 2 0 0 0 0 0 1 2 0 0 2 1 0 0 0 1 1 1 2 0 0 1 0 0 1 1 2 1 0 0 0 2 0 2 2 0\n",
            " 0 0 0 0 0 0 2 0 1 0 0 0 1 0 0 0 1 0 0 0 2 0 0 1 0 1 0 0 2 1 2 2 0 0 0 2 1\n",
            " 0 0 2 2 0 2 1 2 0 0 0 0 0 2 2 0 0 2 0 1 0 2 0 0 0 0 1 1 0 0 0 0 1 0 0 0 0\n",
            " 0 1 1 0 2 2 2 0 0 1 0 0 0 1 0 2 0 1 2 2 0 0 0 0 0 0 0 0 1 2 0 2 0 0 1 0 0\n",
            " 2 0 2 0 1 2 1 1 0 1 0 0 2 1 0 0 0 0 0 2 0 2 0 0 1 0 1 0 1 0 1 2 1 2 1 1 1\n",
            " 2 1 1 1 1 0 2 0 0 0 1 0 1 0 2 0 0 0 2 0 0 0 2 0 0 0 0 0 0 0 0 2 0 1 0 0 0\n",
            " 0 0 2 2 0 0 0 0 0 0 2 0 0 1 2 2 0 2 0 0 1 0 0 1 2 0 0 1 2 0 0 1 0 2 0 0 3\n",
            " 0 1 0 2 0 0 0 2 2 0 2 0 2 2 2 0 1 2 0 1 0 0 1 0 1 0 1 0 0 2 0 0 1 0 2 0 0\n",
            " 0 0 1 1 0 2 0 0 0 1 0 0 1 0 0 0 2 1 0 2 1 1 2 2 1 1 1 0 0 0 1 0 0 0 0 0 0\n",
            " 2 0 2 0 1 0 1 2 0 0 1 1 1 0 1 0 2 1 0 2 2 0 2 0 0 0 2 1 0 1 2 1 1 2 0 0 0\n",
            " 2 0 0 0 2 1 0 0 0 1 0 0 0 0 0 2 1 0 0 1 2 1 2 0 1 0 0 0 0 0 0 0 0 0 0 2 0\n",
            " 0 0 1 0 2 2 0 0 2 1 0 1 2 1 1 2 1 0 0 0 2 1 2 2 1 0 0 0 0 2 0 2 0 0 0 1 2\n",
            " 0 0 0 0 0 1 0 0 2 2 0 0 0 0 0 0 2 0 0 0 1 2 0 0 0 0 0 0 1 0 0 0 0 2 1 2 1\n",
            " 0 0 0 0 0 0 0 0 0 2 0 1 0 2 2 0 0 1 0 1 0 0 0 0 2 0 0 1 0 1 0 0 2 0 2 0 1\n",
            " 2 0 0 2 2 0 0 0 0 0 2 0 0 0 1 2 0 0 0 0 2 2 2 2 0 0 1 0 1 1 0 2 0 0 0 1 0\n",
            " 0 2 0 1 0 0 1 1 0 1 2 0 2 0 1 2 2 2 0 0 0 0 1 2 0 0 0 0 0 1 0 0 0 1 0 2 0\n",
            " 0 2 1 1 1 0 1 2 0 0 0 0 1 0 0 0 0 2 1 1 0 0 2 2 0 2 0 0 0 0 0 1 0 2 0 1 0\n",
            " 2 0 0 0 0 0 2 1 0 0 0 0 1 0 1 0 0 0 0 2 0 2 0 0 1 0 1 0 2 0 1 0 2 0 0 1 1\n",
            " 1 0 0 0 0 0 1 0 1 1 0 2 2 0 0 0 2 0 0 2 1 0 0 0 1 0 1 1 0 0 0 0 1 0 0 0 0\n",
            " 1 0 0 0 0 0 2 1 0 0 0 1 0 1 2 2 2 0 1 0 0 0 0 0 0 0 0 0 2 2 0 0 0 0 0 0 0\n",
            " 2 0 2 0 0 0 1 2 1 0 0 1 0 0 0 0 0 1 2 0 1 0 0 0 0 1 0 0 1 1 2 2 2 1 2 0 0\n",
            " 0 0 1 1 0 2 2 0 0 2 2 1 2 2 0 1 0 0 0 1 1 0 2 0 0 1 0 0 0 0 0 0 2 0 1 0 0\n",
            " 0 2 0 0 0 0 0 1 0 0 0 2 0 0 2 2 0 0 0 2 0 2 2 1 0 0 0 0 0 0 1 0 2 0 0 1 0\n",
            " 0 0 0 0 0 1 0 0 0 1 0 1 0 0 1 2 0 1 0 0 0 0 0 1 0 0 0 0 0 1 1 2 0 0 0 0 1\n",
            " 0 0 0 2 0 0 1 2 0 0 2 0 0 0 2 0 2 1 2 2 0 0 1 0 0 1 0 2 0 0 2 0 0 0 1 0 1\n",
            " 1 2 0 0 0 0 2 1 0 0 2 2 0 0 0 0 0 0 0 0 1 2 2 0 1 1 2 0 0 0 0 1 2 0 0 2 0\n",
            " 1 0 0 1 1 0 0 0 0 0 0 1 0 0 2 2 0 0 0 0 0 1 0 1 1 1 0 1 1 0 0 1 0 0 1 0 1\n",
            " 0 0 1 0 1 2 0 0 0 1 0 0 2 2 2 1 0 0 1 0 0 1 0 0 0 2 2 2 2 1 0 0 0 0 0 0 0\n",
            " 2 0 0 1 2 2 0 1 0 0 0 0 0 2 1 0 0 0 1 1 2 1 0 2 1 1 1 0 0 2 2 1 0 0 0 2 0\n",
            " 1 0 0 0 2 2 1 0 0 0 1 1 1 0 0 0 0 0 0 1 1 0 0 1 0 0 0 0 2 1 0 0 0 0 1 2 0\n",
            " 1 2 2 0 1 2 0 1 0 0 1 0 0 1 0 0 1 1 1 0 2 1 1 0 1 0 2 0 0 0 1 0 0 0 1 1 1\n",
            " 0 2 1 0 1 1 2 1 0 0 0 0 2 0 0 1 0 0 2 1 0 1 0 0 0 0 1 2 0 0 0 0 0 0 1 0 0\n",
            " 2 0 2 2 0 1 1 2 1 0 1 2 0 0 1 0 0 0 0 0 0 2 2 0 2 0 0 2 0 0 2 0 0 2 0 1 2\n",
            " 0 1 1 2 2 0 0 0 0 2 2 2 0 0 2 0 2 0 2 1 1 0 0 0 0 0 0 0 1 1 2 1 0 0 0 2 0\n",
            " 1 1 1 0 0 1 0 0 0 2 0 2 2 0 0 0 0 0 0 0 0 0 0 0 2 1 0 1 2 0 1 1 0 0 0 0 0\n",
            " 0 0 2 1 2 0 2 2 0 2 0 0 0 1 0 0 0 2 0 2 1 1 1 0 1 0 0 2 0 0 0 1 0 1 0 0 2\n",
            " 0 1 1 0 1 0 0 2 2 0 0 1 0 1 0 1 0 2 1 2 0 0 0 0 0 1 2 1 0 0 0 0 0 0 1 0 0\n",
            " 1 2 0 2 1 0 0 0 0 0 2 0 0 0 1 0 2 0 0 0 0 1 2 0 2 0 2 0 0 0 0 1 1 1 0 0 0\n",
            " 0 1 0 1 0 0 0 2 1 0 0 0 0 0 0 0 0 0 1 0 0 1 2 0 2 0 0 2 0 1 0 0 2 0 0 2 2\n",
            " 1 0 0 0 0 2 0 0 0 2 0 1 0 0 2 2 0 0 0 0 0 1 0 0 0 0 0 2 1 0 0 0 0 0 0 1 0\n",
            " 1 2 1 1 0 0 0 0 0 1 1 0 1 1 0 0 0 2 0 0 1 0 0 2 1 1 1 0 0 1 0 0 0 1 0 2 0\n",
            " 0 1 1 0 0 1 0 0 0 0 0 2 0 0 1 2 0 0 0 0 1 0 0 0 0 2 0 0 1 2 2 1 1 0 0 1 0\n",
            " 2 0 2 0 1 2 0 0 2 0 1 1 0 1 0 0 0 0 0 0 2 0 2 1 2 0 1 2 0 1 2 0 1 0 0 0 0\n",
            " 2 0 1 0 0 0 0 2 0 0 0 0 2 1 2 0 2 0 2 1 0 0 0 2 1 0 0 0 0 0 1 0 0 1 2 1 0\n",
            " 1 0 1 0 1 0 1 0 0 2 2 2 2 0 1 1 1 2 0 2 0 0 0 1 1 1 0 2 0 0 0 1 1 2 0 0 0\n",
            " 0 0 0 0 0 0 0 0 2 1 0 1 2 0 0 0 1 0 0 2 0 0 2 0 1 1 1 0 0 0 0 0 1 1 1 2 0\n",
            " 0 2 0 2 0 0 0 1 0 2 0 1 0 0 0 0 2 2 0 2 1 1 0 1 0 0 0 0 0 0 0 2 0 0 1 0 0\n",
            " 1 2 0 2 0 0 0 0 1 0 0 0 0 0 0 0 0 0 0 0 1 0 0 0 0 0 0 2 0 0 0 0 1 1 0 0 1\n",
            " 0 0 2 0 2 0 2 1 2 1 2 0 0 1 1 2 0 1 0 0 0 0 0 2 0 1 0 1 2 0 2 0 1 2 2 0 0\n",
            " 2 2 1 1 1 2 2 2 0 0 0 2 1 2 0 0 2 2 1 0 2 0 2 2 0 0 1 2 0 1 2 0 2 0 0 0 0\n",
            " 0 1 0 0 0 1 1 0 2 0 2 1 2 0 0 2 0 1 0 2 0 0 0 0 0 0 2 0 0 1 0 0 0 0 0 2 1\n",
            " 1 0 0 0 0 0 2 2 1 1 2 1 1 1 0 1 0 1 0 2 0 0 0 0 1 0 1 0 0 0 0 0 0 1 0 1 1\n",
            " 0 0 0 1 0 1 0 1 0 0 2 2 1 1 0 2 0 0 0 2 1 2 0 1 0 2 0 1 0 2 0 2 0 2 0 2 0\n",
            " 2 0 0 0 2 0 2 0 1 0 0 2 2 1 1 1 1 0 0 1 2 1 2 0 0 1 0 0 0 0 0 2 0 0 2 1 2\n",
            " 0 0 0 1 2 0 0 0 2 1 2 2 1 0 0 2 2 1 0 1 0 1 2 0 1 0 0 0 2 2 0 1 2 2 1 1 0\n",
            " 1 1 0 1 2 0 0 0 0 2 0 0 0 1 0 2 2 2 1 1 1 0 0 0 0 1 1 0 1 2 2 2 1 0 0 0 1\n",
            " 0 0 0 0 1 1 0 0 0 1 0 1 0 1 0 0 1 2 1 0 0 1 0 0 0 0 2 0 0 0 0 1 2 0 0 0 0\n",
            " 2 0 0 1 2 0 0 0 0 0 1 0 2 0 0 0 1 2 0 0 2 1 0 1 0 1 0 0 0 1 1 1 2 0 2 1 1\n",
            " 1 0 0 0 0 0 1 2 2 2 0 0 0 0 0 0 0 1 1 0 2 1 1 0 0 2 2 2 0 0 1 1 0 2 2 2 1\n",
            " 0 0 1 0 2 0 0 2 0 0 2 2 1 1 1 0 2 0 1 0 2 0 0 2 0 2 1 2 1 1 1 0 0 2 0 0 2\n",
            " 1 0 0 0 0 0 0 1 2 0 0 1 0 0 2 2 0 0 2 2 3 1 2 0 0 0 0 1 0 2 1 1 0 0 0 2 0\n",
            " 2 1 1 0 0 0 2 0 0 2 2 0 0 0 2 2 0 0 0 0 0 2 0 1 2 0 1 1 0 0 0 2 0 1 1 1 0\n",
            " 2 0 0 0 1 0 0 0 0 0 0 0 0 2 1 0 0 0 0 2 0 0 0 2 0 1 1 0 1 0 0 1 0 0 0 1 1\n",
            " 1 2 2 0 0 0 0 1 0 0 0 0 1 2 0 0 0 0 1 0 0 0 0 2 1 0 1 1 0 0 0 1 0 0 0 0 0\n",
            " 0 2 2 1 0 0 1 0 0 0 2 1 0 0 0 0 1 2 0 0 0 1 2 2 0 0 1 1 0 3 0 0 2 2 0 1 0\n",
            " 0 0 1 2 0 0 0 0 0 0 0 0 1 2 1 0 0 2 2 0 0 2 1 2 1 1 0 1 1 0 1 2 0 0 2 0 0\n",
            " 0 2 2 1 1 0 2 2 1 0 0 0 1 0 2 1 0 0 0 1 0 0 0 0 0 0 0 0 2 0 0 1 2 0 1 0 1\n",
            " 0 1 1 0 0 0 0 2 0 0 2 0 0 0 0 0 2 1 1 0 0 1 0 0 0 1 0 1 2 1 1 0 0 0 0 0 2\n",
            " 1 1 0 2 0 2 1 0 0 2 1 0 0 0 2 0 1 0 1 0 2 0 0 2 0 0 0 1 0 0 2 0 0 1 0 0 0\n",
            " 0 2 2 0 0 0 2 0 0 0 0 0 0 1 0 1 1 0 0 0 1 1 0 1 0 1 0 2 0 1 1 1 0 0 2 0 2\n",
            " 1 0 2 0 2 0 0 1 0 0 0 1 0 0 2 1 2 0 0 0 0 1 1 0 1 2 1 1 0 2 0 1 0 1 0 2 1\n",
            " 2 2 0 0 0 0 1 2 0 0 0 0 1 1 0 0 0 0 0 0 1 2 2 0 0 0 0 2 0 2 2 1 0 0 0 0 0\n",
            " 0 0 0 2 2 0 0 0 0 0 0 0 0 0 2 0 0 1 0 0 2 0 0 2 2 0 0 0 0 1 0 1 0 0 0 0 1\n",
            " 1 0 1 2 1 0 0 0 1 0 0 0 1 0 0 1 2 1 0 2 0 1 2 1 1 0 2 0 0 1 0 0 0 0 2 0 0\n",
            " 0 0 0 1 1 0 0 0 1 2 2 0 1 2 0 0 1 0 0 0 0 0 0 0 2 0 0 2 0 0 0 2 1 1 0 1 0\n",
            " 0 0 1 2 0 2 0 0 2 0 0 2 1 0 0 0 0 2 0 2 0 0 2 1 0 2 2 0 0 1 2 0 1 0 2 2 2\n",
            " 0 0 1 0 1 2 0 2 1 1 0 0 1 2 0 1 1 0 0 1 0 1 0 0 2 0 2 0 1 1 1 0 1 0 0 2 0\n",
            " 1 0 0 2 0 0 0 0 1 2 0 0 0 1 2 0 0 0 1 2 0 1 0 2 1 0 2 1 0 0 2 0 0 2 2 2 1\n",
            " 0 1 0 0 0 1 0 2 0 0 1 0 0 0 1 0 2 1 0 1 0 1 0 0 0 2 0 1 0 1 0 0 2 1 2 1 0\n",
            " 2 0 0 0 2 1 1 2 0 1 0 0 2 0 2 1 0 2 0 0 0 1 1 0 1 1 0 0 0 1 1 1 0 0 0 0 0\n",
            " 0 0 0 2 2 1 0 0 2 0 0 0 0 0 2 1 0 0 0 0 0 0 0 2 0 0 1 0 1 2 0 0 1 0 0 0 2\n",
            " 0 2 0 0 0 2 0 0 0 2 1 0 0 0 1 0 0 0 0 1 0 0 0 1 0 0 0 0 1 2 0 1 2 0 0 1 1\n",
            " 0 2 2 0 0 2 0 1 1 1 0 2 0 0 0 0 0 2 0 0 0 0 0 1 0 1 0 0 2 2 0 2 1 1 0 0 0\n",
            " 0 0 0 1 0 0 1 0 0 0 2 0 2 1 0 1 1 1 0 0 0 2 1 0 1 0 2 2 2 0 0 0 0 0 2 2 1\n",
            " 0 1 2 0 0 0 0 0 1 0 0 1 0 0 1 0 2 0 0 0 1 2 0 1 2 1 0 2 0 0 2 2 0 2 2 0 0\n",
            " 1 2 2 2 1 0 1 0 0 2 1 0 2 2 1 0 0 0 1 0 1 0 0 2 1 0 0 0 2 1 0 0 2 0 2 0 0\n",
            " 0 0 0 1 0 0 1 0 0 0 0 0 1 1 0 0 1 1 0 0 0 0 1 0 0 1 2 0 2 0 0 2 0 1 1 0 2\n",
            " 0 0 1 0 2 0 0 1 0 1 0 1 0 0 2 2 2 2 1 0 1 1 0 1 0 0 0 0 0 2 2 1 2 2 0 2 0\n",
            " 1 1 0 0 0 1 2 1 1 2 0 1 0 2 0 0 0 0 0 0 0 1 0 0 0 1 0 1 1 0 2 1 0 1 0 0 2\n",
            " 0 2 0 1 0 1 0 0 0 0 0 0 0 0 2 0 0 0 1 1 1 0 1 2 0 2 0 0 0 0 2 1 0 0 0 0 0\n",
            " 0 2 0 0 0 2 0 0 0 1 0 0 2 0 0 2 0 0 1 0 1 0 0 0 2 1 0 0 2 0 0 1 2 2 1 1 0\n",
            " 0 0 0 0 0 2 0 0 0 1 0 2 1 1 0 0 2 0 0 0 1 1 1 2 1 0 0 0 0 1 2 1 0 2 0 0 0\n",
            " 0 1 0 0 0 0 2 0 2 1 0 0 0 0 0 1 0 0 1 2 0 1 0 0 0 1 0 0 0 2 0 0 1 0 2 0 1\n",
            " 0 0 0 0 0 0 0 0 1 0 0 0 0 0 2 0 2 0 0 2 1 1 0 1 2 1 1 2 2 1 1 0 0 1 0 0 0\n",
            " 0 2 0 0 0 2 0 2 1 0 2 2 0 1 0 1 0 0 2 0 1 2 1 1 0 0 0 0 0 0 0 0 0 2 1 0 1\n",
            " 0 0 0 1 2 0 0 0 2 0 1 0 0 2 0 1 1 1 0 1 0 2 1 2 2 0 2 2 0 0 0 1 0 0 0 0 0\n",
            " 0 0 0 0 2 2 1 1 0 1 0 0 2 0 0 0 0 0 2 0 0 2 0 0 0 1 1 0 0 0 0 0 1 0 1 2 0\n",
            " 0 1 2 0 0 0 1 1 2 0 0 1 0 0 0 0 2 0 0 1 0 1 0 0 0 0 1 1 0 0 2 0 0 1 1 0 2\n",
            " 0 0 1 1 0 1 0 0 2 0 2 2 1 2 2 0 0 2 0 0 1 0 0 0 1 0 2 0 1 2 2 1 2 0 0 0 0\n",
            " 0 1 0 0 0 2 0 1 1 0 0 2 1 2 0 0 0 1 0 0 0 0 0 0 0 0 2 0 1 2 1 0 2 2 0 1 0\n",
            " 1 0 0 1 0 1 0 2 0 0 0 0 0 0 0 0 0 1 0 0 0 0 0 2 0 0 0 0 0 0 0 0 0 0 0 0 1\n",
            " 1 0 2 0 0 1 1 1 1 0 1 0 1 0 0 0 0 2 0 0 0 1 2 0 0 1 0 1 0 0 0 0 1 2 0 0 0\n",
            " 0 1 2 0 1 0 0 0 2 1 0 0 0 1 0 1 1 0 0 1 2 1 0 2 2 2 0 2 0 0 0 1 0 0 0 0 2\n",
            " 0 2 0 1 0 2 1 0 0 1 0 0 0 0 1 0 1 0 1 0 0 0 2 1 1 0 0 0 1 2 0 2 2 1 0 0 0\n",
            " 0 0 1 0 1 2 0 1 2 0 0 1 2 1 0 1 1 0 0 0 0 0 2 0 0 0 0 0 1 0 2 0 0 0 0 0 0\n",
            " 1 2 0 1 1 2 0 1 1 0 0 1 0 0 0 1 1 0 2 2 0 2 0 1 0 2 2 0 0 1 0 0 0 2 0 2 1\n",
            " 2 0 0 0 0 1 0 2 2 1 0 2 0 0 0 0 2 0 1 1 0 0 0 0 1 2 0 0 0 0 0 0 0 1 0 0 0\n",
            " 2 0 0 0 0 0 0 0 0 2 1 1 0 1 1 0 1 1 1 2 0 0 1 1 2 0 2 1 0 1 0 0 1 0 2 0 1\n",
            " 0 0 1 0 0 0 1 0 0 1 0 1 1 1 0 0 0 0 0 1 2 2 2 1 0 0 0 0 1 1 0 0 1 1 0 2 0\n",
            " 0 2 0 0 2 0 0 0 0 0 0 1 1 0 0 2 0 1 1 2 1 0 2 0 2 1 2 0 0 2 0 1 1 1 0 0 0\n",
            " 2 1 1 0 1 0 0 2 1 0 2 2 1 2 0 0 0 0 0 0 1 1 0 1 0 2 0 0 0 0 1 0 0 0 2 2 2\n",
            " 0 2 0 2 2 0 1 1 0 0 2 0 1 2 1 1 0 2 2 0 1 0 2 2 0 2 1 0 2 1 0 1 0 1 0 1 0\n",
            " 0 0 0 0 2 0 2 1 0 1 1 0 0 1 0 0 0 0 0 0 1 0 0 0 0 0 0 2 0 0 0 0 0 2 0 0 0\n",
            " 0 0 2 0 2 2 0 0 0 0 2 0 2 2 0 0 0 0 0 2 1 2 0 0 1 1 0 1 0 2 1 0 2 0 0 2 0\n",
            " 2 2 0 0 2 0 2 1 1 1 2 0 0 2 2 0 2 0 0 0 1 0 0 0 0 0 0 0 0 0 0 0 0 0 0 1 2\n",
            " 1 2 0 2 0 0 1 2 0 1 0 2 0 0 0 2 0 0 2 0 1 0 2 2 0 0 0 0 1 1 0 2 0 0 0 2 0\n",
            " 0 1 1 0 0 1 0 1 0 0 0 1 0 0 1 0 1 0 0 2 2 0 1 1 1 0 0 0 0 0 2 0 1 1 0 0 0\n",
            " 1 0 2 1 2 0 0 0 1 1 0 1 2 2 1 2 0 1 2 2 2 0 1 0 0 0 0 1 1 0 2 1 0 0 1 1 0\n",
            " 0 0 0 0 1 0 2 0 0 0 0 0 0 0 0 0 2 0 0 1 2 0 0 0 1 2 0 1 2 1 2 0 0 1 1 1 1\n",
            " 0 0 2 0 2 1 0 1 0 2 1 0 0 0 1 0 1 2 1 0 0 0 2 0 1 0 2 2 0 2 0 0 0 0 2 0 0\n",
            " 0 0 2 0 0 2 0 0 0 1 0 0 0 0 0 1 0 2 0 0 2 1 0 2 2 1 0 1 2 0 0 0 1 2 0 2 0\n",
            " 0 2 0 0 0 0 0 0 2 0 0 1 1 0 0 1 0 0 2 1 1 1 0 1 1 1 0 0 0 0 2 0 0 2 0 0 2\n",
            " 0 1 0 0 2 0 2 0 0 2 0 1 2 2 0 1 1 0 0 2 0 0 1 2 1 1 0 0 0 0 1 0 0 1 2 2 1\n",
            " 0 0 1 0 1 0 0 1 0 1 0 2 2 0 1 0 1 0 0 0 0 1 0 2 2 0 0 2 0 0 1 1 1 0 1 0 0\n",
            " 0 0 0 0 2 2 0 0 0 0 1 1 0 0 0 2 0 2 0 1 1 0 0 0 2 1 0 0 0 0 0 0 1 0 2 0 2\n",
            " 2 0 2 1 0 1 1 0 0 0 2 0 0 0 2 1 1 1 0 1 0 0 1 0 0 0 2 1 0 0 1 0 2 0 2 1 0\n",
            " 0 0 2 1 0 1 0 0 0 0 0 0 1 0 1 2 2 0 2 0 0 1 2 0 1 2 1 1 0 1 2 0 1 0 0 1 0\n",
            " 2 0 1 2 0 0 0 2 0 0 2 1 0 0 0 0 1 1 0 0 0 0 2 0 0 0 0 0 0 1 1 2 1 0 0 0 0\n",
            " 1 0 0 0 0 2 2 0 0 1 2 0 2 1 0 0 0 0 0 2 1 0 1 1 1 1 0 0 2 1 0 0 0 1 0 2 1\n",
            " 0 0 1 0 1 1 1 0 0 0 2 1 0 2 2 0 0 2 0 0 2 0 0 1 2 0 0 0 1 2 0 0 0 0 0 0 0\n",
            " 1 0 1 0 0 1 1 2 2 0 0 0 0 0 1 0 0 0 1 0 2 0 1 1 0 0 2 0 0 1 1 1 0 2 0 0 0\n",
            " 2 0 1 0 1 1 0 0 2 0 0 0 0 2 0 1 2 0 2 0 1 0 0 0 2 2 0 0 2 1 1 1 0 0 0 0 0\n",
            " 0 0 0 0 0 0 0 0 1 1 0 1 0 0 1 1 2 2 1 0 2 1 0 0 0 0 0 0 0 2 0 0 0 0 0 0 2\n",
            " 2 0 2 1 2 0 0 1 0 0 2 0 1 0 0 0 0 2 0 2 0 1 0 0 0 2 0 1 0 0 0 0 0 2 0 0 2\n",
            " 2 0 0 2 1 0 2 1 1 1 0 0 2 0 0 0 1 0 0 0 0 1 1 0 0 0 2 0 0 0 0 2 1 1 2 0 1\n",
            " 1 1 1 1 0 2 2 2 0 0 2 0 0 1 0 1 1 0 1 0 0 0 0 0 2 0 1 1 0 0 2 2 1 0 0 0 0\n",
            " 2 0 0 0 0 2 2 1 2 0 1 1 1 0 0 0 2 0 0 0 1 0 1 0 0 0 0 0 2 1 0 0 2 1 1 1 0\n",
            " 1 0 1 0 2 0 1 2 0 1 0 0 2 0 1 0 0 0 0 0 0 0 0 1 1 1 2 2 0 0 2 0 1 0 2 0 2\n",
            " 2 2 0 0 0 0 2 1 0 0 0 0 0 0 1 0 0 0 1 2 0 1 1 1 1 1 0 0 1 0 2 2 0 1 0 2 0\n",
            " 1 0 0 0 1 1 0 0 2 1 1 0 1 1 0 0 0 0 0 2 1 0 0 1 0 0 0 0 0 0 1 1 0 0 1 2 0\n",
            " 0 0 0 0 0 0 0 2 2 0 2 0 0 1 1 0 1 0 0 1 0 0 2 0 0 0 0 0 0 0 2 0 0 2 2 0 2\n",
            " 2 1 0 1 2 0 1 0 2 0 1 1 0 0 0 0 2 0 2 0 0 0 2 1 0 1 1 2 1 2 1 0 2 0 0 0 1\n",
            " 0 0 1 0 0 0 0 1 0 1 1 0 0 0 0 0 0 0 1 0 2 0 0 2 0 2 0 2 1 2 0 2 1 2 0 0 2\n",
            " 2 2 2 0 0 0 0 0 1 1 2 0 1 1 0 0 0 0 0 2 1 0 0 0 1 1 0 0 0 0 2 1 1 0 1 0 1\n",
            " 2 0 0 0 1 0 0 1 0 2 0 0 2 0 1 0 0 0 1 1 0 1 0 0 0 0 0 0 0 2 1 0 1 1 0 0 2\n",
            " 0 2 0 2 0 0 0 2 0 1 1 1 1 1 1 1 0 2 0 0 2 0 2 1 0 0 0 0 1 1 0 2 1 0 2 0 0\n",
            " 0 2 0 0 1 0 2 2 0 2 0 1 0 2 1 1 1 1 0 2 0 1 1 1 2 0 0 0 0 1 1 1 0 0 0 0 0\n",
            " 0 0 1 1 2 0 0 1 2 0 0 0 0 0 0 2 2 0 0 2 2 1 0 0 0 1 0 0 0 0 0 0 1 0 0 0 0\n",
            " 0 0 1 0 0 0 0 2 0 2 0 0 2 2 1 0 2 1 2 0 1 1 0 0 0 0 1 1 0 1 0 0 0 0 2 0 0\n",
            " 0 2 2 0 0 0 0 0 1 0 0 0 0 0 1 1 1 2 1 0 2 2 1 0 0 0 0 0 2 0 0 0 2 0 0 1 0\n",
            " 0 0 2 0 0 1 0 0 0 2 1 1 1 0 2 0 1 2 0 0 0 1 0 0 0 0 2 2 2 0 1 2 1 0 0 1 0\n",
            " 2 0 0 0 1 2 0 1 1 0 1 0 0 0 0 0 0 2 2 0 0 0 1 0 0 0 0 2 1 0 0 0 0 1 2 0 0\n",
            " 0 0 2 0 1 0 1 0 0 0 0 0 0 0 0 0 1 0 0 0 1 2 2 0 1 1 2 0 0 1 0 0 2 0 0 0 0\n",
            " 2 1 0 2 2 2 2 0 0 0 2 1 0 0 0 1 0 0 0 2 0 1 0 0 2 1 0 1 2 0 1 1 0 1 0 0 2\n",
            " 0 0 0 1 1 2 0 0 0 0 0 1 0 1 0 0 0 0 1 0 0 1 0 2 0 2 0 2 2 2 1 2 0 1 0 2 1\n",
            " 2 0 0 0 0 2 0 2 1 0 0 0 0 0 0 2 0 2 0 0 0 0 0 0 0 0 0 2 2 2 0 0 2 2 0 2 0\n",
            " 1 1 0 0 1 0 2 0 2 0 0 0 0 0 0 2 0 0 0 2 1 0 0 0 0 2 2 0 1 0 0 0 0 0 2 2 0\n",
            " 0 1 0 1 0 2 0 0 0 0 1 0 0 2 0 0 0 0 0 0 1 0 0 2 0 0 0 1 0 0 0 0 0 0 0 2 0\n",
            " 1 1 0 1 0 0 0 0 0 0 0 0 0 2 1 0 2 0 1 1 0 0 2 1 0 0 0 1 2 1 1 2 2 2 0 0 1\n",
            " 2 0 0 0 0 1 0 2 0 2 2 0 0 2 0 0 0 0 2 0 0 0 0 0 2 0 0 2 0 0 0 0 0 1 0 0 2\n",
            " 0 0 0 1 0 0 1 2 2 1 2 1 0 1 0 1 1 0 0 0 0 2 0 1 0 2 0 2 0 0 0 2 0 0 0 1 2\n",
            " 1 0 0 0 2 0 2 2 0 0 2 1 1 0 1 0 0 0 2 2 0 2 0 1 2 0 1 0 0 0 0 1 0 0 2 2 0\n",
            " 0 0 0 0 0 2 0 0 2 1 2 1 1 0 2 0 0 1 1 0 0 1 0 0 0 1 2 1 0 1 2 0 2 0 2 2 0\n",
            " 0 0 0 0 2 2 1 0 0 0 2 0 0 0 0 1 0 2 0 2 2 2 1 0 0 0 2 1 0 0 2 2 1 0 0 1 1\n",
            " 0 0 0 0 1 1 0 0 1 1 0 1 0 0 0 0 1 1 1 0 0 0 2 1 1 0 0 0 0 2 2 2 0 2 0 0 0\n",
            " 1 0 0 1 1 0 0 0 1 0 2 1 0 1 1 2 0 0 0 0 0 0 0 0 0 0 0 1 0 0 0 0 0 0 0 1 2\n",
            " 1 2 2 0 1 0 1 2 0 1 0 0 0 0 1 0 0 0 1 1 1 1 0 1 1 1 0 0 0 0 1 1 2 0 1 0 0\n",
            " 1 0 2 2 0 1 1 0 1 2 0 2 0 0 0 0 0 0 1 0 0 0 0 2 2 0 0 0 0 0 2 2 1 0 2 2 2\n",
            " 0 0 1 2 0 0 2 0 0 0 0 2 0 1 2 2 0 0 0 0 2 0 0 0 1 0 0 0 0 1 0 0 2 2 0 1 0\n",
            " 1 0 0 1 0 0 3 1 2 2 1 1 0 0 1 2 1 2 0 0 2 0 2 0 1 0 0 1 3 0 0 2 0 1 2 0 0\n",
            " 0 2 1 0 0 0 0 0 2 2 0 1 0 0 0 0 0 1 2 0 1 2 0 0 0 2 0 1 2 1 1 0 0 2 1 1 0\n",
            " 1 0 0 0 2 0 2 0 1 0 0 0 0 0 1 1 0 2 2 0 0 0 0 0 0 0 1 0 0 2 1 2 0 0 0 1 0\n",
            " 0 0 1 0 1 2 0 2 0 1 0 0 1 0 1 0 1 1 2 1 0 0 1 2 1 0 0 0 0 1 2 0 2 0 0 0 2\n",
            " 1 0 0 2 0 0 2 0 0 0 0 0 0 1 0 2 0 2 0 1 0 0 2 0 2 0 0 0 0 0 0 0 0 2 1 1 2\n",
            " 0 0 0 0 1 0 0 1 0 0 1 1 2 0 0 0 0 1 0 0 0 0 0 0 0 2 0 0 2 0 2 0 0 0 0 0 2\n",
            " 2 1 0 0 1 0 2 0 0 1 0 0 2 0 0 0 2 1 2 1 0 0 2 2 0 0 2 0 0 2 1 1 0 1 0 0 0\n",
            " 2 1 1 2 1 0 0 0 0 0 0 1 0 2 1 0 0 0 1 2 0 1 2 0 0 0 0 1 2 0 1 0 2 1 1 2 0\n",
            " 2 1 0 0 2 0 1 1 1 2 0 0 0 0 0 1 0 0 0 0 0 1 1 1 0 0 0 0 0 0 1 1 2 0 2 1 0\n",
            " 2 2 1 2 0 2 0 0 1 0 0 1 0 1 0 1 0 0 1 2 1 0 1 0 2 0 0 0 0 2 2 0 0 0 1 1 1\n",
            " 0 2 0 0 0 0 0 0 0 1 1 0 0 0 0 0 2 0 1 0 1 0 0 0 0 0 1 2 0 0 0 0 0 1 2 0 1\n",
            " 2 2 0 2 0 0 2 2 0 0 0 2 0 0 2 2 0 2 0 2 0 0 0 0 1 0 2 0 0 2 1 0 0 0 0 2 0\n",
            " 1 1 2 0 0 0 1 0 0 0 0 2 2 0 2 0 0 0 2 0 1 2 2 0 0 0 1 0 2 0 2 2 0 2 1 2 0\n",
            " 0 0 0 2 0 1 0 1 0 0 0 2 0 0 0 0 1 0 0 0 0 0 0 1 1 2 0 0 1 1 1 0 1 1 0 1 2\n",
            " 0 0 0 0 0 1 1 0 0 1 0 0 2 0 0 0 2 1 1 0 1 1 1 0 0 0 0 0 0 0 1 1 2 0 2 0 1\n",
            " 0 1 0 0 0 0 0 1 0 0 0 0 0 0 0 0 1 0 0 1 1 0 1 0 0 0 1 0 2 2 0 0 1 2 0 2 0\n",
            " 0 0 2 0 1 0 1 0 0 1 1 0 0 2 0 0 0 0 0 0 2 0 1 0 2 2 0 1 1 2 1 0 0 0 2 0 0\n",
            " 0 1 0 0 2 1 2 0 1 0 2 0 0 2 0 2 0 1 0 0 0 1 0 0 0 1 2 0 0 0 0 0 0 0 1 0 2\n",
            " 0 0 0 2 0 2 1 1 0 0 0 0 0 0 0 1 0 0 0 0 0 0 0 2 1 0 1 0 0 0 2 0 0 2 0 0 0\n",
            " 0 0 0 0 0 1 1 0 0 0 0 0 2 0 1 1 2 2 0 0 0 0 0 0 0 1 0 0 2 1 0 2 0 1 0 0 1\n",
            " 2 0 0 0 2 0 0 0 1 0 0 1 1 2 0 0 0 0 0 0 0 2 0 0 0 2 1 0 2 0 1 0 0 0 2 1 0\n",
            " 2 0 0 0 2 0 1 0 2 2 1 0 0 0 0 0 0 1 0 1 0 0 0 1 0 0 0 0 0 1 1 2 0 0 0 0 1\n",
            " 2 0 0 2 1 0 0 0 1 0 0 1 2 0 1 1 1 1 1 1 0 2 2 0 1 1 2 0 0 0 1 0 0 0 1 0 0\n",
            " 0 1 2 0 0 2 0 0 2 1 2 0 0 1 2 0 0 1 0 1 0 0 1 0 0 0 0 1 0 2 2 1 0 1 2 0 0\n",
            " 1 0 1 0 0 2 0 0 0 0 2 2 2 1 0 1 2 1 2 1 2 1 0 0 0 1 0 0 2 1 0 0 0 0 0 1 0\n",
            " 2 2 1 0 1 2 0 1 2 2 2 1 0 0 2 0 1 0 0 1 1 0 1 0 1 0 0 0 1 1 0 0 0 0 0 1 0\n",
            " 1 2 0 0 0 1 0 1 1 2 2 0 0 1 1 2 2 2 1 2 0 0 0 2 0 0 2 0 2 0 0 2 2 1 0 0 2\n",
            " 1 0 0 0 0 0 0 2 0 0 0 2 1 2 1 2 1 0 0 1 1 0 0 1 1 0 0 0 0 0 1 2 0 0 0 0 2\n",
            " 0 2 0 0 0 0 0 0 0 0 0 0 0 1 2 2 0 0 2 0 0 2 0 2 0 0 1 0 1 0 0 0 0 2 0 0 0\n",
            " 0 0 0 0 0 0 0 1 1 1 1 2 0 0 0 1 0 0 1 0 0 2 0 0 1 2 1 0 0 0 0 1 2 0 2 0 0\n",
            " 1 0 2 0 0 1 0 0 0 1 1 1 0 0 0 0 0 0 2 0 0 1 2 0 0 2 2 0 0 0 0 2 0 0 0 0 1\n",
            " 0 1 0 0 1 0 0 0 1 0 2 0 2 0 0 2 1 1 0 0 2 0 1 0 0 1 0 2 0 1 2 0 2 0 2 2 0\n",
            " 0 0 1 1 0 0 1 2 2 0 0 0 0 1 1 1 1 1 0 2 0 0 1 1 0 1 0 1 0 2 2 1 0 0 0 1 0\n",
            " 0 0 0 0 0 0 0 0 0 0 0 2 0 1 1 1 0 1 0 1 1 0 0 0 0 0 1 1 1 0 0 0 2 2 2 0 0\n",
            " 0 0 0 0 1 2 2 0 0 2 2 0 0 2 0 0 0 1 1 1 0 1 0 0 0 0 1 2 2 2 0 0 0 2 0 1 0\n",
            " 0 1 0 2 0 0 0 0 1 0 1 0 1 1 2 0 0 0 1 0 2 0 0 0 0 0 0 0 2 1 1 1 0 0 1 0 0\n",
            " 0 0 1 1 1 1 1 0 1 0 0 0 0 0 1 1 0 2 2 2 1 0 0 0 0 1 1 0 1 2 0 0 1 0 2 0 1\n",
            " 0 2 0 1 0 2 1 2 2 2 1 0 2 2 0 1 0 1 2 0 1 2 0 0 0 0 0 0 0 0 0 1 2 0 0 0 2\n",
            " 2 1 0 0 1 2 0 0 0 0 0 0 0 0 0 2 0 0 2 1 1 1 0 0 2 0 0 1 0 0 2 0 1 0 0 2 0\n",
            " 0 0 2 2 0 0 1 1 0 0 0 1 1 0 2 2 0 1 2 0 1 2 2 2 0 0 1 0 0 0 0 0 0 0 2 1 2\n",
            " 1 0 0 0 1 0 0 0 0 0 1 0 0 0 0 2 1 0 2 0 1 0 0 1 0 0 1 2 2 0 0 2 2 0 0 0 0\n",
            " 0 0 0 1 0 0 2 2 0 1 0 0 0 0 0 1 0 0 0 0 0 0 1 1 0 0 0 1 1 0 1 0 0 0 0 0 2\n",
            " 1 1 0 0 0 0 2 0 0 1 2 0 1 0 2 2 0 0 1 0 2 1 1 1 1 0 0 1 0 1 0 0 0 0 0 0 0\n",
            " 0 1 2 0 0 2 0 1 2 0 2 0 0 0 0 1 2 2 0 1 0 1 0 0 0 0 2 2 0 2 0 0 1 2 2 0 0\n",
            " 2 1 0 1 0 0 2 2 0 0 0 0 0 2 0 0 0 1 0 0 0 0 1 0 2 0 1 1 0 1 0 0 0 0 0 1 0\n",
            " 0 2 1 1 0 0 2 0 1 1 2 0 2 0 0 0 0 0 0 0 2 0 1 1 2 0 0 0 2 2 0 0 0 0 2 0 0\n",
            " 0 1 1 0 1 1 0 2 0 1 1 0 0 0 2 0 0 2 2 1 0 0 1 2 0 2 0 2 0 0 2 2 2 0 0 0 1\n",
            " 2 0 0 0 1 0 1 0 0 0 1 1 1 1 2 1 1 1 1 1 0 0 0 0 0 1 0 1 0 0 2 0 0 1 0 2 0\n",
            " 1 1 1 2 0 1 1 0 0 2 2 0 0 0 2 0 0 0 0 2 0 0 1 1 2 0 0 1 0 0 1 2 0 2 0 0 0\n",
            " 0 0 2 0 0 0 1 1 0 0 2 0 1 2 1 0 0 0 1 0 2 0 0 0 1 0 2 0 2 0 0 0 0 0 0 0 0\n",
            " 2 2 1 2 0 0 0 0 2 0 1 2 0 2 0 0 2 1 0 0 0 1 0 0 2 2 0 1 0 0 1 1 0 2 2 0 0\n",
            " 0 0 0 0 1 0 0 2 0 0 1 1 1 1 0 2 1 2 0 1 1 0 2 0 0 0 1 1 2 0 0 0 2 0 0 0 0\n",
            " 2 1 0 0 1 1 2 1 2 1 0 1 0 0 1 0 1 0 0 0 2 0 2 0 0 0 0 0 0 0 0 0 0 1 2 0 1\n",
            " 0 2 0 0 0 0 1 0 2 0 1 0 1 0 0 0 0 0 1 2 0 2 0 2 2 1 2 0 2 0 0 0 0 0 0 0 0\n",
            " 0 0 1 1 0 1 0 2 0 0 2 2 0 1 0 2 2 0 1 0 1 1 0 2 0 0 0 1 1 2 1 0 0 1 1 0 0\n",
            " 2 0 0 1 0 0 1 0 2 2 1 0 1 0 0 2 2 0 1 1 1 1 0 1 0 0 0 2 1 2 0 1 1 2 1 0 1\n",
            " 1 0 0 2 0 2 0 0 0 1 0 0 1 0 1 0 0 0 0 1 0 1 0 0 1 1 0 0 1 1 2 1 1 0 0 1 0\n",
            " 2 0 2 0 0 0 0 0 0 2 1 1 0 0 1 1 1 1 1 2 0 0 1 0 2 0 1 1 2 2 0 0 0 0 0 1 0\n",
            " 0 0 0 2 0 1 0 1 1 0 2 0 0 0 0 0 0 2 1 2 0 0 0 0 0 0 0 1 0 0 0 0 2 0 1 0 0\n",
            " 2 0 0 1 1 0 1 0 1 2 0 2 0 0 0 0 0 0 2 0 0 2 0 1 0 1 0 2 1 2 2 0 0 0 0 2 2\n",
            " 0 1 0 0 2 0 1 0 0 1 0 0 1 2 0 0 0 2 0 2 1 2 0 0 2 0 0 0 0 1 0 0 0 0 0 0 0\n",
            " 0 0 1 0 1 0 0 0 1 0 0 1 1 1 0 0 2 1 0 1 0 0 0 0 0 1 2 0 1 0 1 1 0 2 0 2 2\n",
            " 1 1 0 0 1 0 2 0 0 2 2 0 2 2 1 1 0 0 0 0 1 2 1 1 0 2 0 0 0 0 0 0 1 0 0 1 2\n",
            " 1 0 0 0 0 0 1 0 0 0 0 0 2 0 0 2 2 2 1 2 0 2 0 0 0 1 0 1 1 0 2 0 1 1 2 0 0\n",
            " 1 1 0 1 1 0 2 1 1 0 0 0 0 0 1 0 2 0 0 2 0 0 2 1 1 2 0 0 0 2 0 0 0 0 1 0 0\n",
            " 0 1 0 2 1 0 0 0 1 0 2 1 2 2 0 2 0 2 2 0 0 0 0 1 2 0 0 0 0 0 2 0 0 0 0 1 2\n",
            " 0 0 2 0 1 0 0 0 0 0 2 1 0 0 1 2 2 0 1 0 0 2 0 0 0 2 1 0 0 0 0 0 0 1 0 0 0\n",
            " 1 0 2 1 1 0 0 1 0 2 0 1 1 0 2 0 0 0 0 1 2 2 0 0 2 2 0 0 0 2 0 2 0 0 0 0 0\n",
            " 0 0 0 0 0 0 0 0 0 1 2 0 1 0 0 1 0 0 0 0 0 0 0 0 2 0 0 0 0 0 0 0 2 0 0 2 0\n",
            " 1 0 0 1 0 0 0 0 2 0 0 0 0 0 0 0 2 0 0 1 0 0 0 0 0 0 0 0 0 0 0 0 0 1 0 2 1\n",
            " 2 1 1 2 1 2 0 0 0 0 0 2 1 0 0 2 0 0 0 0 2 0 2 0 0 0 0 0 0 1 0 0 1 0 0 2 2\n",
            " 0 0 0 1 1 1 1 0 0 0 2 0 2 2 0 1 2 1 2 1 1 0 0 2 1 0 1 0 2 2 0 1 1 2 0 0 0\n",
            " 0 1 0 0 0 0 0 1 0 0 0 1 1 0 0 0 0 0 0 2 0 1 1 0 0 0 0 0 0 0 2 1 0 1 0 0 0\n",
            " 1 1 2 0 0 0 0 0 0 0 1 0 2 0 1 1 2 2 0 1 0 1 1 1 1 1 0 1 0 0 2 0 2 2 1 1 1\n",
            " 0 2 0 2 2 0 1 1 0 0 0 0 0 0 2 0 2 0 0 0 1 0 0 2 0 2 0 0 0 0 1 0 0 2 0 0 0\n",
            " 0 0 1 2 0 0 1 0 0 0 0 0 0 0 0 0 2 2 0 1 0 0 0 0 2 1 1 1 2 2 2 1 0 0 0 0 0\n",
            " 0 0 1 0 2 0 0 0 2 0 2 0 0 0 0 1 0 0 0 1 2 1 0 0 0 1 0 1 2 2 1 1 0 1 0 0 1\n",
            " 0 1 0 0 0 0 0 0 0 1 1 1 1 1 1 0 0 0 0 1 1 0 0 0 2 0 0 1 2 2 0 1 0 1 0 1 2\n",
            " 0 0 0 0 1 0 0 1 2 0 0 0 1 1 0 0 0 0 1 0 0 1 0 0 1 0 0 1 2 2 2 0 0 0 1 0 2\n",
            " 0 1 0 0 1 0 0 2 2 0 0 1 0 0 0 0 0 0 2 0 0 2 0 1 0 2 0 2 2 1 0 1 2 0 1 0 2\n",
            " 1 0 0 1 1 0 2 1 2 2 0 0 0 0 1 0 2 1 1 1 0 0 0 0 2 0 0 0 2 2 0 0 1 1 2 0 1\n",
            " 1 1 1 0 1 0 1 2 1 2 1 0 0 0 0 0 2 0 0 0 1 0 2 2 2 0 0 0 0 1 2 2 2 1 0 0 0\n",
            " 0 1 1 0 0 2 0 0 0 1 1 0 0 0 0 0 2 1 0 2 0 0 0 0 0 2 2 0 1 1 0 0 0 1 0 0 0\n",
            " 1 2 0 0 0 2 0 0 0 2 1 1 2 0 1 0 0 0 0 0 0 2 0 0 1 1 0 0 0 0 0 0 0 0 2 2 1\n",
            " 2 3 2 0 1 0 0 2 0 1 0 0 1 0 2 0 1 0 0 1 2 2 0 0 1 0 0 0 2 1 2 0 2 2 0 0 0\n",
            " 1 1 0 0 1 1 1 0 0 1 0 2 0 0 0 0 0 0 0 1 0 0 2 1 1 0 1 0 0 2 2 1 2 0 0 0 0\n",
            " 2 0 2 1 0 0 0 0 0 1 2 1 2 1 0 1 1 0 0 0 1 0 1 1 0 0 0 1 1 2 0 0 2 0 0 0 2\n",
            " 1 2 0 1 2 1 2 0 1 2 0 0 0 0 0 0 2 0 0 0 0 0 2 0 0 2 1 0 2 0 0 1 1 1 1 2 0\n",
            " 0 1 0 1 0 0 0 0 1 2 1 1 1 1 2 0 2 0 0 2 2 0 0 2 0 1 2 1 0 0 0 1 2 1 0 1 0\n",
            " 1 0 0 2 1 1 0 1 0 0 0 0 1 0 2 1 1 1 1 1 2 1 1 1 1 0 0 2 0 1 0 0 0 1 0 0 1\n",
            " 1 2 2 0 2 1 0 0 0 0 0 1 0 1 0 0 0 0 1 0 2 2 0 0 0 2 1 0 1 1 0 0 2 0 2 0 1\n",
            " 0 1 1 0 2 0 0 0 1 1 0 0 0 0 2 2 0 2 0 0 1 0 0 0 1 1 0 0 1 2 2 0 1 0 0 1 0\n",
            " 0 2 0 0 2 1 0 0 1 2 2 0 0 1 1 0 0 1 1 0 0 0 0 1 2 1 0 0 1 2 2 0 0 1 0 0 0\n",
            " 1 1 0 0 1 2 1 1 2 2 0 1 2 0 0 2 0 2 0 0 2 1 0 0 0 2 2 0 0 0 0 0 1 1 0 0 1\n",
            " 2 2 0 0 0 1 0 2 1 0 1 0 0 0 1 0 0 0 0 2 0 1 2 0 2 0 0 2 0 0 0 1 0 0 0 1 0\n",
            " 0 0 0 0 0 0 0 0 0 0 0 0 0 0 1 1 0 2 0 1 0 2 0 0 0 0 0 0 0 0 0 0 0 2 0 0 1\n",
            " 0 1 1 0 0 0 1 0 0 1 0 0 0 0 0 1 1 0 2 0 0 1 2 2 2 0 0 1 2 0 0 2 0 1 0 0 0\n",
            " 0 1 0 2 0 1 2 0 0 1 1 0 0 0 0 0 1 0 1 1 0 0 2 0 1 0 2 2 0 0 2 1 1 2 2 0 2\n",
            " 0 2 0 0 2 0 1 1 0 2 0 0 0 0 1 0 0 0 2 0 2 0 0 0 1 0 0 1 1 0 1 1 0 2 0 2 0\n",
            " 0 0 0 0 0 1 1 1 0 0 0 1 2 0 2 0 0 2 0 0 2 0 2 0 2 2 0 0 0 0 2 2 1 2 1 0 1\n",
            " 2 0 0 0 0 0 0 0 0 0 0 2 0 2 1 0 2 1 0 0 1 1 1 2 0 1 0 0 2 1 0 1 1 0 0 0 0\n",
            " 0 2 0 2 0 1 0 1 0 0 2 0 2 2 2 0 2 1 0 2 0 2 2 0 1 0 0 0 0 0 2 0 1 0 1 0 0\n",
            " 0 3 1 0 0 0 0 0 0 2 1 0 0 2 0 2 2 0 0 1 0 0 0 0 1 0 0 2 0 0 1 0 0 0 1 2 0\n",
            " 0 1 0 0 0 0 0 0 2 0 0 0 1 1 1 1 0 0 1 0 0 2 0 0 0 0 0 1 2 0 1 1 0 2 1 0 0\n",
            " 0 2 0 0 0 0 0 0 0 0 2 0 0 0 2 0 2 2 0 0 0 2 1 1 1 2 0 0 1 0 0 1 1 1 0 0 1\n",
            " 0 0 0 0 0 0 0 0 0 2 2 0 0 1 2 0 1 1 0 1 2 0 1 0 2 0 0 1 0 0 0 2 0 0 0 0 1\n",
            " 0 0 0 2 2 1 1 0 2 0 0 0 2 1 2 0 0 0 2 0 0 0 1 0 0 0 0 0 0 1 1 1 0 2 0 0 0\n",
            " 0 0 2 2 0 0 0 0 0 0 0 0 0 1 0 1 2 0 0 0 0 1 2 1 1 2 0 0 0 0 1 0 2 1 0 1 0\n",
            " 2 1 0 0 0 1 0 0 0 1 0 0 1 0 0 1 1 0 1 0 0 0 0 0 0 0 0 1 1 1 0 2 2 2 1 0 1\n",
            " 1 0 0 0 0 2 0 1 2 0 0 0 0 0 0 0 3 0 1 1 0 2 1 0 0 0 0 1 1 0 0 1 0 0 0 2 2\n",
            " 1 1 2 2 0 0 0 0 0 1 1 2 1 0 0 1 2 2 0 2 0 0 2 1 2 0 1 0 0 0 2 0 0 2 1 2 0\n",
            " 1 0 0 1 2 2 0 0 0 1 1 0 0 1 0 0 0 0 1 2 2 1 0 1 0 1 1 0 0 1 0 0 0 1 2 0 0\n",
            " 2 0 1 0 0 0 0 2 1 0 2 0 1 0 0 0 0 0 0 0 0 2 1 1 0 2 2 1 2 2 0 0 0 0 0 1 0\n",
            " 0 0 1 0 1 1 1 2 0 1 0 1 1 0 1 2 2 0 1 0 0 0 2 0 2 2 2 0 1 1 1 0 0 0 2 0 0\n",
            " 1 0 1 1 0 0 0 0 0 1 0 1 0 2 1 2 0 1 0 0 2 2 2 0 2 0 1 1 2 0 2 0 1 0 0 2 2\n",
            " 0 0 0 1 0 2 0 1 2 0 1 0 0 0 1 0 0 0 2 0 0 2 1 0 2 0 2 0 2 0 2 0 0 0 1 0 0\n",
            " 2 0 1 0 1 1 0 0 0 1 1 0 0 1 2 0 1 1 0 1 2 0 1 0 1 0 2 2 0 1 1 2 0 0 1 0 0\n",
            " 2 1 0 0 0 0 0 0 0 2 0 0 1 0 2 2 0 0 1 0 1 0 2 0 0 0 2 0 0 0 1 0 0 2 0 1 1\n",
            " 0 0 0 0 0 2 0 1 1 1 0 0 0 0 0 0 0 0 0 1 0 2 0 1 1 0 0 0 0 1 0 0 0 0 0 1 0\n",
            " 2 2 1 0 0 0 2 0 2 0 2 0 2 1 0 1 0 1 0 0 1 0 0 1 0 1 2 2 1 0 0 0 0 2 0 0 0\n",
            " 0 0 1 1 0 0 0 0 0 0 2 0 1 2 1 2 0 1 2 0 1 0 2 0 0 1 1 1 0 1 0 0 2 1 2 0 0\n",
            " 0 0 1 0 0 0 0 0 1 0 0 1 0 1 2 0 0 1 0 0 1 2 0 0 2 0 1 1 2 0 0 1 2 1 0 0 0\n",
            " 2 0 1 0 2 1 0 0 1 0 2 1 0 2 2 1 0 2 1 1 2 1 2 0 0 1 0 0 0 0 0 0 2 0 2 1 1\n",
            " 0 1 2 0 1 0 2 0 0 0 2 0 0 1 0 0 2 1 2 2 0 0 0 0 0 1 2 1 0 0 0 0 0 2 0 0 0\n",
            " 0 0 0 1 1 1 1 1 2 1 0 1 0 0 1 0 0 0 0 2 0 1 2 0 0 1 1 0 0 0 0 2 1 2 0 0 1\n",
            " 1 0 2 0 1 2 0 0 2 0 1 2 0 1 0 0 2 1 0 0 2 0 2 0 0 1 1 1 0 1 0 0 0 0 2 0 0\n",
            " 0 1 0 1 0 0 1 0 0 1 0 0 1 0 0 0 2 2 0 1 2 2 1 2 1 0 0 2 1 1 0 0 2 0 1 0 2\n",
            " 0 0 0 0 0 0 0 0 0 0 0 0 0 1 0 1 1 0 1 0 0 1 0 0 1 1 1 2 2 0 0 0 1 1 2 1 1\n",
            " 0 0 1 0 0 0 2 0 1 1 0 1 2 0 0 0 0 0 0 0 1 0 0 0 2 0 0 0 2 0 1 1 0 0 1 1 2\n",
            " 0 0 0 0 2 0 1 2 1 0 0 0 2 0 0 0 2 0 0 0 0 0 1 2 2 0 0 0 1 0 1 1 2 2 0 2 0\n",
            " 0 2 2 2 0 1 0 0 0 0 0 0 2 2 2 0 0 2 1 2 0 0 0 1 0 0 1 0 1 0 0 1 0 0 0 1 0\n",
            " 1 1 0 0 0 2 0 1 0 0 0 0 0 1 0 2 0 1 0 0 0 1 2 0 0 0 0 0 0 0 1 1 2 0 0 0 0\n",
            " 0 0 0 1 2 1 0 0 2 2 0 0 0 1 0 0 0 1 0 0 0 0 2 0 1 0 0 0 2 0 0 0 2 1 2 1 1\n",
            " 0 0 2 2 0 1 0 1 0 0 0 1 0 0 0 0 1 1 1 0 0 0 0 1 0 0 1 0 0 1 2 1 1 0 0 0 2\n",
            " 0 0 0 2 2 0 1 1 0 2 0 1 0 0 0 0 0 1 0 0 0 0 1 0 2 0 0 0 0 0 0 1 0 2 1 2 0\n",
            " 0 0 2 0 1 0 0 2 1 2 0 1 0 2 0 1 0 0 2 1 0 2 0 0 1 0 2 0 0 1 0 2 0 2 2 0 1\n",
            " 0 0 0 0 0 1 0 0 0 1 0 0 0 0 1 0 1 0 0 1 0 0 1 0 0 1 0 0 0 1 1 0 0 1 0 1 2\n",
            " 1 2 1 0 1 0 2 1 0 1 2 1 1 2 1 0 1 0 0 1 1 0 0 2 0 0 2 0 0 0 1 0 0 2 0 0 0\n",
            " 0 0 2 2 2 0 1 0 1 0 1 0 0 2 0 0 2 0 2 0 0 0 0 1 1 2 0 0 2 0 1 0 0 0 0 0 0\n",
            " 2 0 1 0 1 0 0 0 0 1 0 2 0 0 1 2 0 2 0 2 1 2 0 0 0 0 2 1 1 1 0 1 2 0 2 0 0\n",
            " 1 0 2 1 2 1 2 0 2 2 1 1 3 0 1 0 0 0 0 2 0 2 0 1 2 2 0 1 0 1 0 0 0 0 0 0 2\n",
            " 1 1 0 0 0 1 0 0 1 2 0 0 0 0 2 2 0 2 0 0 0 2 0 0 0 0 2 0 0 2 0 0 2 0 0 0 2\n",
            " 0 1 0 2 1 0 0 2 0 0 0 2 0 0 0 0 0 0 0 0 0 2 0 2 1 2 1 2 2 0 0 0 0 0 0 2 1\n",
            " 0 0 0 0 0 1 0 0 0 0 2 0 1 1 0 1 2 1 0 0 2 0 2 0 0 0 1 0 2 0 0 0 0 1 1 0 0\n",
            " 0 0 0 0 2 0 0 0 0 1 0 0 0 1 1 2 1 2 0 0 1 0 0 2 0 0 1 0 0 1 0 2 0 0 0 0 0\n",
            " 1 2 0 0 1 1 0 0 0 1 1 0 2 1 0 2 0 2 0 1 1 0 2 1 0 1 2 2 0 0 0 1 1 0 0 2 1\n",
            " 0 2 1 0 0 0 0 0 1 2 0 1 0 0 2 1 2 0 0 1 2 0 0 0 0 1 0 0 0 0 1 0 0 1 0 0 2\n",
            " 0 0 0 1 0 2 0 0 2 0 0 0 0 1 0 0 0 0 2 0 2 0 1 0 1 0 0 1 2 1 0 2 0 0 1 2 2\n",
            " 0 0 2 0 0 2 2 0 0 2 0 0 0 0 1 1 0 0 0 0 1 2 0 0 1 0 0 2 1 2 0 1 1 1 2 0 0\n",
            " 1 0 1 2 1 1 2 0 0 0 1 1 1 0 0 2 0 0 1 1 2 0 0 2 0 0 2 2 0 0 0 0 2 0 0 1 1\n",
            " 0 1 1 0 2 0 0 2 0 0 2 1 0 0 2 0 0 0 2 2 0 1 0 0 0 0 0 0 2 0 1 1 1 1 2 0 0\n",
            " 0 2 2 0 0 2 1 0 0 1 0 0 0 0 1 1 0 0 0 0 0 1 0 2 0 0 0 0 1 0 0 2 1 2 1 0 0\n",
            " 2 1 1 1 0 2 1 0 1 1 0 0 0 2 2 0 2 2 0 1 2 1 2 0 0 0 0 1 0 0 2 0 1 2 0 2 0\n",
            " 0 1 1 0 0 0 0 0 0 0 1 0 0 0 0 0 1 0 0 2 0 0 2 0 1 2 0 1 1 2 0 1 0 2 0 2 0\n",
            " 2 0 0 1 0 0 2 0 0 0 0 0 1 0 0 0 1 0 0 2 2 0 0 1 0 0 0 0 0 0 0 0 0 2 0 1 0\n",
            " 2 0 2 1 0 1 2 0 1 0 0 0 0 0 0 0 0 1 0 0 0 0 2 0 0 1 0 0 0 1 1 2 1 0 0 0 0\n",
            " 0 1 0 0 0 1 0 0 0 1 0 2 0 2 2 2 1 1 1 1 0 1 0 2 0 1 0 0 0 0 0 2 0 0 0 0 0\n",
            " 2 1 0 0 0 0 0 0 0 0 0 0 0 2 2 0 2 0 0 0 0 0 1 0 1 0 1 0 0 2 0 0 0 0 2 0 0\n",
            " 1 1 0 0 0 2 0 0 0 1 0 0 2 1 2 0 2 2 0 0 0 0 2 0 0 0 2 0 0 0 2 0 2 1 2 0 0\n",
            " 0 0 2 0 0 0 2 0 2 1 1 2 0 0 0 0 0 0 0 0 0 0 0 2 2 0 0 0 1 0 0 0 0 1 0 0 0\n",
            " 1 0 2 1 1 1 0 0 0 2 0 0 2 0 0 0 0 0 0 0 0 1 0 0 2 0 1 0 0 1 2 0 0 0 0 2 0\n",
            " 0 0 2 2 1 1 0 1 0 0 0 1 0 1 2 0 0 0 0 0 2 0 1 0 0 0 0 0 0 2 1 0 0 0 1 0 0\n",
            " 0 0 0 0 1 2 0 1 2 0 0 0 0 0 1 2 0 0 0 2 0 1 2 0 0 0 0 0 2 0 0 0 0 1 0 2 1\n",
            " 1 0 0 0 1 2 1 2 0 1 0 0 1 2 0 0 0 0 0 2 0 0 1 2 2 0 0 0 0 0 0 0 0 0 0 0 1\n",
            " 0 2 0 0 0 1 1 1 0 0 2 0 0 2 2 0 1 0 0 0 2 0 0 0 1 0 2 2 0 0 2 2 2 0 0 0 0\n",
            " 3 0 0 2 1 0 2 0 0 0 2 0 0 1 0 0 0 0 0 1 0 1 0 0 2 0 2 1 0 0 0 0 0 2 1 2 0\n",
            " 0 2 0 0 1 0 0 0 2 0 0 0 0 0 0 0 0 1 0 0 0 0 2 0 1 2 0 0 2 0 2 0 0 2 0 0 0\n",
            " 1 1 0 0 2 2 0 0 0 0 0 2 2 0 0 2 0 0 2 0 0 1 0 2 2 0 1 2 2 1 2 0 0 1 0 1 1\n",
            " 0 0 0 0 0 2 0 1 0 1 0 1 1 1 1 0 2 1 2 0 0 0 0 0 0 2 0 2 2 0 0 2 0 2 2 2 2\n",
            " 1 0 1 0 1 0 2 0 0 0 0 1 0 0 1 0 0 2 0 1 2 1 0 0 2 0 0 0 0 1 2 2 0 2 0 2 0\n",
            " 2 0 0 0 2 0 1 0 0 0 0 1 1 1 0 0 0 0 1 1 0 2 2 2 0 0 1 0 0 2 0 1 2 0 2 0 0\n",
            " 2 2 0 0 0 1 0 1 0 2 0 0 0 2 2 0 0 1 0 0 0 0 0 1 0 0 0 0 0 0 2 1 0 2 0 0 0\n",
            " 0 0 0 0 1 0 0 2 0 1 0 0 1 0 1 0 0 0 0 1 2 0 0 1 1 2 0 0 2 2 0 1 1 2 1 0 0\n",
            " 0 1 2 2 0 2 0 0 0 0 1 1 0 0 1 1 0 2 2 0 0 2 1 2 1 0 0 1 0 1 0 0 1 2 1 0 2\n",
            " 0 1 2 0 0 0 0 0 0 2 0 0 0 0 0 0 0 1 0 0 0 2 2 0 0 0 2 2 0 0 1 0 0 0 1 0 0\n",
            " 1 0 0 0 0 1 0 2 0 1 1 2 0 0 2 1 0 0 0 0 0 0 0 1 2 1 1 2 2 2 0 1 0 0 0 2 1\n",
            " 1 2 1 0 2 0 1 0 1 0 2 0 0 0 0 0 0 1 0 0 0 2 0 0 0 1 1 1 0 1 0 2 1 0 0 0 0\n",
            " 0 1 0 2 0 0 0 0 0 1 0 0 2 0 0 1 2 0 0 0 1 0 1 0 0 0 2 2 0 0 1 2 1 2 0 1 0\n",
            " 0 2 1 0 0 0 0 2 0 1 1 0 0 0 0 0 0 0 0 1 0 0 0 1 0 0 2 0 2 0 0 0 0 1 0 2 0\n",
            " 0 2 1 2 0 0 1 0 1 0 1 1 0 0 1 0 0 0 2 1 0 1 0 0 1 0 0 1 0 1 0 2 0 0 1 0 2\n",
            " 0 0 0 0 2 0 0 0 1 1 0 0 0 0 1 2 0 0 2 0 0 0 2 0 0 2 0 0 2 0 0 0 0 2 1 0 0\n",
            " 0 0 0 0 0 2 0 1 1 1 0 1 2 1 1 1 0 2 0 0 0 2 2 1 0 0 1 0 1 1 0 0 0 0 2 1 1\n",
            " 0 0 1 0 1 2 2 1 2 2 0 0 1 0 2 0 1 0 0 1 0 0 2 0 2 2 0 2 1 2 0 2 0 0 0 0 0\n",
            " 0 2 2 0 0 0 2 0 2 1 0 2 1 0 0 0 2 0 0 2 0 1 1 0 0 2 2 1 2 0 0 0 0 0 0 1 0\n",
            " 0 0 1 1 0 0 2 1 2 2 1 0 0 0 0 0 0 2 0 1 2 0 2 0 0 2 2 2 2 0 1 0 2 0 0 1 2\n",
            " 1 0 1 0 2 0 0 1 1 2 0 2 1 0 1 0 1 0 0 0 0 0 0 2 2 1 0 2 1 1 0 0 1 0 0 1 2\n",
            " 0 0 0 1 2 0 2 0 0 0 0 0 2 2 2 0 2 2 2 1 0 0 0 1 0 1 2 1 2 2 1 0 1 0 1 0 0\n",
            " 0 0 2 1 2 1 0 1 0 0 0 0 0 0 0 0 2 0 1 0 1 0 0 2 0 0 1 0 2 2 0 0 0 2 0 0 0\n",
            " 0 0 0 1 0 0 1 0 0 2 0 2 1 0 1 0 0 0 0 0 0 0 0 0 0 0 0 0 2 1 1 0 1 2 0 0 1\n",
            " 2 2 0 0 0 0 0 1 1 0 0 1 2 1 0 0 1 0 0 2 0 0 0 0 2 0 2 1 0 0 0 0 0 0 0 0 2\n",
            " 2 1 2 0 2 2 0 1 2 0 0 0 1 0 2 0 0 0 0 1 0 2 1 0 0 0 0 0 0 0 2 0 2 2 2 0 0\n",
            " 1 2 1 0 0 2 0 0 0 0 1 2 0 0 0 1 0 1 0 1 0 0 0 0 0 0 0 1 0 0 0 0 0 2 2 0 2\n",
            " 0 0 0 0 0 0 2 0 0 1 2 0 0 1 0 0 0 1 0 0 1 0 0 1 0 2 0 0 0 0 0 0 0 2 0 0 1\n",
            " 2 0 0 1 2 0 0 0 0 2 0 0 0 0 0 0 0 2 0 1 0 0 0 1 2 0 1 1 0 0 1 0 0 2 2 0 1\n",
            " 1 2 0 1 0 2 0 1 1 0 0 0 0 0 0 0 0 0 0 0 0 1 0 0 0 2 0 1 1 1 2 0 0 1 2 1 0\n",
            " 0 0 2 0 2 0 0 0 2 0 0 2 2 0 0 0 1 2 1 0 0 0 1 1 1 1 2 1 0 0 0 1 2 0 0 0 1\n",
            " 0 0 0 1 2 1 0 0 1 2 2 0 1 2 2 0 0 0 1 0 0 0 1 2 0 0 1 0 0 1 2 2 0 2 2 0 0\n",
            " 2 0 1 0 0 1 2 1 0 0 0 0 0 1 0 0 0 2 2 2 0 2 1 2 2 1 2 1 1 0 1 2 0 0 0 0 0\n",
            " 0 1 1 1 0 0 1 2 1 2 1 2 0 0 0 1 2 0 0 1 0 0 0 0 2 0 0 0 0 0 1 0 2 0 1 0 0\n",
            " 1 0 0 1 0 0 0 0 0 0 0 0 0 2 0 0 0 0 2 0 2 1 1 0 0 0 2 0 1 0 1 0 2 0 0 2 0\n",
            " 1 2 2 1 0 0 0 0 0 1 0 0 1 1 1 2 1 0 2 0 1 2 1 0 0 0 1 0 0 0 0 0 1 0 0 1 1\n",
            " 1 2 2 1 0 0 0 2 0 0 1 0 0 0 0 1 0 0 2 0 1 0 0 1 1 0 2 0 1 2 1 1 0 0 2 1 0\n",
            " 0 0 2 0 0 2 2 0 0 0 0 0 2 1 0 2 1 0 2 0 0 0 0 1 2 0 0 0 0 0 0 0 0 2 2 1 0\n",
            " 2 0 1 0 2 0 2 1 1 0 1 0 0 0 0 0 2 0 2 1 0 0 0 0 1 0 0 2 0 1 0 0 2 1 2 2 1\n",
            " 1 0 0 2 0 2 1 0 2 0 2 2 1 2 0 0 1 0 1 2 0 2 0 1 0 0 0 2 0 1 0 2 0 0 0 2 1\n",
            " 0 1 1 0 0 0 1 0 0 0 1 0 0 0 0 0 1 1 0 0 0 2 2 0 1 1 0 0 1 2 1 0 0 0 1 2 0\n",
            " 0 0 0 0 0 0 0 2 1 2 1 0 1 0 1 0 0 1 0 2 0 0 2 1 1 0 2 0 0 0 0 0 0 1 1 1 2\n",
            " 0 0 1 2 0 0 1 0 1 1 0 0 1 0 0 2 1 0 1 0 1 1 1 2 2 1 0 0 1 0 1 0 0 0 0 2 0\n",
            " 0 1 2 0 0 2 0 0 2 0 0 0 1 0 2 2 1 0 0 1 0 0 0 1 0 2 0 0 0 0 0 2 0 1 0 0 0\n",
            " 0 0 1 2 2 0 1 0 0 0 1 0 0 1 1 1 0 2 0 2 0 1 0 1 0 0 0 2 2 2 1 0 0 0 0 0 1\n",
            " 1 0 0 0 2 1 0 2 0 0 1 1 0 0 0 0 2 0 0 2 0 1 1 2 2 0 1 0 1 1 2 0 0 2 0 2 0\n",
            " 0 0 2 0 0 2 0 1 0 1 1 0 0 2 2 1 1 0 0 2 2 1 0 0 2 0 1 0 0 2 0 1 0 1 2 0 2\n",
            " 2 2 2 2 0 1 0 2 1 0 2 0 1 0 0 1 0 0 0 0 0 1 2 1 2 0 1 1 0 2 0 0 1 1 0 0 0\n",
            " 2 2 0 0 0 1 2 1 2 2 1 0 1 2 0 1 0 1 0 0 0 0 0 1 2 0 0 1 1 0 0 0 0 2 0 0 0\n",
            " 2 0 1 2 2 1 0 0 0 0 0 0 0 0 0 0 0 0 0 0 1 0 0 1 0 2 0 2 1 2 0 2 0 0 0 0 2\n",
            " 1 0 0 0 2 2 1 1 1 0 0 2 2 1 2 2 1 2 0 1 1 1 0 0 2 0 1 2 0 0 0 2 0 2 0 2 0\n",
            " 0 2 0 2 0 1 0 0 0 1 0 2 0 0 2 0 0 0 0 1 0 0 1 2 0 0 0 0 0 1 0 0 0 1 2 1 0\n",
            " 0 0 0 0 0 2 2 0 0 0 0 0 1 0 1 0 0 0 0 0 2 1 0 1 0 1 1 0 0 0 1 2 0 1 2 0 0\n",
            " 0 2 0 0 0 0 0 2 0 0 0 0 0 0 2 0 0 2 0 0 0 0 1 0 0 0 0 0 0 2 1 2 1 0 0 2 0\n",
            " 2 0 2 1 0 2 0 0 0 0 0 1 0 1 1 2 0 0 0 1 2 0 0 1 0 2 0 0 1 0 1 0 2 0 0 1 2\n",
            " 0 0 2 0 0 1 2 0 0 0 0 1 1 0 0 1 0 0 2 0 0 1 2 0 0 0 0 0 0 0 0 1 1 0 0 0 0\n",
            " 0 0 2 0 1 0 1 0 1 2 1 0 0 1 1 0 2 0 0 1 1 0 0 0 0 1 0 0 1 0 0 2 2 1 1 2 0\n",
            " 0 0 1 2 0 0 0 2 2 1 2 0 0 0 0 1 0 2 1 0 1 2 0 1 0 1 0 1 0 2 0 1 1 0 2 1 2\n",
            " 0 0 2 1 2 0 1 0 0 2 0 0 0 0 2 0 0 0 0 0 1 0 1 1 0 0 0 0 0 1 1 2 1 0 0 0 0\n",
            " 0 0 1 1 0 1 1 0 0 2 1 2 1 0 0 0 0 1 0 0 0 0 2 0 0 0 0 1 1 1 2 0 0 0 0 1 0\n",
            " 0 0 1 0 2 2 0 2 2 2 2 0 0 0 0 2 1 2 2 0 0 0 1 0 1 2 0 1 0 2 1 0 0 1 0 2 0\n",
            " 1 1 2 1 0 2 3 0 2 0 0 2 0 0 0 0 2 1 0 2 2 0 0 0 1 0 0 0 0 2 0 0 0 0 1 2 1\n",
            " 0 2 2 0 0 1 0 0 0 0 1 0 1 2 0 1 0 1 2 1 0 2 0 0 0 1 2 0 0 1 0 0 1 0 0 0 0\n",
            " 0 0 0 0 0 0 1 0 0 0 0 1 0 0 0 1 0 2 2 0 1 0 1 1 0 0 2 0 2 0 0 0 2 2 2 2 1\n",
            " 0 0 0 2 0 0 0 0 0 2 0 2 0 0 1 0 0 0 2 0 0 1 0 2 2 0 0 0 0 1 0 1 0 0 0 0 0\n",
            " 2 0 0 0 0 0 0 0 0 0 2 0 0 0 0 1 1 0 0 0 1 0 0 0 2 0 0 0 0 0 0 0 1 0 1 0 0\n",
            " 2 0 2 2 0 0 1 0 1 0 2 0 0 1 0 0 0 0 1 0 0 0 0 2 1 2 1 1 1 0 0 1 0 0 1 0 0\n",
            " 0 0 0 0 2 2 0 0 1 1 0 0 0 2 0 0 1 0 0 1 0 2 0 0 2 2 1 1 0 2 0 1 0 0 0 0 0\n",
            " 2 0 1 0 2 1 0 1 0 0 0 1 1 0 0 0 0 2 0 1 0 2 0 1 0 0 1 0 0 0 0 2 0 1 0 2 1\n",
            " 0 1 0 0 0 0 0 0 0 0 0 2 1 0 2 1 0 2 0 0 0 2 0 0 0 0 0 1 0 1 0 2 0 2 1 0 0\n",
            " 0 1 2 0 0 0 0 1 0 0 0 1 2 1 0 0 0 1 0 1 1 2 2 0 0 1 0 0 0 0 0 0 0 0 2 0 0\n",
            " 0 2 1 0 1 0 0 2 0 0 0 0 2 1 0 2 0 0 0 1 1 0 2 0 0 1 0 2 0 2 2 0 0 0 0 1 2\n",
            " 0 1 1 0 0 0 2 1 0 0 1 0 0 2 1 1 0 2 0 2 0 2 0 2 0 1 0 0 1 0 0 0 2 1 2 0 1\n",
            " 0 1 0 0 0 0 0 0 0 2 2 0 0 0 0 0 1 0 2 0 1 0 0 0 0 1 2 0 0 1 1 0 2 2 2 1 0\n",
            " 2 0 0 0 0 2 0 0 1 0 0 0 0 0 0 1 1 0 1 0 0 2 0 2 0 1 0 1 0 0 0 0 0 2 2 0 2\n",
            " 2 0 0 0 1 0 0 0 0 0 2 1 0 1 0 2 0 0 1 2 2 0 0 0 0 0 0 1 2 1 0 0 0 1 0 0 1\n",
            " 2 0 1 2 0 1 1 1 2 0 0 0 0 0 1 2 2 2 0 2 1 0 0 0 1 2 0 1 2 2 1 1 0 2 0 0 0\n",
            " 1 1 0 0 0 0 0 0 2 0 1 1 2 2 0 0 0 1 0 0 2 0 2 0 2 0 0 0 0 0 2 0 0 0 0 0 2\n",
            " 2 0 0 1 0 1 0 1 1 0 0 0 1 2 0 2 2 1 1 0 0 0 0 0 2 1 0 0 2 0 1 2 2 0 1 2 2\n",
            " 1 0 0 1 1 2 1 1 0 2 2 0 0 0 2 0 0 2 1 1 2 0 0 0 0 0 0 0 0 0 0 1 1 0 0 2 0\n",
            " 0 2 2 1 0 1 0 0 0 1 2 2 0 0 0 1 0 0 2 0 1 2 1 0 1 0 0 1 0 0 1 0 0 1 0 1 2\n",
            " 2 2 1 0 1 2 0 1 1 1 0 2 0 1 1 2 1 0 2 0 1 0 0 1 2 0 1 1 0 2 1 0 2 2 0 0 1\n",
            " 0 0 1 0 0 0 1 0 0 1 1 1 0 2 1 1 0 0 2 1 2 2 0 1 1 0 0 2 0 2 0 0 0 0 0 0 1\n",
            " 0 2 1 0 0 1 0 1 2 0 0 0 1 0 1 0 1 0 0 0 0 1 0 1 2 2 0 0 0 0 1 0 0 0 0 1 0\n",
            " 2 0 0 0 1 2 0 0 0 2 0 0 1 0 0 0 0 0 1 0 0 0 1 2 2 0 2 0 0 0 0 2 0 2 0 0 1\n",
            " 0 0 2 0 0 2 2 0 2 0 0 0 2 1 0 1 2 0 0 0 0 0 0 0 2 2 2 0 1 0 1 0 1 2 0 2 2\n",
            " 0 2 0 1 0 1 1 2 0 1 0 2 0 0 0 0 0 1 0 1 2 1 2 0 0 2 0 0 0 2 0 2 0 0 0 0 1\n",
            " 2 2 0 0 1 1 0 1 2 0 0 2 1 0 2 1 0 0 2 0 0 2 1 0 0 1 2 0 0 2 1 0 1 0 2 0 1\n",
            " 1 0 0 0 0 0 0 2 0 0 0 0 2 0 1 1 0 2 0 1 2 1 0 1 0 2 0 2 0 1 0 2 0 1 2 1 0\n",
            " 0 2 1 2 1 1 1 0 1 0 2 0 0 0 0 2 0 0 0 0 0 0 0 0 0 0 1 0 0 0 0 0 1 2 0 0 0\n",
            " 1 0 2 1 0 0 0 1 2 0 0 0 0 1 1 0 0 1 0 2 0 0 1 0 1 1 0 2 2 0 0 0 0 0 0 0 1\n",
            " 0 0 2 0 2 0 0 0 2 0 2 0 0 0 1 0 1 0 0 0 0 0 2 2 0 0 1 1 0 0 0 0 1 0 0 1 1\n",
            " 1 1 0 0 1 2 0 1 1 2 0 0 0 0 0 0 1 2 1 0 0 0 0 0 0 2 0 0 0 0 0 1 2 1 0 1 1\n",
            " 1 0 0 2 2 0 0 2 0 0 2 0 0 0 2 1 0 1 0 2 0 0 0 0 0 1 2 2 0 3 2 0 2 0 2 0 0\n",
            " 1 0 0 1 0 0 0 0 2 0 2 0 0 0 0 0 1 0 0 0 2 0 2 1 2 2 0 1 1 1 0 1 0 0 0 2 0\n",
            " 0 0 1 0 0 2 2 1 0 0 0 1 1 0 1 0 0 0 0 3 1 1 1 0 1 0 0 0 0 2 0 0 0 0 2 2 0\n",
            " 0 0 0 2 0 0 0 2 2 0 1 0 2 0 1 0 1 1 0 2 0 0 0 0 0 2 0 0 1 2 2 1 0 1 2 2 0\n",
            " 0 0 0 1 0 2 1 0 1 1 2 1 0 2 0 0 1 0 0 0 0 0 2 0 0 0 0 1 0 0 0 2 0 1 2 0 0\n",
            " 1 2 0 1 0 0 0 0 0 2 0 1 1 2 0 0 1 0 2 0 0 0 2 0 0 2 1 0 0 0 0 0 0 0 1 0 0\n",
            " 1 2 2 0 1 1 1 0 1 0 2 2 0 0 1 1 2 0 1 0 1 1 2 0 0 1 1 0 0 0 2 0 1 1 0 1 0\n",
            " 0 2 1 0 2 1 1 0 0 0 0 1 0 0 1 1 1 0 1 1 1 1 1 2 0 1 0 0 1 0 0 2 2 1 0 1 0\n",
            " 0 0 1 0 2 0 1 1 0 2 2 1 2 0 1 0 0 0 1 0 2 2 0 0 1 2 0 1 2 1 0 2 1 0 1 0 0\n",
            " 2 0 1 0 1 0 2 2 0 1 1 1 0 0 0 1 0 1 1 2 2 2 2 0 0 1 0 1 0 2 0 0 0 0 0 0 2\n",
            " 2 0 3 0 2 2 2 0 0 0 0 0 0 0 2 2 2 0 0 2 0 0 2 1 2 0 1 1 1 1 2 2 0 0 0 0 1\n",
            " 2 0 0 0 0 1 0 2 2 2 0 2 2 0 0 0 2 1 0 0 0 0 0 1 0 2 1 0 2 1 1 2 0 0 2 1 0\n",
            " 0 0 0 0 1 1 1 0 0 1 0 0 1 0 2 0 1 0 0 1 0 0 0 0 0 1 2 0 1 0 0 0 0 0 0 1 0\n",
            " 0 1 0 0 0 0 1 0 0 0 1 0 0 0 1 2 0 0 0 0 1 2 0 0 0 0 0 1 0 0 0 1 0 2 0 1 0\n",
            " 0 2 0 0 1 0 0 2 2 0 1 0 0 0 2 0 1 2 0 2 1 1 0 1 2 0 0 0 1 0 1 1 0 0 2 0 0\n",
            " 2 0 0 2 0 2 0 0 1 0 2 0 0 2 0 0 2 1 2 1 0 0 0 0 0 0 1 0 2 2 0 1 0 0 2 2 1\n",
            " 0 0 0 0 0 0 0 1 1 0 0 1 1 0 2 0 1 0 0 0 0 0 0 2 2 0 0 1 2 0 2 0 0 0 1 0 0\n",
            " 0 0 0 0 0 0 0 2 1 0 1 0 0 2 1 0 2 2 0 0 0 0 1 2 2 0 0 0 0 1 0 0 1 0 0 1 0\n",
            " 0 2 0 0 1 0 1 0 1 0 2 1 0 0 1 2 0 0 1 0 0 1 0 0 0 2 2 0 0 0 0 0 1 0 2 0 1\n",
            " 0 0 0 0 1 0 2 0 0 0 2 1 1 0 0 0 2 0 0 1 2 0 0 0 0 0 1 1 2 0 0 1 0 0 1 0 0\n",
            " 2 1 0 0 0 0 0 0 0 0 2 1 0 2 2 1 0 0 0 0 0 0 1 0 2 0 1 0 2 0 0 0 0 0 0 0 0\n",
            " 1 0 0 0 0 0 0 0 1 1 0 0 1 0 0 2 1 1 1 0 2 1 1 2 2 0 2 0 2 0 0 0 0 0 0 1 1\n",
            " 0 1 0 1 0 0 2 0 0 0 2 1 0 1 0 2 0 1 0 0 1 0 0 0 0 0 0 0 0 1 0 0 0 0 0 0 0\n",
            " 2 1 2 0 1 0 0 2 0 1 0 0 2 2 1 0 0 2 0 0 0 0 0 0 0 1 2 0 2 0 0 2 0 0 2 2 2\n",
            " 0 2 2 0 0 2 0 0 1 1 2 0 0 1 1 1 1 0 0 1 1 0 1 2 0 2 0 1 0 0 0 0 1 0 0 2 0\n",
            " 2 0 0 0 0 2 0 1 1 0 0 1 2 1 0 1 1 2 0 0 1 0 0 0 2 0 2 1 0 0 2 0 2 1 1 0 0\n",
            " 0 0 0 0 1 1 2 2 0 1 2 2 0 2 0 0 0 0 0 1 1 0 1 2 1 0 1 0 0 1 0 1 2 0 0 1 2\n",
            " 2 0 1 1 2 1 2 0 1 2 0 0 0 1 1 1 0 0 0 2 0 0 0 2 0 0 0 0 0 0 2 2 1 0 0 0 0\n",
            " 0 0 0 0 1 3 0 0 0 0 1 2 0 0 2 0 0 0 0 0 1 0 0 0 0 0 1 0 0 0 1 0 0 1 0 1 0\n",
            " 0 0 1 0 0 0 0 0 1 1 0 0 0 0 0 1 0 0 1 1 0 2 0 0 0 1 1 0 0 0 0 2 0 0 0 0 2\n",
            " 2 0 1 1 1 0 2 2 0 2 1 2 2 0 1 2 0 2 1 1 0 0 2 0 2 0 1 0 2 2 0 2 0 1 0 0 1\n",
            " 0 0 0 0 0 1 2 1 2 0 0 0 0 0 1 1 0 1 2 2 2 0 0 2 1 1 1 0 2 0 0 0 0 0 1 1 2\n",
            " 2 0 2 2 0 0 0 1 0 1 2 0 0 2 0 0 1 0 0 0 1 2 0 1 1 0 2 0 2 0 1 1 1 0 2 1 1\n",
            " 0 0 1 0 0 0 0 0 1 0 1 2 2 0 2 0 1 0 0 0 0 0 1 2 0 2 0 1 1 2 0 0 1 0 0 0 0\n",
            " 2 1 0 0 2 0 0 2 1 0 1 0 0 1 0 0 2 2 0 0 0 1 0 2 0 2 2 1 1 0 2 0 0 0 2 0 2\n",
            " 1 2 1 1 0 0 1 0 2 2 2 0 0 0 0 0 1 0 0 2 1 2 0 0 1 1 0 0 0 0 0 2 0 0 2 1 2\n",
            " 0 0 2 0 0 2 0 1 0 0 0 1 1 0 0 0 2 0 1 1 0 0 0 1 0 0 1 0 1 0 0 0 1 0 0 0 0\n",
            " 1 2 0 0 0 1 1 0 0 0 0 0 1 0 0 1 0 0 0 2 0 1 0 0 0 2 0 0 2 1 2 2 0 0 0 0 0\n",
            " 2 1 2 0 0 0 0 0 0 0 1 0 0 1 1 0 0 0 1 0 0 0 0 0 2 1 2 0 0 0 0 0 0 0 2 0 2\n",
            " 2 0 2 1 0 2 1 0 0 0 0 0 2 0 0 2 0 0 2 1 0 0 0 1 1 1 0 2 2 0 0 0 0 0 2 0 0\n",
            " 2 0 0 2 0 0 1 1 0 0 0 2 2 0 0 0 1 1 0 0 0 0 1 0 0 0 0 2 2 0 0 0 2 0 1 1 0\n",
            " 0 0 2 0 0 0 2 0 0 0 2 0 0 2 0 2 0 1 1 0 1 0 0 0 0 0 2 0 1 0 0 0 0 0 1 2 0\n",
            " 1 0 1 1 0 0 2 0 1 0 0 1 0 0 1 1 1 2 0 2 1 2 0 1 2 1 1 0 2 1 0 2 0 0 0 0 0\n",
            " 0 0 1 0 0 0 0 0 0 0 0 2 0 1 1 2 2 0 0 0 1 2 2 0 0 0 0 0 0 0 1 1 0 0 2 0 2\n",
            " 0 1 1 1 2 0 1 2 0 0 0 1 0 1 0 0 0 0 0 0 0 1 0 0 2 0 0 0 0 2 0 2 2 0 1 0 2\n",
            " 2 0 2 0 0 0 1 1 0 2 0 0 2 0 0 0 0 1 0 0 0 0 0 2 0 0 0 0 1 0 1 0 0 2 2 1 0\n",
            " 0 0 0 1 1 0 0 0 2 1 1 0 1 1 0 2 0 1 0 2 2 1 1 2 1 2 1 0 0 1 0 2 0 0 1 0 0\n",
            " 2 0 1 1 2 1 0 0 0 0 2 0 0 0 1 2 1 1 0 2 0 0 0 1 0 0 0 0 0 0 2 0 0 0 0 0 0\n",
            " 1 0 0 2 0 0 0 1 1 0 1 0 2 0 2 1 0 2 0 1 0 2 1 1 0 0 2 2 0 1 1 0 0 0 2 1 0\n",
            " 1 1 0 2 2 0 0 2 2 2 1 2 0 0 3 0 0 2 1 0 2 0 1 1 1 2 1 2 0 0 1 2 0 2 0 2 1\n",
            " 1 2 2 1 1 0 0 0 0 0 0 1 0 0 0 1 1 0 1 1 1 0 2 0 0 0 0 0 0 2 2 1 0 2 0 1 0\n",
            " 0 0 0 2 0 2 0 1 2 0 2 2 0 0 0 2 0 0 0 0 0 0 0 0 1 1 0 0 0 1 0 2 2 0 0 1 0\n",
            " 2 0 1 0 0 0 2 0 0 0 0 0 0 0 0 0 1 2 0 1 0 1 0 0 0 0 2 0 1 2 0 0 0 2 1 0 0\n",
            " 0 0 0 2 2 0 0 0 0 2 0 0 0 0 2 0 0 0 1 2 0 0 0 1 2 0 2 1 0 0 1 0 0 1 0 0 0\n",
            " 0 1 1 0 0 1 0 0 2 2 0 2 0 2 2 0 2 1 2 0 0 1 0 0 2 0 0 1 2 0 0 1 1 0 0 2 0\n",
            " 1 0 2 0 0 1 0 2 0 0 0 0 2 0 0 0 2 0 0 0 0 0 0 2 2 0 0 2 1 0 1 0 0 0 1 0 1\n",
            " 2 2 1 0 0 0 2 0 0 2 0 0 1 0 1 2 2 0 2 0 1 0 1 0 0 0 0 0 0 0 0 0 0 1 0 2 2\n",
            " 0 0 0 0 0 1 1 0 0 1 2 0 0 1 0 0 0 0 1 0 0 1 0 0 0 0 0 0 1 0 0 2 0 2 0 2 1\n",
            " 1 0 2 0 0 1 0 2 1 0 1 0 2 0 0 2 1 2 0 0 0 0 0 0 1 2 0 0 0 0 0 0 0 0 2 0 2\n",
            " 0 0 0 1 1 2 0 1 2 0 0 2 0 0 0 2 0 0 0 0 0 0 0 1 1 1 0 0 0 1 1 0 1 0 1 0 0\n",
            " 0 2 1 0 0 0 2 1 2 0 0 0 1 1 2 1 2 0 0 2 0 0 0 2 0 0 1 2 2 0 0 2 0 0 1 0 0\n",
            " 0 0 0 0 0 0 2 0 1 0 2 1 1 0 0 0 0 2 0 2 0 0 0 2 0 0 0 0 0 1 0 1 2 0 0 1 1\n",
            " 1 2 2 0 0 0 1 2 1 1 0 2 0 0 1 0 1 1 0 2 1 0 2 2 0 0 0 1 1 1 0 1 0 2 1 0 1\n",
            " 2 0 0 0 0 0 1 2 0 1 2 2 0 0 2 1 2 0 2 0 1 2 2 0 0 2 0 0 0 1 1 0 1 1 0 0 2\n",
            " 0 0 0 1 2 0 0 2 0 0 2 0 0 2 0 1 1 0 0 1 2 2 0 0 0 1 0 0 0 0 0 0 1 2 2 2 0\n",
            " 1 2 0 2 1 0 0 2 0 2 2 0 0 1 0 0 0 0 0 0 0 0 0 0 1 0 2 0 0 2 0 2 0 2 0 0 2\n",
            " 0 0 2 2 2 0 0 1 2 2 0 0 0 2 0 0 0 0 1 0 0 1 1 1 2 0 0 0 0 0 0 1 0 1 0 2 0\n",
            " 1 0 1 0 0 0 1 1 0 0 0 2 0 1 0 0 2 0 0 0 0 1 0 1 2 0 0 1 2 0 0 0 0 0 1 0 2\n",
            " 0 0 2 1 1 2 0 0 0 2 0 0 2 0 0 2 0 0 0 0 0 0 2 1 0 0 0 0 1 1 0 0 0 0 0 0 0\n",
            " 0 0 0 1 1 0 1 0 1 1 0 0 0 0 0 1 0 2 0 1 1 0 1 2 0 0 1 1 1 0 0 1 0 0 0 1 0\n",
            " 2 0 2 0 0 0 2 0 2 2 2 0 1 1 2 2 0 1 1 0 0 1 2 0 0 0 1 0 0 0 0 0 0 0 0 0 0\n",
            " 1 2 2 1 0 1 2 1 0 0 0 0 1 0 2 1 1 2 0 0 1 0 0 0 0 2 2 1 0 1 1 2 0 0 2 2 1\n",
            " 0 0 1 0 2 2 0 0 0 0 1 0 0 0 2 0 1 2 0 0 0 1 0 0 1 0 0 1 0 0 0 0 1 0 0 2 0\n",
            " 0 1 2 0 0 0 0 0 1 1 2 0 0 1 0 1 0 0 0 0 1 1 1 2 1 0 0 0 2 0 0 2 2 2 1 1 1\n",
            " 0 0 0 0 0 0 1 0 0 2 2 0 0 1 2 0 2 0 0 1 0 0 0 0 2 1 2 1 0 0 0 1 0 0 1 0 0\n",
            " 2 0 2 2 0 0 2 0 0 1 0 1 1 1 0 1 0 0 1 0 1 1 0 0 0 0 0 0 0 2 2 0 0 0 0 0 0\n",
            " 1 0 1 0 0 2 0 0 0 0 2 1 0 1 2 2 1 0 2 1 2 0 0 2 0 0 2 0 1 1 0 0 1 0 0 0 0\n",
            " 0 1 0 0 0 0 1 1 1 0 0 2 1 0 0 0 0 0 0 0 0 0 1 0 1 1 0 1 2 0 2 0 0 1 0 2 0\n",
            " 0 2 0 0 0 0 0 0 1 0 0 0 0 0 2 0 0 0 1 0 0 0 0 0 0 0 0 1 0 2 1 0 0 0 0 2 0\n",
            " 2 0 1 1 0 1 0 0 1 2 2 1 0 1 0 0 1 0 0 0 0 1 2 0 2 1 2 0 0 0 0 0 0 0 0 0 0\n",
            " 0 2 0 2 2 2 0 0 0 0 1 0 1 0 0 1 0 2 1 0 1 0 1 1 0 1 0 0 2 0 1 0 2 0 0 2 0\n",
            " 2 2 1 1 0 0 0 0 2 0 0 0 2 1 0 2 2 0 0 1 1 2 0 0 0 1 0 1 0 0 1 2 0 2 0 2 0\n",
            " 0 0 0 0 1 2 0 0 2 0 0 0 0 0 2 1 2 2 2 0 0 0 0 0 2 2 0 2 2 0 0 0 0 0 0 0 1\n",
            " 0 0 0 1 2 0 0 0 0 2 2 1 2 1 0 2 2 1 0 0 1 2 0 0 2 0 0 0 0 0 0 0 0 1 0 0 0\n",
            " 0 0 2 2 0 1 1 0 1 0 0 1 0 1 1 2 2 1 1 2 2 0 1 0 1 2 1 0 1 0 0 2 2 1 0 1 0\n",
            " 1 1 0 0 1 0 0 2 0 0 0 2 1 0 1 0 2 0 0 0 2 2 0 2 0 0 0 2 0 1 0 0 0 0 0 0 0\n",
            " 1 1 0 0 0 2 2 0 0 2 2 0 0 2 0 0 2 1 0 1 0 0 0 0 0 0 0 0 1 0 0 1 2 0 2 0 2\n",
            " 0 1 0 0 1 0 0 0 1 0 0 2 0 2 2 1 1 0 2 0 0 2 2 0 2 2 0 1 1 2 0 0 0 2 0 2 0\n",
            " 1 1 1 0 0 0 0 0 1 2 0 0 0 0 1 2 0 0 1 0 2 0 0 1 0 0 2 1 1 1 0 0 1 0 0 1 0\n",
            " 0 2 0 0 0 0 0 1 0 2 0 0 0 0 1 0 0 1 0 1 0 0 2 2 0 0 2 0 0 2 1 1 1 0 2 2 0\n",
            " 2 1 2 0 1 0 0 0 0 1 1 0 0 0 1 0 1 0 1 0 0 2 0 0 1 0 0 0 0 0 2 0 0 2 2 0 0\n",
            " 0 0 0 0 1 0 1 1 0 1 0 2 1 1 2 2 0 0 0 0 1 0 0 2 0 0 2 0 0 0 0 1 1 0 1 1 0\n",
            " 1 0 2 2 0 0 0 1 0 1 0 0 0 1 1 1 0 1 0 1 0 2 0 1 2 0 0 2 0 0 0 0 0 0 0 0 0\n",
            " 0 0 0 0 0 2 1 0 2 0 0 0 0 0 0 0 0 0 0 0 2 0 0 0 2 1 0 2 1 1 0 0 2 0 2 0 2\n",
            " 1 0 0 1 0 0 0 0 0 0 0 0 0 0 0 1 0 0 2 1 1 2 1 0 0 0 0 2 1 0 1 0 0 1 1 0 0\n",
            " 1 0 0 0 1 2 2 1 0 0 1 0 0 2 0 1 0 0 2 0 0 0 0 1 2 0 0 0 0 2 2 0 0 0 2 0 2\n",
            " 0 0 0 0 0 1 1 0 0 1 1 0 0 0 2 0 1 1 2 0 0 0 1 1 0 0 0 1 0 1 2 2 0 1 2 0 0\n",
            " 0 0 0 1 0 0 0 0 0 1 2 1 0 1 1 0 1 0 2 0 0 0 0 0 1 1 1 2 0 0 0 0 1 0 2 0 2\n",
            " 2 0 0 0 0 0 0 2 0 0 1 1 1 0 0 2 0 2 2 0 0 2 0 0 2 0 0 2 0 1 0 0 0 1 2 1 0\n",
            " 0 2 2 0 2 1 0 0 0 0 2 1 1 2 0 0 0 1 0 0 0 1 1 0 1 0 0 0 2 0 1 0 0 2 1 0 0\n",
            " 0 0 0 1 0 0 0 2 0 0 0 0 1 0 0 1 1 1 0 0 0 2 0 0 2 1 0 1 0 0 0 1 0 0 0 0 0\n",
            " 0 0 0 0 1 0 0 0 2 0 0 1 0 0 2 0 0 2 0 1 0 0 1 0 1 2 0 1 0 1 1 1 0 0 0 1 2\n",
            " 0 2 0 1 0 0 1 1 0 0 0 1 0 0 0 0 0 0 1 0 0 2 0 2 0 0 2 0 0 0 0 0 1 0 0 0 0\n",
            " 0 0 0 1 2 0 2 1 2 1 0 0 1 0 0 0 0 2 0 0 2 2 2 0 0 2 1 1 0 0 0 0 1 0 1 0 0\n",
            " 1 0 0 1 1 0 0 0 0 1 2 0 1 1 0 0 0 1 0 0 0 1 2 2 1 0 0 2 1 0 0 2 1 0 1 0 2\n",
            " 2 0 0 1 0 0 0 0 2 0 2 0 0 0 0 0 2 0 0 0 0 1 0 0 0 1 0 2 0 0 2 0 2 2 0 2 0\n",
            " 2 1 1 0 2 0 1 2 1 2 2 0 1 1 0 1 1 2 1 0 0 0 1 0 0 0 1 2 1 0 0 2 2 0 2 2 2\n",
            " 2 0 0 0 0 0 1 1 2 2 1 1 2 0 1 0 0 0 0 1 2 0 0 2 0 0 1 2 0 0 1 0 0 2 1 1 0\n",
            " 0 0 0 0 0 0 0 0 2 2 1 0 0 0 1 0 0 0 0 1 0 1 0 2 2 2 2 1 1 0 1 0 0 0 2 0 0\n",
            " 0 0 0 1 1 0 0 1 0 0 0 0 1 0 1 2 0 0 0 2 2 0 2 2 0 2 1 0 0 0 2 1 0 2 0 1 0\n",
            " 2 2 2 0 0 2 1 2 0 1 0 1 0 1 0 0 1 0 2 0 0 0 0 1 2 0 2 0 1 2 2 2 1 1 0 1 1\n",
            " 0 2 2 0 1 1 0 1 2 0 0 1 1 0 1 0 0 0 2 0 0 1 1 2 1 1 0 2 1 1 1 0 2 0 2 1 1\n",
            " 1 0 0 2 2 0 2 0 0 2 2 1 0 0 1 0 0 0 1 1 0 2 0 2 0 0 0 0 0 0 1 0 0 0 1 1 1\n",
            " 2 0 0 2 0 0 1 0 0 2 2 1 2 0 0 1 0 0 0 0 0 0 0 0 0 1 2 2 1 0 2 0 1 2 0 0 1\n",
            " 0 2 1 1 2 2 1 0 2 1 0 2 1 2 0 1 0 1 0 2 1 2 0 1 0 0 0 0 0 0 0 0 1 0 0 0 2\n",
            " 1 1 0 1 0 1 0 0 0 1 2 2 2 2 0 0 1 0 2 1 0 0 0 2 0 0 0 0 2 0 1 2 0 2 0 0 0\n",
            " 2 0 0 0 1 0 2 0 0 0 2 2 1 2 0 1 0 1 0 0 1 1 2 1 0 1 1 0 0 2 1 1 1 0 0 0 1\n",
            " 0 0 1 0 0 1 2 0 0 2 2 1 0 1 1 0 0 0 0 0 1 0 2 0 0 1 1 2 2 0 2 2 0 0 0 2 0\n",
            " 2 1 1 2 1 1 1 1 1 0 2 1 0 0 0 0 0 0 2 0 0 0 1 1 0 0 0 1 0 2 0 1 0 0 0 2 0\n",
            " 0 0 0 0 1 0 2 0 2 2 1 0 0 1 0 0 0 2 2 0 0 0 1 0 0 1 0 1 1 0 2 0 2 0 0 0 3\n",
            " 0 2 1 1 1 1 2 1 2 0 0 1 0 0 0 1 2 0 0 0 2 0 0 0 0 0 0 2 1 0 2 0 0 0 0 0 2\n",
            " 0 2 0 0 1 2 2 0 0 2 0 0 0 1 2 1 0 1 1 0 1 0 0 0 2 0 0 0 0 1 2 2 1 0 0 0 1\n",
            " 0 0 0 1 0 0 0 0 0 0 0 1 0 1 0 0 0 0 1 2 0 0 0 2 1 2 0 0 0 1 0 0 2 0 0 0 0\n",
            " 0 0 0 0 0 1 0 0 1 0 0 1 0 0 0 0 2 0 2 0 0 0 1 2 0 2 0 1 0 1 1 1 0 0 0 2 0\n",
            " 1 1 2 0 2 2 2 0 2 2 0 0 1 0 2 0 1 0 2 0 1 1 0 1 1 2 0 2 0 0 0 0 0 0 0 0 0\n",
            " 0 0 1 0 1 0 0 0 1 0 0 1 2 2 0 0 0 0 1 1 0 0 1 2 0 2 0 2 2 2 0 0 0 1 0 0 0\n",
            " 0 0 0 1 0 0 0 0 0 2 2 0 2 1 1 2 0 2 2 0 0 0 1 0 0 0 0 0 0 0 0 0 0 0 1 0 0\n",
            " 1 1 0 0 0 0 0 0 1 1 0 2 0 2 0 0 0 0 0 0 2 0 0 2 0 2 0 0 1 2 1 0 1 0 0 0 0\n",
            " 0 1 2 1 0 0 1 0 1 0 0 1 2 0 0 1 0 0 0 0 0 2 2 0 0 2 0 0 0 2 0 1 2 0 2 0 0\n",
            " 1 2 0 0 0 2 0 1 2 0 0 1 0 0 2 2 0 2 0 2 0 1 0 2 1 1 0 0 1 1 2 0 0 2 2 1 2\n",
            " 2 0 1 2 0 0 1 1 0 1 2 0 2 0 2 0 1 1 0 1 2 0 2 1 2 2 0 0 2 0 0 0 0 2 1 0 2\n",
            " 0 0 0 0 0 0 0 1 1 0 0 0 0 0 1 0 1 0 2 0 1 1 1 0 0 0 1 1 0 0 0 0 0 0 0 1 0\n",
            " 0 0 0 0 0 0 2 0 0 1 0 0 0 0 0 0 0 2 2 0 1 1 0 0 0 1 2 0 1 0 0 0 0 0 0 1 0\n",
            " 0 0 0 0 2 1 1 0 0 0 0 1 0 0 0 0 0 0 2 2 0 2 0 0 1 2 1 0 0 2 2 2 0 0 2 1 2\n",
            " 0 0 0 0 0 0 0 0 1 0 1 1 0 2 1 1 0 2 1 0 2 1 0 2 2 0 0 0 0 1 0 0 2 0 0 2 0\n",
            " 1 1 0 0 1 1 0 0 0 1 0 2 0 0 0 2 0 0 0 1 0 1 2 0 0 1 1 2 2 0 2 0 0 0 0 1 0\n",
            " 0 2 2 0 2 0 0 0 2 0 0 0 1 0 0 0 1 0 0 0 0 0 0 2 0 1 0 2 0 0 2 0 0 0 0 0 0\n",
            " 0 0 0 0 2 1 2 0 1 2 1 2 0 0 0 1 0 0 0 0 0 1 1 2 0 0 0 0 2 0 0 1 1 1 0 0 0\n",
            " 0 0 0 2 0 0 2 0 2 2 0 1 1 1 0 2 1 0 0 0 1 2 1 0 2 0 0 0 2 0 0 0 0 2 0 2 2\n",
            " 0 0 0 2 0 1 1 0 2 1 1 2 2 1 1 2 0 0 2 0 1 1 2 0 0 0 0 0 1 0 2 2 1 1 1 0 0\n",
            " 0 0 1 2 0 2 1 2 0 1 0 0 0 1 2 0 1 0 0 0 2 0 0 1 0 0 0 2 0 0 0 0 1 0 2 0 0\n",
            " 1 0 0 2 0 0 1 1 2 2 0 1 0 0 0 0 2 0 2 0 0 1 2 0 2 0 2 0 0 1 0 0 0 0 2 2 0\n",
            " 0 2 0 0 0 0 2 1 2 1 0 0 2 2 0 1 2 0 0 2 0 0 2 1 2 2 0 0 2 2 1 0 0 0 0 2 1\n",
            " 0 0 1 0 2 0 0 0 0 2 1 0 0 1 0 0 0 2 1 0 0 0 2 2 1 2 1 0 0 2 2 0 0 0 0 1 0\n",
            " 2 1 1 0 0 2 2 1 1 0 1 0 2 1 0 2 2 2 2 1 0 0 0 0 0 1 0 1 2 0 0 2 2 1 1 1 0\n",
            " 2 0 0 0 1 0 1 1 0 0 0 1 2 0 2 1 0 1 2 0 0 0 0 0 0 0 0 0 1 0 0 0 0 2 1 0 1\n",
            " 0 3 0 1 1 2 1 1 1 0 1 1 0 1 1 0 0 0 2 1 2 2 0 0 0 0 2 0 0 0 0 1 0 0 2 0 2\n",
            " 1 0 0 1 0 1 0 0 1 0 1 0 0 0 0 0 0 2 0 0 0 1 0 0 0 2 2 2 0 0 1 1 2 2 0 1 1\n",
            " 0 2 0 0 0 2 1 0 1 2 1 0 0 1 0 0 1 0 0 0 2 2 2 0 0 1 0 0 0 0 0 2 0 2 2 1 1\n",
            " 2 2 2 0 1 0 0 1 0 0 2 0 0 1 1 2 0 0 1 0 2 2 1 1 0 0 1 2 1 0 0 0 0 0 0 0 2\n",
            " 0 0 1 0 1 1 0 0 0 0 1 1 2 0 1 0 1 1 1 1 2 1 0 0 2 0 0 2 0 0 0 0 1 0 2 2 0\n",
            " 0 0 0 0 1 2 0 0 2 0 0 1 2 0 2 0 0 1 0 2 0 1 1 1 0 0 0 2 1 0 0 1 1 1 0 2 1\n",
            " 0 0 0 0 0 0 0 0 0 0 1 1 0 2 0 1 2 1 0 0 0 0 1 1 1 1 0 0 0 1 0 1 0 1 2 2 2\n",
            " 1 0 0 0 0 1 0 0 0 2 1 1 0 2 2 1 0 0 0 0 1 1 1 1 0 2 1 1 1 0 0 2 0 0 0 0 0\n",
            " 0 2 1 0 1 1 0 1 0 0 0 0 1 0 0 0 2 2 1 0 0 0 0 0 1 0 0 0 0 0 1 0 0 2 2 0 0\n",
            " 2 1 2 0 0 2 1 0 0 0 2 0 2 0 0 1 0 0 1 0 0 0 0 2 0 1 0 2 0 0 0 0 1 0 0 1 2\n",
            " 1 2 0 1 0 1 0 1 1 0 1 0 1 1 0 0 0 0 0 0 2 0 0 0 1 0 2 0 1 1 1 2 1 0 0 0 1\n",
            " 0 1 0 1 1 2 1 0 0 0 2 1 0 0 1 1 2 0 2 0 1 0 0 0 0 2 0 1 1 0 1 1 2 0 1 1 0\n",
            " 0 2 0 2 2 1 0 0 1 0 2 0 0 0 0 0 2 2 0 1 1 0 0 0 1 0 0 0 0 0 0 1 1 0 2 1 0\n",
            " 0 0 0 0 0 0 0 0 0 0 0 0 2 1 0 1 1 2 0 0 1 0 2 0 1 2 1 0 0 0 1 2 2 0 0 1 0\n",
            " 0 0 0 2 0 0 0 0 0 0 0 0 0 1 1 0 2 0 2 0 2 0 0 2 1 0 0 0 2 0 0 1 2 0 2 2 2\n",
            " 0 1 0 0 0 0 1 0 0 1 2 2 0 1 2 0 2 0 2 1 2 0 0 0 2 1 2 0 0 2 2 0 0 0 0 0 0\n",
            " 1 0 2 2 1 1 0 1 0 2 2 1 2 0 0 1 1 0 0 2 0 0 0 0 1 0 2 0 0 2 0 0 0 2 1 0 0\n",
            " 0 1 2 2 0 2 0 0 0 2 0 1 0 0 1 2 0 0 0 2 2 2 0 0 0 0 0 2 0 0 1 0 1 0 2 1 1\n",
            " 0 2 1 0 0 0 1 0 0 0 1 0 1 0 0 0 0 0 1 0 0 0 1 0 0 2 0 2 1 0 0 0 0 0 0 1 1\n",
            " 2 0 0 0 1 1 2 2 0 0 1 0 0 0 0 0 1 1 2 0 0 0 0 1 0 2 1 0 0 0 0 0 0 1 0 0 1\n",
            " 1 1 0 1 2 0 2 2 0 0 1 0 0 2 2 0 0 0 2 2 1 1 1 0 0 1 0 0 2 0 1 2 0 0 0 1 1\n",
            " 0 1 1 0 1 0 0 0 0 0 1 1 0 1 2 2 0 0 0 0 2 0 1 1 1 1 0 0 2 1 1 0 0 0 1 2 0\n",
            " 0 0 2 0 2 1 0 0 0 0 0 0 0 0 0 1 1 1 1 0 1 2 2 0 0 0 0 0 0 0 0 0 0 0 2 2 0\n",
            " 2 0 2 0 0 0 0 2 0 0 2 0 0 1 0 0 1 0 0 0 2 0 0 2 1 0 0 0 0 0 2 0 0 2 1 0 1\n",
            " 0 0 2 0 0 0 0 1 0 0 1 1 1 1 2 0 0 0 2 0 2 0 2 0 0 2 0 0 0 0 0 0 1 0 0 0 0\n",
            " 0 1 1 0 1 0 2 0 0 1 1 0 0 0 1 0 1 0 0 0 1 1 2 2 2 0 1 0 0 0 0 0 2 1 1 2 1\n",
            " 1 0 0 0 1 2 1 0 0 2 2 2 0 0 1 0 0 1 0 1 0 0 2 1 2 1 1 0 2 0 0 2 0 0 2 0 0\n",
            " 0 0 1 0 0 0 1 0 1 0 0 2 0 1 1 0 0 0 2 0 2 1 1 1 2 0 1 0 0 0 0 1 0 0 2 0 0\n",
            " 0 0 0 0 0 0 2 1 1 1 2 1 0 0 1 0 2 0 2 0 2 0 0 1 0 0 0 1 0 1 0 1 1 0 0 0 2\n",
            " 2 0 0 2 1 0 1 0 1 1 0 2 0 0 1 0 0 0 0 2 2 1 0 0 2 0 2 2 0 2 1 2 2 1 0 1 0\n",
            " 0 1 0 2 0 2 0 2 2 0 2 0 0 2 0 0 0 2 0 2 1 2 0 0 1 0 2 1 1 0 0 0 0 0 0 2 0\n",
            " 0 0 0 0 1 0 0 0 1 0 1 2 1 1 1 2 0 1 0 0 0 0 0 1 0 0 0 2 0 1 1 2 2 0 2 0 0\n",
            " 0 0 0 0 0 2 0 2 0 0 2 0 0 0 0 2 0 2 0 0 3 2 1 0 0 0 0 0 2 1 0 0 0 0 0 0 0\n",
            " 0 0 0 2 1 2 1 0 1 0 0 1 1 0 0 2 0 1 0 0 2 0 0 2 0 0 0 0 0 0 0 1 1 1 0 0 0\n",
            " 0 0 0 0 0 0 0 0 0 0 0 2 1 3 0 1 0 0 0 1 2 0 0 0 2 0 0 0 0 0 1 0 0 0 1 0 1\n",
            " 2 1 2 0 0 2 1 1 2 0 1 0 1 1 1 2 0 0 2 1 1 0 2 1 2 0 1 1 1 0 0 2 0 1 0 0 1\n",
            " 0 2 0 2 0 0 0 0 0 2 2 0 0 1 0 1 0 2 0 2 1 0 0 0 0 0 2 0 1 2 0 1 2 2 1 0 1\n",
            " 0 0 0 1 1 0 1 1 0 2 0 0 0 0 0 0 0 0 0 0 1 0 0 0 0 0 0 0 0 1 1 1 2 1 2 1 1\n",
            " 1 1 2 1 0 0 0 0 2 0 2 0 0 0 0 0 1 0 0 0 0 1 1 1 0 0 0 0 0 0 1 0 0 0 0 0 0\n",
            " 2 2 1 2 1 1 1 0 0 0 0 0 0 0 0 0 0 0 0 0 2 2 0 0 0 0 1 1 0 2 2 1 2 0 0 1 0\n",
            " 0 0 0 0 0 0 0 0 2 1 0 0 0 0 2 0 2 1 1 0 2 0 2 0 0 0 0 0 0 0 0 0 0 0 0 2 0\n",
            " 2 1 0 1 0 0 0 0 1 2 3 0 2 0 1 0 0 0 0 2 0 0 1 0 0 1 1 0 0 0 2 0 2 0 0 2 0\n",
            " 0 1 0 0 1 0 1 0 1 0 2 1 0 1 0 2 2 1 0 2 0 1 0 2 0 0 1 1 0 0 1 0 1 2 0 0 0\n",
            " 0 2 0 0 0 0 2 0 0 2 0 0 0 2 0 2 1 0 1 1 2 2 1 0 0 2 0 0 2 0 0 0 0 0 2 2 1\n",
            " 0 0 1 1 0 0 0 1 2 0 0 0 0 0 1 0 1 0 0 0 2 1 0 0 0 0 0 2 1 0 2 0 1 0 1 0 2\n",
            " 0 1 0 0 1 0 2 2 0 2 0 0 0 0 1 1 1 0 0 1 1 0 0 2 1 1 0 2 0 0 1 0 2 0 0 0 0\n",
            " 1 2 0 2 0 1 0 0 0 1 1 0 0 2 1 1 2 0 1 0 1 0 0 2 0 2 0 0 0 0 0 0 0 2 0 1 0\n",
            " 2 0 0 0 0 0 1 2 0 2 0 0 1 0 1 2 1 2 2 1 0 2 0 1 2 0 0 0 1 2 0 1 0 1 0 0 2\n",
            " 2 1 0 2 1 0 0 0 0 0 1 2 2 0 0 0 1 0 1 0 1 2 0 2 0 1 1 0 0 2 0 1 0 2 0 1 0\n",
            " 1 0 0 2 0 0 0 0 0 2 0 0 0 2 0 2 0 0 1 0 1 0 1 0 0 0 2 0 0 1 2 2 1 0 2 0 2\n",
            " 1 0 0 2 0 2 1 0 0 0 0 1 0 0 0 1 1 0 1 0 0 0 2 0 1 0 1 0 0 2 0 0 1 0 0 0 0\n",
            " 0 2 2 2 0 1 0 0 2 0 2 1 2 0 1 0 1 1 0 0 0 0 0 1 0 0 0 0 0 0 1 1 1 0 1 1 2\n",
            " 0 0 0 2 0 1 2 2 2 1 2 2 0 1 0 2 0 1 1 1 2 0 1 2 0 0 2 0 0 0 0 0 2 0 0 1 0\n",
            " 0 1 0 0 0 0 1 1 2 1 1 0 2 2 0 0 0 2 1 0 1 0 2 2 0 0 0 2 0 2 1 2 1 0 0 1 1\n",
            " 1 0 2 0 0 2 0 0 1 0 0 1 1 1 0 0 0 0 1 1 0 0 0 0 0 0 0 0 1 1 1 1 2 0 0 1 0\n",
            " 1 0 0 2 1 0 1 0 0 0 2 0 2 2 0 1 1 2 0 0 1 0 0 0 2 0 0 0 0 0 0 1 0 1 0 0 1\n",
            " 2 2 2 0 0 2 0 1 0 0 1 1 2 0 2 0 1 0 0 1 1 0 0 1 1 2 0 1 0 2 0 0 0 1 0 0 2\n",
            " 0 1 0 0 0 0 1 0 1 0 2 2 0 0 0 0 0 0 0 0 0 0 1 0 0 0 0 2 0 0 1 0 0 0 0 2 1\n",
            " 0 2 0 1 2 0 1 2 0 1 1 0 0 0 0 1 2 0 0 1 1 2 0 0 0 0 0 1 2 2 0 1 0 0 1 2 0\n",
            " 1 0 0 0 2 1 0 0 1 1 0 2 2 0 0 1 1 0 0 0 0 1 2 0 2 0 0 1 2 0 0 0 1 1 2 0 0\n",
            " 1 0 2 2 0 0 2 0 0 0 1 0 1 0 0 0 2 0 0 0 1 0 1 0 1 0 0 2 1 2 2 0 0 0 0 0 0\n",
            " 1 0 0 0 0 2 2 1 0 0 1 0 0 0 0 2 0 1 1 0 2 0 0 2 0 1 0 2 1 0 0 1 0 2 2 0 0\n",
            " 0 0 0 0 1 0 0 1 0 2 0 2 0 0 2 0 0 0 0 0 1 0 1 0 0 2 1 2 0 0 0 1 1 1 1 0 2\n",
            " 0 0 0 2 0 1 2 2 0 0 0 0 0 1 0 1 1 1 1 1 2 1 0 1 0 2 0 0 0 1 0 2 1 0 2 0 0\n",
            " 0 0 0 0 0 2 2 1 1 0 1 2 0 1 0 1 0 2 0 0 0 1 0 0 2 2 1 0 2 0 2 0 0 2 0 0 0\n",
            " 1 1 1 2 1 0 0 2 2 1 0 0 1 0 1 0 2 0 0 0 2 0 2 0 0 0 1 2 0 1 1 1 0 0 1 2 1\n",
            " 0 1 2 0 2 0 2 0 2 2 1 1 0 1 2 1 2 0 2 0 0 0 0 0 2 0 1 0 2 0 2 0 1 2 0 0 1\n",
            " 1 1 1 0 0 0 2 1 1 1 1 0 2 2 1 1 2 1 0 0 0 0 0 0 0 1 1 2 1 0 2 0 0 2 0 0 2\n",
            " 0 1 0 0 0 0 1 0 1 2 2 0 0 0 0 0 0 0 0 1 0 0 0 0 2 0 1 0 1 2 0 2 1 0 2 0 2\n",
            " 0 2 2 2 0 0 1 0 2 0 0 1 0 0 1 1 0 0 0 1 1 2 0 0 0 0 2 0 0 0 1 0 1 1 1 1 0\n",
            " 2 0 0 2 2 0 0 2 0 1 2 1 2 0 0 1 0 0 2 1 1 1 1 0 0 0 0 1 2 0 2 1 1 2 0 0 1\n",
            " 1 0 1 1 1 2 2 1 1 1 1 0 0 0 0 0 0 0 0 0 0 0 2 2 0 0 0 0 0 0 0 1 0 1 1 2 0\n",
            " 1 2 1 0 0 1 0 1 0 0 0 0 1 2 2 0 2 1 2 0 1 1 2 0 0 0 0 0 0 1 0 0 0 1 0 1 0\n",
            " 2 0 0 0 1 1 1 2 0 0 0 0 0 2 1 0 0 1 0 0 2 0 2 1 1 0 1 2 0 0 0 0 0 0 0 0 0\n",
            " 2 0 0 1 0 0 2 1 2 1 1 0 0 0 0 2 1 2 0 0 1 0 0 1 0 0 0 0 1 0 0 1 2 0 0 0 1\n",
            " 0 2 1 1 2 1 0 0 2 0 0 2 3 0 1 0 1 0 0 1 0 1 2 1 2 0 1 1 0 2 0 0 0 0 0 0 1\n",
            " 0 1 2 1 0 1 0 0 0 1 0 0 2 0 0 0 0 0 0 0 1 1 0 2 0 1 1 0 0 0 0 0 0 0 1 1 0\n",
            " 0 1 1 1 0 0 1 2 2 2 0 0 1 0 1 0 2 1 1 0 0 2 0 0 0 2 0 0 0 2 0 2 1 0 2 0 2\n",
            " 2 0 0 0 1 0 0 0 2 0 2 1 1 1 0 1 0 1 0 0 1 2 2 0 0 1 2 1 0 0 0 1 1 1 0 1 0\n",
            " 2 2 2 2 1 0 2 0 1 0 2 0 1 0 0 0 2 2 1 1 0 0 1 2 0 0 0 2 0 2 2 0 2 0 0 0 0\n",
            " 0 0 0 2 1 2 0 0 2 0 2 0 0 0 0 0 1 0 2 1 0 1 0 0 1 1 2 0 1 1 0 2 0 0 0 0 0\n",
            " 1 0 2 1 0 0 0 0 0 0 2 1 1 0 0 0 0 0 0 1 2 1 1 0 2 0 0 0 2 2 0 0 2 2 0 2 1\n",
            " 0 0 1 0 0 2 0 1 0 0 2 0 0 2 0 2 0 2 0 0 0 0 0 0 1 0 1 2 0 0 2 2 1 0 2 0 0\n",
            " 0 0 0 0 0 0 0 0 1 0 2 2 0 0 0 1 0 0 2 1 0 1 1 2 0 0 1 2 1 0 0 0 0 0 1 0 0\n",
            " 0 1 1 1 0 0 0 1 2 2 0 1 0 0 2 0 1 0 0 0 1 1 1 0 1 0 1 1 0 0 1 0 2 0 1 1 0\n",
            " 0 1 0 0 0 0 2 2 0 0 0 0 1 0 2 2 1 0 2 1 2 1 0 0 0 0 0 0 1 2 1 1 2 0 2 0 0\n",
            " 0 1 1 0 0 0 0 2 0 0 0 1 0 2 0 1 1 0 1 1 0 0 2 2 1 1 0 0 1 0 1 0 1 0 2 0 0\n",
            " 1 2 2 1 2 0 2 0 0 1 0 0 0 0 0 0 1 1 0 0 0 0 0 0 1 0 0 0 0 0 0 0 1 1 0 1 1\n",
            " 1 0 1 2 0 0 2 2 2 0 2 0 1 0 2 1 2 0 2 1 2 0 0 0 0 0 1 0 1 0 0 2 1 0 0 0 1\n",
            " 0 2 0 0 0 2 2 0 1 0 2 1 1 1 2 2 2 1 0 0 0 0 0 2 0 0 0 0 2 0 1 0 2 0 0 0 0\n",
            " 1 0 1 2 0 1 0 0 2 2 2 0 0 0 0 2 0 2 0 2 1 2 1 0 1 0 0 0 0 0 0 2 0 0 0 2 0\n",
            " 0 0 1 2 2 2 0 0 0 0 0 2 1 0 0 0 1 2 0 0 2 0 0 1 2 2 0 0 0 1 1 1 0 1 1 0 0\n",
            " 0 0 0 0 1 0 0 0 0 0 0 0 0 2 0 0 0 2 1 0 0 0 2 2 0 0 0 0 0 0 2 0 1 1 0 1 0\n",
            " 0 1 0 0 0 2 0 0 2 0 0 2 0 0 1 2 1 0 0 1 0 0 0 2 2 0 0 1 1 0 2 0 1 0 2 1 0\n",
            " 0 1 0 1 0 1 2 2 0 0 0 1 0 1 2 2 1 1 0 0 2 0 0 0 0 1 0 0 0 2 1 0 2 1 0 2 0\n",
            " 0 0 0 1 0 0 2 0 0 0 2 0 0 1 2 0 1 0 1 1 2 2 1 1 0 1 0 0 2 0 0 2 0 0 0 2 2\n",
            " 0 0 0 0 0 0 2 0 1 0 2 1 1 2 0 2 0 0 0 1 0 0 2 2 1 0 2 1 0 1 0 2 2 2 2 0 1\n",
            " 2 0 0 0 1 0 0 0 1 0 2 0 1 0 0 0 0 0 0 1 0 0 0 0 0 0 2 0 0 0 0 0 1 0 0 1 0\n",
            " 1 0 2 2 2 0 0 0 1 1 2 0 1 0 0 0 0 0 0 0 1 1 0 0 1 0 0 0 0 0 0 0 2 0 2 0 0\n",
            " 0 0 0 2 1 0 0 0 0 0 1 1 0 1 0 0 1 1 0 2 0 2 0 0 2 0 0 1 0 2 0 0 0 2 2 1 0\n",
            " 1 0 0 0 0 0 0 0 1 0 1 1 1 0 0 1 2 0 0 1 2 0 0 0 1 0 0 0 0 1 2 0 0 0 0 0 0\n",
            " 1 1 0 2 0 0 1 1 1 2 1 0 0 0 0 0 0 0 0 0 1 0 2 2 2 0 0 1 0 2 2 0 0 0 0 1 0\n",
            " 0 0 2 0 0 0 0 1 1 0 0 1 0 0 0 0 0 0 0 0 0 0 2 1 0 0 0 1 2 0 0 0 0 1 1 0 2\n",
            " 0 0 1 2 0 1 0 0 2 0 2 1 2 0 0 0 0 2 1 2 0 1 0 2 2 0 0 0 0 2 1 2 0 2 0 2 0\n",
            " 2 0 1 2 0 0 1 0 0 0 1 0 0 0 0 0 1 0 0 0 1 0 0 1 0 0 0 0 0 0 0 1 2 0 1 1 0\n",
            " 1 0 2 0 1 0 0 0 0 2 2 0 2 0 1 0 0 0 1 0 1 1 0 1 1 0 0 0 2 0 0 0 1 0 0 0 1\n",
            " 0 0 0 0 0 2 0 0 2 1 0 1 2 2 0 2 2 2 1 1 0 1 0 0 1 0 1 0 2 0 0 0 2 0 0 0 0\n",
            " 1 0 2 0 0 0 0 1 2 2 2 0 0 1 1 1 2 2 0 0 2 2 0 0 0 0 0 1 0 0 1 1 0 2 0 0 0\n",
            " 0 0 0 0 1 0 2 1 1 0 0 0 0 0 0 1 1 1 1 0 1 1 2 1 2 0 1 1 0 0 0 1 0 2 2 0 0\n",
            " 1 2 0 2 1 0 0 0 0 0 0 0 0 2 0 0 0 1 0 0 2 0 1 2 0 0 0 0 0 0 0 0 1 0 0 1 0\n",
            " 0 0 0 2 0 2 0 1 2 0 0 0 1 0 0 2 0 0 1 0 0 0 1 0 1 0 2 0 2 2 0 0 2 0 2 0 2\n",
            " 1 0 1 0 2 0 0 2 0 0 2 0 2 1 0 0 1 2 1 2 2 2 2 0 2 0 0 0 0 0 0 1 0 0 1 0 0\n",
            " 1 0 1 1 0 0 1 0 1 0 1 0 2 0 1 0 0 1 0 1 0 2 2 0 0 0 0 0 2 0 2 2 0 0 0 2 0\n",
            " 2 2 2 0 1 2 0 0 1 0 0 0 1 0 0 1 1 0 1 2 1 0 0 1 1 1 0 1 0 2 0 0 0 2 0 2 1\n",
            " 1 0 0 1 0 0 2 0 1 1 0 0 0 0 0 0 2 1 1 1 0 0 0 0 0 2 0 0 0 0 0 1 0 0 0 0 0\n",
            " 1 0 0 0 0 0 0 1 1 0 1 1 0 0 0 0 0 0 2 0 0 0 1 0 0 0 0 0 0 1 0 2 1 2 0 0 1\n",
            " 0 0 0 1 1 0 2 0 1 2 0 0 1 0 0 0 0 2 1 0 1 0 2 2 0 0 0 0 0 2 1 0 0 0 0 0 0\n",
            " 0 0 0 0 2 1 0 2 0 1 0 2 0 1 1 1 2 0 2 1 0 2 0 0 0 0 0 1 1 2 0 0 2 0 0 0 0\n",
            " 0 1 2 2 0 0 0 0 0 1 0 0 2 0 1 2 2 0 0 1 0 0 0 0 0 0 1 2 0 1 0 0 0 0 2 0 2\n",
            " 0 2 0 0 2 1 1 0 0 0 2 0 0 1 2 0 0 0 0 0 0 0 1 2 1 0 1 0 2 2 0 0 0 0 0 0 0\n",
            " 0 2 0 0 0 0 0 2 0 0 0 0 0 0 0 2 1 0 2 1 0 0 2 1 1 1 2 0 1 0 0 0 1 2 1 0 0\n",
            " 0 0 2 0 0 0 0 0 0 0 0 0 2 2 0 1 0 0 0 1 0 0 2 1 2 0 0 1 0 0 0 0 0 1 0 0 1\n",
            " 0 1 2 0 1 1 0 0 0 0 0 0 0 0 2 0 0 0 0 1 2 1 0 1 0 0 1 2 2 0 0 1 2 1 0 1 0\n",
            " 1 0 2 2 0 2 1 0 1 0 1 0 0 1 2 0 0 2 1 0 2 1 0 0 0 0 0 1 0 2 0 3 0 0 1 0 0\n",
            " 0 0 2 1 0 0 0 0 0 0 2 1 1 1 1 1 0 0 0 0 2 0 0 0 1 1 0 0 0 0 0 1 2 2 2 0 0\n",
            " 2 0 0 0 1 2 1 0 0 1 0 0 2 2 0 1 1 1 0 1 0 2 0 2 2 0 2 0 0 1 0 1 1 1 0 0 0\n",
            " 0 0 0 0 0 0 1 0 2 0 2 2 0 0 0 2 2 1 0 1 0 1 0 1 0 0 0 0 0 0 2 0 0 1 0 0 0\n",
            " 0 0 0 0 0 2 2 0 0 0 0 1 0 0 0 0 0 0 1 0 0 0 0 2 0 0 0 2 0 0 0 1 0 0 1 0 2\n",
            " 0 0 0 0 2 0 1 2 0 2 1 0 0 0 0 0 2 1 0 0 0 0 0 2 2 0 0 0 0 0 0 0 0 0 2 1 2\n",
            " 0 0 1 1 2 0 0 1 1 1 0 1 1 0 0 2 0 0 1 1 1 0 1 2 2 1 0 0 1 1 0 0 2 0 1 1 1\n",
            " 0 0 0 1 2 0 0 0 0 0 1 1 0 1 0 0 0 0 2 0 0 0 1 0 0 2 0 2 1 1 2 1 2 2 2 1 0\n",
            " 2 0 2 2 0 1 2 1 0 2 2 0 0 0 0 1 0 0 1 0 0 0 0 0 0 1 1 0 0 0 0 1 1 1 1 0 0\n",
            " 1 0 2 0 0 0 2 0 2 1 0 1 0 2 1 0 0 0 0 0 0 2 0 0 1 0 0 0 2 0 0 0 0 0 1 0 0\n",
            " 0 1 0 1 0 0 0 0 0 0 0 0 0 0 2 1 2 2 0 1 0 0 0 0 2 0 0 0 2 1 1 0 0 0 1 1 0\n",
            " 2 0 1 1 1 2 0 0 0 0 0 1 0 1 1 1 1 0 0 2 0 0 0 2 0 0 2 0 2 0 1 2 0 0 0 0 2\n",
            " 0 2 2 2 0 0 0 0 0 1 0 2 1 0 2 1 0 0 0 0 0 2 2 0 0 0 2 0 0 0 2 2 2 0 2 2 0\n",
            " 0 0 0 0 2 0 2 0 0 0 0 0 0 0 0 0 1 0 2 0 0 0 0 1 0 0 2 0 1 2 0 1 0 2 0 0 2\n",
            " 0 2 1 0 2 0 0 2 0 2 0 1 0 1 0 1 0 0 2 1 0 0 0 1 1 0 2 2 1 1 2 1 0 1 0 1 0\n",
            " 0 0 0 0 0 1 0 1 0 0 0 2 1 2 1 0 0 0 0 0 0 2 0 1 0 1 1 0 2 1 1 2 0 0 0 0 0\n",
            " 0 0 0 0 1 2 1 0 0 1 0 0 2 0 2 0 1 0 1 1 1 0 0 0 2 0 2 0 0 0 0 2 1 0 0 0 0\n",
            " 1 0 0 2 1 2 2 0 0 1 0 0 1 2 0 0 0 0 0 0 0 0 2 0 0 0 0 1 0 0 0 0 1 2 0 0 0\n",
            " 1 0 0 0 0 2 0 0 0 0 0 0 2 0 2 0 0 0 2 2 2 1 1 0 2 1 0 0 1 0 0 1 0 0 1 0 0\n",
            " 2 1 0 2 0 1 1 2 2 2 0 0 0 1 0 1 0 0 0 0 0 1 0 1 0 0 0 1 0 1 1 0 1 0 1 2 2\n",
            " 2 2 0 1 0 0 0 0 0 0 2 0 0 0 1 0 0 0 1 0 1 0 0 0 0 0 0 0 0 1 0 0 0 0 1 0 0\n",
            " 0 0 0 0 2 1 1 1 0 0 2 2 2 0 0 1 0 0 0 1 0 0 0 2 2 1 1 1 2 0 0 0 2 1 0 0 2\n",
            " 0 0 2 0 1 0 0 0 0 0 0 0 1 0 1 0 2 2 0 2 2 1 2 2 1 1 0 1 0 0 0 1 1 1 0 0 0\n",
            " 0 2 1 2 0 1 0 0 0 0 1 2 1 0 1 0 0 0 1 2 0 0 2 0 1 0 0 1 0 0 2 0 0 0 0 2 1\n",
            " 1 1 1 0 0 0 2 1 0 1 1 0 1 0 1 0 0 0 0 0 0 0 0 0 2 1 1 1 0 0 1 0 2 0 0 0 0\n",
            " 1 1 0 1 0 1 0 0 1 2 1 0 0 2 2 0 0 2 0 0 0 0 0 0 1 0 0 2 1 0 1 0 0 1 0 0 0\n",
            " 0 1 0 0 0 0 0 0 1 0 0 0 2 2 0 2 2 0 1 0 1 1 2 0 0 0 0 0 1 1 0 2 0 0 0 2 1\n",
            " 1 0 2 0 0 0 0 1 0 0 0 2 1 1 0 0 0 0 0 2 2 2 1 1 0 0 1 1 2 0 0 0 0 0 0 2 0\n",
            " 1 2 0 0 2 2 0 1 1 0 0 0 1 2 0 0 0 2 0 2 2 0 0 2 0 1 0 0 0 2 1 0 0 1 0 2 2\n",
            " 0 0 0 0 0 0 1 2 1 0 0 2 1 0 0 0 1 1 3 1 2 0 0 1 0 2 2 0 0 1 0 0 0 1 2 1 1\n",
            " 0 0 1 0 0 0 0 0 0 1 0 0 0 0 0 0 0 0 0 0 1 0 1 2 0 0 0 0 2 0 0 0 0 0 1 0 2\n",
            " 0 0 1 2 2 0 0 2 1 0 2 0 0 1 1 0 2 1 2 0 1 2 2 0 0 0 2 0 2 0 0 1 2 0 0 0 1\n",
            " 2 1 0 1 0 0 0 0 0 1 0 1 2 1 0 0 1 0 0 2 0 0 0 2 0 0 0 2 0 0 2 0 0 1 0 0 1\n",
            " 2 0 0 0 0 1 0 0 0 0 0 1 0 0 0 2 2 0 0 0 0 0 0 1 1 0 1 1 2 0 0 1 0 0 0 0 0\n",
            " 0 0 0 2 2 0 0 0 0 2 1 2 1 0 1 0 0 1 2 1 1 0 0 0 0 0 0 2 0 0 1 0 1 0 2 2 0\n",
            " 0 0 1 1 1 1 0 0 2 0 0 0 1 1 2 0 0 0 0 1 0 0 0 2 0 0 0 1 0 0 1 0 0 0 2 0 0\n",
            " 0 0 1 1 2 0 1 0 0 2 0 2 1 2 2 1 0 0 0 2 0 1 0 0 0 0 0 1 1 0 0 1 0 0 0 0 1\n",
            " 0 2 0 1 1 2 0 2 1 0 0 0 0 0 0 0 1 0 0 0 2 2 2 1 0 0 0 0 0 0 0 1 0 2 1 1 1\n",
            " 0 1 0 0 0 0 0 2 1 0 0 0 0 2 1 0 0 1 0 2 0 1 2 2 1 0 1 1 1 0 1 0 0 2 2 1 1\n",
            " 0 1 0 1 1 0 0 1 0 1 0 0 0 0 1 0 0 0 0 1 0 0 0 0 0 0 0 0 0 2 0 1 1 2 0 0 0\n",
            " 1 0 2 1 2 0 1 1 1 0 0 0 0 0 0 0 0 0 0 1 0 1 0 2 2 0 0 0 2 0 2 0 0 0 0 0 0\n",
            " 2 2 2 2 0 0 0 0 0 2 2 0 1 0 1 1 0 0 0 1 0 0 2 0 1 0 2 1 0 0 2 1 0 1 0 1 1\n",
            " 0 1 0 0 1 2 2 0 0 1 0 0 2 2 0 1 2 0 2 0 1 0 1 2 0 0 2 1 1 0 2 0 1 0 0 1 1\n",
            " 0 0 1 0 1 2 0 0 0 1 2 0 0 0 1 0 2 0 1 2 0 0 0 2 0 2 0 1 0 0 0 1 0 2 0 1 0\n",
            " 1 0 0 0 0 2 0 2 0 2 0 0 0 0 1 1 0 0 0 0 2 1 1 1 1 0 0 0 2 2 0 0 1 2 0 2 0\n",
            " 0 1 0 2 0 0 0 2 2 0 2 0 0 1 1 2 0 0 1 1 1 0 0 0 0 1 0 0 1 1 1 0 0 0 0 0 0\n",
            " 1 0 2 0 0 1 0 1 0 0 0 1 0 0 0 0 2 2 0 2 2 0 1 0 0 0 1 0 0 2 1 0 0 2 1 1 0\n",
            " 0 0 1 0 0 0 1 2 1 0 1 0 0 1 0 0 0 1 0 0 0 0 1 1 0 2 1 0 0 1 2 2 0 0 2 2 0\n",
            " 1 0 2 2 0 0 0 0 0 1 0 1 0 0 0 0 0 0 0 1 0 0 0 1 0 0 1 1 0 0 1 0 0 1 0 1 1\n",
            " 0 0 0 0 2 0 0 2 1 0 0 0 2 0 0 2 2 1 0 1 2 0 0 1 1 0 2 0 2 1 1 0 0 1 0 0 1\n",
            " 0 0 0 1 2 0 1 0 1 0 1 1 1 0 2 0 2 0 1 0 1 0 0 0 0 0 0 0 2 2 0 2 0 1 1 0 1\n",
            " 1 0 0 0 0 1 0 0 2 0 2 0 1 0 0 1 1 2 2 0 2 1 0 0 2 1 1 0 0 1 0 0 0 0 0 1 2\n",
            " 0 0 2 1 2 0 0 2 1 1 0 1 0 0 0 0 0 1 1 2 1 0 0 2 0 1 2 1 0 0 0 0 0 2 2 0 0\n",
            " 0 1 0 2 0 0 1 0 1 2 0 0 0 1 0 2 0 2 0 0 0 2 0 0 0 0 0 2 1 2 0 1 0 2 1 0 0\n",
            " 1 0 1 0 2 1 1 1 0 1 0 0 0 0 1 2 0 2 2 0 0 0 1 0 2 1 0 1 2 1 0 0 2 2 0 2 0\n",
            " 1 0 0 1 1 1 0 0 1 0 0 0 0 0 0 0 2 1 2 0 0 0 0 0 0 0 0 0 0 0 1 0 0 1 0 2 1\n",
            " 0 0 0 0 1 2 0 0 0 1 1 1 0 0 2 0 0 1 0 2 0 2 1 2 0 2 2 0 2 1 0 1 1 0 0 2 1\n",
            " 0 0 2 2 0 2 0 1 2 0 0 2 2 0 1 0 0 0 0 1 0 1 0 0 0 0 0 1 0 2 0 0 1 0 0 1 0\n",
            " 0 1 0 0 0 0 2 0 1 0 0 0 2 0 1 1 1 0 0 1 0 0 2 1 2 1 1 2 0 2 0 1 0 0 2 2 0\n",
            " 0 1 1 1 0 0 0 1 0 1 1 2 0 0 0 2 0 2 2 0 0 2 0 0 1 0 3 1 2 0 0 2 0 0 0 1 0\n",
            " 0 0 0 0 1 0 0 0 0 1 2 0 0 0 0 0 0 1 0 0 0 1 0 0 2 2 0 0 0 1 1 1 0 0 0 2 2\n",
            " 0 0 1 1 0 0 2 0 2 0 0 2 0 2 0 0 0 0 0 0 0 0 0 0 0 1 0 1 1 0 1 0 2 0 0 1 2\n",
            " 2 2 0 1 0 2 2 2 0 0 1 0 1 0 1 1 0 0 0 0 0 2 0 1 0 1 0 0 1 0 1 0 0 1 1 0 1\n",
            " 0 0 0 0 2 0 0 0 2 0 0 0 0 0 0 0 0 0 0 0 0 0 0 0 1 2 1 1 0 0 0 2 2 2 0 0 2\n",
            " 2 1 0 1 0 2 0 2 0 0 0 0 2 2 2 1 1 0 2 0 0 2 0 0 0 0 1 0 0 1 0 0 1 0 0 1 1\n",
            " 2 0 0 1 1 1 1 1 2 0 0 2 1 0 1 0 2 0 1 0 1 0 0 1 1 0 2 0 0 0 0 1 1 0 0 0 1\n",
            " 1 1 2 0 2 0 2 1 2 1 1 2 2 1 1 1 0 0 0 2 2 0 0 0 0 1 0 2 0 0 0 0 0 2 0 0 0\n",
            " 0 0 0 0 2 0 1 0 0 0 0 0 0 0 0 2 0 0 1 0 0 1 2 0 1 2 1 2 1 0 0 1 1 0 2 0 1\n",
            " 0 2 0 2 1 0 0 1 2 0 0 1 0 0 0 2 0 2 0 1 0 1 0 0 0 0 0 2 1 1 0 1 0 0 1 1 1\n",
            " 0 1 2 2 1 1 2 1 1 0 0 0 0 2 0 1 0 0 1 0 0 1 0 2 0 0 2 0 2 0 0 0 1 2 2 0 0\n",
            " 0 0 1 2 2 0 2 0 1 1 0 0 0 0 2 1 0 1 1 0 0 0 0 1 0 1 0 1 2 2 3 0 0 1 0 0 2\n",
            " 0 0 0 0 2 1 2 0 0 2 1 0 1 1 2 2 0 0 0 0 0 0 0 0 2 0 2 0 0 0 0 0 0 0 2 2 0\n",
            " 1 1 0 0 2 0 1 0 1 0 2 2 0 1 2 1 0 0 0 0 1 0 0 1 1 0 1 1 0 1 2 1 2 0 0 1 0\n",
            " 1 0 0 2 0 1 2 0 0 0 0 2 1 0 2 0 1 2 0 0 0 0 0 0 2 2 2 1 0 0 2 0 1 1 0 0 0\n",
            " 1 2 0 0 2 0 0 0 2 0 2 2 2 0 0 0 2 0 1 0 2 0 0 0 0 1 2 2 0 0 2 0 2 0 0 2 0\n",
            " 0 0 0 1 0 0 0 0 1 0 2 1 2 0 0 0 1 0 0 2 0 0 0 0 2 0 0 1 0 0 0 1 0 0 0 1 0\n",
            " 0 2 0 2 1 1 0 2 2 0 0 0 0 2 1 0 2 1 2 1 0 2 2 0 2 2 1 1 0 0 0 0 0 0 0 1 1\n",
            " 2 1 2 1 0 1 0 1 0 0 2 2 0 2 0 0 1 1 0 0 0 0 1 0 0 0 0 0 0 2 0 1 0 0 1 1 2\n",
            " 0 1 0 0 0 0 0 1 0 2 0 1 0 0 2 0 1 1 2 2 0 0 1 2 0 0 0 2 0 0 0 1 0 0 0 0 0\n",
            " 2 2 2 0 2 1 0 2 0 0 0 0 1 1 0 0 0 0 0 0 0 1 0 2 0 0 0 1 1 0 1 2 0 2 2 0 0\n",
            " 2 0 0 0 0 0 0 0 0 1 0 0 1 2 0 0 2 0 1 0 2 2 0 2 0 2 1 1 2 0 0 0 0 0 1 0 0\n",
            " 2 0 0 1 0 1 1 1 0 0 0 1 2 0 0 0 1 0 2 1 0 0 0 1 0 0 0 0 0 2 0 0 0 2 0 0 1\n",
            " 0 0 0 0 1 0 1 0 2 0 2 2 1 0 0 1 0 0 2 0 2 1 2 1 0 2 0 0 0 0 1 0 2 2 0 0 2\n",
            " 2 0 0 0 0 0 0 1 0 0 2 0 0 0 1 0 0 2 1 0 0 2 0 0 1 0 2 0 1 1 2 0 1 2 0 1 0\n",
            " 0 2 1 0 0 0 1 0 0 0 0 1 0 0 1 2 0 1 2 0 0 0 2 2 1 1 1 0 1 0 0 2 0 1 2 0 2\n",
            " 1 0 2 0 2 0 0 0 0 1 0 0 0 0 0 0 0 1 1 1 0 0 2 0 0 0 0 0 2 0 0 0 0 2 1 0 0\n",
            " 0 0 0 0 0 1 1 0 0 2 0 1 0 0 2 0 2 0 2 1 0 0 1 1 2 2 0 2 2 0 2 1 0 1 0 0 0\n",
            " 0 1 2 1 0 2 0 0 1 0 1 1 0 2 2 0 0 1 0 0 0 2 0 0 0 1 2 0 0 1 0 2 1 0 2 0 1\n",
            " 0 0 2 1 0 0 0 0 0 1 0 0 1 0 0 0 0 2 1 2 0 1 0 1 0 0 0 0 0 0 2 0 0 0 2 0 0\n",
            " 2 1 0 0 0 1 0 0 0 0 2 0 0 0 0 2 0 1 0 1 0 2 0 0 2 1 2 2 0 0 0 0 0 0 1 1 0\n",
            " 2 2 0 0 0 2 0 0 0 0 0 1 1 0 0 1 2 1 2 0 1 0 1 2 2 0 0 2 2 0 2 0 0 0 0 0 0\n",
            " 2 1 0 0 0 0 0 2 2 2 0 0 0 1 0 1 0 0 0 0 2 0 0 0 1 1 0 0 2 1 0 0 2 0 2 2 0\n",
            " 0 0 0 2 0 0 1 0 0 0 1 1 2 0 2 0 0 1 0 2 1 0 0 0 2 2 0 2 1 0 0 2 2 1 2 2 0\n",
            " 0 0 0 0 0 2 2 0 0 1 0 0 1 0 0 0 1 0 0 0 0 0 0 1 0 2 1 0 0 0 0 2 0 1 0 0 0\n",
            " 0 0 0 0 0 2 0 0 0 1 0 1 0 0 2 2 2 0 2 0 0 2 2 0 0 0 0 0 2 2 1 0 2 0 1 1 1\n",
            " 0 1 2 0 1 0 0 0 1 0 0 0 0 0 0 2 0 0 1 2 0 2 1 0 2 0 1 0 1 0 2 1 1 0 1 1 0\n",
            " 0 0 0 1 0 0 2 0 1 0 0 0 0 0 0 0 2 0 2 1 1 2 0 0 0 0 0 2 2 0 0 1 0 2 0 1 0\n",
            " 1 0 2 2 2 0 2 0 2 1 2 2 0 2 0 0 2 1 2 1 2 2 0 0 0 2 2 1 1 2 0 1 1 2 1 0 0\n",
            " 0 0 0 1 0 0 0 2 1 0 0 2 0 0 0 0 0 0 0 1 1 0 0 0 0 1 1 1 0 1 2 1 0 1 2 0 2\n",
            " 2 0 0 0 2 2 0 0 0 2 0 2 0 1 0 2 0 1 0 0 0 0 0 0 0 0 1 0 0 2 0 0 0 0 1 0 1\n",
            " 0 0 0 1 2 1 1 0 0 0 0 0 0 1 0 0 0 1 0 0 0 0 0 2 0 2 0 2 0 2 0 1 0 0 0 2 2\n",
            " 1 1 0 0 2 2 0 1 0 0 0 0 2 2 2 2 1 0 0 0 0 0 0 0 0 0 2 2 0 0 0 0 2 2 0 2 1\n",
            " 0 0 0 0 0 2 2 0 0 1 0 2 0 0 2 0 0 1 0 0 1 0 0 0 0 0 2 0 1 2 0 0 0 2 0 0 0\n",
            " 1 0 0 2 2 0 0 1 0 2 1 1 0 1 0 0 0 0 0 1 2 0 0 0 2 0 2 0 1 0 0 2 0 1 0 0 0\n",
            " 1 2 0 1 0 0 0 0 2 2 1 2 0 0 1 1 2 2 2 1 0 1 0 0 2 0 0 2 0 0 1 1 1 1 0 1 2\n",
            " 2 0 1 0 0 0 0 1 0 0 0 2 0 0 0 1 1 1 0 0 2 1 0 2 2 2 1 2 1 0 0 1 2 0 0 0 2\n",
            " 0 0 0 2 0 0 0 0 0 1 2 2 0 0 1 0 2 1 0 0 0 1 0 1 0 1 1 0 1 2 2 0 0 0 0 0 1\n",
            " 0 2 2 1 0 1 1 2 0 0 0 0 0 1 0 0 1 0 1 1 0 0 0 0 0 0 1 0 0 0 0 2 0 2 1 1 0\n",
            " 0 2 0 0 1 0 1 0 0 0 0 0 0 1 1 2 0 2 0 0 1 0 2 2 1 0 0 0 0 1 0 0 0 0 0 0 0\n",
            " 0 0 1 0 2 0 0 1 2 0 0 2 1 1 0 1 0 0 1 0 0 0 0 0 0 1 2 0 0 0 0 0 2 1 0 2 0\n",
            " 2 2 0 1 2 0 0 0 0 2 0 1 0 0 1 1 1 1 0 0 0 0 0 1 0 2 2 2 0 0 1 0 2 2 0 0 0\n",
            " 0 0 0 0 2 2 1 2 1 0 2 0 1 0 2 0 2 1 0 0 2 2 0 1 0 2 0 0 0 0 0 0 0 1 0 2 0\n",
            " 2 1 0 1 0 1 2 1 1 2 2 0 0 1 0 1 0 0 1 2 1 2 0 0 1 0 2 2 0 0 0 2 1 2 1 0 0\n",
            " 1 0 0 0 0 1 2 1 0 0 0 1 0 0 0 2 0 1 0 0 0 0 0 0 1 0 0 0 0 0 2 0 0 0 2 2 2\n",
            " 0 0 1 2 0 0 1 0 2 1 0 1 0 0 1 0 0 2 1 0 0 0 0 1 1 2 0 2 2 2 1 2 2 2 0 0 0\n",
            " 0 0 0 0 1 0 0 0 0 0 1 2 2 0 1 0 0 2 1 1 1 2 0 2 1 2 0 0 0 0 1 0 0 0 1 0 2\n",
            " 0 1 1 1 0 0 1 0 1 0 1 0 2 2 0 2 0 0 0 0 1 0 2 1 0 2 1 0 0 1 0 0 0 0 2 0 0\n",
            " 1 0 0 0 0 1 0 0 0 0 0 2 1 2 1 2 0 0 0 1 0 0 0 1 0 0 0 1 0 0 1 1 0 0 2 0 2\n",
            " 0 0 0 1 1 0 0 0 2 2 0 2 0 0 0 0 0 1 1 0 0 0 0 1 0 2 2 1 2 2 0 0 0 1 0 1 2\n",
            " 0 0 1 0 0 0 0 0 2 0 1 2 0 2 2 1 1 1 0 0 0 0 0 0 0 0 1 1 1 1 0 0 0 1 0 1 1\n",
            " 0 2 0 0 0 0 1 1 0 0 1 0 1 1 2 2 0 0 0 2 2 0 0 1 0 1 0 0 0 2 2 1 0 1 0 1 2\n",
            " 1 0 1 0 1 0 1 0 1 0 1 0 0 0 0 1 0 0 0 1 1 0 1 2 0 0 1 0 0 1 0 0 0 0 0 1 1\n",
            " 2 0 0 0 1 0 0 2 0 1 2 0 1 0 0 0 0 2 0 2 0 0 0 0 0 1 0 0 0 1 0 1 1 0 0 2 2\n",
            " 0 0 1 0 0 0 0 0 1 0 0 0 1 0 1 2 1 0 2 2 2 0 0 1 0 0 0 2 1 0 1 1 1 2 0 1 1\n",
            " 0 1 2 0 0 1 0 0 0 0 0 0 0 0 0 0 0 0 2 0 1 0 1 0 1 0 1 0 0 0 0 0 0 0 0 0 1\n",
            " 0 2 0 0 0 0 2 0 1 0 2 1 0 1 1 0 0 0 1 0 1 2 2 0 1 0 2 0 0 0 0 2 0 0 0 1 0\n",
            " 0 0 0 0 1 0 2 2 2 0 1 0 1 2 0 1 0 0 0 2 1 1 3 2 0 1 0 2 0 0 2 0 0 0 2 0 0\n",
            " 2 2 0 0 0 0 0 1 0 2 2 1 1 2 2 0 0 1 0 1 0 0 0 1 2 0 2 0 0 2 0 0 2 0 0 2 0\n",
            " 0 1 0 0 1 0 0 0 2 1 0 0 0 0 0 2 1 2 1 0 0 0 2 0 0 0 0 1 0 1 0 0 1 0 0 0 2\n",
            " 0 2 0 1 0 1 0 0 0 2 0 2 1 1 0 0 0 1 0 1 0 0 0 0 0 1 1 0 0 2 0 0 1 2 0 0 2\n",
            " 0 1 1 2 0 1 0 0 2 0 1 0 2 0 0 1 2 2 0 1 2 0 0 0 0 2 0 0 0 0 1 1 2 1 2 0 2\n",
            " 0 2 0 2 0 0 0 1 0 0 1 0 0 0 1 2 1 2 0 0 2 1 1 0 2 0 0 0 0 1 0 0 0 0 1 0 0\n",
            " 0 0 0 0 1 2 0 0 2 1 1 0 1 0 1 0 0 0 1 2 1 1 0 1 0 2 2 0 0 0 2 2 0 1 2 0 1\n",
            " 1 2 2 2 2 2 2 0 0 2 1 2 0 0 0 0 0 0 1 0 1 0 0 0 0 0 1 0 0 2 1 0 1 0 0 0 1\n",
            " 0 0 0 2 2 0 2 0 2 0 0 2 2 0 1 0 0 1 2 1 0 0 0 0 0 0 0 0 0 0 0 2 0 0 0 0 2\n",
            " 2 0 0 2 0 0 2 0 2 0 1 0 0 0 0 0 0 2 2 0 2 0 0 0 0 1 2 2 2 0 2 0 1 1 2 0 0\n",
            " 0 1 0 2 1 2 2 1 1 0 2 1 0 0 0 0 2 1 0 1 1 2 1 2 0 2 2 0 1 0 0 0 1 0 1 0 0\n",
            " 0 0 2 0 0 0 0 1 0 0 0 0 2 0 0 0 0 0 0 0 2 2 1 0 0 0 2 2 1 0 2 0 0 0 0 2 0\n",
            " 0 0 0 2 0 0 1 1 2 0 2 1 0 2 1 0 1 1 0 2 1 1 1 2 1 0 0 0 2 0 1 0 0 2 0 0 1\n",
            " 2 0 0 0 0 1 0 2 2 2 0 0 1 2 2 2 2 0 2 0 1 1 2 0 0 0 0 0 2 0 0 1 0 0 0 0 0\n",
            " 0 2 0 2 0 0 0 0 1 2 0 1 0 0 0 0 0 0 1 1 0 1 0 0 0 0 0 0 0 2 1 0 2 0 0 0 0\n",
            " 0 2 0 0 0 0 0 2 0 0 0 0 2 1 0 0 2 0 2 1 0 1 1 2 0 0 2 2 0 0 2 2 1 0 0 0 1\n",
            " 0 0 1 2 1 0 0 0 1 1 0 1 0 2 1 1 2 0 0 1 2 1 1 1 2 2 0 0 2 1 0 0 0 0 2 1 0\n",
            " 1 2 2 0 1 0 1 0 2 1 0 1 0 1 2 2 1 0 1 0 0 1 0 0 2 1 1 0 1 0 2 0 0 1 0 2 0\n",
            " 1 0 2 0 0 1 1 0 0 2 0 1 2 0 0 2 0 1 2 0 0 0 0 1 0 0 0 0 0 0 0 0 1 1 0 0 1\n",
            " 0 1 0 0 0 1 0 2 2 0 0 2 0 0 0 0 0 0 1 1 3 0 0 1 1 1 0 2 2 0 0 0 2 1 2 1 1\n",
            " 2 1 0 0 0 0 1 0 0 1 0 0 0 2 2 2 0 0 0 0 2 2 0 0 0 1 0 2 0 2 1 0 1 0 1 0 2\n",
            " 1 2 0 1 1 2 1 0 1 0 0 0 2 1 0 1 2 2 0 2 1 0 0 0 0 1 0 0 1 1 0 1 0 0 2 0 0\n",
            " 0 1 0 0 0 2 2 1 1 0 0 0 0 0 1 0 0 1 2 2 0 2 0 0 1 2 0 0 0 1 2 1 0 2 1 0 2\n",
            " 2 1 0 1 0 1 0 0 0 1 0 1 0 0 2 0 1 0 0 1 2 0 0 0 0 2 1 0 2 1 1 1 0 2 1 1 0\n",
            " 2 2 1 1 2 0 1 0 0 1 2 0 1 0 0 1 2 1 1 0 1 2 0 0 0 1 2 2 0 0 0 1 0 1 0 2 0\n",
            " 2 1 0 0 2 1 0 2 0 0 0 0 1 1 2 1 1 0 0 1 1 2 2 0 2 0 0 0 0 0 1 1 0 2 0 2 0\n",
            " 1 0 2 1 0 0 0 2 1 2 2 1 1 0 2 0 0 0 2 0 0 0 0 2 2 0 2 1 1 0 0 0 1 0 1 0 0\n",
            " 0 0 2 1 0 0 1 1 0 0 0 0 1 0 1 1 0 0 2 0 2 1 0 0 0 0 2 0 0 0 2 0 1 0 1 0 1\n",
            " 0 0 0 0 0 2 0 1 0 0 1 0 0 1 1 0 0 0 0 0 0 2 1 1 2 2 0 1 0 0 2 2 0 1 2 0 2\n",
            " 1 1 0 2 2 0 0 2 2 0 2 2 1 0 2 0 0 0 0 1 0 0 2 1 1 1 0 1 0 1 0 1 1 0 2 2 0\n",
            " 0 0 0 1 1 2 1 2 2 0 2 2 0 2 0 0 0 1 0 0 0 0 2 2 0 2 0 0 1 1 1 2 0 0 0 2 1\n",
            " 0 2 0 2 2 0 0 1 1 0 1 0 0 1 0 0 0 0 1 0 0 1 0 1 0 1 0 1 0 2 2 0 0 0 2 0 1\n",
            " 1 0 0 2 0 1 1 0 0 0 0 0 0 1 0 0 0 2 0 0 1 1 0 2 0 0 2 0 0 2 2 1 0 0 0 0 2\n",
            " 0 0 1 1 0 1 1 0 0 1 0 0 0 1 1 2 0 1 2 1 0 1 1 0 0 1 0 1 1 0 0 0 0 0 1 0 0\n",
            " 2 0 1 0 0 2 0 0 1 0 0 2 0 0 1 0 2 0 0 1 1 0 2 2 0 0 0 0 0 0 0 0 1 0 2 2 0\n",
            " 0 1 0 0 0 0 0 2 0 0 1 0 0 0 0 0 2 0 2 2 0 2 0 1 0 2 0 0 2 2 2 0 0 0 0 2 0\n",
            " 0 1 0 0 0 1 0 0 1 1 0 1 2 2 0 2 0 2 0 2 0 0 0 0 0 2 0 0 1 0 1 1 0 0 0 1 1\n",
            " 1 1 0 0 2 0 0 0 0 2 0 0 0 0 0 2 2 0 2 0 0 2 0 1 2 0 0 0 0 2 0 0 0 2 2 1 0\n",
            " 2 0 0 2 0 0 0 2 2 0 1 0 0 0 0 0 2 0 1 0 0 0 2 2 0 0 1 0 0 1 0 0 0 1 2 1 0\n",
            " 1 0 1 0 0 0 1 0 2 1 0 0 0 2 1 0 1 0 2 1 1 0 0 0 0 2 1 1 1 2 1 0 0 0 1 0 0\n",
            " 1 0 2 2 0 0 1 1 0 2 0 0 0 0 0 0 0 2 0 1 1 0 0 2 2 1 0 0 0 0 0 0 0 2 2 1 1\n",
            " 0 0 0 0 0 0 1 1 1 1 2 0 0 0 0 0 1 2 1 1 0 2 0 0 0 0 0 2 0 0 0 0 1 1 0 2 0\n",
            " 2 0 0 2 0 0 2 0 1 0 0 0 0 0 0 2 0 2 0 0 1 0 0 0 0 0 1 2 0 2 1 1 2 1 0 1 0\n",
            " 1 0 1 0 2 0 0 0 0 0 0 1 1 0 0 0 1 1 1 0 1 2 1 0 0 2 1 1 2 1 2 0 0 0 0 0 2\n",
            " 2 0 0 1 1 2 1 0 2 1 0 1 1 0 0 0 0 1 0 1 1 1 0 0 0 0 2 0 1 0 2 1 0 0 1 2 1\n",
            " 2 1 2 0 0 1 2 0 2 0 1 0 1 0 1 0 0 0 0 0 0 1 0 0 0 1 0 0 0 0 0 0 0 0 0 0 2\n",
            " 0 1 1 0 2 1 0 1 0 1 1 1 0 1 1 1 0 0 1 0 3 1 0 0 1 0 2 1 2 1 1 2 0 0 0 0 0\n",
            " 2 0 2 2 2 0 0 0 0 1 0 2 0 0 2 1 0 2 0 0 0 0 0 2 1 0 1 0 0 0 1 0 2 1 0 1 1\n",
            " 2 1 1 2 1 2 2 0 0 2 0 0 0 2 2 2 1 2 2 1 0 1 2 1 0 0 1 2 2 1 2 2 0 0 0 1 1\n",
            " 0 0 2 2 0 0 1 2 0 1 0 2 0 0 1 0 0 0 1 2 1 0 1 0 0 2 2 1 0 0 0 1 0 0 0 0 0\n",
            " 2 0 2 1 0 0 0 2 0 1 0 0 2 0 0 1 0 2 2 0 2 0 0 0 0 0 2 0 0 0 0 1 0 2 2 1 1\n",
            " 2 0 0 0 2 1 0 0 2 0 1 1 0 1 0 1 0 2 0 0 1 0 0 0 2 0 1 1 0 1 1 0 0 0 1 2 2\n",
            " 1 2 0 1 0 2 0 0 0 1 1 2 0 2 2 0 3 0 0 2 1 0 1 0 2 0 2 2 0 0 1 0 0 0 0 2 0\n",
            " 0 0 1 1 0 1 2 0 2 0 0 1 0 0 1 0 2 2 0 0 1 1 1 0 2 0 1 0 0 1 1 1 0 1 2 2 1\n",
            " 0 0 1 2 2 0 1 2 0 1 1 1 0 1 2 0 0 0 0 2 0 0 0 1 0 1 2 1 1 2 2 0 0 0 0 0 0\n",
            " 2 1 1 0 2 0 0 0 0 0 0 0 0 0 1 2 2 0 2 1 2 2 1 0 2 0 0 1 2 0 2 2 2 1 0 0 0\n",
            " 0 0 1 0 1 0 1 0 0 0 0 0 0 0 2 2 0 1 0 0 1 0 0 0 2 0 2 2 0 0 0 1 2 1 1 0 0\n",
            " 0 2 0 0 1 0 0 2 1 1 0 0 0 1 0 0 0 0 2 0 1 0 0 0 0 0 2 0 2 2 1 0 0 2 0 1 0\n",
            " 2 2 0 0 0 0 0 1 1 0 0 0 0 2 1 0 0 0 0 0 0 0 0 0 2 2 0 2 0 1 0 0 0 0 0 0 1\n",
            " 1 0 0 0 2 1 2 1 2 0 1 1 2 2 2 0 1 1 0 1 0 0 0 2 0 2 0 2 2 0 2 0 2 0 0 1 1\n",
            " 2 0 0 0 1 0 2 1 1 0 0 0 0 0 0 0 0 1 0 1 0 1 0 0 0 0 0 0 0 0 0 2 1 1 2 2 2\n",
            " 0 1 1 0 0 0 0 0 0 0 0 0 1 1 1 0 0 1 1 1 2 0 1 2 0 0 2 1 0 1 0 0 0 2 1 0 0\n",
            " 0 1 1 0 1 0 0 2 0 0 2 0 0 1 0 0 0 1 2 0 1 0 0 0 0 0 0 0 1 2 0 0 1 0 0 2 1\n",
            " 2 0 0 1 1 0 0 2 0 0 2 1 0 0 0 1 0 1 0 0 0 1 0 1 1 0 0 0 2 1 0 0 0 0 0 0 0\n",
            " 0 0 0 2 1 1 0 0 2 0 1 0 0 0 1 0 1 0 0 0 2 0 0 0 0 2 0 0 0 2 1 0 0 0 2 1 1\n",
            " 1 2 0 0 2 0 1 0 0 2 2 2 2 0 0 0 0 0 0 1 0 0 2 1 0 2 0 2 1 0 1 0 1 2 0 1 2\n",
            " 0 0 0 0 0 0 1 2 0 0 1 1 0 2 0 0 2 1 0 2 2 1 0 1 0 0 2 0 0 0 0 1 0 1 0 0 0\n",
            " 0 0 1 0 1 0 1 2 2 0 0 0 2 0 0 2 2 0 2 0 2 1 2 0 2 0 0 0 2 1 1 0 0 1 2 2 2\n",
            " 0 0 0 0 0 2 1 0 2 1 2 2 1 0 0 1 0 2 1 1 1 1 2 1 0 1 0 0 1 0 0 0 1 0 1 0 1\n",
            " 0 2 1 2 1 0 1 0 2 0 2 0 0 0 0 1 0 2 0 2 0 1 1 0 0 0 0 2 1 1 1 1 1 2 0 0 0\n",
            " 0 1 0 0 0 0 2 0 2 2 0 0 0 2 1 2 1 1 0 0 1 2 0 0 0 1 0 1 2 2 0 1 0 2 2 2 2\n",
            " 2 0 2 0 1 1 1 2 1 0 2 0 1 1 2 0 0 0 1 1 0 2 0 1 2 1 2 0 1 2 0 2 1 2 0 0 0\n",
            " 1 0 2 1 2 0 0 1 0 0 2 1 2 0 0 1 0 0 1 0 0 0 1 2 1 0 0 1 0 1 0 1 0 1 0 2 0\n",
            " 2 2 0 0 0 0 2 2 1 0 1 2 0 0 1 0 2 2 0 0 0 0 1 1 0 0 1 1 2 1 0 1 0 0 2 2 1\n",
            " 0 2 0 1 0 0 1 0 1 0 1 1 1 2 0 1 0 0 0 2 0 0 2 0 0 1 0 0 0 0 2 1 0 0 2 1 1\n",
            " 2 1 2 2 0 0 0 0 2 2 0 0 1 2 0 0 0 0 0 0 0 0 2 1 1 1 0 2 0 0 2 1 0 0 0 0 0\n",
            " 0 0 0 0 2 0 0 2 0 2 0 0 0 0 0 2 1 1 1 1 0 0 1 0 0 0 0 0 0 1 0 1 0 2 0 0 0\n",
            " 2 1 2 0 1 0 1 1 0 0 0 0 1 0 0 0 1 0 2 1 1 2 1 0 2 0 0 0 0 1 0 0 0 1 0 0 1\n",
            " 0 2 2 1 2 0 0 1 0 0 1 0 2 1 0 2 0 1 2 1 1 0 1 1 1 0 2 0 1 1 0 0 0 2 0 0 0\n",
            " 0 0 0 0 0 0 1 0 0 0 1 1 0 1 0 0 2 0 0 0 1 0 1 2 1 0 0 0 0 0 0 0 0 1 1 0 1\n",
            " 0 0 2 0 0 2 0 0 0 0 2 0 0 0 2 0 0 0 0 0 0 1 1 2 2 0 2 0 0 2 0 0 0 2 0 2 0\n",
            " 0 0 0 0 1 0 0 0 0 0 0 0 1 0 0 2 1 0 0 0 0 0 1 1 2 2 1 1 1 0 1 2 2 1 0 0 2\n",
            " 0 0 0 0 0 0 0 0 1 1 0 0 0 0 0 1 1 1 0 1 0 0 2 2 1 2 2 0 0 0 2 2 0 0 2 2 1\n",
            " 0 0 0 1 1 0 2 2 0 0 0 0 0 0 0 2 0 0 0 0 1 0 1 2 1 1 1 1 1 1 2 2 1 1 2 2 3\n",
            " 1 1 0 0 1 2 0 0 0 2 0 1 1 2 1 0 0 0 0 2 0 0 1 0 1 0 2 1 0 0 0 2 0 0 0 1 2\n",
            " 2 1 0 2 2 0 1 2 2 0 0 0 2 2 0 2 1 2 1 0 0 0 1 0 1 0 1 0 0 0 2 2 0 0 1 1 0\n",
            " 2 0 0 2 1 1 0 1 2 2 0 0 0 0 0 1 0 0 2 0 0 0 2 2 2 1 0 0 2 0 2 0 0 0 1 0 1\n",
            " 1 0 2 0 0 1 0 0 0 0 0 0 0 0 0 0 0 1 0 0 2 0 2 2 2 1 0 1 0 0 0 0 0 2 1 0 0\n",
            " 1 0 2 0 2 1 0 1 0 0 1 0 2 0 0 0 0 1 0 0 0 0 0 0 2 0 0 1 1 0 0 0 2 0 1 0 2\n",
            " 0 0 0 1 1 2 0 0 0 0 0 0 0 0 2 0 0 2 0 0 0 2 2 2 1 0 0 1 0 2 0 0 2 1 1 0 2\n",
            " 0 1 2 2 0 0 0 0 0 0 1 0 0 0 0 0 2 0 0 0 1 2 2 2 0 0 0 2 1 0 2 1 2 0 0 2 0\n",
            " 0 0 1 0 0 2 1 1 0 1 1 1 0 0 1 1 0 0 1 1 2 0 0 0 0 0 0 0 2 0 2 2 2 0 2 0 0\n",
            " 2 0 2 0 0 1 2 2 0 0 0 0 0 1 2 2 0 0 0 0 0 0 0 1 0 0 1 0 1 0 0 1 0 0 0 1 0\n",
            " 2 1 2 1 0 1 2 1 0 0 0 0 0 2 1 1 0 0 2 2 1 0 0 0 0 0 0 0 2 0 0 0 0 0 0 2 1\n",
            " 2 2 0 0 0 2 0 2 0 2 1 0 2 1 0 0 0 0 0 0 0 0 1 2 2 2 0 2 0 0 0 2 0 2 0 0 0\n",
            " 1 0 0 1 2 0 0 0 0 0 0 0 2 0 0 0 0 1 0 1 0 1 2 0 1 0 0 0 1 0 0 1 0 0 2 2 0\n",
            " 0 0 0 0 0 1 0 2 0 1 0 0 2 2 0 1 1 0 0 0 0 2 0 0 0 0 2 0 1 1 0 2 2 0 0 0 1\n",
            " 0 0 0 1 2 2 1 0 0 2 0 1 0 1 0 2 2 0 1 0 0 0 1 0 0 0 1 1 0 2 0 0 0 0 0 0 0\n",
            " 2 2 2 2 0 0 0 2 2 0 0 2 0 2 0 2 1 0 0 0 0 0 1 2 0 1 1 0 0 1 0 2 1 0 1 1 0\n",
            " 0 0 0 0 0 2 0 1 0 0 2 1 0 2 2 1 2 0 2 1 1 0 0 2 2 0 0 0 1 1 0 0 1 0 0 0 0\n",
            " 0 2 0 0 0 0 0 0 0 0 0 2 0 0 1 0 0 0 1 0 1 0 0 1 0 1 0 0 0 0 0 0 0 1 0 0 1\n",
            " 0 0 0 0 0 0 0 0 0 0 1 1 2 0 0 2 0 0 0 0 1 1 0 0 0 0 0 0 0 1 0 0 0 1 0 1 1\n",
            " 0 2 0 2 2 1 0 2 2 1 2 1 1 0 0 0 1 0 1 0 0 0 0 0 0 0 0 0 0 0 2 0 1 2 1 0 0\n",
            " 0 0 0 0 0 1 1 0 0 0 1 0 1 1 0 0 1 0 2 0 2 2 0 1 2 0 1 0 0 0 2 0 1 0 1 0 0\n",
            " 2 2 2 0 0 0 0 2 0 0 0 1 0 1 2 0 2 1 0 1 0 0 1 0 2 1 1 2 1 1 2 0 1 2 0 0 0\n",
            " 0 0 0 0 0 2 0 2 0 0 2 0 1 2 2 2 0 0 0 0 0 0 0 0 0 0 0 0 0 0 0 0 0 1 1 0 0\n",
            " 0 1 0 2 0 0 1 0 0 0 0 0 2 0 0 2 0 0 0 0 1 1 0 0 0 0 0 1 0 1 2 1 0 1 1 0 2\n",
            " 0 1 0 0 2 0 2 2 0 2 0 0 0 0 1 1 1 2 1 2 1 0 1 0 0 0 2 0 0 0 0 0 0 0 1 2 0\n",
            " 1 1 0 0 2 0 0 0 1 0 0 1 2 2 0 1 2 1 0 0 0 0 0 2 2 2 0 0 0 2 0 0 0 1 1 0 0\n",
            " 1 1 2 1 2 0 0 0 2 2 0 0 0 2 0 0 2 1 0 0 2 2 0 0 0 2 0 1 0 0 1 1 0 0 0 0 0\n",
            " 0 0 2 1 0 2 0 2 0 1 0 0 1 0 0 1 0 0 1 0 1 1 0 1 2 0 1 0 0 1 0 0 2 1 0 2 1\n",
            " 1 0 0 0 0 1 0 0 0 1 0 0 2 1 2 1 2 0 0 1 0 0 1 0 0 0 2 0 1 1 1 2 1 0 1 0 2\n",
            " 2 2 1 1 2 0 0 1 1 0 1 0 0 0 0 1 0 0 1 2 2 1 0 0 1 0 2 0 0 0 1 0 0 1 2 2 2\n",
            " 1 0 2 0 2 0 0 1 0 1 0 0 2 0 1 0 1 1 0 0 0 0 2 1 0 2 0 1 0 2 0 1 0 0 2 2 2\n",
            " 0 0 0 1 1 1 2 0 1 0 0 1 0 0 0 0 2 2 0 1 0 0 2 0 1 0 0 1 0 1 0 0 1 2 2 1 0\n",
            " 0 1 2 0 0 0 0 2 1 2 0 0 1 0 1 2 0 2 0 1 0 1 2 1 0 2 0 0 1 1 2 2 1 1 2 2 0\n",
            " 2 0 0 1 2 2 2 2 0 0 0 0 0 0 0 0 0 0 2 0 0 0 0 2 0 2 0 0 2 0 2 0 2 0 0 1 0\n",
            " 1 1 0 0 1 1 0 0 1 1 2 2 0 1 0 0 2 2 0 0 2 0 0 1 2 0 0 1 0 0 1 1 2 1 2 1 0\n",
            " 0 1 1 0 1 2 0 0 0 1 0 2 2 0 0 1 0 2 0 0 0 0 0 1 0 0 0 1 0 0 2 0 2 0 0 0 2\n",
            " 1 2 1 2 0 2 0 2 2 2 0 0 1 0 0 1 0 1 2 0 2 1 0 0 1 0 1 1 0 2 0 2 0 2 0 1 0\n",
            " 1 1 0 0 1 0 1 1 0 0 1 1 0 1 0 0 1 0 0 1 0 0 1 0 0 0 0 0 2 2 0 1 2 1 2 0 0\n",
            " 0 0 1 0 0 1 2 1 0 0 0 2 1 1 2 0 0 2 2 0 1 1 0 1 2 1 1 2 2 0 1 0 0 2 0 0 0\n",
            " 1 2 0 0 2 0 0 0 0 0 2 2 0 0 0 0 0 0 0 0 1 2 2 0 0 0 2 2 2 2 0 0 0 1 1 0 0\n",
            " 0 0 0 1 2 2 0 0 0 0 0 0 2 1 1 0 0 2 1 2 0 0 0 1 0 1 1 0 0 0 2 0 2 0 0 1 2\n",
            " 1 1 0 0 0 0 2 1 0 0 2 0 0 0 1 0 0 0 1 0 1 0 2 1 0 0 0 2 0 0 0 2 1 0 0 3 1\n",
            " 2 1 1 0 0 0 0 1 1 2 1 2 0 2 1 1 1 0 0 0 2 0 2 2 0 1 0 1 0 1 1 0 2 2 1 0 1\n",
            " 2 1 0 0 0 0 2 1 0 2 1 2 2 2 0 0 2 0 0 1 2 0 1 0 2 1 1 0 2 1 1 2 1 0 0 0 0\n",
            " 0 0 0 1 0 2 0 0 2 0 0 1 1 0 0 0 2 0 1 1 1 1 0 2 0 1 0 0 2 0 0 2 0 2 0 0 0\n",
            " 0 0 0 1 0 0 1 2 0 0 0 2 1 0 0 2 0 2 1 0 0 2 0 0 2 0 0 0 2 0 1 0 0 0 1 1 2\n",
            " 0 0 0 0 0 1 0 0 1 0 0 2 0 2 1 1 0 0 2 0 2 2 2 0 0 2 0 2 2 2 0 2 0 1 0 0 0\n",
            " 0 0 0 0 0 0 1 0 2 1 0 0 0 2 1 2 2 2 1 1 0 1 1 1 1 0 2 0 2 0 0 0 0 0 0 1 2\n",
            " 1 1 2 0 0 0 2 2 1 1 0 0 0 0 0 2 2 0 0 1 2 0 2 0 0 1 0 2 0 0 0 0 0 0 0 0 1\n",
            " 2 1 1 0 0 0 2 2 0 1 1 0 0 2 0 0 1 1 0 0 0 0 1 0 1 0 0 0 1 0 0 0 0 2 1 0 0\n",
            " 0 2 0 0 2 0 0 0 0 2 0 2 0 0 0 2 0 2 1 0 0 0 0 0 0 0 0 2 0 0 0 0 0 1 2 0 0\n",
            " 1 0 2 0 1 0 1 1 0 0 0 0 1 0 0 0 0 0 1 0 0 2 0 0 0 2 0 0 3 0 2 0 1 0 2 1 1\n",
            " 0 0 0 0 0 1 1 2 1 1 0 1 0 2 2 0 0 1 0 1 0 0 0 0 0 0 2 0 0 0 0 0 1 0 2 0 1\n",
            " 0 2 1 0 1 2 1 2 0 2 0 0 0 0 2 0 0 0 1 0 0 0 2 2 0 1 0 2 0 2 2 1 0 0 1 0 1\n",
            " 0 0 0 1 0 0 1 1 0 2 0 1 0 2 0 0 0 1 0 2 0 1 0 0 0 1 2 0 1 0 1 1 0 0 0 0 0\n",
            " 2 1 0 0 0 0 2 0 0 2 0 0 0 0 0 0 0 0 2 0 1 0 2 2 0 1 1 2 0 0 0 0 0 0 0 0 0\n",
            " 1 1 1 0 0 0 0 1 0 2 1 2 2 0 0 0 1 0 2 2 0 0 0 0 0 1 2 0 0 0 0 0 0 1 0 0 2\n",
            " 2 0 0 0 1 1 0 0 0 0 2 2 0 2 2 0 0 0 1 2 2 0 2 2 1 0 1 0 0 2 1 0 2 1 0 1 1\n",
            " 0 1 0 0 1 0 2 0 2 2 1 1 2 0 2 2 0 1 1 2 2 1 0 0 1 0 0 2 0 0 2 0 0 0 0 0 0\n",
            " 0 2 2 0 2 0 2 1 0 0 2 0 0 2 1 0 0 0 0 2 2 0 0 0 0 0 2 0 2 0 1 1 0 0 0 0 1\n",
            " 2 0 2 0 1 0 1 2 0 1 2 0 0 1 0 2 0 0 1 0 2 0 1 0 0 1 0 2 0 2 0 1 0 0 0 2 0\n",
            " 1 0 2 1 1 1 0 0 0 0 0 0 1 2 0 0 2 1 0 0 1 0 0 1 0 1 0 2 0 0 0 0 0 1 1 1 0\n",
            " 0 2 2 0 0 1 2 2 0 1 0 0 0 0 0 0 0 0 1 0 1 2 0 0 0 0 2 0 1 1 2 2 0 0 2 2 1\n",
            " 2 1 0 1 1 0 0 0 0 0 0 0 0 0 1 0 0 2 0 0 0 1 0 2 1 0 0 0 0 0 0 2 1 0 0 0 0\n",
            " 0 1 0 1 0 0 2 0 2 0 1 0 0 1 0 0 0 2 1 0 0 0 1 1 0 0 1 0 0 0 0 0 0 0 1 2 0\n",
            " 1 0 0 2 0 2 0 0 0 0 1 0 0 0 1 2 0 2 1 0 0 1 0 0 2 1 0 1 0 1 1 2 0 2 1 0 0\n",
            " 2 2 0 0 0 0 0 0 0 1 2 0 1 0 0 0 2 1 2 0 2 2 0 1 0 0 0 0 0 0 0 0 0 1 1 0 0\n",
            " 0 1 1 0 2 0 2 0 2 0 0 0 2 0 0 0 2 2 0 2 1 0 0 1 1 0 2 2 0 1 0 0 1 1 0 2 0\n",
            " 1 1 0 1 0 0 2 0 0 0 0 2 1 2 0 2 0 0 0 1 2 1 0 0 0 0 0 0 2 0 0 0 0 2 0 0 1\n",
            " 2 0 0 1 0 0 0 0 0 0 1 2 2 0 0 0 0 2 0 2 0 2 2 1 1 0 0 0 0 0 1 0 0 0 0 2 0\n",
            " 0 0 2 0 0 2 0 1 0 0 1 0 0 2 2 0 0 0 0 0 0 1 0 1 1 0 1 0 0 1 0 1 1 2 0 1 0\n",
            " 0 1 1 0 0 0 0 0 0 2 0 2 0 0 1 1 0 2 0 2 2 1 2 1 2 0 2 0 2 0 0 0 2 0 0 1 2\n",
            " 1 0 2 0 1 1 0 0 0 2 0 1 0 0 0 0 2 1 0 2 0 2 0 1 0 2 1 2 0 0 0 0 2 0 2 2 0\n",
            " 0 0 1 0 0 0 1 0 0 0 2 0 2 0 2 0 0 0 0 1 1 2 2 0 0 0 0 0 2 0 0 0 0 2 0 0 0\n",
            " 2 0 1 0 0 2 0 0 1 2 0 2 1 2 0 2 1 1 0 2 0 0 0 2 0 2 0 2 2 0 1 0 2 0 1 1 0\n",
            " 2 2 0 0 2 1 2 1 2 0 0 1 2 0 2 1 0 0 0 0 1 1 0 1 1 1 0 0 1 0 1 0 0 2 0 0 0\n",
            " 1 0 1 0 2 0 0 0 2 0 1 1 0 0 0 0 1 0 2 2 0 0 0 0 1 0 0 2 0 0 1 1 0 1 0 2 0\n",
            " 0 0 0 2 1 1 0 2 0 0 1 0 0 2 2 0 0 2 2 1 1 0 2 2 0 1 0 2 1 1 1 0 0 0 0 2 2\n",
            " 0 1 0 0 0 0 0 0 0 0 2 1 0 1 2 0 0 2 0 1 0 0 1 0 1 0 0 0 0 2 0 2 2 0 1 0 2\n",
            " 0 0 0 0 0 0 0 0 0 0 0 0 2 2 1 0 1 2 0 0 1 0 2 0 2 1 0 2 0 0 0 0 0 0 0 1 0\n",
            " 0 0 0 1 2 2 1 1 0 0 1 2 0 2 2 0 0 2 0 0 0 0 1 0 2 2 2 0 1 0 0 2 0 2 0 2 0\n",
            " 0 0 2 1 1 0 0 0 2 2 0 0 0 2 1 0 0 2 1 2 0 0 0 0 1 0 0 0 0 2 1 0 1 1 2 1 0\n",
            " 1 0 0 1 0 1 0 2 0 0 1 0 0 2 2 0 0 2 2 0 0 2 0 0 0 1 2 2 0 1 2 2 1 0 1 0 1\n",
            " 0 2 2 2 2 1 0 0 0 1 1 0 1 1 0 0 0 0 0 2 0 0 2 2 0 1 0 2 2 0 1 1 1 2 0 0 0\n",
            " 0 1 0 1 0 2 2 2 1 0 0 1 0 2 0 0 1 1 1 1 0 2 0 0 1 0 0 2 0 0 2 1 0 0 2 0 0\n",
            " 0 0 0 2 0 0 1 0 2 1 1 0 0 1 0 0 0 0 2 1 2 0 0 2 2 0 0 2 2 2 0 2 0 1 0 0 2\n",
            " 1 0 1 2 1 1 0 0 0 2 0 0 0 1 2 2 0 2 0 2 0 0 0 0 1 0 1 1 0 0 0 0 1 2 0 0 0\n",
            " 2 0 1 0 1 0 0 0 2 1 0 0 1 0 0 0 2 0 1 0 0 2 2 0 0 0 0 2 0 0 0 0 2 0 0 2 2\n",
            " 1 1 1 1 2 0 0 0 0 0 2 1 0 1 1 0 0 2 0 2 0 1 0 0 0 0 0 2 1 2 2 1 0 0 1 2 0\n",
            " 1 2 1 0 0 1 0 0 1 1 0 1 1 0 2 0 0 1 0 1 2 1 0 1 0 2 2 0 1 0 1 1 1 2 0 0 0\n",
            " 2 0 1 0 2 0 1 0 2 0 1 1 0 1 1 2 1 1 0 0 0 1 0 1 0 0 0 0 0 0 2 0 1 0 0 1 1\n",
            " 2 0 0 0 0 1 0 1 0 2 2 0 0 2 2 0 0 0 0 0 1 1 0 0 1 0 0 1 0 0 0 0 1 0 1 1 2\n",
            " 0 0 0 0 0 0 1 2 0 0 0 0 0 1 1 1 2 0 2 2 0 0 1 0 2 0 0 1 0 0 1 1 0 0 0 0 0\n",
            " 0 0 0 0 0 2 1 2 0 0 0 0 1 0 2 0 1 1 0 0 0 1 0 0 0 2 0 2 0 0 0 0 2 0 2 0 1\n",
            " 0 1 0 1 0 0 1 0 0 0 2 0 0 0 1 1 1 1 1 0 0 0 0 0 2 2 1 0 0 0 2 0 0 0 1 0 1\n",
            " 2 0 0 0 0 0 0 2 0 1 0 0 1 0 1 0 1 0 0 2 2 0 1 0 2 0 0 0 0 0 0 0 2 2 2 0 0\n",
            " 2 1 2 0 0 0 0 2 2 0 0 1 2 0 0 1 0 1 1 0 0 0 0 0 1 0 1 0 2 0 0 0 1 2 0 0 2\n",
            " 0 0 0 0 2 1 0 1 0 0 0 0 0 0 0 1 0 0 0 0 2 0 0 1 1 0 0 0 1 1 1 1 1 0 2 0 0\n",
            " 0 2 0 1 2 0 0 1 2 0 0 0 0 0 0 0 1 2 0 1 1 0 2 0 2 0 0 1 0 1 2 1 0 0 0 1 0\n",
            " 1 1 2 1 0 0 2 0 2 0 0 1 1 0 0 0 2 2 0 0 0 0 0 0 0 0 2 0 1 0 0 0 2 0 2 1 2\n",
            " 0 1 0 1 2 2 0 1 0 2 0 0 2 1 0 2 0 0 2 0 0 0 0 0 1 1 0 0 0 0 0 0 0 0 0 0 0\n",
            " 1 1 0 2 0 3 2 0 2 1 1 0 1 0 0 1 1 1 0 2 0 0 1 0 2 0 0 0 1 2 2 0 2 2 0 0 0\n",
            " 0 0 2 0 0 2 1 1 0 0 0 1 0 1 0 0 0 0 0 1 0 0 2 1 0 0 0 0 0 1 0 1 0 0 2 1 0\n",
            " 0 1 0 1 1 1 1 0 0 2 0 1 0 0 0 0 0 1 0 1 0 0 2 0 1 1 1 0 0 0 0 0 0 0 0 0 1\n",
            " 1 1 0 0 0 0 0 0 0 1 0 2 1 0 0 0 2 0 0 1 2 1 1 0 2 0 2 0 0 0 0 0 1 0 0 0 2\n",
            " 0 1 2 0 0 0 0 0 0 2 0 0 0 0 0 0 0 0 0 0 2 2 0 0 2 1 1 0 2 1 0 2 1 1 0 2 0\n",
            " 0 2 0 0 1 0 0 0 0 0 0 0 1 1 1 0 1 0 0 0 1 1 2 0 0 1 2 0 0 2 0 0 1 2 0 1 0\n",
            " 0 0 0 0 0 0 0 1 0 2 1 0 2 0 0 0 0 0 1 0 0 2 0 2 0 0 1 0 0 0 0 0 0 0 0 0 1\n",
            " 0 1 1 0 0 0 1 0 0 1 0 1 0 0 0 0 2 1 2 1 2 2 0 2 1 2 2 0 0 1 0 1 0 0 2 0 0\n",
            " 2 0 0 1 0 0 1 0 0 0 1 2 0 0 0 0 0 0 0 0 2 0 2 0 0 1 1 0 0 0 0 1 0 2 0 0 1\n",
            " 0 0 0 1 1 2 1 0 0 0 0 2 0 0 2 0 0 0 1 1 1 2 0 0 0 0 1 0 0 0 0 0 0 0 0 0 0\n",
            " 0 2 0 0 0 0 0 2 0 0 2 1 2 1 0 0 1 0 0 2 1 0 0 1 0 0 0 2 2 2 2 1 1 2 0 1 0\n",
            " 0 0 0 2 1 2 0 0 0 0 1 0 0 0 0 1 0 1 1 1 0 2 2 0 0 1 2 2 1 0 1 3 2 0 1 0 1\n",
            " 2 0 0 2 1 1 1 1 0 0 2 1 1 2 0 0 0 0 0 1 0 1 1 0 1 1 0 2 2 0 0 2 0 0 0 1 1\n",
            " 0 0 0 0 2 0 0 0 1 0 1 1 1 2 2 2 1 1 0 0 2 1 1 0 0 0 0 0 2 0 2 0 1 0 2 0 0\n",
            " 2 0 1 0 0 0 0 0 0 0 0 2 0 0 0 2 1 0 0 1 0 0 0 1 2 1 1 0 0 0 1 0 0 2 0 0 2\n",
            " 1 0 0 0 0 1 2 0 2 0 0 0 0 1 1 0 1 0 2 1 1 1 0 1 2 0 2 0 0 0 0 0 2 2 2 0 1\n",
            " 0 0 1 0 0 0 0 1 2 1 2 0 0 0 2 1 2 0 0 2 0 1 1 0 2 2 0 2 0 0 0 0 0 0 0 0 0\n",
            " 0 1 1 0 1 0 0 0 0 0 0 0 0 0 1 2 0 0 0 1 0 0 0 1 2 2 0 1 2 0 0 0 0 2 1 0 1\n",
            " 0 1 0 0 2 0 0 0 1 1 0 0 0 1 2 0 0 0 0 1 0 0 2 1 0 2 2 2 0 1 2 0 0 0 2 2 2\n",
            " 2 0 2 0 2 0 0 0 2 0 2 0 0 0 0 0 2 0 0 2 0 1 1 0 2 0 2 2 0 0 2 2 0 1 2 0 0\n",
            " 0 1 0 1 0 2 0 0 2 1 1 2 0 0 0 0 0 1 1 0 1 0 1 1 2 0 0 0 0 0 0 2 0 0 0 0 0\n",
            " 1 0 2 0 0 0 0 0 2 1 0 0 2 0 0 0 2 0 1 0 2 1 0 0 0 0 1 2 0 2 0 0 0 0 2 0 0\n",
            " 1 0 0 2 1 1 1 0 0 2 0 2 0 1 2 2 0 0 0 2 0 0 2 0 0 0 0 0 1 0 0 1 0 0 0 0 0\n",
            " 1 1 0 0 0 1 0 1 0 0 0 1 2 0 0 0 1 0 2 0 1 0 1 0 1 1 0 0 2 0 0 0 2 1 1 1 0\n",
            " 0 1 2 1 0 0 0 2 1 2 2 0 1 0 0 1 2 2 1 0 2 0 0 0 0 1 1 0 0 0 0 2 0 2 0 0 1\n",
            " 0 0 1 0 1 1 2 1 0 0 2 0 2 0 1 1 0 0 0 0 0 0 2 0 0 2 2 2 2 0 0 0 0 1 0 0 1\n",
            " 1 0 1 1 1 1 2 0 0 0 1 0 0 2 0 1 0 2 0 0 0 0 2 0 2 0 2 0 0 0 0 0 0 2 2 2 1\n",
            " 0 0 1 2 1 0 1 0 2 0 0 1 0 0 0 0 0 1 0 0 0 0 2 1 1 2 2 1 0 0 1 1 1 0 2 0 2\n",
            " 1 0 0 2 0 2 0 2 1 2 1 1 0 2 0 2 0 0 0 0 0 0 0 0 2 1 0 2 1 0 0 2 0 0 1 0 1\n",
            " 0 1 0 0 0 0 1 0 0 3 0 1 2 0 2 1 1 1 2 1 0 1 0 1 0 0 2 0 0 1 0 0 1 0 0 0 0\n",
            " 2 0 0 0 0 0 0 1 0 0 1 0 1 0 1 0 1 1 1 0 0 1 2 0 2 0 2 0 0 0 1 1 0 0 1 0 1\n",
            " 0 0 0 0 1 0 1 0 1 2 0 0 0 1 2 0 0 2 2 2 2 0 0 1 2 2 0 2 1 1 0 1 2 0 0 0 1\n",
            " 0 2 1 0 0 0 1 0 2 0 0 2 0 1 0 2 1 0 2 0 1 0 1 1 0 1 0 0 1 0 1 0 2 0 0 0 0\n",
            " 2 0 2 0 1 0 0 0 1 0 0 0 2 1 0 2 2 2 0 1 0 2 1 0 0 1 0 0 2 1 0 0 1 0 0 0 0\n",
            " 1 1 0 0 1 0 0 0 1 0 0 0 0 1 1 0 1 1 0 0 1 1 0 0 0 2 0 1 2 0 0 0 0 0 0 0 0\n",
            " 1 1 0 0 2 0 0 0 0 0 2 0 0 0 0 0 1 1 0 2 0 2 0 0 1 0 0 0 1 0 1 0 0 1 0 0 1\n",
            " 0 1 0 1 0 0 1 2 1 2 0 0 0 1 1 0 0 0 2 0 0 0 0 1 0 0 0 1 0 0 0 2 2 0 0 0 0\n",
            " 0 0 0 0 0 0 1 0 0 1 0 0 0 0 0 1 0 0 0 0 0 0 0 1 1 0 0 0 0 0 0 1 0 0 0 0 0\n",
            " 1 2 2 2 0 0 1 0 0 1 0 2 2 0 0 1 2 0 0 0 0 2 0 0 1 0 0 0 1 1 0 0 0 2 0 2 0\n",
            " 1 1 0 0 0 1 1 2 0 2 0 2 0 2 1 0 2 2 0 1 0 0 2 0 0 0 0 2 0 0 0 0 0 0 0 0 1\n",
            " 0 0 2 1 0 0 1 0 0 0 0 0 0 0 1 2 2 1 2 2 1 0 2 1 1 2 0 2 0 1 0 0 1 0 0 2 1\n",
            " 0 1 3 0 2 1 2 0 1 2 2 2 0 2 2 0 2 1 2 0 1 0 1 1 0 1 1 2 0 0 0 0 2 2 0 0 0\n",
            " 1 0 0 1 0 0 0 2 1 0 1 0 0 2 0 0 2 2 0 0 0 2 1 1 2 2 0 1 0 0 0 1 0 1 0 0 0\n",
            " 2 1 2 0 2 0 2 2 0 2 0 2 0 0 2 0 2 2 1 0 0 2 1 0 0 2 1 0 1 1 1 0 0 0 0 1 1\n",
            " 0 0 1 0 1 2 0 1 0 1 0 2 0 0 1 0 1 0 0 1 1 1 0 1 0 0 0 0 1 2 0 1 1 1 0 0 1\n",
            " 0 2 0 2 0 0 0 0 1 1 2 0 0 2 1 1 2 0 2 0 0 0 2 0 0 0 2 1 0 0 0 0 0 0 0 0 1\n",
            " 2 0 0 0 1 0 0 0 0 0 0 0 2 0 0 2 0 0 0 2 0 0 1 0 1 2 1 1 1 0 0 0 0 0 1 0 0\n",
            " 0 0 0 0 0 2 0 0 1 0 1 1 1 0 0 1 0 0 0 0 0 0 0 0 0 1 2 0 0 2 0 0 0 0 2 1 1\n",
            " 1 1 1 1 2 0 1 0 2 0 0 2 0 0 2 0 0 0 0 0 0 2 2 1 0 0 1 0 1 1 0 0 0 0 1 0 1\n",
            " 1 1 0 0 0 2 0 0 2 0 0 0 1 0 0 0 0 0 0 0 0 1 0 1 2 0 0 2 2 2 0 2 1 1 1 0 0\n",
            " 2 1 1 1 1 0 0 0 0 1 0 1 1 0 0 0 2 0 2 0 0 0 0 2 0 0 2 2 0 0 0 2 0 0 0 2 1\n",
            " 0 0 1 0 2 0 1 2 1 0 0 0 0 0 0 1 0 2 2 1 0 1 1 0 0 1 0 0 2 1 0 0 0 0 2 1 2\n",
            " 0 1 0 0 2 0 0 2 0 0 0 1 2 0 0 2 0 0 0 0 0 1 1 1 2 0 1 1 0 2 2 2 0 2 0 0 1\n",
            " 0 0 0 0 0 2 0 0 0 0 0 0 1 0 2 0 0 0 0 0 0 0 0 1 2 1 1 2 2 0 1 0 1 1 1 2 0\n",
            " 0 1 1 0 0 1 0 0 0 1 2 2 1 2 0 0 0 2 0 2 0 0 1 0 0 0 0 0 1 1 2 0 0 0 0 0 0\n",
            " 0 0 0 2 0 0 2 2 2 0 1 1 2 2 0 0 2 2 2 0 1 1 0 2 0 0 0 2 0 0 2 0 0 0 2 0 0\n",
            " 1 1 0 0 0 0 1 0 1 0 1 0 1 0 1 0 2 0 0 0 1 0 0 2 0 0 2 0 0 0 0 0 0 0 2 2 0\n",
            " 1 2 0 0 0 2 0 1 2 0 0 0 0 1 1 0 0 0 0 0 0 2 2 1 2 0 0 0 0 0 0 0 0 1 0 0 2\n",
            " 1 0 1 0 0 0 0 2 2 1 0 0 0 2 0 1 0 1 0 1 0 1 2 0 0 2 2 1 0 2 0 0 0 0 0 0 1\n",
            " 2 0 0 0 1 1 0 0 1 2 2 2 0 1 2 0 0 0 0 2 1 1 0 0 0 0 0 1 0 2 0 0 1 0 0 0 1\n",
            " 0 0 1 0 0 2 1 0 0 1 0 0 1 0 1 2 0 2 2 2 0 1 0 0 0 2 0 0 0 0 2 0 2 0 0 1 2\n",
            " 0 0 1 1 0 0 1 0 0 0 0 0 1 0 0 2 0 0 0 1 2 0 0 0 1 0 0 0 0 0 0 0 0 0 0 0 0\n",
            " 0 0 0 1 2 0 1 0 0 0 2 1 0 2 0 0 2 0 0 0 0 0 0 1 0 0 2 1 0 0 0 0 0 1 0 0 1\n",
            " 2 1 1 0 0 0 0 0 2 0 2 0 2 2 0 0 2 1 2 0 0 0 0 0 1 2 0 0 2 0 0 1 0 0 0 0 2\n",
            " 0 0 0 1 0 0 0 2 2 0 0 0 0 0 0 2 2 2 1 0 0 0 1 2 0 2 0 2 1 1 1 1 0 1 0 1 1\n",
            " 0 1 2 1 2 0 0 0 0 0 0 2 1 2 2 2 0 0 0 0 0 0 0 0 0 2 0 0 0 0 2 1 0 0 1 0 0\n",
            " 0 0 0 0 0 0 0 0 1 1 0 0 0 1 0 2 1 0 1 1 1 2 2 2 0 0 2 0 0 2 0 1 0 2 0 1 0\n",
            " 0 0 0 0 0 0 1 2 0 0 0 1 1 1 0 1 2 2 2 0 2 0 0 0 1 1 0 0 0 0 1 1 0 0 0 0 0\n",
            " 1 0 1 0 0 1 1 0 0 0 1 0 0 1 2 0 0 2 2 0 0 0 1 2 2 0 1 0 1 1 0 0 0 0 2 2 0\n",
            " 0 0 0 0 0 0 1 2 0 0 1 0 2 0 2 1 0 0 0 2 0 1 0 0 0 2 0 2 0 0 1 0 2 0 2 0 1\n",
            " 2 0 2 2 0 2 0 2 0 2 0 0 1 2 0 2 0 2 0 0 0 0 0 0 1 0 0 0 1 2 1 0 0 1 0 0 0\n",
            " 0 0 0 1 0 2 0 0 0 1 2 0 0 0 0 0 0 0 2 0 0 0 0 0 2 0 2 0 0 0 1 2 1 0 0 0 0\n",
            " 0 0 0 0 0 0 1 0 1 0 0 0 0 2 0 0 1 0 2 0 0 0 2 0 0 0 0 0 1 0 0 2 0 0 1 0 0\n",
            " 0 0 0 0 1 1 0 2 0 0 1 1 0 0 0 0 0 1 0 1 2 0 0 0 0 1 1 2 0 0 0 2 2 1 0 0 0\n",
            " 0 0 1 0 1 0 1 0 1 1 0 2 2 1 0 1 0 2 0 0 0 0 0 0 0 2 2 0 2 0 2 1 1 1 0 0 0\n",
            " 0 1 0 0 0 0 2 0 0 0 1 0 2 0 2 2 0 2 0 0 0 1 0 0 0 0 1 0 1 2 0 0 1 2 0 0 0\n",
            " 0 0 0 0 0 0 1 0 0 1 0 0 0 0 0 0 2 0 1 0 1 2 2 0 0 1 0 1 0 0 2 1 1 1 0 2 0\n",
            " 1 0 0 0 0 2 0 2 0 1 1 0 2 0 0 0 2 0 1 2 2 0 2 0 0 2 0 0 0 1 2 0 2 1 2 0 1\n",
            " 0 2 0 2 2 0 0 2 1 0 0 2 2 0 0 0 2 0 2 0 0 2 0 0 0 0 2 2 0 0 0 2 0 0 0 1 0\n",
            " 2 2 0 1 1 0 2 1 1 0 0 1 0 0 1 0 0 2 0 0 1 0 1 0 1 2 2 2 0 0 1 1 1 0 1 2 0\n",
            " 1 2 0 0 0 2 0 2 1 0 0 0 1 1 1 2 0 1 0 0 2 0 0 0 0 2 0 0 0 0 0 1 0 2 1 1 1\n",
            " 1 2 0 0 0 0 0 1 0 1 1 0 0 1 0 0 0 1 2 2 0 2 0 0 0 0 0 1 2 1 1 0 0 1 1 0 0\n",
            " 0 0 2 1 1 0 0 0 0 0 2 1 0 2 0 2 0 0 0 0 0 1 0 2 0 0 2 2 0 2 0 1 0 1 2 2 1\n",
            " 0 0 0 0 0 2 0 0 1 0 0 0 0 1 0 0 1 0 0 0 2 0 1 1 0 2 1 0 2 2 0 2 2 2 0 0 0\n",
            " 0 1 2 0 0 0 0 0 2 2 1 2 1 0 0 0 0 2 0 1 0 2 1 0 0 2 0 0 0 0 0 0 0 2 1 1 2\n",
            " 0 1 0 0 1 0 0 0 2 1 1 0 0 2 1 0 2 2 0 1 1 0 0 2 1 1 0 0 0 0 0 2 0 0 0 1 0\n",
            " 0 0 0 0 0 2 1 1 0 2 1 0 2 2 1 0 2 2 0 0 0 1 0 0 0 0 0 1 1 0 0 0 2 1 0 2 0\n",
            " 2 0 3 1 1 0 0 0 0 0 0 0 0 0 1 0 2 1 0 1 1 1 0 0 0 1 0 0 2 0 1 0 0 2 2 0 1\n",
            " 0 0 0 1 0 0 0 0 2 2 2 0 0 0 0 1 0 2 1 1 0 0 1 2 0 1 2 0 0 0 0 0 0 2 0 2 0\n",
            " 0 2 1 0 1 0 0 0 0 1 0 0 0 2 1 0 0 1 0 2 0 0 0 1 0 2 1 2 0 2 0 2 1 1 2 0 0\n",
            " 1 1 0 0 2 2 0 0 0 0 2 1 0 1 2 0 0 0 0 1 2 2 2 0 1 0 0 1 2 2 0 0 0 0 1 0 2\n",
            " 0 0 0 0 1 2 0 1 0 0 0 2 1 0 2 0 1 0 0 1 1 0 1 0 0 0 1 1 2 0 0 2 0 1 0 0 0\n",
            " 1 0 0 1 0 2 0 0 1 0 2 0 0 0 0 0 0 1 0 2 2 1 0 0 0 0 0 2 0 1 0 2 0 0 1 0 1\n",
            " 0 1 1 0 1 0 0 0 1 0 0 0 0 0 1 1 0 0 2 1 0 0 2 1 0 1 0 2 0 1 0 2 0 2 1 0 1\n",
            " 2 0 1 0 1 0 0 1 2 0 0 2 0 2 0 1 1 0 1 0 2 0 2 1 0 0 0 0 0 0 0 0 0 1 0 0 0\n",
            " 0 2 1 1 0 1 0 2 1 2 0 0 2 2 1 2 0 2 2 0 2 2 0 0 0 0 2 1 0 0 2 0 0 0 0 2 2\n",
            " 1 0 1 2 2 1 3 1 0 2 2 0 0 0 1 1 1 1 0 1 1 0 0 0 2 1 0 2 1 1 0 1 0 0 0 2 0\n",
            " 1 0 0 0 1 1 1 2 0 0 0 1 0 0 2 0 0 2 2 0 1 0 1 0 0 0 0 0 0 0 0 2 1 0 0 1 0\n",
            " 0 1 0 0 0 1 1 0 0 0 0 0 1 0 0 2 0 0 0 1 0 0 0 0 2 1 0 1 1 2 1 2 0 0 0 0 0\n",
            " 0 2 0 2 0 2 0 1 2 0 0 1 0 2 0 0 1 1 0 0 0 0 1 0 0 1 2 0 0 0 1 1 0 2 0 0 0\n",
            " 0 0 2 0 0 2 1 0 1 2 0 0 2 1 0 1 0 0 0 1 0 0 0 0 1 0 2 1 2 0 1 1 1 1 2 2 2\n",
            " 1 1 0 0 1 0 0 0 0 2 0 2 1 1 0 0 0 0 0 1 1 0 0 2 0 0 0 1 1 2 0 0 1 0 1 0 0\n",
            " 0 0 1 0 2 2 0 0 1 0 1 0 0 0 2 0 0 0 0 1 2 0 0 0 2 0 1 0 0 0 0 1 1 2 0 0 2\n",
            " 0 0 0 0 0 0 2 0 1 2 0 0 1 0 0 0 2 2 2 2 0 1 0 0 0 0 0 0 2 0 1 1 2 1 0 2 0\n",
            " 0 0 0 2 0 0 1 0 0 2 2 1 2 0 1 0 1 1 2 2 0 2 0 1 2 2 0 1 0 1 2 0 0 2 0 2 0\n",
            " 0 0 0 0 0 0 0 0 0 0 2 1 0 0 0 0 0 2 0 0 2 1 1 0 2 0 0 0 0 0 1 2 0 1 2 2 2\n",
            " 0 1 1 0 1 1 0 2 0 2 1 2 0 2 2 0 1 0 1 1 0 2 0 2 2 0 1 0 0 0 0 1 0 1 0 2 1\n",
            " 2 0 0 2 2 1 1 1 0 0 1 1 0 0 0 0 0 0 1 0 2 2 0 2 1 0 0 0 0 1 0 1 2 0 0 2 1\n",
            " 0 1 1 0 0 2 0 0 0 0 0 3 1 0 0 1 0 0 2 0 1 0 1 0 1 0 0 0 0 0 2 0 2 1 0 0 1\n",
            " 0 1 0 0 2 2 0 0 1 0 1 2 0 2 1 1 2 0 2 1 2 0 1 0 2 0 0 0 0 1 0 0 0 0 0 2 2\n",
            " 0 0 1 1 0 1 0 2 1 0 2 0 1 0 0 0 0 1 1 1 0 0 0 1 0 0 1 1 2 2 2 2 1 0 0 0 1\n",
            " 0 2 2 0 0 0 1 0 1 0 0 0 1 2 2 0 2 1 0 0 0 0 0 2 1 0 2 0 0 1 0 1 1 0 0 0 1\n",
            " 0 0 0 0 1 2 1 0 2 0 2 0 0 1 2 0 2 0 1 0 0 0 0 2 1 0 1 0 0 0 1 0 0 0 2 1 1\n",
            " 0 0 0 0 0 2 1 2 0 0 0 2 0 0 0 0 1 2 1 0 0 1 0 0 0 0 0 0 2 0 2 0 1 0 0 0 0\n",
            " 1 1 0 1 0 0 0 0 0 0 0 1 1 0 1 1 0 0 1 0 0 0 1 0 1 0 2 0 0 0 0 1 1 2 0 1 2\n",
            " 2 1 2 0 1 0 0 0 0 0 0 1 1 2 0 1 2 0 0 0 1 0 2 0 0 0 0 2 0 0 2 2 0 0 1 2 1\n",
            " 1 0 0 2 0 0 1 1 0 0 2 1 1 0 1 1 2 0 2 2 0 0 0 0 0 0 0 2 0 1 0 1 0 2 0 1 0\n",
            " 1 0 1 0 2 0 0 2 0 0 1 1 0 0 2 0 0 0 2 0 1 2 0 1 0 1 2 2 0 0 0 0 0 0 0 2 2\n",
            " 0 0 0 2 0 2 2 0 0 2 0 2 0 0 0 1 1 0 0 1 1 0 0 0 0 0 0 2 0 0 1 2 2 0 1 0 0\n",
            " 1 1 1 0 0 0 2 0 2 2 2 0 0 1 0 1 0 0 1 0 0 0 0 0 0 1 2 1 0 0 0 0 0 2 1 0 2\n",
            " 0 1 0 0 0 1 2 2 0 0 0 1 2 1 0 0 0 0 0 0 0 0 1 1 0 0 0 0 1 2 0 0 0 0 0 1 0\n",
            " 0 0 0 0 0 0 0 2 0 0 2 0 0 1 1 0 2 0 1 1 1 1 1 1 0 0 0 0 0 2 0 1 1 0 1 2 0\n",
            " 2 0 0 0 0 1 0 1 2 2 0 0 0 0 0 1 0 1 0 0 1 2 0 0 1 1 2 2 1 0 2 0 0 0 0 0 0\n",
            " 0 1 2 0 0 0 1 0 2 0 2 1 0 1 0 1 0 1 0 0 0 0 2 2 0 0 1 0 0 0 0 1 1 2 1 0 2\n",
            " 0 0 1 0 2 0 0 0 0 0 0 0 0 1 0 1 0 0 0 1 1 2 0 1 0 0 0 0 0 0 1 0 2 0 0 0 1\n",
            " 1 0 0 1 2 0 2 2 1 1 2 0 2 2 0 1 0 0 2 0 0 0 2 0 0 0 0 0 0 0 0 0 1 0 2 0 2\n",
            " 1 0 0 0 0 0 0 0 2 0 0 0 0 0 2 1 0 0 1 0 0 0 0 0 1 2 2 1 1 0 1 0 0 0 0 0 0\n",
            " 2 0 0 1 0 0 0 0 0 1 1 1 2 0 0 0 1 0 2 0 0 0 2 2 0 2 1 2 0 1 2 0 0 0 0 0 2\n",
            " 0 0 0 2 1 1 1 1 2 0 0 2 1 2 1 0 1 2 0 0 0 0 0 0 0 0 0 0 2 1 0 0 2 0 2 2 0\n",
            " 0 0 1 0 1 0 0 0 1 1 0 0 1 0 0 1 1 0 0 0 0 1 1 0 0 0 0 1 0 0 0 1 0 0 0 2 0\n",
            " 0 0 1 2 0 2 1 2 0 1 0 2 0 0 2 0 0 0 0 1 1 1 2 2 2 0 0 0 1 0 0 0 1 0 0 1 1\n",
            " 1 0 0 0 1 0 0 2 0 0 0 2 1 0 1 1 0 1 2 0 0 2 0 0 0 1 1 0 0 1 1 0 1 2 0 0 0\n",
            " 1 0 0 2 2 0 1 2 0 2 0 0 0 1 2 0 0 0 0 2 0 1 0 1 2 2 1 1 1 0 0 0 0 2 1 0 0\n",
            " 0 0 0 1 1 1 0 1 0 1 0 2 1 2 0 2 0 0 0 0 0 2 0 0 1 0 2 2 0 0 0 0 2 2 0 0 0\n",
            " 0 2 0 0 0 0 0 2 2 0 2 2 0 0 0 2 2 0 0 0 0 0 0 1 0 1 2 1 2 2 2 0 0 0 1 1 0\n",
            " 0 2 0 1 0 2 0 1 0 0 0 0 1 0 1 2 1 0 1 1 0 0 0 0 0 2 0 0 1 0 2 0 1 0 0 0 0\n",
            " 2 0 0 0 2 0 0 0 0 2 1 0 1 0 0 0 0 1 0 0 0 0 1 0 0 2 2 1 0 2 2 0 0 0 0 0 1\n",
            " 1 1 1 0 0 1 0 0 0 2 2 0 0 0 0 0 0 0 2 0 0 0 0 2 2 0 2 0 1 2 2 0 0 1 0 0 0\n",
            " 1 0 1 0 0 0 0 1 2 0 0 2 0 0 0 0 0 2 0 0 0 0 0 1 0 0 0 1 1 1 2 2 0 0 0 0 0\n",
            " 1 2 0 0 1 0 2 0 0 1 1 2 1 2 0 0 0 0 0 0 0 0 1 0 0 1 1 0 0 2 1 2 2 0 0 0 1\n",
            " 0 1 0 0 1 0 0 0 0 2 2 1 2 0 1 1 1 2 0 0 0 2 2 0 0 0 2 2 0 0 2 0 1 0 0 0 0\n",
            " 0 1 0 0 0 2 0 1 1 1 0 1 1 0 0 0 1 1 1 0 2 0 1 0 0 1 0 2 0 0 0 2 1 1 2 0 0\n",
            " 0 0 0 0 0 0 1 0 2 0 0 0 0 1 0 0 1 1 2 1 1 2 0 1 0 0 0 2 2 2 2 0 0 2 0 1 0\n",
            " 0 0 2 0 0 0 1 0 1 0 0 0 0 0 0 2 0 0 2 2 0 0 1 1 2 0 0 2 2 0 0 1 0 1 2 0 1\n",
            " 1 0 0 2 0 0 0 0 0 1 1 0 2 0 1 0 1 0 0 1 2 0 1 0 1 0 1 1 0 2 2 1 0 0 1 1 0\n",
            " 1 1 0 0 0 1 0 2 1 0 2 0 0 0 0 1 2 1 0 1 1 2 0 2 0 1 0 0 0 0 0 1 2 1 0 1 1\n",
            " 0 1 2 0 1 0 2 0 0 2 0 0 2 0 0 0 1 0 1 0 0 0 1 0 0 2 0 2 0 0 1 1 2 0 0 1 2\n",
            " 0 0 0 0 1 0 1 1 1 0 1 0 1 1 0 0 0 1 0 2 0 0 1 0 2 2 0 0 0 0 2 0 0 1 2 1 0\n",
            " 1 2 1 0 1 0 0 0 1 1 0 1 0 0 2 0 0 2 0 2 1 0 0 0 0 0 1 1 0 0 1 0 0 0 0 0 0\n",
            " 1 2 2 0 1 1 0 2 0 0 1 0 0 2 1 1 0 2 0 2 2 0 0 1 1 1 1 0 0 1 1 0 1 0 1 0 1\n",
            " 0 2 0 2 2 0 0 0 2 0 0 0 2 1 0 0 0 1 0 2 2 0 0 1 0 2 0 2 2 0 0 1 2 0 1 0 0\n",
            " 0 0 0 2 0 2 2 0 0 0 0 0 0 1 1 1 0 2 2 0 0 0 2 0 2 0 1 2 0 2 2 0 0 0 0 0 0\n",
            " 2 0 1 0 0 0 1 1 0 2 2 1 2 2 1 1 1 0 2 0 0 0 0 2 0 0 2 0 2 0 0 1 0 0 0 0 0\n",
            " 0 0 1 1 1 0 0 0 0 1 0 0 2 2 1 1 0 0 0 2 1 0 1 0 0 1 0 1 2 0 1 0 0 2 2 0 1\n",
            " 0 2 0 2 0 0 1 0 0 0 1 0 0 2 2 0 2 0 0 0 0 1 0 0 0 1 1 0 0 1 0 1 0 1 2 0 1\n",
            " 1 2 0 0 0 0 0 1 0 0 0 1 0 0 0 0 0 0 2 0 1 0 0 0 0 0 0 0 2 2 0 1 0 1 0 0 0\n",
            " 1 0 0 0 0 0 2 1 2 0 0 1 0 1 0 2 0 0 0 1 1 1 0 0 1 0 0 1 1 0 0 0 0 1 0 0 1\n",
            " 1 0 2 2 1 2 0 0 0 2 0 1 0 0 0 0 1 1 2 1 1 0 0 0 2 2 2 0 2 0 0 0 0 0 1 0 0\n",
            " 1 1 0 0 0 2 2 0 0 0 0 2 1 0 1 0 0 0 1 1 0 0 0 0 1 0 1 0 0 0 0 1 0 1 2 0 1\n",
            " 2 2 1 0 0 1 1 1 1 0 0 0 1 0 0 0 1 0 2 2 0 1 0 0 1 0 1 1 1 2 2 1 1 2 0 0 0\n",
            " 2 0 1 0 0 0 0 0 1 1 2 0 1 0 0 0 0 0 0 2 0 0 1 0 0 0 1 0 1 1 0 0 0 0 0 1 0\n",
            " 0 0 0 1 1 0 0 2 2 0 1 0 0 1 2 0 0 2 0 0 2 1 0 0 0 2 1 2 0 2 0 0 2 0 2 2 0\n",
            " 0 0 0 0 0 0 0 0 0 0 2 2 1 0 0 0 2 0 0 0 0 2 1 2 0 2 0 0 0 1 1 2 2 0 0 1 0\n",
            " 2 1 2 1 1 0 2 0 0 1 1 0 0 0 1 2 0 2 0 0 0 1 0 0 0 2 0 0 1 1 1 0 0 0 0 2 2\n",
            " 0 1 0 1 0 0 2 0 1 0 0 0 1 1 0 0 2 2 1 0 1 0 1 0 1 2 0 0 0 0 0 0 1 0 0 0 1\n",
            " 1 0 0 1 1 0 0 0 0 0 0 0 0 2 1 1 0 0 2 2 0 0 0 1 1 0 0 0 0 0 0 1 1 0 0 2 0\n",
            " 2 0 0 0 0 1 2 2 2 1 0 0 0 0 0 2 0 1 0 0 1 0 0 1 0 0 0 0 1 1 0 1 0 1 1 0 2\n",
            " 2 0 1 1 0 0 0 0 0 0 0 0 0 1 1 1 2 1 0 0 2 0 1 1 0 0 1 0 1 1 0 0 1 0 0 1 2\n",
            " 1 1 0 2 0 0 0 0 1 0 2 0 1 0 0 1 0 0 2 0 2 0 0 0 0 0 0 0 0 1 1 2 0 2 0 1 0\n",
            " 0 1 2 2 1 0 0 0 1 0 1 0 0 0 0 2 0 0 0 0 0 2 0 0 0 2 0 0 0 2 0 0 0 1 0 2 1\n",
            " 0 2 0 0 2 0 2 2 0 1 1 0 0 1 2 0 2 2 0 0 2 0 0 1 2 0 1 1 1 1 0 0 0 0 0 0 2\n",
            " 0 2 0 0 0 0 1 0 0 2 0 1 0 0 1 2 0 1 1 0 0 2 0 0 2 0 0 0 2 2 1 0 1 0 0 0 0\n",
            " 2 0 0 1 0 2 1 0 0 0 0 2 2 0 2 0 0 0 0 0 1 0 0 0 2 0 2 0 2 0 0 0 0 0 2 0 1\n",
            " 0 2 1 0 1 1 1 0 0 0 2 0 2 0 0 0 2 2 0 0 0 0 1 0 2 2 0 0 0 0 0 0 1 1 2 1 0\n",
            " 2 1 1 2 0 0 0 1 0 2 0 1 0 0 1 2 0 0 0 0 0 1 0 0 1 0 0 0 0 0 2 2 0 0 1 2 0\n",
            " 0 0 0 1 1 1 1 0 1 2 0 1 2 2 0 0 0 1 0 0 0 0 1 0 0 1 0 0 0 0 0 1 0 1 0 1 1\n",
            " 2 0 2 2 1 1 1 0 0 0 2 0 0 0 1 2 2 1 0 0 0 0 1 1 2 2 0 2 2 1 1 0 1 0 2 2 0\n",
            " 2 2 0 2 1 1 2 0 1 1 2 2 0 2 0 0 2 0 1 0 2 0 0 0 0 0 0 2 0 0 0 0 0 0 0 0 0\n",
            " 1 0 0 0 1 0 0 1 0 0 2 0 0 1 0 2 0 0 0 2 1 0 0 2 1 0 0 0 0 1 0 0 2 2 2 1 1\n",
            " 2 1 2 0 0 0 1 2 0 0 0 0 0 0 0 0 0 2 1 0 0 0 0 0 1 0 0 2 1 1 2 0 0 2 1 0 0\n",
            " 0 0 1 1 0 0 2 2 2 0 1 0 0 1 2 2 0 2 0 0 0 1 2 2 0 1 1 2 0 0 1 0 0 2 1 0 0\n",
            " 0 0 1 0 0 0 1 0 2 0 0 0 0 0 1 0 0 2 0 1 0 0 0 1 0 0 1 2 1 1 0 2 2 0 0 0 2\n",
            " 0 2 0 2 0 1 0 0 0 1 0 2 1 0 0 0 0 0 0 0 2 2 2 0 2 0 1 0 0 1 0 2 0 1 0 2 0\n",
            " 1 0 1 0 2 1 0 0 2 1 2 1 0 0 2 2 0 2 0 1 0 0 2 0 1 0 2 0 1 0 0 2 0 1 0 1 2\n",
            " 1 1 1 1 1 2 0 0 2 1 2 0 0 0 0 0 0 0 0 0 0 0 0 0 0 0 0 2 0 2 1 0 1 0 2 0 0\n",
            " 1 0 0 0 0 0 0 0 0 0 2 1 0 2 2 1 0 0 1 0 1 0 1 1 0 2 1 0 0 1 2 0 2 0 2 1 0\n",
            " 2 0 0 1 0 0 0 1 0 0 0 1 0 1 0 0 0 0 1 1 1 0 0 0 2 0 2 0 0 0 0 0 0 2 0 2 0\n",
            " 0 2 0 0 0 3 2 0 1 2 0 1 0 0 0 0 0 2 0 1 2 0 2 0 0 1 0 0 1 0 0 0 1 0 0 2 0\n",
            " 1 0 0 2 0 1 0 0 0 0 2 0 1 2 0 0 2 1 1 0 0 1 0 2 0 0 2 0 1 1 0 0 1 0 0 1 0\n",
            " 2 0 0 1 2 0 0 0 1 2 0 1 1 2 0 0 0 0 0 2 2 2 1 0 1 0 2 1 0 1 2 2 1 1 0 1 2\n",
            " 0 2 1 0 0 0 0 1 0 0 0 1 0 0 2 2 0 1 2 0 0 0 1 1 0 1 2 0 0 0 0 1 0 2 1 0 0\n",
            " 0 2 0 2 0 0 0 2 0 0 1 0 0 1 0 1 1 0 0 0 0 0 2 0 0 0 0 2 0 0 0 1 1 0 0 0 0\n",
            " 2 0 1 0 0 1 0 0 0 0 0 1 0 2 0 0 0 0 0 2 0 0 1 0 0 2 0 2 0 0 0 1 0 1 1 0 0\n",
            " 0 0 2 2 1 1 1 2 0 0 0 2 0 2 0 0 2 0 1 0 0 0 0 1 1 1 0 2 0 2 0 2 0 2 2 0 0\n",
            " 0 2 1 0 2 1 2 0 2 0 0 1 2 0 1 1 2 0 0 0 1 0 2 1 0 0 0 2 1 1 2 2 1 1 1 0 0\n",
            " 0 1 0 0 2 0 2 0 0 0 0 0 0 0 1 0 0 0 0 0 0 0 0 2 0 0 0 1 0 1 0 0 0 1 0 0 1\n",
            " 1 0 0 1 0 0 0 1 0 1 0 1 0 2 2 2 0 1 0 2 1 2 1 0 0 0 0 0 0 0 1 0 0 1 0 2 2\n",
            " 1 0 0 0 0 2 1 0 0 2 0 0 2 0 0 0 1 1 0 0 1 1 0 1 1 2 0 2 0 0 2 1 0 2 0 0 0\n",
            " 2 0 0 1 2 1 0 1 1 1 0 2 0 0 1 1 1 0 0 0 1 0 1 0 0 0 1 2 0 0 1 0 0 2 0 0 0\n",
            " 2 1 2 0 0 0 0 0 0 2 1 0 0 1 0 1 0 0 0 0 1 0 2 0 1 0 0 0 0 1 0 0 0 0 0 0 2\n",
            " 1 0 1 1 0 1 0 0 2 0 0 1 0 0 0 0 0 0 2 0 1 0 0 0 1 0 0 0 1 1 0 1 1 0 0 2 1\n",
            " 1 0 0 0 1 0 0 0 1 0 2 0 0 1 0 0 2 0 1 0 0 1 2 0 0 2 0 1 1 1 0 0 0 0 0 0 0\n",
            " 1 1 0 0 0 2 0 0 0 0 2 0 0 0 1 0 0 0 0 2 0 2 0 0 2 0 2 1 1 2 0 0 0]\n"
          ]
        }
      ]
    },
    {
      "cell_type": "markdown",
      "source": [
        "## **DEFINING PIPELINE FOR KNN MODEL:**"
      ],
      "metadata": {
        "id": "xyR6JKuHew9a"
      }
    },
    {
      "cell_type": "code",
      "source": [
        "KNNPipeline=Pipeline([(\"myscaler\", StandardScaler()),\n",
        "                    (\"mysmote\", SMOTE()),\n",
        "                    (\"myModel\", KNeighborsClassifier())])"
      ],
      "metadata": {
        "id": "X9BU7OL3dSNZ"
      },
      "execution_count": null,
      "outputs": []
    },
    {
      "cell_type": "markdown",
      "source": [
        "## **DEFINING PIPELINE FOR LOGISTIC REGRESSION MODEL:**"
      ],
      "metadata": {
        "id": "jh8mzlQPe5De"
      }
    },
    {
      "cell_type": "code",
      "source": [
        "LogisticRegressionPipeline=Pipeline([(\"myscaler\", StandardScaler()),\n",
        "                    (\"mysmote\", SMOTE()),\n",
        "                    (\"myModel\", LogisticRegression())])"
      ],
      "metadata": {
        "id": "e3Mewp9ldN66"
      },
      "execution_count": null,
      "outputs": []
    },
    {
      "cell_type": "markdown",
      "source": [
        "## **DEFINING PIPELINE FOR LINEAR REGRESSION MODEL:**"
      ],
      "metadata": {
        "id": "q63SvRLHfLFA"
      }
    },
    {
      "cell_type": "code",
      "source": [
        "LinearRegressionPipeline=Pipeline([(\"myscaler\", StandardScaler()),\n",
        "                    (\"mysmote\", SMOTE()),\n",
        "                    (\"myModel\", LinearRegression())])"
      ],
      "metadata": {
        "id": "f6HNCGQrdJXu"
      },
      "execution_count": null,
      "outputs": []
    },
    {
      "cell_type": "markdown",
      "source": [
        "## **DEFINING PIPELINE FOR DECISION TREE MODEL:**"
      ],
      "metadata": {
        "id": "fMdmUjKLfOqP"
      }
    },
    {
      "cell_type": "code",
      "source": [
        "TreePipeline=Pipeline([(\"myscaler\", StandardScaler()),\n",
        "                    (\"mysmote\", SMOTE()),\n",
        "                    (\"myModel\", DecisionTreeClassifier())])"
      ],
      "metadata": {
        "id": "NFD1CFqjdWec"
      },
      "execution_count": null,
      "outputs": []
    },
    {
      "cell_type": "markdown",
      "source": [
        "## **DEFINING PIPELINE FOR RANDOM FOREST REGRESSION MODEL:**\n"
      ],
      "metadata": {
        "id": "5eO8hW6Vfjk5"
      }
    },
    {
      "cell_type": "code",
      "source": [
        "RandomForestPipeline=Pipeline([(\"myscaler\", StandardScaler()),\n",
        "                    (\"mysmote\", SMOTE()),\n",
        "                    (\"myModel\", RandomForestRegressor())])"
      ],
      "metadata": {
        "id": "hYglT354dWja"
      },
      "execution_count": null,
      "outputs": []
    },
    {
      "cell_type": "markdown",
      "source": [
        "## **DEFINING PIPELINE FOR SVM MODEL:**\n"
      ],
      "metadata": {
        "id": "M3k4_pZTfo55"
      }
    },
    {
      "cell_type": "code",
      "source": [
        "SVMPipeline=Pipeline([(\"myscaler\", StandardScaler()),\n",
        "                    (\"mysmote\", SMOTE()),\n",
        "                    (\"myModel\", SVC())])"
      ],
      "metadata": {
        "id": "q424QpmmdWpK"
      },
      "execution_count": null,
      "outputs": []
    },
    {
      "cell_type": "markdown",
      "source": [
        "## **DEFINING MYPIPELINE AND ADDING ALL MODELS IN IT:**\n"
      ],
      "metadata": {
        "id": "riu5TUIjfwpX"
      }
    },
    {
      "cell_type": "code",
      "source": [
        "mypipeline=[KNNPipeline, LogisticRegressionPipeline, LinearRegressionPipeline, TreePipeline, RandomForestPipeline, SVMPipeline]"
      ],
      "metadata": {
        "id": "49fVxQ_JeXPq"
      },
      "execution_count": null,
      "outputs": []
    },
    {
      "cell_type": "markdown",
      "source": [
        "## **DEFINING INITIAL SCORE AS ZERO**\n"
      ],
      "metadata": {
        "id": "kehkokFtf6Gf"
      }
    },
    {
      "cell_type": "code",
      "source": [
        "accuracy=0.0\n",
        "classifier=0\n",
        "pipeline=\"\""
      ],
      "metadata": {
        "id": "DD0en_47df3S"
      },
      "execution_count": null,
      "outputs": []
    },
    {
      "cell_type": "markdown",
      "source": [
        "## **ASSIGNING NUMBERICAL VALUE TO EACH MODEL VARIABLE, AND USING FOR LOOP TO FIT PIPELINE TO ALL MODELS:**"
      ],
      "metadata": {
        "id": "hWidgwQFf_g3"
      }
    },
    {
      "cell_type": "code",
      "source": [
        "PipelineDict={0: \"KNNPipeline\", 1:\"LogisticRegressionPipeline\", 2:\"LinearRegressionPipeline\", 3:\"TreePipeline\", 4: \"RandomForestPipeline\", 5: \"SVMPipeline\"}\n",
        "for mypipe in mypipeline:\n",
        "  mypipe.fit(x9_train, encoded_y9)"
      ],
      "metadata": {
        "id": "GnRDv8Nldm_v"
      },
      "execution_count": null,
      "outputs": []
    },
    {
      "cell_type": "markdown",
      "source": [
        "## **USING FOR LOOP TO FIND SCORE OF ALL MODELS>**"
      ],
      "metadata": {
        "id": "8E8zmaFbgSk3"
      }
    },
    {
      "cell_type": "code",
      "source": [
        "for i, model in enumerate(mypipeline):\n",
        "  print(\"{} Test Accuracy: {}\".format(PipelineDict[i], model.score(x9_test, encoded_y9t)))"
      ],
      "metadata": {
        "colab": {
          "base_uri": "https://localhost:8080/"
        },
        "id": "uTW4vjNMdpfB",
        "outputId": "fcec4389-ac8a-4cc2-f1ea-8af88f1698da"
      },
      "execution_count": null,
      "outputs": [
        {
          "output_type": "stream",
          "name": "stdout",
          "text": [
            "KNNPipeline Test Accuracy: 0.9861905851834898\n",
            "LogisticRegressionPipeline Test Accuracy: 0.9205767910276951\n",
            "LinearRegressionPipeline Test Accuracy: -0.3302133370851612\n",
            "TreePipeline Test Accuracy: 0.9970244907301442\n",
            "RandomForestPipeline Test Accuracy: 0.9900361603117543\n",
            "SVMPipeline Test Accuracy: 0.9458304722667277\n"
          ]
        }
      ]
    },
    {
      "cell_type": "markdown",
      "source": [
        "## **DISPLAYING SHAPE OF TRAIN AND TEST INPUT & OUTPUT**"
      ],
      "metadata": {
        "id": "uXFeDfV-gcJd"
      }
    },
    {
      "cell_type": "code",
      "source": [
        "x9_train.shape, x9_test.shape,encoded_y9.shape, encoded_y9t.shape"
      ],
      "metadata": {
        "colab": {
          "base_uri": "https://localhost:8080/"
        },
        "id": "T18jhtrqdrlQ",
        "outputId": "725b130f-c144-4de9-bc7f-8f6016e15783"
      },
      "execution_count": null,
      "outputs": [
        {
          "output_type": "execute_result",
          "data": {
            "text/plain": [
              "((52425, 11), (13107, 11), (52425,), (13107,))"
            ]
          },
          "metadata": {},
          "execution_count": 100
        }
      ]
    },
    {
      "cell_type": "markdown",
      "source": [
        "## **USING FOR LOOP TO SELECT BEST MODEL IN PIPELINE**"
      ],
      "metadata": {
        "id": "UwyTfFM7gvXE"
      }
    },
    {
      "cell_type": "code",
      "source": [
        "for i, model in enumerate(mypipeline):\n",
        "  if (model.score(x9_test, encoded_y9t))>accuracy:\n",
        "    accuracy=model.score(x9_test, encoded_y9t)\n",
        "    pipeline=model\n",
        "    classifier=i\n",
        "print(\"Best Model in Pipeline is:{}\".format(PipelineDict[classifier]))"
      ],
      "metadata": {
        "colab": {
          "base_uri": "https://localhost:8080/"
        },
        "id": "iJ6_j9l_duPQ",
        "outputId": "d82afd6d-6d6a-47a2-bf9b-be3c3e000163"
      },
      "execution_count": null,
      "outputs": [
        {
          "output_type": "stream",
          "name": "stdout",
          "text": [
            "Best Model in Pipeline is:TreePipeline\n"
          ]
        }
      ]
    },
    {
      "cell_type": "code",
      "source": [],
      "metadata": {
        "id": "MlIehEjZ_Z-h"
      },
      "execution_count": null,
      "outputs": []
    }
  ]
}